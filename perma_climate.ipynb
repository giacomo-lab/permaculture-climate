{
 "cells": [
  {
   "cell_type": "code",
   "execution_count": 73,
   "metadata": {},
   "outputs": [],
   "source": [
    "import cdsapi\n",
    "import requests\n",
    "import os"
   ]
  },
  {
   "cell_type": "code",
   "execution_count": null,
   "metadata": {},
   "outputs": [],
   "source": [
    "#What a permaculture project need to know when they start"
   ]
  },
  {
   "cell_type": "code",
   "execution_count": 74,
   "metadata": {},
   "outputs": [
    {
     "name": "stdout",
     "output_type": "stream",
     "text": [
      "[1992, 1993, 1994, 1995, 1996, 1997, 1998, 1999, 2000, 2001, 2002, 2003, 2004, 2005, 2006, 2007, 2008, 2009, 2010, 2011, 2012, 2013, 2014, 2015, 2016, 2017, 2018, 2019, 2020, 2021, 2022]\n"
     ]
    },
    {
     "name": "stderr",
     "output_type": "stream",
     "text": [
      "2023-11-24 10:43:49,887 INFO Welcome to the CDS\n",
      "2023-11-24 10:43:49,888 INFO Sending request to https://cds.climate.copernicus.eu/api/v2/resources/reanalysis-era5-single-levels-monthly-means\n",
      "2023-11-24 10:43:50,054 INFO Request is queued\n",
      "2023-11-24 10:43:52,646 INFO Request is running\n",
      "2023-11-24 11:50:13,895 INFO Request is completed\n"
     ]
    },
    {
     "name": "stdout",
     "output_type": "stream",
     "text": [
      "File saved at: /Users/giacomo/Documents/projects/permaculture-climate/download.grib\n"
     ]
    }
   ],
   "source": [
    "import time\n",
    "from geopy.geocoders import Nominatim\n",
    "\n",
    "# select the years you want to download:\n",
    "start_year = 1992\n",
    "end_year = 2022\n",
    "year_range = [i for i in range(start_year, end_year + 1)]\n",
    "print(year_range)\n",
    "\n",
    "# Use geopy to get the latitude and longitude of the city\n",
    "geolocator = Nominatim(user_agent=\"permaculture-climate\")\n",
    "location = geolocator.geocode(\"Puebla de don Fadrique, Spain\")\n",
    "# Add a delay between requests\n",
    "time.sleep(1)\n",
    "\n",
    "c = cdsapi.Client()\n",
    "try:\n",
    "    data = c.retrieve(\"reanalysis-era5-single-levels-monthly-means\",\n",
    "    {\"format\": \"grib\",\n",
    "     \"product_type\": \"monthly_averaged_reanalysis_by_hour_of_day\",\n",
    "     \"variable\": ['10m_u_component_of_wind', '10m_v_component_of_wind', \n",
    "                '2m_temperature',\n",
    "                'snowfall', \n",
    "                'soil_temperature_level_1', \n",
    "                'soil_type',\n",
    "                'total_cloud_cover', \n",
    "                'total_precipitation',\n",
    "                ],\n",
    "    \"area\": [location.latitude + 1, \n",
    "             location.longitude - 1, \n",
    "             location.latitude - 1, \n",
    "             location.longitude + 1],  # North, West, South, East. \n",
    "    \"year\": year_range,\n",
    "    \"month\": ['01', '02', '03',\n",
    "           '04', '05', '06',\n",
    "           '07', '08', '09',\n",
    "           '10', '11', '12'],\n",
    "    \"time\": [\"00:00\",\"01:00\",\"02:00\",\"03:00\",\"04:00\",\"05:00\",\n",
    "             \"06:00\",\"07:00\",\"08:00\",\"09:00\",\"10:00\",\"11:00\",\n",
    "             \"12:00\", \"13:00\",\"14:00\",\"15:00\",\"16:00\",\"17:00\",\n",
    "             \"18:00\",\"19:00\",\"20:00\",\"21:00\",\"22:00\",\"23:00\"]\n",
    "    })\n",
    "\n",
    "    # Get the location of the file to download\n",
    "    url = data.location\n",
    "\n",
    "    # Download the file\n",
    "    response = requests.get(url)\n",
    "\n",
    "    # Check if the request was successful\n",
    "    response.raise_for_status()\n",
    "\n",
    "except requests.exceptions.HTTPError as errh:\n",
    "    print (\"HTTP Error:\",errh)\n",
    "except requests.exceptions.ConnectionError as errc:\n",
    "    print (\"Error Connecting:\",errc)\n",
    "except requests.exceptions.Timeout as errt:\n",
    "    print (\"Timeout Error:\",errt)\n",
    "except requests.exceptions.RequestException as err:\n",
    "    print (\"Something went wrong with the request:\",err)\n",
    "\n",
    "else:\n",
    "    # If the request was successful, write the file\n",
    "    filename = 'download.grib'\n",
    "    with open(filename, 'wb') as f:\n",
    "        f.write(response.content)\n",
    "\n",
    "    # Print the location where the file is saved\n",
    "    print(f\"File saved at: {os.path.abspath(filename)}\")"
   ]
  },
  {
   "cell_type": "code",
   "execution_count": null,
   "metadata": {},
   "outputs": [],
   "source": [
    "#temperatura durante l'anno \n",
    "#precipitaciones durante l'anno\n",
    "#vento durante l'anno (rosa dei venti)"
   ]
  },
  {
   "cell_type": "code",
   "execution_count": 76,
   "metadata": {},
   "outputs": [
    {
     "name": "stdout",
     "output_type": "stream",
     "text": [
      "['Snowfall', '2 metre temperature', '10 metre U wind component', 'Soil type', '10 metre V wind component', 'Total cloud cover', 'Soil temperature level 1', 'Total precipitation']\n"
     ]
    }
   ],
   "source": [
    "#use pygrib to read the variables names\n",
    "import pygrib\n",
    "\n",
    "# Open the GRIB file\n",
    "grbs = pygrib.open('download.grib')\n",
    "\n",
    "# Read the names of the variables\n",
    "variable_names = [grb.name for grb in grbs]\n",
    "\n",
    "# Convert the set to a list\n",
    "unique_variable_names = list(set(variable_names))\n",
    "\n",
    "# Print the variable names\n",
    "print(unique_variable_names)\n"
   ]
  },
  {
   "cell_type": "code",
   "execution_count": 77,
   "metadata": {},
   "outputs": [
    {
     "name": "stderr",
     "output_type": "stream",
     "text": [
      "Ignoring index file 'download.grib.dc8f2.idx' older than GRIB file\n",
      "Ignoring index file 'download.grib.dc8f2.idx' older than GRIB file\n",
      "Ignoring index file 'download.grib.dc8f2.idx' older than GRIB file\n",
      "Ignoring index file 'download.grib.dc8f2.idx' older than GRIB file\n",
      "Ignoring index file 'download.grib.dc8f2.idx' older than GRIB file\n",
      "Ignoring index file 'download.grib.dc8f2.idx' older than GRIB file\n",
      "Ignoring index file 'download.grib.dc8f2.idx' older than GRIB file\n",
      "Ignoring index file 'download.grib.dc8f2.idx' older than GRIB file\n"
     ]
    },
    {
     "name": "stdout",
     "output_type": "stream",
     "text": [
      "Total cloud cover:\n",
      "<xarray.Dataset>\n",
      "Dimensions:  ()\n",
      "Data variables:\n",
      "    *empty*\n",
      "Attributes:\n",
      "    Conventions:  CF-1.7\n",
      "    history:      2023-11-24T11:59 GRIB to CDM+CF via cfgrib-0.9.10.4/ecCodes...\n",
      "\n",
      "\n",
      "Soil temperature level 1:\n",
      "<xarray.Dataset>\n",
      "Dimensions:              (time: 8928, latitude: 9, longitude: 9)\n",
      "Coordinates:\n",
      "    number               int64 ...\n",
      "  * time                 (time) datetime64[ns] 1992-01-01 ... 2022-12-01T23:0...\n",
      "    step                 timedelta64[ns] ...\n",
      "    depthBelowLandLayer  float64 ...\n",
      "  * latitude             (latitude) float64 38.96 38.71 38.46 ... 37.21 36.96\n",
      "  * longitude            (longitude) float64 -3.435 -3.185 ... -1.684 358.6\n",
      "    valid_time           (time) datetime64[ns] ...\n",
      "Data variables:\n",
      "    stl1                 (time, latitude, longitude) float32 ...\n",
      "Attributes:\n",
      "    GRIB_edition:            1\n",
      "    GRIB_centre:             ecmf\n",
      "    GRIB_centreDescription:  European Centre for Medium-Range Weather Forecasts\n",
      "    GRIB_subCentre:          0\n",
      "    Conventions:             CF-1.7\n",
      "    institution:             European Centre for Medium-Range Weather Forecasts\n",
      "    history:                 2023-11-24T12:00 GRIB to CDM+CF via cfgrib-0.9.1...\n",
      "\n",
      "\n",
      "10 metre V wind component:\n",
      "<xarray.Dataset>\n",
      "Dimensions:     (time: 8928, latitude: 9, longitude: 9)\n",
      "Coordinates:\n",
      "    number      int64 ...\n",
      "  * time        (time) datetime64[ns] 1992-01-01 ... 2022-12-01T23:00:00\n",
      "    step        timedelta64[ns] ...\n",
      "    surface     float64 ...\n",
      "  * latitude    (latitude) float64 38.96 38.71 38.46 38.21 ... 37.46 37.21 36.96\n",
      "  * longitude   (longitude) float64 -3.435 -3.185 -2.935 ... -1.934 -1.684 358.6\n",
      "    valid_time  (time) datetime64[ns] ...\n",
      "Data variables:\n",
      "    v10         (time, latitude, longitude) float32 ...\n",
      "Attributes:\n",
      "    GRIB_edition:            1\n",
      "    GRIB_centre:             ecmf\n",
      "    GRIB_centreDescription:  European Centre for Medium-Range Weather Forecasts\n",
      "    GRIB_subCentre:          0\n",
      "    Conventions:             CF-1.7\n",
      "    institution:             European Centre for Medium-Range Weather Forecasts\n",
      "    history:                 2023-11-24T12:00 GRIB to CDM+CF via cfgrib-0.9.1...\n",
      "\n",
      "\n",
      "2 metre temperature:\n",
      "<xarray.Dataset>\n",
      "Dimensions:     (time: 8928, latitude: 9, longitude: 9)\n",
      "Coordinates:\n",
      "    number      int64 ...\n",
      "  * time        (time) datetime64[ns] 1992-01-01 ... 2022-12-01T23:00:00\n",
      "    step        timedelta64[ns] ...\n",
      "    surface     float64 ...\n",
      "  * latitude    (latitude) float64 38.96 38.71 38.46 38.21 ... 37.46 37.21 36.96\n",
      "  * longitude   (longitude) float64 -3.435 -3.185 -2.935 ... -1.934 -1.684 358.6\n",
      "    valid_time  (time) datetime64[ns] ...\n",
      "Data variables:\n",
      "    t2m         (time, latitude, longitude) float32 ...\n",
      "Attributes:\n",
      "    GRIB_edition:            1\n",
      "    GRIB_centre:             ecmf\n",
      "    GRIB_centreDescription:  European Centre for Medium-Range Weather Forecasts\n",
      "    GRIB_subCentre:          0\n",
      "    Conventions:             CF-1.7\n",
      "    institution:             European Centre for Medium-Range Weather Forecasts\n",
      "    history:                 2023-11-24T12:01 GRIB to CDM+CF via cfgrib-0.9.1...\n",
      "\n",
      "\n",
      "Soil type:\n",
      "<xarray.Dataset>\n",
      "Dimensions:     (time: 8928, latitude: 9, longitude: 9)\n",
      "Coordinates:\n",
      "    number      int64 ...\n",
      "  * time        (time) datetime64[ns] 1992-01-01 ... 2022-12-01T23:00:00\n",
      "    step        timedelta64[ns] ...\n",
      "    surface     float64 ...\n",
      "  * latitude    (latitude) float64 38.96 38.71 38.46 38.21 ... 37.46 37.21 36.96\n",
      "  * longitude   (longitude) float64 -3.435 -3.185 -2.935 ... -1.934 -1.684 358.6\n",
      "    valid_time  (time) datetime64[ns] ...\n",
      "Data variables:\n",
      "    slt         (time, latitude, longitude) float32 ...\n",
      "Attributes:\n",
      "    GRIB_edition:            1\n",
      "    GRIB_centre:             ecmf\n",
      "    GRIB_centreDescription:  European Centre for Medium-Range Weather Forecasts\n",
      "    GRIB_subCentre:          0\n",
      "    Conventions:             CF-1.7\n",
      "    institution:             European Centre for Medium-Range Weather Forecasts\n",
      "    history:                 2023-11-24T12:02 GRIB to CDM+CF via cfgrib-0.9.1...\n",
      "\n",
      "\n",
      "Total precipitation:\n",
      "<xarray.Dataset>\n",
      "Dimensions:     (time: 1116, step: 12, latitude: 9, longitude: 9)\n",
      "Coordinates:\n",
      "    number      int64 ...\n",
      "  * time        (time) datetime64[ns] 1991-12-31T18:00:00 ... 2022-12-01T18:0...\n",
      "  * step        (step) timedelta64[ns] 01:00:00 02:00:00 ... 11:00:00 12:00:00\n",
      "    surface     float64 ...\n",
      "  * latitude    (latitude) float64 38.96 38.71 38.46 38.21 ... 37.46 37.21 36.96\n",
      "  * longitude   (longitude) float64 -3.435 -3.185 -2.935 ... -1.934 -1.684 358.6\n",
      "    valid_time  (time, step) datetime64[ns] ...\n",
      "Data variables:\n",
      "    tp          (time, step, latitude, longitude) float32 ...\n",
      "Attributes:\n",
      "    GRIB_edition:            1\n",
      "    GRIB_centre:             ecmf\n",
      "    GRIB_centreDescription:  European Centre for Medium-Range Weather Forecasts\n",
      "    GRIB_subCentre:          0\n",
      "    Conventions:             CF-1.7\n",
      "    institution:             European Centre for Medium-Range Weather Forecasts\n",
      "    history:                 2023-11-24T12:02 GRIB to CDM+CF via cfgrib-0.9.1...\n",
      "\n",
      "\n",
      "10 metre U wind component:\n",
      "<xarray.Dataset>\n",
      "Dimensions:     (time: 8928, latitude: 9, longitude: 9)\n",
      "Coordinates:\n",
      "    number      int64 ...\n",
      "  * time        (time) datetime64[ns] 1992-01-01 ... 2022-12-01T23:00:00\n",
      "    step        timedelta64[ns] ...\n",
      "    surface     float64 ...\n",
      "  * latitude    (latitude) float64 38.96 38.71 38.46 38.21 ... 37.46 37.21 36.96\n",
      "  * longitude   (longitude) float64 -3.435 -3.185 -2.935 ... -1.934 -1.684 358.6\n",
      "    valid_time  (time) datetime64[ns] ...\n",
      "Data variables:\n",
      "    u10         (time, latitude, longitude) float32 ...\n",
      "Attributes:\n",
      "    GRIB_edition:            1\n",
      "    GRIB_centre:             ecmf\n",
      "    GRIB_centreDescription:  European Centre for Medium-Range Weather Forecasts\n",
      "    GRIB_subCentre:          0\n",
      "    Conventions:             CF-1.7\n",
      "    institution:             European Centre for Medium-Range Weather Forecasts\n",
      "    history:                 2023-11-24T12:03 GRIB to CDM+CF via cfgrib-0.9.1...\n",
      "\n",
      "\n",
      "Snowfall:\n",
      "<xarray.Dataset>\n",
      "Dimensions:     (time: 1116, step: 12, latitude: 9, longitude: 9)\n",
      "Coordinates:\n",
      "    number      int64 ...\n",
      "  * time        (time) datetime64[ns] 1991-12-31T18:00:00 ... 2022-12-01T18:0...\n",
      "  * step        (step) timedelta64[ns] 01:00:00 02:00:00 ... 11:00:00 12:00:00\n",
      "    surface     float64 ...\n",
      "  * latitude    (latitude) float64 38.96 38.71 38.46 38.21 ... 37.46 37.21 36.96\n",
      "  * longitude   (longitude) float64 -3.435 -3.185 -2.935 ... -1.934 -1.684 358.6\n",
      "    valid_time  (time, step) datetime64[ns] ...\n",
      "Data variables:\n",
      "    sf          (time, step, latitude, longitude) float32 ...\n",
      "Attributes:\n",
      "    GRIB_edition:            1\n",
      "    GRIB_centre:             ecmf\n",
      "    GRIB_centreDescription:  European Centre for Medium-Range Weather Forecasts\n",
      "    GRIB_subCentre:          0\n",
      "    Conventions:             CF-1.7\n",
      "    institution:             European Centre for Medium-Range Weather Forecasts\n",
      "    history:                 2023-11-24T12:03 GRIB to CDM+CF via cfgrib-0.9.1...\n",
      "\n",
      "\n"
     ]
    }
   ],
   "source": [
    "import xarray as xr\n",
    "\n",
    "# List of variables to load\n",
    "variables = ['Total cloud cover', 'Soil temperature level 1', '10 metre V wind component', \n",
    "             '2 metre temperature', 'Soil type', 'Total precipitation', '10 metre U wind component', 'Snowfall']\n",
    "\n",
    "# Dictionary to hold the datasets\n",
    "datasets = {}\n",
    "\n",
    "# Open the GRIB file for each variable\n",
    "for var in variables:\n",
    "    ds = xr.open_dataset('download.grib', engine='cfgrib', backend_kwargs={'filter_by_keys': {'parameterName': var}})\n",
    "    datasets[var] = ds\n",
    "\n",
    "# Print the datasets\n",
    "for var, ds in datasets.items():\n",
    "    print(f\"{var}:\")\n",
    "    print(ds)\n",
    "    print(\"\\n\")\n"
   ]
  },
  {
   "cell_type": "code",
   "execution_count": 148,
   "metadata": {},
   "outputs": [
    {
     "name": "stdout",
     "output_type": "stream",
     "text": [
      "Units for Total precipitation: m s**-1\n"
     ]
    }
   ],
   "source": [
    "# Print the units for 'Total precipitation'\n",
    "print(f\"Units for Total precipitation: {datasets['10 metre U wind component']['u10'].units}\")"
   ]
  },
  {
   "cell_type": "code",
   "execution_count": 79,
   "metadata": {},
   "outputs": [
    {
     "name": "stdout",
     "output_type": "stream",
     "text": [
      "All time values for Total precipitation are 6 or 18.\n"
     ]
    },
    {
     "data": {
      "text/plain": [
       "1116"
      ]
     },
     "execution_count": 79,
     "metadata": {},
     "output_type": "execute_result"
    }
   ],
   "source": [
    "import pandas as pd\n",
    "# Check if the time values for Total precipitation are always 6 and 18\n",
    "time_values = pd.to_datetime(datasets['Total precipitation']['time'].values)\n",
    "valid_times = [time for time in time_values if time.hour not in [6, 18]]\n",
    "\n",
    "# Print the result\n",
    "if valid_times:\n",
    "    print(f\"The following time values for Total precipitation are not 6 or 18: {valid_times}\")\n",
    "else:\n",
    "    print(\"All time values for Total precipitation are 6 or 18.\")\n",
    "\n",
    "len(time_values)\n"
   ]
  },
  {
   "cell_type": "code",
   "execution_count": 80,
   "metadata": {},
   "outputs": [
    {
     "name": "stdout",
     "output_type": "stream",
     "text": [
      "('month',)\n",
      "('month',)\n"
     ]
    }
   ],
   "source": [
    "# Calculate the climatology and average over latitude and longitude\n",
    "precip_climatology = datasets['Total precipitation']['tp'].groupby('time.month').mean(['time', 'latitude', 'longitude', 'step'])*1000\n",
    "# Calculate the average, maximum, and minimum temperature\n",
    "avg_temp = datasets['2 metre temperature']['t2m'].groupby('time.month').mean(['time', 'latitude', 'longitude'])-273.15\n",
    "max_temp = datasets['2 metre temperature']['t2m'].groupby('time.month').max(['time', 'latitude', 'longitude'])-273.15\n",
    "min_temp = datasets['2 metre temperature']['t2m'].groupby('time.month').min(['time', 'latitude', 'longitude'])-273.15\n",
    "\n",
    "#check the diemsnsions of the data\n",
    "print(avg_temp.dims)\n",
    "print(precip_climatology.dims)\n"
   ]
  },
  {
   "cell_type": "code",
   "execution_count": 81,
   "metadata": {},
   "outputs": [
    {
     "data": {
      "application/vnd.plotly.v1+json": {
       "config": {
        "plotlyServerURL": "https://plot.ly"
       },
       "data": [
        {
         "name": "Precipitation",
         "type": "bar",
         "x": [
          1,
          2,
          3,
          4,
          5,
          6,
          7,
          8,
          9,
          10,
          11,
          12
         ],
         "y": [
          0.055165890604257584,
          0.05832633748650551,
          0.06821738928556442,
          0.06609337031841278,
          0.054501719772815704,
          0.02501826360821724,
          0.010471913032233715,
          0.026852484792470932,
          0.056085411459207535,
          0.06266073882579803,
          0.06665980070829391,
          0.06412637233734131
         ],
         "yaxis": "y2"
        },
        {
         "mode": "lines",
         "name": "Temperature",
         "type": "scatter",
         "x": [
          1,
          2,
          3,
          4,
          5,
          6,
          7,
          8,
          9,
          10,
          11,
          12
         ],
         "y": [
          6.963714599609375,
          8.2603759765625,
          10.694061279296875,
          13.134124755859375,
          17.231048583984375,
          21.95220947265625,
          25.36083984375,
          25.128173828125,
          20.707366943359375,
          16.20654296875,
          10.707244873046875,
          7.985382080078125
         ]
        }
       ],
       "layout": {
        "template": {
         "data": {
          "bar": [
           {
            "error_x": {
             "color": "#2a3f5f"
            },
            "error_y": {
             "color": "#2a3f5f"
            },
            "marker": {
             "line": {
              "color": "#E5ECF6",
              "width": 0.5
             },
             "pattern": {
              "fillmode": "overlay",
              "size": 10,
              "solidity": 0.2
             }
            },
            "type": "bar"
           }
          ],
          "barpolar": [
           {
            "marker": {
             "line": {
              "color": "#E5ECF6",
              "width": 0.5
             },
             "pattern": {
              "fillmode": "overlay",
              "size": 10,
              "solidity": 0.2
             }
            },
            "type": "barpolar"
           }
          ],
          "carpet": [
           {
            "aaxis": {
             "endlinecolor": "#2a3f5f",
             "gridcolor": "white",
             "linecolor": "white",
             "minorgridcolor": "white",
             "startlinecolor": "#2a3f5f"
            },
            "baxis": {
             "endlinecolor": "#2a3f5f",
             "gridcolor": "white",
             "linecolor": "white",
             "minorgridcolor": "white",
             "startlinecolor": "#2a3f5f"
            },
            "type": "carpet"
           }
          ],
          "choropleth": [
           {
            "colorbar": {
             "outlinewidth": 0,
             "ticks": ""
            },
            "type": "choropleth"
           }
          ],
          "contour": [
           {
            "colorbar": {
             "outlinewidth": 0,
             "ticks": ""
            },
            "colorscale": [
             [
              0,
              "#0d0887"
             ],
             [
              0.1111111111111111,
              "#46039f"
             ],
             [
              0.2222222222222222,
              "#7201a8"
             ],
             [
              0.3333333333333333,
              "#9c179e"
             ],
             [
              0.4444444444444444,
              "#bd3786"
             ],
             [
              0.5555555555555556,
              "#d8576b"
             ],
             [
              0.6666666666666666,
              "#ed7953"
             ],
             [
              0.7777777777777778,
              "#fb9f3a"
             ],
             [
              0.8888888888888888,
              "#fdca26"
             ],
             [
              1,
              "#f0f921"
             ]
            ],
            "type": "contour"
           }
          ],
          "contourcarpet": [
           {
            "colorbar": {
             "outlinewidth": 0,
             "ticks": ""
            },
            "type": "contourcarpet"
           }
          ],
          "heatmap": [
           {
            "colorbar": {
             "outlinewidth": 0,
             "ticks": ""
            },
            "colorscale": [
             [
              0,
              "#0d0887"
             ],
             [
              0.1111111111111111,
              "#46039f"
             ],
             [
              0.2222222222222222,
              "#7201a8"
             ],
             [
              0.3333333333333333,
              "#9c179e"
             ],
             [
              0.4444444444444444,
              "#bd3786"
             ],
             [
              0.5555555555555556,
              "#d8576b"
             ],
             [
              0.6666666666666666,
              "#ed7953"
             ],
             [
              0.7777777777777778,
              "#fb9f3a"
             ],
             [
              0.8888888888888888,
              "#fdca26"
             ],
             [
              1,
              "#f0f921"
             ]
            ],
            "type": "heatmap"
           }
          ],
          "heatmapgl": [
           {
            "colorbar": {
             "outlinewidth": 0,
             "ticks": ""
            },
            "colorscale": [
             [
              0,
              "#0d0887"
             ],
             [
              0.1111111111111111,
              "#46039f"
             ],
             [
              0.2222222222222222,
              "#7201a8"
             ],
             [
              0.3333333333333333,
              "#9c179e"
             ],
             [
              0.4444444444444444,
              "#bd3786"
             ],
             [
              0.5555555555555556,
              "#d8576b"
             ],
             [
              0.6666666666666666,
              "#ed7953"
             ],
             [
              0.7777777777777778,
              "#fb9f3a"
             ],
             [
              0.8888888888888888,
              "#fdca26"
             ],
             [
              1,
              "#f0f921"
             ]
            ],
            "type": "heatmapgl"
           }
          ],
          "histogram": [
           {
            "marker": {
             "pattern": {
              "fillmode": "overlay",
              "size": 10,
              "solidity": 0.2
             }
            },
            "type": "histogram"
           }
          ],
          "histogram2d": [
           {
            "colorbar": {
             "outlinewidth": 0,
             "ticks": ""
            },
            "colorscale": [
             [
              0,
              "#0d0887"
             ],
             [
              0.1111111111111111,
              "#46039f"
             ],
             [
              0.2222222222222222,
              "#7201a8"
             ],
             [
              0.3333333333333333,
              "#9c179e"
             ],
             [
              0.4444444444444444,
              "#bd3786"
             ],
             [
              0.5555555555555556,
              "#d8576b"
             ],
             [
              0.6666666666666666,
              "#ed7953"
             ],
             [
              0.7777777777777778,
              "#fb9f3a"
             ],
             [
              0.8888888888888888,
              "#fdca26"
             ],
             [
              1,
              "#f0f921"
             ]
            ],
            "type": "histogram2d"
           }
          ],
          "histogram2dcontour": [
           {
            "colorbar": {
             "outlinewidth": 0,
             "ticks": ""
            },
            "colorscale": [
             [
              0,
              "#0d0887"
             ],
             [
              0.1111111111111111,
              "#46039f"
             ],
             [
              0.2222222222222222,
              "#7201a8"
             ],
             [
              0.3333333333333333,
              "#9c179e"
             ],
             [
              0.4444444444444444,
              "#bd3786"
             ],
             [
              0.5555555555555556,
              "#d8576b"
             ],
             [
              0.6666666666666666,
              "#ed7953"
             ],
             [
              0.7777777777777778,
              "#fb9f3a"
             ],
             [
              0.8888888888888888,
              "#fdca26"
             ],
             [
              1,
              "#f0f921"
             ]
            ],
            "type": "histogram2dcontour"
           }
          ],
          "mesh3d": [
           {
            "colorbar": {
             "outlinewidth": 0,
             "ticks": ""
            },
            "type": "mesh3d"
           }
          ],
          "parcoords": [
           {
            "line": {
             "colorbar": {
              "outlinewidth": 0,
              "ticks": ""
             }
            },
            "type": "parcoords"
           }
          ],
          "pie": [
           {
            "automargin": true,
            "type": "pie"
           }
          ],
          "scatter": [
           {
            "fillpattern": {
             "fillmode": "overlay",
             "size": 10,
             "solidity": 0.2
            },
            "type": "scatter"
           }
          ],
          "scatter3d": [
           {
            "line": {
             "colorbar": {
              "outlinewidth": 0,
              "ticks": ""
             }
            },
            "marker": {
             "colorbar": {
              "outlinewidth": 0,
              "ticks": ""
             }
            },
            "type": "scatter3d"
           }
          ],
          "scattercarpet": [
           {
            "marker": {
             "colorbar": {
              "outlinewidth": 0,
              "ticks": ""
             }
            },
            "type": "scattercarpet"
           }
          ],
          "scattergeo": [
           {
            "marker": {
             "colorbar": {
              "outlinewidth": 0,
              "ticks": ""
             }
            },
            "type": "scattergeo"
           }
          ],
          "scattergl": [
           {
            "marker": {
             "colorbar": {
              "outlinewidth": 0,
              "ticks": ""
             }
            },
            "type": "scattergl"
           }
          ],
          "scattermapbox": [
           {
            "marker": {
             "colorbar": {
              "outlinewidth": 0,
              "ticks": ""
             }
            },
            "type": "scattermapbox"
           }
          ],
          "scatterpolar": [
           {
            "marker": {
             "colorbar": {
              "outlinewidth": 0,
              "ticks": ""
             }
            },
            "type": "scatterpolar"
           }
          ],
          "scatterpolargl": [
           {
            "marker": {
             "colorbar": {
              "outlinewidth": 0,
              "ticks": ""
             }
            },
            "type": "scatterpolargl"
           }
          ],
          "scatterternary": [
           {
            "marker": {
             "colorbar": {
              "outlinewidth": 0,
              "ticks": ""
             }
            },
            "type": "scatterternary"
           }
          ],
          "surface": [
           {
            "colorbar": {
             "outlinewidth": 0,
             "ticks": ""
            },
            "colorscale": [
             [
              0,
              "#0d0887"
             ],
             [
              0.1111111111111111,
              "#46039f"
             ],
             [
              0.2222222222222222,
              "#7201a8"
             ],
             [
              0.3333333333333333,
              "#9c179e"
             ],
             [
              0.4444444444444444,
              "#bd3786"
             ],
             [
              0.5555555555555556,
              "#d8576b"
             ],
             [
              0.6666666666666666,
              "#ed7953"
             ],
             [
              0.7777777777777778,
              "#fb9f3a"
             ],
             [
              0.8888888888888888,
              "#fdca26"
             ],
             [
              1,
              "#f0f921"
             ]
            ],
            "type": "surface"
           }
          ],
          "table": [
           {
            "cells": {
             "fill": {
              "color": "#EBF0F8"
             },
             "line": {
              "color": "white"
             }
            },
            "header": {
             "fill": {
              "color": "#C8D4E3"
             },
             "line": {
              "color": "white"
             }
            },
            "type": "table"
           }
          ]
         },
         "layout": {
          "annotationdefaults": {
           "arrowcolor": "#2a3f5f",
           "arrowhead": 0,
           "arrowwidth": 1
          },
          "autotypenumbers": "strict",
          "coloraxis": {
           "colorbar": {
            "outlinewidth": 0,
            "ticks": ""
           }
          },
          "colorscale": {
           "diverging": [
            [
             0,
             "#8e0152"
            ],
            [
             0.1,
             "#c51b7d"
            ],
            [
             0.2,
             "#de77ae"
            ],
            [
             0.3,
             "#f1b6da"
            ],
            [
             0.4,
             "#fde0ef"
            ],
            [
             0.5,
             "#f7f7f7"
            ],
            [
             0.6,
             "#e6f5d0"
            ],
            [
             0.7,
             "#b8e186"
            ],
            [
             0.8,
             "#7fbc41"
            ],
            [
             0.9,
             "#4d9221"
            ],
            [
             1,
             "#276419"
            ]
           ],
           "sequential": [
            [
             0,
             "#0d0887"
            ],
            [
             0.1111111111111111,
             "#46039f"
            ],
            [
             0.2222222222222222,
             "#7201a8"
            ],
            [
             0.3333333333333333,
             "#9c179e"
            ],
            [
             0.4444444444444444,
             "#bd3786"
            ],
            [
             0.5555555555555556,
             "#d8576b"
            ],
            [
             0.6666666666666666,
             "#ed7953"
            ],
            [
             0.7777777777777778,
             "#fb9f3a"
            ],
            [
             0.8888888888888888,
             "#fdca26"
            ],
            [
             1,
             "#f0f921"
            ]
           ],
           "sequentialminus": [
            [
             0,
             "#0d0887"
            ],
            [
             0.1111111111111111,
             "#46039f"
            ],
            [
             0.2222222222222222,
             "#7201a8"
            ],
            [
             0.3333333333333333,
             "#9c179e"
            ],
            [
             0.4444444444444444,
             "#bd3786"
            ],
            [
             0.5555555555555556,
             "#d8576b"
            ],
            [
             0.6666666666666666,
             "#ed7953"
            ],
            [
             0.7777777777777778,
             "#fb9f3a"
            ],
            [
             0.8888888888888888,
             "#fdca26"
            ],
            [
             1,
             "#f0f921"
            ]
           ]
          },
          "colorway": [
           "#636efa",
           "#EF553B",
           "#00cc96",
           "#ab63fa",
           "#FFA15A",
           "#19d3f3",
           "#FF6692",
           "#B6E880",
           "#FF97FF",
           "#FECB52"
          ],
          "font": {
           "color": "#2a3f5f"
          },
          "geo": {
           "bgcolor": "white",
           "lakecolor": "white",
           "landcolor": "#E5ECF6",
           "showlakes": true,
           "showland": true,
           "subunitcolor": "white"
          },
          "hoverlabel": {
           "align": "left"
          },
          "hovermode": "closest",
          "mapbox": {
           "style": "light"
          },
          "paper_bgcolor": "white",
          "plot_bgcolor": "#E5ECF6",
          "polar": {
           "angularaxis": {
            "gridcolor": "white",
            "linecolor": "white",
            "ticks": ""
           },
           "bgcolor": "#E5ECF6",
           "radialaxis": {
            "gridcolor": "white",
            "linecolor": "white",
            "ticks": ""
           }
          },
          "scene": {
           "xaxis": {
            "backgroundcolor": "#E5ECF6",
            "gridcolor": "white",
            "gridwidth": 2,
            "linecolor": "white",
            "showbackground": true,
            "ticks": "",
            "zerolinecolor": "white"
           },
           "yaxis": {
            "backgroundcolor": "#E5ECF6",
            "gridcolor": "white",
            "gridwidth": 2,
            "linecolor": "white",
            "showbackground": true,
            "ticks": "",
            "zerolinecolor": "white"
           },
           "zaxis": {
            "backgroundcolor": "#E5ECF6",
            "gridcolor": "white",
            "gridwidth": 2,
            "linecolor": "white",
            "showbackground": true,
            "ticks": "",
            "zerolinecolor": "white"
           }
          },
          "shapedefaults": {
           "line": {
            "color": "#2a3f5f"
           }
          },
          "ternary": {
           "aaxis": {
            "gridcolor": "white",
            "linecolor": "white",
            "ticks": ""
           },
           "baxis": {
            "gridcolor": "white",
            "linecolor": "white",
            "ticks": ""
           },
           "bgcolor": "#E5ECF6",
           "caxis": {
            "gridcolor": "white",
            "linecolor": "white",
            "ticks": ""
           }
          },
          "title": {
           "x": 0.05
          },
          "xaxis": {
           "automargin": true,
           "gridcolor": "white",
           "linecolor": "white",
           "ticks": "",
           "title": {
            "standoff": 15
           },
           "zerolinecolor": "white",
           "zerolinewidth": 2
          },
          "yaxis": {
           "automargin": true,
           "gridcolor": "white",
           "linecolor": "white",
           "ticks": "",
           "title": {
            "standoff": 15
           },
           "zerolinecolor": "white",
           "zerolinewidth": 2
          }
         }
        },
        "yaxis": {
         "title": {
          "text": "Temperature"
         }
        },
        "yaxis2": {
         "overlaying": "y",
         "side": "right",
         "title": {
          "text": "Precipitation"
         }
        }
       }
      }
     },
     "metadata": {},
     "output_type": "display_data"
    }
   ],
   "source": [
    "import plotly.graph_objects as go\n",
    "# Create a Plotly figure\n",
    "fig = go.Figure()\n",
    "\n",
    "# Add a bar chart for precipitation\n",
    "fig.add_trace(go.Bar(\n",
    "    x=precip_climatology.month,\n",
    "    y=precip_climatology,\n",
    "    name='Precipitation',\n",
    "    # Set the y-axis to be on the right side\n",
    "    yaxis='y2'\n",
    "))\n",
    "\n",
    "# Add a line chart for temperature\n",
    "fig.add_trace(go.Scatter(\n",
    "    x=avg_temp.month,\n",
    "    y=avg_temp,\n",
    "    mode='lines',\n",
    "    name='Temperature',\n",
    "))\n",
    "\n",
    "# Set the layout to have two y-axes\n",
    "fig.update_layout(\n",
    "    yaxis=dict(title='Temperature'),\n",
    "    yaxis2=dict(title='Precipitation', overlaying='y', side='right')\n",
    ")\n",
    "\n",
    "# Show the figure\n",
    "fig.show()"
   ]
  },
  {
   "cell_type": "code",
   "execution_count": 82,
   "metadata": {},
   "outputs": [
    {
     "data": {
      "application/vnd.plotly.v1+json": {
       "config": {
        "plotlyServerURL": "https://plot.ly"
       },
       "data": [
        {
         "mode": "lines",
         "name": "Average Temperature",
         "type": "scatter",
         "x": [
          1,
          2,
          3,
          4,
          5,
          6,
          7,
          8,
          9,
          10,
          11,
          12
         ],
         "y": [
          6.963714599609375,
          8.2603759765625,
          10.694061279296875,
          13.134124755859375,
          17.231048583984375,
          21.95220947265625,
          25.36083984375,
          25.128173828125,
          20.707366943359375,
          16.20654296875,
          10.707244873046875,
          7.985382080078125
         ]
        },
        {
         "line": {
          "color": "red"
         },
         "mode": "lines",
         "name": "Max Temperature",
         "type": "scatter",
         "x": [
          1,
          2,
          3,
          4,
          5,
          6,
          7,
          8,
          9,
          10,
          11,
          12
         ],
         "y": [
          17.621368408203125,
          19.610382080078125,
          22.978179931640625,
          25.433258056640625,
          28.895172119140625,
          34.298736572265625,
          38.386383056640625,
          36.385406494140625,
          31.121612548828125,
          27.473785400390625,
          21.210601806640625,
          18.406402587890625
         ]
        },
        {
         "fill": "tonexty",
         "line": {
          "color": "red"
         },
         "mode": "lines",
         "name": "Min Temperature",
         "type": "scatter",
         "x": [
          1,
          2,
          3,
          4,
          5,
          6,
          7,
          8,
          9,
          10,
          11,
          12
         ],
         "y": [
          -2.397552490234375,
          -2.388031005859375,
          1.042877197265625,
          3.443267822265625,
          7.130523681640625,
          9.567779541015625,
          13.834625244140625,
          14.558258056640625,
          10.274078369140625,
          6.263824462890625,
          1.222320556640625,
          -0.707611083984375
         ]
        }
       ],
       "layout": {
        "template": {
         "data": {
          "bar": [
           {
            "error_x": {
             "color": "#2a3f5f"
            },
            "error_y": {
             "color": "#2a3f5f"
            },
            "marker": {
             "line": {
              "color": "#E5ECF6",
              "width": 0.5
             },
             "pattern": {
              "fillmode": "overlay",
              "size": 10,
              "solidity": 0.2
             }
            },
            "type": "bar"
           }
          ],
          "barpolar": [
           {
            "marker": {
             "line": {
              "color": "#E5ECF6",
              "width": 0.5
             },
             "pattern": {
              "fillmode": "overlay",
              "size": 10,
              "solidity": 0.2
             }
            },
            "type": "barpolar"
           }
          ],
          "carpet": [
           {
            "aaxis": {
             "endlinecolor": "#2a3f5f",
             "gridcolor": "white",
             "linecolor": "white",
             "minorgridcolor": "white",
             "startlinecolor": "#2a3f5f"
            },
            "baxis": {
             "endlinecolor": "#2a3f5f",
             "gridcolor": "white",
             "linecolor": "white",
             "minorgridcolor": "white",
             "startlinecolor": "#2a3f5f"
            },
            "type": "carpet"
           }
          ],
          "choropleth": [
           {
            "colorbar": {
             "outlinewidth": 0,
             "ticks": ""
            },
            "type": "choropleth"
           }
          ],
          "contour": [
           {
            "colorbar": {
             "outlinewidth": 0,
             "ticks": ""
            },
            "colorscale": [
             [
              0,
              "#0d0887"
             ],
             [
              0.1111111111111111,
              "#46039f"
             ],
             [
              0.2222222222222222,
              "#7201a8"
             ],
             [
              0.3333333333333333,
              "#9c179e"
             ],
             [
              0.4444444444444444,
              "#bd3786"
             ],
             [
              0.5555555555555556,
              "#d8576b"
             ],
             [
              0.6666666666666666,
              "#ed7953"
             ],
             [
              0.7777777777777778,
              "#fb9f3a"
             ],
             [
              0.8888888888888888,
              "#fdca26"
             ],
             [
              1,
              "#f0f921"
             ]
            ],
            "type": "contour"
           }
          ],
          "contourcarpet": [
           {
            "colorbar": {
             "outlinewidth": 0,
             "ticks": ""
            },
            "type": "contourcarpet"
           }
          ],
          "heatmap": [
           {
            "colorbar": {
             "outlinewidth": 0,
             "ticks": ""
            },
            "colorscale": [
             [
              0,
              "#0d0887"
             ],
             [
              0.1111111111111111,
              "#46039f"
             ],
             [
              0.2222222222222222,
              "#7201a8"
             ],
             [
              0.3333333333333333,
              "#9c179e"
             ],
             [
              0.4444444444444444,
              "#bd3786"
             ],
             [
              0.5555555555555556,
              "#d8576b"
             ],
             [
              0.6666666666666666,
              "#ed7953"
             ],
             [
              0.7777777777777778,
              "#fb9f3a"
             ],
             [
              0.8888888888888888,
              "#fdca26"
             ],
             [
              1,
              "#f0f921"
             ]
            ],
            "type": "heatmap"
           }
          ],
          "heatmapgl": [
           {
            "colorbar": {
             "outlinewidth": 0,
             "ticks": ""
            },
            "colorscale": [
             [
              0,
              "#0d0887"
             ],
             [
              0.1111111111111111,
              "#46039f"
             ],
             [
              0.2222222222222222,
              "#7201a8"
             ],
             [
              0.3333333333333333,
              "#9c179e"
             ],
             [
              0.4444444444444444,
              "#bd3786"
             ],
             [
              0.5555555555555556,
              "#d8576b"
             ],
             [
              0.6666666666666666,
              "#ed7953"
             ],
             [
              0.7777777777777778,
              "#fb9f3a"
             ],
             [
              0.8888888888888888,
              "#fdca26"
             ],
             [
              1,
              "#f0f921"
             ]
            ],
            "type": "heatmapgl"
           }
          ],
          "histogram": [
           {
            "marker": {
             "pattern": {
              "fillmode": "overlay",
              "size": 10,
              "solidity": 0.2
             }
            },
            "type": "histogram"
           }
          ],
          "histogram2d": [
           {
            "colorbar": {
             "outlinewidth": 0,
             "ticks": ""
            },
            "colorscale": [
             [
              0,
              "#0d0887"
             ],
             [
              0.1111111111111111,
              "#46039f"
             ],
             [
              0.2222222222222222,
              "#7201a8"
             ],
             [
              0.3333333333333333,
              "#9c179e"
             ],
             [
              0.4444444444444444,
              "#bd3786"
             ],
             [
              0.5555555555555556,
              "#d8576b"
             ],
             [
              0.6666666666666666,
              "#ed7953"
             ],
             [
              0.7777777777777778,
              "#fb9f3a"
             ],
             [
              0.8888888888888888,
              "#fdca26"
             ],
             [
              1,
              "#f0f921"
             ]
            ],
            "type": "histogram2d"
           }
          ],
          "histogram2dcontour": [
           {
            "colorbar": {
             "outlinewidth": 0,
             "ticks": ""
            },
            "colorscale": [
             [
              0,
              "#0d0887"
             ],
             [
              0.1111111111111111,
              "#46039f"
             ],
             [
              0.2222222222222222,
              "#7201a8"
             ],
             [
              0.3333333333333333,
              "#9c179e"
             ],
             [
              0.4444444444444444,
              "#bd3786"
             ],
             [
              0.5555555555555556,
              "#d8576b"
             ],
             [
              0.6666666666666666,
              "#ed7953"
             ],
             [
              0.7777777777777778,
              "#fb9f3a"
             ],
             [
              0.8888888888888888,
              "#fdca26"
             ],
             [
              1,
              "#f0f921"
             ]
            ],
            "type": "histogram2dcontour"
           }
          ],
          "mesh3d": [
           {
            "colorbar": {
             "outlinewidth": 0,
             "ticks": ""
            },
            "type": "mesh3d"
           }
          ],
          "parcoords": [
           {
            "line": {
             "colorbar": {
              "outlinewidth": 0,
              "ticks": ""
             }
            },
            "type": "parcoords"
           }
          ],
          "pie": [
           {
            "automargin": true,
            "type": "pie"
           }
          ],
          "scatter": [
           {
            "fillpattern": {
             "fillmode": "overlay",
             "size": 10,
             "solidity": 0.2
            },
            "type": "scatter"
           }
          ],
          "scatter3d": [
           {
            "line": {
             "colorbar": {
              "outlinewidth": 0,
              "ticks": ""
             }
            },
            "marker": {
             "colorbar": {
              "outlinewidth": 0,
              "ticks": ""
             }
            },
            "type": "scatter3d"
           }
          ],
          "scattercarpet": [
           {
            "marker": {
             "colorbar": {
              "outlinewidth": 0,
              "ticks": ""
             }
            },
            "type": "scattercarpet"
           }
          ],
          "scattergeo": [
           {
            "marker": {
             "colorbar": {
              "outlinewidth": 0,
              "ticks": ""
             }
            },
            "type": "scattergeo"
           }
          ],
          "scattergl": [
           {
            "marker": {
             "colorbar": {
              "outlinewidth": 0,
              "ticks": ""
             }
            },
            "type": "scattergl"
           }
          ],
          "scattermapbox": [
           {
            "marker": {
             "colorbar": {
              "outlinewidth": 0,
              "ticks": ""
             }
            },
            "type": "scattermapbox"
           }
          ],
          "scatterpolar": [
           {
            "marker": {
             "colorbar": {
              "outlinewidth": 0,
              "ticks": ""
             }
            },
            "type": "scatterpolar"
           }
          ],
          "scatterpolargl": [
           {
            "marker": {
             "colorbar": {
              "outlinewidth": 0,
              "ticks": ""
             }
            },
            "type": "scatterpolargl"
           }
          ],
          "scatterternary": [
           {
            "marker": {
             "colorbar": {
              "outlinewidth": 0,
              "ticks": ""
             }
            },
            "type": "scatterternary"
           }
          ],
          "surface": [
           {
            "colorbar": {
             "outlinewidth": 0,
             "ticks": ""
            },
            "colorscale": [
             [
              0,
              "#0d0887"
             ],
             [
              0.1111111111111111,
              "#46039f"
             ],
             [
              0.2222222222222222,
              "#7201a8"
             ],
             [
              0.3333333333333333,
              "#9c179e"
             ],
             [
              0.4444444444444444,
              "#bd3786"
             ],
             [
              0.5555555555555556,
              "#d8576b"
             ],
             [
              0.6666666666666666,
              "#ed7953"
             ],
             [
              0.7777777777777778,
              "#fb9f3a"
             ],
             [
              0.8888888888888888,
              "#fdca26"
             ],
             [
              1,
              "#f0f921"
             ]
            ],
            "type": "surface"
           }
          ],
          "table": [
           {
            "cells": {
             "fill": {
              "color": "#EBF0F8"
             },
             "line": {
              "color": "white"
             }
            },
            "header": {
             "fill": {
              "color": "#C8D4E3"
             },
             "line": {
              "color": "white"
             }
            },
            "type": "table"
           }
          ]
         },
         "layout": {
          "annotationdefaults": {
           "arrowcolor": "#2a3f5f",
           "arrowhead": 0,
           "arrowwidth": 1
          },
          "autotypenumbers": "strict",
          "coloraxis": {
           "colorbar": {
            "outlinewidth": 0,
            "ticks": ""
           }
          },
          "colorscale": {
           "diverging": [
            [
             0,
             "#8e0152"
            ],
            [
             0.1,
             "#c51b7d"
            ],
            [
             0.2,
             "#de77ae"
            ],
            [
             0.3,
             "#f1b6da"
            ],
            [
             0.4,
             "#fde0ef"
            ],
            [
             0.5,
             "#f7f7f7"
            ],
            [
             0.6,
             "#e6f5d0"
            ],
            [
             0.7,
             "#b8e186"
            ],
            [
             0.8,
             "#7fbc41"
            ],
            [
             0.9,
             "#4d9221"
            ],
            [
             1,
             "#276419"
            ]
           ],
           "sequential": [
            [
             0,
             "#0d0887"
            ],
            [
             0.1111111111111111,
             "#46039f"
            ],
            [
             0.2222222222222222,
             "#7201a8"
            ],
            [
             0.3333333333333333,
             "#9c179e"
            ],
            [
             0.4444444444444444,
             "#bd3786"
            ],
            [
             0.5555555555555556,
             "#d8576b"
            ],
            [
             0.6666666666666666,
             "#ed7953"
            ],
            [
             0.7777777777777778,
             "#fb9f3a"
            ],
            [
             0.8888888888888888,
             "#fdca26"
            ],
            [
             1,
             "#f0f921"
            ]
           ],
           "sequentialminus": [
            [
             0,
             "#0d0887"
            ],
            [
             0.1111111111111111,
             "#46039f"
            ],
            [
             0.2222222222222222,
             "#7201a8"
            ],
            [
             0.3333333333333333,
             "#9c179e"
            ],
            [
             0.4444444444444444,
             "#bd3786"
            ],
            [
             0.5555555555555556,
             "#d8576b"
            ],
            [
             0.6666666666666666,
             "#ed7953"
            ],
            [
             0.7777777777777778,
             "#fb9f3a"
            ],
            [
             0.8888888888888888,
             "#fdca26"
            ],
            [
             1,
             "#f0f921"
            ]
           ]
          },
          "colorway": [
           "#636efa",
           "#EF553B",
           "#00cc96",
           "#ab63fa",
           "#FFA15A",
           "#19d3f3",
           "#FF6692",
           "#B6E880",
           "#FF97FF",
           "#FECB52"
          ],
          "font": {
           "color": "#2a3f5f"
          },
          "geo": {
           "bgcolor": "white",
           "lakecolor": "white",
           "landcolor": "#E5ECF6",
           "showlakes": true,
           "showland": true,
           "subunitcolor": "white"
          },
          "hoverlabel": {
           "align": "left"
          },
          "hovermode": "closest",
          "mapbox": {
           "style": "light"
          },
          "paper_bgcolor": "white",
          "plot_bgcolor": "#E5ECF6",
          "polar": {
           "angularaxis": {
            "gridcolor": "white",
            "linecolor": "white",
            "ticks": ""
           },
           "bgcolor": "#E5ECF6",
           "radialaxis": {
            "gridcolor": "white",
            "linecolor": "white",
            "ticks": ""
           }
          },
          "scene": {
           "xaxis": {
            "backgroundcolor": "#E5ECF6",
            "gridcolor": "white",
            "gridwidth": 2,
            "linecolor": "white",
            "showbackground": true,
            "ticks": "",
            "zerolinecolor": "white"
           },
           "yaxis": {
            "backgroundcolor": "#E5ECF6",
            "gridcolor": "white",
            "gridwidth": 2,
            "linecolor": "white",
            "showbackground": true,
            "ticks": "",
            "zerolinecolor": "white"
           },
           "zaxis": {
            "backgroundcolor": "#E5ECF6",
            "gridcolor": "white",
            "gridwidth": 2,
            "linecolor": "white",
            "showbackground": true,
            "ticks": "",
            "zerolinecolor": "white"
           }
          },
          "shapedefaults": {
           "line": {
            "color": "#2a3f5f"
           }
          },
          "ternary": {
           "aaxis": {
            "gridcolor": "white",
            "linecolor": "white",
            "ticks": ""
           },
           "baxis": {
            "gridcolor": "white",
            "linecolor": "white",
            "ticks": ""
           },
           "bgcolor": "#E5ECF6",
           "caxis": {
            "gridcolor": "white",
            "linecolor": "white",
            "ticks": ""
           }
          },
          "title": {
           "x": 0.05
          },
          "xaxis": {
           "automargin": true,
           "gridcolor": "white",
           "linecolor": "white",
           "ticks": "",
           "title": {
            "standoff": 15
           },
           "zerolinecolor": "white",
           "zerolinewidth": 2
          },
          "yaxis": {
           "automargin": true,
           "gridcolor": "white",
           "linecolor": "white",
           "ticks": "",
           "title": {
            "standoff": 15
           },
           "zerolinecolor": "white",
           "zerolinewidth": 2
          }
         }
        },
        "title": {
         "text": "Average Temperature Data"
        },
        "xaxis": {
         "title": {
          "text": "Month"
         }
        },
        "yaxis": {
         "title": {
          "text": "Temperature (°C)"
         }
        }
       }
      }
     },
     "metadata": {},
     "output_type": "display_data"
    }
   ],
   "source": [
    "\n",
    "# Create a Plotly figure\n",
    "fig = go.Figure()\n",
    "\n",
    "# Add a line chart for average temperature\n",
    "fig.add_trace(go.Scatter(\n",
    "    x=avg_temp.month,\n",
    "    y=avg_temp,\n",
    "    mode='lines',\n",
    "    name='Average Temperature'\n",
    "))\n",
    "\n",
    "# Add a shaded area for min-max temperature\n",
    "fig.add_trace(go.Scatter(\n",
    "    x=max_temp.month,\n",
    "    y=max_temp,\n",
    "    mode='lines',\n",
    "    name='Max Temperature',\n",
    "    line_color='red',\n",
    "    fill=None\n",
    "))\n",
    "\n",
    "fig.add_trace(go.Scatter(\n",
    "    x=min_temp.month,\n",
    "    y=min_temp,\n",
    "    mode='lines',\n",
    "    name='Min Temperature',\n",
    "    line_color='red',\n",
    "    fill='tonexty'\n",
    "))\n",
    "\n",
    "# Set the layout\n",
    "fig.update_layout(\n",
    "    xaxis=dict(title='Month'),\n",
    "    yaxis=dict(title='Temperature (°C)'),\n",
    "    title='Average Temperature Data'\n",
    ")\n",
    "\n",
    "# Show the figure\n",
    "fig.show()\n"
   ]
  },
  {
   "cell_type": "code",
   "execution_count": 83,
   "metadata": {},
   "outputs": [
    {
     "data": {
      "application/vnd.plotly.v1+json": {
       "config": {
        "plotlyServerURL": "https://plot.ly"
       },
       "data": [
        {
         "mode": "lines",
         "name": "Temperature Difference",
         "type": "scatter",
         "x": [
          1,
          2,
          3,
          4,
          5,
          6,
          7,
          8,
          9,
          10,
          11,
          12
         ],
         "y": [
          20.0189208984375,
          21.9984130859375,
          21.935302734375,
          21.989990234375,
          21.7646484375,
          24.73095703125,
          24.5517578125,
          21.8271484375,
          20.8475341796875,
          21.2099609375,
          19.98828125,
          19.114013671875
         ]
        }
       ],
       "layout": {
        "template": {
         "data": {
          "bar": [
           {
            "error_x": {
             "color": "#2a3f5f"
            },
            "error_y": {
             "color": "#2a3f5f"
            },
            "marker": {
             "line": {
              "color": "#E5ECF6",
              "width": 0.5
             },
             "pattern": {
              "fillmode": "overlay",
              "size": 10,
              "solidity": 0.2
             }
            },
            "type": "bar"
           }
          ],
          "barpolar": [
           {
            "marker": {
             "line": {
              "color": "#E5ECF6",
              "width": 0.5
             },
             "pattern": {
              "fillmode": "overlay",
              "size": 10,
              "solidity": 0.2
             }
            },
            "type": "barpolar"
           }
          ],
          "carpet": [
           {
            "aaxis": {
             "endlinecolor": "#2a3f5f",
             "gridcolor": "white",
             "linecolor": "white",
             "minorgridcolor": "white",
             "startlinecolor": "#2a3f5f"
            },
            "baxis": {
             "endlinecolor": "#2a3f5f",
             "gridcolor": "white",
             "linecolor": "white",
             "minorgridcolor": "white",
             "startlinecolor": "#2a3f5f"
            },
            "type": "carpet"
           }
          ],
          "choropleth": [
           {
            "colorbar": {
             "outlinewidth": 0,
             "ticks": ""
            },
            "type": "choropleth"
           }
          ],
          "contour": [
           {
            "colorbar": {
             "outlinewidth": 0,
             "ticks": ""
            },
            "colorscale": [
             [
              0,
              "#0d0887"
             ],
             [
              0.1111111111111111,
              "#46039f"
             ],
             [
              0.2222222222222222,
              "#7201a8"
             ],
             [
              0.3333333333333333,
              "#9c179e"
             ],
             [
              0.4444444444444444,
              "#bd3786"
             ],
             [
              0.5555555555555556,
              "#d8576b"
             ],
             [
              0.6666666666666666,
              "#ed7953"
             ],
             [
              0.7777777777777778,
              "#fb9f3a"
             ],
             [
              0.8888888888888888,
              "#fdca26"
             ],
             [
              1,
              "#f0f921"
             ]
            ],
            "type": "contour"
           }
          ],
          "contourcarpet": [
           {
            "colorbar": {
             "outlinewidth": 0,
             "ticks": ""
            },
            "type": "contourcarpet"
           }
          ],
          "heatmap": [
           {
            "colorbar": {
             "outlinewidth": 0,
             "ticks": ""
            },
            "colorscale": [
             [
              0,
              "#0d0887"
             ],
             [
              0.1111111111111111,
              "#46039f"
             ],
             [
              0.2222222222222222,
              "#7201a8"
             ],
             [
              0.3333333333333333,
              "#9c179e"
             ],
             [
              0.4444444444444444,
              "#bd3786"
             ],
             [
              0.5555555555555556,
              "#d8576b"
             ],
             [
              0.6666666666666666,
              "#ed7953"
             ],
             [
              0.7777777777777778,
              "#fb9f3a"
             ],
             [
              0.8888888888888888,
              "#fdca26"
             ],
             [
              1,
              "#f0f921"
             ]
            ],
            "type": "heatmap"
           }
          ],
          "heatmapgl": [
           {
            "colorbar": {
             "outlinewidth": 0,
             "ticks": ""
            },
            "colorscale": [
             [
              0,
              "#0d0887"
             ],
             [
              0.1111111111111111,
              "#46039f"
             ],
             [
              0.2222222222222222,
              "#7201a8"
             ],
             [
              0.3333333333333333,
              "#9c179e"
             ],
             [
              0.4444444444444444,
              "#bd3786"
             ],
             [
              0.5555555555555556,
              "#d8576b"
             ],
             [
              0.6666666666666666,
              "#ed7953"
             ],
             [
              0.7777777777777778,
              "#fb9f3a"
             ],
             [
              0.8888888888888888,
              "#fdca26"
             ],
             [
              1,
              "#f0f921"
             ]
            ],
            "type": "heatmapgl"
           }
          ],
          "histogram": [
           {
            "marker": {
             "pattern": {
              "fillmode": "overlay",
              "size": 10,
              "solidity": 0.2
             }
            },
            "type": "histogram"
           }
          ],
          "histogram2d": [
           {
            "colorbar": {
             "outlinewidth": 0,
             "ticks": ""
            },
            "colorscale": [
             [
              0,
              "#0d0887"
             ],
             [
              0.1111111111111111,
              "#46039f"
             ],
             [
              0.2222222222222222,
              "#7201a8"
             ],
             [
              0.3333333333333333,
              "#9c179e"
             ],
             [
              0.4444444444444444,
              "#bd3786"
             ],
             [
              0.5555555555555556,
              "#d8576b"
             ],
             [
              0.6666666666666666,
              "#ed7953"
             ],
             [
              0.7777777777777778,
              "#fb9f3a"
             ],
             [
              0.8888888888888888,
              "#fdca26"
             ],
             [
              1,
              "#f0f921"
             ]
            ],
            "type": "histogram2d"
           }
          ],
          "histogram2dcontour": [
           {
            "colorbar": {
             "outlinewidth": 0,
             "ticks": ""
            },
            "colorscale": [
             [
              0,
              "#0d0887"
             ],
             [
              0.1111111111111111,
              "#46039f"
             ],
             [
              0.2222222222222222,
              "#7201a8"
             ],
             [
              0.3333333333333333,
              "#9c179e"
             ],
             [
              0.4444444444444444,
              "#bd3786"
             ],
             [
              0.5555555555555556,
              "#d8576b"
             ],
             [
              0.6666666666666666,
              "#ed7953"
             ],
             [
              0.7777777777777778,
              "#fb9f3a"
             ],
             [
              0.8888888888888888,
              "#fdca26"
             ],
             [
              1,
              "#f0f921"
             ]
            ],
            "type": "histogram2dcontour"
           }
          ],
          "mesh3d": [
           {
            "colorbar": {
             "outlinewidth": 0,
             "ticks": ""
            },
            "type": "mesh3d"
           }
          ],
          "parcoords": [
           {
            "line": {
             "colorbar": {
              "outlinewidth": 0,
              "ticks": ""
             }
            },
            "type": "parcoords"
           }
          ],
          "pie": [
           {
            "automargin": true,
            "type": "pie"
           }
          ],
          "scatter": [
           {
            "fillpattern": {
             "fillmode": "overlay",
             "size": 10,
             "solidity": 0.2
            },
            "type": "scatter"
           }
          ],
          "scatter3d": [
           {
            "line": {
             "colorbar": {
              "outlinewidth": 0,
              "ticks": ""
             }
            },
            "marker": {
             "colorbar": {
              "outlinewidth": 0,
              "ticks": ""
             }
            },
            "type": "scatter3d"
           }
          ],
          "scattercarpet": [
           {
            "marker": {
             "colorbar": {
              "outlinewidth": 0,
              "ticks": ""
             }
            },
            "type": "scattercarpet"
           }
          ],
          "scattergeo": [
           {
            "marker": {
             "colorbar": {
              "outlinewidth": 0,
              "ticks": ""
             }
            },
            "type": "scattergeo"
           }
          ],
          "scattergl": [
           {
            "marker": {
             "colorbar": {
              "outlinewidth": 0,
              "ticks": ""
             }
            },
            "type": "scattergl"
           }
          ],
          "scattermapbox": [
           {
            "marker": {
             "colorbar": {
              "outlinewidth": 0,
              "ticks": ""
             }
            },
            "type": "scattermapbox"
           }
          ],
          "scatterpolar": [
           {
            "marker": {
             "colorbar": {
              "outlinewidth": 0,
              "ticks": ""
             }
            },
            "type": "scatterpolar"
           }
          ],
          "scatterpolargl": [
           {
            "marker": {
             "colorbar": {
              "outlinewidth": 0,
              "ticks": ""
             }
            },
            "type": "scatterpolargl"
           }
          ],
          "scatterternary": [
           {
            "marker": {
             "colorbar": {
              "outlinewidth": 0,
              "ticks": ""
             }
            },
            "type": "scatterternary"
           }
          ],
          "surface": [
           {
            "colorbar": {
             "outlinewidth": 0,
             "ticks": ""
            },
            "colorscale": [
             [
              0,
              "#0d0887"
             ],
             [
              0.1111111111111111,
              "#46039f"
             ],
             [
              0.2222222222222222,
              "#7201a8"
             ],
             [
              0.3333333333333333,
              "#9c179e"
             ],
             [
              0.4444444444444444,
              "#bd3786"
             ],
             [
              0.5555555555555556,
              "#d8576b"
             ],
             [
              0.6666666666666666,
              "#ed7953"
             ],
             [
              0.7777777777777778,
              "#fb9f3a"
             ],
             [
              0.8888888888888888,
              "#fdca26"
             ],
             [
              1,
              "#f0f921"
             ]
            ],
            "type": "surface"
           }
          ],
          "table": [
           {
            "cells": {
             "fill": {
              "color": "#EBF0F8"
             },
             "line": {
              "color": "white"
             }
            },
            "header": {
             "fill": {
              "color": "#C8D4E3"
             },
             "line": {
              "color": "white"
             }
            },
            "type": "table"
           }
          ]
         },
         "layout": {
          "annotationdefaults": {
           "arrowcolor": "#2a3f5f",
           "arrowhead": 0,
           "arrowwidth": 1
          },
          "autotypenumbers": "strict",
          "coloraxis": {
           "colorbar": {
            "outlinewidth": 0,
            "ticks": ""
           }
          },
          "colorscale": {
           "diverging": [
            [
             0,
             "#8e0152"
            ],
            [
             0.1,
             "#c51b7d"
            ],
            [
             0.2,
             "#de77ae"
            ],
            [
             0.3,
             "#f1b6da"
            ],
            [
             0.4,
             "#fde0ef"
            ],
            [
             0.5,
             "#f7f7f7"
            ],
            [
             0.6,
             "#e6f5d0"
            ],
            [
             0.7,
             "#b8e186"
            ],
            [
             0.8,
             "#7fbc41"
            ],
            [
             0.9,
             "#4d9221"
            ],
            [
             1,
             "#276419"
            ]
           ],
           "sequential": [
            [
             0,
             "#0d0887"
            ],
            [
             0.1111111111111111,
             "#46039f"
            ],
            [
             0.2222222222222222,
             "#7201a8"
            ],
            [
             0.3333333333333333,
             "#9c179e"
            ],
            [
             0.4444444444444444,
             "#bd3786"
            ],
            [
             0.5555555555555556,
             "#d8576b"
            ],
            [
             0.6666666666666666,
             "#ed7953"
            ],
            [
             0.7777777777777778,
             "#fb9f3a"
            ],
            [
             0.8888888888888888,
             "#fdca26"
            ],
            [
             1,
             "#f0f921"
            ]
           ],
           "sequentialminus": [
            [
             0,
             "#0d0887"
            ],
            [
             0.1111111111111111,
             "#46039f"
            ],
            [
             0.2222222222222222,
             "#7201a8"
            ],
            [
             0.3333333333333333,
             "#9c179e"
            ],
            [
             0.4444444444444444,
             "#bd3786"
            ],
            [
             0.5555555555555556,
             "#d8576b"
            ],
            [
             0.6666666666666666,
             "#ed7953"
            ],
            [
             0.7777777777777778,
             "#fb9f3a"
            ],
            [
             0.8888888888888888,
             "#fdca26"
            ],
            [
             1,
             "#f0f921"
            ]
           ]
          },
          "colorway": [
           "#636efa",
           "#EF553B",
           "#00cc96",
           "#ab63fa",
           "#FFA15A",
           "#19d3f3",
           "#FF6692",
           "#B6E880",
           "#FF97FF",
           "#FECB52"
          ],
          "font": {
           "color": "#2a3f5f"
          },
          "geo": {
           "bgcolor": "white",
           "lakecolor": "white",
           "landcolor": "#E5ECF6",
           "showlakes": true,
           "showland": true,
           "subunitcolor": "white"
          },
          "hoverlabel": {
           "align": "left"
          },
          "hovermode": "closest",
          "mapbox": {
           "style": "light"
          },
          "paper_bgcolor": "white",
          "plot_bgcolor": "#E5ECF6",
          "polar": {
           "angularaxis": {
            "gridcolor": "white",
            "linecolor": "white",
            "ticks": ""
           },
           "bgcolor": "#E5ECF6",
           "radialaxis": {
            "gridcolor": "white",
            "linecolor": "white",
            "ticks": ""
           }
          },
          "scene": {
           "xaxis": {
            "backgroundcolor": "#E5ECF6",
            "gridcolor": "white",
            "gridwidth": 2,
            "linecolor": "white",
            "showbackground": true,
            "ticks": "",
            "zerolinecolor": "white"
           },
           "yaxis": {
            "backgroundcolor": "#E5ECF6",
            "gridcolor": "white",
            "gridwidth": 2,
            "linecolor": "white",
            "showbackground": true,
            "ticks": "",
            "zerolinecolor": "white"
           },
           "zaxis": {
            "backgroundcolor": "#E5ECF6",
            "gridcolor": "white",
            "gridwidth": 2,
            "linecolor": "white",
            "showbackground": true,
            "ticks": "",
            "zerolinecolor": "white"
           }
          },
          "shapedefaults": {
           "line": {
            "color": "#2a3f5f"
           }
          },
          "ternary": {
           "aaxis": {
            "gridcolor": "white",
            "linecolor": "white",
            "ticks": ""
           },
           "baxis": {
            "gridcolor": "white",
            "linecolor": "white",
            "ticks": ""
           },
           "bgcolor": "#E5ECF6",
           "caxis": {
            "gridcolor": "white",
            "linecolor": "white",
            "ticks": ""
           }
          },
          "title": {
           "x": 0.05
          },
          "xaxis": {
           "automargin": true,
           "gridcolor": "white",
           "linecolor": "white",
           "ticks": "",
           "title": {
            "standoff": 15
           },
           "zerolinecolor": "white",
           "zerolinewidth": 2
          },
          "yaxis": {
           "automargin": true,
           "gridcolor": "white",
           "linecolor": "white",
           "ticks": "",
           "title": {
            "standoff": 15
           },
           "zerolinecolor": "white",
           "zerolinewidth": 2
          }
         }
        },
        "title": {
         "text": "Temperature Difference Data"
        },
        "xaxis": {
         "title": {
          "text": "Month"
         }
        },
        "yaxis": {
         "title": {
          "text": "Temperature Difference (°C)"
         }
        }
       }
      }
     },
     "metadata": {},
     "output_type": "display_data"
    }
   ],
   "source": [
    "# Calculate the temperature difference\n",
    "temp_diff = max_temp - min_temp\n",
    "\n",
    "# Create a Plotly figure\n",
    "fig = go.Figure()\n",
    "\n",
    "# Add a line chart for temperature difference\n",
    "fig.add_trace(go.Scatter(\n",
    "    x=temp_diff.month,\n",
    "    y=temp_diff,\n",
    "    mode='lines',\n",
    "    name='Temperature Difference'\n",
    "))\n",
    "\n",
    "# Set the layout\n",
    "fig.update_layout(\n",
    "    xaxis=dict(title='Month'),\n",
    "    yaxis=dict(title='Temperature Difference (°C)'),\n",
    "    title='Temperature Difference Data'\n",
    ")\n",
    "\n",
    "# Show the figure\n",
    "fig.show()"
   ]
  },
  {
   "cell_type": "code",
   "execution_count": 84,
   "metadata": {},
   "outputs": [
    {
     "data": {
      "application/vnd.plotly.v1+json": {
       "config": {
        "plotlyServerURL": "https://plot.ly"
       },
       "data": [
        {
         "base": [
          -2.397552490234375,
          -2.388031005859375,
          1.042877197265625,
          3.443267822265625,
          7.130523681640625,
          9.567779541015625,
          13.834625244140625,
          14.558258056640625,
          10.274078369140625,
          6.263824462890625,
          1.222320556640625,
          -0.707611083984375
         ],
         "name": "Min-Max Temperature",
         "type": "bar",
         "x": [
          1,
          2,
          3,
          4,
          5,
          6,
          7,
          8,
          9,
          10,
          11,
          12
         ],
         "y": [
          20.0189208984375,
          21.9984130859375,
          21.935302734375,
          21.989990234375,
          21.7646484375,
          24.73095703125,
          24.5517578125,
          21.8271484375,
          20.8475341796875,
          21.2099609375,
          19.98828125,
          19.114013671875
         ]
        }
       ],
       "layout": {
        "template": {
         "data": {
          "bar": [
           {
            "error_x": {
             "color": "#2a3f5f"
            },
            "error_y": {
             "color": "#2a3f5f"
            },
            "marker": {
             "line": {
              "color": "#E5ECF6",
              "width": 0.5
             },
             "pattern": {
              "fillmode": "overlay",
              "size": 10,
              "solidity": 0.2
             }
            },
            "type": "bar"
           }
          ],
          "barpolar": [
           {
            "marker": {
             "line": {
              "color": "#E5ECF6",
              "width": 0.5
             },
             "pattern": {
              "fillmode": "overlay",
              "size": 10,
              "solidity": 0.2
             }
            },
            "type": "barpolar"
           }
          ],
          "carpet": [
           {
            "aaxis": {
             "endlinecolor": "#2a3f5f",
             "gridcolor": "white",
             "linecolor": "white",
             "minorgridcolor": "white",
             "startlinecolor": "#2a3f5f"
            },
            "baxis": {
             "endlinecolor": "#2a3f5f",
             "gridcolor": "white",
             "linecolor": "white",
             "minorgridcolor": "white",
             "startlinecolor": "#2a3f5f"
            },
            "type": "carpet"
           }
          ],
          "choropleth": [
           {
            "colorbar": {
             "outlinewidth": 0,
             "ticks": ""
            },
            "type": "choropleth"
           }
          ],
          "contour": [
           {
            "colorbar": {
             "outlinewidth": 0,
             "ticks": ""
            },
            "colorscale": [
             [
              0,
              "#0d0887"
             ],
             [
              0.1111111111111111,
              "#46039f"
             ],
             [
              0.2222222222222222,
              "#7201a8"
             ],
             [
              0.3333333333333333,
              "#9c179e"
             ],
             [
              0.4444444444444444,
              "#bd3786"
             ],
             [
              0.5555555555555556,
              "#d8576b"
             ],
             [
              0.6666666666666666,
              "#ed7953"
             ],
             [
              0.7777777777777778,
              "#fb9f3a"
             ],
             [
              0.8888888888888888,
              "#fdca26"
             ],
             [
              1,
              "#f0f921"
             ]
            ],
            "type": "contour"
           }
          ],
          "contourcarpet": [
           {
            "colorbar": {
             "outlinewidth": 0,
             "ticks": ""
            },
            "type": "contourcarpet"
           }
          ],
          "heatmap": [
           {
            "colorbar": {
             "outlinewidth": 0,
             "ticks": ""
            },
            "colorscale": [
             [
              0,
              "#0d0887"
             ],
             [
              0.1111111111111111,
              "#46039f"
             ],
             [
              0.2222222222222222,
              "#7201a8"
             ],
             [
              0.3333333333333333,
              "#9c179e"
             ],
             [
              0.4444444444444444,
              "#bd3786"
             ],
             [
              0.5555555555555556,
              "#d8576b"
             ],
             [
              0.6666666666666666,
              "#ed7953"
             ],
             [
              0.7777777777777778,
              "#fb9f3a"
             ],
             [
              0.8888888888888888,
              "#fdca26"
             ],
             [
              1,
              "#f0f921"
             ]
            ],
            "type": "heatmap"
           }
          ],
          "heatmapgl": [
           {
            "colorbar": {
             "outlinewidth": 0,
             "ticks": ""
            },
            "colorscale": [
             [
              0,
              "#0d0887"
             ],
             [
              0.1111111111111111,
              "#46039f"
             ],
             [
              0.2222222222222222,
              "#7201a8"
             ],
             [
              0.3333333333333333,
              "#9c179e"
             ],
             [
              0.4444444444444444,
              "#bd3786"
             ],
             [
              0.5555555555555556,
              "#d8576b"
             ],
             [
              0.6666666666666666,
              "#ed7953"
             ],
             [
              0.7777777777777778,
              "#fb9f3a"
             ],
             [
              0.8888888888888888,
              "#fdca26"
             ],
             [
              1,
              "#f0f921"
             ]
            ],
            "type": "heatmapgl"
           }
          ],
          "histogram": [
           {
            "marker": {
             "pattern": {
              "fillmode": "overlay",
              "size": 10,
              "solidity": 0.2
             }
            },
            "type": "histogram"
           }
          ],
          "histogram2d": [
           {
            "colorbar": {
             "outlinewidth": 0,
             "ticks": ""
            },
            "colorscale": [
             [
              0,
              "#0d0887"
             ],
             [
              0.1111111111111111,
              "#46039f"
             ],
             [
              0.2222222222222222,
              "#7201a8"
             ],
             [
              0.3333333333333333,
              "#9c179e"
             ],
             [
              0.4444444444444444,
              "#bd3786"
             ],
             [
              0.5555555555555556,
              "#d8576b"
             ],
             [
              0.6666666666666666,
              "#ed7953"
             ],
             [
              0.7777777777777778,
              "#fb9f3a"
             ],
             [
              0.8888888888888888,
              "#fdca26"
             ],
             [
              1,
              "#f0f921"
             ]
            ],
            "type": "histogram2d"
           }
          ],
          "histogram2dcontour": [
           {
            "colorbar": {
             "outlinewidth": 0,
             "ticks": ""
            },
            "colorscale": [
             [
              0,
              "#0d0887"
             ],
             [
              0.1111111111111111,
              "#46039f"
             ],
             [
              0.2222222222222222,
              "#7201a8"
             ],
             [
              0.3333333333333333,
              "#9c179e"
             ],
             [
              0.4444444444444444,
              "#bd3786"
             ],
             [
              0.5555555555555556,
              "#d8576b"
             ],
             [
              0.6666666666666666,
              "#ed7953"
             ],
             [
              0.7777777777777778,
              "#fb9f3a"
             ],
             [
              0.8888888888888888,
              "#fdca26"
             ],
             [
              1,
              "#f0f921"
             ]
            ],
            "type": "histogram2dcontour"
           }
          ],
          "mesh3d": [
           {
            "colorbar": {
             "outlinewidth": 0,
             "ticks": ""
            },
            "type": "mesh3d"
           }
          ],
          "parcoords": [
           {
            "line": {
             "colorbar": {
              "outlinewidth": 0,
              "ticks": ""
             }
            },
            "type": "parcoords"
           }
          ],
          "pie": [
           {
            "automargin": true,
            "type": "pie"
           }
          ],
          "scatter": [
           {
            "fillpattern": {
             "fillmode": "overlay",
             "size": 10,
             "solidity": 0.2
            },
            "type": "scatter"
           }
          ],
          "scatter3d": [
           {
            "line": {
             "colorbar": {
              "outlinewidth": 0,
              "ticks": ""
             }
            },
            "marker": {
             "colorbar": {
              "outlinewidth": 0,
              "ticks": ""
             }
            },
            "type": "scatter3d"
           }
          ],
          "scattercarpet": [
           {
            "marker": {
             "colorbar": {
              "outlinewidth": 0,
              "ticks": ""
             }
            },
            "type": "scattercarpet"
           }
          ],
          "scattergeo": [
           {
            "marker": {
             "colorbar": {
              "outlinewidth": 0,
              "ticks": ""
             }
            },
            "type": "scattergeo"
           }
          ],
          "scattergl": [
           {
            "marker": {
             "colorbar": {
              "outlinewidth": 0,
              "ticks": ""
             }
            },
            "type": "scattergl"
           }
          ],
          "scattermapbox": [
           {
            "marker": {
             "colorbar": {
              "outlinewidth": 0,
              "ticks": ""
             }
            },
            "type": "scattermapbox"
           }
          ],
          "scatterpolar": [
           {
            "marker": {
             "colorbar": {
              "outlinewidth": 0,
              "ticks": ""
             }
            },
            "type": "scatterpolar"
           }
          ],
          "scatterpolargl": [
           {
            "marker": {
             "colorbar": {
              "outlinewidth": 0,
              "ticks": ""
             }
            },
            "type": "scatterpolargl"
           }
          ],
          "scatterternary": [
           {
            "marker": {
             "colorbar": {
              "outlinewidth": 0,
              "ticks": ""
             }
            },
            "type": "scatterternary"
           }
          ],
          "surface": [
           {
            "colorbar": {
             "outlinewidth": 0,
             "ticks": ""
            },
            "colorscale": [
             [
              0,
              "#0d0887"
             ],
             [
              0.1111111111111111,
              "#46039f"
             ],
             [
              0.2222222222222222,
              "#7201a8"
             ],
             [
              0.3333333333333333,
              "#9c179e"
             ],
             [
              0.4444444444444444,
              "#bd3786"
             ],
             [
              0.5555555555555556,
              "#d8576b"
             ],
             [
              0.6666666666666666,
              "#ed7953"
             ],
             [
              0.7777777777777778,
              "#fb9f3a"
             ],
             [
              0.8888888888888888,
              "#fdca26"
             ],
             [
              1,
              "#f0f921"
             ]
            ],
            "type": "surface"
           }
          ],
          "table": [
           {
            "cells": {
             "fill": {
              "color": "#EBF0F8"
             },
             "line": {
              "color": "white"
             }
            },
            "header": {
             "fill": {
              "color": "#C8D4E3"
             },
             "line": {
              "color": "white"
             }
            },
            "type": "table"
           }
          ]
         },
         "layout": {
          "annotationdefaults": {
           "arrowcolor": "#2a3f5f",
           "arrowhead": 0,
           "arrowwidth": 1
          },
          "autotypenumbers": "strict",
          "coloraxis": {
           "colorbar": {
            "outlinewidth": 0,
            "ticks": ""
           }
          },
          "colorscale": {
           "diverging": [
            [
             0,
             "#8e0152"
            ],
            [
             0.1,
             "#c51b7d"
            ],
            [
             0.2,
             "#de77ae"
            ],
            [
             0.3,
             "#f1b6da"
            ],
            [
             0.4,
             "#fde0ef"
            ],
            [
             0.5,
             "#f7f7f7"
            ],
            [
             0.6,
             "#e6f5d0"
            ],
            [
             0.7,
             "#b8e186"
            ],
            [
             0.8,
             "#7fbc41"
            ],
            [
             0.9,
             "#4d9221"
            ],
            [
             1,
             "#276419"
            ]
           ],
           "sequential": [
            [
             0,
             "#0d0887"
            ],
            [
             0.1111111111111111,
             "#46039f"
            ],
            [
             0.2222222222222222,
             "#7201a8"
            ],
            [
             0.3333333333333333,
             "#9c179e"
            ],
            [
             0.4444444444444444,
             "#bd3786"
            ],
            [
             0.5555555555555556,
             "#d8576b"
            ],
            [
             0.6666666666666666,
             "#ed7953"
            ],
            [
             0.7777777777777778,
             "#fb9f3a"
            ],
            [
             0.8888888888888888,
             "#fdca26"
            ],
            [
             1,
             "#f0f921"
            ]
           ],
           "sequentialminus": [
            [
             0,
             "#0d0887"
            ],
            [
             0.1111111111111111,
             "#46039f"
            ],
            [
             0.2222222222222222,
             "#7201a8"
            ],
            [
             0.3333333333333333,
             "#9c179e"
            ],
            [
             0.4444444444444444,
             "#bd3786"
            ],
            [
             0.5555555555555556,
             "#d8576b"
            ],
            [
             0.6666666666666666,
             "#ed7953"
            ],
            [
             0.7777777777777778,
             "#fb9f3a"
            ],
            [
             0.8888888888888888,
             "#fdca26"
            ],
            [
             1,
             "#f0f921"
            ]
           ]
          },
          "colorway": [
           "#636efa",
           "#EF553B",
           "#00cc96",
           "#ab63fa",
           "#FFA15A",
           "#19d3f3",
           "#FF6692",
           "#B6E880",
           "#FF97FF",
           "#FECB52"
          ],
          "font": {
           "color": "#2a3f5f"
          },
          "geo": {
           "bgcolor": "white",
           "lakecolor": "white",
           "landcolor": "#E5ECF6",
           "showlakes": true,
           "showland": true,
           "subunitcolor": "white"
          },
          "hoverlabel": {
           "align": "left"
          },
          "hovermode": "closest",
          "mapbox": {
           "style": "light"
          },
          "paper_bgcolor": "white",
          "plot_bgcolor": "#E5ECF6",
          "polar": {
           "angularaxis": {
            "gridcolor": "white",
            "linecolor": "white",
            "ticks": ""
           },
           "bgcolor": "#E5ECF6",
           "radialaxis": {
            "gridcolor": "white",
            "linecolor": "white",
            "ticks": ""
           }
          },
          "scene": {
           "xaxis": {
            "backgroundcolor": "#E5ECF6",
            "gridcolor": "white",
            "gridwidth": 2,
            "linecolor": "white",
            "showbackground": true,
            "ticks": "",
            "zerolinecolor": "white"
           },
           "yaxis": {
            "backgroundcolor": "#E5ECF6",
            "gridcolor": "white",
            "gridwidth": 2,
            "linecolor": "white",
            "showbackground": true,
            "ticks": "",
            "zerolinecolor": "white"
           },
           "zaxis": {
            "backgroundcolor": "#E5ECF6",
            "gridcolor": "white",
            "gridwidth": 2,
            "linecolor": "white",
            "showbackground": true,
            "ticks": "",
            "zerolinecolor": "white"
           }
          },
          "shapedefaults": {
           "line": {
            "color": "#2a3f5f"
           }
          },
          "ternary": {
           "aaxis": {
            "gridcolor": "white",
            "linecolor": "white",
            "ticks": ""
           },
           "baxis": {
            "gridcolor": "white",
            "linecolor": "white",
            "ticks": ""
           },
           "bgcolor": "#E5ECF6",
           "caxis": {
            "gridcolor": "white",
            "linecolor": "white",
            "ticks": ""
           }
          },
          "title": {
           "x": 0.05
          },
          "xaxis": {
           "automargin": true,
           "gridcolor": "white",
           "linecolor": "white",
           "ticks": "",
           "title": {
            "standoff": 15
           },
           "zerolinecolor": "white",
           "zerolinewidth": 2
          },
          "yaxis": {
           "automargin": true,
           "gridcolor": "white",
           "linecolor": "white",
           "ticks": "",
           "title": {
            "standoff": 15
           },
           "zerolinecolor": "white",
           "zerolinewidth": 2
          }
         }
        },
        "title": {
         "text": "Min-Max Temperature Data"
        },
        "xaxis": {
         "title": {
          "text": "Month"
         }
        },
        "yaxis": {
         "title": {
          "text": "Temperature (°C)"
         }
        }
       }
      }
     },
     "metadata": {},
     "output_type": "display_data"
    }
   ],
   "source": [
    "# Create a Plotly figure\n",
    "fig = go.Figure()\n",
    "\n",
    "# Add a bar chart for min-max temperature\n",
    "fig.add_trace(go.Bar(\n",
    "    x=min_temp.month,\n",
    "    y=max_temp - min_temp,\n",
    "    base=min_temp,\n",
    "    name='Min-Max Temperature'\n",
    "))\n",
    "\n",
    "# Set the layout\n",
    "fig.update_layout(\n",
    "    xaxis=dict(title='Month'),\n",
    "    yaxis=dict(title='Temperature (°C)'),\n",
    "    title='Min-Max Temperature Data'\n",
    ")\n",
    "\n",
    "# Show the figure\n",
    "fig.show()"
   ]
  },
  {
   "cell_type": "code",
   "execution_count": 85,
   "metadata": {},
   "outputs": [
    {
     "data": {
      "application/vnd.plotly.v1+json": {
       "config": {
        "plotlyServerURL": "https://plot.ly"
       },
       "data": [
        {
         "base": [
          -9.36126708984375,
          -10.648406982421875,
          -9.65118408203125,
          -9.69085693359375,
          -10.10052490234375,
          -12.384429931640625,
          -11.526214599609375,
          -10.569915771484375,
          -10.43328857421875,
          -9.942718505859375,
          -9.48492431640625,
          -8.6929931640625
         ],
         "name": "Adjusted Min-Max Temperature",
         "type": "bar",
         "x": [
          1,
          2,
          3,
          4,
          5,
          6,
          7,
          8,
          9,
          10,
          11,
          12
         ],
         "y": [
          20.0189208984375,
          21.9984130859375,
          21.935302734375,
          21.989990234375,
          21.7646484375,
          24.73095703125,
          24.5517578125,
          21.8271484375,
          20.8475341796875,
          21.2099609375,
          19.98828125,
          19.114013671875
         ]
        }
       ],
       "layout": {
        "template": {
         "data": {
          "bar": [
           {
            "error_x": {
             "color": "#2a3f5f"
            },
            "error_y": {
             "color": "#2a3f5f"
            },
            "marker": {
             "line": {
              "color": "#E5ECF6",
              "width": 0.5
             },
             "pattern": {
              "fillmode": "overlay",
              "size": 10,
              "solidity": 0.2
             }
            },
            "type": "bar"
           }
          ],
          "barpolar": [
           {
            "marker": {
             "line": {
              "color": "#E5ECF6",
              "width": 0.5
             },
             "pattern": {
              "fillmode": "overlay",
              "size": 10,
              "solidity": 0.2
             }
            },
            "type": "barpolar"
           }
          ],
          "carpet": [
           {
            "aaxis": {
             "endlinecolor": "#2a3f5f",
             "gridcolor": "white",
             "linecolor": "white",
             "minorgridcolor": "white",
             "startlinecolor": "#2a3f5f"
            },
            "baxis": {
             "endlinecolor": "#2a3f5f",
             "gridcolor": "white",
             "linecolor": "white",
             "minorgridcolor": "white",
             "startlinecolor": "#2a3f5f"
            },
            "type": "carpet"
           }
          ],
          "choropleth": [
           {
            "colorbar": {
             "outlinewidth": 0,
             "ticks": ""
            },
            "type": "choropleth"
           }
          ],
          "contour": [
           {
            "colorbar": {
             "outlinewidth": 0,
             "ticks": ""
            },
            "colorscale": [
             [
              0,
              "#0d0887"
             ],
             [
              0.1111111111111111,
              "#46039f"
             ],
             [
              0.2222222222222222,
              "#7201a8"
             ],
             [
              0.3333333333333333,
              "#9c179e"
             ],
             [
              0.4444444444444444,
              "#bd3786"
             ],
             [
              0.5555555555555556,
              "#d8576b"
             ],
             [
              0.6666666666666666,
              "#ed7953"
             ],
             [
              0.7777777777777778,
              "#fb9f3a"
             ],
             [
              0.8888888888888888,
              "#fdca26"
             ],
             [
              1,
              "#f0f921"
             ]
            ],
            "type": "contour"
           }
          ],
          "contourcarpet": [
           {
            "colorbar": {
             "outlinewidth": 0,
             "ticks": ""
            },
            "type": "contourcarpet"
           }
          ],
          "heatmap": [
           {
            "colorbar": {
             "outlinewidth": 0,
             "ticks": ""
            },
            "colorscale": [
             [
              0,
              "#0d0887"
             ],
             [
              0.1111111111111111,
              "#46039f"
             ],
             [
              0.2222222222222222,
              "#7201a8"
             ],
             [
              0.3333333333333333,
              "#9c179e"
             ],
             [
              0.4444444444444444,
              "#bd3786"
             ],
             [
              0.5555555555555556,
              "#d8576b"
             ],
             [
              0.6666666666666666,
              "#ed7953"
             ],
             [
              0.7777777777777778,
              "#fb9f3a"
             ],
             [
              0.8888888888888888,
              "#fdca26"
             ],
             [
              1,
              "#f0f921"
             ]
            ],
            "type": "heatmap"
           }
          ],
          "heatmapgl": [
           {
            "colorbar": {
             "outlinewidth": 0,
             "ticks": ""
            },
            "colorscale": [
             [
              0,
              "#0d0887"
             ],
             [
              0.1111111111111111,
              "#46039f"
             ],
             [
              0.2222222222222222,
              "#7201a8"
             ],
             [
              0.3333333333333333,
              "#9c179e"
             ],
             [
              0.4444444444444444,
              "#bd3786"
             ],
             [
              0.5555555555555556,
              "#d8576b"
             ],
             [
              0.6666666666666666,
              "#ed7953"
             ],
             [
              0.7777777777777778,
              "#fb9f3a"
             ],
             [
              0.8888888888888888,
              "#fdca26"
             ],
             [
              1,
              "#f0f921"
             ]
            ],
            "type": "heatmapgl"
           }
          ],
          "histogram": [
           {
            "marker": {
             "pattern": {
              "fillmode": "overlay",
              "size": 10,
              "solidity": 0.2
             }
            },
            "type": "histogram"
           }
          ],
          "histogram2d": [
           {
            "colorbar": {
             "outlinewidth": 0,
             "ticks": ""
            },
            "colorscale": [
             [
              0,
              "#0d0887"
             ],
             [
              0.1111111111111111,
              "#46039f"
             ],
             [
              0.2222222222222222,
              "#7201a8"
             ],
             [
              0.3333333333333333,
              "#9c179e"
             ],
             [
              0.4444444444444444,
              "#bd3786"
             ],
             [
              0.5555555555555556,
              "#d8576b"
             ],
             [
              0.6666666666666666,
              "#ed7953"
             ],
             [
              0.7777777777777778,
              "#fb9f3a"
             ],
             [
              0.8888888888888888,
              "#fdca26"
             ],
             [
              1,
              "#f0f921"
             ]
            ],
            "type": "histogram2d"
           }
          ],
          "histogram2dcontour": [
           {
            "colorbar": {
             "outlinewidth": 0,
             "ticks": ""
            },
            "colorscale": [
             [
              0,
              "#0d0887"
             ],
             [
              0.1111111111111111,
              "#46039f"
             ],
             [
              0.2222222222222222,
              "#7201a8"
             ],
             [
              0.3333333333333333,
              "#9c179e"
             ],
             [
              0.4444444444444444,
              "#bd3786"
             ],
             [
              0.5555555555555556,
              "#d8576b"
             ],
             [
              0.6666666666666666,
              "#ed7953"
             ],
             [
              0.7777777777777778,
              "#fb9f3a"
             ],
             [
              0.8888888888888888,
              "#fdca26"
             ],
             [
              1,
              "#f0f921"
             ]
            ],
            "type": "histogram2dcontour"
           }
          ],
          "mesh3d": [
           {
            "colorbar": {
             "outlinewidth": 0,
             "ticks": ""
            },
            "type": "mesh3d"
           }
          ],
          "parcoords": [
           {
            "line": {
             "colorbar": {
              "outlinewidth": 0,
              "ticks": ""
             }
            },
            "type": "parcoords"
           }
          ],
          "pie": [
           {
            "automargin": true,
            "type": "pie"
           }
          ],
          "scatter": [
           {
            "fillpattern": {
             "fillmode": "overlay",
             "size": 10,
             "solidity": 0.2
            },
            "type": "scatter"
           }
          ],
          "scatter3d": [
           {
            "line": {
             "colorbar": {
              "outlinewidth": 0,
              "ticks": ""
             }
            },
            "marker": {
             "colorbar": {
              "outlinewidth": 0,
              "ticks": ""
             }
            },
            "type": "scatter3d"
           }
          ],
          "scattercarpet": [
           {
            "marker": {
             "colorbar": {
              "outlinewidth": 0,
              "ticks": ""
             }
            },
            "type": "scattercarpet"
           }
          ],
          "scattergeo": [
           {
            "marker": {
             "colorbar": {
              "outlinewidth": 0,
              "ticks": ""
             }
            },
            "type": "scattergeo"
           }
          ],
          "scattergl": [
           {
            "marker": {
             "colorbar": {
              "outlinewidth": 0,
              "ticks": ""
             }
            },
            "type": "scattergl"
           }
          ],
          "scattermapbox": [
           {
            "marker": {
             "colorbar": {
              "outlinewidth": 0,
              "ticks": ""
             }
            },
            "type": "scattermapbox"
           }
          ],
          "scatterpolar": [
           {
            "marker": {
             "colorbar": {
              "outlinewidth": 0,
              "ticks": ""
             }
            },
            "type": "scatterpolar"
           }
          ],
          "scatterpolargl": [
           {
            "marker": {
             "colorbar": {
              "outlinewidth": 0,
              "ticks": ""
             }
            },
            "type": "scatterpolargl"
           }
          ],
          "scatterternary": [
           {
            "marker": {
             "colorbar": {
              "outlinewidth": 0,
              "ticks": ""
             }
            },
            "type": "scatterternary"
           }
          ],
          "surface": [
           {
            "colorbar": {
             "outlinewidth": 0,
             "ticks": ""
            },
            "colorscale": [
             [
              0,
              "#0d0887"
             ],
             [
              0.1111111111111111,
              "#46039f"
             ],
             [
              0.2222222222222222,
              "#7201a8"
             ],
             [
              0.3333333333333333,
              "#9c179e"
             ],
             [
              0.4444444444444444,
              "#bd3786"
             ],
             [
              0.5555555555555556,
              "#d8576b"
             ],
             [
              0.6666666666666666,
              "#ed7953"
             ],
             [
              0.7777777777777778,
              "#fb9f3a"
             ],
             [
              0.8888888888888888,
              "#fdca26"
             ],
             [
              1,
              "#f0f921"
             ]
            ],
            "type": "surface"
           }
          ],
          "table": [
           {
            "cells": {
             "fill": {
              "color": "#EBF0F8"
             },
             "line": {
              "color": "white"
             }
            },
            "header": {
             "fill": {
              "color": "#C8D4E3"
             },
             "line": {
              "color": "white"
             }
            },
            "type": "table"
           }
          ]
         },
         "layout": {
          "annotationdefaults": {
           "arrowcolor": "#2a3f5f",
           "arrowhead": 0,
           "arrowwidth": 1
          },
          "autotypenumbers": "strict",
          "coloraxis": {
           "colorbar": {
            "outlinewidth": 0,
            "ticks": ""
           }
          },
          "colorscale": {
           "diverging": [
            [
             0,
             "#8e0152"
            ],
            [
             0.1,
             "#c51b7d"
            ],
            [
             0.2,
             "#de77ae"
            ],
            [
             0.3,
             "#f1b6da"
            ],
            [
             0.4,
             "#fde0ef"
            ],
            [
             0.5,
             "#f7f7f7"
            ],
            [
             0.6,
             "#e6f5d0"
            ],
            [
             0.7,
             "#b8e186"
            ],
            [
             0.8,
             "#7fbc41"
            ],
            [
             0.9,
             "#4d9221"
            ],
            [
             1,
             "#276419"
            ]
           ],
           "sequential": [
            [
             0,
             "#0d0887"
            ],
            [
             0.1111111111111111,
             "#46039f"
            ],
            [
             0.2222222222222222,
             "#7201a8"
            ],
            [
             0.3333333333333333,
             "#9c179e"
            ],
            [
             0.4444444444444444,
             "#bd3786"
            ],
            [
             0.5555555555555556,
             "#d8576b"
            ],
            [
             0.6666666666666666,
             "#ed7953"
            ],
            [
             0.7777777777777778,
             "#fb9f3a"
            ],
            [
             0.8888888888888888,
             "#fdca26"
            ],
            [
             1,
             "#f0f921"
            ]
           ],
           "sequentialminus": [
            [
             0,
             "#0d0887"
            ],
            [
             0.1111111111111111,
             "#46039f"
            ],
            [
             0.2222222222222222,
             "#7201a8"
            ],
            [
             0.3333333333333333,
             "#9c179e"
            ],
            [
             0.4444444444444444,
             "#bd3786"
            ],
            [
             0.5555555555555556,
             "#d8576b"
            ],
            [
             0.6666666666666666,
             "#ed7953"
            ],
            [
             0.7777777777777778,
             "#fb9f3a"
            ],
            [
             0.8888888888888888,
             "#fdca26"
            ],
            [
             1,
             "#f0f921"
            ]
           ]
          },
          "colorway": [
           "#636efa",
           "#EF553B",
           "#00cc96",
           "#ab63fa",
           "#FFA15A",
           "#19d3f3",
           "#FF6692",
           "#B6E880",
           "#FF97FF",
           "#FECB52"
          ],
          "font": {
           "color": "#2a3f5f"
          },
          "geo": {
           "bgcolor": "white",
           "lakecolor": "white",
           "landcolor": "#E5ECF6",
           "showlakes": true,
           "showland": true,
           "subunitcolor": "white"
          },
          "hoverlabel": {
           "align": "left"
          },
          "hovermode": "closest",
          "mapbox": {
           "style": "light"
          },
          "paper_bgcolor": "white",
          "plot_bgcolor": "#E5ECF6",
          "polar": {
           "angularaxis": {
            "gridcolor": "white",
            "linecolor": "white",
            "ticks": ""
           },
           "bgcolor": "#E5ECF6",
           "radialaxis": {
            "gridcolor": "white",
            "linecolor": "white",
            "ticks": ""
           }
          },
          "scene": {
           "xaxis": {
            "backgroundcolor": "#E5ECF6",
            "gridcolor": "white",
            "gridwidth": 2,
            "linecolor": "white",
            "showbackground": true,
            "ticks": "",
            "zerolinecolor": "white"
           },
           "yaxis": {
            "backgroundcolor": "#E5ECF6",
            "gridcolor": "white",
            "gridwidth": 2,
            "linecolor": "white",
            "showbackground": true,
            "ticks": "",
            "zerolinecolor": "white"
           },
           "zaxis": {
            "backgroundcolor": "#E5ECF6",
            "gridcolor": "white",
            "gridwidth": 2,
            "linecolor": "white",
            "showbackground": true,
            "ticks": "",
            "zerolinecolor": "white"
           }
          },
          "shapedefaults": {
           "line": {
            "color": "#2a3f5f"
           }
          },
          "ternary": {
           "aaxis": {
            "gridcolor": "white",
            "linecolor": "white",
            "ticks": ""
           },
           "baxis": {
            "gridcolor": "white",
            "linecolor": "white",
            "ticks": ""
           },
           "bgcolor": "#E5ECF6",
           "caxis": {
            "gridcolor": "white",
            "linecolor": "white",
            "ticks": ""
           }
          },
          "title": {
           "x": 0.05
          },
          "xaxis": {
           "automargin": true,
           "gridcolor": "white",
           "linecolor": "white",
           "ticks": "",
           "title": {
            "standoff": 15
           },
           "zerolinecolor": "white",
           "zerolinewidth": 2
          },
          "yaxis": {
           "automargin": true,
           "gridcolor": "white",
           "linecolor": "white",
           "ticks": "",
           "title": {
            "standoff": 15
           },
           "zerolinecolor": "white",
           "zerolinewidth": 2
          }
         }
        },
        "title": {
         "text": "Adjusted Min-Max Temperature Data"
        },
        "xaxis": {
         "title": {
          "text": "Month"
         }
        },
        "yaxis": {
         "title": {
          "text": "Temperature Difference from Average (°C)"
         }
        }
       }
      }
     },
     "metadata": {},
     "output_type": "display_data"
    }
   ],
   "source": [
    "# Subtract the average temperature from min and max temperatures\n",
    "min_temp_adj = min_temp - avg_temp\n",
    "max_temp_adj = max_temp - avg_temp\n",
    "\n",
    "# Create a Plotly figure\n",
    "fig = go.Figure()\n",
    "\n",
    "# Add a bar chart for adjusted min-max temperature\n",
    "fig.add_trace(go.Bar(\n",
    "    x=min_temp_adj.month,\n",
    "    y=max_temp_adj - min_temp_adj,\n",
    "    base=min_temp_adj,\n",
    "    name='Adjusted Min-Max Temperature'\n",
    "))\n",
    "\n",
    "# Set the layout\n",
    "fig.update_layout(\n",
    "    xaxis=dict(title='Month'),\n",
    "    yaxis=dict(title='Temperature Difference from Average (°C)'),\n",
    "    title='Adjusted Min-Max Temperature Data'\n",
    ")\n",
    "\n",
    "# Show the figure\n",
    "fig.show()"
   ]
  },
  {
   "cell_type": "code",
   "execution_count": 112,
   "metadata": {},
   "outputs": [
    {
     "data": {
      "application/vnd.plotly.v1+json": {
       "config": {
        "plotlyServerURL": "https://plot.ly"
       },
       "data": [
        {
         "marker": {
          "cmax": 4.143424987792969,
          "cmin": 0.005878992844372988,
          "color": [
           0.7555428743362427,
           0.7484057545661926,
           0.7795392274856567,
           0.791947066783905,
           0.7925258278846741,
           0.7897077202796936,
           0.7882018089294434,
           0.7841511964797974,
           0.79975825548172,
           0.8933579921722412,
           0.9035070538520813,
           0.9509914517402649,
           0.9918553233146667,
           1.0213944911956787,
           1.0961809158325195,
           1.1834800243377686,
           1.2352155447006226,
           1.1157655715942383,
           1.0938632488250732,
           1.0405670404434204,
           0.9957131147384644,
           0.9483702778816223,
           0.7704315185546875,
           0.7654513120651245,
           0.42850714921951294,
           0.4184233844280243,
           0.43925660848617554,
           0.4529556334018707,
           0.4536568224430084,
           0.4733339548110962,
           0.502230703830719,
           0.49728724360466003,
           0.5154470801353455,
           0.6010130047798157,
           0.6747699975967407,
           0.748691201210022,
           0.8087849020957947,
           0.7870517373085022,
           0.7971735596656799,
           0.8367327451705933,
           0.9120815396308899,
           0.9363068342208862,
           0.857738733291626,
           0.7626157999038696,
           0.6996496319770813,
           0.6833967566490173,
           0.4846569895744324,
           0.4755551517009735,
           0.8547597527503967,
           0.8793837428092957,
           0.9305164217948914,
           0.9652689099311829,
           0.979760468006134,
           0.9629449844360352,
           0.9596287608146667,
           0.9503891468048096,
           1.0432469844818115,
           1.0808638334274292,
           1.1745920181274414,
           1.1305183172225952,
           1.065644383430481,
           1.0237069129943848,
           1.0520519018173218,
           1.0832494497299194,
           1.0349379777908325,
           0.8270681500434875,
           0.71025550365448,
           0.7614994049072266,
           0.8265807628631592,
           0.8667590618133545,
           0.9808637499809265,
           0.982413113117218,
           1.3202753067016602,
           1.3095802068710327,
           1.2922624349594116,
           1.2748967409133911,
           1.2353599071502686,
           1.2135791778564453,
           1.2336682081222534,
           1.2671537399291992,
           1.3073269128799438,
           1.3457560539245605,
           1.4020766019821167,
           1.336802363395691,
           1.315002679824829,
           1.396592617034912,
           1.469645380973816,
           1.525061845779419,
           1.5142847299575806,
           1.4044569730758667,
           1.1382362842559814,
           1.1560966968536377,
           1.1495239734649658,
           1.107397437095642,
           1.1655482053756714,
           1.1645667552947998,
           0.31998494267463684,
           0.3856063485145569,
           0.4219171702861786,
           0.4177185893058777,
           0.39079979062080383,
           0.37145042419433594,
           0.4000106453895569,
           0.349504679441452,
           0.24823282659053802,
           0.1737755835056305,
           0.2046137899160385,
           0.3332423269748688,
           0.4261276423931122,
           0.4409237205982208,
           0.43218329548835754,
           0.3869304358959198,
           0.3528081178665161,
           0.29475468397140503,
           0.2585003972053528,
           0.12991926074028015,
           0.0798831433057785,
           0.05321823060512543,
           0.22672700881958008,
           0.2885695993900299,
           1.0482906103134155,
           1.0454200506210327,
           1.0312156677246094,
           1.0075743198394775,
           0.9835342764854431,
           0.9395030736923218,
           1.0061635971069336,
           0.9720864295959473,
           1.0149164199829102,
           1.0092542171478271,
           1.0600939989089966,
           1.1717438697814941,
           1.3536186218261719,
           1.502543330192566,
           1.590646743774414,
           1.6980626583099365,
           1.738600730895996,
           1.7171034812927246,
           1.5255722999572754,
           1.198052167892456,
           1.0809826850891113,
           1.0459120273590088,
           1.0263113975524902,
           1.0470274686813354,
           0.4126833379268646,
           0.34795188903808594,
           0.3211928606033325,
           0.2929466664791107,
           0.30606263875961304,
           0.34125202894210815,
           0.3560212552547455,
           0.5245415568351746,
           0.745200514793396,
           0.9824368953704834,
           1.071850061416626,
           1.2326927185058594,
           1.2895978689193726,
           1.2527295351028442,
           1.2118664979934692,
           1.144246220588684,
           1.1172189712524414,
           1.085835337638855,
           1.0579814910888672,
           0.9152197241783142,
           0.8757618069648743,
           0.8317582011222839,
           0.667414665222168,
           0.576924741268158,
           0.5446091890335083,
           0.5287966728210449,
           0.5122568607330322,
           0.5035547018051147,
           0.49238666892051697,
           0.45168933272361755,
           0.4232138395309448,
           0.3758397400379181,
           0.2776060998439789,
           0.3513255715370178,
           0.6717520952224731,
           0.906782329082489,
           1.101218581199646,
           1.2338073253631592,
           1.317960500717163,
           1.2984622716903687,
           1.2352609634399414,
           1.0853297710418701,
           0.8410325050354004,
           0.668199360370636,
           0.6479678750038147,
           0.6439735293388367,
           0.6780655384063721,
           0.6188182830810547,
           0.3002910614013672,
           0.2256350964307785,
           0.14604820311069489,
           0.08011747896671295,
           0.06606613844633102,
           0.09318506717681885,
           0.1052943542599678,
           0.17921896278858185,
           0.31061819195747375,
           0.49584510922431946,
           0.6539061069488525,
           0.8530884385108948,
           1.0091661214828491,
           1.084189534187317,
           1.0883383750915527,
           1.0060126781463623,
           0.8779992461204529,
           0.7181676030158997,
           0.6754900217056274,
           0.6038953065872192,
           0.6175885796546936,
           0.629924476146698,
           0.5383117198944092,
           0.4468189775943756,
           1.5992106199264526,
           1.5978316068649292,
           1.5880341529846191,
           1.593862771987915,
           1.5703853368759155,
           1.5169403553009033,
           1.5099588632583618,
           1.5341705083847046,
           1.6400748491287231,
           1.788954257965088,
           1.986750602722168,
           2.1379473209381104,
           2.244331121444702,
           2.3114235401153564,
           2.3249406814575195,
           2.2983124256134033,
           2.115241527557373,
           1.7654765844345093,
           1.5853993892669678,
           1.5514957904815674,
           1.5420948266983032,
           1.5428272485733032,
           1.7110780477523804,
           1.7051883935928345,
           0.9499698281288147,
           0.9707074761390686,
           0.9667606949806213,
           0.9550260305404663,
           0.9398127794265747,
           0.8958021998405457,
           0.8790243864059448,
           0.8570478558540344,
           0.906793475151062,
           0.894201934337616,
           0.9816749691963196,
           0.9236346483230591,
           0.9009846448898315,
           0.9283129572868347,
           0.9699509739875793,
           0.9591541290283203,
           0.804764986038208,
           0.796013593673706,
           0.814294159412384,
           0.8033301830291748,
           0.7728519439697266,
           0.7748638391494751,
           0.8634198904037476,
           0.8653790354728699,
           0.7245136499404907,
           0.7403481602668762,
           0.7701795101165771,
           0.8125788569450378,
           0.8680335283279419,
           0.8449560403823853,
           0.806628942489624,
           0.7934495806694031,
           0.8453531861305237,
           0.776806652545929,
           0.8208615779876709,
           0.7522257566452026,
           0.6797396540641785,
           0.5910746455192566,
           0.5275225043296814,
           0.4995892345905304,
           0.5069140791893005,
           0.5113581418991089,
           0.48013681173324585,
           0.4511702358722687,
           0.4073645770549774,
           0.4000530242919922,
           0.5607662796974182,
           0.6476049423217773,
           0.2637663781642914,
           0.2892756462097168,
           0.3094775080680847,
           0.33920609951019287,
           0.36413609981536865,
           0.3589033782482147,
           0.3553544878959656,
           0.3412083089351654,
           0.360371857881546,
           0.3915203809738159,
           0.45826923847198486,
           0.4545396566390991,
           0.47271549701690674,
           0.47412776947021484,
           0.4881974756717682,
           0.5697456002235413,
           0.6650481224060059,
           0.6407004594802856,
           0.5948041081428528,
           0.499017596244812,
           0.4204082190990448,
           0.3784749507904053,
           0.2910986542701721,
           0.3231886625289917,
           1.370491862297058,
           1.3493043184280396,
           1.3751901388168335,
           1.3797603845596313,
           1.3879987001419067,
           1.392516016960144,
           1.3987910747528076,
           1.3798723220825195,
           1.474536657333374,
           1.7134430408477783,
           1.7836549282073975,
           1.8025553226470947,
           1.7767850160598755,
           1.7425343990325928,
           1.7558526992797852,
           1.8190385103225708,
           1.8975541591644287,
           1.7908047437667847,
           1.651440143585205,
           1.6161906719207764,
           1.559670090675354,
           1.5115768909454346,
           1.21837317943573,
           1.2107491493225098,
           0.14261683821678162,
           0.1677796095609665,
           0.19079101085662842,
           0.21272945404052734,
           0.22529247403144836,
           0.2240360528230667,
           0.24412304162979126,
           0.27104178071022034,
           0.31697243452072144,
           0.4160847067832947,
           0.33990803360939026,
           0.3735971748828888,
           0.47649720311164856,
           0.48970064520835876,
           0.45873913168907166,
           0.36794155836105347,
           0.31410035490989685,
           0.32133370637893677,
           0.3536849617958069,
           0.24014511704444885,
           0.10998144000768661,
           0.08058547973632812,
           0.18890345096588135,
           0.14720100164413452,
           1.5595487356185913,
           1.521711826324463,
           1.4706951379776,
           1.4390288591384888,
           1.3728017807006836,
           1.3414530754089355,
           1.336155891418457,
           1.4652255773544312,
           1.6312458515167236,
           1.7580050230026245,
           1.9208855628967285,
           2.058912515640259,
           2.2039177417755127,
           2.329540967941284,
           2.4513516426086426,
           2.5188205242156982,
           2.4741878509521484,
           2.2858800888061523,
           1.8604692220687866,
           1.6235328912734985,
           1.5862337350845337,
           1.5615743398666382,
           1.6167142391204834,
           1.590994954109192,
           0.5927448272705078,
           0.6016145944595337,
           0.5512205958366394,
           0.5118776559829712,
           0.4509202539920807,
           0.38882046937942505,
           0.39224714040756226,
           0.29945260286331177,
           0.17099447548389435,
           0.28832143545150757,
           0.6579583287239075,
           0.9809689521789551,
           1.195151925086975,
           1.2922292947769165,
           1.2910500764846802,
           1.201084852218628,
           1.1122294664382935,
           0.949849009513855,
           0.7259994149208069,
           0.557081401348114,
           0.520271897315979,
           0.4791193902492523,
           0.5567347407341003,
           0.5506295561790466,
           0.199555441737175,
           0.2678113281726837,
           0.29568684101104736,
           0.313428670167923,
           0.2837739884853363,
           0.22591857612133026,
           0.24672017991542816,
           0.1846695840358734,
           0.291038453578949,
           0.46742814779281616,
           0.6828219890594482,
           0.813833475112915,
           0.8835608959197998,
           0.8970728516578674,
           0.8579754829406738,
           0.8022677898406982,
           0.7310394048690796,
           0.6229428648948669,
           0.4424082636833191,
           0.24542666971683502,
           0.12096528708934784,
           0.08965590596199036,
           0.19861379265785217,
           0.2133723497390747,
           0.3132109045982361,
           0.24587704241275787,
           0.26657605171203613,
           0.3266598582267761,
           0.40334731340408325,
           0.45421403646469116,
           0.5686213374137878,
           0.7793503403663635,
           0.9886589050292969,
           1.0803308486938477,
           0.9727534651756287,
           0.961765706539154,
           0.9652552008628845,
           0.9169045686721802,
           0.8757320046424866,
           0.8214929699897766,
           0.791617214679718,
           0.7919238209724426,
           0.8793795704841614,
           0.8757754564285278,
           0.824809193611145,
           0.7860768437385559,
           0.6096735000610352,
           0.4835192859172821,
           0.20461119711399078,
           0.131911501288414,
           0.11334002017974854,
           0.11469767987728119,
           0.17653830349445343,
           0.24586685001850128,
           0.3340447247028351,
           0.454725980758667,
           0.6475399136543274,
           0.8747050762176514,
           1.0285097360610962,
           1.201941728591919,
           1.309495449066162,
           1.3405237197875977,
           1.327049970626831,
           1.2381840944290161,
           1.1141186952590942,
           0.962061882019043,
           0.8462644219398499,
           0.71599942445755,
           0.6775900721549988,
           0.5990689992904663,
           0.4019295871257782,
           0.2578190267086029,
           1.1975016593933105,
           1.207465410232544,
           1.2006107568740845,
           1.1861883401870728,
           1.1722921133041382,
           1.1554369926452637,
           1.1305211782455444,
           1.185391902923584,
           1.2097291946411133,
           1.2581385374069214,
           1.296155333518982,
           1.469604253768921,
           1.6909807920455933,
           1.8794851303100586,
           2.0106704235076904,
           2.0574657917022705,
           2.019259452819824,
           1.8060705661773682,
           1.3851014375686646,
           1.2427892684936523,
           1.190312147140503,
           1.1874340772628784,
           1.3106385469436646,
           1.3276026248931885,
           1.1981656551361084,
           1.186266303062439,
           1.132657766342163,
           1.0930570363998413,
           1.0444657802581787,
           0.963767409324646,
           0.9147325754165649,
           0.8944337368011475,
           0.9013746380805969,
           0.9615826606750488,
           1.1153185367584229,
           1.3110467195510864,
           1.5507094860076904,
           1.6852065324783325,
           1.7148653268814087,
           1.6346023082733154,
           1.4637192487716675,
           1.1913563013076782,
           0.9882187843322754,
           0.9025023579597473,
           0.8825991153717041,
           0.8903027772903442,
           1.1206799745559692,
           1.1140496730804443,
           0.3802701532840729,
           0.43138495087623596,
           0.44658318161964417,
           0.48842883110046387,
           0.5015522241592407,
           0.4639102816581726,
           0.4384319484233856,
           0.4275519549846649,
           0.4168485105037689,
           0.3540900647640228,
           0.31743982434272766,
           0.20446369051933289,
           0.15609945356845856,
           0.15611520409584045,
           0.12278585135936737,
           0.07233744859695435,
           0.13783429563045502,
           0.2181423008441925,
           0.2107742726802826,
           0.19758369028568268,
           0.22066788375377655,
           0.28822457790374756,
           0.4431457221508026,
           0.48964017629623413,
           1.4970533847808838,
           1.477323055267334,
           1.442659854888916,
           1.4134538173675537,
           1.3988540172576904,
           1.378561019897461,
           1.3935009241104126,
           1.4016669988632202,
           1.4460434913635254,
           1.4862462282180786,
           1.5092999935150146,
           1.575289249420166,
           1.620587706565857,
           1.6614984273910522,
           1.6622153520584106,
           1.604907751083374,
           1.4143273830413818,
           1.4103150367736816,
           1.5031665563583374,
           1.5270702838897705,
           1.5014488697052002,
           1.484843373298645,
           1.5292972326278687,
           1.490168571472168,
           1.5257970094680786,
           1.5291777849197388,
           1.4937282800674438,
           1.4887672662734985,
           1.4973523616790771,
           1.4979591369628906,
           1.4857860803604126,
           1.435975193977356,
           1.4152772426605225,
           1.4321950674057007,
           1.4521229267120361,
           1.4237070083618164,
           1.4294328689575195,
           1.4755710363388062,
           1.5439271926879883,
           1.5423784255981445,
           1.410361409187317,
           1.3996045589447021,
           1.4349524974822998,
           1.4687857627868652,
           1.4558148384094238,
           1.4056017398834229,
           1.4292627573013306,
           1.4165085554122925,
           1.6190071105957031,
           1.577808141708374,
           1.5332708358764648,
           1.5334604978561401,
           1.512213110923767,
           1.4702327251434326,
           1.4309940338134766,
           1.438261866569519,
           1.5357294082641602,
           1.625608205795288,
           1.8731434345245361,
           2.1346170902252197,
           2.2783219814300537,
           2.395116090774536,
           2.4884560108184814,
           2.545654773712158,
           2.430461883544922,
           2.0244102478027344,
           1.8484965562820435,
           1.8478258848190308,
           1.8003312349319458,
           1.753226399421692,
           1.7821476459503174,
           1.7215542793273926,
           0.42694026231765747,
           0.4269043803215027,
           0.45922037959098816,
           0.46622294187545776,
           0.4686683118343353,
           0.4767714738845825,
           0.4924165606498718,
           0.5412747263908386,
           0.6608867049217224,
           0.8864128589630127,
           1.023627758026123,
           1.1828083992004395,
           1.2842042446136475,
           1.305841088294983,
           1.2840533256530762,
           1.2538018226623535,
           1.2373542785644531,
           1.131714105606079,
           0.9085949659347534,
           0.7840047478675842,
           0.6623709201812744,
           0.585249662399292,
           0.4119046628475189,
           0.3843230903148651,
           1.2294270992279053,
           1.2413673400878906,
           1.2481435537338257,
           1.2368661165237427,
           1.1935601234436035,
           1.127188801765442,
           1.0731269121170044,
           1.105729341506958,
           1.1748521327972412,
           1.144476294517517,
           1.1813517808914185,
           1.2147959470748901,
           1.252191424369812,
           1.332230567932129,
           1.4725059270858765,
           1.589768409729004,
           1.684326410293579,
           1.666326880455017,
           1.4115409851074219,
           1.1896722316741943,
           1.1655702590942383,
           1.1433045864105225,
           1.1804840564727783,
           1.1492661237716675,
           1.0620596408843994,
           1.0558621883392334,
           0.9913569688796997,
           0.9535361528396606,
           0.9106131792068481,
           0.8769924640655518,
           0.8467206358909607,
           0.8558140397071838,
           0.8693765997886658,
           1.0114675760269165,
           1.2797293663024902,
           1.5859030485153198,
           1.8361107110977173,
           2.031309127807617,
           2.135155439376831,
           2.16266131401062,
           2.1185688972473145,
           2.0009658336639404,
           1.686142921447754,
           1.3210124969482422,
           1.1940234899520874,
           1.1082570552825928,
           1.1677377223968506,
           1.108789324760437,
           0.2581988275051117,
           0.2489050179719925,
           0.2666529417037964,
           0.3149140775203705,
           0.36388111114501953,
           0.40624094009399414,
           0.4805450737476349,
           0.6529881954193115,
           0.8720667958259583,
           1.071669340133667,
           1.0796282291412354,
           1.1815599203109741,
           1.2284469604492188,
           1.1665596961975098,
           1.0632067918777466,
           0.9572327733039856,
           0.8735895156860352,
           0.8335769772529602,
           0.8078336715698242,
           0.7393024563789368,
           0.6188994646072388,
           0.556217610836029,
           0.3680063486099243,
           0.2989649176597595,
           0.5440934300422668,
           0.446922242641449,
           0.34750640392303467,
           0.27035120129585266,
           0.2270975112915039,
           0.21033158898353577,
           0.15962719917297363,
           0.17606212198734283,
           0.3034816384315491,
           0.5234243869781494,
           0.90390944480896,
           1.1471797227859497,
           1.3424550294876099,
           1.4435713291168213,
           1.5102285146713257,
           1.4912326335906982,
           1.438737154006958,
           1.2986071109771729,
           1.0502272844314575,
           0.7732868790626526,
           0.6902139186859131,
           0.6653901934623718,
           0.7584090828895569,
           0.6476566791534424,
           0.50077885389328,
           0.48552045226097107,
           0.4803520441055298,
           0.4956321120262146,
           0.48684820532798767,
           0.45624294877052307,
           0.39222463965415955,
           0.3415953516960144,
           0.13594892621040344,
           0.30671370029449463,
           0.7795038819313049,
           1.0923666954040527,
           1.3935215473175049,
           1.5539661645889282,
           1.6461155414581299,
           1.657497763633728,
           1.5706522464752197,
           1.3269758224487305,
           0.9895849227905273,
           0.7238593697547913,
           0.6690838932991028,
           0.6295005679130554,
           0.6825451254844666,
           0.5815815329551697,
           0.534028947353363,
           0.5936660170555115,
           0.6319608092308044,
           0.651921808719635,
           0.6172058582305908,
           0.5595197677612305,
           0.5056118369102478,
           0.5504101514816284,
           0.45061028003692627,
           0.35011011362075806,
           0.37329769134521484,
           0.4812653660774231,
           0.6581206917762756,
           0.7888852953910828,
           0.877901017665863,
           0.9179856777191162,
           0.885722815990448,
           0.7533385753631592,
           0.4841529130935669,
           0.40627023577690125,
           0.3993411064147949,
           0.3721984028816223,
           0.5893598198890686,
           0.5179463624954224,
           0.25921040773391724,
           0.30118557810783386,
           0.2962494194507599,
           0.2695810794830322,
           0.25503936409950256,
           0.2255573719739914,
           0.21810665726661682,
           0.2420528680086136,
           0.21447348594665527,
           0.1533167064189911,
           0.14479775726795197,
           0.14743344485759735,
           0.28018662333488464,
           0.3490844666957855,
           0.35006487369537354,
           0.26032188534736633,
           0.1224893182516098,
           0.1403013914823532,
           0.1555984914302826,
           0.16259577870368958,
           0.13156801462173462,
           0.13794399797916412,
           0.195077583193779,
           0.21634311974048615,
           0.5008431077003479,
           0.5292531251907349,
           0.5197955369949341,
           0.5153569579124451,
           0.506158173084259,
           0.4786485731601715,
           0.4875151216983795,
           0.490823358297348,
           0.5377755165100098,
           0.5377288460731506,
           0.7165771722793579,
           0.8081793785095215,
           0.8554195165634155,
           0.8648163080215454,
           0.8330586552619934,
           0.7315788865089417,
           0.5552935004234314,
           0.3703269958496094,
           0.33513903617858887,
           0.3664517104625702,
           0.38108596205711365,
           0.33650872111320496,
           0.5022074580192566,
           0.46306151151657104,
           0.9717726111412048,
           1.0010706186294556,
           0.9783891439437866,
           0.9512404203414917,
           0.9354029297828674,
           0.8928337097167969,
           0.8578540682792664,
           0.8757384419441223,
           0.9267189502716064,
           0.9383103251457214,
           0.969379186630249,
           1.0543397665023804,
           1.1345043182373047,
           1.2046165466308594,
           1.1906473636627197,
           1.1060086488723755,
           0.8963257074356079,
           0.8897879719734192,
           0.9705986976623535,
           0.9961533546447754,
           1.0007950067520142,
           0.9839499592781067,
           1.156427264213562,
           1.1440638303756714,
           1.8632586002349854,
           1.844219446182251,
           1.7931187152862549,
           1.7551989555358887,
           1.7642455101013184,
           1.7681989669799805,
           1.7450774908065796,
           1.7264001369476318,
           1.7742875814437866,
           1.8781747817993164,
           2.061561107635498,
           2.191267251968384,
           2.260310649871826,
           2.3139607906341553,
           2.3289096355438232,
           2.2727010250091553,
           2.0249953269958496,
           1.7202430963516235,
           1.6916340589523315,
           1.683954119682312,
           1.6692548990249634,
           1.6337037086486816,
           1.7716337442398071,
           1.7372735738754272,
           1.2523565292358398,
           1.2917615175247192,
           1.2940305471420288,
           1.2921183109283447,
           1.2961617708206177,
           1.2482521533966064,
           1.1959937810897827,
           1.1414648294448853,
           1.1850440502166748,
           1.1582521200180054,
           1.2095144987106323,
           1.182483196258545,
           1.2086901664733887,
           1.2816414833068848,
           1.3419004678726196,
           1.3814611434936523,
           1.3559383153915405,
           1.1261751651763916,
           1.0639773607254028,
           1.1178159713745117,
           1.1431076526641846,
           1.127711534500122,
           1.215467095375061,
           1.184295654296875,
           0.7269536852836609,
           0.7754457592964172,
           0.8229943513870239,
           0.8104374408721924,
           0.8149656057357788,
           0.7964392304420471,
           0.7790548205375671,
           0.7713995575904846,
           0.8062041997909546,
           0.8553509712219238,
           0.7921960353851318,
           0.7657744288444519,
           0.6974939703941345,
           0.6518363356590271,
           0.5938200354576111,
           0.5570003986358643,
           0.5198529958724976,
           0.5137286186218262,
           0.4660033881664276,
           0.4030049443244934,
           0.431784451007843,
           0.4801756739616394,
           0.49703046679496765,
           0.5523064136505127,
           0.21176446974277496,
           0.24967138469219208,
           0.2742723822593689,
           0.30338945984840393,
           0.3195679485797882,
           0.3346644937992096,
           0.3433654010295868,
           0.3690323829650879,
           0.3392923176288605,
           0.1347629576921463,
           0.08836769312620163,
           0.24468426406383514,
           0.38854870200157166,
           0.4013359844684601,
           0.35527434945106506,
           0.259507954120636,
           0.2055056393146515,
           0.22735367715358734,
           0.30211132764816284,
           0.32677170634269714,
           0.29631736874580383,
           0.22299084067344666,
           0.3160453736782074,
           0.2680368721485138,
           0.21537694334983826,
           0.27562642097473145,
           0.3151099979877472,
           0.3554210662841797,
           0.3587394952774048,
           0.333884596824646,
           0.33712923526763916,
           0.2990296483039856,
           0.22205960750579834,
           0.1814938485622406,
           0.28020018339157104,
           0.44976553320884705,
           0.5931059122085571,
           0.6444208025932312,
           0.6594942212104797,
           0.6740918159484863,
           0.6562341451644897,
           0.5649998784065247,
           0.3361779749393463,
           0.10379587113857269,
           0.046367477625608444,
           0.08047451823949814,
           0.15798239409923553,
           0.2028169482946396,
           0.2039884775876999,
           0.09951800107955933,
           0.08513381332159042,
           0.08382011950016022,
           0.10734213888645172,
           0.1335681974887848,
           0.17199987173080444,
           0.3080643117427826,
           0.5026937127113342,
           0.6921120882034302,
           0.7929116487503052,
           0.9377891421318054,
           1.0174882411956787,
           0.9750832915306091,
           0.9330335855484009,
           0.8762590289115906,
           0.8503797650337219,
           0.8718099594116211,
           0.8855319619178772,
           0.8315471410751343,
           0.7388420701026917,
           0.6603731513023376,
           0.5392496585845947,
           0.40125441551208496,
           0.19936087727546692,
           0.21539589762687683,
           0.2286260426044464,
           0.2262008637189865,
           0.20473285019397736,
           0.1765267252922058,
           0.2017693966627121,
           0.15524280071258545,
           0.1957666575908661,
           0.3725002110004425,
           0.7376327514648438,
           0.9893198013305664,
           1.1517585515975952,
           1.1643410921096802,
           1.1305103302001953,
           1.0440694093704224,
           0.9550558924674988,
           0.8287027478218079,
           0.6665070056915283,
           0.5374199151992798,
           0.4796901047229767,
           0.4181738495826721,
           0.4109572172164917,
           0.30917784571647644,
           0.31041303277015686,
           0.1829756498336792,
           0.11039659380912781,
           0.043017782270908356,
           0.020126212388277054,
           0.02587362937629223,
           0.08411985635757446,
           0.1915886402130127,
           0.3161439895629883,
           0.4072282612323761,
           0.5296424031257629,
           0.6540395021438599,
           0.7394753694534302,
           0.7315200567245483,
           0.6975960731506348,
           0.6232382655143738,
           0.5920607447624207,
           0.5748646259307861,
           0.6107348203659058,
           0.5988147854804993,
           0.5754337906837463,
           0.5773447155952454,
           0.4405752420425415,
           0.4132150709629059,
           1.040061116218567,
           1.033353328704834,
           1.0032525062561035,
           0.9765856266021729,
           0.9437047243118286,
           0.9074142575263977,
           0.887089192867279,
           0.9226027727127075,
           0.9792761206626892,
           1.0417064428329468,
           1.1339107751846313,
           1.2202280759811401,
           1.4223312139511108,
           1.6357800960540771,
           1.8203598260879517,
           1.9752191305160522,
           1.9680352210998535,
           1.8145416975021362,
           1.3880078792572021,
           1.1903104782104492,
           1.1006433963775635,
           1.0669256448745728,
           1.1410988569259644,
           1.083465337753296,
           0.5846903920173645,
           0.4876115918159485,
           0.44749006628990173,
           0.41639596223831177,
           0.39897048473358154,
           0.42586156725883484,
           0.43484756350517273,
           0.478507936000824,
           0.6425630450248718,
           0.9168432950973511,
           1.0297569036483765,
           1.2314205169677734,
           1.3282546997070312,
           1.3203948736190796,
           1.3050745725631714,
           1.3079719543457031,
           1.3748046159744263,
           1.3510156869888306,
           1.222856879234314,
           1.171663522720337,
           1.0781588554382324,
           0.9680237174034119,
           0.7785698771476746,
           0.7027187347412109,
           0.9501203894615173,
           0.9930585026741028,
           0.9771942496299744,
           0.9816619157791138,
           0.9853813052177429,
           0.9435256719589233,
           0.9138602018356323,
           0.8817300200462341,
           0.8840383887290955,
           0.871588945388794,
           1.0667898654937744,
           1.1398929357528687,
           1.3187915086746216,
           1.4340684413909912,
           1.4464870691299438,
           1.3050841093063354,
           1.0679997205734253,
           0.8993057608604431,
           0.8617700934410095,
           0.8892579078674316,
           0.8910582065582275,
           0.9017399549484253,
           1.0322117805480957,
           1.0124988555908203,
           1.452125072479248,
           1.4954419136047363,
           1.5007785558700562,
           1.4651591777801514,
           1.4485297203063965,
           1.4051886796951294,
           1.3433482646942139,
           1.3016068935394287,
           1.3108584880828857,
           1.334896206855774,
           1.389884114265442,
           1.5160741806030273,
           1.6691182851791382,
           1.7644237279891968,
           1.769011378288269,
           1.661203145980835,
           1.5066107511520386,
           1.4171584844589233,
           1.385595440864563,
           1.4368945360183716,
           1.4442634582519531,
           1.4391403198242188,
           1.5581446886062622,
           1.5361672639846802,
           0.9967684149742126,
           1.0382134914398193,
           1.0717432498931885,
           1.085571050643921,
           1.0927871465682983,
           1.0822268724441528,
           1.032867670059204,
           1.0052120685577393,
           1.0005308389663696,
           1.0077365636825562,
           0.9811874032020569,
           1.0767043828964233,
           1.2541232109069824,
           1.4260565042495728,
           1.4811455011367798,
           1.3435652256011963,
           1.107301115989685,
           0.9006702899932861,
           0.7972235679626465,
           0.7622075080871582,
           0.7575435042381287,
           0.772442638874054,
           0.8464450240135193,
           0.8350744843482971,
           1.6739709377288818,
           1.6969343423843384,
           1.711341381072998,
           1.6934635639190674,
           1.6736061573028564,
           1.652607798576355,
           1.6136319637298584,
           1.5719547271728516,
           1.6144410371780396,
           1.6910816431045532,
           1.797519564628601,
           1.908862829208374,
           1.9754812717437744,
           2.0932371616363525,
           2.1789677143096924,
           2.215674877166748,
           2.1219005584716797,
           1.8729417324066162,
           1.7335083484649658,
           1.7162423133850098,
           1.7277687788009644,
           1.727719783782959,
           1.7264856100082397,
           1.70563805103302,
           0.3851648271083832,
           0.4661552309989929,
           0.5294770002365112,
           0.5756195783615112,
           0.5964599251747131,
           0.5910832285881042,
           0.577351987361908,
           0.6072570085525513,
           0.5858669281005859,
           0.49263930320739746,
           0.26791536808013916,
           0.10991210490465164,
           0.2307695895433426,
           0.3021990954875946,
           0.33121898770332336,
           0.36401456594467163,
           0.35226985812187195,
           0.25215619802474976,
           0.1432150900363922,
           0.16859407722949982,
           0.27251604199409485,
           0.3332526385784149,
           0.4159548580646515,
           0.4494728446006775,
           0.6075128316879272,
           0.6396576166152954,
           0.6796468496322632,
           0.6853545308113098,
           0.6881207823753357,
           0.6594204306602478,
           0.6303368806838989,
           0.6141082048416138,
           0.5197754502296448,
           0.3609582483768463,
           0.31632372736930847,
           0.20511122047901154,
           0.346493124961853,
           0.5365027785301208,
           0.6809454560279846,
           0.771198034286499,
           0.8336772918701172,
           0.7817689776420593,
           0.6068584322929382,
           0.54671311378479,
           0.5489549040794373,
           0.5286741256713867,
           0.5986294746398926,
           0.576736569404602,
           1.0782606601715088,
           1.06015145778656,
           1.0216960906982422,
           0.9690054059028625,
           0.9203354716300964,
           0.86930251121521,
           0.8603265285491943,
           0.829242467880249,
           0.8084566593170166,
           0.8727893233299255,
           1.0894850492477417,
           1.3034348487854004,
           1.4820917844772339,
           1.5878746509552002,
           1.6729960441589355,
           1.737980604171753,
           1.770888090133667,
           1.6973042488098145,
           1.4906039237976074,
           1.2762248516082764,
           1.2150752544403076,
           1.1505815982818604,
           1.1749472618103027,
           1.0725005865097046,
           0.5225754380226135,
           0.44969913363456726,
           0.43263229727745056,
           0.42904403805732727,
           0.4120071530342102,
           0.41498515009880066,
           0.4655565619468689,
           0.6457386016845703,
           0.9349196553230286,
           1.1593246459960938,
           1.2449933290481567,
           1.3809046745300293,
           1.4314073324203491,
           1.4040343761444092,
           1.348914623260498,
           1.264777421951294,
           1.2063233852386475,
           1.1646385192871094,
           1.169105887413025,
           1.0723577737808228,
           0.932704508304596,
           0.8781993985176086,
           0.6988982558250427,
           0.5884706377983093,
           0.12697981297969818,
           0.0886140912771225,
           0.13971035182476044,
           0.17455163598060608,
           0.1601610779762268,
           0.1668771356344223,
           0.20216798782348633,
           0.28054511547088623,
           0.44961991906166077,
           0.622688353061676,
           0.7192603349685669,
           0.8564491271972656,
           0.9165259599685669,
           0.8900793790817261,
           0.8344762921333313,
           0.7494527697563171,
           0.7182232737541199,
           0.6446703672409058,
           0.6073792576789856,
           0.5614844560623169,
           0.493245393037796,
           0.4488842785358429,
           0.40805137157440186,
           0.28065675497055054,
           0.3352873623371124,
           0.311883807182312,
           0.3006385266780853,
           0.2864905595779419,
           0.24730801582336426,
           0.2017737179994583,
           0.14100970327854156,
           0.07426629960536957,
           0.022616153582930565,
           0.17664556205272675,
           0.5867257714271545,
           0.828109622001648,
           1.0411866903305054,
           1.1552804708480835,
           1.2080148458480835,
           1.2087620496749878,
           1.1760153770446777,
           1.0715768337249756,
           0.8922890424728394,
           0.5919073224067688,
           0.450496643781662,
           0.3906952738761902,
           0.3618205487728119,
           0.32721206545829773,
           0.7782493829727173,
           0.7846788763999939,
           0.7935182452201843,
           0.7944292426109314,
           0.7549740076065063,
           0.7117151618003845,
           0.6574780941009521,
           0.6820706725120544,
           0.6161882877349854,
           0.5660325884819031,
           0.6082323789596558,
           0.6625836491584778,
           0.8172884583473206,
           0.9307937622070312,
           1.0223675966262817,
           1.1079444885253906,
           1.1166445016860962,
           1.0094385147094727,
           0.7812407612800598,
           0.7384247183799744,
           0.7636871933937073,
           0.7672104239463806,
           1.011871099472046,
           0.9478901028633118,
           0.5581046938896179,
           0.5853685140609741,
           0.5823442339897156,
           0.5932298898696899,
           0.6056498885154724,
           0.6336609125137329,
           0.6549487113952637,
           0.709990918636322,
           0.7630256414413452,
           0.7332059144973755,
           0.7869925498962402,
           0.6956279277801514,
           0.6396670937538147,
           0.6544820070266724,
           0.6806153059005737,
           0.7086367607116699,
           0.6567450165748596,
           0.5302953124046326,
           0.4472167193889618,
           0.44997936487197876,
           0.4227147102355957,
           0.37297916412353516,
           0.5466745495796204,
           0.5169070363044739,
           1.6214699745178223,
           1.6312816143035889,
           1.6040821075439453,
           1.6117137670516968,
           1.6112486124038696,
           1.5860096216201782,
           1.5806972980499268,
           1.5872995853424072,
           1.6370922327041626,
           1.657796859741211,
           1.8857173919677734,
           1.9868276119232178,
           2.0206820964813232,
           2.059654951095581,
           2.0284698009490967,
           1.9437530040740967,
           1.7274081707000732,
           1.612513542175293,
           1.598016619682312,
           1.6211458444595337,
           1.6485581398010254,
           1.6535853147506714,
           1.7853074073791504,
           1.743773102760315,
           1.3869298696517944,
           1.3858968019485474,
           1.3675888776779175,
           1.3773125410079956,
           1.3986542224884033,
           1.4152575731277466,
           1.3993350267410278,
           1.3618324995040894,
           1.3832653760910034,
           1.41379976272583,
           1.5872859954833984,
           1.8365468978881836,
           2.1005589962005615,
           2.242347240447998,
           2.2182445526123047,
           1.9783754348754883,
           1.6633301973342896,
           1.4222220182418823,
           1.322249174118042,
           1.3268462419509888,
           1.3393436670303345,
           1.3301886320114136,
           1.4766342639923096,
           1.454744815826416,
           0.41530805826187134,
           0.4759751260280609,
           0.5137808322906494,
           0.5233813524246216,
           0.5591182112693787,
           0.5954747796058655,
           0.5832703113555908,
           0.5514559149742126,
           0.49908432364463806,
           0.40893638134002686,
           0.3151528835296631,
           0.25558170676231384,
           0.38801440596580505,
           0.545553982257843,
           0.5937460064888,
           0.5560083985328674,
           0.4381643533706665,
           0.3273177444934845,
           0.2699369490146637,
           0.245216965675354,
           0.2466517984867096,
           0.23749588429927826,
           0.401903361082077,
           0.3397209644317627,
           0.5926383137702942,
           0.6125672459602356,
           0.5854135751724243,
           0.5958418250083923,
           0.6008520126342773,
           0.5746773481369019,
           0.5170773267745972,
           0.5008082985877991,
           0.5321677923202515,
           0.44116339087486267,
           0.39436379075050354,
           0.2674763798713684,
           0.2318774312734604,
           0.2720291018486023,
           0.31651610136032104,
           0.3314100503921509,
           0.3122265934944153,
           0.2092273235321045,
           0.323533296585083,
           0.4019346833229065,
           0.45756828784942627,
           0.44113051891326904,
           0.5419495701789856,
           0.5360442996025085,
           0.5545346736907959,
           0.49289098381996155,
           0.49382489919662476,
           0.5142128467559814,
           0.5464211702346802,
           0.568789541721344,
           0.6122881174087524,
           0.6653196215629578,
           0.8400407433509827,
           1.1391524076461792,
           1.3628145456314087,
           1.5623407363891602,
           1.6481369733810425,
           1.6471644639968872,
           1.6203908920288086,
           1.5953105688095093,
           1.5921258926391602,
           1.52191960811615,
           1.3164522647857666,
           1.1523606777191162,
           1.0244371891021729,
           0.9005549550056458,
           0.7118796706199646,
           0.6191887855529785,
           0.18178695440292358,
           0.22658170759677887,
           0.2558397352695465,
           0.27740195393562317,
           0.2728962004184723,
           0.2701023817062378,
           0.3179211914539337,
           0.36611104011535645,
           0.49107107520103455,
           0.5718478560447693,
           0.6555919051170349,
           0.7816333770751953,
           0.8408381938934326,
           0.8135380148887634,
           0.7746225595474243,
           0.6805796027183533,
           0.6216059327125549,
           0.5764961242675781,
           0.5517639517784119,
           0.4740777313709259,
           0.35652217268943787,
           0.2605258822441101,
           0.030660778284072876,
           0.08748519420623779,
           0.5440363883972168,
           0.5827201008796692,
           0.6100042462348938,
           0.6257075071334839,
           0.5793876647949219,
           0.5392187833786011,
           0.5199081897735596,
           0.44604650139808655,
           0.3318723738193512,
           0.3681977093219757,
           0.5853239297866821,
           0.9029659032821655,
           1.18130362033844,
           1.3607568740844727,
           1.4461053609848022,
           1.4966065883636475,
           1.4986785650253296,
           1.4220415353775024,
           1.1536496877670288,
           0.8324617743492126,
           0.7939646244049072,
           0.746454119682312,
           0.8100716471672058,
           0.7570967078208923,
           1.0431376695632935,
           1.0917141437530518,
           1.13368821144104,
           1.1424142122268677,
           1.128879189491272,
           1.0828452110290527,
           1.123389482498169,
           1.1156672239303589,
           1.1130220890045166,
           1.1994355916976929,
           1.3283612728118896,
           1.6410393714904785,
           1.9389351606369019,
           2.1587772369384766,
           2.2667253017425537,
           2.3136653900146484,
           2.328827142715454,
           2.2462692260742188,
           1.9443203210830688,
           1.4758422374725342,
           1.2678170204162598,
           1.1112010478973389,
           1.06187105178833,
           0.9703943729400635,
           0.24989180266857147,
           0.18061937391757965,
           0.1293681561946869,
           0.12140019237995148,
           0.1068132296204567,
           0.14187918603420258,
           0.19279348850250244,
           0.3101233243942261,
           0.5276283621788025,
           0.7274907231330872,
           0.9658706784248352,
           1.1262407302856445,
           1.2136216163635254,
           1.2035439014434814,
           1.1450859308242798,
           1.0426442623138428,
           0.9537200331687927,
           0.8439636826515198,
           0.7279090881347656,
           0.6041184663772583,
           0.5116178393363953,
           0.49213314056396484,
           0.41978180408477783,
           0.36223018169403076,
           0.24509139358997345,
           0.20799922943115234,
           0.22127199172973633,
           0.21184508502483368,
           0.1956651359796524,
           0.1475837230682373,
           0.10881728678941727,
           0.031477607786655426,
           0.2312142252922058,
           0.506054699420929,
           0.8802425265312195,
           1.120423674583435,
           1.2897518873214722,
           1.33905827999115,
           1.3063993453979492,
           1.235098958015442,
           1.1525297164916992,
           1.017683982849121,
           0.870763897895813,
           0.6411576271057129,
           0.5244197249412537,
           0.49753281474113464,
           0.4989159405231476,
           0.3366001844406128,
           0.7393792867660522,
           0.719675600528717,
           0.7183663249015808,
           0.7110143899917603,
           0.6967918276786804,
           0.7172345519065857,
           0.7648974657058716,
           0.9000893831253052,
           1.112728238105774,
           1.282072901725769,
           1.5016309022903442,
           1.6504950523376465,
           1.7308048009872437,
           1.7432341575622559,
           1.671438455581665,
           1.5905978679656982,
           1.568013310432434,
           1.5521137714385986,
           1.4596731662750244,
           1.3288546800613403,
           1.2487256526947021,
           1.1254774332046509,
           0.9021261930465698,
           0.8165103197097778,
           0.3813720643520355,
           0.3839925229549408,
           0.3737996220588684,
           0.37257304787635803,
           0.3779243230819702,
           0.3880075514316559,
           0.41943779587745667,
           0.47831034660339355,
           0.4703790545463562,
           0.41332879662513733,
           0.31120291352272034,
           0.16086754202842712,
           0.11417050659656525,
           0.1913307160139084,
           0.21764613687992096,
           0.1948808878660202,
           0.14567115902900696,
           0.10430015623569489,
           0.07958560436964035,
           0.12430787086486816,
           0.17740868031978607,
           0.20283959805965424,
           0.3588842749595642,
           0.3478274941444397,
           2.1353533267974854,
           2.13638973236084,
           2.094064235687256,
           2.1035244464874268,
           2.200206995010376,
           2.20914626121521,
           2.204723834991455,
           2.18467116355896,
           2.2334086894989014,
           2.432224988937378,
           2.8165664672851562,
           3.037515640258789,
           3.152268648147583,
           3.22987961769104,
           3.211125135421753,
           3.1053547859191895,
           2.7324931621551514,
           2.4065701961517334,
           2.264842987060547,
           2.2284460067749023,
           2.220099449157715,
           2.2223336696624756,
           2.289968729019165,
           2.2568910121917725,
           1.4356905221939087,
           1.37470281124115,
           1.285400629043579,
           1.229892611503601,
           1.1899195909500122,
           1.187934160232544,
           1.2113364934921265,
           1.2453117370605469,
           1.335681438446045,
           1.4772560596466064,
           1.7022383213043213,
           1.9019060134887695,
           2.0819497108459473,
           2.128862142562866,
           2.094080924987793,
           1.9754503965377808,
           1.6293067932128906,
           1.5516610145568848,
           1.570284128189087,
           1.5748776197433472,
           1.5538886785507202,
           1.5242913961410522,
           1.5518600940704346,
           1.48397958278656,
           0.6649637222290039,
           0.7261868119239807,
           0.7417623996734619,
           0.7297664880752563,
           0.7435979843139648,
           0.7597358822822571,
           0.7475205063819885,
           0.7552334070205688,
           0.7878814935684204,
           0.8048463463783264,
           0.7924069762229919,
           0.7571192979812622,
           0.7171131372451782,
           0.7062036395072937,
           0.6700402498245239,
           0.5987535715103149,
           0.46399223804473877,
           0.39985668659210205,
           0.4625701904296875,
           0.4738122522830963,
           0.4650905728340149,
           0.4723585546016693,
           0.6349289417266846,
           0.6186095476150513,
           0.5046561360359192,
           0.44692644476890564,
           0.4603104293346405,
           0.49860429763793945,
           0.5415988564491272,
           0.5535194277763367,
           0.5731201767921448,
           0.5732160210609436,
           0.6112259030342102,
           0.7500229477882385,
           0.7563149929046631,
           0.8758255839347839,
           0.9462957978248596,
           0.9415990710258484,
           0.9820089936256409,
           0.9971193671226501,
           1.0382885932922363,
           0.9916819930076599,
           0.9221304059028625,
           0.8701412081718445,
           0.7782093286514282,
           0.715170681476593,
           0.5574629902839661,
           0.54539954662323,
           0.3019724190235138,
           0.34334054589271545,
           0.3791455924510956,
           0.4004078209400177,
           0.369503378868103,
           0.3402954041957855,
           0.32980117201805115,
           0.3270235061645508,
           0.34849661588668823,
           0.3200055658817291,
           0.34420645236968994,
           0.25976458191871643,
           0.18651247024536133,
           0.22298820316791534,
           0.2832688093185425,
           0.30626943707466125,
           0.3014143109321594,
           0.21910497546195984,
           0.08108004182577133,
           0.1627609133720398,
           0.2270229160785675,
           0.22748272120952606,
           0.33695775270462036,
           0.3191497325897217,
           2.1819095611572266,
           2.1743156909942627,
           2.1542909145355225,
           2.1208438873291016,
           2.0714950561523438,
           2.037715196609497,
           2.038376808166504,
           2.2303595542907715,
           2.501540184020996,
           2.728168487548828,
           2.890336751937866,
           3.1470987796783447,
           3.3848788738250732,
           3.6275200843811035,
           3.797950029373169,
           3.835223436355591,
           3.789856433868408,
           3.6175284385681152,
           3.0888826847076416,
           2.612297296524048,
           2.428676128387451,
           2.323951005935669,
           2.269078016281128,
           2.212111711502075,
           0.4361973702907562,
           0.5075989961624146,
           0.541451632976532,
           0.5384900569915771,
           0.536820113658905,
           0.5326054096221924,
           0.6069927215576172,
           0.59308922290802,
           0.5221515893936157,
           0.3348979949951172,
           0.05693128705024719,
           0.23656617105007172,
           0.4209589660167694,
           0.5207263231277466,
           0.5596958994865417,
           0.5815477967262268,
           0.6153748035430908,
           0.5854641199111938,
           0.470963716506958,
           0.3186611831188202,
           0.2292925864458084,
           0.20478574931621552,
           0.27493101358413696,
           0.32777640223503113,
           0.07813426107168198,
           0.10987623035907745,
           0.15778878331184387,
           0.17370951175689697,
           0.11848235130310059,
           0.07271875441074371,
           0.09839425981044769,
           0.2241225242614746,
           0.40380924940109253,
           0.5942357778549194,
           0.7556952238082886,
           0.8413029909133911,
           0.8910887241363525,
           0.8560047745704651,
           0.7721046209335327,
           0.6772114634513855,
           0.5980404615402222,
           0.5046291947364807,
           0.4070185124874115,
           0.3054017424583435,
           0.18714474141597748,
           0.1299826204776764,
           0.2295636236667633,
           0.1511581838130951,
           0.3424045443534851,
           0.3111834228038788,
           0.28421613574028015,
           0.2433963418006897,
           0.1845206916332245,
           0.12010863423347473,
           0.08221863210201263,
           0.054674018174409866,
           0.2710134983062744,
           0.5083209276199341,
           0.6931037306785583,
           0.8575111031532288,
           0.9778551459312439,
           0.9834715723991394,
           0.9587199091911316,
           0.9132595062255859,
           0.8704694509506226,
           0.8429084420204163,
           0.7708057165145874,
           0.6247479319572449,
           0.513991117477417,
           0.4544025659561157,
           0.4966636598110199,
           0.40450528264045715,
           0.5457710027694702,
           0.5137879848480225,
           0.49548816680908203,
           0.4811767041683197,
           0.4580591917037964,
           0.45593106746673584,
           0.4417272210121155,
           0.5611634850502014,
           0.8184049129486084,
           1.073872447013855,
           1.1389360427856445,
           1.3582473993301392,
           1.4780534505844116,
           1.487984538078308,
           1.4029104709625244,
           1.327538251876831,
           1.2918720245361328,
           1.2785688638687134,
           1.2408865690231323,
           1.0879650115966797,
           1.0716781616210938,
           1.0326752662658691,
           0.8561888337135315,
           0.6827096343040466,
           0.6375170350074768,
           0.6670277714729309,
           0.7126831412315369,
           0.7185907363891602,
           0.6805450916290283,
           0.6504600644111633,
           0.6037397980690002,
           0.5669083595275879,
           0.49273937940597534,
           0.5189116597175598,
           0.7059160470962524,
           0.9164391756057739,
           1.1137703657150269,
           1.2593133449554443,
           1.2939378023147583,
           1.2976899147033691,
           1.2392419576644897,
           1.0969383716583252,
           0.8691456913948059,
           0.7841118574142456,
           0.7383242249488831,
           0.7186437249183655,
           0.841840922832489,
           0.8120030760765076,
           0.9641672372817993,
           0.9577822685241699,
           0.9491609930992126,
           0.9495672583580017,
           0.9276242256164551,
           0.9067143201828003,
           0.8903521299362183,
           0.9423848390579224,
           0.9679244756698608,
           0.953980028629303,
           1.1006163358688354,
           1.0835130214691162,
           1.1150439977645874,
           1.1494718790054321,
           1.1898237466812134,
           1.2067646980285645,
           1.1762361526489258,
           1.0240404605865479,
           0.9707188606262207,
           0.9876304864883423,
           0.9558312892913818,
           0.9258058071136475,
           0.989709198474884,
           0.9406479001045227,
           0.9369269609451294,
           0.932453453540802,
           0.9317724704742432,
           0.904405415058136,
           0.9012744426727295,
           0.8957043290138245,
           0.8997558355331421,
           0.8971377015113831,
           0.9584155678749084,
           0.936591386795044,
           1.1733522415161133,
           1.2306544780731201,
           1.2902714014053345,
           1.3332574367523193,
           1.3137317895889282,
           1.2631639242172241,
           1.0095555782318115,
           0.8704643249511719,
           0.920526921749115,
           0.9256552457809448,
           0.8943166136741638,
           0.8540448546409607,
           0.936798632144928,
           0.9253919124603271,
           0.6388252973556519,
           0.6405090093612671,
           0.6361696720123291,
           0.6341853141784668,
           0.6433342695236206,
           0.6475058794021606,
           0.6427181363105774,
           0.631384551525116,
           0.657138466835022,
           0.645941972732544,
           0.7072924375534058,
           0.6588305234909058,
           0.6079698204994202,
           0.5651661157608032,
           0.47008252143859863,
           0.3402180075645447,
           0.22844980657100677,
           0.24400368332862854,
           0.3190612196922302,
           0.3934473991394043,
           0.43940144777297974,
           0.4740266501903534,
           0.5944536924362183,
           0.6007295250892639,
           0.7508214712142944,
           0.8149375319480896,
           0.8460531234741211,
           0.8636940121650696,
           0.8907153606414795,
           0.895235002040863,
           0.8724749684333801,
           0.8595862984657288,
           0.8830137252807617,
           0.8701514601707458,
           0.836059033870697,
           0.7445675134658813,
           0.6435741186141968,
           0.632060706615448,
           0.6683603525161743,
           0.6432337760925293,
           0.6132764220237732,
           0.5204513669013977,
           0.5440080165863037,
           0.5618160963058472,
           0.5852376222610474,
           0.601454496383667,
           0.6435175538063049,
           0.676449716091156,
           1.0938681364059448,
           1.1200305223464966,
           1.150235891342163,
           1.1430295705795288,
           1.1545555591583252,
           1.1458040475845337,
           1.1357370615005493,
           1.103386402130127,
           1.1866481304168701,
           1.2222980260849,
           1.4065834283828735,
           1.3806818723678589,
           1.3135205507278442,
           1.298811674118042,
           1.3100512027740479,
           1.280709981918335,
           1.2580996751785278,
           1.0015162229537964,
           0.9696375727653503,
           1.0097140073776245,
           1.0295768976211548,
           1.002396821975708,
           1.131844401359558,
           1.1358137130737305,
           0.9034945368766785,
           0.920768678188324,
           0.9504852890968323,
           0.9666019082069397,
           0.964158833026886,
           0.9688485860824585,
           0.9589401483535767,
           0.9880239367485046,
           1.0576839447021484,
           1.0733612775802612,
           1.1543959379196167,
           1.0730090141296387,
           0.983725368976593,
           0.9518527984619141,
           0.9578946232795715,
           0.9570778608322144,
           0.9339322447776794,
           0.8369574546813965,
           0.6813439130783081,
           0.7193019390106201,
           0.7785513401031494,
           0.8065727949142456,
           0.8860399127006531,
           0.8868560791015625,
           0.8447983264923096,
           0.8332135081291199,
           0.8318771719932556,
           0.8225753307342529,
           0.7943350672721863,
           0.7674776911735535,
           0.7585806846618652,
           0.8396083116531372,
           0.913320004940033,
           1.0274782180786133,
           1.2402455806732178,
           1.3437272310256958,
           1.4178171157836914,
           1.5157910585403442,
           1.5951452255249023,
           1.6871097087860107,
           1.7114777565002441,
           1.6632373332977295,
           1.3861197233200073,
           1.0679041147232056,
           0.9945101141929626,
           0.9018735885620117,
           0.8818426728248596,
           0.8345271944999695,
           0.6527694463729858,
           0.6401182413101196,
           0.6159487962722778,
           0.6028141975402832,
           0.5943722724914551,
           0.5830958485603333,
           0.5845206379890442,
           0.6163221597671509,
           0.6117767095565796,
           0.7004687190055847,
           0.9414297342300415,
           1.1449339389801025,
           1.37774658203125,
           1.537358283996582,
           1.620031714439392,
           1.6291937828063965,
           1.5621142387390137,
           1.4159564971923828,
           1.1293926239013672,
           0.8585675954818726,
           0.7692962288856506,
           0.7079973816871643,
           0.7148732542991638,
           0.7077147960662842,
           0.14966708421707153,
           0.010323677211999893,
           0.10538137704133987,
           0.16033588349819183,
           0.16913041472434998,
           0.14681889116764069,
           0.16599015891551971,
           0.2393987774848938,
           0.396159827709198,
           0.6149954199790955,
           0.8005022406578064,
           0.9812390804290771,
           1.1351733207702637,
           1.1541748046875,
           1.0932719707489014,
           0.9915431141853333,
           0.8954952359199524,
           0.8123049736022949,
           0.7025861144065857,
           0.5957813858985901,
           0.4518410563468933,
           0.38897624611854553,
           0.4376979470252991,
           0.3086565136909485,
           0.4000048339366913,
           0.30311113595962524,
           0.23506702482700348,
           0.1837393045425415,
           0.18178494274616241,
           0.18314869701862335,
           0.1732013076543808,
           0.19604220986366272,
           0.31636327505111694,
           0.4912951588630676,
           0.6324514150619507,
           0.8174256086349487,
           0.9749043583869934,
           1.0745540857315063,
           1.1168409585952759,
           1.1224753856658936,
           1.0729466676712036,
           0.9808039665222168,
           0.8785068392753601,
           0.7113721370697021,
           0.6398314833641052,
           0.6033574342727661,
           0.5926350355148315,
           0.507975697517395,
           0.633915364742279,
           0.6210966110229492,
           0.6111724972724915,
           0.5446258783340454,
           0.47096601128578186,
           0.403944194316864,
           0.3574199974536896,
           0.33858364820480347,
           0.3776024580001831,
           0.5903388261795044,
           0.9064861536026001,
           1.2347546815872192,
           1.5505421161651611,
           1.7847312688827515,
           1.8632467985153198,
           1.8675898313522339,
           1.771054744720459,
           1.5712599754333496,
           1.2728136777877808,
           0.9006612300872803,
           0.8000403046607971,
           0.7374748587608337,
           0.8061198592185974,
           0.6980690360069275,
           0.7286489605903625,
           0.7087448239326477,
           0.6964625120162964,
           0.6675135493278503,
           0.6217730641365051,
           0.6034027338027954,
           0.5858132243156433,
           0.5591956377029419,
           0.4672113358974457,
           0.46929630637168884,
           0.5669266581535339,
           0.8496438264846802,
           1.1506824493408203,
           1.346069097518921,
           1.408434510231018,
           1.3604190349578857,
           1.22342050075531,
           0.9587576389312744,
           0.7110618948936462,
           0.649757444858551,
           0.65486741065979,
           0.7080398201942444,
           0.8410271406173706,
           0.8297616243362427,
           0.5587332248687744,
           0.5248292088508606,
           0.4673635959625244,
           0.44586893916130066,
           0.43529945611953735,
           0.3974831998348236,
           0.3954642117023468,
           0.38076889514923096,
           0.3976210057735443,
           0.5459694266319275,
           0.74507075548172,
           0.9499244689941406,
           1.1225000619888306,
           1.20948326587677,
           1.2079827785491943,
           1.1138797998428345,
           0.9255555868148804,
           0.640117347240448,
           0.4922558069229126,
           0.43403708934783936,
           0.44100749492645264,
           0.47347208857536316,
           0.6239774227142334,
           0.5711979269981384,
           0.6667869687080383,
           0.691596508026123,
           0.7303744554519653,
           0.7627748847007751,
           0.7881177663803101,
           0.7890061140060425,
           0.779234766960144,
           0.7584735155105591,
           0.7851575613021851,
           0.7556153535842896,
           0.8508433699607849,
           0.7309967875480652,
           0.6228935122489929,
           0.607414960861206,
           0.6163190603256226,
           0.6468286514282227,
           0.6285025477409363,
           0.6426969170570374,
           0.6600017547607422,
           0.6465370059013367,
           0.6432957649230957,
           0.6558886170387268,
           0.6816063523292542,
           0.7027793526649475,
           1.4365274906158447,
           1.4425526857376099,
           1.4314689636230469,
           1.4497079849243164,
           1.4774937629699707,
           1.4780840873718262,
           1.4902540445327759,
           1.4900472164154053,
           1.5358319282531738,
           1.5170295238494873,
           1.6523517370224,
           1.6713184118270874,
           1.6625781059265137,
           1.6883132457733154,
           1.6491756439208984,
           1.5470932722091675,
           1.3561840057373047,
           1.3264594078063965,
           1.3612309694290161,
           1.3876862525939941,
           1.404267430305481,
           1.4054253101348877,
           1.4240492582321167,
           1.441205620765686,
           0.5102412104606628,
           0.491585373878479,
           0.5007303357124329,
           0.5047812461853027,
           0.5073670148849487,
           0.49078530073165894,
           0.48446211218833923,
           0.476075679063797,
           0.48987877368927,
           0.5588455200195312,
           0.6712605953216553,
           0.7249906063079834,
           0.7313617467880249,
           0.6700636148452759,
           0.6630253195762634,
           0.7303016781806946,
           0.7816734910011292,
           0.7610971927642822,
           0.7003527283668518,
           0.6127113699913025,
           0.5669888257980347,
           0.5314415693283081,
           0.47901302576065063,
           0.4575447142124176,
           0.6037352085113525,
           0.5933678150177002,
           0.6052209138870239,
           0.5937618017196655,
           0.5830296277999878,
           0.5548288226127625,
           0.5180422067642212,
           0.4907890260219574,
           0.5288960933685303,
           0.4634668827056885,
           0.5855979919433594,
           0.5622067451477051,
           0.5244483947753906,
           0.6039251089096069,
           0.684347927570343,
           0.7108997106552124,
           0.6749233603477478,
           0.45055240392684937,
           0.5641434192657471,
           0.6479485630989075,
           0.6663236021995544,
           0.6299504637718201,
           0.6983790993690491,
           0.6579556465148926,
           0.16085588932037354,
           0.1528703272342682,
           0.16250120103359222,
           0.17548087239265442,
           0.16857604682445526,
           0.17976242303848267,
           0.1814478635787964,
           0.20598463714122772,
           0.21387775242328644,
           0.19705761969089508,
           0.239266037940979,
           0.2772253751754761,
           0.39968591928482056,
           0.43274372816085815,
           0.40514466166496277,
           0.3709608018398285,
           0.31547099351882935,
           0.2199956625699997,
           0.15746630728244781,
           0.1392010748386383,
           0.089359350502491,
           0.07959826290607452,
           0.1619080752134323,
           0.14229755103588104,
           2.0616748332977295,
           2.019359588623047,
           1.9627083539962769,
           1.907602071762085,
           1.8445721864700317,
           1.781384825706482,
           1.7101261615753174,
           1.8004645109176636,
           1.9499812126159668,
           2.147932529449463,
           2.286268472671509,
           2.5093770027160645,
           2.6730499267578125,
           2.8211629390716553,
           2.9587254524230957,
           3.0478157997131348,
           3.0296573638916016,
           2.871473789215088,
           2.381896495819092,
           2.0986521244049072,
           2.0355122089385986,
           1.990598440170288,
           2.0373082160949707,
           1.9888739585876465,
           0.24653638899326324,
           0.23549681901931763,
           0.24104946851730347,
           0.23159481585025787,
           0.21912910044193268,
           0.21274280548095703,
           0.2558448314666748,
           0.25076553225517273,
           0.3447054326534271,
           0.5013399124145508,
           0.7233405709266663,
           0.8618943095207214,
           1.0070894956588745,
           1.0847305059432983,
           1.0764302015304565,
           1.0273696184158325,
           0.9379051923751831,
           0.8006396889686584,
           0.58711838722229,
           0.3997337818145752,
           0.2727217972278595,
           0.20465758442878723,
           0.21736286580562592,
           0.15485407412052155,
           0.2815622091293335,
           0.24954098463058472,
           0.26007622480392456,
           0.3049587309360504,
           0.3368290960788727,
           0.3564906120300293,
           0.4424811601638794,
           0.6202889084815979,
           0.831493616104126,
           0.9789563417434692,
           1.0759390592575073,
           1.1273274421691895,
           1.1514949798583984,
           1.1447749137878418,
           1.0876352787017822,
           0.9983965754508972,
           0.9239588975906372,
           0.890785813331604,
           0.8375226259231567,
           0.7509273290634155,
           0.5815104246139526,
           0.4879584312438965,
           0.4024948179721832,
           0.2846345007419586,
           0.21991872787475586,
           0.19855695962905884,
           0.18570895493030548,
           0.19047577679157257,
           0.1695776730775833,
           0.15448051691055298,
           0.1462870091199875,
           0.1283128559589386,
           0.06500255316495895,
           0.2504700720310211,
           0.5292978286743164,
           0.7932884693145752,
           1.0366185903549194,
           1.1881927251815796,
           1.2804522514343262,
           1.2933546304702759,
           1.2457081079483032,
           1.1392312049865723,
           0.908387303352356,
           0.5569150447845459,
           0.415679395198822,
           0.3315754532814026,
           0.2889852225780487,
           0.23608048260211945,
           0.31141793727874756,
           0.20452506840229034,
           0.11963152140378952,
           0.04515618830919266,
           0.015969635918736458,
           0.024064891040325165,
           0.07611725479364395,
           0.16108866035938263,
           0.3868792951107025,
           0.6456987261772156,
           0.8709684014320374,
           1.1286711692810059,
           1.3514347076416016,
           1.4808200597763062,
           1.5061089992523193,
           1.4351919889450073,
           1.3050673007965088,
           1.0702916383743286,
           0.7781765460968018,
           0.6017423868179321,
           0.575831949710846,
           0.5517858266830444,
           0.5178031325340271,
           0.41281944513320923,
           0.43683868646621704,
           0.4153718054294586,
           0.4200158715248108,
           0.40170350670814514,
           0.38003671169281006,
           0.36849942803382874,
           0.34801027178764343,
           0.33324918150901794,
           0.2647894620895386,
           0.21011342108249664,
           0.3217165172100067,
           0.374350905418396,
           0.5187484622001648,
           0.6276370882987976,
           0.6865633130073547,
           0.7006756663322449,
           0.6766181588172913,
           0.6083425879478455,
           0.4914659857749939,
           0.4491824209690094,
           0.4371870160102844,
           0.4616575241088867,
           0.5013256669044495,
           0.4848899841308594,
           0.7236385941505432,
           0.7113812565803528,
           0.6939140558242798,
           0.6978894472122192,
           0.6925053596496582,
           0.6835907697677612,
           0.7125324606895447,
           0.7494850754737854,
           0.7770548462867737,
           0.7763479351997375,
           0.8805352449417114,
           0.8910242915153503,
           0.8552664518356323,
           0.8941521644592285,
           0.9269798398017883,
           0.9640873670578003,
           0.9727798104286194,
           0.7908463478088379,
           0.718892514705658,
           0.708364725112915,
           0.686149001121521,
           0.6575860977172852,
           0.7372123599052429,
           0.7057797312736511,
           1.858332872390747,
           1.8288849592208862,
           1.821047306060791,
           1.8252555131912231,
           1.8431856632232666,
           1.8136948347091675,
           1.8116693496704102,
           1.821890950202942,
           1.9140704870224,
           2.0157082080841064,
           2.2427234649658203,
           2.3840560913085938,
           2.4928414821624756,
           2.6238720417022705,
           2.6207878589630127,
           2.481674909591675,
           2.1585605144500732,
           1.8749412298202515,
           1.8360809087753296,
           1.8404641151428223,
           1.8083206415176392,
           1.8128975629806519,
           1.8956605195999146,
           1.8632872104644775,
           1.6539829969406128,
           1.664320707321167,
           1.6227177381515503,
           1.5861337184906006,
           1.6141254901885986,
           1.5992367267608643,
           1.5792181491851807,
           1.5505062341690063,
           1.549293041229248,
           1.6187962293624878,
           1.7488459348678589,
           1.9646419286727905,
           2.136895179748535,
           2.213503837585449,
           2.159977912902832,
           1.988549828529358,
           1.7079557180404663,
           1.550498366355896,
           1.588204026222229,
           1.6158850193023682,
           1.6189073324203491,
           1.6204403638839722,
           1.7220690250396729,
           1.693750023841858,
           2.4138734340667725,
           2.4111013412475586,
           2.385761022567749,
           2.3669826984405518,
           2.3734993934631348,
           2.3623454570770264,
           2.33103084564209,
           2.351644515991211,
           2.39986515045166,
           2.5157511234283447,
           2.7623085975646973,
           3.0533196926116943,
           3.2334628105163574,
           3.4061787128448486,
           3.3872454166412354,
           3.2049877643585205,
           2.8294622898101807,
           2.5126140117645264,
           2.473451614379883,
           2.485646963119507,
           2.4699649810791016,
           2.425786256790161,
           2.445932626724243,
           2.4452173709869385,
           0.9937007427215576,
           1.022538661956787,
           1.0418866872787476,
           1.0511525869369507,
           1.0599696636199951,
           1.0689008235931396,
           1.0695536136627197,
           1.0671466588974,
           1.1371371746063232,
           1.172389268875122,
           1.2674816846847534,
           1.331815242767334,
           1.3830410242080688,
           1.4302997589111328,
           1.461012601852417,
           1.4676320552825928,
           1.353196620941162,
           1.0801546573638916,
           0.9916768670082092,
           0.9745737314224243,
           0.9864803552627563,
           0.9585931897163391,
           0.9928642511367798,
           0.9704968929290771,
           2.22920560836792,
           2.15429949760437,
           2.0728323459625244,
           2.0264134407043457,
           1.953241229057312,
           1.899949550628662,
           1.8598846197128296,
           1.8990517854690552,
           2.0196781158447266,
           2.1633896827697754,
           2.417768955230713,
           2.6562647819519043,
           2.9290904998779297,
           3.1860108375549316,
           3.303307294845581,
           3.29266095161438,
           3.123533010482788,
           2.8796348571777344,
           2.5691394805908203,
           2.4464638233184814,
           2.409574031829834,
           2.3297276496887207,
           2.3024680614471436,
           2.1931357383728027,
           0.7841407060623169,
           0.8024283051490784,
           0.8121820092201233,
           0.8165685534477234,
           0.8154635429382324,
           0.8028112053871155,
           0.8194466829299927,
           0.8887296915054321,
           0.9043903350830078,
           0.8978843688964844,
           0.9065147638320923,
           0.9703403115272522,
           1.0440170764923096,
           1.1234744787216187,
           1.2135963439941406,
           1.317263126373291,
           1.3610999584197998,
           1.3356919288635254,
           1.1143349409103394,
           0.9083881974220276,
           0.8849437832832336,
           0.8620719313621521,
           0.8909347057342529,
           0.8731005787849426,
           0.4835965931415558,
           0.4843977391719818,
           0.46693310141563416,
           0.4542486369609833,
           0.4479101598262787,
           0.40417584776878357,
           0.39750057458877563,
           0.2972366511821747,
           0.13262131810188293,
           0.0980227068066597,
           0.25198230147361755,
           0.4456043839454651,
           0.5838083624839783,
           0.6768638491630554,
           0.6966989636421204,
           0.6924000978469849,
           0.6808593273162842,
           0.6374550461769104,
           0.5262970328330994,
           0.3618551194667816,
           0.3266523480415344,
           0.32301872968673706,
           0.3839402496814728,
           0.42189669609069824,
           0.26269468665122986,
           0.2464481145143509,
           0.26664218306541443,
           0.29597118496894836,
           0.3045009672641754,
           0.27698737382888794,
           0.2570822238922119,
           0.18171343207359314,
           0.09703817963600159,
           0.22116060554981232,
           0.3285151422023773,
           0.5457481145858765,
           0.6963393688201904,
           0.7773720622062683,
           0.8226361870765686,
           0.8526057004928589,
           0.8368688225746155,
           0.7594572305679321,
           0.5837100744247437,
           0.39593690633773804,
           0.35852301120758057,
           0.35731935501098633,
           0.3422817289829254,
           0.288240909576416,
           0.4013408422470093,
           0.4564216732978821,
           0.46420010924339294,
           0.4521259069442749,
           0.4326235055923462,
           0.40576088428497314,
           0.3702853322029114,
           0.3155190944671631,
           0.20240816473960876,
           0.19380176067352295,
           0.4182019531726837,
           0.7406333088874817,
           1.059382677078247,
           1.2580506801605225,
           1.3481669425964355,
           1.3684401512145996,
           1.3067359924316406,
           1.1593096256256104,
           0.9586544036865234,
           0.6182593107223511,
           0.45983585715293884,
           0.3915891945362091,
           0.3606102466583252,
           0.35232821106910706,
           0.22221969068050385,
           0.15132474899291992,
           0.11390991508960724,
           0.1264854222536087,
           0.13973304629325867,
           0.10662509500980377,
           0.07600229233503342,
           0.09771181643009186,
           0.2606509029865265,
           0.4664246141910553,
           0.6473152041435242,
           0.8916052579879761,
           1.1203148365020752,
           1.2419897317886353,
           1.2765754461288452,
           1.2658406496047974,
           1.1841846704483032,
           1.014524221420288,
           0.7849158048629761,
           0.5958109498023987,
           0.522605299949646,
           0.4731745719909668,
           0.43304726481437683,
           0.33730241656303406,
           0.336513876914978,
           0.2501547932624817,
           0.16674217581748962,
           0.11985743790864944,
           0.12603484094142914,
           0.15102770924568176,
           0.14539729058742523,
           0.17947302758693695,
           0.2777327299118042,
           0.40353864431381226,
           0.48793262243270874,
           0.654574990272522,
           0.7932769060134888,
           0.8648443818092346,
           0.8276524543762207,
           0.7862135171890259,
           0.7250735759735107,
           0.6166054606437683,
           0.5592980980873108,
           0.5125303268432617,
           0.4878840744495392,
           0.4845404326915741,
           0.41031697392463684,
           0.3854084610939026,
           0.28074711561203003,
           0.25196781754493713,
           0.23050858080387115,
           0.21769005060195923,
           0.19547820091247559,
           0.1805153489112854,
           0.18527086079120636,
           0.1670745313167572,
           0.198615163564682,
           0.36475273966789246,
           0.5826769471168518,
           0.8768024444580078,
           1.1001938581466675,
           1.2201710939407349,
           1.1765117645263672,
           1.0334631204605103,
           0.7916842699050903,
           0.5232179760932922,
           0.43403565883636475,
           0.4017057418823242,
           0.3543039560317993,
           0.3243332505226135,
           0.3278508484363556,
           0.2811132073402405,
           0.8785723447799683,
           0.8747062087059021,
           0.8909361958503723,
           0.9315827488899231,
           0.9605830907821655,
           0.9798586964607239,
           0.9787395596504211,
           0.9605729579925537,
           1.0091447830200195,
           1.0860341787338257,
           1.1229896545410156,
           1.1926212310791016,
           1.1649868488311768,
           1.1496425867080688,
           1.1545207500457764,
           1.1723917722702026,
           1.0492619276046753,
           0.9710671305656433,
           0.9610993266105652,
           0.9571656584739685,
           0.952374279499054,
           0.9492203593254089,
           0.8644072413444519,
           0.8471087217330933,
           0.6441434025764465,
           0.6495600342750549,
           0.6801753640174866,
           0.6931619644165039,
           0.6756701469421387,
           0.683102011680603,
           0.7025718688964844,
           0.6890060901641846,
           0.7095491290092468,
           0.7983649969100952,
           0.8065775036811829,
           0.8354158401489258,
           0.836297333240509,
           0.8360456824302673,
           0.8378065228462219,
           0.8733359575271606,
           0.8835899233818054,
           0.8486164212226868,
           0.8184703588485718,
           0.780970573425293,
           0.776440441608429,
           0.771264374256134,
           0.7115331888198853,
           0.7124897837638855,
           0.23076219856739044,
           0.2901773750782013,
           0.3200789988040924,
           0.32599636912345886,
           0.3209497332572937,
           0.3019345700740814,
           0.2869530916213989,
           0.2760797142982483,
           0.27506327629089355,
           0.2970646023750305,
           0.3146364092826843,
           0.2770950496196747,
           0.21222753822803497,
           0.12917807698249817,
           0.10112255066633224,
           0.15025292336940765,
           0.23542198538780212,
           0.2341803014278412,
           0.1540030986070633,
           0.1322484314441681,
           0.14819861948490143,
           0.14999420940876007,
           0.21200081706047058,
           0.21316349506378174,
           0.9559252262115479,
           0.9676466584205627,
           0.9600027799606323,
           0.9500698447227478,
           0.9326122403144836,
           0.9170357584953308,
           0.8874481320381165,
           0.8648138046264648,
           0.9287940263748169,
           0.8744651675224304,
           0.9484960436820984,
           0.8661321997642517,
           0.8336242437362671,
           0.8909875750541687,
           0.967404842376709,
           0.99216228723526,
           0.9562373161315918,
           0.690653920173645,
           0.7062039375305176,
           0.8116387128829956,
           0.8567111492156982,
           0.8354218602180481,
           0.8876755237579346,
           0.9244691133499146,
           0.26409798860549927,
           0.2694602906703949,
           0.2680220901966095,
           0.27747198939323425,
           0.2761974632740021,
           0.25944826006889343,
           0.22273550927639008,
           0.20368321239948273,
           0.1727687269449234,
           0.09223214536905289,
           0.17055870592594147,
           0.21459095180034637,
           0.252400279045105,
           0.2975415289402008,
           0.29009872674942017,
           0.2559596598148346,
           0.19971151649951935,
           0.15114320814609528,
           0.11250580847263336,
           0.10487740486860275,
           0.13547664880752563,
           0.1125766932964325,
           0.14710812270641327,
           0.16028322279453278,
           0.7268281579017639,
           0.7381977438926697,
           0.7569822669029236,
           0.7755141854286194,
           0.7841632962226868,
           0.7812581658363342,
           0.776924192905426,
           0.7835190892219543,
           0.737704336643219,
           0.6467660665512085,
           0.6403522491455078,
           0.6800363063812256,
           0.7295565605163574,
           0.8049290776252747,
           0.864920437335968,
           0.9456262588500977,
           0.9787196516990662,
           0.9251121282577515,
           0.7465922236442566,
           0.6873596906661987,
           0.7268083095550537,
           0.748271644115448,
           0.7955178618431091,
           0.7995398044586182,
           0.941379964351654,
           0.982477068901062,
           1.0002946853637695,
           1.0122233629226685,
           1.0081201791763306,
           0.959415853023529,
           0.9642146229743958,
           0.9935832619667053,
           0.9395294189453125,
           0.8298377394676208,
           0.8578697443008423,
           0.8882957100868225,
           1.0225908756256104,
           1.1341232061386108,
           1.1996346712112427,
           1.2350208759307861,
           1.2478784322738647,
           1.213499665260315,
           1.0533665418624878,
           0.8194194436073303,
           0.8052157759666443,
           0.8286710381507874,
           0.7937140464782715,
           0.8256924748420715,
           0.1171966940164566,
           0.2065235823392868,
           0.2485589236021042,
           0.2696601152420044,
           0.26551327109336853,
           0.22606992721557617,
           0.23497682809829712,
           0.21893475949764252,
           0.28561729192733765,
           0.4834529161453247,
           0.7113219499588013,
           0.8676742911338806,
           0.9730881452560425,
           1.0038807392120361,
           0.9661783576011658,
           0.9400092363357544,
           0.8611839413642883,
           0.7779706716537476,
           0.6497607827186584,
           0.5270482301712036,
           0.3860756456851959,
           0.2759411633014679,
           0.23763810098171234,
           0.13335520029067993,
           0.1512312889099121,
           0.14108435809612274,
           0.14055724442005157,
           0.18367496132850647,
           0.22406038641929626,
           0.2234017550945282,
           0.2389710545539856,
           0.2466040849685669,
           0.2693496644496918,
           0.3591742217540741,
           0.37852534651756287,
           0.46028611063957214,
           0.5725110173225403,
           0.6618988513946533,
           0.693098783493042,
           0.7299783229827881,
           0.7491938471794128,
           0.7320989370346069,
           0.6310563683509827,
           0.4888521730899811,
           0.4291994869709015,
           0.36913907527923584,
           0.3027054965496063,
           0.2245548814535141,
           0.45251786708831787,
           0.44654667377471924,
           0.4529246389865875,
           0.43834999203681946,
           0.41579607129096985,
           0.3707049787044525,
           0.31153395771980286,
           0.29630953073501587,
           0.3213801980018616,
           0.4080435037612915,
           0.5418127179145813,
           0.7379366159439087,
           0.9322188496589661,
           1.068047046661377,
           1.134354829788208,
           1.1540462970733643,
           1.1232285499572754,
           1.0084739923477173,
           0.845728874206543,
           0.5994566679000854,
           0.5261773467063904,
           0.5012610554695129,
           0.5206106901168823,
           0.4732447862625122,
           0.7720235586166382,
           0.7215695977210999,
           0.6763460040092468,
           0.6187797784805298,
           0.5570358633995056,
           0.48507052659988403,
           0.41812098026275635,
           0.41980621218681335,
           0.40750938653945923,
           0.5356748104095459,
           0.8335548043251038,
           1.132754921913147,
           1.425742506980896,
           1.6159908771514893,
           1.6955251693725586,
           1.6822869777679443,
           1.6073508262634277,
           1.4249922037124634,
           1.061477780342102,
           0.8955308794975281,
           0.9060460925102234,
           0.8928114771842957,
           0.8764451742172241,
           0.7949541807174683,
           0.814702570438385,
           0.8121616244316101,
           0.8068810105323792,
           0.8125759959220886,
           0.7861946225166321,
           0.7504459619522095,
           0.7373492121696472,
           0.7460051774978638,
           0.7518791556358337,
           0.8125016689300537,
           1.056890845298767,
           1.2410881519317627,
           1.4162224531173706,
           1.5132958889007568,
           1.5247013568878174,
           1.4291877746582031,
           1.247923493385315,
           0.9400966167449951,
           0.8592221140861511,
           0.8676241040229797,
           0.8971688151359558,
           0.8953927755355835,
           1.0002508163452148,
           0.9373536705970764,
           1.9715622663497925,
           1.923251748085022,
           1.8593995571136475,
           1.8277250528335571,
           1.7959576845169067,
           1.7258613109588623,
           1.657954454421997,
           1.6072386503219604,
           1.7353973388671875,
           1.8863213062286377,
           2.1849112510681152,
           2.4250569343566895,
           2.594611883163452,
           2.7733945846557617,
           2.879896640777588,
           2.8226022720336914,
           2.5060782432556152,
           2.204768180847168,
           2.1870169639587402,
           2.1925535202026367,
           2.1682510375976562,
           2.1137166023254395,
           2.194561243057251,
           2.1016924381256104,
           1.5882892608642578,
           1.5950645208358765,
           1.575630784034729,
           1.5315265655517578,
           1.5006940364837646,
           1.437177062034607,
           1.3703954219818115,
           1.3603026866912842,
           1.397577166557312,
           1.4534624814987183,
           1.6743106842041016,
           1.8022783994674683,
           1.9475359916687012,
           2.0843112468719482,
           2.0473837852478027,
           1.8736876249313354,
           1.5269447565078735,
           1.388593077659607,
           1.4100337028503418,
           1.4483155012130737,
           1.4640876054763794,
           1.4818145036697388,
           1.6192208528518677,
           1.6122781038284302,
           2.0948476791381836,
           2.101893901824951,
           2.098628044128418,
           2.0635740756988525,
           2.052051067352295,
           2.026506185531616,
           2.0067226886749268,
           2.029141902923584,
           2.07851243019104,
           2.2001540660858154,
           2.345039129257202,
           2.522179365158081,
           2.612382650375366,
           2.6499836444854736,
           2.622692346572876,
           2.5329504013061523,
           2.2816379070281982,
           2.0326318740844727,
           2.0580804347991943,
           2.0772929191589355,
           2.078740358352661,
           2.081860303878784,
           2.1456191539764404,
           2.121739387512207,
           0.7137629985809326,
           0.7686213254928589,
           0.82469242811203,
           0.8579514026641846,
           0.8788381814956665,
           0.8515657782554626,
           0.8143381476402283,
           0.7876361608505249,
           0.7682526707649231,
           0.7408140897750854,
           0.7498925924301147,
           0.7489513158798218,
           0.732474684715271,
           0.7901945114135742,
           0.820277750492096,
           0.7619244456291199,
           0.6140584945678711,
           0.31733474135398865,
           0.35277822613716125,
           0.4003612995147705,
           0.43116092681884766,
           0.4601060152053833,
           0.5687940120697021,
           0.5952153205871582,
           0.48310020565986633,
           0.44290000200271606,
           0.43380001187324524,
           0.4232366681098938,
           0.4541029632091522,
           0.49533605575561523,
           0.5360705852508545,
           0.5489457845687866,
           0.7136949300765991,
           0.9604659676551819,
           1.0396437644958496,
           1.2246086597442627,
           1.3266006708145142,
           1.3455791473388672,
           1.2984755039215088,
           1.296262502670288,
           1.3070523738861084,
           1.246124505996704,
           1.0758769512176514,
           0.9785346388816833,
           0.910772979259491,
           0.8370800614356995,
           0.6723488569259644,
           0.599871814250946,
           0.5057276487350464,
           0.5254005193710327,
           0.5662223100662231,
           0.5535711050033569,
           0.521514892578125,
           0.5337810516357422,
           0.5327657461166382,
           0.5401478409767151,
           0.46391478180885315,
           0.3751234710216522,
           0.5007672905921936,
           0.49402207136154175,
           0.5954505205154419,
           0.7379786968231201,
           0.8868794441223145,
           0.9322100877761841,
           0.8807598948478699,
           0.8397237062454224,
           0.6900081038475037,
           0.5871942639350891,
           0.5309784412384033,
           0.5108616352081299,
           0.5918256640434265,
           0.5240737795829773,
           0.029728880152106285,
           0.10397789627313614,
           0.16001878678798676,
           0.20138686895370483,
           0.23224906623363495,
           0.24243991076946259,
           0.30627232789993286,
           0.3765416145324707,
           0.5010969042778015,
           0.6171215176582336,
           0.5515259504318237,
           0.6186257004737854,
           0.6608608961105347,
           0.6461049318313599,
           0.5640754699707031,
           0.4827311933040619,
           0.4380607008934021,
           0.4463903605937958,
           0.4966801106929779,
           0.3912101686000824,
           0.343686580657959,
           0.29405272006988525,
           0.16273406147956848,
           0.048987239599227905,
           0.27164632081985474,
           0.16047164797782898,
           0.08843837678432465,
           0.0456332191824913,
           0.035413265228271484,
           0.07422792911529541,
           0.1495821326971054,
           0.3222167193889618,
           0.6523023247718811,
           0.9636324048042297,
           1.170074462890625,
           1.4011921882629395,
           1.5738400220870972,
           1.6278828382492065,
           1.6043553352355957,
           1.5284837484359741,
           1.4209462404251099,
           1.344435691833496,
           1.220732569694519,
           1.001623272895813,
           0.8178382515907288,
           0.7168264985084534,
           0.5847710967063904,
           0.3901124596595764,
           0.5671443343162537,
           0.5578394532203674,
           0.5368825793266296,
           0.48278069496154785,
           0.43511006236076355,
           0.37758365273475647,
           0.33879590034484863,
           0.20153217017650604,
           0.0971965491771698,
           0.4076407551765442,
           0.7695194482803345,
           1.070847988128662,
           1.352676272392273,
           1.5326099395751953,
           1.6139624118804932,
           1.6142362356185913,
           1.5585159063339233,
           1.4073841571807861,
           1.1740303039550781,
           0.8538317680358887,
           0.7430297136306763,
           0.6884531378746033,
           0.5849123001098633,
           0.5100334882736206,
           0.18130731582641602,
           0.09748847782611847,
           0.05663026496767998,
           0.08181114494800568,
           0.09919875860214233,
           0.10505261272192001,
           0.12380915135145187,
           0.16518253087997437,
           0.35723045468330383,
           0.5939668416976929,
           0.7262333035469055,
           0.938142716884613,
           1.0599737167358398,
           1.088062047958374,
           1.0374115705490112,
           0.9627969264984131,
           0.9131807684898376,
           0.9159636497497559,
           0.9857553243637085,
           0.8714748620986938,
           0.7270140051841736,
           0.5989444255828857,
           0.4563399851322174,
           0.2767117917537689,
           0.17472076416015625,
           0.10790994763374329,
           0.12075282633304596,
           0.15216805040836334,
           0.17736662924289703,
           0.17764808237552643,
           0.17236565053462982,
           0.22743776440620422,
           0.3551832139492035,
           0.5190932750701904,
           0.4986923933029175,
           0.6202576160430908,
           0.7361384034156799,
           0.8337914347648621,
           0.8314110040664673,
           0.7964117527008057,
           0.7527574300765991,
           0.78497713804245,
           0.8117074966430664,
           0.8047395348548889,
           0.7322555184364319,
           0.6235009431838989,
           0.44645023345947266,
           0.2935766279697418,
           0.7779374122619629,
           0.7896929979324341,
           0.7648516893386841,
           0.7381972670555115,
           0.6930879950523376,
           0.6677483916282654,
           0.6948042511940002,
           0.6784229278564453,
           0.6541703939437866,
           0.7245420813560486,
           1.0119444131851196,
           1.2127370834350586,
           1.3801997900009155,
           1.4865896701812744,
           1.5423299074172974,
           1.4780149459838867,
           1.3203142881393433,
           1.030714750289917,
           0.890434205532074,
           0.8457327485084534,
           0.815812349319458,
           0.7922356724739075,
           0.8605384826660156,
           0.8230521082878113,
           0.5009000301361084,
           0.5106102824211121,
           0.4947587847709656,
           0.5045426487922668,
           0.5371911525726318,
           0.5368708968162537,
           0.5278741717338562,
           0.4971897304058075,
           0.4997768700122833,
           0.4684057831764221,
           0.4777917265892029,
           0.4148901700973511,
           0.36962300539016724,
           0.3739001750946045,
           0.39945951104164124,
           0.41037115454673767,
           0.3251798152923584,
           0.32180291414260864,
           0.3365936875343323,
           0.3726479411125183,
           0.378361314535141,
           0.3836927115917206,
           0.4148743152618408,
           0.4314517378807068,
           0.824758768081665,
           0.8392280340194702,
           0.854827344417572,
           0.8847257494926453,
           0.8894825577735901,
           0.8817129731178284,
           0.8547089695930481,
           0.8542858362197876,
           0.8908122777938843,
           0.9133456945419312,
           0.9504826664924622,
           0.9944967031478882,
           1.006714105606079,
           0.9757610559463501,
           0.9310559630393982,
           0.8512259125709534,
           0.7060056328773499,
           0.6863865852355957,
           0.7191717028617859,
           0.7254522442817688,
           0.7404801845550537,
           0.7534116506576538,
           0.8296646475791931,
           0.8451442122459412,
           1.838107943534851,
           1.797877311706543,
           1.7516686916351318,
           1.7263230085372925,
           1.706494927406311,
           1.6727609634399414,
           1.6109801530838013,
           1.5713456869125366,
           1.5768980979919434,
           1.628151297569275,
           1.7622833251953125,
           1.9432706832885742,
           2.09565806388855,
           2.185185670852661,
           2.219557046890259,
           2.1487276554107666,
           1.898361086845398,
           1.6775473356246948,
           1.7778702974319458,
           1.834315538406372,
           1.8199549913406372,
           1.7975049018859863,
           1.8061528205871582,
           1.8112674951553345,
           0.2610410749912262,
           0.26770028471946716,
           0.23942291736602783,
           0.23770083487033844,
           0.23634475469589233,
           0.2322409749031067,
           0.21814364194869995,
           0.21897856891155243,
           0.22072209417819977,
           0.20531830191612244,
           0.34554582834243774,
           0.38924211263656616,
           0.4753773808479309,
           0.5886098146438599,
           0.6210289001464844,
           0.5759990215301514,
           0.46285367012023926,
           0.33817896246910095,
           0.28546345233917236,
           0.2945947051048279,
           0.3286939859390259,
           0.32254695892333984,
           0.3938743770122528,
           0.29771843552589417,
           0.3876918852329254,
           0.43489208817481995,
           0.48047342896461487,
           0.5180182456970215,
           0.5132635235786438,
           0.5201442837715149,
           0.5001115798950195,
           0.5269917845726013,
           0.5380938053131104,
           0.5554951429367065,
           0.6067385673522949,
           0.6047073006629944,
           0.5928667187690735,
           0.5896753668785095,
           0.6180500388145447,
           0.6604194045066833,
           0.670520544052124,
           0.5955560803413391,
           0.4628475606441498,
           0.4696848392486572,
           0.46530377864837646,
           0.41635215282440186,
           0.4060664474964142,
           0.3608352243900299,
           0.9231973886489868,
           0.9696723222732544,
           0.9845942258834839,
           0.9808996915817261,
           0.9776003956794739,
           0.9923462867736816,
           1.007145881652832,
           1.068533182144165,
           1.1238701343536377,
           1.1283122301101685,
           1.1586880683898926,
           1.0806394815444946,
           1.0472489595413208,
           1.072256326675415,
           1.1480575799942017,
           1.2187920808792114,
           1.203942060470581,
           1.0913981199264526,
           0.8708657622337341,
           0.7866551280021667,
           0.7755778431892395,
           0.7965893149375916,
           0.9151874780654907,
           0.9062424302101135,
           0.5680899024009705,
           0.6202839016914368,
           0.6717312932014465,
           0.6824551224708557,
           0.68543940782547,
           0.6878295540809631,
           0.7254312634468079,
           0.6603105664253235,
           0.5355661511421204,
           0.3196604251861572,
           0.2590320110321045,
           0.12922854721546173,
           0.06089665740728378,
           0.18330639600753784,
           0.23269125819206238,
           0.25705012679100037,
           0.23496292531490326,
           0.22348809242248535,
           0.19104154407978058,
           0.21340572834014893,
           0.2517426311969757,
           0.2861429452896118,
           0.4157007038593292,
           0.44153693318367004,
           0.047872111201286316,
           0.039430852979421616,
           0.10038182884454727,
           0.1370905190706253,
           0.12326572090387344,
           0.1132013276219368,
           0.16299022734165192,
           0.23556014895439148,
           0.3411961495876312,
           0.4070286452770233,
           0.3803994059562683,
           0.42926663160324097,
           0.4601023197174072,
           0.45164844393730164,
           0.412009596824646,
           0.3554762005805969,
           0.32332324981689453,
           0.3421236276626587,
           0.4393328130245209,
           0.5224006772041321,
           0.42062243819236755,
           0.37639981508255005,
           0.24406830966472626,
           0.13805720210075378,
           0.17026735842227936,
           0.05925785005092621,
           0.06585130840539932,
           0.1793806403875351,
           0.2475409358739853,
           0.2716408669948578,
           0.36076343059539795,
           0.5454787611961365,
           0.7490070462226868,
           0.9498660564422607,
           0.6582653522491455,
           0.8612152934074402,
           0.9642868638038635,
           0.9432945251464844,
           0.8202434778213501,
           0.7367891073226929,
           0.6395223736763,
           0.5769718289375305,
           0.565070390701294,
           0.6596758365631104,
           0.5834587812423706,
           0.5291112661361694,
           0.44246330857276917,
           0.2955663800239563,
           0.6817160844802856,
           0.6644293665885925,
           0.5959685444831848,
           0.49996188282966614,
           0.39669445157051086,
           0.30280372500419617,
           0.25608518719673157,
           0.17541375756263733,
           0.07912533730268478,
           0.3344397246837616,
           0.7053846120834351,
           1.0193424224853516,
           1.2791177034378052,
           1.4162617921829224,
           1.4197992086410522,
           1.408972978591919,
           1.3664697408676147,
           1.26248037815094,
           1.045838713645935,
           0.7039076089859009,
           0.5995084047317505,
           0.5734376311302185,
           0.7772226333618164,
           0.6898564696311951,
           0.2932496964931488,
           0.21714264154434204,
           0.11190479248762131,
           0.013388839550316334,
           0.10227111726999283,
           0.17012226581573486,
           0.23459981381893158,
           0.3331533968448639,
           0.5503020882606506,
           0.7537030577659607,
           0.5140008330345154,
           0.6831320524215698,
           0.752454400062561,
           0.7742749452590942,
           0.7499953508377075,
           0.7108154296875,
           0.6428467035293579,
           0.5818774700164795,
           0.5980930328369141,
           0.550076425075531,
           0.485955148935318,
           0.41898003220558167,
           0.4126625061035156,
           0.2795363962650299,
           1.079694390296936,
           1.0255886316299438,
           0.9762287735939026,
           0.8965163826942444,
           0.8203505277633667,
           0.782909631729126,
           0.7885164022445679,
           0.7987614274024963,
           0.8500943183898926,
           1.0098967552185059,
           1.4653782844543457,
           1.5853424072265625,
           1.7969224452972412,
           1.9493043422698975,
           2.041614055633545,
           2.040867805480957,
           1.9270000457763672,
           1.5709028244018555,
           1.3184731006622314,
           1.2462066411972046,
           1.2630363702774048,
           1.2975083589553833,
           1.308523178100586,
           1.206367015838623,
           0.787388265132904,
           0.8005203604698181,
           0.8085030317306519,
           0.8087928891181946,
           0.8110613822937012,
           0.8113635778427124,
           0.789884626865387,
           0.767856240272522,
           0.8172863125801086,
           0.8739669919013977,
           0.9390681982040405,
           0.8357345461845398,
           0.7339882254600525,
           0.7561395168304443,
           0.815729558467865,
           0.8913372755050659,
           0.8710508346557617,
           0.7805703282356262,
           0.6968331933021545,
           0.6089350581169128,
           0.5592226386070251,
           0.5256577134132385,
           0.586173951625824,
           0.6625466346740723,
           0.974157452583313,
           1.0074306726455688,
           1.025524616241455,
           1.0388158559799194,
           1.0574612617492676,
           1.0630418062210083,
           1.047298789024353,
           1.0051730871200562,
           1.0160611867904663,
           1.0309747457504272,
           1.0744762420654297,
           1.142204999923706,
           1.080424189567566,
           1.0423132181167603,
           1.0882381200790405,
           1.1233614683151245,
           1.0223479270935059,
           0.9878977537155151,
           1.0295149087905884,
           1.022092580795288,
           1.000373125076294,
           0.9744442701339722,
           0.9711171984672546,
           0.9809770584106445,
           0.9145612716674805,
           0.9102057814598083,
           0.928216814994812,
           0.932367205619812,
           0.916263997554779,
           0.9062310457229614,
           0.8683649897575378,
           0.8250691294670105,
           0.8358649611473083,
           0.8965407013893127,
           1.0859469175338745,
           1.0901402235031128,
           1.0372633934020996,
           1.0034972429275513,
           0.984894871711731,
           0.9859780073165894,
           0.9403961896896362,
           0.7721595764160156,
           0.7017964124679565,
           0.723748505115509,
           0.7517538070678711,
           0.7684981226921082,
           0.9064847826957703,
           0.8874161839485168,
           0.8265962600708008,
           0.8524293303489685,
           0.8786293268203735,
           0.8977283239364624,
           0.8960233330726624,
           0.8826891779899597,
           0.8514442443847656,
           0.8095055222511292,
           0.8419053554534912,
           0.8963432908058167,
           0.9511699080467224,
           0.84250408411026,
           0.7424578666687012,
           0.7075863480567932,
           0.6978166103363037,
           0.726410984992981,
           0.6991585493087769,
           0.6196489930152893,
           0.5346493721008301,
           0.576640248298645,
           0.611802339553833,
           0.6478971242904663,
           0.7934630513191223,
           0.8297798037528992,
           0.1760404258966446,
           0.15940555930137634,
           0.21591699123382568,
           0.2769070267677307,
           0.2869943380355835,
           0.2990342080593109,
           0.3208129405975342,
           0.3710367977619171,
           0.3918464779853821,
           0.30737894773483276,
           0.4899487793445587,
           0.3912679851055145,
           0.28522494435310364,
           0.4098075032234192,
           0.5752672553062439,
           0.6565004587173462,
           0.6469677090644836,
           0.533531665802002,
           0.38709449768066406,
           0.3527667820453644,
           0.3932739198207855,
           0.4318603277206421,
           0.3985865116119385,
           0.24366207420825958,
           0.7467300891876221,
           0.6988546848297119,
           0.7078917026519775,
           0.6873890161514282,
           0.6880990266799927,
           0.7046739459037781,
           0.7597381472587585,
           0.846016526222229,
           0.8758176565170288,
           0.6485053300857544,
           0.9669226408004761,
           0.7603116631507874,
           0.551846981048584,
           0.5042293667793274,
           0.5992817282676697,
           0.7337837815284729,
           0.8183185458183289,
           0.8361814022064209,
           0.7190496325492859,
           0.6253532767295837,
           0.6564573645591736,
           0.7046360373497009,
           0.9311522245407104,
           0.8636670112609863,
           0.43579360842704773,
           0.4083843529224396,
           0.38654404878616333,
           0.37466323375701904,
           0.33208101987838745,
           0.28984853625297546,
           0.24667294323444366,
           0.22114197909832,
           0.30581608414649963,
           0.5075680613517761,
           0.28509169816970825,
           0.4011525809764862,
           0.6120912432670593,
           0.7867712378501892,
           0.8278308510780334,
           0.7783867120742798,
           0.6324857473373413,
           0.5275957584381104,
           0.3923772871494293,
           0.26441264152526855,
           0.23966574668884277,
           0.2847699820995331,
           0.42187461256980896,
           0.393720805644989,
           0.1807393878698349,
           0.13447779417037964,
           0.06348252296447754,
           0.08783920109272003,
           0.1342591494321823,
           0.1953195333480835,
           0.2497333437204361,
           0.42720040678977966,
           0.7518867254257202,
           1.0903033018112183,
           0.9202890396118164,
           1.1547846794128418,
           1.3120794296264648,
           1.3516043424606323,
           1.2838457822799683,
           1.1982066631317139,
           1.12017023563385,
           1.1015979051589966,
           1.0234829187393188,
           0.8808847069740295,
           0.7449538111686707,
           0.5969358086585999,
           0.39964255690574646,
           0.24112094938755035,
           0.23113465309143066,
           0.2590022683143616,
           0.24225252866744995,
           0.20127519965171814,
           0.13361981511116028,
           0.05883302539587021,
           0.04298580437898636,
           0.1711464673280716,
           0.4046020209789276,
           0.6340051293373108,
           0.5757192373275757,
           0.7125270962715149,
           0.8518674969673157,
           0.8918797969818115,
           0.8739768266677856,
           0.8296582698822021,
           0.7680637836456299,
           0.7170684933662415,
           0.639604389667511,
           0.5808414220809937,
           0.543580949306488,
           0.48061084747314453,
           0.38354241847991943,
           0.29630860686302185,
           0.39921677112579346,
           0.2975882589817047,
           0.24303844571113586,
           0.2644082009792328,
           0.30160707235336304,
           0.3158903419971466,
           0.355190634727478,
           0.4895934760570526,
           0.6850850582122803,
           0.83871990442276,
           0.5618436336517334,
           0.6231785416603088,
           0.6440971493721008,
           0.6097971200942993,
           0.5514672994613647,
           0.48963838815689087,
           0.4598884880542755,
           0.5182722806930542,
           0.589330792427063,
           0.6320438385009766,
           0.6087489128112793,
           0.5617806911468506,
           0.586250364780426,
           0.46837499737739563,
           0.37581998109817505,
           0.40999794006347656,
           0.4605686068534851,
           0.4853575825691223,
           0.4946214556694031,
           0.4509229063987732,
           0.44933539628982544,
           0.5230822563171387,
           0.5046566128730774,
           0.4433298110961914,
           0.47443631291389465,
           0.21946409344673157,
           0.09259640425443649,
           0.1824062615633011,
           0.28089550137519836,
           0.3709883987903595,
           0.3769654333591461,
           0.2871609926223755,
           0.10518171638250351,
           0.07816746085882187,
           0.12946829199790955,
           0.18973854184150696,
           0.402395635843277,
           0.3337261378765106,
           0.14625269174575806,
           0.10678940266370773,
           0.04112391546368599,
           0.01097782701253891,
           0.04625329747796059,
           0.05393976345658302,
           0.06705440580844879,
           0.06781847029924393,
           0.15779510140419006,
           0.3019210696220398,
           0.32310950756073,
           0.6032682061195374,
           0.7365884780883789,
           0.7323247790336609,
           0.6440536975860596,
           0.5058929920196533,
           0.36658918857574463,
           0.39369192719459534,
           0.36692139506340027,
           0.3503960371017456,
           0.38112398982048035,
           0.39445260167121887,
           0.2852824032306671,
           0.15525348484516144,
           0.6468368172645569,
           0.6824208498001099,
           0.7009041905403137,
           0.7362516522407532,
           0.8170558214187622,
           0.8496025800704956,
           0.7956467866897583,
           0.7407987117767334,
           0.7267519235610962,
           0.7435536980628967,
           0.773276150226593,
           0.6056315898895264,
           0.5244582295417786,
           0.5580311417579651,
           0.6115610003471375,
           0.6483868956565857,
           0.5366363525390625,
           0.4857846200466156,
           0.5344930291175842,
           0.5674529075622559,
           0.5378089547157288,
           0.5013477206230164,
           0.550444483757019,
           0.5823358297348022,
           0.6561518907546997,
           0.676009476184845,
           0.6772332191467285,
           0.6746355295181274,
           0.7195170521736145,
           0.7347991466522217,
           0.7184982895851135,
           0.7140228748321533,
           0.7569065093994141,
           0.7389119863510132,
           0.8560490012168884,
           0.83026123046875,
           0.832879364490509,
           0.8428294062614441,
           0.7734825611114502,
           0.6621936559677124,
           0.5046514868736267,
           0.5137084126472473,
           0.5042130351066589,
           0.5137487649917603,
           0.5341528058052063,
           0.5837642550468445,
           0.728973925113678,
           0.732617974281311,
           0.41948768496513367,
           0.4438764750957489,
           0.477849543094635,
           0.5206432938575745,
           0.5711953639984131,
           0.6111207604408264,
           0.6044856309890747,
           0.5931803584098816,
           0.5908874869346619,
           0.599828839302063,
           0.6018741130828857,
           0.5565916299819946,
           0.5183817744255066,
           0.5035457611083984,
           0.5547791123390198,
           0.6154016852378845,
           0.6300931572914124,
           0.5624735355377197,
           0.5416057109832764,
           0.49811291694641113,
           0.46580392122268677,
           0.4562442898750305,
           0.4224683940410614,
           0.48978522419929504,
           1.3258132934570312,
           1.3176637887954712,
           1.3365908861160278,
           1.3487616777420044,
           1.3495370149612427,
           1.3212859630584717,
           1.276808500289917,
           1.2772173881530762,
           1.3455538749694824,
           1.4460642337799072,
           1.623618245124817,
           1.7063874006271362,
           1.7260297536849976,
           1.7625311613082886,
           1.7428423166275024,
           1.677984356880188,
           1.608283519744873,
           1.4056148529052734,
           1.2375297546386719,
           1.2026143074035645,
           1.2085983753204346,
           1.2068448066711426,
           1.243586540222168,
           1.2761996984481812,
           1.8319212198257446,
           1.7606141567230225,
           1.7241650819778442,
           1.6845115423202515,
           1.6468539237976074,
           1.6105353832244873,
           1.5882742404937744,
           1.5903376340866089,
           1.6006180047988892,
           1.7242021560668945,
           1.8738539218902588,
           2.050858974456787,
           2.191890239715576,
           2.313558340072632,
           2.415605306625366,
           2.472548723220825,
           2.3921353816986084,
           2.130815267562866,
           1.7832973003387451,
           1.8162922859191895,
           1.8908888101577759,
           1.933488368988037,
           1.9996002912521362,
           1.9694761037826538,
           0.4296703636646271,
           0.45998692512512207,
           0.4537244439125061,
           0.4437157213687897,
           0.42978566884994507,
           0.3774832785129547,
           0.332843154668808,
           0.31895896792411804,
           0.3236730098724365,
           0.3079378306865692,
           0.35915064811706543,
           0.3984992206096649,
           0.5195011496543884,
           0.5918118953704834,
           0.6080284118652344,
           0.636188268661499,
           0.5802246332168579,
           0.49443304538726807,
           0.3085695803165436,
           0.15304231643676758,
           0.14762189984321594,
           0.16064144670963287,
           0.2844221293926239,
           0.35672855377197266,
           0.21902231872081757,
           0.23730790615081787,
           0.2985779941082001,
           0.32098153233528137,
           0.34611761569976807,
           0.3608465790748596,
           0.4406075179576874,
           0.5594233274459839,
           0.7760974764823914,
           0.9427742958068848,
           0.9322452545166016,
           0.9243468642234802,
           0.9239094257354736,
           0.9130607843399048,
           0.8479716181755066,
           0.7611362934112549,
           0.7027651071548462,
           0.7518199682235718,
           0.8562188148498535,
           0.8247416615486145,
           0.71485835313797,
           0.6315435171127319,
           0.43030762672424316,
           0.3489798307418823,
           0.47676271200180054,
           0.3887239396572113,
           0.37122729420661926,
           0.36226481199264526,
           0.38384944200515747,
           0.43209517002105713,
           0.496003121137619,
           0.7283827662467957,
           1.0466997623443604,
           1.3534222841262817,
           1.5280067920684814,
           1.7065695524215698,
           1.8046457767486572,
           1.8117144107818604,
           1.757465124130249,
           1.6610041856765747,
           1.5049346685409546,
           1.392439842224121,
           1.278884768486023,
           1.1171702146530151,
           1.0286366939544678,
           0.9224765300750732,
           0.7306239604949951,
           0.5205905437469482,
           0.3553706109523773,
           0.26469337940216064,
           0.1924222856760025,
           0.14509187638759613,
           0.08658624440431595,
           0.043900273740291595,
           0.06739386171102524,
           0.20665672421455383,
           0.46965542435646057,
           0.7490696310997009,
           0.9477286338806152,
           1.1782243251800537,
           1.3369152545928955,
           1.3885680437088013,
           1.3759080171585083,
           1.3111653327941895,
           1.1779093742370605,
           1.0575448274612427,
           0.956717312335968,
           0.8852652311325073,
           0.7668981552124023,
           0.7240400910377502,
           0.5521858334541321,
           0.43279320001602173,
           0.10666307061910629,
           0.05428091436624527,
           0.014494205825030804,
           0.04055848345160484,
           0.04789622873067856,
           0.08230162411928177,
           0.14826728403568268,
           0.2033219337463379,
           0.30443939566612244,
           0.4127762019634247,
           0.38177260756492615,
           0.466705858707428,
           0.5622217655181885,
           0.6505740880966187,
           0.7222276926040649,
           0.7669823169708252,
           0.768251359462738,
           0.6918787956237793,
           0.5202526450157166,
           0.3239818811416626,
           0.27591103315353394,
           0.247151181101799,
           0.17053711414337158,
           0.12017897516489029,
           0.4517555832862854,
           0.46402886509895325,
           0.46715596318244934,
           0.4575147032737732,
           0.45763686299324036,
           0.42796310782432556,
           0.4144313931465149,
           0.43575701117515564,
           0.3918772339820862,
           0.34848281741142273,
           0.3712591230869293,
           0.4262640178203583,
           0.5291343927383423,
           0.6233375668525696,
           0.7189232110977173,
           0.7915884852409363,
           0.7758410573005676,
           0.6279805302619934,
           0.4296388030052185,
           0.357273668050766,
           0.3793799579143524,
           0.4179675281047821,
           0.49208277463912964,
           0.4947452247142792,
           0.6356310844421387,
           0.5708369016647339,
           0.5043090581893921,
           0.46907466650009155,
           0.4279354214668274,
           0.4054776430130005,
           0.40496718883514404,
           0.3859349489212036,
           0.366655170917511,
           0.4862138628959656,
           0.6868244409561157,
           0.9813152551651001,
           1.2065167427062988,
           1.3501836061477661,
           1.3972041606903076,
           1.3323715925216675,
           1.1514034271240234,
           0.8729878664016724,
           0.7628321647644043,
           0.6876336932182312,
           0.673052191734314,
           0.634950578212738,
           0.6531683206558228,
           0.6153513789176941,
           0.2194863110780716,
           0.21342775225639343,
           0.17932085692882538,
           0.14797315001487732,
           0.14492331445217133,
           0.1427622139453888,
           0.12124946713447571,
           0.10304825752973557,
           0.09197963774204254,
           0.015613171271979809,
           0.04292675107717514,
           0.19323591887950897,
           0.3476300835609436,
           0.42019787430763245,
           0.42061665654182434,
           0.3718591034412384,
           0.32296499609947205,
           0.25113198161125183,
           0.16148759424686432,
           0.0934218242764473,
           0.08668144047260284,
           0.09998106211423874,
           0.14258652925491333,
           0.14931440353393555,
           0.7008628845214844,
           0.7482373714447021,
           0.7901808023452759,
           0.8301785588264465,
           0.8607637286186218,
           0.8527783751487732,
           0.8542422652244568,
           0.8568462133407593,
           0.9033429622650146,
           0.9163942933082581,
           0.9972209930419922,
           0.9835541844367981,
           0.928665041923523,
           0.8592297434806824,
           0.8393067717552185,
           0.8352546691894531,
           0.7106903195381165,
           0.6613729596138,
           0.6337549090385437,
           0.6086324453353882,
           0.5788511037826538,
           0.5625738501548767,
           0.6521163582801819,
           0.7068489789962769,
           0.591708779335022,
           0.5949221253395081,
           0.5865896344184875,
           0.5695763230323792,
           0.5611151456832886,
           0.5395484566688538,
           0.5040035247802734,
           0.46102914214134216,
           0.4640093445777893,
           0.4989635944366455,
           0.5494451522827148,
           0.5182325839996338,
           0.5476714968681335,
           0.5813801288604736,
           0.5791823863983154,
           0.5326128005981445,
           0.43599697947502136,
           0.45377057790756226,
           0.545433521270752,
           0.6018103957176208,
           0.5728796124458313,
           0.5260595083236694,
           0.5885124802589417,
           0.5982078313827515,
           1.6876084804534912,
           1.6451953649520874,
           1.657895565032959,
           1.6706782579421997,
           1.7119085788726807,
           1.756866693496704,
           1.7831079959869385,
           1.7829632759094238,
           1.8400615453720093,
           1.9491381645202637,
           2.2566118240356445,
           2.3603150844573975,
           2.3155956268310547,
           2.272291898727417,
           2.2300026416778564,
           2.1925125122070312,
           2.077338933944702,
           1.7950620651245117,
           1.6182383298873901,
           1.6534926891326904,
           1.7030044794082642,
           1.710076928138733,
           1.8480219841003418,
           1.7958824634552002,
           1.437174916267395,
           1.4529591798782349,
           1.472790002822876,
           1.4774221181869507,
           1.472527027130127,
           1.4877432584762573,
           1.4881184101104736,
           1.5308446884155273,
           1.610360026359558,
           1.663374900817871,
           1.6615756750106812,
           1.5711840391159058,
           1.4830156564712524,
           1.4320214986801147,
           1.445581316947937,
           1.4956992864608765,
           1.543290615081787,
           1.4671114683151245,
           1.260880708694458,
           1.2411960363388062,
           1.258652925491333,
           1.2941468954086304,
           1.3609654903411865,
           1.3678394556045532,
           0.3199893832206726,
           0.3457540273666382,
           0.40643587708473206,
           0.43707168102264404,
           0.480925053358078,
           0.5115082859992981,
           0.5488024950027466,
           0.635704755783081,
           0.7675222158432007,
           1.0358489751815796,
           0.9907996654510498,
           1.1383566856384277,
           1.23197603225708,
           1.2416192293167114,
           1.1568187475204468,
           1.0072499513626099,
           0.888331949710846,
           0.7885894775390625,
           0.5682457089424133,
           0.45334553718566895,
           0.4526805579662323,
           0.4286217987537384,
           0.332295686006546,
           0.32131704688072205,
           1.011414885520935,
           1.039395809173584,
           1.0312042236328125,
           1.0109219551086426,
           0.9791531562805176,
           0.9228155016899109,
           0.9788253307342529,
           0.9677726030349731,
           0.8941368460655212,
           0.8065516352653503,
           0.7603859305381775,
           0.8724256753921509,
           1.0197958946228027,
           1.1591051816940308,
           1.3131569623947144,
           1.4287583827972412,
           1.5170334577560425,
           1.4911211729049683,
           1.2754570245742798,
           0.9990562796592712,
           0.9649285078048706,
           0.9535350799560547,
           0.9265510439872742,
           0.9309216141700745,
           0.4553191065788269,
           0.4880354404449463,
           0.4867827892303467,
           0.4802389144897461,
           0.46001124382019043,
           0.4009492099285126,
           0.40837496519088745,
           0.2697594165802002,
           0.06122700497508049,
           0.30419284105300903,
           0.448760062456131,
           0.7337108850479126,
           0.9301429390907288,
           1.0326892137527466,
           1.0623457431793213,
           1.0601354837417603,
           1.0330551862716675,
           0.9554288983345032,
           0.82193922996521,
           0.5837204456329346,
           0.4270171821117401,
           0.36824268102645874,
           0.3389245271682739,
           0.35951122641563416,
           0.10269967466592789,
           0.09824041277170181,
           0.1066608726978302,
           0.11622830480337143,
           0.1234804168343544,
           0.10258185118436813,
           0.07265694439411163,
           0.12452743947505951,
           0.2824389338493347,
           0.5059452056884766,
           0.5440171360969543,
           0.7263824343681335,
           0.8882437944412231,
           1.007248878479004,
           1.0492639541625977,
           1.061441421508789,
           1.0405579805374146,
           0.9544944763183594,
           0.7758025527000427,
           0.5041727423667908,
           0.3873502016067505,
           0.3334055244922638,
           0.22116486728191376,
           0.15914258360862732,
           0.2881542444229126,
           0.2816205620765686,
           0.30964937806129456,
           0.335043340921402,
           0.3539774715900421,
           0.39502787590026855,
           0.4695553481578827,
           0.5640274882316589,
           0.7201163172721863,
           0.8701272010803223,
           0.8952805399894714,
           0.9712550640106201,
           1.0223225355148315,
           1.0264086723327637,
           0.9561553597450256,
           0.8388802409172058,
           0.6779388785362244,
           0.6057096123695374,
           0.599220335483551,
           0.7305668592453003,
           0.7069994211196899,
           0.6447222828865051,
           0.47978106141090393,
           0.4306478202342987,
           0.4776323735713959,
           0.3545962870121002,
           0.2751275897026062,
           0.29823145270347595,
           0.34816014766693115,
           0.418262779712677,
           0.4747449457645416,
           0.6107101440429688,
           0.8342075347900391,
           1.0557851791381836,
           1.0074323415756226,
           1.1103473901748657,
           1.1458046436309814,
           1.1271525621414185,
           1.0605844259262085,
           1.0031887292861938,
           0.9728583097457886,
           1.0211400985717773,
           0.987120509147644,
           0.8568490743637085,
           0.8083236217498779,
           0.7811678051948547,
           0.6235697865486145,
           0.5571039319038391,
           0.527957558631897,
           0.5470575094223022,
           0.6024845242500305,
           0.6420077085494995,
           0.7248202562332153,
           0.7718831300735474,
           0.8035607933998108,
           0.8849538564682007,
           0.9691430926322937,
           1.0934301614761353,
           1.0844262838363647,
           1.0389844179153442,
           0.9779984354972839,
           0.9061166644096375,
           0.8620530962944031,
           0.8366564512252808,
           0.8523790240287781,
           0.7729682922363281,
           0.6855903267860413,
           0.6441630721092224,
           0.6026039719581604,
           0.5700231790542603,
           0.504307746887207,
           0.5439241528511047,
           0.3829615116119385,
           0.41586193442344666,
           0.4519837498664856,
           0.45491084456443787,
           0.4637914001941681,
           0.47190943360328674,
           0.4753111004829407,
           0.4928033649921417,
           0.5387588739395142,
           0.5092877149581909,
           0.5919734239578247,
           0.542106032371521,
           0.48818087577819824,
           0.44167548418045044,
           0.4490523040294647,
           0.45463624596595764,
           0.39327719807624817,
           0.2894556522369385,
           0.2213699072599411,
           0.2529730796813965,
           0.26731035113334656,
           0.28201475739479065,
           0.3632657527923584,
           0.36561518907546997,
           0.48853230476379395,
           0.4933701455593109,
           0.512997567653656,
           0.5018161535263062,
           0.518883228302002,
           0.523523211479187,
           0.5415264964103699,
           0.5508156418800354,
           0.5727159976959229,
           0.6392711400985718,
           0.7065556645393372,
           0.7125009894371033,
           0.6712539196014404,
           0.6088328957557678,
           0.6036073565483093,
           0.5954949259757996,
           0.6225139498710632,
           0.5399369597434998,
           0.5232702493667603,
           0.5287446975708008,
           0.5084584355354309,
           0.48846521973609924,
           0.4565005600452423,
           0.45951247215270996,
           0.8951262831687927,
           0.8739052414894104,
           0.8482098579406738,
           0.808879017829895,
           0.8004218935966492,
           0.7785420417785645,
           0.7501000165939331,
           0.7455034852027893,
           0.7839338183403015,
           0.814436674118042,
           0.9178839921951294,
           0.975105881690979,
           1.0054631233215332,
           1.038989782333374,
           1.070624828338623,
           1.0382544994354248,
           0.854928731918335,
           0.8227766752243042,
           0.8847554922103882,
           0.9313426613807678,
           0.9027925729751587,
           0.8599473834037781,
           0.9817286729812622,
           0.9307523369789124,
           1.0562833547592163,
           1.0448771715164185,
           1.052492618560791,
           1.0366345643997192,
           0.991860032081604,
           0.9629762768745422,
           0.9434755444526672,
           0.9326754808425903,
           1.016182780265808,
           1.2259094715118408,
           1.447788119316101,
           1.5791646242141724,
           1.7060177326202393,
           1.7599098682403564,
           1.8065860271453857,
           1.8478953838348389,
           1.8520689010620117,
           1.774834156036377,
           1.6264618635177612,
           1.5318857431411743,
           1.413511037826538,
           1.305007815361023,
           1.1779900789260864,
           1.1183139085769653,
           1.5689336061477661,
           1.52633798122406,
           1.5096453428268433,
           1.475642204284668,
           1.4426475763320923,
           1.416794776916504,
           1.3980776071548462,
           1.4648761749267578,
           1.6039355993270874,
           1.7505968809127808,
           1.9072835445404053,
           1.969285011291504,
           2.073857545852661,
           2.2390596866607666,
           2.4293770790100098,
           2.5620739459991455,
           2.608555793762207,
           2.482947826385498,
           2.021242380142212,
           1.9111859798431396,
           1.8849399089813232,
           1.8166810274124146,
           1.7513140439987183,
           1.6919701099395752,
           1.6101511716842651,
           1.5801701545715332,
           1.5416558980941772,
           1.506649374961853,
           1.4636763334274292,
           1.406538963317871,
           1.3821301460266113,
           1.4086511135101318,
           1.482231616973877,
           1.620648980140686,
           1.7540464401245117,
           1.9228354692459106,
           2.0908491611480713,
           2.2329301834106445,
           2.2695062160491943,
           2.2225074768066406,
           2.1494662761688232,
           2.018415689468384,
           1.779005527496338,
           1.5768072605133057,
           1.495987892150879,
           1.4802883863449097,
           1.6547516584396362,
           1.6275807619094849,
           0.8619387149810791,
           0.9294424057006836,
           0.9501785039901733,
           0.9386698603630066,
           0.9035959839820862,
           0.8466018438339233,
           0.9085676074028015,
           0.92580246925354,
           0.9072362780570984,
           0.8757269978523254,
           0.9052620530128479,
           1.1009424924850464,
           1.2866122722625732,
           1.4615660905838013,
           1.5295432806015015,
           1.5539082288742065,
           1.5391639471054077,
           1.4622347354888916,
           1.2500109672546387,
           0.9341924786567688,
           0.86763596534729,
           0.8550282716751099,
           0.8776276707649231,
           0.8605601191520691,
           0.14991654455661774,
           0.10955654829740524,
           0.11671556532382965,
           0.14831668138504028,
           0.16537274420261383,
           0.17530615627765656,
           0.23208118975162506,
           0.2472362220287323,
           0.2622451186180115,
           0.32968488335609436,
           0.3447904586791992,
           0.4059886038303375,
           0.4319603443145752,
           0.3995530903339386,
           0.32981157302856445,
           0.26836419105529785,
           0.1940544843673706,
           0.12116378545761108,
           0.18734127283096313,
           0.33676931262016296,
           0.3151264190673828,
           0.30842268466949463,
           0.2521793246269226,
           0.24966560304164886,
           0.3058485984802246,
           0.3158581852912903,
           0.3060867488384247,
           0.32163459062576294,
           0.3064417243003845,
           0.26950395107269287,
           0.2500802278518677,
           0.21539655327796936,
           0.14822496473789215,
           0.2125639170408249,
           0.40035271644592285,
           0.6475018262863159,
           0.8456688523292542,
           1.0054481029510498,
           1.0839042663574219,
           1.1139297485351562,
           1.0777003765106201,
           0.9859558343887329,
           0.7929744720458984,
           0.5368894338607788,
           0.4445675313472748,
           0.4205784201622009,
           0.40921667218208313,
           0.3695595860481262,
           0.361591637134552,
           0.2938586175441742,
           0.226546972990036,
           0.17618200182914734,
           0.12781715393066406,
           0.06707380712032318,
           0.006623802240937948,
           0.07522910833358765,
           0.22895470261573792,
           0.4279789626598358,
           0.5225052833557129,
           0.7830991744995117,
           1.0165672302246094,
           1.1772292852401733,
           1.240781545639038,
           1.2506498098373413,
           1.162853717803955,
           0.9956891536712646,
           0.7734723091125488,
           0.5770788788795471,
           0.5043718814849854,
           0.49342599511146545,
           0.47416678071022034,
           0.42755523324012756,
           0.15257145464420319,
           0.12356211245059967,
           0.07538136094808578,
           0.0791812464594841,
           0.10459191352128983,
           0.1267409473657608,
           0.1691587120294571,
           0.22392737865447998,
           0.22655650973320007,
           0.229426771402359,
           0.17876800894737244,
           0.3506406843662262,
           0.5288174152374268,
           0.6099865436553955,
           0.6352044939994812,
           0.6113219261169434,
           0.547305166721344,
           0.40529993176460266,
           0.2608180046081543,
           0.14176702499389648,
           0.11579444259405136,
           0.11545348167419434,
           0.16286426782608032,
           0.12867137789726257,
           0.417993426322937,
           0.45792514085769653,
           0.5141853094100952,
           0.5154942870140076,
           0.5234650373458862,
           0.5164231657981873,
           0.5044411420822144,
           0.5358923077583313,
           0.5920694470405579,
           0.6256821751594543,
           0.5379701852798462,
           0.47765570878982544,
           0.4846746325492859,
           0.5030112266540527,
           0.4900411367416382,
           0.4576943516731262,
           0.40329235792160034,
           0.4235745966434479,
           0.4027010500431061,
           0.3937784731388092,
           0.4030654728412628,
           0.4236094057559967,
           0.363055557012558,
           0.3351372480392456,
           1.0515854358673096,
           1.0599250793457031,
           1.0624430179595947,
           1.0574826002120972,
           1.0657721757888794,
           1.0828200578689575,
           1.1149308681488037,
           1.167229413986206,
           1.2749487161636353,
           1.2875068187713623,
           1.365309238433838,
           1.3675509691238403,
           1.3218250274658203,
           1.3524285554885864,
           1.3654518127441406,
           1.3112945556640625,
           1.1160330772399902,
           1.091422438621521,
           1.165261149406433,
           1.2039052248001099,
           1.1686264276504517,
           1.108033299446106,
           1.1514922380447388,
           1.123605489730835,
           1.189241886138916,
           1.2051074504852295,
           1.2336419820785522,
           1.2439165115356445,
           1.2478469610214233,
           1.2375013828277588,
           1.2134315967559814,
           1.2262802124023438,
           1.2696551084518433,
           1.248116135597229,
           1.4065238237380981,
           1.523833990097046,
           1.5057960748672485,
           1.4515407085418701,
           1.3772393465042114,
           1.2142530679702759,
           0.9935552477836609,
           0.8969950079917908,
           0.9508047103881836,
           1.0207953453063965,
           1.039662480354309,
           1.0535638332366943,
           1.065503716468811,
           1.0820719003677368,
           1.789892315864563,
           1.8192998170852661,
           1.829054355621338,
           1.8396683931350708,
           1.878360390663147,
           1.9009913206100464,
           1.9036424160003662,
           1.9069831371307373,
           1.9246760606765747,
           1.9574412107467651,
           2.1143765449523926,
           2.3176064491271973,
           2.428840398788452,
           2.478254556655884,
           2.428772211074829,
           2.326744556427002,
           2.1205880641937256,
           1.9575315713882446,
           1.9171409606933594,
           1.9648513793945312,
           1.9474754333496094,
           1.8765045404434204,
           1.9408462047576904,
           1.902958869934082,
           0.8365592360496521,
           0.8026859164237976,
           0.7887445688247681,
           0.7581560015678406,
           0.7755523324012756,
           0.769212007522583,
           0.7592765688896179,
           0.7415669560432434,
           0.7201614379882812,
           0.6384278535842896,
           0.7681843042373657,
           0.8397939205169678,
           0.8952519297599792,
           0.9473775029182434,
           0.9702193140983582,
           0.9573190808296204,
           0.8524811267852783,
           0.7291640043258667,
           0.7230833172798157,
           0.7457561492919922,
           0.794542670249939,
           0.8203644156455994,
           0.8266350030899048,
           0.8160298466682434,
           0.4477798044681549,
           0.4367344081401825,
           0.460450142621994,
           0.446090966463089,
           0.4230858087539673,
           0.3812728226184845,
           0.39295974373817444,
           0.44371119141578674,
           0.41323328018188477,
           0.38251954317092896,
           0.35064852237701416,
           0.2374161332845688,
           0.19590908288955688,
           0.17986047267913818,
           0.14228592813014984,
           0.10875988006591797,
           0.12287384271621704,
           0.1166842058300972,
           0.24853813648223877,
           0.27908867597579956,
           0.3125356435775757,
           0.3448523283004761,
           0.4550468921661377,
           0.45202967524528503,
           1.643951416015625,
           1.6274369955062866,
           1.6100287437438965,
           1.6094088554382324,
           1.5614477396011353,
           1.53684401512146,
           1.500961184501648,
           1.6153367757797241,
           1.7986689805984497,
           1.9526607990264893,
           2.0574872493743896,
           2.1001226902008057,
           2.145848274230957,
           2.2039833068847656,
           2.2834718227386475,
           2.381704807281494,
           2.440500497817993,
           2.339647054672241,
           1.9166299104690552,
           1.6428744792938232,
           1.6299731731414795,
           1.6267690658569336,
           1.7091094255447388,
           1.6753448247909546,
           0.1263432800769806,
           0.1698082536458969,
           0.20630930364131927,
           0.250983327627182,
           0.2759224772453308,
           0.27734577655792236,
           0.31672072410583496,
           0.3562130630016327,
           0.5162631273269653,
           0.6736698150634766,
           0.7343245148658752,
           1.0035874843597412,
           1.1768394708633423,
           1.2551984786987305,
           1.231210470199585,
           1.1543434858322144,
           1.0217993259429932,
           0.8990235328674316,
           0.7341633439064026,
           0.5985202193260193,
           0.5491130352020264,
           0.43271005153656006,
           0.2581058144569397,
           0.1669958531856537,
           0.8528618812561035,
           0.7925009727478027,
           0.7257171273231506,
           0.6839002966880798,
           0.6404951810836792,
           0.589732825756073,
           0.6029938459396362,
           0.5596163868904114,
           0.4724685847759247,
           0.4536876976490021,
           0.5478729605674744,
           0.830224871635437,
           1.1341276168823242,
           1.3799164295196533,
           1.5239012241363525,
           1.5788933038711548,
           1.5686653852462769,
           1.4443522691726685,
           1.2060226202011108,
           0.8872608542442322,
           0.7939109802246094,
           0.7947738766670227,
           0.8951279520988464,
           0.8582229614257812,
           0.6839908957481384,
           0.6179543137550354,
           0.5565516948699951,
           0.5060994029045105,
           0.4514012634754181,
           0.39662104845046997,
           0.3412375748157501,
           0.27537044882774353,
           0.292619526386261,
           0.5447826385498047,
           0.8582683801651001,
           1.2298136949539185,
           1.5620754957199097,
           1.8003668785095215,
           1.93800950050354,
           1.9659878015518188,
           1.8757755756378174,
           1.7237629890441895,
           1.396583914756775,
           0.9203006029129028,
           0.8199314475059509,
           0.8327306509017944,
           0.8886054754257202,
           0.7987300753593445,
           0.4386895000934601,
           0.3489997684955597,
           0.30166131258010864,
           0.260402113199234,
           0.25288358330726624,
           0.2864323556423187,
           0.3042219579219818,
           0.40617671608924866,
           0.6530677080154419,
           0.9464297294616699,
           1.0537536144256592,
           1.274680495262146,
           1.4290128946304321,
           1.4797098636627197,
           1.4308205842971802,
           1.3521066904067993,
           1.2561193704605103,
           1.2430427074432373,
           1.2067134380340576,
           1.0723892450332642,
           0.9888131022453308,
           0.912794291973114,
           0.6816346645355225,
           0.5832156538963318,
           0.18729999661445618,
           0.21466873586177826,
           0.28904029726982117,
           0.37048688530921936,
           0.4200345575809479,
           0.43020176887512207,
           0.45075997710227966,
           0.5315989851951599,
           0.6284148097038269,
           0.758711576461792,
           0.7967672348022461,
           0.9559622406959534,
           1.015036940574646,
           1.0130857229232788,
           0.9341995120048523,
           0.844701886177063,
           0.79853755235672,
           0.7948164939880371,
           0.746310830116272,
           0.6955394148826599,
           0.5822013020515442,
           0.44834330677986145,
           0.24616652727127075,
           0.1570155918598175,
           0.4473738670349121,
           0.41650518774986267,
           0.39243051409721375,
           0.4067342281341553,
           0.42831677198410034,
           0.44343459606170654,
           0.4736153185367584,
           0.5058191418647766,
           0.4774126410484314,
           0.45533287525177,
           0.5939943194389343,
           0.7038617730140686,
           0.7785893082618713,
           0.7804679274559021,
           0.7380463480949402,
           0.6458727121353149,
           0.4906086027622223,
           0.3201478123664856,
           0.3114911913871765,
           0.3545823395252228,
           0.3845115303993225,
           0.3677792251110077,
           0.43841320276260376,
           0.4125785529613495,
           1.6263933181762695,
           1.6175823211669922,
           1.599697470664978,
           1.5836107730865479,
           1.596970558166504,
           1.5732626914978027,
           1.5393930673599243,
           1.5552250146865845,
           1.6870884895324707,
           1.8473416566848755,
           2.024425506591797,
           2.187223196029663,
           2.354318618774414,
           2.5018303394317627,
           2.5341124534606934,
           2.4418303966522217,
           2.119720220565796,
           1.8020756244659424,
           1.772864818572998,
           1.8073807954788208,
           1.8010063171386719,
           1.7811732292175293,
           1.780832290649414,
           1.781563639640808,
           1.6801029443740845,
           1.5973076820373535,
           1.5222381353378296,
           1.4521859884262085,
           1.4664613008499146,
           1.4600502252578735,
           1.4173438549041748,
           1.412333607673645,
           1.4707088470458984,
           1.602985143661499,
           1.7882121801376343,
           1.9776779413223267,
           2.1708216667175293,
           2.331158399581909,
           2.3153562545776367,
           2.262775421142578,
           2.130077600479126,
           2.022379159927368,
           2.003708600997925,
           1.9970647096633911,
           1.9651159048080444,
           1.918113350868225,
           1.95682954788208,
           1.866224765777588,
           1.5976027250289917,
           1.6038559675216675,
           1.591368317604065,
           1.558428406715393,
           1.5575345754623413,
           1.5554348230361938,
           1.5208817720413208,
           1.474739909172058,
           1.4436346292495728,
           1.4257400035858154,
           1.4860262870788574,
           1.5434775352478027,
           1.6458288431167603,
           1.8243098258972168,
           1.9140942096710205,
           1.8589893579483032,
           1.607892632484436,
           1.4490785598754883,
           1.410139560699463,
           1.412480115890503,
           1.424084186553955,
           1.3873151540756226,
           1.427818775177002,
           1.4177935123443604,
           1.662804126739502,
           1.5919883251190186,
           1.5089927911758423,
           1.4152488708496094,
           1.2973227500915527,
           1.1793808937072754,
           1.1021524667739868,
           1.0893951654434204,
           1.1388016939163208,
           1.199960470199585,
           1.4436906576156616,
           1.7096041440963745,
           1.9951260089874268,
           2.2213985919952393,
           2.3667259216308594,
           2.3565585613250732,
           2.2109603881835938,
           1.9880017042160034,
           1.8134287595748901,
           1.7641481161117554,
           1.7698239088058472,
           1.769975185394287,
           1.7890652418136597,
           1.7659616470336914,
           0.6106829643249512,
           0.6597102284431458,
           0.7430129051208496,
           0.769465446472168,
           0.783545732498169,
           0.7788264751434326,
           0.7417988181114197,
           0.7064914703369141,
           0.6733115315437317,
           0.6266602277755737,
           0.6177090406417847,
           0.6623176336288452,
           0.7419352531433105,
           0.8085124492645264,
           0.8601194620132446,
           0.8373122811317444,
           0.7482748031616211,
           0.5847240090370178,
           0.43282052874565125,
           0.40179452300071716,
           0.42627403140068054,
           0.45966386795043945,
           0.5064405202865601,
           0.5465369820594788,
           0.33741506934165955,
           0.2816649079322815,
           0.23509317636489868,
           0.23993296921253204,
           0.2809947431087494,
           0.3133670687675476,
           0.34500715136528015,
           0.4084104597568512,
           0.5575121641159058,
           0.719713032245636,
           0.6623563766479492,
           0.8175781965255737,
           0.8982446193695068,
           0.9449496865272522,
           0.9284965991973877,
           0.9027788639068604,
           0.8983482122421265,
           0.8927429914474487,
           0.8957803249359131,
           0.7938585877418518,
           0.7096887826919556,
           0.6213263273239136,
           0.5116496086120605,
           0.4546361565589905,
           0.8136482834815979,
           0.8385452628135681,
           0.8513004779815674,
           0.8585176467895508,
           0.8944024443626404,
           0.9051858186721802,
           0.9582139253616333,
           1.0013738870620728,
           0.9597203731536865,
           0.906600832939148,
           0.9417612552642822,
           1.0359562635421753,
           1.1622058153152466,
           1.2782701253890991,
           1.4024044275283813,
           1.48305344581604,
           1.5067596435546875,
           1.4368256330490112,
           1.1933727264404297,
           0.8921799659729004,
           0.8147213459014893,
           0.7781596779823303,
           0.7736741900444031,
           0.7676600217819214,
           0.41181907057762146,
           0.43898695707321167,
           0.4184952974319458,
           0.40516915917396545,
           0.400686115026474,
           0.37014785408973694,
           0.4077611565589905,
           0.36388829350471497,
           0.2694506347179413,
           0.2378188669681549,
           0.3901912271976471,
           0.47349706292152405,
           0.5736114382743835,
           0.6446439623832703,
           0.707151472568512,
           0.7240347266197205,
           0.716973066329956,
           0.6413435339927673,
           0.5010401010513306,
           0.36711445450782776,
           0.31506627798080444,
           0.28416305780410767,
           0.33275654911994934,
           0.3356788158416748,
           0.4286181628704071,
           0.30901283025741577,
           0.24504835903644562,
           0.20435209572315216,
           0.17195123434066772,
           0.20569628477096558,
           0.29947465658187866,
           0.4875888526439667,
           0.7087270021438599,
           0.9168068766593933,
           0.9310434460639954,
           1.05144464969635,
           1.1108511686325073,
           1.086402416229248,
           1.013407826423645,
           0.9207751154899597,
           0.8266488909721375,
           0.8323697447776794,
           0.8932930827140808,
           0.9562965631484985,
           0.8659958243370056,
           0.8106323480606079,
           0.5954797267913818,
           0.5199933052062988,
           0.4190549850463867,
           0.35387513041496277,
           0.32657647132873535,
           0.2969611585140228,
           0.29846036434173584,
           0.3227511942386627,
           0.3462698757648468,
           0.4200131297111511,
           0.5598089694976807,
           0.6183202862739563,
           0.4872967600822449,
           0.514713704586029,
           0.516666054725647,
           0.48653489351272583,
           0.44153305888175964,
           0.37583091855049133,
           0.3416078984737396,
           0.38648152351379395,
           0.49810266494750977,
           0.5879137516021729,
           0.594589114189148,
           0.5773023962974548,
           0.5077270269393921,
           0.47562170028686523,
           0.3182912766933441,
           0.2888481616973877,
           0.2718798518180847,
           0.27800294756889343,
           0.2864885926246643,
           0.27475258708000183,
           0.28776800632476807,
           0.2945391833782196,
           0.223359614610672,
           0.14283797144889832,
           0.2545918822288513,
           0.3396777808666229,
           0.4774806499481201,
           0.5793470144271851,
           0.6288480162620544,
           0.5960958003997803,
           0.5394470691680908,
           0.4408000409603119,
           0.3492030203342438,
           0.31322020292282104,
           0.3297225534915924,
           0.3826335668563843,
           0.469521701335907,
           0.41124242544174194,
           0.9465726017951965,
           0.9151959419250488,
           0.8972057104110718,
           0.8977465629577637,
           0.8899566531181335,
           0.8557978868484497,
           0.8538448214530945,
           0.8808409571647644,
           0.8632706999778748,
           0.8508443832397461,
           0.9744101166725159,
           1.0877002477645874,
           1.2207200527191162,
           1.2790113687515259,
           1.2973099946975708,
           1.2569363117218018,
           1.1361215114593506,
           0.9174462556838989,
           0.8541167378425598,
           0.8771229386329651,
           0.8936659693717957,
           0.9331719875335693,
           1.0727016925811768,
           1.045885443687439,
           1.7591121196746826,
           1.7316104173660278,
           1.7256255149841309,
           1.6804271936416626,
           1.643232822418213,
           1.611505150794983,
           1.5847665071487427,
           1.5894718170166016,
           1.6418923139572144,
           1.7213637828826904,
           1.8743247985839844,
           2.0398216247558594,
           2.124462366104126,
           2.166766405105591,
           2.0981390476226807,
           2.008725881576538,
           1.772458553314209,
           1.5867044925689697,
           1.5946251153945923,
           1.6553221940994263,
           1.6929694414138794,
           1.7079201936721802,
           1.7508714199066162,
           1.7364169359207153,
           1.0260602235794067,
           1.0504240989685059,
           1.039655327796936,
           1.0313676595687866,
           1.0319907665252686,
           0.9978387355804443,
           0.9383076429367065,
           0.8995620012283325,
           0.9141743779182434,
           0.9267886281013489,
           1.0306131839752197,
           1.1192100048065186,
           1.265208125114441,
           1.344904899597168,
           1.3005796670913696,
           1.1785905361175537,
           0.9793610572814941,
           0.8588669300079346,
           0.8539811372756958,
           0.8567520380020142,
           0.8470538258552551,
           0.8384286165237427,
           0.891588032245636,
           0.9018067121505737,
           0.49127671122550964,
           0.4972441792488098,
           0.5097206830978394,
           0.501099169254303,
           0.5078320503234863,
           0.5067241191864014,
           0.4806015193462372,
           0.4799973964691162,
           0.48600465059280396,
           0.487980455160141,
           0.43216952681541443,
           0.4018496572971344,
           0.4310307204723358,
           0.47954049706459045,
           0.46560508012771606,
           0.381250262260437,
           0.2052771896123886,
           0.14950746297836304,
           0.230051651597023,
           0.3010278046131134,
           0.32387593388557434,
           0.3513420522212982,
           0.4617147147655487,
           0.483462393283844,
           1.761312484741211,
           1.7615851163864136,
           1.7717607021331787,
           1.763556957244873,
           1.757047414779663,
           1.7233099937438965,
           1.6581357717514038,
           1.5896342992782593,
           1.6122655868530273,
           1.6063706874847412,
           1.6473785638809204,
           1.6597421169281006,
           1.6915901899337769,
           1.764047622680664,
           1.847957730293274,
           1.861849308013916,
           1.8185384273529053,
           1.6088968515396118,
           1.614916443824768,
           1.7167202234268188,
           1.7643053531646729,
           1.7875189781188965,
           1.7690008878707886,
           1.7821787595748901,
           0.558509349822998,
           0.5668126344680786,
           0.6151589155197144,
           0.6476719975471497,
           0.6978791952133179,
           0.7165776491165161,
           0.7336400151252747,
           0.7567840814590454,
           0.8541334271430969,
           0.9904443025588989,
           1.03892183303833,
           1.0423663854599,
           1.0386813879013062,
           1.0228064060211182,
           0.9935780167579651,
           0.9868380427360535,
           0.9874359965324402,
           0.9692834615707397,
           0.8834092617034912,
           0.8269972205162048,
           0.7866883277893066,
           0.7048765420913696,
           0.6135395765304565,
           0.5938199162483215,
           0.6014256477355957,
           0.606269896030426,
           0.5714389681816101,
           0.5454962849617004,
           0.5441863536834717,
           0.5702940821647644,
           0.6025887727737427,
           0.7060530185699463,
           0.9314554333686829,
           1.166906476020813,
           1.2505000829696655,
           1.3954529762268066,
           1.4620803594589233,
           1.4778847694396973,
           1.4056698083877563,
           1.3191124200820923,
           1.194591999053955,
           1.1086786985397339,
           0.980846643447876,
           0.8376014828681946,
           0.7721290588378906,
           0.6748772859573364,
           0.5143212080001831,
           0.5358362793922424,
           0.4486408829689026,
           0.3768218755722046,
           0.40032798051834106,
           0.44808563590049744,
           0.4775707721710205,
           0.46622756123542786,
           0.5028750896453857,
           0.6177286505699158,
           0.8327223062515259,
           1.1054610013961792,
           1.3476543426513672,
           1.5464634895324707,
           1.6251946687698364,
           1.6335558891296387,
           1.543272614479065,
           1.4502431154251099,
           1.3720555305480957,
           1.3012183904647827,
           1.170048713684082,
           0.9907035827636719,
           0.9078999757766724,
           0.7961981892585754,
           0.6761990189552307,
           0.5965962409973145,
           0.23608353734016418,
           0.15411975979804993,
           0.12421499937772751,
           0.07852885872125626,
           0.06071750074625015,
           0.08983701467514038,
           0.1318972408771515,
           0.21068055927753448,
           0.23717735707759857,
           0.292130708694458,
           0.3480919897556305,
           0.4993148744106293,
           0.6207776069641113,
           0.6937709450721741,
           0.7195992469787598,
           0.7041199803352356,
           0.6881769299507141,
           0.6188483834266663,
           0.49170786142349243,
           0.40872466564178467,
           0.36372849345207214,
           0.3874087631702423,
           0.35872387886047363,
           0.3171982169151306,
           0.5548900961875916,
           0.5157633423805237,
           0.47357064485549927,
           0.43712350726127625,
           0.42333880066871643,
           0.402852863073349,
           0.35064491629600525,
           0.30927130579948425,
           0.3726230561733246,
           0.5375962853431702,
           0.781979501247406,
           0.9936790466308594,
           1.1973819732666016,
           1.3601467609405518,
           1.46645188331604,
           1.4952749013900757,
           1.4672536849975586,
           1.3342657089233398,
           1.1052736043930054,
           0.7212426662445068,
           0.6134710311889648,
           0.5873359441757202,
           0.6137663722038269,
           0.5681641697883606,
           0.3274199366569519,
           0.2850671112537384,
           0.21817602217197418,
           0.17847315967082977,
           0.15835320949554443,
           0.10906589776277542,
           0.06419963389635086,
           0.06784959882497787,
           0.15972492098808289,
           0.3683454990386963,
           0.5833855867385864,
           0.8777405619621277,
           1.1068388223648071,
           1.2254698276519775,
           1.2518712282180786,
           1.2226431369781494,
           1.1431326866149902,
           0.9934099316596985,
           0.7457900047302246,
           0.6038311123847961,
           0.5567747354507446,
           0.5177390575408936,
           0.4177539348602295,
           0.35339275002479553,
           0.15665432810783386,
           0.07970937341451645,
           0.009869121015071869,
           0.08330143988132477,
           0.13824187219142914,
           0.15170224010944366,
           0.16624917089939117,
           0.24338699877262115,
           0.3354927599430084,
           0.533558189868927,
           0.7665926814079285,
           0.924209713935852,
           1.021703839302063,
           1.0719188451766968,
           1.0176618099212646,
           0.9240015745162964,
           0.8546998500823975,
           0.8120425939559937,
           0.7239474058151245,
           0.6238398551940918,
           0.53705894947052,
           0.49700799584388733,
           0.3643959164619446,
           0.3044414818286896,
           0.34307295083999634,
           0.34612685441970825,
           0.3592013120651245,
           0.36810043454170227,
           0.3799801170825958,
           0.39708036184310913,
           0.3735869228839874,
           0.39588794112205505,
           0.5275274515151978,
           0.7411321401596069,
           0.66562420129776,
           0.8139920830726624,
           0.9000670313835144,
           0.9105091094970703,
           0.8958452939987183,
           0.8865233063697815,
           0.92295241355896,
           0.9121739864349365,
           0.7816044092178345,
           0.7025915384292603,
           0.6493974924087524,
           0.5717145800590515,
           0.37424302101135254,
           0.2937219440937042,
           0.22378505766391754,
           0.2594771385192871,
           0.3093683421611786,
           0.31552210450172424,
           0.32499948143959045,
           0.31371334195137024,
           0.30164432525634766,
           0.3022458255290985,
           0.2846253514289856,
           0.24760472774505615,
           0.17867544293403625,
           0.09546177089214325,
           0.05477172136306763,
           0.07292027771472931,
           0.13935621082782745,
           0.21370869874954224,
           0.19085994362831116,
           0.22552669048309326,
           0.2451324760913849,
           0.1973213255405426,
           0.15978476405143738,
           0.12105497717857361,
           0.0932990312576294,
           0.16643953323364258,
           1.234344482421875,
           1.2339508533477783,
           1.2369741201400757,
           1.2177486419677734,
           1.214335560798645,
           1.199134111404419,
           1.1872237920761108,
           1.1401160955429077,
           1.1542125940322876,
           1.2082037925720215,
           1.318298101425171,
           1.3633424043655396,
           1.4096442461013794,
           1.4120807647705078,
           1.3686400651931763,
           1.2757766246795654,
           1.0623424053192139,
           1.1238099336624146,
           1.1846808195114136,
           1.2124277353286743,
           1.195291519165039,
           1.1976959705352783,
           1.2715258598327637,
           1.2681559324264526,
           0.6630482077598572,
           0.657049298286438,
           0.6831750273704529,
           0.6903963685035706,
           0.7334355115890503,
           0.7435213923454285,
           0.7425186038017273,
           0.7225199937820435,
           0.7593597173690796,
           0.765904426574707,
           0.8734161257743835,
           0.8588360548019409,
           0.8261629939079285,
           0.8001924157142639,
           0.7611456513404846,
           0.7096075415611267,
           0.6236181259155273,
           0.5977523922920227,
           0.5974673628807068,
           0.5784427523612976,
           0.5937545299530029,
           0.5956659913063049,
           0.6506695747375488,
           0.6550145745277405,
           1.4399524927139282,
           1.465016484260559,
           1.5192251205444336,
           1.5477622747421265,
           1.5853846073150635,
           1.6011617183685303,
           1.6069304943084717,
           1.5947706699371338,
           1.67653489112854,
           1.8002194166183472,
           1.8552219867706299,
           1.839258074760437,
           1.7709569931030273,
           1.714510440826416,
           1.6965134143829346,
           1.6718683242797852,
           1.5736453533172607,
           1.1701991558074951,
           1.0766947269439697,
           1.091417908668518,
           1.1353263854980469,
           1.1996099948883057,
           1.2702655792236328,
           1.3341646194458008,
           0.3698315918445587,
           0.3901866376399994,
           0.45949724316596985,
           0.507138192653656,
           0.5598705410957336,
           0.5985878109931946,
           0.6067323088645935,
           0.636504054069519,
           0.7094301581382751,
           0.929429829120636,
           0.986509382724762,
           1.0847193002700806,
           1.155373215675354,
           1.1578885316848755,
           1.1078357696533203,
           1.0282633304595947,
           0.9715757369995117,
           0.9408857822418213,
           0.7726140022277832,
           0.6609929800033569,
           0.5277100205421448,
           0.4246523380279541,
           0.3612225651741028,
           0.3280995190143585,
           2.288658857345581,
           2.2692835330963135,
           2.251098155975342,
           2.212106704711914,
           2.178372383117676,
           2.1087729930877686,
           2.0728588104248047,
           2.240138292312622,
           2.46518611907959,
           2.5557730197906494,
           2.66884446144104,
           2.8397910594940186,
           3.0167124271392822,
           3.2077183723449707,
           3.3724453449249268,
           3.51582670211792,
           3.565692901611328,
           3.491032361984253,
           3.026383638381958,
           2.5687291622161865,
           2.458714485168457,
           2.4158315658569336,
           2.346559524536133,
           2.3060483932495117,
           0.80526202917099,
           0.7922534346580505,
           0.7548032402992249,
           0.7015976309776306,
           0.6612523794174194,
           0.5940110087394714,
           0.5607694983482361,
           0.4981805980205536,
           0.4289018511772156,
           0.5062589049339294,
           0.6134943962097168,
           0.8421454429626465,
           1.0264381170272827,
           1.153855323791504,
           1.1866079568862915,
           1.1922398805618286,
           1.1548640727996826,
           1.074239730834961,
           0.8764955997467041,
           0.6325645446777344,
           0.6011974811553955,
           0.5796634554862976,
           0.6445155143737793,
           0.6743913292884827,
           0.6762802004814148,
           0.697274923324585,
           0.7290644645690918,
           0.711313784122467,
           0.6861419081687927,
           0.6149179935455322,
           0.5763987898826599,
           0.489184707403183,
           0.39392590522766113,
           0.4974721670150757,
           0.6288617253303528,
           0.9489805698394775,
           1.2212358713150024,
           1.4180363416671753,
           1.5358214378356934,
           1.5873761177062988,
           1.5870789289474487,
           1.4912251234054565,
           1.2669097185134888,
           0.8765731453895569,
           0.7426233887672424,
           0.711068868637085,
           0.8206630945205688,
           0.7867811322212219,
           0.4764660894870758,
           0.4335573613643646,
           0.3859822452068329,
           0.30552971363067627,
           0.24444037675857544,
           0.1973142921924591,
           0.12916865944862366,
           0.00797233171761036,
           0.1940849870443344,
           0.4294547736644745,
           0.5812819004058838,
           0.7259127497673035,
           0.8877875804901123,
           1.0349886417388916,
           1.1417289972305298,
           1.191141128540039,
           1.1709922552108765,
           1.062692403793335,
           0.8876373767852783,
           0.5717552900314331,
           0.4751981496810913,
           0.44194382429122925,
           0.4709470272064209,
           0.46522828936576843,
           0.5995857119560242,
           0.5731509327888489,
           0.571036159992218,
           0.5527417063713074,
           0.5347447991371155,
           0.47179165482521057,
           0.3761962354183197,
           0.31942644715309143,
           0.22324934601783752,
           0.3300946354866028,
           0.5222828388214111,
           0.8363747596740723,
           1.111433506011963,
           1.320887804031372,
           1.4686745405197144,
           1.5237467288970947,
           1.5128288269042969,
           1.337155818939209,
           0.9706847667694092,
           0.5619783997535706,
           0.47009602189064026,
           0.47003287076950073,
           0.5120024085044861,
           0.4856620728969574,
           0.30849575996398926,
           0.29393044114112854,
           0.29334211349487305,
           0.2886197865009308,
           0.25351008772850037,
           0.21153518557548523,
           0.1669766902923584,
           0.16277852654457092,
           0.1280006766319275,
           0.16998200118541718,
           0.11495310068130493,
           0.27383583784103394,
           0.42919519543647766,
           0.5807351469993591,
           0.6431050896644592,
           0.6091745495796204,
           0.518238365650177,
           0.4366128146648407,
           0.3961752951145172,
           0.3782488703727722,
           0.377609521150589,
           0.388175368309021,
           0.4530898630619049,
           0.3964208960533142,
           0.9268929362297058,
           0.8930438756942749,
           0.8575817942619324,
           0.8381367921829224,
           0.8153146505355835,
           0.7888403534889221,
           0.790235698223114,
           0.820076048374176,
           0.786005437374115,
           0.7728587985038757,
           0.9052355885505676,
           0.998700737953186,
           1.1115493774414062,
           1.1936888694763184,
           1.2579398155212402,
           1.285523772239685,
           1.1890144348144531,
           0.9416757225990295,
           0.8962951302528381,
           0.9217832684516907,
           0.922175943851471,
           0.8769934177398682,
           0.971114456653595,
           0.9902575016021729,
           0.6884798407554626,
           0.6894846558570862,
           0.6847274303436279,
           0.6443856954574585,
           0.6049131155014038,
           0.547324001789093,
           0.5034227967262268,
           0.4980454444885254,
           0.4974442720413208,
           0.4951699376106262,
           0.5429381728172302,
           0.5638106465339661,
           0.6349446773529053,
           0.7158808708190918,
           0.69476318359375,
           0.6422304511070251,
           0.5907653570175171,
           0.5470136404037476,
           0.5505061149597168,
           0.56380695104599,
           0.5705569982528687,
           0.5625271201133728,
           0.5992372632026672,
           0.6125328540802002,
           1.5617808103561401,
           1.5798940658569336,
           1.591225266456604,
           1.5918080806732178,
           1.5973516702651978,
           1.5661652088165283,
           1.4850386381149292,
           1.4326380491256714,
           1.4563781023025513,
           1.4819344282150269,
           1.5047072172164917,
           1.6374446153640747,
           1.7991732358932495,
           1.9105044603347778,
           1.9434763193130493,
           1.8403511047363281,
           1.5152604579925537,
           1.504313349723816,
           1.5623993873596191,
           1.6135413646697998,
           1.6221081018447876,
           1.6086876392364502,
           1.6023613214492798,
           1.6200438737869263,
           2.6547467708587646,
           2.6634182929992676,
           2.671463966369629,
           2.6474862098693848,
           2.657888174057007,
           2.6631555557250977,
           2.636465072631836,
           2.5869052410125732,
           2.567228317260742,
           2.624272584915161,
           2.8019659519195557,
           3.059159994125366,
           3.203827381134033,
           3.2578213214874268,
           3.254302740097046,
           3.1665635108947754,
           2.8942577838897705,
           2.6868293285369873,
           2.6423373222351074,
           2.6272177696228027,
           2.599116325378418,
           2.57916522026062,
           2.5807530879974365,
           2.60262131690979,
           1.8934427499771118,
           1.957679271697998,
           2.0384018421173096,
           2.061481237411499,
           2.0525383949279785,
           2.0235931873321533,
           1.9914880990982056,
           1.9601837396621704,
           1.995837688446045,
           2.0972867012023926,
           2.262238025665283,
           2.315484046936035,
           2.3644096851348877,
           2.4459738731384277,
           2.439926862716675,
           2.403364419937134,
           2.2707221508026123,
           1.9603427648544312,
           1.8089417219161987,
           1.8082034587860107,
           1.8208714723587036,
           1.8309173583984375,
           1.877348780632019,
           1.9094573259353638,
           2.5053300857543945,
           2.4828195571899414,
           2.4985618591308594,
           2.4686386585235596,
           2.424093723297119,
           2.3415589332580566,
           2.245842456817627,
           2.1802494525909424,
           2.204953908920288,
           2.4159834384918213,
           2.461552381515503,
           2.633068323135376,
           2.7943508625030518,
           2.9441049098968506,
           3.0862560272216797,
           3.1235740184783936,
           3.0543265342712402,
           2.840984582901001,
           2.5938148498535156,
           2.521273374557495,
           2.5762200355529785,
           2.6039671897888184,
           2.6093149185180664,
           2.592839002609253,
           0.6019989848136902,
           0.6208764910697937,
           0.616497278213501,
           0.6205203533172607,
           0.6172189712524414,
           0.6029199361801147,
           0.5982204079627991,
           0.5884358882904053,
           0.540041446685791,
           0.460383802652359,
           0.488509863615036,
           0.4807065725326538,
           0.6199214458465576,
           0.7964656949043274,
           0.9909241795539856,
           1.1002025604248047,
           1.1073211431503296,
           0.9731443524360657,
           0.7038896083831787,
           0.5824085474014282,
           0.5226086378097534,
           0.47107014060020447,
           0.4931880235671997,
           0.4984627962112427,
           1.0732438564300537,
           1.0614097118377686,
           1.011173129081726,
           0.9607902765274048,
           0.9307851791381836,
           0.8774141669273376,
           0.9222151041030884,
           0.9953481554985046,
           1.0316985845565796,
           1.0708011388778687,
           1.183351993560791,
           1.4058321714401245,
           1.5860729217529297,
           1.7427359819412231,
           1.8821264505386353,
           1.9754316806793213,
           1.9799622297286987,
           1.8859213590621948,
           1.591833472251892,
           1.2608646154403687,
           1.161117434501648,
           1.0478225946426392,
           1.0630806684494019,
           1.0376535654067993,
           0.12291493266820908,
           0.0937143862247467,
           0.1418943554162979,
           0.17513656616210938,
           0.18803934752941132,
           0.16429463028907776,
           0.16523152589797974,
           0.10410362482070923,
           0.15842998027801514,
           0.40620866417884827,
           0.5272326469421387,
           0.6530536413192749,
           0.7087349891662598,
           0.6972692012786865,
           0.6688227653503418,
           0.5963348150253296,
           0.48604556918144226,
           0.40659043192863464,
           0.3612514138221741,
           0.39972591400146484,
           0.35991737246513367,
           0.39733925461769104,
           0.37520721554756165,
           0.28140148520469666,
           0.4844997823238373,
           0.34524428844451904,
           0.23919667303562164,
           0.160032719373703,
           0.15601958334445953,
           0.18135595321655273,
           0.22418415546417236,
           0.36083757877349854,
           0.6220747232437134,
           0.9424992203712463,
           1.0477814674377441,
           1.3472530841827393,
           1.5178232192993164,
           1.5793659687042236,
           1.5379490852355957,
           1.4252281188964844,
           1.2918272018432617,
           1.2210716009140015,
           1.1974174976348877,
           1.124838948249817,
           0.9767128825187683,
           0.8875324130058289,
           0.7240419983863831,
           0.6111379265785217,
           0.5422078371047974,
           0.41358596086502075,
           0.3361812233924866,
           0.2568240761756897,
           0.22887633740901947,
           0.2553091049194336,
           0.2873407006263733,
           0.4080939292907715,
           0.5619535446166992,
           0.7027559876441956,
           0.7233988046646118,
           0.84418785572052,
           0.9201290607452393,
           0.9163047671318054,
           0.8465443253517151,
           0.7697030901908875,
           0.6998535394668579,
           0.7473559379577637,
           0.8246557712554932,
           0.8762572407722473,
           0.8484781384468079,
           0.8446877598762512,
           0.6772317886352539,
           0.6157781481742859,
           0.4875888228416443,
           0.43403974175453186,
           0.3785095512866974,
           0.34059640765190125,
           0.32027173042297363,
           0.29257556796073914,
           0.2571417987346649,
           0.21192185580730438,
           0.17404547333717346,
           0.28640294075012207,
           0.31375184655189514,
           0.4194348156452179,
           0.553142786026001,
           0.6571611762046814,
           0.695647120475769,
           0.6678475141525269,
           0.6586271524429321,
           0.7271105647087097,
           0.7460191249847412,
           0.7259355783462524,
           0.6995920538902283,
           0.6789474487304688,
           0.6429013013839722,
           0.579430878162384,
           0.42570221424102783,
           0.4677313566207886,
           0.5000719428062439,
           0.4990691542625427,
           0.4733748137950897,
           0.4256945252418518,
           0.40341097116470337,
           0.3992772400379181,
           0.316060334444046,
           0.2414909452199936,
           0.4899964928627014,
           0.6539004445075989,
           0.7980438470840454,
           0.9018113613128662,
           0.904244065284729,
           0.7907959222793579,
           0.587210476398468,
           0.28099703788757324,
           0.17287451028823853,
           0.24478504061698914,
           0.30304402112960815,
           0.27916380763053894,
           0.30985522270202637,
           0.3073563277721405,
           1.3249112367630005,
           1.3373708724975586,
           1.3472377061843872,
           1.3732377290725708,
           1.3950945138931274,
           1.4040262699127197,
           1.4166505336761475,
           1.4185227155685425,
           1.497123122215271,
           1.5641021728515625,
           1.6614741086959839,
           1.7193281650543213,
           1.786044955253601,
           1.8600456714630127,
           1.8439764976501465,
           1.7715259790420532,
           1.5887593030929565,
           1.3480536937713623,
           1.3574159145355225,
           1.3957934379577637,
           1.4015763998031616,
           1.3739045858383179,
           1.3698006868362427,
           1.388449788093567,
           0.7101647257804871,
           0.7468931078910828,
           0.781535804271698,
           0.8023367524147034,
           0.820679783821106,
           0.8006544709205627,
           0.7465177774429321,
           0.7047261595726013,
           0.7145445942878723,
           0.6468054056167603,
           0.6321431398391724,
           0.49884212017059326,
           0.4311591386795044,
           0.40147411823272705,
           0.351578027009964,
           0.30927661061286926,
           0.28847113251686096,
           0.3150883913040161,
           0.39608922600746155,
           0.48842623829841614,
           0.5538336038589478,
           0.6001560688018799,
           0.6692595481872559,
           0.7012356519699097,
           2.1889255046844482,
           2.1217331886291504,
           2.0603816509246826,
           2.0044188499450684,
           2.0016956329345703,
           1.9566162824630737,
           1.880847692489624,
           1.8427131175994873,
           1.8921270370483398,
           2.029632806777954,
           2.288316249847412,
           2.5140161514282227,
           2.7145583629608154,
           2.838115692138672,
           2.852654457092285,
           2.7680511474609375,
           2.55009126663208,
           2.298546314239502,
           2.2833642959594727,
           2.3111584186553955,
           2.291093587875366,
           2.259428024291992,
           2.2788801193237305,
           2.233761787414551,
           2.3662877082824707,
           2.380573272705078,
           2.376715898513794,
           2.339033842086792,
           2.2758750915527344,
           2.229924201965332,
           2.223585367202759,
           2.2148115634918213,
           2.310363292694092,
           2.393690347671509,
           2.6183488368988037,
           2.9131815433502197,
           3.1377782821655273,
           3.288328170776367,
           3.3439080715179443,
           3.310084104537964,
           3.136801242828369,
           2.7856743335723877,
           2.5460433959960938,
           2.5207366943359375,
           2.5178494453430176,
           2.468890428543091,
           2.434335231781006,
           2.4329025745391846,
           1.1097981929779053,
           1.1265658140182495,
           1.1373076438903809,
           1.159077763557434,
           1.1541483402252197,
           1.1276899576187134,
           1.0621674060821533,
           1.0309834480285645,
           1.0059118270874023,
           0.9442487955093384,
           0.8194257616996765,
           0.619531512260437,
           0.467597633600235,
           0.40841144323349,
           0.4959653615951538,
           0.5915855169296265,
           0.6429412364959717,
           0.6574920415878296,
           0.6676667928695679,
           0.7025543451309204,
           0.799657940864563,
           0.8738261461257935,
           0.9130351543426514,
           0.9479013681411743,
           1.2898445129394531,
           1.2960619926452637,
           1.2768081426620483,
           1.239322304725647,
           1.160523772239685,
           1.1003961563110352,
           1.0564014911651611,
           1.107013463973999,
           1.0959032773971558,
           1.0286076068878174,
           1.0462669134140015,
           1.2491708993911743,
           1.4610376358032227,
           1.6324396133422852,
           1.7850151062011719,
           1.9127002954483032,
           1.9212424755096436,
           1.8231079578399658,
           1.5463385581970215,
           1.2981581687927246,
           1.2451653480529785,
           1.2464416027069092,
           1.2755053043365479,
           1.297487735748291,
           0.19844886660575867,
           0.1208963394165039,
           0.086305171251297,
           0.08922310173511505,
           0.1024620458483696,
           0.07546526938676834,
           0.05208086594939232,
           0.07773134857416153,
           0.20673470199108124,
           0.39614221453666687,
           0.4869237542152405,
           0.6451502442359924,
           0.7554299831390381,
           0.8145736455917358,
           0.8243034482002258,
           0.8159136772155762,
           0.7578743100166321,
           0.6413466334342957,
           0.5042392015457153,
           0.4065857529640198,
           0.3829285502433777,
           0.358289510011673,
           0.31430214643478394,
           0.22882449626922607,
           0.5693473219871521,
           0.5980873703956604,
           0.6011903285980225,
           0.5709243416786194,
           0.514423668384552,
           0.4467024803161621,
           0.4555864632129669,
           0.3714553117752075,
           0.23418478667736053,
           0.06473933905363083,
           0.2463938295841217,
           0.47454214096069336,
           0.6322194933891296,
           0.7590657472610474,
           0.8532854914665222,
           0.9255489110946655,
           0.9366757869720459,
           0.919373095035553,
           0.7972980737686157,
           0.6385420560836792,
           0.6161066889762878,
           0.6520987749099731,
           0.672336220741272,
           0.6730055809020996,
           0.4551761746406555,
           0.46629592776298523,
           0.45302969217300415,
           0.42760998010635376,
           0.39189356565475464,
           0.3301760256290436,
           0.2898034453392029,
           0.2213369458913803,
           0.24154534935951233,
           0.40283912420272827,
           0.5800508260726929,
           0.78556889295578,
           0.9982571601867676,
           1.1797497272491455,
           1.303727626800537,
           1.3787789344787598,
           1.3949795961380005,
           1.3002920150756836,
           1.134663462638855,
           0.7459090352058411,
           0.5626264214515686,
           0.4764394164085388,
           0.4394384026527405,
           0.4272944927215576,
           0.7222537398338318,
           0.699479877948761,
           0.6517753601074219,
           0.5638185143470764,
           0.4786267876625061,
           0.3660967946052551,
           0.2688606381416321,
           0.20466157793998718,
           0.1695568859577179,
           0.29909470677375793,
           0.5598279237747192,
           0.7614110708236694,
           1.0039559602737427,
           1.1866579055786133,
           1.3226107358932495,
           1.3758912086486816,
           1.369081735610962,
           1.2614452838897705,
           1.0810610055923462,
           0.7216880321502686,
           0.6362653970718384,
           0.6255821585655212,
           0.6553866267204285,
           0.641681432723999,
           0.744694709777832,
           0.717225968837738,
           0.6914207339286804,
           0.659392774105072,
           0.6015902757644653,
           0.5438145995140076,
           0.49587324261665344,
           0.47406935691833496,
           0.3820585608482361,
           0.3137758672237396,
           0.3986022174358368,
           0.784649670124054,
           1.1915256977081299,
           1.4471487998962402,
           1.6048461198806763,
           1.6715525388717651,
           1.6129796504974365,
           1.4033591747283936,
           0.9605405330657959,
           0.6821225881576538,
           0.6280770301818848,
           0.6353673934936523,
           0.6626071333885193,
           0.6547185182571411,
           0.22694046795368195,
           0.23805230855941772,
           0.27837249636650085,
           0.2919413447380066,
           0.2854878902435303,
           0.24451777338981628,
           0.22395551204681396,
           0.2250351458787918,
           0.14129212498664856,
           0.18094602227210999,
           0.28195086121559143,
           0.513558566570282,
           0.704079270362854,
           0.7898517847061157,
           0.7985959053039551,
           0.719814121723175,
           0.6046485304832458,
           0.42505910992622375,
           0.32214659452438354,
           0.2487688809633255,
           0.20859497785568237,
           0.20409442484378815,
           0.292316198348999,
           0.2867913544178009,
           1.079980731010437,
           1.0890394449234009,
           1.0871940851211548,
           1.088054895401001,
           1.0630652904510498,
           1.0160900354385376,
           0.9811444878578186,
           0.9913968443870544,
           1.0516384840011597,
           1.1315670013427734,
           1.1921846866607666,
           1.3404629230499268,
           1.529155969619751,
           1.6497077941894531,
           1.6608400344848633,
           1.6306219100952148,
           1.4618456363677979,
           1.1753802299499512,
           1.138971209526062,
           1.174552321434021,
           1.1897600889205933,
           1.1835269927978516,
           1.1758610010147095,
           1.1720576286315918,
           1.2549700736999512,
           1.3335438966751099,
           1.3867425918579102,
           1.4030125141143799,
           1.4352011680603027,
           1.4268364906311035,
           1.3923395872116089,
           1.3555095195770264,
           1.3941251039505005,
           1.4462910890579224,
           1.5232290029525757,
           1.5569645166397095,
           1.5520665645599365,
           1.5429348945617676,
           1.4770405292510986,
           1.3490653038024902,
           1.0697627067565918,
           0.9966410994529724,
           1.0172805786132812,
           1.045530915260315,
           1.0748801231384277,
           1.0725480318069458,
           1.1254433393478394,
           1.1724408864974976,
           1.4574511051177979,
           1.4519675970077515,
           1.4694198369979858,
           1.46295166015625,
           1.4816685914993286,
           1.4942744970321655,
           1.4954980611801147,
           1.4786465167999268,
           1.5169936418533325,
           1.541650652885437,
           1.6481752395629883,
           1.717355728149414,
           1.7632865905761719,
           1.8125771284103394,
           1.7996246814727783,
           1.7632449865341187,
           1.6201863288879395,
           1.4293862581253052,
           1.4392460584640503,
           1.4925612211227417,
           1.5350209474563599,
           1.5355011224746704,
           1.5279316902160645,
           1.5552386045455933,
           1.897106647491455,
           1.8956042528152466,
           1.877234697341919,
           1.875714898109436,
           1.8832930326461792,
           1.9025520086288452,
           1.8897069692611694,
           1.889904260635376,
           1.9232769012451172,
           2.0371341705322266,
           2.12876558303833,
           2.1574418544769287,
           2.15934419631958,
           2.152695655822754,
           2.197986364364624,
           2.197225570678711,
           2.1175296306610107,
           1.818919062614441,
           1.5972789525985718,
           1.6113508939743042,
           1.6706897020339966,
           1.7069343328475952,
           1.6776612997055054,
           1.742881178855896,
           0.5321030616760254,
           0.576450765132904,
           0.6002801060676575,
           0.6304781436920166,
           0.6664384007453918,
           0.6969356536865234,
           0.7038102746009827,
           0.7183300256729126,
           0.7323460578918457,
           0.8011052012443542,
           0.8660353422164917,
           0.825557291507721,
           0.7397252321243286,
           0.6688076853752136,
           0.6531955599784851,
           0.6806282997131348,
           0.7179135084152222,
           0.6481855511665344,
           0.5109952688217163,
           0.46788570284843445,
           0.4710995554924011,
           0.44747719168663025,
           0.42043980956077576,
           0.46636003255844116,
           0.43766021728515625,
           0.4495764672756195,
           0.4604542553424835,
           0.45063307881355286,
           0.45647263526916504,
           0.4695993959903717,
           0.5044249296188354,
           0.6136955618858337,
           0.8009894490242004,
           0.9609919786453247,
           1.020424723625183,
           1.1617522239685059,
           1.2232561111450195,
           1.1783943176269531,
           1.0753644704818726,
           0.9735668301582336,
           0.8787204027175903,
           0.7900856137275696,
           0.7247843742370605,
           0.6544259190559387,
           0.5425498485565186,
           0.4473355710506439,
           0.44170019030570984,
           0.4115249812602997,
           0.08304721117019653,
           0.04706164821982384,
           0.13226233422756195,
           0.2027287781238556,
           0.2492600977420807,
           0.2546098530292511,
           0.30883336067199707,
           0.3231699764728546,
           0.35834959149360657,
           0.43963754177093506,
           0.5089926719665527,
           0.560433566570282,
           0.5941056609153748,
           0.605103075504303,
           0.5612345337867737,
           0.4881695508956909,
           0.39980965852737427,
           0.33084750175476074,
           0.3377893567085266,
           0.35666897892951965,
           0.3039354681968689,
           0.3012770414352417,
           0.22824567556381226,
           0.1776520311832428,
           0.2714698314666748,
           0.1658911257982254,
           0.11721520125865936,
           0.07807464152574539,
           0.06925063580274582,
           0.09333126246929169,
           0.16111133992671967,
           0.1730375587940216,
           0.24021992087364197,
           0.5246111750602722,
           0.7439593076705933,
           0.9978538155555725,
           1.125608205795288,
           1.1574112176895142,
           1.1364163160324097,
           1.0843602418899536,
           0.9775866270065308,
           0.95490562915802,
           0.9645534753799438,
           0.8689257502555847,
           0.7113186717033386,
           0.6313382387161255,
           0.45886296033859253,
           0.31374818086624146,
           0.49345025420188904,
           0.400400847196579,
           0.32102546095848083,
           0.25363782048225403,
           0.19804087281227112,
           0.16083362698554993,
           0.08969491720199585,
           0.04336340352892876,
           0.18989324569702148,
           0.37376025319099426,
           0.5924291014671326,
           0.8518723845481873,
           1.1301655769348145,
           1.3477580547332764,
           1.4382648468017578,
           1.4213110208511353,
           1.3458352088928223,
           1.2458523511886597,
           1.0852538347244263,
           0.8565630316734314,
           0.7494266033172607,
           0.6912642121315002,
           0.5336186289787292,
           0.539289116859436,
           0.4589218497276306,
           0.42368483543395996,
           0.404340922832489,
           0.3538966476917267,
           0.305976927280426,
           0.26535943150520325,
           0.20362667739391327,
           0.19740039110183716,
           0.14198318123817444,
           0.2152409851551056,
           0.3892947733402252,
           0.6593906879425049,
           0.9032800197601318,
           1.0696489810943604,
           1.179914951324463,
           1.1846365928649902,
           1.0515844821929932,
           0.8378652930259705,
           0.6652758717536926,
           0.5327435731887817,
           0.5712299346923828,
           0.5983440279960632,
           0.5009473562240601,
           0.48924028873443604,
           0.392100065946579,
           0.4049033522605896,
           0.41086724400520325,
           0.3952440321445465,
           0.38335201144218445,
           0.3847540318965912,
           0.37011778354644775,
           0.3722771406173706,
           0.32183077931404114,
           0.3388849198818207,
           0.44610267877578735,
           0.6162968277931213,
           0.7416567206382751,
           0.7569000124931335,
           0.7370869517326355,
           0.706261396408081,
           0.6257151365280151,
           0.4642294943332672,
           0.34815818071365356,
           0.3402772843837738,
           0.3429069221019745,
           0.3692514896392822,
           0.33860352635383606,
           0.3693576753139496,
           0.41642749309539795,
           0.3715129792690277,
           0.3470916152000427,
           0.3739139437675476,
           0.34798943996429443,
           0.315087229013443,
           0.27623802423477173,
           0.2730800211429596,
           0.24719946086406708,
           0.39611566066741943,
           0.6590772271156311,
           0.8905903697013855,
           1.1049095392227173,
           1.1983572244644165,
           1.156053900718689,
           1.0342267751693726,
           0.890373706817627,
           0.6137286424636841,
           0.3745507597923279,
           0.30011406540870667,
           0.3077450692653656,
           0.31602686643600464,
           0.346364289522171,
           0.33933645486831665,
           0.41734787821769714,
           0.4233483374118805,
           0.4502989649772644,
           0.4485188126564026,
           0.49435117840766907,
           0.5092751383781433,
           0.51579350233078,
           0.5126710534095764,
           0.5299345254898071,
           0.4768119156360626,
           0.5114055871963501,
           0.481645405292511,
           0.47316548228263855,
           0.4895590543746948,
           0.4886135756969452,
           0.49131789803504944,
           0.38705891370773315,
           0.3661307394504547,
           0.3780015707015991,
           0.3877737522125244,
           0.4109462797641754,
           0.4064817428588867,
           0.39114052057266235,
           0.4243723750114441,
           0.12248072773218155,
           0.10785277932882309,
           0.1039370596408844,
           0.11110690236091614,
           0.07905548810958862,
           0.07639553397893906,
           0.10918494313955307,
           0.1217852234840393,
           0.12142924964427948,
           0.18780629336833954,
           0.324922651052475,
           0.359026700258255,
           0.40288132429122925,
           0.37104639410972595,
           0.3596020042896271,
           0.4046745300292969,
           0.44454699754714966,
           0.41867759823799133,
           0.3229473829269409,
           0.2666792571544647,
           0.24025915563106537,
           0.23044487833976746,
           0.1859796941280365,
           0.16409267485141754,
           1.907798409461975,
           1.8326563835144043,
           1.767470359802246,
           1.6996804475784302,
           1.6840764284133911,
           1.6850413084030151,
           1.667518138885498,
           1.6614395380020142,
           1.6781827211380005,
           1.7018107175827026,
           1.748169183731079,
           2.0917155742645264,
           2.3115649223327637,
           2.437565326690674,
           2.411831855773926,
           2.30183482170105,
           1.9852977991104126,
           1.764256477355957,
           1.730353832244873,
           1.7454371452331543,
           1.7635266780853271,
           1.7642639875411987,
           1.8161613941192627,
           1.89555025100708,
           2.2928426265716553,
           2.3067052364349365,
           2.3075666427612305,
           2.320523977279663,
           2.2949159145355225,
           2.282165050506592,
           2.2535641193389893,
           2.2509679794311523,
           2.2072789669036865,
           2.3329453468322754,
           2.4244461059570312,
           2.5865466594696045,
           2.6658527851104736,
           2.686274766921997,
           2.650378465652466,
           2.5865986347198486,
           2.4353833198547363,
           2.229672431945801,
           2.072258949279785,
           2.0773990154266357,
           2.1074090003967285,
           2.166283369064331,
           2.154604434967041,
           2.2632830142974854,
           1.5243589878082275,
           1.512171983718872,
           1.5076156854629517,
           1.5089325904846191,
           1.506446361541748,
           1.4907472133636475,
           1.4665868282318115,
           1.4994432926177979,
           1.594292163848877,
           1.76316237449646,
           1.7520006895065308,
           1.9766947031021118,
           2.1131558418273926,
           2.1817362308502197,
           2.233949899673462,
           2.235633373260498,
           2.1933839321136475,
           2.0101592540740967,
           1.6379804611206055,
           1.607007384300232,
           1.6257842779159546,
           1.603746771812439,
           1.6235735416412354,
           1.5747286081314087,
           0.9607213139533997,
           0.9639227986335754,
           0.9376965761184692,
           0.9021450281143188,
           0.8614556789398193,
           0.7570667862892151,
           0.6712578535079956,
           0.6437438726425171,
           0.6221053600311279,
           0.6916910409927368,
           0.8579950332641602,
           1.1458935737609863,
           1.4067810773849487,
           1.5672340393066406,
           1.660309076309204,
           1.6742653846740723,
           1.6177383661270142,
           1.4871968030929565,
           1.1379951238632202,
           0.9269518852233887,
           0.8817675113677979,
           0.8400691151618958,
           0.8845112919807434,
           0.8596482276916504,
           0.5700973868370056,
           0.5984801054000854,
           0.5738374590873718,
           0.5473611950874329,
           0.5245020389556885,
           0.48267877101898193,
           0.46468037366867065,
           0.3991246223449707,
           0.36151978373527527,
           0.4302253723144531,
           0.5954073071479797,
           0.9287421703338623,
           1.1373653411865234,
           1.2582077980041504,
           1.3284201622009277,
           1.3335381746292114,
           1.2996240854263306,
           1.2153750658035278,
           0.9901841282844543,
           0.7262669205665588,
           0.6429751515388489,
           0.5847371220588684,
           0.6089169979095459,
           0.5725656747817993,
           0.3898847997188568,
           0.4340032637119293,
           0.47777700424194336,
           0.5121461749076843,
           0.5133964419364929,
           0.454304575920105,
           0.4440041184425354,
           0.3259267210960388,
           0.12913809716701508,
           0.1300944685935974,
           0.2964107394218445,
           0.5415821075439453,
           0.7369101643562317,
           0.8471393585205078,
           0.9112803339958191,
           0.9345882534980774,
           0.900424063205719,
           0.8498256802558899,
           0.7232627868652344,
           0.46676456928253174,
           0.36185961961746216,
           0.32702961564064026,
           0.40068331360816956,
           0.4072294533252716,
           0.62081378698349,
           0.4777979254722595,
           0.36830660700798035,
           0.33104363083839417,
           0.3438168168067932,
           0.4029660224914551,
           0.4929947257041931,
           0.6572021245956421,
           0.8644284605979919,
           1.0571222305297852,
           1.0406858921051025,
           1.1606968641281128,
           1.1864522695541382,
           1.2070876359939575,
           1.1842350959777832,
           1.12124764919281,
           1.0147875547409058,
           1.0106534957885742,
           1.0031877756118774,
           1.0556282997131348,
           0.9994117021560669,
           0.9423558712005615,
           0.7838546633720398,
           0.7170807719230652,
           0.4259752333164215,
           0.36936986446380615,
           0.3680242896080017,
           0.40301114320755005,
           0.4419292211532593,
           0.5098578333854675,
           0.5795910358428955,
           0.7521805167198181,
           1.0433324575424194,
           1.24466073513031,
           1.227751612663269,
           1.224960207939148,
           1.194512128829956,
           1.1760653257369995,
           1.1446495056152344,
           1.1152751445770264,
           1.095375657081604,
           1.1682525873184204,
           1.2527865171432495,
           1.2415958642959595,
           1.1398261785507202,
           1.0006515979766846,
           0.7007868885993958,
           0.5866519212722778,
           0.14547166228294373,
           0.09650762379169464,
           0.09805639088153839,
           0.164317786693573,
           0.19659726321697235,
           0.21121473610401154,
           0.20292307436466217,
           0.2301359474658966,
           0.30603164434432983,
           0.41596195101737976,
           0.31766122579574585,
           0.3204954266548157,
           0.342139333486557,
           0.3608752489089966,
           0.3442777097225189,
           0.28997984528541565,
           0.18255726993083954,
           0.03983249515295029,
           0.20282359421253204,
           0.26569485664367676,
           0.2550504803657532,
           0.27427008748054504,
           0.1714463084936142,
           0.12948329746723175,
           0.40635478496551514,
           0.35339006781578064,
           0.28283384442329407,
           0.23977452516555786,
           0.20425118505954742,
           0.17949382960796356,
           0.15439362823963165,
           0.13445286452770233,
           0.1650543510913849,
           0.309770405292511,
           0.5537894368171692,
           0.7922856211662292,
           0.90553879737854,
           0.9297499060630798,
           0.892195999622345,
           0.8004635572433472,
           0.6678926944732666,
           0.45482826232910156,
           0.42857521772384644,
           0.3897854685783386,
           0.3849714398384094,
           0.4213472306728363,
           0.5147168636322021,
           0.4556187093257904,
           0.7031360268592834,
           0.6656543016433716,
           0.6595756411552429,
           0.675952136516571,
           0.668653666973114,
           0.6482968926429749,
           0.6222078204154968,
           0.5949970483779907,
           0.6072425246238708,
           0.5714916586875916,
           0.6783689260482788,
           0.6990048885345459,
           0.7281900644302368,
           0.787722110748291,
           0.7854940295219421,
           0.6914350986480713,
           0.5417107939720154,
           0.4066997766494751,
           0.4370526373386383,
           0.4722740352153778,
           0.493650883436203,
           0.4829409420490265,
           0.6560401320457458,
           0.6289154887199402,
           0.9588639140129089,
           0.963466465473175,
           0.9697765111923218,
           0.9768187403678894,
           0.9597545862197876,
           0.953283965587616,
           0.9550848603248596,
           0.9520129561424255,
           0.9624521136283875,
           1.0330562591552734,
           0.9303538203239441,
           0.9732995629310608,
           1.0495554208755493,
           1.1137951612472534,
           1.2153874635696411,
           1.3351635932922363,
           1.3376251459121704,
           1.3528168201446533,
           1.3307442665100098,
           1.2606754302978516,
           1.1915507316589355,
           1.1241486072540283,
           0.9412444233894348,
           0.8497802019119263,
           1.2382270097732544,
           1.2561919689178467,
           1.2922114133834839,
           1.2791591882705688,
           1.314620852470398,
           1.3251699209213257,
           1.3317835330963135,
           1.315786600112915,
           1.3267662525177002,
           1.3341131210327148,
           1.361477017402649,
           1.4644840955734253,
           1.538455605506897,
           1.6258686780929565,
           1.6358082294464111,
           1.5499531030654907,
           1.3289798498153687,
           1.1060349941253662,
           1.0742292404174805,
           1.0906399488449097,
           1.118965983390808,
           1.1107453107833862,
           1.148241400718689,
           1.1979912519454956,
           0.6161636114120483,
           0.6198967099189758,
           0.6312010288238525,
           0.6014259457588196,
           0.5875677466392517,
           0.5788626670837402,
           0.5980736613273621,
           0.625654399394989,
           0.6447170376777649,
           0.5681713819503784,
           0.6087932586669922,
           0.6378185153007507,
           0.6434759497642517,
           0.6604818105697632,
           0.6105228066444397,
           0.5335453748703003,
           0.4293068051338196,
           0.3450181484222412,
           0.3997621536254883,
           0.45266175270080566,
           0.5149731040000916,
           0.5624158382415771,
           0.6874831318855286,
           0.6657113432884216,
           0.7405520677566528,
           0.6989867687225342,
           0.69309002161026,
           0.7081282138824463,
           0.7248957753181458,
           0.7007398009300232,
           0.6447346210479736,
           0.5999792814254761,
           0.5115026235580444,
           0.31627628207206726,
           0.11281902343034744,
           0.23512540757656097,
           0.4365341067314148,
           0.5610285997390747,
           0.5800488591194153,
           0.5723098516464233,
           0.5504925847053528,
           0.5178604125976562,
           0.4388502240180969,
           0.4912659823894501,
           0.5811070799827576,
           0.6599527597427368,
           0.7794605493545532,
           0.7967768907546997,
           0.4251033663749695,
           0.4687255918979645,
           0.4877992272377014,
           0.4774647057056427,
           0.46450328826904297,
           0.4527726471424103,
           0.45770660042762756,
           0.5343686938285828,
           0.6908977031707764,
           0.866337776184082,
           0.8765454292297363,
           0.9303554892539978,
           0.9267409443855286,
           0.9635602831840515,
           0.9287453293800354,
           0.8484042286872864,
           0.8461624383926392,
           0.9056153297424316,
           0.9584301710128784,
           0.851329505443573,
           0.7290134429931641,
           0.6169195175170898,
           0.4979037344455719,
           0.41607266664505005,
           0.12156151235103607,
           0.053830526769161224,
           0.019322426989674568,
           0.0350000225007534,
           0.06246067211031914,
           0.10140714049339294,
           0.15628942847251892,
           0.21819086372852325,
           0.4473438858985901,
           0.6922038197517395,
           0.9191524982452393,
           1.1001862287521362,
           1.180737853050232,
           1.19536292552948,
           1.1347033977508545,
           1.04861319065094,
           0.8916376829147339,
           0.7471051812171936,
           0.6244581937789917,
           0.5119485259056091,
           0.3903898596763611,
           0.328953355550766,
           0.31436431407928467,
           0.2920062839984894,
           0.09159659594297409,
           0.16518405079841614,
           0.1987045854330063,
           0.24674969911575317,
           0.2947239875793457,
           0.2649441361427307,
           0.2662745714187622,
           0.2405512034893036,
           0.14971120655536652,
           0.2435043305158615,
           0.3591322898864746,
           0.5061531066894531,
           0.6338115334510803,
           0.7517477869987488,
           0.7596234083175659,
           0.7307270169258118,
           0.6511473059654236,
           0.6025947332382202,
           0.5254662036895752,
           0.45508208870887756,
           0.3603648245334625,
           0.27481549978256226,
           0.09824450314044952,
           0.08214730024337769,
           0.24146683514118195,
           0.13668519258499146,
           0.0856226235628128,
           0.059897251427173615,
           0.03783540800213814,
           0.03036121279001236,
           0.1273338794708252,
           0.25681188702583313,
           0.4381472170352936,
           0.6583101153373718,
           0.7714629769325256,
           0.911858081817627,
           1.0241968631744385,
           1.0793414115905762,
           1.0494332313537598,
           1.010827898979187,
           0.9221414923667908,
           0.7805914878845215,
           0.5865050554275513,
           0.5230250358581543,
           0.4612189829349518,
           0.39112600684165955,
           0.2779299318790436,
           0.29628682136535645,
           0.5729060769081116,
           0.442490816116333,
           0.34142154455184937,
           0.24623224139213562,
           0.21079808473587036,
           0.25489091873168945,
           0.31589236855506897,
           0.45652735233306885,
           0.587285578250885,
           0.726688802242279,
           0.678670346736908,
           0.7912015914916992,
           0.8490834832191467,
           0.8942734003067017,
           0.8926079869270325,
           0.8464184999465942,
           0.7938979268074036,
           0.8510239124298096,
           0.9133636355400085,
           1.0108140707015991,
           0.9970719814300537,
           0.9919049739837646,
           0.8058221340179443,
           0.7483313083648682,
           0.15380889177322388,
           0.08282214403152466,
           0.012009162455797195,
           0.0323435515165329,
           0.05705634877085686,
           0.076584592461586,
           0.0975416824221611,
           0.12488821893930435,
           0.09219883382320404,
           0.11773930490016937,
           0.4013737440109253,
           0.5483527183532715,
           0.63458651304245,
           0.6444925665855408,
           0.6400114893913269,
           0.6006777286529541,
           0.520612895488739,
           0.34126660227775574,
           0.12695056200027466,
           0.13262704014778137,
           0.11903577297925949,
           0.1882728934288025,
           0.10232014954090118,
           0.13521860539913177,
           0.29753103852272034,
           0.28806596994400024,
           0.25441741943359375,
           0.244130477309227,
           0.24495556950569153,
           0.24660606682300568,
           0.25190359354019165,
           0.28683599829673767,
           0.4029640257358551,
           0.5392566323280334,
           0.5086462497711182,
           0.5055876970291138,
           0.48844441771507263,
           0.4852864742279053,
           0.4845775067806244,
           0.5184729099273682,
           0.5452534556388855,
           0.5692295432090759,
           0.5047430992126465,
           0.4513072669506073,
           0.4357995390892029,
           0.4165695905685425,
           0.3404080867767334,
           0.3235374689102173,
           0.5488966107368469,
           0.5749255418777466,
           0.6163317561149597,
           0.634056031703949,
           0.6594874858856201,
           0.6568573713302612,
           0.6632413268089294,
           0.6557102203369141,
           0.6902157664299011,
           0.7160671353340149,
           0.7906380295753479,
           0.8513753414154053,
           0.8972949385643005,
           0.9026374220848083,
           0.8510375022888184,
           0.7603966593742371,
           0.5630046129226685,
           0.40592601895332336,
           0.3856845796108246,
           0.4145631790161133,
           0.4469776153564453,
           0.458059698343277,
           0.5138109922409058,
           0.5817389488220215,
           1.5577806234359741,
           1.5412113666534424,
           1.5371434688568115,
           1.5053799152374268,
           1.5125268697738647,
           1.5331064462661743,
           1.5419447422027588,
           1.562688946723938,
           1.6391541957855225,
           1.681896686553955,
           1.646795392036438,
           1.8454124927520752,
           1.967869520187378,
           2.0530636310577393,
           2.036970376968384,
           1.918529748916626,
           1.656374216079712,
           1.5634769201278687,
           1.53395414352417,
           1.541676640510559,
           1.544914960861206,
           1.5736360549926758,
           1.5473610162734985,
           1.6277369260787964,
           1.339079737663269,
           1.2728300094604492,
           1.2472714185714722,
           1.167405366897583,
           1.1295830011367798,
           1.0977116823196411,
           1.0503870248794556,
           0.9961913228034973,
           0.9784786105155945,
           1.0147656202316284,
           1.015444040298462,
           1.1259535551071167,
           1.1818296909332275,
           1.2137795686721802,
           1.198983073234558,
           1.1644904613494873,
           0.9921167492866516,
           0.9599911570549011,
           1.0204033851623535,
           1.0950511693954468,
           1.1875303983688354,
           1.2256267070770264,
           1.1994056701660156,
           1.2364811897277832,
           1.085936188697815,
           1.077528715133667,
           1.0886270999908447,
           1.11312997341156,
           1.152611494064331,
           1.198906660079956,
           1.2375719547271729,
           1.2320706844329834,
           1.3383952379226685,
           1.3760496377944946,
           1.5886236429214478,
           1.8030487298965454,
           1.890834927558899,
           1.9068620204925537,
           1.909816861152649,
           1.8451591730117798,
           1.698179841041565,
           1.3474851846694946,
           1.2532565593719482,
           1.2740565538406372,
           1.2708379030227661,
           1.203708529472351,
           1.1369452476501465,
           1.1121342182159424,
           3.167804718017578,
           3.1557085514068604,
           3.135103464126587,
           3.1271159648895264,
           3.086679220199585,
           3.0264580249786377,
           2.923638343811035,
           2.8625166416168213,
           2.966909646987915,
           3.2216272354125977,
           3.4559106826782227,
           3.6504244804382324,
           3.8140904903411865,
           3.9057111740112305,
           4.018373012542725,
           4.143424987792969,
           4.110487937927246,
           3.883087396621704,
           3.5227625370025635,
           3.362102508544922,
           3.275336265563965,
           3.2012007236480713,
           3.262485980987549,
           3.177304983139038,
           0.8882337808609009,
           0.9063751697540283,
           0.915664553642273,
           0.9055117964744568,
           0.8929812908172607,
           0.8576615452766418,
           0.8496344089508057,
           0.8279300332069397,
           0.7729185819625854,
           0.6089650988578796,
           0.4891444742679596,
           0.6641660928726196,
           0.8348197937011719,
           0.8988491296768188,
           0.9601834416389465,
           0.9135704636573792,
           0.7945830821990967,
           0.648267388343811,
           0.5400273203849792,
           0.47719478607177734,
           0.5107023119926453,
           0.5874187350273132,
           0.7111274003982544,
           0.8058174848556519,
           0.3869323432445526,
           0.44945356249809265,
           0.47991228103637695,
           0.4929043650627136,
           0.4805287718772888,
           0.4497056305408478,
           0.48927178978919983,
           0.44475898146629333,
           0.430237352848053,
           0.4519908130168915,
           0.4067837595939636,
           0.3994680941104889,
           0.4121052026748657,
           0.41307055950164795,
           0.3631528913974762,
           0.34201765060424805,
           0.32259783148765564,
           0.2769680619239807,
           0.27567824721336365,
           0.25261685252189636,
           0.26031166315078735,
           0.2343074232339859,
           0.25323036313056946,
           0.302372545003891,
           0.2603268027305603,
           0.2575455605983734,
           0.26176032423973083,
           0.26757118105888367,
           0.29488223791122437,
           0.29578670859336853,
           0.32646986842155457,
           0.2094118297100067,
           0.06284603476524353,
           0.2101140171289444,
           0.42239949107170105,
           0.6097698211669922,
           0.7070154547691345,
           0.7526513338088989,
           0.7281274795532227,
           0.6635442972183228,
           0.5522434711456299,
           0.43630450963974,
           0.3115985691547394,
           0.3048234283924103,
           0.28612032532691956,
           0.25654804706573486,
           0.31195226311683655,
           0.2687007188796997,
           0.9029887914657593,
           0.9093514084815979,
           0.854999840259552,
           0.7804659605026245,
           0.7103689908981323,
           0.6165100932121277,
           0.5597259402275085,
           0.45292893052101135,
           0.3588942289352417,
           0.4524081349372864,
           0.5926471948623657,
           0.9592040181159973,
           1.3115508556365967,
           1.5417273044586182,
           1.6786102056503296,
           1.7445929050445557,
           1.7544922828674316,
           1.6635404825210571,
           1.4938443899154663,
           1.0793592929840088,
           0.9307148456573486,
           0.8987359404563904,
           0.8171018958091736,
           0.815946102142334,
           0.6770632266998291,
           0.555950403213501,
           0.49751943349838257,
           0.4504883289337158,
           0.39809080958366394,
           0.38628682494163513,
           0.3972548544406891,
           0.5043415427207947,
           0.667526364326477,
           0.8479005694389343,
           0.7976624965667725,
           1.0428956747055054,
           1.1013665199279785,
           1.118618130683899,
           1.0707156658172607,
           1.0114010572433472,
           0.9953938126564026,
           1.171106219291687,
           1.294533133506775,
           1.2596269845962524,
           1.1750388145446777,
           1.107622742652893,
           0.883293092250824,
           0.7927138805389404,
           0.5935558676719666,
           0.5279979109764099,
           0.48670828342437744,
           0.4719851315021515,
           0.4722907841205597,
           0.4876536428928375,
           0.4948814809322357,
           0.5645586252212524,
           0.7150172591209412,
           0.9419297575950623,
           0.9259119629859924,
           1.1510913372039795,
           1.2497509717941284,
           1.2926243543624878,
           1.227593183517456,
           1.1792982816696167,
           1.1871815919876099,
           1.1912307739257812,
           1.0676172971725464,
           0.9955406785011292,
           0.9005294442176819,
           0.8058004975318909,
           0.6116667985916138,
           0.5525428652763367,
           0.2778613567352295,
           0.3021731674671173,
           0.3121289014816284,
           0.31382980942726135,
           0.29373899102211,
           0.28544819355010986,
           0.27379104495048523,
           0.22816132009029388,
           0.12574490904808044,
           0.08954367786645889,
           0.27887266874313354,
           0.2751252055168152,
           0.3412282168865204,
           0.3921597898006439,
           0.41473448276519775,
           0.36981600522994995,
           0.24925796687602997,
           0.13665443658828735,
           0.09716536849737167,
           0.08388961851596832,
           0.12516199052333832,
           0.12564539909362793,
           0.19251687824726105,
           0.22123071551322937,
           0.9137912392616272,
           0.9696423411369324,
           0.9916746020317078,
           0.9924384355545044,
           1.0223674774169922,
           1.0260372161865234,
           1.0129916667938232,
           0.9788451790809631,
           0.9902138710021973,
           0.9886012077331543,
           1.1108720302581787,
           1.2147144079208374,
           1.285922646522522,
           1.2838314771652222,
           1.2204034328460693,
           1.0666128396987915,
           0.8345456719398499,
           0.7251320481300354,
           0.7519484758377075,
           0.8023266792297363,
           0.8371402025222778,
           0.8595216274261475,
           0.9270845651626587,
           0.9120545983314514,
           0.8277255892753601,
           0.8359905481338501,
           0.8284603357315063,
           0.8076395392417908,
           0.7950665950775146,
           0.7726531028747559,
           0.7430609464645386,
           0.6829599738121033,
           0.6630597114562988,
           0.6576350331306458,
           0.7017984986305237,
           0.7722716927528381,
           0.8126430511474609,
           0.8686509728431702,
           0.8734108805656433,
           0.7947881817817688,
           0.6427737474441528,
           0.7127470374107361,
           0.7738065123558044,
           0.7694607377052307,
           0.757797122001648,
           0.7490273118019104,
           0.756506621837616,
           0.794963538646698,
           1.544373631477356,
           1.5601253509521484,
           1.6193106174468994,
           1.612322449684143,
           1.6212211847305298,
           1.6366900205612183,
           1.6037644147872925,
           1.5665016174316406,
           1.5978986024856567,
           1.6715167760849,
           1.7596176862716675,
           1.9376518726348877,
           2.033928632736206,
           2.145242214202881,
           2.186246395111084,
           2.12367582321167,
           1.91475510597229,
           1.7816150188446045,
           1.7705152034759521,
           1.764320731163025,
           1.7187634706497192,
           1.6711045503616333,
           1.6412748098373413,
           1.6700217723846436,
           0.43091779947280884,
           0.4709645211696625,
           0.5353384017944336,
           0.5519793033599854,
           0.5478319525718689,
           0.5284218192100525,
           0.5058624744415283,
           0.519719660282135,
           0.5105137228965759,
           0.47646307945251465,
           0.47015485167503357,
           0.30297306180000305,
           0.21919435262680054,
           0.19833996891975403,
           0.208978533744812,
           0.24290628731250763,
           0.2786800265312195,
           0.2905789613723755,
           0.07104918360710144,
           0.06801098585128784,
           0.16344580054283142,
           0.2194809764623642,
           0.29120224714279175,
           0.31443122029304504,
           0.2623288333415985,
           0.3186240792274475,
           0.40446701645851135,
           0.4773657023906708,
           0.5253592729568481,
           0.5457512736320496,
           0.560893714427948,
           0.6068393588066101,
           0.7351413369178772,
           1.0064371824264526,
           1.0547730922698975,
           1.0869629383087158,
           1.044758677482605,
           0.9921296238899231,
           0.9215531349182129,
           0.9149262309074402,
           0.8825909495353699,
           0.909355640411377,
           0.826317548751831,
           0.6126213073730469,
           0.47653207182884216,
           0.3730386793613434,
           0.30166831612586975,
           0.28428786993026733,
           1.2303613424301147,
           1.2855664491653442,
           1.283177375793457,
           1.2463593482971191,
           1.1930019855499268,
           1.1286284923553467,
           1.051124095916748,
           1.0246095657348633,
           1.060194492340088,
           1.139312505722046,
           1.2482054233551025,
           1.422800898551941,
           1.5442800521850586,
           1.5908786058425903,
           1.6904045343399048,
           1.7752248048782349,
           1.7531999349594116,
           1.6278197765350342,
           1.3158555030822754,
           1.1777068376541138,
           1.156303882598877,
           1.1453064680099487,
           1.2047462463378906,
           1.1935029029846191,
           0.12741775810718536,
           0.2441117912530899,
           0.3424113392829895,
           0.38250797986984253,
           0.4077643156051636,
           0.41662144660949707,
           0.44946911931037903,
           0.42094942927360535,
           0.37214693427085876,
           0.33920761942863464,
           0.5429317355155945,
           0.6324661374092102,
           0.6695770621299744,
           0.688083291053772,
           0.7580549716949463,
           0.8049975037574768,
           0.8073959350585938,
           0.7059201002120972,
           0.4470565617084503,
           0.17841966450214386,
           0.0921078771352768,
           0.07606138288974762,
           0.08635911345481873,
           0.09012921154499054,
           0.30450230836868286,
           0.2999039888381958,
           0.34179943799972534,
           0.3565857410430908,
           0.36177611351013184,
           0.3041750490665436,
           0.3070754110813141,
           0.22136391699314117,
           0.0736655741930008,
           0.3776456415653229,
           0.7000235915184021,
           0.9356298446655273,
           1.1041499376296997,
           1.2267965078353882,
           1.2873566150665283,
           1.2697700262069702,
           1.1698731184005737,
           1.070129156112671,
           0.9116816520690918,
           0.7103784680366516,
           0.5904634594917297,
           0.4906858503818512,
           0.42560139298439026,
           0.3413626551628113,
           0.33339470624923706,
           0.270988404750824,
           0.2877248525619507,
           0.30236682295799255,
           0.3020893335342407,
           0.25497323274612427,
           0.203774556517601,
           0.13923484086990356,
           0.30194225907325745,
           0.6240968704223633,
           0.8856599926948547,
           1.0903948545455933,
           1.2030988931655884,
           1.2441366910934448,
           1.2184818983078003,
           1.163111925125122,
           1.046799659729004,
           0.9198052287101746,
           0.7874153256416321,
           0.7186766862869263,
           0.6086369752883911,
           0.4737355411052704,
           0.41946035623550415,
           0.36807981133461,
           0.4031924903392792,
           0.32028844952583313,
           0.2314378023147583,
           0.14584843814373016,
           0.1010347381234169,
           0.0429987907409668,
           0.03715943917632103,
           0.10940510779619217,
           0.20505738258361816,
           0.3525417447090149,
           0.3923819959163666,
           0.5538851022720337,
           0.6567551493644714,
           0.7257891297340393,
           0.7680006623268127,
           0.7457437515258789,
           0.6846815943717957,
           0.6731883883476257,
           0.7139150500297546,
           0.7760083675384521,
           0.7670966982841492,
           0.7180019617080688,
           0.5350593328475952,
           0.5302826762199402,
           0.15299561619758606,
           0.08310758322477341,
           0.13029709458351135,
           0.20636126399040222,
           0.26205432415008545,
           0.2967226505279541,
           0.32171064615249634,
           0.3564487099647522,
           0.3738532066345215,
           0.4476009011268616,
           0.3246634304523468,
           0.39036300778388977,
           0.35019010305404663,
           0.28553828597068787,
           0.21542885899543762,
           0.2059972584247589,
           0.2370174080133438,
           0.4220808744430542,
           0.5217157006263733,
           0.5227636098861694,
           0.5323290228843689,
           0.45411527156829834,
           0.2372177094221115,
           0.1962750405073166,
           0.815723180770874,
           0.8289225101470947,
           0.8222284317016602,
           0.8155763149261475,
           0.7790342569351196,
           0.7562255263328552,
           0.7873344421386719,
           0.8274060487747192,
           0.8360498547554016,
           0.8904973864555359,
           1.118561029434204,
           1.3007146120071411,
           1.387953519821167,
           1.4260421991348267,
           1.413303256034851,
           1.3581225872039795,
           1.2331122159957886,
           0.9267751574516296,
           0.7998592853546143,
           0.8089979290962219,
           0.8531447649002075,
           0.8659802079200745,
           0.8819127082824707,
           0.8611717820167542,
           3.0477094650268555,
           3.0822582244873047,
           3.0677621364593506,
           3.0049805641174316,
           3.002969980239868,
           2.976667881011963,
           2.9306955337524414,
           2.8767049312591553,
           2.984264373779297,
           3.243669033050537,
           3.401704788208008,
           3.7449967861175537,
           3.909473180770874,
           4.014985084533691,
           3.9359869956970215,
           3.790222644805908,
           3.4009454250335693,
           3.017374277114868,
           2.9539389610290527,
           2.9646389484405518,
           3.0033140182495117,
           3.0328545570373535,
           3.019177198410034,
           3.0550742149353027,
           1.3891594409942627,
           1.378445029258728,
           1.349128246307373,
           1.2965067625045776,
           1.2541558742523193,
           1.212644100189209,
           1.1892122030258179,
           1.1371543407440186,
           1.121290922164917,
           1.073047161102295,
           1.100662112236023,
           1.1102051734924316,
           1.1354011297225952,
           1.1253941059112549,
           1.0794352293014526,
           0.9708594679832458,
           0.9280838966369629,
           0.9890552163124084,
           1.0635325908660889,
           1.1036595106124878,
           1.1259068250656128,
           1.1324009895324707,
           1.2270019054412842,
           1.2765165567398071,
           0.5321716070175171,
           0.5949251055717468,
           0.6201068758964539,
           0.6185404658317566,
           0.6423867344856262,
           0.6746665239334106,
           0.655480682849884,
           0.6490389108657837,
           0.6610285639762878,
           0.65799480676651,
           0.5632816553115845,
           0.5235530138015747,
           0.5543972253799438,
           0.582506000995636,
           0.5687602758407593,
           0.48318302631378174,
           0.35319191217422485,
           0.29619690775871277,
           0.3056188225746155,
           0.36096298694610596,
           0.39168816804885864,
           0.41047370433807373,
           0.45645153522491455,
           0.5280558466911316,
           0.5091131329536438,
           0.5052825212478638,
           0.505634605884552,
           0.46043500304222107,
           0.43901583552360535,
           0.417890340089798,
           0.4131470322608948,
           0.4217985272407532,
           0.4365340769290924,
           0.39513227343559265,
           0.43747514486312866,
           0.53233802318573,
           0.6149149537086487,
           0.6874752044677734,
           0.721206545829773,
           0.6931479573249817,
           0.5922924280166626,
           0.42014041543006897,
           0.4537484645843506,
           0.513734757900238,
           0.5259011387825012,
           0.48200079798698425,
           0.4984368085861206,
           0.530523419380188,
           0.20566293597221375,
           0.26357221603393555,
           0.3328973352909088,
           0.3736584484577179,
           0.409170925617218,
           0.41190215945243835,
           0.3903816044330597,
           0.35434046387672424,
           0.2940628230571747,
           0.2932567894458771,
           0.40912216901779175,
           0.442216694355011,
           0.4599420130252838,
           0.45976781845092773,
           0.47904887795448303,
           0.5317243933677673,
           0.573364794254303,
           0.5096399188041687,
           0.39624929428100586,
           0.3946593701839447,
           0.3597152531147003,
           0.26157012581825256,
           0.24062803387641907,
           0.1985211968421936,
           0.2994776964187622,
           0.3116333782672882,
           0.3428868055343628,
           0.337593674659729,
           0.3208458423614502,
           0.2818775475025177,
           0.2644735276699066,
           0.23680062592029572,
           0.17724211513996124,
           0.06394476443529129,
           0.2584952116012573,
           0.49781110882759094,
           0.7034488916397095,
           0.8067396879196167,
           0.8399526476860046,
           0.7998999953269958,
           0.7281571626663208,
           0.6406744718551636,
           0.4613696038722992,
           0.3311644494533539,
           0.23896504938602448,
           0.2254767268896103,
           0.3079707622528076,
           0.32846200466156006,
           0.17142485082149506,
           0.1834130436182022,
           0.2405729740858078,
           0.2719912827014923,
           0.30300718545913696,
           0.29437583684921265,
           0.3082320988178253,
           0.2663543224334717,
           0.33595263957977295,
           0.4706285893917084,
           0.5108734965324402,
           0.6457133293151855,
           0.7612581253051758,
           0.8067102432250977,
           0.7566537261009216,
           0.6874232888221741,
           0.6029231548309326,
           0.5379266142845154,
           0.5345892906188965,
           0.44052326679229736,
           0.32926294207572937,
           0.2166336625814438,
           0.14842048287391663,
           0.12476641684770584,
           0.9779542684555054,
           0.9845557808876038,
           1.0069057941436768,
           0.9979180693626404,
           0.9806525111198425,
           0.918144702911377,
           0.9708957672119141,
           1.0101332664489746,
           1.009566068649292,
           1.0108377933502197,
           1.0078120231628418,
           1.184709072113037,
           1.4146661758422852,
           1.6246528625488281,
           1.7941279411315918,
           1.9282431602478027,
           1.9800729751586914,
           1.8738865852355957,
           1.642877221107483,
           1.2151051759719849,
           1.0720000267028809,
           1.0390852689743042,
           0.9917467832565308,
           1.017770767211914,
           0.6285254955291748,
           0.44855451583862305,
           0.3068382441997528,
           0.2264193743467331,
           0.18316295742988586,
           0.21231457591056824,
           0.2704320549964905,
           0.4301033020019531,
           0.6184831857681274,
           0.832974910736084,
           0.7142869830131531,
           0.9316014647483826,
           1.0043855905532837,
           1.0076404809951782,
           0.9666239023208618,
           0.9110941290855408,
           0.7998085618019104,
           0.8189562559127808,
           0.9421874284744263,
           1.1023057699203491,
           1.0551573038101196,
           0.973855197429657,
           0.7733103036880493,
           0.7636246681213379,
           0.36004945635795593,
           0.38802534341812134,
           0.38223689794540405,
           0.34679582715034485,
           0.31349876523017883,
           0.2477571815252304,
           0.17778554558753967,
           0.12698900699615479,
           0.07975934445858002,
           0.2543763518333435,
           0.4804253578186035,
           0.6572895646095276,
           0.8211576342582703,
           0.9104471206665039,
           0.9717384576797485,
           0.9651212096214294,
           0.864142894744873,
           0.7214348912239075,
           0.5141275525093079,
           0.3318707346916199,
           0.29935136437416077,
           0.3002392649650574,
           0.29793795943260193,
           0.30253270268440247,
           0.2615388333797455,
           0.20203514397144318,
           0.16342639923095703,
           0.1392480880022049,
           0.12361524999141693,
           0.09661229699850082,
           0.10430768877267838,
           0.1165066584944725,
           0.03415669500827789,
           0.13483411073684692,
           0.12045256793498993,
           0.268710732460022,
           0.37198448181152344,
           0.4689916968345642,
           0.5209877490997314,
           0.5065805315971375,
           0.4294026792049408,
           0.3846488296985626,
           0.4659770727157593,
           0.4535526633262634,
           0.4144585430622101,
           0.36781853437423706,
           0.2732590138912201,
           0.3118401765823364,
           0.9606224894523621,
           0.9802864193916321,
           1.03415846824646,
           1.0518795251846313,
           1.0463956594467163,
           0.9960406422615051,
           0.9755907654762268,
           1.0098217725753784,
           1.011747121810913,
           1.0549968481063843,
           1.1858423948287964,
           1.3472716808319092,
           1.4517887830734253,
           1.4962852001190186,
           1.55251944065094,
           1.5291073322296143,
           1.4029345512390137,
           1.0867722034454346,
           0.857163667678833,
           0.8209144473075867,
           0.7979041934013367,
           0.7941674590110779,
           0.8248277306556702,
           0.8896289467811584,
           0.45860275626182556,
           0.3952101469039917,
           0.37905988097190857,
           0.3772384524345398,
           0.37775760889053345,
           0.4066806435585022,
           0.4203442633152008,
           0.401289701461792,
           0.42565128207206726,
           0.5460906028747559,
           0.706634521484375,
           0.7900128364562988,
           0.8204171061515808,
           0.8339313268661499,
           0.804778516292572,
           0.7509471774101257,
           0.7222923040390015,
           0.6088780760765076,
           0.6175442934036255,
           0.6104394793510437,
           0.5641671419143677,
           0.5303483009338379,
           0.5235707759857178,
           0.5052487850189209,
           2.01833176612854,
           2.074528932571411,
           2.112344741821289,
           2.1421802043914795,
           2.1721060276031494,
           2.1766257286071777,
           2.1889095306396484,
           2.228276014328003,
           2.312062978744507,
           2.3944435119628906,
           2.3975539207458496,
           2.585707426071167,
           2.761854887008667,
           2.8190174102783203,
           2.7911040782928467,
           2.6496715545654297,
           2.3443095684051514,
           2.1090736389160156,
           2.114732265472412,
           2.1430556774139404,
           2.149716854095459,
           2.1298770904541016,
           2.0388917922973633,
           2.1040825843811035,
           1.6933859586715698,
           1.7277004718780518,
           1.7572740316390991,
           1.771470069885254,
           1.8066349029541016,
           1.837152361869812,
           1.8400624990463257,
           1.8285490274429321,
           1.8447682857513428,
           1.905993938446045,
           1.9847503900527954,
           2.211810827255249,
           2.3491344451904297,
           2.372568130493164,
           2.334343671798706,
           2.2335264682769775,
           2.002258062362671,
           1.843043327331543,
           1.7669882774353027,
           1.7224347591400146,
           1.7275621891021729,
           1.7455953359603882,
           1.7515263557434082,
           1.7875866889953613,
           0.9291505217552185,
           0.9272796511650085,
           0.9211530685424805,
           0.9159969091415405,
           0.9039105772972107,
           0.8827884197235107,
           0.8450549840927124,
           0.8355656266212463,
           0.7816435098648071,
           0.6763750314712524,
           0.6720879077911377,
           0.8340954184532166,
           0.9518418908119202,
           1.0556540489196777,
           1.0508533716201782,
           0.9538210034370422,
           0.8089306354522705,
           0.595606803894043,
           0.5743823647499084,
           0.5805480480194092,
           0.6126156449317932,
           0.5979422330856323,
           0.6192659735679626,
           0.582769513130188,
           0.8206979632377625,
           0.8174726963043213,
           0.8277518153190613,
           0.8597294688224792,
           0.9092194437980652,
           0.9642006754875183,
           0.9796962141990662,
           0.9967519640922546,
           1.17974853515625,
           1.4190154075622559,
           1.4292361736297607,
           1.4841018915176392,
           1.489568829536438,
           1.4754570722579956,
           1.434460163116455,
           1.404211401939392,
           1.4051231145858765,
           1.3684730529785156,
           1.1965906620025635,
           1.0060687065124512,
           0.8861179947853088,
           0.8620468378067017,
           0.8527384996414185,
           0.8178122043609619,
           0.18757498264312744,
           0.10065373033285141,
           0.029338236898183823,
           0.05083811655640602,
           0.1040169894695282,
           0.1686989814043045,
           0.218314990401268,
           0.22900158166885376,
           0.23120050132274628,
           0.1965223252773285,
           0.26526686549186707,
           0.36519792675971985,
           0.42482486367225647,
           0.45719704031944275,
           0.47036367654800415,
           0.4210517108440399,
           0.35231801867485046,
           0.22475478053092957,
           0.0381351001560688,
           0.1982361227273941,
           0.21649125218391418,
           0.1815042346715927,
           0.14418713748455048,
           0.11547746509313583,
           0.5511547923088074,
           0.5896050930023193,
           0.6083739995956421,
           0.5890445709228516,
           0.5659460425376892,
           0.5059515237808228,
           0.4575565457344055,
           0.3976898193359375,
           0.3043759763240814,
           0.3386383056640625,
           0.5218666195869446,
           0.6952871084213257,
           0.8570035099983215,
           0.9585416316986084,
           1.018367886543274,
           1.0907896757125854,
           1.120330572128296,
           1.0684821605682373,
           0.8584661483764648,
           0.6154813766479492,
           0.5803077816963196,
           0.5362418293952942,
           0.4855060279369354,
           0.47110268473625183,
           0.23111674189567566,
           0.3055213689804077,
           0.3496600091457367,
           0.31968045234680176,
           0.30796191096305847,
           0.24182209372520447,
           0.2264295071363449,
           0.08750104159116745,
           0.20704470574855804,
           0.5162733793258667,
           0.6777891516685486,
           0.9154143333435059,
           1.1341413259506226,
           1.185928463935852,
           1.1302704811096191,
           1.0778248310089111,
           0.9936003088951111,
           0.9508931636810303,
           0.8466886878013611,
           0.7192742228507996,
           0.6522679924964905,
           0.5565547943115234,
           0.4083663821220398,
           0.35310640931129456,
           0.4277878403663635,
           0.45083820819854736,
           0.4588810205459595,
           0.44044795632362366,
           0.4086141288280487,
           0.3321157991886139,
           0.25825735926628113,
           0.18989883363246918,
           0.22977712750434875,
           0.4466663599014282,
           0.5922799706459045,
           0.8521748781204224,
           1.1208235025405884,
           1.294439673423767,
           1.3901335000991821,
           1.441650152206421,
           1.4492281675338745,
           1.3592971563339233,
           1.1119639873504639,
           0.6979334354400635,
           0.5327885746955872,
           0.5123995542526245,
           0.49369698762893677,
           0.4325753450393677,
           0.32461684942245483,
           0.21518895030021667,
           0.1729501485824585,
           0.13538555800914764,
           0.1534382700920105,
           0.1977647989988327,
           0.22099104523658752,
           0.2544736862182617,
           0.3733255863189697,
           0.570409893989563,
           0.6217268705368042,
           0.8500095009803772,
           1.0537736415863037,
           1.0765422582626343,
           1.0539296865463257,
           1.0336780548095703,
           0.9186102747917175,
           0.8072319626808167,
           0.6545887589454651,
           0.5857226848602295,
           0.548336386680603,
           0.517579197883606,
           0.3928273022174835,
           0.38569551706314087,
           0.24647074937820435,
           0.1662721484899521,
           0.09056054055690765,
           0.03624588996171951,
           0.005878992844372988,
           0.06657309830188751,
           0.05948936194181442,
           0.15165187418460846,
           0.29030731320381165,
           0.4609510898590088,
           0.5675811767578125,
           0.6189219355583191,
           0.6384091377258301,
           0.6990821957588196,
           0.7400425672531128,
           0.7516982555389404,
           0.60652095079422,
           0.35532960295677185,
           0.28882139921188354,
           0.3907841444015503,
           0.4347521662712097,
           0.4114849269390106,
           0.3597249984741211,
           0.3233106732368469,
           0.28462448716163635,
           0.2017865777015686,
           0.11915253102779388,
           0.09731297194957733,
           0.1233559250831604,
           0.12382511794567108,
           0.16202318668365479,
           0.19756311178207397,
           0.19595400989055634,
           0.2665349245071411,
           0.26790744066238403,
           0.3184170424938202,
           0.30898144841194153,
           0.2902430593967438,
           0.30387645959854126,
           0.2639803886413574,
           0.22861988842487335,
           0.28001999855041504,
           0.30806806683540344,
           0.3166138827800751,
           0.3307456374168396,
           0.33508139848709106,
           0.3000065088272095,
           0.34854820370674133,
           1.1905207633972168,
           1.2436432838439941,
           1.3046717643737793,
           1.3224833011627197,
           1.3564668893814087,
           1.3476890325546265,
           1.3223761320114136,
           1.3064013719558716,
           1.3837480545043945,
           1.425561547279358,
           1.4290224313735962,
           1.470069408416748,
           1.4635660648345947,
           1.4325106143951416,
           1.39188551902771,
           1.3310699462890625,
           1.15348219871521,
           1.024909496307373,
           1.029442310333252,
           1.0523759126663208,
           1.0774697065353394,
           1.07133948802948,
           0.9786573648452759,
           1.0107969045639038,
           1.224627137184143,
           1.2362416982650757,
           1.227850079536438,
           1.2050701379776,
           1.1934906244277954,
           1.1963996887207031,
           1.1978551149368286,
           1.1777774095535278,
           1.1597074270248413,
           1.1241196393966675,
           1.104178786277771,
           1.210657000541687,
           1.2529467344284058,
           1.2362101078033447,
           1.2187641859054565,
           1.1426588296890259,
           0.9441298246383667,
           0.9173603057861328,
           0.9893801808357239,
           1.0356826782226562,
           1.0601544380187988,
           1.1109843254089355,
           1.207387924194336,
           1.1917964220046997,
           0.47203636169433594,
           0.480092316865921,
           0.5532021522521973,
           0.5943088531494141,
           0.5870630145072937,
           0.5930773615837097,
           0.5937776565551758,
           0.5795594453811646,
           0.5897553563117981,
           0.6645521521568298,
           0.7820082306861877,
           0.8713917136192322,
           0.9204353094100952,
           0.8793728351593018,
           0.8380243182182312,
           0.8374632000923157,
           0.8291881084442139,
           0.6880381107330322,
           0.5948455333709717,
           0.5406102538108826,
           0.5177289247512817,
           0.5013941526412964,
           0.4252571165561676,
           0.4569455087184906,
           0.18393808603286743,
           0.22470010817050934,
           0.32116201519966125,
           0.37742048501968384,
           0.41638603806495667,
           0.4423748850822449,
           0.44090980291366577,
           0.4105783700942993,
           0.4491822123527527,
           0.5118715167045593,
           0.4110984802246094,
           0.46934694051742554,
           0.4915347695350647,
           0.5077577233314514,
           0.5299654603004456,
           0.5524721145629883,
           0.5542346239089966,
           0.5142306089401245,
           0.4324696660041809,
           0.4010339677333832,
           0.3011612892150879,
           0.19487158954143524,
           0.17755107581615448,
           0.16324886679649353,
           1.1521635055541992,
           1.1172806024551392,
           1.101948857307434,
           1.1418235301971436,
           1.2033029794692993,
           1.2765257358551025,
           1.3211243152618408,
           1.3536924123764038,
           1.4111374616622925,
           1.5802133083343506,
           1.435526728630066,
           1.5474683046340942,
           1.578599214553833,
           1.4849492311477661,
           1.4503304958343506,
           1.4659875631332397,
           1.4774364233016968,
           1.4432305097579956,
           1.4130033254623413,
           1.3085695505142212,
           1.243212103843689,
           1.2197788953781128,
           1.147871732711792,
           1.1260201930999756,
           0.7935526371002197,
           0.8664090037345886,
           0.9142292737960815,
           0.8834732174873352,
           0.8706458210945129,
           0.8438311815261841,
           0.8357253670692444,
           0.8363637924194336,
           0.8228759169578552,
           0.7574024200439453,
           0.7160207629203796,
           0.5925769209861755,
           0.4665464162826538,
           0.46413061022758484,
           0.5516183972358704,
           0.6947706937789917,
           0.7804955244064331,
           0.7437843680381775,
           0.5607209205627441,
           0.5438087582588196,
           0.5971031188964844,
           0.6573155522346497,
           0.6760916113853455,
           0.6977211833000183,
           0.1363179236650467,
           0.19431573152542114,
           0.2405887246131897,
           0.2367943972349167,
           0.22584138810634613,
           0.21671342849731445,
           0.2729068100452423,
           0.2868350148200989,
           0.12658840417861938,
           0.17772693932056427,
           0.3871893286705017,
           0.5106348395347595,
           0.5870411992073059,
           0.6582067608833313,
           0.6800068020820618,
           0.6405531167984009,
           0.5841764211654663,
           0.49530452489852905,
           0.36938512325286865,
           0.27931827306747437,
           0.23171934485435486,
           0.20981384813785553,
           0.17038100957870483,
           0.122879758477211,
           0.46739462018013,
           0.6106266975402832,
           0.6724517941474915,
           0.6643087863922119,
           0.6213716864585876,
           0.5474817752838135,
           0.571317732334137,
           0.47962236404418945,
           0.3289047181606293,
           0.5493667125701904,
           0.9806370139122009,
           1.2779000997543335,
           1.401166319847107,
           1.4763795137405396,
           1.5099776983261108,
           1.4812140464782715,
           1.4234387874603271,
           1.297228217124939,
           1.0754894018173218,
           0.7725797295570374,
           0.6553341150283813,
           0.595879077911377,
           0.4894755780696869,
           0.3777082860469818,
           0.5794880986213684,
           0.3663192689418793,
           0.20967450737953186,
           0.17602033913135529,
           0.21076282858848572,
           0.3232377767562866,
           0.3979594111442566,
           0.5449550151824951,
           0.8352324366569519,
           1.0757969617843628,
           1.2318605184555054,
           1.3712158203125,
           1.422838568687439,
           1.4242581129074097,
           1.4008848667144775,
           1.395770788192749,
           1.3557257652282715,
           1.3120657205581665,
           1.2955349683761597,
           1.2833060026168823,
           1.2028135061264038,
           1.1215357780456543,
           0.8319966793060303,
           0.7614644169807434,
           0.37617892026901245,
           0.24264201521873474,
           0.14183129370212555,
           0.04371992498636246,
           0.05694751441478729,
           0.0894245132803917,
           0.12962834537029266,
           0.19304856657981873,
           0.42533621191978455,
           0.6924852132797241,
           0.8091592192649841,
           1.0651298761367798,
           1.1964406967163086,
           1.201529622077942,
           1.2110874652862549,
           1.1346038579940796,
           1.004990577697754,
           0.9103327393531799,
           0.8356670141220093,
           0.7986134886741638,
           0.6996796727180481,
           0.5831809043884277,
           0.3933740258216858,
           0.381669819355011,
           0.760116696357727,
           0.773002028465271,
           0.7572392821311951,
           0.7052489519119263,
           0.6675941348075867,
           0.5826695561408997,
           0.49993449449539185,
           0.40212538838386536,
           0.28743091225624084,
           0.3349149227142334,
           0.6407979130744934,
           0.9172949194908142,
           1.1984378099441528,
           1.297064185142517,
           1.3572818040847778,
           1.3547735214233398,
           1.2936140298843384,
           1.089956521987915,
           0.730872631072998,
           0.5341370701789856,
           0.5394070744514465,
           0.6399386525154114,
           0.7267747521400452,
           0.6659247875213623,
           0.4562637507915497,
           0.40863215923309326,
           0.3171796500682831,
           0.24789969623088837,
           0.21245434880256653,
           0.20556455850601196,
           0.21476507186889648,
           0.20824675261974335,
           0.3565235137939453,
           0.5897481441497803,
           0.9339064955711365,
           1.1298257112503052,
           1.2120217084884644,
           1.224940299987793,
           1.176985740661621,
           1.0801231861114502,
           0.9278622269630432,
           0.8056663274765015,
           0.7501067519187927,
           0.7087482810020447,
           0.6763492226600647,
           0.6564592123031616,
           0.6531367897987366,
           0.5431543588638306,
           1.5525892972946167,
           1.5381309986114502,
           1.5280319452285767,
           1.477164626121521,
           1.4784260988235474,
           1.465391755104065,
           1.4760502576828003,
           1.4584845304489136,
           1.4853442907333374,
           1.5702083110809326,
           1.7342907190322876,
           1.9031639099121094,
           2.0447609424591064,
           2.1272599697113037,
           2.106050968170166,
           1.9973431825637817,
           1.6909328699111938,
           1.5078561305999756,
           1.5360006093978882,
           1.5838452577590942,
           1.5347448587417603,
           1.4834357500076294,
           1.5311486721038818,
           1.499415397644043,
           1.4467931985855103,
           1.38631272315979,
           1.2879654169082642,
           1.224745750427246,
           1.1391382217407227,
           1.0576624870300293,
           1.0147963762283325,
           1.0329816341400146,
           1.1032575368881226,
           1.1892439126968384,
           1.258551001548767,
           1.5645368099212646,
           1.8020350933074951,
           1.8947335481643677,
           1.9001957178115845,
           1.795196294784546,
           1.5098240375518799,
           1.3340110778808594,
           1.2779461145401,
           1.3635064363479614,
           1.4282563924789429,
           1.4444624185562134,
           1.4897676706314087,
           1.4607923030853271
          ],
          "colorbar": {
           "title": {
            "text": "Wind Speed"
           }
          },
          "colorscale": [
           [
            0,
            "#440154"
           ],
           [
            0.1111111111111111,
            "#482878"
           ],
           [
            0.2222222222222222,
            "#3e4989"
           ],
           [
            0.3333333333333333,
            "#31688e"
           ],
           [
            0.4444444444444444,
            "#26828e"
           ],
           [
            0.5555555555555556,
            "#1f9e89"
           ],
           [
            0.6666666666666666,
            "#35b779"
           ],
           [
            0.7777777777777778,
            "#6ece58"
           ],
           [
            0.8888888888888888,
            "#b5de2b"
           ],
           [
            1,
            "#fde725"
           ]
          ],
          "showscale": false
         },
         "name": "Wind Direction",
         "r": [
          31.434100193506776,
          14.771016985594496,
          10.47086648032681,
          8.686304020640723,
          7.8262739195871855,
          8.85831004085143,
          9.976349172221028,
          7.976779187271554,
          0,
          0,
          0,
          0,
          0,
          0,
          0
         ],
         "theta": [
          0,
          22.5,
          45,
          67.5,
          90,
          112.5,
          135,
          157.5,
          180,
          202.5,
          225,
          247.5,
          270,
          292.5,
          315,
          337.5
         ],
         "type": "barpolar"
        }
       ],
       "layout": {
        "polar": {
         "radialaxis": {
          "range": [
           0,
           31.434100193506776
          ],
          "visible": true
         }
        },
        "showlegend": true,
        "template": {
         "data": {
          "bar": [
           {
            "error_x": {
             "color": "#2a3f5f"
            },
            "error_y": {
             "color": "#2a3f5f"
            },
            "marker": {
             "line": {
              "color": "#E5ECF6",
              "width": 0.5
             },
             "pattern": {
              "fillmode": "overlay",
              "size": 10,
              "solidity": 0.2
             }
            },
            "type": "bar"
           }
          ],
          "barpolar": [
           {
            "marker": {
             "line": {
              "color": "#E5ECF6",
              "width": 0.5
             },
             "pattern": {
              "fillmode": "overlay",
              "size": 10,
              "solidity": 0.2
             }
            },
            "type": "barpolar"
           }
          ],
          "carpet": [
           {
            "aaxis": {
             "endlinecolor": "#2a3f5f",
             "gridcolor": "white",
             "linecolor": "white",
             "minorgridcolor": "white",
             "startlinecolor": "#2a3f5f"
            },
            "baxis": {
             "endlinecolor": "#2a3f5f",
             "gridcolor": "white",
             "linecolor": "white",
             "minorgridcolor": "white",
             "startlinecolor": "#2a3f5f"
            },
            "type": "carpet"
           }
          ],
          "choropleth": [
           {
            "colorbar": {
             "outlinewidth": 0,
             "ticks": ""
            },
            "type": "choropleth"
           }
          ],
          "contour": [
           {
            "colorbar": {
             "outlinewidth": 0,
             "ticks": ""
            },
            "colorscale": [
             [
              0,
              "#0d0887"
             ],
             [
              0.1111111111111111,
              "#46039f"
             ],
             [
              0.2222222222222222,
              "#7201a8"
             ],
             [
              0.3333333333333333,
              "#9c179e"
             ],
             [
              0.4444444444444444,
              "#bd3786"
             ],
             [
              0.5555555555555556,
              "#d8576b"
             ],
             [
              0.6666666666666666,
              "#ed7953"
             ],
             [
              0.7777777777777778,
              "#fb9f3a"
             ],
             [
              0.8888888888888888,
              "#fdca26"
             ],
             [
              1,
              "#f0f921"
             ]
            ],
            "type": "contour"
           }
          ],
          "contourcarpet": [
           {
            "colorbar": {
             "outlinewidth": 0,
             "ticks": ""
            },
            "type": "contourcarpet"
           }
          ],
          "heatmap": [
           {
            "colorbar": {
             "outlinewidth": 0,
             "ticks": ""
            },
            "colorscale": [
             [
              0,
              "#0d0887"
             ],
             [
              0.1111111111111111,
              "#46039f"
             ],
             [
              0.2222222222222222,
              "#7201a8"
             ],
             [
              0.3333333333333333,
              "#9c179e"
             ],
             [
              0.4444444444444444,
              "#bd3786"
             ],
             [
              0.5555555555555556,
              "#d8576b"
             ],
             [
              0.6666666666666666,
              "#ed7953"
             ],
             [
              0.7777777777777778,
              "#fb9f3a"
             ],
             [
              0.8888888888888888,
              "#fdca26"
             ],
             [
              1,
              "#f0f921"
             ]
            ],
            "type": "heatmap"
           }
          ],
          "heatmapgl": [
           {
            "colorbar": {
             "outlinewidth": 0,
             "ticks": ""
            },
            "colorscale": [
             [
              0,
              "#0d0887"
             ],
             [
              0.1111111111111111,
              "#46039f"
             ],
             [
              0.2222222222222222,
              "#7201a8"
             ],
             [
              0.3333333333333333,
              "#9c179e"
             ],
             [
              0.4444444444444444,
              "#bd3786"
             ],
             [
              0.5555555555555556,
              "#d8576b"
             ],
             [
              0.6666666666666666,
              "#ed7953"
             ],
             [
              0.7777777777777778,
              "#fb9f3a"
             ],
             [
              0.8888888888888888,
              "#fdca26"
             ],
             [
              1,
              "#f0f921"
             ]
            ],
            "type": "heatmapgl"
           }
          ],
          "histogram": [
           {
            "marker": {
             "pattern": {
              "fillmode": "overlay",
              "size": 10,
              "solidity": 0.2
             }
            },
            "type": "histogram"
           }
          ],
          "histogram2d": [
           {
            "colorbar": {
             "outlinewidth": 0,
             "ticks": ""
            },
            "colorscale": [
             [
              0,
              "#0d0887"
             ],
             [
              0.1111111111111111,
              "#46039f"
             ],
             [
              0.2222222222222222,
              "#7201a8"
             ],
             [
              0.3333333333333333,
              "#9c179e"
             ],
             [
              0.4444444444444444,
              "#bd3786"
             ],
             [
              0.5555555555555556,
              "#d8576b"
             ],
             [
              0.6666666666666666,
              "#ed7953"
             ],
             [
              0.7777777777777778,
              "#fb9f3a"
             ],
             [
              0.8888888888888888,
              "#fdca26"
             ],
             [
              1,
              "#f0f921"
             ]
            ],
            "type": "histogram2d"
           }
          ],
          "histogram2dcontour": [
           {
            "colorbar": {
             "outlinewidth": 0,
             "ticks": ""
            },
            "colorscale": [
             [
              0,
              "#0d0887"
             ],
             [
              0.1111111111111111,
              "#46039f"
             ],
             [
              0.2222222222222222,
              "#7201a8"
             ],
             [
              0.3333333333333333,
              "#9c179e"
             ],
             [
              0.4444444444444444,
              "#bd3786"
             ],
             [
              0.5555555555555556,
              "#d8576b"
             ],
             [
              0.6666666666666666,
              "#ed7953"
             ],
             [
              0.7777777777777778,
              "#fb9f3a"
             ],
             [
              0.8888888888888888,
              "#fdca26"
             ],
             [
              1,
              "#f0f921"
             ]
            ],
            "type": "histogram2dcontour"
           }
          ],
          "mesh3d": [
           {
            "colorbar": {
             "outlinewidth": 0,
             "ticks": ""
            },
            "type": "mesh3d"
           }
          ],
          "parcoords": [
           {
            "line": {
             "colorbar": {
              "outlinewidth": 0,
              "ticks": ""
             }
            },
            "type": "parcoords"
           }
          ],
          "pie": [
           {
            "automargin": true,
            "type": "pie"
           }
          ],
          "scatter": [
           {
            "fillpattern": {
             "fillmode": "overlay",
             "size": 10,
             "solidity": 0.2
            },
            "type": "scatter"
           }
          ],
          "scatter3d": [
           {
            "line": {
             "colorbar": {
              "outlinewidth": 0,
              "ticks": ""
             }
            },
            "marker": {
             "colorbar": {
              "outlinewidth": 0,
              "ticks": ""
             }
            },
            "type": "scatter3d"
           }
          ],
          "scattercarpet": [
           {
            "marker": {
             "colorbar": {
              "outlinewidth": 0,
              "ticks": ""
             }
            },
            "type": "scattercarpet"
           }
          ],
          "scattergeo": [
           {
            "marker": {
             "colorbar": {
              "outlinewidth": 0,
              "ticks": ""
             }
            },
            "type": "scattergeo"
           }
          ],
          "scattergl": [
           {
            "marker": {
             "colorbar": {
              "outlinewidth": 0,
              "ticks": ""
             }
            },
            "type": "scattergl"
           }
          ],
          "scattermapbox": [
           {
            "marker": {
             "colorbar": {
              "outlinewidth": 0,
              "ticks": ""
             }
            },
            "type": "scattermapbox"
           }
          ],
          "scatterpolar": [
           {
            "marker": {
             "colorbar": {
              "outlinewidth": 0,
              "ticks": ""
             }
            },
            "type": "scatterpolar"
           }
          ],
          "scatterpolargl": [
           {
            "marker": {
             "colorbar": {
              "outlinewidth": 0,
              "ticks": ""
             }
            },
            "type": "scatterpolargl"
           }
          ],
          "scatterternary": [
           {
            "marker": {
             "colorbar": {
              "outlinewidth": 0,
              "ticks": ""
             }
            },
            "type": "scatterternary"
           }
          ],
          "surface": [
           {
            "colorbar": {
             "outlinewidth": 0,
             "ticks": ""
            },
            "colorscale": [
             [
              0,
              "#0d0887"
             ],
             [
              0.1111111111111111,
              "#46039f"
             ],
             [
              0.2222222222222222,
              "#7201a8"
             ],
             [
              0.3333333333333333,
              "#9c179e"
             ],
             [
              0.4444444444444444,
              "#bd3786"
             ],
             [
              0.5555555555555556,
              "#d8576b"
             ],
             [
              0.6666666666666666,
              "#ed7953"
             ],
             [
              0.7777777777777778,
              "#fb9f3a"
             ],
             [
              0.8888888888888888,
              "#fdca26"
             ],
             [
              1,
              "#f0f921"
             ]
            ],
            "type": "surface"
           }
          ],
          "table": [
           {
            "cells": {
             "fill": {
              "color": "#EBF0F8"
             },
             "line": {
              "color": "white"
             }
            },
            "header": {
             "fill": {
              "color": "#C8D4E3"
             },
             "line": {
              "color": "white"
             }
            },
            "type": "table"
           }
          ]
         },
         "layout": {
          "annotationdefaults": {
           "arrowcolor": "#2a3f5f",
           "arrowhead": 0,
           "arrowwidth": 1
          },
          "autotypenumbers": "strict",
          "coloraxis": {
           "colorbar": {
            "outlinewidth": 0,
            "ticks": ""
           }
          },
          "colorscale": {
           "diverging": [
            [
             0,
             "#8e0152"
            ],
            [
             0.1,
             "#c51b7d"
            ],
            [
             0.2,
             "#de77ae"
            ],
            [
             0.3,
             "#f1b6da"
            ],
            [
             0.4,
             "#fde0ef"
            ],
            [
             0.5,
             "#f7f7f7"
            ],
            [
             0.6,
             "#e6f5d0"
            ],
            [
             0.7,
             "#b8e186"
            ],
            [
             0.8,
             "#7fbc41"
            ],
            [
             0.9,
             "#4d9221"
            ],
            [
             1,
             "#276419"
            ]
           ],
           "sequential": [
            [
             0,
             "#0d0887"
            ],
            [
             0.1111111111111111,
             "#46039f"
            ],
            [
             0.2222222222222222,
             "#7201a8"
            ],
            [
             0.3333333333333333,
             "#9c179e"
            ],
            [
             0.4444444444444444,
             "#bd3786"
            ],
            [
             0.5555555555555556,
             "#d8576b"
            ],
            [
             0.6666666666666666,
             "#ed7953"
            ],
            [
             0.7777777777777778,
             "#fb9f3a"
            ],
            [
             0.8888888888888888,
             "#fdca26"
            ],
            [
             1,
             "#f0f921"
            ]
           ],
           "sequentialminus": [
            [
             0,
             "#0d0887"
            ],
            [
             0.1111111111111111,
             "#46039f"
            ],
            [
             0.2222222222222222,
             "#7201a8"
            ],
            [
             0.3333333333333333,
             "#9c179e"
            ],
            [
             0.4444444444444444,
             "#bd3786"
            ],
            [
             0.5555555555555556,
             "#d8576b"
            ],
            [
             0.6666666666666666,
             "#ed7953"
            ],
            [
             0.7777777777777778,
             "#fb9f3a"
            ],
            [
             0.8888888888888888,
             "#fdca26"
            ],
            [
             1,
             "#f0f921"
            ]
           ]
          },
          "colorway": [
           "#636efa",
           "#EF553B",
           "#00cc96",
           "#ab63fa",
           "#FFA15A",
           "#19d3f3",
           "#FF6692",
           "#B6E880",
           "#FF97FF",
           "#FECB52"
          ],
          "font": {
           "color": "#2a3f5f"
          },
          "geo": {
           "bgcolor": "white",
           "lakecolor": "white",
           "landcolor": "#E5ECF6",
           "showlakes": true,
           "showland": true,
           "subunitcolor": "white"
          },
          "hoverlabel": {
           "align": "left"
          },
          "hovermode": "closest",
          "mapbox": {
           "style": "light"
          },
          "paper_bgcolor": "white",
          "plot_bgcolor": "#E5ECF6",
          "polar": {
           "angularaxis": {
            "gridcolor": "white",
            "linecolor": "white",
            "ticks": ""
           },
           "bgcolor": "#E5ECF6",
           "radialaxis": {
            "gridcolor": "white",
            "linecolor": "white",
            "ticks": ""
           }
          },
          "scene": {
           "xaxis": {
            "backgroundcolor": "#E5ECF6",
            "gridcolor": "white",
            "gridwidth": 2,
            "linecolor": "white",
            "showbackground": true,
            "ticks": "",
            "zerolinecolor": "white"
           },
           "yaxis": {
            "backgroundcolor": "#E5ECF6",
            "gridcolor": "white",
            "gridwidth": 2,
            "linecolor": "white",
            "showbackground": true,
            "ticks": "",
            "zerolinecolor": "white"
           },
           "zaxis": {
            "backgroundcolor": "#E5ECF6",
            "gridcolor": "white",
            "gridwidth": 2,
            "linecolor": "white",
            "showbackground": true,
            "ticks": "",
            "zerolinecolor": "white"
           }
          },
          "shapedefaults": {
           "line": {
            "color": "#2a3f5f"
           }
          },
          "ternary": {
           "aaxis": {
            "gridcolor": "white",
            "linecolor": "white",
            "ticks": ""
           },
           "baxis": {
            "gridcolor": "white",
            "linecolor": "white",
            "ticks": ""
           },
           "bgcolor": "#E5ECF6",
           "caxis": {
            "gridcolor": "white",
            "linecolor": "white",
            "ticks": ""
           }
          },
          "title": {
           "x": 0.05
          },
          "xaxis": {
           "automargin": true,
           "gridcolor": "white",
           "linecolor": "white",
           "ticks": "",
           "title": {
            "standoff": 15
           },
           "zerolinecolor": "white",
           "zerolinewidth": 2
          },
          "yaxis": {
           "automargin": true,
           "gridcolor": "white",
           "linecolor": "white",
           "ticks": "",
           "title": {
            "standoff": 15
           },
           "zerolinecolor": "white",
           "zerolinewidth": 2
          }
         }
        },
        "title": {
         "text": "Wind Rose"
        }
       }
      }
     },
     "metadata": {},
     "output_type": "display_data"
    }
   ],
   "source": [
    "# Calculate wind speed and direction\n",
    "wind_speed = np.sqrt(avg_u**2 + avg_v**2)\n",
    "wind_direction = np.arctan2(avg_v, avg_u) * 180 / np.pi\n",
    "\n",
    "# Calculate wind direction sectors\n",
    "sectors = np.arange(0, 360, 22.5)\n",
    "sector_counts, sector_bins = np.histogram(wind_direction, bins=sectors)\n",
    "# Calculate sector percentages\n",
    "sector_percentages = sector_counts / sum(sector_counts) * 100\n",
    "\n",
    "\n",
    "# Create a wind rose chart\n",
    "fig = go.Figure(data=go.Barpolar(\n",
    "    r=sector_percentages,\n",
    "    theta=sectors,\n",
    "    name='Wind Direction',\n",
    "    marker=dict(\n",
    "        color=wind_speed,\n",
    "        colorscale='Viridis',\n",
    "        showscale=False,\n",
    "        cmin=min(wind_speed.values.flatten()),\n",
    "        cmax=max(wind_speed.values.flatten()),\n",
    "        colorbar=dict(\n",
    "            title='Wind Speed'\n",
    "        ),\n",
    "    ),\n",
    "))\n",
    "\n",
    "# Update the layout\n",
    "fig.update_layout(\n",
    "    title='Wind Rose',\n",
    "    polar=dict(\n",
    "        radialaxis=dict(\n",
    "            visible=True,\n",
    "            range=[0, sector_percentages.max()]\n",
    "        )),\n",
    "    showlegend=True\n",
    ")\n",
    "\n",
    "# Show the figure\n",
    "fig.show()"
   ]
  },
  {
   "cell_type": "code",
   "execution_count": 151,
   "metadata": {},
   "outputs": [
    {
     "data": {
      "application/vnd.plotly.v1+json": {
       "config": {
        "plotlyServerURL": "https://plot.ly"
       },
       "data": [
        {
         "hovertemplate": "speed=(0.0, 1.0]<br>frequency=%{r}<br>direction=%{theta}<extra></extra>",
         "legendgroup": "(0.0, 1.0]",
         "marker": {
          "color": "#636efa",
          "pattern": {
           "shape": ""
          }
         },
         "name": "(0.0, 1.0]",
         "r": [
          202,
          211,
          243,
          306,
          761,
          600,
          321,
          220,
          633,
          340,
          332,
          295,
          437,
          362,
          334,
          308
         ],
         "showlegend": true,
         "subplot": "polar",
         "theta": [
          "(-112.5, -90.0]",
          "(-135.0, -112.5]",
          "(-157.5, -135.0]",
          "(-180.0, -157.5]",
          "(-22.5, 0.0]",
          "(-45.0, -22.5]",
          "(-67.5, -45.0]",
          "(-90.0, -67.5]",
          "(0.0, 22.5]",
          "(112.5, 135.0]",
          "(135.0, 157.5]",
          "(157.5, 180.0]",
          "(22.5, 45.0]",
          "(45.0, 67.5]",
          "(67.5, 90.0]",
          "(90.0, 112.5]"
         ],
         "type": "barpolar"
        },
        {
         "hovertemplate": "speed=(1.0, 2.0]<br>frequency=%{r}<br>direction=%{theta}<extra></extra>",
         "legendgroup": "(1.0, 2.0]",
         "marker": {
          "color": "#EF553B",
          "pattern": {
           "shape": ""
          }
         },
         "name": "(1.0, 2.0]",
         "r": [
          13,
          13,
          63,
          60,
          644,
          299,
          48,
          33,
          562,
          72,
          132,
          76,
          217,
          125,
          70,
          56
         ],
         "showlegend": true,
         "subplot": "polar",
         "theta": [
          "(-112.5, -90.0]",
          "(-135.0, -112.5]",
          "(-157.5, -135.0]",
          "(-180.0, -157.5]",
          "(-22.5, 0.0]",
          "(-45.0, -22.5]",
          "(-67.5, -45.0]",
          "(-90.0, -67.5]",
          "(0.0, 22.5]",
          "(112.5, 135.0]",
          "(135.0, 157.5]",
          "(157.5, 180.0]",
          "(22.5, 45.0]",
          "(45.0, 67.5]",
          "(67.5, 90.0]",
          "(90.0, 112.5]"
         ],
         "type": "barpolar"
        },
        {
         "hovertemplate": "speed=(2.0, 3.0]<br>frequency=%{r}<br>direction=%{theta}<extra></extra>",
         "legendgroup": "(2.0, 3.0]",
         "marker": {
          "color": "#00cc96",
          "pattern": {
           "shape": ""
          }
         },
         "name": "(2.0, 3.0]",
         "r": [
          190,
          27,
          4,
          207,
          29
         ],
         "showlegend": true,
         "subplot": "polar",
         "theta": [
          "(-22.5, 0.0]",
          "(-45.0, -22.5]",
          "(-67.5, -45.0]",
          "(0.0, 22.5]",
          "(22.5, 45.0]"
         ],
         "type": "barpolar"
        },
        {
         "hovertemplate": "speed=(3.0, 4.0]<br>frequency=%{r}<br>direction=%{theta}<extra></extra>",
         "legendgroup": "(3.0, 4.0]",
         "marker": {
          "color": "#ab63fa",
          "pattern": {
           "shape": ""
          }
         },
         "name": "(3.0, 4.0]",
         "r": [
          18,
          57,
          4
         ],
         "showlegend": true,
         "subplot": "polar",
         "theta": [
          "(-22.5, 0.0]",
          "(0.0, 22.5]",
          "(22.5, 45.0]"
         ],
         "type": "barpolar"
        },
        {
         "hovertemplate": "speed=(4.0, 5.0]<br>frequency=%{r}<br>direction=%{theta}<extra></extra>",
         "legendgroup": "(4.0, 5.0]",
         "marker": {
          "color": "#FFA15A",
          "pattern": {
           "shape": ""
          }
         },
         "name": "(4.0, 5.0]",
         "r": [
          1,
          3
         ],
         "showlegend": true,
         "subplot": "polar",
         "theta": [
          "(-22.5, 0.0]",
          "(0.0, 22.5]"
         ],
         "type": "barpolar"
        }
       ],
       "layout": {
        "barmode": "relative",
        "height": 600,
        "legend": {
         "title": {
          "text": "speed"
         },
         "tracegroupgap": 0
        },
        "margin": {
         "t": 60
        },
        "polar": {
         "angularaxis": {
          "direction": "clockwise",
          "rotation": 90
         },
         "domain": {
          "x": [
           0,
           1
          ],
          "y": [
           0,
           1
          ]
         }
        },
        "template": {
         "data": {
          "bar": [
           {
            "error_x": {
             "color": "#f2f5fa"
            },
            "error_y": {
             "color": "#f2f5fa"
            },
            "marker": {
             "line": {
              "color": "rgb(17,17,17)",
              "width": 0.5
             },
             "pattern": {
              "fillmode": "overlay",
              "size": 10,
              "solidity": 0.2
             }
            },
            "type": "bar"
           }
          ],
          "barpolar": [
           {
            "marker": {
             "line": {
              "color": "rgb(17,17,17)",
              "width": 0.5
             },
             "pattern": {
              "fillmode": "overlay",
              "size": 10,
              "solidity": 0.2
             }
            },
            "type": "barpolar"
           }
          ],
          "carpet": [
           {
            "aaxis": {
             "endlinecolor": "#A2B1C6",
             "gridcolor": "#506784",
             "linecolor": "#506784",
             "minorgridcolor": "#506784",
             "startlinecolor": "#A2B1C6"
            },
            "baxis": {
             "endlinecolor": "#A2B1C6",
             "gridcolor": "#506784",
             "linecolor": "#506784",
             "minorgridcolor": "#506784",
             "startlinecolor": "#A2B1C6"
            },
            "type": "carpet"
           }
          ],
          "choropleth": [
           {
            "colorbar": {
             "outlinewidth": 0,
             "ticks": ""
            },
            "type": "choropleth"
           }
          ],
          "contour": [
           {
            "colorbar": {
             "outlinewidth": 0,
             "ticks": ""
            },
            "colorscale": [
             [
              0,
              "#0d0887"
             ],
             [
              0.1111111111111111,
              "#46039f"
             ],
             [
              0.2222222222222222,
              "#7201a8"
             ],
             [
              0.3333333333333333,
              "#9c179e"
             ],
             [
              0.4444444444444444,
              "#bd3786"
             ],
             [
              0.5555555555555556,
              "#d8576b"
             ],
             [
              0.6666666666666666,
              "#ed7953"
             ],
             [
              0.7777777777777778,
              "#fb9f3a"
             ],
             [
              0.8888888888888888,
              "#fdca26"
             ],
             [
              1,
              "#f0f921"
             ]
            ],
            "type": "contour"
           }
          ],
          "contourcarpet": [
           {
            "colorbar": {
             "outlinewidth": 0,
             "ticks": ""
            },
            "type": "contourcarpet"
           }
          ],
          "heatmap": [
           {
            "colorbar": {
             "outlinewidth": 0,
             "ticks": ""
            },
            "colorscale": [
             [
              0,
              "#0d0887"
             ],
             [
              0.1111111111111111,
              "#46039f"
             ],
             [
              0.2222222222222222,
              "#7201a8"
             ],
             [
              0.3333333333333333,
              "#9c179e"
             ],
             [
              0.4444444444444444,
              "#bd3786"
             ],
             [
              0.5555555555555556,
              "#d8576b"
             ],
             [
              0.6666666666666666,
              "#ed7953"
             ],
             [
              0.7777777777777778,
              "#fb9f3a"
             ],
             [
              0.8888888888888888,
              "#fdca26"
             ],
             [
              1,
              "#f0f921"
             ]
            ],
            "type": "heatmap"
           }
          ],
          "heatmapgl": [
           {
            "colorbar": {
             "outlinewidth": 0,
             "ticks": ""
            },
            "colorscale": [
             [
              0,
              "#0d0887"
             ],
             [
              0.1111111111111111,
              "#46039f"
             ],
             [
              0.2222222222222222,
              "#7201a8"
             ],
             [
              0.3333333333333333,
              "#9c179e"
             ],
             [
              0.4444444444444444,
              "#bd3786"
             ],
             [
              0.5555555555555556,
              "#d8576b"
             ],
             [
              0.6666666666666666,
              "#ed7953"
             ],
             [
              0.7777777777777778,
              "#fb9f3a"
             ],
             [
              0.8888888888888888,
              "#fdca26"
             ],
             [
              1,
              "#f0f921"
             ]
            ],
            "type": "heatmapgl"
           }
          ],
          "histogram": [
           {
            "marker": {
             "pattern": {
              "fillmode": "overlay",
              "size": 10,
              "solidity": 0.2
             }
            },
            "type": "histogram"
           }
          ],
          "histogram2d": [
           {
            "colorbar": {
             "outlinewidth": 0,
             "ticks": ""
            },
            "colorscale": [
             [
              0,
              "#0d0887"
             ],
             [
              0.1111111111111111,
              "#46039f"
             ],
             [
              0.2222222222222222,
              "#7201a8"
             ],
             [
              0.3333333333333333,
              "#9c179e"
             ],
             [
              0.4444444444444444,
              "#bd3786"
             ],
             [
              0.5555555555555556,
              "#d8576b"
             ],
             [
              0.6666666666666666,
              "#ed7953"
             ],
             [
              0.7777777777777778,
              "#fb9f3a"
             ],
             [
              0.8888888888888888,
              "#fdca26"
             ],
             [
              1,
              "#f0f921"
             ]
            ],
            "type": "histogram2d"
           }
          ],
          "histogram2dcontour": [
           {
            "colorbar": {
             "outlinewidth": 0,
             "ticks": ""
            },
            "colorscale": [
             [
              0,
              "#0d0887"
             ],
             [
              0.1111111111111111,
              "#46039f"
             ],
             [
              0.2222222222222222,
              "#7201a8"
             ],
             [
              0.3333333333333333,
              "#9c179e"
             ],
             [
              0.4444444444444444,
              "#bd3786"
             ],
             [
              0.5555555555555556,
              "#d8576b"
             ],
             [
              0.6666666666666666,
              "#ed7953"
             ],
             [
              0.7777777777777778,
              "#fb9f3a"
             ],
             [
              0.8888888888888888,
              "#fdca26"
             ],
             [
              1,
              "#f0f921"
             ]
            ],
            "type": "histogram2dcontour"
           }
          ],
          "mesh3d": [
           {
            "colorbar": {
             "outlinewidth": 0,
             "ticks": ""
            },
            "type": "mesh3d"
           }
          ],
          "parcoords": [
           {
            "line": {
             "colorbar": {
              "outlinewidth": 0,
              "ticks": ""
             }
            },
            "type": "parcoords"
           }
          ],
          "pie": [
           {
            "automargin": true,
            "type": "pie"
           }
          ],
          "scatter": [
           {
            "marker": {
             "line": {
              "color": "#283442"
             }
            },
            "type": "scatter"
           }
          ],
          "scatter3d": [
           {
            "line": {
             "colorbar": {
              "outlinewidth": 0,
              "ticks": ""
             }
            },
            "marker": {
             "colorbar": {
              "outlinewidth": 0,
              "ticks": ""
             }
            },
            "type": "scatter3d"
           }
          ],
          "scattercarpet": [
           {
            "marker": {
             "colorbar": {
              "outlinewidth": 0,
              "ticks": ""
             }
            },
            "type": "scattercarpet"
           }
          ],
          "scattergeo": [
           {
            "marker": {
             "colorbar": {
              "outlinewidth": 0,
              "ticks": ""
             }
            },
            "type": "scattergeo"
           }
          ],
          "scattergl": [
           {
            "marker": {
             "line": {
              "color": "#283442"
             }
            },
            "type": "scattergl"
           }
          ],
          "scattermapbox": [
           {
            "marker": {
             "colorbar": {
              "outlinewidth": 0,
              "ticks": ""
             }
            },
            "type": "scattermapbox"
           }
          ],
          "scatterpolar": [
           {
            "marker": {
             "colorbar": {
              "outlinewidth": 0,
              "ticks": ""
             }
            },
            "type": "scatterpolar"
           }
          ],
          "scatterpolargl": [
           {
            "marker": {
             "colorbar": {
              "outlinewidth": 0,
              "ticks": ""
             }
            },
            "type": "scatterpolargl"
           }
          ],
          "scatterternary": [
           {
            "marker": {
             "colorbar": {
              "outlinewidth": 0,
              "ticks": ""
             }
            },
            "type": "scatterternary"
           }
          ],
          "surface": [
           {
            "colorbar": {
             "outlinewidth": 0,
             "ticks": ""
            },
            "colorscale": [
             [
              0,
              "#0d0887"
             ],
             [
              0.1111111111111111,
              "#46039f"
             ],
             [
              0.2222222222222222,
              "#7201a8"
             ],
             [
              0.3333333333333333,
              "#9c179e"
             ],
             [
              0.4444444444444444,
              "#bd3786"
             ],
             [
              0.5555555555555556,
              "#d8576b"
             ],
             [
              0.6666666666666666,
              "#ed7953"
             ],
             [
              0.7777777777777778,
              "#fb9f3a"
             ],
             [
              0.8888888888888888,
              "#fdca26"
             ],
             [
              1,
              "#f0f921"
             ]
            ],
            "type": "surface"
           }
          ],
          "table": [
           {
            "cells": {
             "fill": {
              "color": "#506784"
             },
             "line": {
              "color": "rgb(17,17,17)"
             }
            },
            "header": {
             "fill": {
              "color": "#2a3f5f"
             },
             "line": {
              "color": "rgb(17,17,17)"
             }
            },
            "type": "table"
           }
          ]
         },
         "layout": {
          "annotationdefaults": {
           "arrowcolor": "#f2f5fa",
           "arrowhead": 0,
           "arrowwidth": 1
          },
          "autotypenumbers": "strict",
          "coloraxis": {
           "colorbar": {
            "outlinewidth": 0,
            "ticks": ""
           }
          },
          "colorscale": {
           "diverging": [
            [
             0,
             "#8e0152"
            ],
            [
             0.1,
             "#c51b7d"
            ],
            [
             0.2,
             "#de77ae"
            ],
            [
             0.3,
             "#f1b6da"
            ],
            [
             0.4,
             "#fde0ef"
            ],
            [
             0.5,
             "#f7f7f7"
            ],
            [
             0.6,
             "#e6f5d0"
            ],
            [
             0.7,
             "#b8e186"
            ],
            [
             0.8,
             "#7fbc41"
            ],
            [
             0.9,
             "#4d9221"
            ],
            [
             1,
             "#276419"
            ]
           ],
           "sequential": [
            [
             0,
             "#0d0887"
            ],
            [
             0.1111111111111111,
             "#46039f"
            ],
            [
             0.2222222222222222,
             "#7201a8"
            ],
            [
             0.3333333333333333,
             "#9c179e"
            ],
            [
             0.4444444444444444,
             "#bd3786"
            ],
            [
             0.5555555555555556,
             "#d8576b"
            ],
            [
             0.6666666666666666,
             "#ed7953"
            ],
            [
             0.7777777777777778,
             "#fb9f3a"
            ],
            [
             0.8888888888888888,
             "#fdca26"
            ],
            [
             1,
             "#f0f921"
            ]
           ],
           "sequentialminus": [
            [
             0,
             "#0d0887"
            ],
            [
             0.1111111111111111,
             "#46039f"
            ],
            [
             0.2222222222222222,
             "#7201a8"
            ],
            [
             0.3333333333333333,
             "#9c179e"
            ],
            [
             0.4444444444444444,
             "#bd3786"
            ],
            [
             0.5555555555555556,
             "#d8576b"
            ],
            [
             0.6666666666666666,
             "#ed7953"
            ],
            [
             0.7777777777777778,
             "#fb9f3a"
            ],
            [
             0.8888888888888888,
             "#fdca26"
            ],
            [
             1,
             "#f0f921"
            ]
           ]
          },
          "colorway": [
           "#636efa",
           "#EF553B",
           "#00cc96",
           "#ab63fa",
           "#FFA15A",
           "#19d3f3",
           "#FF6692",
           "#B6E880",
           "#FF97FF",
           "#FECB52"
          ],
          "font": {
           "color": "#f2f5fa"
          },
          "geo": {
           "bgcolor": "rgb(17,17,17)",
           "lakecolor": "rgb(17,17,17)",
           "landcolor": "rgb(17,17,17)",
           "showlakes": true,
           "showland": true,
           "subunitcolor": "#506784"
          },
          "hoverlabel": {
           "align": "left"
          },
          "hovermode": "closest",
          "mapbox": {
           "style": "dark"
          },
          "paper_bgcolor": "rgb(17,17,17)",
          "plot_bgcolor": "rgb(17,17,17)",
          "polar": {
           "angularaxis": {
            "gridcolor": "#506784",
            "linecolor": "#506784",
            "ticks": ""
           },
           "bgcolor": "rgb(17,17,17)",
           "radialaxis": {
            "gridcolor": "#506784",
            "linecolor": "#506784",
            "ticks": ""
           }
          },
          "scene": {
           "xaxis": {
            "backgroundcolor": "rgb(17,17,17)",
            "gridcolor": "#506784",
            "gridwidth": 2,
            "linecolor": "#506784",
            "showbackground": true,
            "ticks": "",
            "zerolinecolor": "#C8D4E3"
           },
           "yaxis": {
            "backgroundcolor": "rgb(17,17,17)",
            "gridcolor": "#506784",
            "gridwidth": 2,
            "linecolor": "#506784",
            "showbackground": true,
            "ticks": "",
            "zerolinecolor": "#C8D4E3"
           },
           "zaxis": {
            "backgroundcolor": "rgb(17,17,17)",
            "gridcolor": "#506784",
            "gridwidth": 2,
            "linecolor": "#506784",
            "showbackground": true,
            "ticks": "",
            "zerolinecolor": "#C8D4E3"
           }
          },
          "shapedefaults": {
           "line": {
            "color": "#f2f5fa"
           }
          },
          "sliderdefaults": {
           "bgcolor": "#C8D4E3",
           "bordercolor": "rgb(17,17,17)",
           "borderwidth": 1,
           "tickwidth": 0
          },
          "ternary": {
           "aaxis": {
            "gridcolor": "#506784",
            "linecolor": "#506784",
            "ticks": ""
           },
           "baxis": {
            "gridcolor": "#506784",
            "linecolor": "#506784",
            "ticks": ""
           },
           "bgcolor": "rgb(17,17,17)",
           "caxis": {
            "gridcolor": "#506784",
            "linecolor": "#506784",
            "ticks": ""
           }
          },
          "title": {
           "x": 0.05
          },
          "updatemenudefaults": {
           "bgcolor": "#506784",
           "borderwidth": 0
          },
          "xaxis": {
           "automargin": true,
           "gridcolor": "#283442",
           "linecolor": "#506784",
           "ticks": "",
           "title": {
            "standoff": 15
           },
           "zerolinecolor": "#283442",
           "zerolinewidth": 2
          },
          "yaxis": {
           "automargin": true,
           "gridcolor": "#283442",
           "linecolor": "#506784",
           "ticks": "",
           "title": {
            "standoff": 15
           },
           "zerolinecolor": "#283442",
           "zerolinewidth": 2
          }
         }
        },
        "width": 800
       }
      }
     },
     "metadata": {},
     "output_type": "display_data"
    }
   ],
   "source": [
    "import pandas as pd\n",
    "import numpy as np\n",
    "import plotly.express as px\n",
    "import xarray as xr\n",
    "\n",
    "\n",
    "# Convert xarray DataArrays to pandas DataFrame\n",
    "df = pd.DataFrame({'speed': wind_speed.values, 'direction': wind_direction.values})\n",
    "\n",
    "# Bin the data in terms of direction and wind speed to obtain frequencies\n",
    "direction_bins = pd.cut(df['direction'], bins=np.arange(-180, 180.1, 22.5), right=True).astype(str)\n",
    "speed_bins = pd.cut(df['speed'], bins=np.arange(0, df['speed'].max() + 1.1, 1), right=True).astype(str)\n",
    "\n",
    "# Calculate frequencies\n",
    "frequency_df = df.groupby([direction_bins, speed_bins]).size().reset_index(name='frequency')\n",
    "\n",
    "# Create the wind rose chart\n",
    "fig = px.bar_polar(frequency_df, \n",
    "                   r='frequency', \n",
    "                   theta='direction', \n",
    "                   color='speed', \n",
    "                   template='plotly_dark')\n",
    "\n",
    "# Update the layout to make it rectangular\n",
    "fig.update_layout(\n",
    "    width=800,  # Set the width to 700 pixels\n",
    "    height=600,  # Set the height to 1000 pixels\n",
    ")\n",
    "\n",
    "fig.show()\n"
   ]
  },
  {
   "cell_type": "code",
   "execution_count": 125,
   "metadata": {},
   "outputs": [
    {
     "data": {
      "text/plain": [
       "0"
      ]
     },
     "execution_count": 125,
     "metadata": {},
     "output_type": "execute_result"
    }
   ],
   "source": [
    "sum(np.isnan(df['speed']))"
   ]
  },
  {
   "cell_type": "code",
   "execution_count": 145,
   "metadata": {},
   "outputs": [
    {
     "data": {
      "text/plain": [
       "count    8928.000000\n",
       "mean        0.890333\n",
       "std         0.615138\n",
       "min         0.005879\n",
       "25%         0.436278\n",
       "50%         0.753375\n",
       "75%         1.197439\n",
       "max         4.143425\n",
       "Name: speed, dtype: float64"
      ]
     },
     "execution_count": 145,
     "metadata": {},
     "output_type": "execute_result"
    }
   ],
   "source": [
    "df['speed'].describe()\n"
   ]
  },
  {
   "cell_type": "code",
   "execution_count": null,
   "metadata": {},
   "outputs": [],
   "source": [
    "#soil temperature"
   ]
  },
  {
   "cell_type": "code",
   "execution_count": null,
   "metadata": {},
   "outputs": [],
   "source": [
    "#cloud cover/sunny days"
   ]
  },
  {
   "cell_type": "code",
   "execution_count": null,
   "metadata": {},
   "outputs": [],
   "source": [
    "#hours of sun from latitude"
   ]
  },
  {
   "cell_type": "code",
   "execution_count": null,
   "metadata": {},
   "outputs": [],
   "source": [
    "#ground freezing another plot or highlight in temperature plot"
   ]
  }
 ],
 "metadata": {
  "kernelspec": {
   "display_name": "climate_permaculture",
   "language": "python",
   "name": "python3"
  },
  "language_info": {
   "codemirror_mode": {
    "name": "ipython",
    "version": 3
   },
   "file_extension": ".py",
   "mimetype": "text/x-python",
   "name": "python",
   "nbconvert_exporter": "python",
   "pygments_lexer": "ipython3",
   "version": "3.9.7"
  }
 },
 "nbformat": 4,
 "nbformat_minor": 2
}

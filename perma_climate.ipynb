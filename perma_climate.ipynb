{
 "cells": [
  {
   "cell_type": "code",
   "execution_count": 1,
   "metadata": {},
   "outputs": [],
   "source": [
    "import cdsapi\n",
    "import xarray as xr\n",
    "import numpy as np\n",
    "import pandas as pd\n",
    "import time\n",
    "import requests\n",
    "import os\n",
    "import zipfile\n",
    "import dask\n",
    "\n",
    "import plotly.graph_objects as go\n",
    "from plotly.subplots import make_subplots\n",
    "import plotly.express as px\n",
    "\n",
    "import matplotlib.pyplot as plt #\n",
    "\n",
    "from geopy.geocoders import Nominatim\n",
    "from datetime import datetime\n",
    "import timezonefinder\n",
    "from astral.sun import sun\n",
    "from astral.location import LocationInfo"
   ]
  },
  {
   "cell_type": "markdown",
   "metadata": {},
   "source": [
    "# Download and prepare the data \n",
    "\n",
    "## Past data\n",
    "In this first section we download and prepare the data for the last 30 years, the dataset is the [ERA5 monthly averaged data on single levels from 1940 to present](https://cds.climate.copernicus.eu/cdsapp#!/dataset/reanalysis-era5-single-levels-monthly-means?tab=overview).\n"
   ]
  },
  {
   "cell_type": "code",
   "execution_count": 50,
   "metadata": {},
   "outputs": [],
   "source": [
    "# select the years you want to download\n",
    "start_year = 1992\n",
    "end_year = 2022\n",
    "year_range = [i for i in range(start_year, end_year + 1)]\n",
    "\n",
    "location_name = (\"Puebla de don Fadrique, Spain\")\n",
    "# Use geopy to get the latitude and longitude of the city\n",
    "geolocator = Nominatim(user_agent=\"permaculture-climate\", timeout=10)\n",
    "location = geolocator.geocode(location_name)\n",
    "# Add a delay between requests\n",
    "time.sleep(2)"
   ]
  },
  {
   "cell_type": "code",
   "execution_count": 9,
   "metadata": {},
   "outputs": [
    {
     "name": "stderr",
     "output_type": "stream",
     "text": [
      "2023-12-17 15:06:55,847 INFO Welcome to the CDS\n",
      "2023-12-17 15:06:55,849 INFO Sending request to https://cds.climate.copernicus.eu/api/v2/resources/reanalysis-era5-single-levels-monthly-means\n",
      "2023-12-17 15:06:56,235 INFO Request is completed\n"
     ]
    },
    {
     "name": "stdout",
     "output_type": "stream",
     "text": [
      "File saved at: c:\\Users\\matthias\\Documents\\Projects\\permaculture-climate\\past_climate.grib\n"
     ]
    }
   ],
   "source": [
    "#API Call to download past climate data\n",
    "c = cdsapi.Client()\n",
    "try:\n",
    "    data = c.retrieve(\"reanalysis-era5-single-levels-monthly-means\",\n",
    "    {\"format\": \"grib\",\n",
    "     \"product_type\": \"monthly_averaged_reanalysis_by_hour_of_day\",\n",
    "     \"variable\": ['10m_u_component_of_wind', '10m_v_component_of_wind', \n",
    "                '2m_temperature',\n",
    "                'total_cloud_cover', \n",
    "                'total_precipitation',\n",
    "                '2m_dewpoint_temperature',\n",
    "                ],\n",
    "    \"area\": [location.latitude + 1, \n",
    "             location.longitude - 1, \n",
    "             location.latitude - 1, \n",
    "             location.longitude + 1],  # North, West, South, East. \n",
    "    \"year\": year_range,\n",
    "    \"month\": ['01', '02', '03',\n",
    "           '04', '05', '06',\n",
    "           '07', '08', '09',\n",
    "           '10', '11', '12'],\n",
    "    \"time\": [\"00:00\",\"01:00\",\"02:00\",\"03:00\",\"04:00\",\"05:00\",\n",
    "             \"06:00\",\"07:00\",\"08:00\",\"09:00\",\"10:00\",\"11:00\",\n",
    "             \"12:00\", \"13:00\",\"14:00\",\"15:00\",\"16:00\",\"17:00\",\n",
    "             \"18:00\",\"19:00\",\"20:00\",\"21:00\",\"22:00\",\"23:00\"]\n",
    "    })\n",
    "\n",
    "    # Get the location of the file to download\n",
    "    url = data.location\n",
    "\n",
    "    # Download the file\n",
    "    response = requests.get(url)\n",
    "\n",
    "    # Check if the request was successful\n",
    "    response.raise_for_status()\n",
    "\n",
    "except requests.exceptions.HTTPError as errh:\n",
    "    print (\"HTTP Error:\",errh)\n",
    "except requests.exceptions.ConnectionError as errc:\n",
    "    print (\"Error Connecting:\",errc)\n",
    "except requests.exceptions.Timeout as errt:\n",
    "    print (\"Timeout Error:\",errt)\n",
    "except requests.exceptions.RequestException as err:\n",
    "    print (\"Something went wrong with the request:\",err)\n",
    "\n",
    "else:\n",
    "    # If the request was successful, write the file\n",
    "    filename = 'past_climate.grib'\n",
    "    with open(filename, 'wb') as f:\n",
    "        f.write(response.content)\n",
    "\n",
    "    # Print the location where the file is saved\n",
    "    print(f\"File saved at: {os.path.abspath(filename)}\")"
   ]
  },
  {
   "cell_type": "code",
   "execution_count": 3,
   "metadata": {},
   "outputs": [
    {
     "name": "stderr",
     "output_type": "stream",
     "text": [
      "Ignoring index file 'past_climate.grib.02ccc.idx' older than GRIB file\n",
      "Ignoring index file 'past_climate.grib.02ccc.idx' older than GRIB file\n",
      "Ignoring index file 'past_climate.grib.02ccc.idx' older than GRIB file\n",
      "Ignoring index file 'past_climate.grib.02ccc.idx' older than GRIB file\n",
      "Ignoring index file 'past_climate.grib.02ccc.idx' older than GRIB file\n",
      "Ignoring index file 'past_climate.grib.02ccc.idx' older than GRIB file\n"
     ]
    }
   ],
   "source": [
    "#read the data from the downloaded grib file. Because the variables have different dimensions, we need to read them separately\n",
    "# List of variables to load\n",
    "variables = ['2t','10v','10u','tp','tcc', '2d'] \n",
    "\n",
    "# Dictionary to hold the datasets\n",
    "datasets = {}\n",
    "\n",
    "# Open the GRIB file for each variable using the short name parameter\n",
    "for var in variables:\n",
    "    ds = xr.open_dataset('past_climate.grib', engine='cfgrib', backend_kwargs={'filter_by_keys': {'shortName': var}})\n",
    "    datasets[var] = ds"
   ]
  },
  {
   "cell_type": "code",
   "execution_count": 4,
   "metadata": {},
   "outputs": [],
   "source": [
    "#calculate relative humidity from temperature and dewpoint temperature\n",
    "def rh(dewpoint, temperature):\n",
    "    return 100*(np.exp((17.625*dewpoint)/(243.04+dewpoint))/np.exp((17.625*temperature)/(243.04+temperature)))\n",
    "\n",
    "rh_all = rh(datasets['2d']['d2m']-273.15, datasets['2t']['t2m']-273.15)\n",
    "\n",
    "datasets['rh'] = xr.Dataset({'rh': xr.DataArray(rh_all, coords=datasets['2d']['d2m'].coords, dims=datasets['2d']['d2m'].dims)})"
   ]
  },
  {
   "cell_type": "code",
   "execution_count": 5,
   "metadata": {},
   "outputs": [
    {
     "name": "stdout",
     "output_type": "stream",
     "text": [
      "Calculating precipitation\n",
      "Calculating temperature\n",
      "Calculating relative humidity\n",
      "Calculating winds\n",
      "Calculating total cloud cover\n",
      "Climatology calculated\n"
     ]
    }
   ],
   "source": [
    "#Calculate climatology and perform units conversion. Parallelized the process using dask.\n",
    "\n",
    "# Chunk the data using dask\n",
    "chunksize = 600\n",
    "\n",
    "datasets['tp']['tp'] = datasets['tp']['tp'].chunk({'time': chunksize})\n",
    "datasets['2t']['t2m'] = datasets['2t']['t2m'].chunk({'time': chunksize})\n",
    "datasets['rh']['rh'] = datasets['rh']['rh'].chunk({'time': chunksize}) \n",
    "datasets['10u']['u10'] = datasets['10u']['u10'].chunk({'time': chunksize})\n",
    "datasets['10v']['v10'] = datasets['10v']['v10'].chunk({'time': chunksize})\n",
    "datasets['tcc']['tcc'] = datasets['tcc']['tcc'].chunk({'time': chunksize})\n",
    "\n",
    "with dask.config.set(scheduler='threads'):  \n",
    "\n",
    "    print(\"Calculating precipitation\")\n",
    "    \n",
    "    # Average precipitation. Converting from m per hour to mm per month\n",
    "    days_per_month = [31, 28.25, 31, 30, 31, 30, 31, 31, 30, 31, 30, 31]\n",
    "    avg_prec = datasets['tp']['tp'].groupby('time.month').mean(['time', 'latitude', 'longitude', 'step'])*1000 * 24 * days_per_month\n",
    "    \n",
    "    print(\"Calculating temperature\")\n",
    "\n",
    "    #average temperature. Convert from K to C\n",
    "    mean_spatial_temp = datasets['2t']['t2m'].mean(['latitude', 'longitude'])-273.15\n",
    "    avg_temp = mean_spatial_temp.groupby('time.month').mean(['time'])\n",
    "    mean_spatial_temp['month_year'] = mean_spatial_temp['time'].dt.strftime('%Y-%m')\n",
    "    \n",
    "    #Calculate average max temp\n",
    "    max_monthly_temp = mean_spatial_temp.groupby('month_year').max()\n",
    "    max_monthly_temp['month'] = max_monthly_temp['month_year'].str.slice(start=5, stop=7).astype(int)\n",
    "    mean_max_temp = max_monthly_temp.groupby('month').mean()\n",
    "\n",
    "    #calculate average min temperature\n",
    "    min_monthly_temp = mean_spatial_temp.groupby('month_year').min()\n",
    "    min_monthly_temp['month'] = min_monthly_temp['month_year'].str.slice(start=5, stop=7).astype(int)\n",
    "    mean_min_temp = min_monthly_temp.groupby('month').mean() \n",
    "    \n",
    "    print(\"Calculating relative humidity\")\n",
    "    \n",
    "    #relative humidity\n",
    "    mean_spatial_rh = datasets['rh']['rh'].mean(['latitude', 'longitude'])\n",
    "    avg_rh = mean_spatial_rh.groupby('time.month').mean(['time'])\n",
    "    mean_spatial_rh['month_year'] = mean_spatial_rh['time'].dt.strftime('%Y-%m')\n",
    "    \n",
    "    #calculate average max rh\n",
    "    max_monthly_rh = mean_spatial_rh.groupby('month_year').max()\n",
    "    max_monthly_rh['month'] = max_monthly_rh['month_year'].str.slice(start=5, stop=7).astype(int)\n",
    "    mean_max_rh = max_monthly_rh.groupby('month').mean()\n",
    "    \n",
    "    #calculate average min rh\n",
    "    min_monthly_rh = mean_spatial_rh.groupby('month_year').min()\n",
    "    min_monthly_rh['month'] = min_monthly_rh['month_year'].str.slice(start=5, stop=7).astype(int)\n",
    "    mean_min_rh = min_monthly_rh.groupby('month').mean()\n",
    "    \n",
    "    print(\"Calculating winds\")\n",
    "       \n",
    "    #Average winds\n",
    "    avg_u = datasets['10u']['u10'].groupby('time.month').mean(['latitude', 'longitude'])\n",
    "    avg_v = datasets['10v']['v10'].groupby('time.month').mean(['latitude', 'longitude'])\n",
    "    \n",
    "    print(\"Calculating total cloud cover\")\n",
    "\n",
    "    #Get rid of the latitude and longitude dimensions by averaging the data\n",
    "    avg_tcc_spatial = datasets['tcc']['tcc'].mean(['longitude', 'latitude'])\n",
    "\n",
    "    #Now average the data of each hour of each month across the 30 years of data. We end up with 288 data points, representing 24 h per month\n",
    "    month_hour_grouped = avg_tcc_spatial.groupby(avg_tcc_spatial['time.month'] * 100 + avg_tcc_spatial['time.hour'])\n",
    "    avg_tcc = month_hour_grouped.mean(dim='time')\n",
    "    \n",
    "    print(\"Climatology calculated\")\n",
    " \n",
    "   \n",
    "#Perfom the calcultaions set above and return the results as a pandas dataframe\n",
    "avg_prec = avg_prec.compute()\n",
    "avg_temp = avg_temp.compute()\n",
    "mean_max_temp = mean_max_temp.compute()\n",
    "mean_min_temp = mean_min_temp.compute()\n",
    "avg_rh = avg_rh.compute()\n",
    "mean_max_rh = mean_max_rh.compute()\n",
    "mean_min_rh = mean_min_rh.compute()\n",
    "avg_u = avg_u.compute()\n",
    "avg_v = avg_v.compute()\n",
    "avg_tcc = avg_tcc.compute()"
   ]
  },
  {
   "cell_type": "markdown",
   "metadata": {},
   "source": [
    "## Projected data\n",
    "\n",
    "In this section we download and prepare projected data coming from the [CMIP6 climate projections](https://cds.climate.copernicus.eu/cdsapp#!/dataset/projections-cmip6?tab=overview). \n",
    "\n",
    "You can also select the scenario you want to use. We recommend ssp2_4.5. Of all avialable scenarios it has a balanced Shared Socioeconomic Pathway and 4.5°C warming. Here are all available options:\n",
    "- SSP1-1.9, SSP1-2.6, SSP4-3.4, SSP5-3.4OS, SSP2-4.5, SSP4-6.0, SSP3-7.0, SSP5-8.5\n"
   ]
  },
  {
   "cell_type": "code",
   "execution_count": 6,
   "metadata": {},
   "outputs": [],
   "source": [
    "# select the future years range\n",
    "start_year_forecast = 2016\n",
    "end_year_forecast = 2046\n",
    "year_range_forecast = [str(i) for i in range(start_year_forecast, end_year_forecast + 1)]\n",
    "\n",
    "#select the scenario you want to use for the projections.\n",
    "#We reccomend ssp2_4.5, which is in our opinion a balanced options. \n",
    "# ssp1_1.9 ssp1_2.6 ssp4_3.4, ssp5_3.4os ssp2_4.5 ssp3_7.0 ssp5_8.5\n",
    "#Note that if you choose the ssp4_6.0 parameter you also have to select another model in the API request as EC Earth3 doesnt provide that model. \n",
    "\n",
    "\n",
    "scenario = 'ssp2_4.5'\n",
    "\n",
    "#variables that will be downloaded\n",
    "dataset_variables = ['near_surface_relative_humidity', 'near_surface_air_temperature', 'eastward_near_surface_wind', \n",
    "                     'northward_near_surface_wind', 'precipitation']\n"
   ]
  },
  {
   "cell_type": "code",
   "execution_count": 15,
   "metadata": {},
   "outputs": [
    {
     "name": "stderr",
     "output_type": "stream",
     "text": [
      "2023-12-19 14:42:41,995 INFO Welcome to the CDS\n",
      "2023-12-19 14:42:41,996 INFO Sending request to https://cds.climate.copernicus.eu/api/v2/resources/projections-cmip6\n",
      "2023-12-19 14:42:42,462 INFO Request is queued\n",
      "2023-12-19 14:42:43,519 INFO Request is running\n",
      "2023-12-19 14:55:01,624 INFO Request is completed\n",
      "2023-12-19 14:55:01,641 INFO Downloading https://download-0004-clone.copernicus-climate.eu/cache-compute-0004/cache/data5/adaptor.esgf_wps.retrieve-1702994052.5040371-20583-4-71b0cd58-5e2c-4580-9d1e-3d108a869f23.zip to near_surface_relative_humidity.zip (216.4K)\n",
      "2023-12-19 14:55:03,071 INFO Download rate 151.4K/s\n",
      "2023-12-19 14:55:03,431 INFO Welcome to the CDS\n",
      "2023-12-19 14:55:03,433 INFO Sending request to https://cds.climate.copernicus.eu/api/v2/resources/projections-cmip6\n"
     ]
    },
    {
     "name": "stdout",
     "output_type": "stream",
     "text": [
      "File saved at: /Users/giacomo/Documents/projects/permaculture-climate/near_surface_relative_humidity.zip\n"
     ]
    },
    {
     "name": "stderr",
     "output_type": "stream",
     "text": [
      "2023-12-19 14:55:03,659 INFO Downloading https://download-0007-clone.copernicus-climate.eu/cache-compute-0007/cache/data6/adaptor.esgf_wps.retrieve-1702897804.881354-1204-9-f8c5182f-4783-4f01-bba7-9eef865d6c87.zip to near_surface_air_temperature.zip (234.4K)\n",
      "2023-12-19 14:55:04,392 INFO Download rate 320.1K/s\n",
      "2023-12-19 14:55:04,883 INFO Welcome to the CDS\n",
      "2023-12-19 14:55:04,884 INFO Sending request to https://cds.climate.copernicus.eu/api/v2/resources/projections-cmip6\n"
     ]
    },
    {
     "name": "stdout",
     "output_type": "stream",
     "text": [
      "File saved at: /Users/giacomo/Documents/projects/permaculture-climate/near_surface_air_temperature.zip\n"
     ]
    },
    {
     "name": "stderr",
     "output_type": "stream",
     "text": [
      "2023-12-19 14:55:05,055 INFO Downloading https://download-0012-clone.copernicus-climate.eu/cache-compute-0012/cache/data3/adaptor.esgf_wps.retrieve-1702897907.5961428-30681-7-8bef1012-dd55-45fe-a742-543fa05c89aa.zip to eastward_near_surface_wind.zip (211.7K)\n",
      "2023-12-19 14:55:05,462 INFO Download rate 527.3K/s\n",
      "2023-12-19 14:55:05,868 INFO Welcome to the CDS\n",
      "2023-12-19 14:55:05,869 INFO Sending request to https://cds.climate.copernicus.eu/api/v2/resources/projections-cmip6\n",
      "2023-12-19 14:55:06,004 INFO Downloading https://download-0012-clone.copernicus-climate.eu/cache-compute-0012/cache/data9/adaptor.esgf_wps.retrieve-1702897934.2657735-30738-15-c7c8d945-1bc2-4f0b-8b03-bb02e6e68b64.zip to northward_near_surface_wind.zip (212.6K)\n"
     ]
    },
    {
     "name": "stdout",
     "output_type": "stream",
     "text": [
      "File saved at: /Users/giacomo/Documents/projects/permaculture-climate/eastward_near_surface_wind.zip\n"
     ]
    },
    {
     "name": "stderr",
     "output_type": "stream",
     "text": [
      "2023-12-19 14:55:06,117 INFO Download rate 1.9M/s\n",
      "2023-12-19 14:55:06,523 INFO Welcome to the CDS\n",
      "2023-12-19 14:55:06,524 INFO Sending request to https://cds.climate.copernicus.eu/api/v2/resources/projections-cmip6\n"
     ]
    },
    {
     "name": "stdout",
     "output_type": "stream",
     "text": [
      "File saved at: /Users/giacomo/Documents/projects/permaculture-climate/northward_near_surface_wind.zip\n"
     ]
    },
    {
     "name": "stderr",
     "output_type": "stream",
     "text": [
      "2023-12-19 14:55:06,733 INFO Downloading https://download-0006-clone.copernicus-climate.eu/cache-compute-0006/cache/data4/adaptor.esgf_wps.retrieve-1702897958.7588747-13741-7-57b4e28f-3e98-40c6-917e-126fd8ee3a52.zip to precipitation.zip (211.7K)\n",
      "2023-12-19 14:55:07,140 INFO Download rate 521.3K/s\n"
     ]
    },
    {
     "name": "stdout",
     "output_type": "stream",
     "text": [
      "File saved at: /Users/giacomo/Documents/projects/permaculture-climate/precipitation.zip\n",
      "Downloads completed\n"
     ]
    }
   ],
   "source": [
    "# Send API requests for the prediction data specified in dataset_variables. Each request returns a folder.zip\n",
    "c = cdsapi.Client()\n",
    "\n",
    "for variable in dataset_variables:\n",
    "        #create an if statement, as certain variables also include level, while others dont\n",
    "\n",
    "    data = c.retrieve(\n",
    "        'projections-cmip6',\n",
    "        {\n",
    "            'format': 'zip',\n",
    "            'temporal_resolution': 'monthly',\n",
    "            'variable': variable,\n",
    "            'experiment': scenario,\n",
    "            'model': 'ec_earth3_cc',\n",
    "            'area':[location.latitude + 1, \n",
    "                location.longitude - 1, \n",
    "                location.latitude - 1, \n",
    "                location.longitude + 1],  # North, West, South, East. \n",
    "            'month': [\n",
    "                '01', '02', '03',\n",
    "                '04', '05', '06',\n",
    "                '07', '08', '09',\n",
    "                '10', '11', '12',\n",
    "            ],\n",
    "            'year': year_range_forecast,\n",
    "\n",
    "        },\n",
    "        variable + '.zip')    \n",
    "    #selectt the location of the file to download\n",
    "    url = data.location\n",
    "    # Download the file\n",
    "    response = requests.get(url)\n",
    "    # Check if the request was successful\n",
    "    response.raise_for_status()\n",
    "\n",
    "    # If the request was successful, write the file\n",
    "    filename = variable + '.zip'\n",
    "    with open(filename, 'wb') as f:\n",
    "        f.write(response.content)\n",
    "\n",
    "        # Print the location where the file is saved\n",
    "        print(f\"File saved at: {os.path.abspath(filename)}\")\n",
    "print('Downloads completed')"
   ]
  },
  {
   "cell_type": "code",
   "execution_count": 7,
   "metadata": {},
   "outputs": [
    {
     "name": "stdout",
     "output_type": "stream",
     "text": [
      "Files from air_temperature.zip extracted to: prediction_data/air_temperature\n",
      "Files from eastward_near_surface_wind.zip extracted to: prediction_data/eastward_near_surface_wind\n",
      "Files from near_surface_air_temperature.zip extracted to: prediction_data/near_surface_air_temperature\n",
      "Files from near_surface_relative_humidity.zip extracted to: prediction_data/near_surface_relative_humidity\n",
      "Files from northward_near_surface_wind.zip extracted to: prediction_data/northward_near_surface_wind\n",
      "Files from precipitation.zip extracted to: prediction_data/precipitation\n",
      "Files from relative_humidity.zip extracted to: prediction_data/relative_humidity\n",
      "Extraction complete.\n"
     ]
    }
   ],
   "source": [
    "#extract all zip folders into new folders with the name of the variable they belong to\n",
    "extract_dir = 'prediction_data/'\n",
    "\n",
    "for filename in os.listdir():\n",
    "\n",
    "    if filename.endswith('.zip'):\n",
    "        # Construct the full path to the zip file\n",
    "        zip_file_path = os.path.join(os.getcwd(), filename)\n",
    "\n",
    "        # Get the folder name from the zip file (excluding the '.zip' extension)\n",
    "        folder_name = os.path.splitext(filename)[0]\n",
    "        \n",
    "        # Create a directory with the same name as the zip file within the parent directory\n",
    "        extracted_dir = os.path.join(extract_dir, folder_name)\n",
    "\n",
    "        os.makedirs(extracted_dir, exist_ok=True)\n",
    "\n",
    "        # Open the zip file\n",
    "        with zipfile.ZipFile(zip_file_path, 'r') as zip_ref:\n",
    "            # Extract all the contents to the created directory\n",
    "            zip_ref.extractall(extracted_dir)\n",
    "\n",
    "        print(f\"Files from {filename} extracted to: {extracted_dir}\")\n",
    "\n",
    "print(\"Extraction complete.\")\n"
   ]
  },
  {
   "cell_type": "code",
   "execution_count": 8,
   "metadata": {},
   "outputs": [
    {
     "name": "stdout",
     "output_type": "stream",
     "text": [
      "List of NC file paths:\n",
      "prediction_data/air_temperature\\ta_Amon_CMCC-ESM2_ssp245_r1i1p1f1_gn_20160116-20461216_v20210129.nc\n",
      "prediction_data/eastward_near_surface_wind\\uas_Amon_EC-Earth3-CC_ssp245_r1i1p1f1_gr_20160116-20461216_v20210113.nc\n",
      "prediction_data/near_surface_air_temperature\\tas_Amon_EC-Earth3-CC_ssp245_r1i1p1f1_gr_20160116-20461216_v20210113.nc\n",
      "prediction_data/near_surface_relative_humidity\\hurs_Amon_EC-Earth3-CC_ssp245_r1i1p1f1_gr_20160116-20461216_v20210113.nc\n",
      "prediction_data/northward_near_surface_wind\\vas_Amon_EC-Earth3-CC_ssp245_r1i1p1f1_gr_20160116-20461216_v20210113.nc\n",
      "prediction_data/precipitation\\pr_Amon_EC-Earth3-CC_ssp245_r1i1p1f1_gr_20160116-20461216_v20210113.nc\n",
      "prediction_data/relative_humidity\\hur_Amon_CMCC-ESM2_ssp245_r1i1p1f1_gn_20160116-20461216_v20210129.nc\n"
     ]
    }
   ],
   "source": [
    "\n",
    "# find the paths to each .nc file, as they contain the data we need\n",
    "nc_file_paths = []\n",
    "for folder_name in os.listdir(extract_dir):\n",
    "    folder_path = os.path.join(extract_dir, folder_name)\n",
    "\n",
    "    # Check if it's a directory\n",
    "    if os.path.isdir(folder_path):\n",
    "        # Find NC files within the folder\n",
    "        nc_files = [file for file in os.listdir(folder_path) if file.endswith('.nc')]\n",
    "\n",
    "        # Assuming there is exactly one NC file in each folder\n",
    "        if len(nc_files) == 1:\n",
    "            nc_file_paths.append(os.path.join(folder_path, nc_files[0]))\n",
    "\n",
    "# Print the list of NC file paths\n",
    "print(\"List of NC file paths:\")\n",
    "for nc_path in nc_file_paths:\n",
    "    print(nc_path)"
   ]
  },
  {
   "cell_type": "code",
   "execution_count": 9,
   "metadata": {},
   "outputs": [],
   "source": [
    "#create a dictionary containing all datasets\n",
    "projection_datasets = {}\n",
    "for  path in nc_file_paths:\n",
    "    #get the name of the folder the variable is saved in\n",
    "    folder_path = os.path.dirname(path)\n",
    "    folder_name = os.path.basename(folder_path)\n",
    "    #open the nc file append it to projection_dataset dictionary\n",
    "    proj_ds = xr.open_dataset(path)\n",
    "    projection_datasets[folder_name] = proj_ds"
   ]
  },
  {
   "cell_type": "code",
   "execution_count": 10,
   "metadata": {},
   "outputs": [],
   "source": [
    "#calculate and convert different variables. no parallelisation needed here as the dataset is much smaller.\n",
    "\n",
    "#Convert the values from kg * m^-2 * s^-1 to mm \n",
    "proj_avg_prec = projection_datasets['precipitation']['pr'].groupby('time.month').mean(['time', 'lat', 'lon'])*2592000 \n",
    "\n",
    "#calculate average temperature. Convert from K to C\n",
    "proj_avg_temp = projection_datasets['near_surface_air_temperature']['tas'].groupby('time.month').mean(['time', 'lat', 'lon'])-273.15\n",
    "\n",
    "#Same operation but for relative humidity.\n",
    "proj_avg_hum = projection_datasets['near_surface_relative_humidity']['hurs'].groupby('time.month').mean(['time', 'lat', 'lon'])\n",
    "\n",
    "#calculate average wind speeds\n",
    "proj_avg_u = projection_datasets['eastward_near_surface_wind']['uas'].groupby('time.month').mean(['time', 'lat', 'lon'])\n",
    "proj_avg_v = projection_datasets['northward_near_surface_wind']['vas'].groupby('time.month').mean(['time', 'lat', 'lon'])"
   ]
  },
  {
   "cell_type": "markdown",
   "metadata": {},
   "source": [
    "# Graphical representations \n",
    "In this section we will present both past and projected data.\n",
    "Before that we have a small presentational text with general information on the selected location."
   ]
  },
  {
   "cell_type": "code",
   "execution_count": 79,
   "metadata": {},
   "outputs": [
    {
     "name": "stdout",
     "output_type": "stream",
     "text": [
      "447.96759563684464\n"
     ]
    }
   ],
   "source": [
    "# Text preparations:\n",
    "\n",
    "#Get altitude of the selected location using open elevation API\n",
    "url = f'https://api.open-elevation.com/api/v1/lookup?locations={location.latitude},{location.longitude}'\n",
    "response = requests.get(url)\n",
    "data = response.json()\n",
    "elevation = data['results'][0]['elevation']\n",
    "\n",
    "\n",
    "\n",
    "# Temperature data:\n",
    "\n",
    "\n",
    "months = [\n",
    "    \"January\", \"February\", \"March\", \"April\",\n",
    "    \"May\", \"June\", \"July\", \"August\",\n",
    "    \"September\", \"October\", \"November\", \"December\"\n",
    "]\n",
    "min_index = np.argmin(avg_temp.values)\n",
    "max_index = np.argmax(avg_temp.values)\n",
    "\n",
    "\n"
   ]
  },
  {
   "cell_type": "code",
   "execution_count": 85,
   "metadata": {},
   "outputs": [
    {
     "name": "stdout",
     "output_type": "stream",
     "text": [
      "\n",
      "    Puebla de don Fadrique, Spain, is located at an altitude of 1159 m.\n",
      "    The lowest temperature is reached in January and is on average 6 °C.     \n",
      "    Maximum temperatures are reached in July and are on average 25 °C.\n",
      "    On average, 447 mm of rain occour every year, \n",
      "    with March beeing the wettest and July the driest month.\n",
      "    \n"
     ]
    }
   ],
   "source": [
    "#Generated text: \n",
    "print(f\"\"\"\n",
    "    {location_name}, is located at an altitude of {int(elevation)} m.\n",
    "    The lowest temperature is reached in {months[np.argmin(avg_temp.values)]} and is on average {int(min(avg_temp.values))} °C.     \n",
    "    Maximum temperatures are reached in {months[max_index]} and are on average {int(max(avg_temp.values))} °C.\n",
    "    On average, {int(sum(avg_prec.values))} mm of rain occour every year, \n",
    "    with {months[np.argmax(avg_prec.values)]} beeing the wettest and {months[np.argmin(avg_prec.values)]} the driest month.\n",
    "    \"\"\")\n"
   ]
  },
  {
   "cell_type": "markdown",
   "metadata": {},
   "source": [
    "### Rainfall and temperatures"
   ]
  },
  {
   "cell_type": "code",
   "execution_count": 14,
   "metadata": {},
   "outputs": [
    {
     "data": {
      "application/vnd.plotly.v1+json": {
       "config": {
        "plotlyServerURL": "https://plot.ly"
       },
       "data": [
        {
         "hovertemplate": "%{x}: %{y:.0f} mm <extra></extra>",
         "marker": {
          "color": "blue"
         },
         "name": "Precipitation",
         "opacity": 0.5,
         "type": "bar",
         "x": [
          1,
          2,
          3,
          4,
          5,
          6,
          7,
          8,
          9,
          10,
          11,
          12
         ],
         "y": [
          41.043423533439636,
          39.54525765776634,
          50.753743171691895,
          47.587223052978516,
          40.54928135871887,
          18.013150691986084,
          7.7911039888858795,
          19.978249609470367,
          40.3814971446991,
          46.61958968639374,
          47.995054721832275,
          47.710021018981934
         ]
        },
        {
         "hovertemplate": "%{x}: %{y:.0f} mm <extra></extra>",
         "marker": {
          "color": "cyan"
         },
         "name": "Projected precipitation",
         "type": "bar",
         "x": [
          1,
          2,
          3,
          4,
          5,
          6,
          7,
          8,
          9,
          10,
          11,
          12
         ],
         "y": [
          36.53373694396578,
          32.14853894314729,
          37.988959229551256,
          44.9576101382263,
          50.546002050396055,
          28.650363703491166,
          9.868383407592773,
          9.838609315920621,
          19.142810226185247,
          39.59919774206355,
          33.03494170540944,
          37.903908581938595
         ]
        },
        {
         "hovertemplate": "%{x}: %{y:.0f} °C <extra></extra>",
         "line": {
          "color": "red"
         },
         "mode": "lines",
         "name": "Temperature",
         "type": "scatter",
         "x": [
          1,
          2,
          3,
          4,
          5,
          6,
          7,
          8,
          9,
          10,
          11,
          12
         ],
         "xaxis": "x",
         "y": [
          6.963710308074951,
          8.260364532470703,
          10.694050788879395,
          13.134116172790527,
          17.231101989746094,
          21.952239990234375,
          25.360811233520508,
          25.128192901611328,
          20.70734977722168,
          16.206539154052734,
          10.707226753234863,
          7.98537540435791
         ],
         "yaxis": "y2"
        },
        {
         "hovertemplate": "%{x}: %{y:.0f} °C <extra></extra>",
         "line": {
          "color": "orange"
         },
         "mode": "lines",
         "name": "Projected temperature",
         "type": "scatter",
         "x": [
          1,
          2,
          3,
          4,
          5,
          6,
          7,
          8,
          9,
          10,
          11,
          12
         ],
         "xaxis": "x",
         "y": [
          4.772979736328125,
          6.5419921875,
          9.753387451171875,
          13.176361083984375,
          16.509124755859375,
          22.744232177734375,
          28.54150390625,
          28.287689208984375,
          23.29541015625,
          16.30169677734375,
          9.899749755859375,
          6.342559814453125
         ],
         "yaxis": "y2"
        }
       ],
       "layout": {
        "annotations": [
         {
          "align": "left",
          "bordercolor": "black",
          "borderpad": 7,
          "borderwidth": 0.5,
          "font": {
           "color": "black",
           "size": 12
          },
          "showarrow": false,
          "text": "This figure shows the average temperature for each month complemented by the average temperature range per month. \n                   <br> Meaning: the top line shows the average maximum temperature of each month. Same goes for the bottom line. \n                   <br> Keep in mind that this is an average, maximum temperature can be outside of the shown range.\n                    <br> When the range reaches 0 or below, a blue line highlights the freezing temperature.\n                    ",
          "x": 0.5,
          "xref": "paper",
          "y": -0.75,
          "yref": "paper"
         }
        ],
        "margin": {
         "b": 155
        },
        "template": {
         "data": {
          "bar": [
           {
            "error_x": {
             "color": "rgb(36,36,36)"
            },
            "error_y": {
             "color": "rgb(36,36,36)"
            },
            "marker": {
             "line": {
              "color": "white",
              "width": 0.5
             },
             "pattern": {
              "fillmode": "overlay",
              "size": 10,
              "solidity": 0.2
             }
            },
            "type": "bar"
           }
          ],
          "barpolar": [
           {
            "marker": {
             "line": {
              "color": "white",
              "width": 0.5
             },
             "pattern": {
              "fillmode": "overlay",
              "size": 10,
              "solidity": 0.2
             }
            },
            "type": "barpolar"
           }
          ],
          "carpet": [
           {
            "aaxis": {
             "endlinecolor": "rgb(36,36,36)",
             "gridcolor": "white",
             "linecolor": "white",
             "minorgridcolor": "white",
             "startlinecolor": "rgb(36,36,36)"
            },
            "baxis": {
             "endlinecolor": "rgb(36,36,36)",
             "gridcolor": "white",
             "linecolor": "white",
             "minorgridcolor": "white",
             "startlinecolor": "rgb(36,36,36)"
            },
            "type": "carpet"
           }
          ],
          "choropleth": [
           {
            "colorbar": {
             "outlinewidth": 1,
             "tickcolor": "rgb(36,36,36)",
             "ticks": "outside"
            },
            "type": "choropleth"
           }
          ],
          "contour": [
           {
            "colorbar": {
             "outlinewidth": 1,
             "tickcolor": "rgb(36,36,36)",
             "ticks": "outside"
            },
            "colorscale": [
             [
              0,
              "#440154"
             ],
             [
              0.1111111111111111,
              "#482878"
             ],
             [
              0.2222222222222222,
              "#3e4989"
             ],
             [
              0.3333333333333333,
              "#31688e"
             ],
             [
              0.4444444444444444,
              "#26828e"
             ],
             [
              0.5555555555555556,
              "#1f9e89"
             ],
             [
              0.6666666666666666,
              "#35b779"
             ],
             [
              0.7777777777777778,
              "#6ece58"
             ],
             [
              0.8888888888888888,
              "#b5de2b"
             ],
             [
              1,
              "#fde725"
             ]
            ],
            "type": "contour"
           }
          ],
          "contourcarpet": [
           {
            "colorbar": {
             "outlinewidth": 1,
             "tickcolor": "rgb(36,36,36)",
             "ticks": "outside"
            },
            "type": "contourcarpet"
           }
          ],
          "heatmap": [
           {
            "colorbar": {
             "outlinewidth": 1,
             "tickcolor": "rgb(36,36,36)",
             "ticks": "outside"
            },
            "colorscale": [
             [
              0,
              "#440154"
             ],
             [
              0.1111111111111111,
              "#482878"
             ],
             [
              0.2222222222222222,
              "#3e4989"
             ],
             [
              0.3333333333333333,
              "#31688e"
             ],
             [
              0.4444444444444444,
              "#26828e"
             ],
             [
              0.5555555555555556,
              "#1f9e89"
             ],
             [
              0.6666666666666666,
              "#35b779"
             ],
             [
              0.7777777777777778,
              "#6ece58"
             ],
             [
              0.8888888888888888,
              "#b5de2b"
             ],
             [
              1,
              "#fde725"
             ]
            ],
            "type": "heatmap"
           }
          ],
          "heatmapgl": [
           {
            "colorbar": {
             "outlinewidth": 1,
             "tickcolor": "rgb(36,36,36)",
             "ticks": "outside"
            },
            "colorscale": [
             [
              0,
              "#440154"
             ],
             [
              0.1111111111111111,
              "#482878"
             ],
             [
              0.2222222222222222,
              "#3e4989"
             ],
             [
              0.3333333333333333,
              "#31688e"
             ],
             [
              0.4444444444444444,
              "#26828e"
             ],
             [
              0.5555555555555556,
              "#1f9e89"
             ],
             [
              0.6666666666666666,
              "#35b779"
             ],
             [
              0.7777777777777778,
              "#6ece58"
             ],
             [
              0.8888888888888888,
              "#b5de2b"
             ],
             [
              1,
              "#fde725"
             ]
            ],
            "type": "heatmapgl"
           }
          ],
          "histogram": [
           {
            "marker": {
             "line": {
              "color": "white",
              "width": 0.6
             }
            },
            "type": "histogram"
           }
          ],
          "histogram2d": [
           {
            "colorbar": {
             "outlinewidth": 1,
             "tickcolor": "rgb(36,36,36)",
             "ticks": "outside"
            },
            "colorscale": [
             [
              0,
              "#440154"
             ],
             [
              0.1111111111111111,
              "#482878"
             ],
             [
              0.2222222222222222,
              "#3e4989"
             ],
             [
              0.3333333333333333,
              "#31688e"
             ],
             [
              0.4444444444444444,
              "#26828e"
             ],
             [
              0.5555555555555556,
              "#1f9e89"
             ],
             [
              0.6666666666666666,
              "#35b779"
             ],
             [
              0.7777777777777778,
              "#6ece58"
             ],
             [
              0.8888888888888888,
              "#b5de2b"
             ],
             [
              1,
              "#fde725"
             ]
            ],
            "type": "histogram2d"
           }
          ],
          "histogram2dcontour": [
           {
            "colorbar": {
             "outlinewidth": 1,
             "tickcolor": "rgb(36,36,36)",
             "ticks": "outside"
            },
            "colorscale": [
             [
              0,
              "#440154"
             ],
             [
              0.1111111111111111,
              "#482878"
             ],
             [
              0.2222222222222222,
              "#3e4989"
             ],
             [
              0.3333333333333333,
              "#31688e"
             ],
             [
              0.4444444444444444,
              "#26828e"
             ],
             [
              0.5555555555555556,
              "#1f9e89"
             ],
             [
              0.6666666666666666,
              "#35b779"
             ],
             [
              0.7777777777777778,
              "#6ece58"
             ],
             [
              0.8888888888888888,
              "#b5de2b"
             ],
             [
              1,
              "#fde725"
             ]
            ],
            "type": "histogram2dcontour"
           }
          ],
          "mesh3d": [
           {
            "colorbar": {
             "outlinewidth": 1,
             "tickcolor": "rgb(36,36,36)",
             "ticks": "outside"
            },
            "type": "mesh3d"
           }
          ],
          "parcoords": [
           {
            "line": {
             "colorbar": {
              "outlinewidth": 1,
              "tickcolor": "rgb(36,36,36)",
              "ticks": "outside"
             }
            },
            "type": "parcoords"
           }
          ],
          "pie": [
           {
            "automargin": true,
            "type": "pie"
           }
          ],
          "scatter": [
           {
            "fillpattern": {
             "fillmode": "overlay",
             "size": 10,
             "solidity": 0.2
            },
            "type": "scatter"
           }
          ],
          "scatter3d": [
           {
            "line": {
             "colorbar": {
              "outlinewidth": 1,
              "tickcolor": "rgb(36,36,36)",
              "ticks": "outside"
             }
            },
            "marker": {
             "colorbar": {
              "outlinewidth": 1,
              "tickcolor": "rgb(36,36,36)",
              "ticks": "outside"
             }
            },
            "type": "scatter3d"
           }
          ],
          "scattercarpet": [
           {
            "marker": {
             "colorbar": {
              "outlinewidth": 1,
              "tickcolor": "rgb(36,36,36)",
              "ticks": "outside"
             }
            },
            "type": "scattercarpet"
           }
          ],
          "scattergeo": [
           {
            "marker": {
             "colorbar": {
              "outlinewidth": 1,
              "tickcolor": "rgb(36,36,36)",
              "ticks": "outside"
             }
            },
            "type": "scattergeo"
           }
          ],
          "scattergl": [
           {
            "marker": {
             "colorbar": {
              "outlinewidth": 1,
              "tickcolor": "rgb(36,36,36)",
              "ticks": "outside"
             }
            },
            "type": "scattergl"
           }
          ],
          "scattermapbox": [
           {
            "marker": {
             "colorbar": {
              "outlinewidth": 1,
              "tickcolor": "rgb(36,36,36)",
              "ticks": "outside"
             }
            },
            "type": "scattermapbox"
           }
          ],
          "scatterpolar": [
           {
            "marker": {
             "colorbar": {
              "outlinewidth": 1,
              "tickcolor": "rgb(36,36,36)",
              "ticks": "outside"
             }
            },
            "type": "scatterpolar"
           }
          ],
          "scatterpolargl": [
           {
            "marker": {
             "colorbar": {
              "outlinewidth": 1,
              "tickcolor": "rgb(36,36,36)",
              "ticks": "outside"
             }
            },
            "type": "scatterpolargl"
           }
          ],
          "scatterternary": [
           {
            "marker": {
             "colorbar": {
              "outlinewidth": 1,
              "tickcolor": "rgb(36,36,36)",
              "ticks": "outside"
             }
            },
            "type": "scatterternary"
           }
          ],
          "surface": [
           {
            "colorbar": {
             "outlinewidth": 1,
             "tickcolor": "rgb(36,36,36)",
             "ticks": "outside"
            },
            "colorscale": [
             [
              0,
              "#440154"
             ],
             [
              0.1111111111111111,
              "#482878"
             ],
             [
              0.2222222222222222,
              "#3e4989"
             ],
             [
              0.3333333333333333,
              "#31688e"
             ],
             [
              0.4444444444444444,
              "#26828e"
             ],
             [
              0.5555555555555556,
              "#1f9e89"
             ],
             [
              0.6666666666666666,
              "#35b779"
             ],
             [
              0.7777777777777778,
              "#6ece58"
             ],
             [
              0.8888888888888888,
              "#b5de2b"
             ],
             [
              1,
              "#fde725"
             ]
            ],
            "type": "surface"
           }
          ],
          "table": [
           {
            "cells": {
             "fill": {
              "color": "rgb(237,237,237)"
             },
             "line": {
              "color": "white"
             }
            },
            "header": {
             "fill": {
              "color": "rgb(217,217,217)"
             },
             "line": {
              "color": "white"
             }
            },
            "type": "table"
           }
          ]
         },
         "layout": {
          "annotationdefaults": {
           "arrowhead": 0,
           "arrowwidth": 1
          },
          "autotypenumbers": "strict",
          "coloraxis": {
           "colorbar": {
            "outlinewidth": 1,
            "tickcolor": "rgb(36,36,36)",
            "ticks": "outside"
           }
          },
          "colorscale": {
           "diverging": [
            [
             0,
             "rgb(103,0,31)"
            ],
            [
             0.1,
             "rgb(178,24,43)"
            ],
            [
             0.2,
             "rgb(214,96,77)"
            ],
            [
             0.3,
             "rgb(244,165,130)"
            ],
            [
             0.4,
             "rgb(253,219,199)"
            ],
            [
             0.5,
             "rgb(247,247,247)"
            ],
            [
             0.6,
             "rgb(209,229,240)"
            ],
            [
             0.7,
             "rgb(146,197,222)"
            ],
            [
             0.8,
             "rgb(67,147,195)"
            ],
            [
             0.9,
             "rgb(33,102,172)"
            ],
            [
             1,
             "rgb(5,48,97)"
            ]
           ],
           "sequential": [
            [
             0,
             "#440154"
            ],
            [
             0.1111111111111111,
             "#482878"
            ],
            [
             0.2222222222222222,
             "#3e4989"
            ],
            [
             0.3333333333333333,
             "#31688e"
            ],
            [
             0.4444444444444444,
             "#26828e"
            ],
            [
             0.5555555555555556,
             "#1f9e89"
            ],
            [
             0.6666666666666666,
             "#35b779"
            ],
            [
             0.7777777777777778,
             "#6ece58"
            ],
            [
             0.8888888888888888,
             "#b5de2b"
            ],
            [
             1,
             "#fde725"
            ]
           ],
           "sequentialminus": [
            [
             0,
             "#440154"
            ],
            [
             0.1111111111111111,
             "#482878"
            ],
            [
             0.2222222222222222,
             "#3e4989"
            ],
            [
             0.3333333333333333,
             "#31688e"
            ],
            [
             0.4444444444444444,
             "#26828e"
            ],
            [
             0.5555555555555556,
             "#1f9e89"
            ],
            [
             0.6666666666666666,
             "#35b779"
            ],
            [
             0.7777777777777778,
             "#6ece58"
            ],
            [
             0.8888888888888888,
             "#b5de2b"
            ],
            [
             1,
             "#fde725"
            ]
           ]
          },
          "colorway": [
           "#1F77B4",
           "#FF7F0E",
           "#2CA02C",
           "#D62728",
           "#9467BD",
           "#8C564B",
           "#E377C2",
           "#7F7F7F",
           "#BCBD22",
           "#17BECF"
          ],
          "font": {
           "color": "rgb(36,36,36)"
          },
          "geo": {
           "bgcolor": "white",
           "lakecolor": "white",
           "landcolor": "white",
           "showlakes": true,
           "showland": true,
           "subunitcolor": "white"
          },
          "hoverlabel": {
           "align": "left"
          },
          "hovermode": "closest",
          "mapbox": {
           "style": "light"
          },
          "paper_bgcolor": "white",
          "plot_bgcolor": "white",
          "polar": {
           "angularaxis": {
            "gridcolor": "rgb(232,232,232)",
            "linecolor": "rgb(36,36,36)",
            "showgrid": false,
            "showline": true,
            "ticks": "outside"
           },
           "bgcolor": "white",
           "radialaxis": {
            "gridcolor": "rgb(232,232,232)",
            "linecolor": "rgb(36,36,36)",
            "showgrid": false,
            "showline": true,
            "ticks": "outside"
           }
          },
          "scene": {
           "xaxis": {
            "backgroundcolor": "white",
            "gridcolor": "rgb(232,232,232)",
            "gridwidth": 2,
            "linecolor": "rgb(36,36,36)",
            "showbackground": true,
            "showgrid": false,
            "showline": true,
            "ticks": "outside",
            "zeroline": false,
            "zerolinecolor": "rgb(36,36,36)"
           },
           "yaxis": {
            "backgroundcolor": "white",
            "gridcolor": "rgb(232,232,232)",
            "gridwidth": 2,
            "linecolor": "rgb(36,36,36)",
            "showbackground": true,
            "showgrid": false,
            "showline": true,
            "ticks": "outside",
            "zeroline": false,
            "zerolinecolor": "rgb(36,36,36)"
           },
           "zaxis": {
            "backgroundcolor": "white",
            "gridcolor": "rgb(232,232,232)",
            "gridwidth": 2,
            "linecolor": "rgb(36,36,36)",
            "showbackground": true,
            "showgrid": false,
            "showline": true,
            "ticks": "outside",
            "zeroline": false,
            "zerolinecolor": "rgb(36,36,36)"
           }
          },
          "shapedefaults": {
           "fillcolor": "black",
           "line": {
            "width": 0
           },
           "opacity": 0.3
          },
          "ternary": {
           "aaxis": {
            "gridcolor": "rgb(232,232,232)",
            "linecolor": "rgb(36,36,36)",
            "showgrid": false,
            "showline": true,
            "ticks": "outside"
           },
           "baxis": {
            "gridcolor": "rgb(232,232,232)",
            "linecolor": "rgb(36,36,36)",
            "showgrid": false,
            "showline": true,
            "ticks": "outside"
           },
           "bgcolor": "white",
           "caxis": {
            "gridcolor": "rgb(232,232,232)",
            "linecolor": "rgb(36,36,36)",
            "showgrid": false,
            "showline": true,
            "ticks": "outside"
           }
          },
          "title": {
           "x": 0.05
          },
          "xaxis": {
           "automargin": true,
           "gridcolor": "rgb(232,232,232)",
           "linecolor": "rgb(36,36,36)",
           "showgrid": false,
           "showline": true,
           "ticks": "outside",
           "title": {
            "standoff": 15
           },
           "zeroline": false,
           "zerolinecolor": "rgb(36,36,36)"
          },
          "yaxis": {
           "automargin": true,
           "gridcolor": "rgb(232,232,232)",
           "linecolor": "rgb(36,36,36)",
           "showgrid": false,
           "showline": true,
           "ticks": "outside",
           "title": {
            "standoff": 15
           },
           "zeroline": false,
           "zerolinecolor": "rgb(36,36,36)"
          }
         }
        },
        "title": {
         "text": "Average projected temperature and precipitation"
        },
        "xaxis": {
         "anchor": "y",
         "domain": [
          0,
          0.94
         ],
         "tickangle": -45,
         "tickmode": "array",
         "ticktext": [
          "Jan",
          "Feb",
          "Mar",
          "Apr",
          "May",
          "Jun",
          "Jul",
          "Aug",
          "Sep",
          "Oct",
          "Nov",
          "Dec"
         ],
         "tickvals": [
          1,
          2,
          3,
          4,
          5,
          6,
          7,
          8,
          9,
          10,
          11,
          12
         ],
         "title": {
          "text": "Month"
         }
        },
        "yaxis": {
         "anchor": "x",
         "domain": [
          0,
          1
         ],
         "title": {
          "text": "Precipitation (mm)"
         }
        },
        "yaxis2": {
         "anchor": "x",
         "overlaying": "y",
         "side": "right",
         "title": {
          "text": "Temperature (°C)"
         }
        }
       }
      }
     },
     "metadata": {},
     "output_type": "display_data"
    }
   ],
   "source": [
    "# Create a subplot with shared x-axis\n",
    "fig = make_subplots(specs=[[{\"secondary_y\": True}]])\n",
    "\n",
    "# Add a bar chart for precipitation and projected precipitation to the secondary y-axis\n",
    "bar_prec = go.Bar(x=avg_prec.month, \n",
    "                  y=avg_prec, \n",
    "                  name='Precipitation', \n",
    "                  opacity=0.5, \n",
    "                  marker_color = 'blue', \n",
    "                  hovertemplate=('%{x}: %{y:.0f} mm <extra></extra>')\n",
    "                  )\n",
    "\n",
    "bar_prec_projected = go.Bar(x=proj_avg_prec.month, \n",
    "                            y=proj_avg_prec, \n",
    "                            name='Projected precipitation', \n",
    "                            marker_color = 'cyan',\n",
    "                            hovertemplate=('%{x}: %{y:.0f} mm <extra></extra>')\n",
    "                            )\n",
    "\n",
    "fig.add_trace(bar_prec)\n",
    "fig.add_trace(bar_prec_projected)\n",
    "\n",
    "# Add a line chart for temperature to the primary y-axis\n",
    "fig.add_trace(go.Scatter(x=avg_temp.month, \n",
    "                         y=avg_temp, \n",
    "                         mode='lines', \n",
    "                         name='Temperature', \n",
    "                         line_color = 'red', \n",
    "                         hovertemplate=('%{x}: %{y:.0f} °C <extra></extra>')\n",
    "                         ),\n",
    "                secondary_y=True\n",
    "                )\n",
    "\n",
    "# Add a line chart for projected temperature\n",
    "fig.add_trace(go.Scatter(x=proj_avg_temp.month, \n",
    "                         y=proj_avg_temp, \n",
    "                         mode='lines', \n",
    "                         name='Projected temperature', \n",
    "                         line_color='orange',\n",
    "                         hovertemplate=('%{x}: %{y:.0f} °C <extra></extra>')\n",
    "                         ),   \n",
    "            secondary_y=True,\n",
    "            )\n",
    "\n",
    "# Set the layout to have two y-axes\n",
    "fig.update_layout(title='Average projected temperature and precipitation',\n",
    "                  yaxis=dict(title='Precipitation (mm)'),\n",
    "                  yaxis2=dict(title='Temperature (°C)', overlaying='y', side='right'),\n",
    "                  xaxis=dict(title='Month',\n",
    "                             tickmode='array',\n",
    "                             tickvals=avg_temp.month,\n",
    "                             ticktext=['Jan', 'Feb', 'Mar', 'Apr', 'May', 'Jun', 'Jul', 'Aug', 'Sep', 'Oct', 'Nov', 'Dec'],\n",
    "                             tickangle=-45\n",
    "                             ),\n",
    "                    template='simple_white',\n",
    "                    )\n",
    "# Add a text on the bottom of the figure\n",
    "fig.add_annotation(text=\"\"\"This figure shows the average temperature for each month complemented by the average temperature range per month. \n",
    "                   <br> Meaning: the top line shows the average maximum temperature of each month. Same goes for the bottom line. \n",
    "                   <br> Keep in mind that this is an average, maximum temperature can be outside of the shown range.\n",
    "                    <br> When the range reaches 0 or below, a blue line highlights the freezing temperature.\n",
    "                    \"\"\",\n",
    "                    xref='paper', yref='paper',\n",
    "                    x=0.5, y=-0.75,  # Adjust this value to position the text below the x-axis legend\n",
    "                    showarrow=False,\n",
    "                    align='left',  # Set align to 'left'\n",
    "                    font=dict(size=12, color='black'),\n",
    "                    bordercolor='black',  # Set border color\n",
    "                    borderwidth=0.5,  # Set border width\n",
    "                    borderpad=7,  # Set border padding \n",
    "                    )\n",
    "\n",
    "# Adjust the bottom margin to create more space below the figure\n",
    "fig.update_layout(margin=dict(b=155))\n",
    "\n",
    "# Show the figure\n",
    "fig.show()"
   ]
  },
  {
   "cell_type": "markdown",
   "metadata": {},
   "source": [
    "The blue bars show the total rainfall in mm averaged for each month.    \n",
    "The orange line shows the average temperature in °C per month. "
   ]
  },
  {
   "cell_type": "markdown",
   "metadata": {},
   "source": [
    "#### Agerage monthly temperature range"
   ]
  },
  {
   "cell_type": "code",
   "execution_count": 77,
   "metadata": {},
   "outputs": [
    {
     "data": {
      "application/vnd.plotly.v1+json": {
       "config": {
        "plotlyServerURL": "https://plot.ly"
       },
       "data": [
        {
         "hovertemplate": "%{x}: %{y:.0f} °C <extra></extra>",
         "line": {
          "color": "orange"
         },
         "mode": "lines",
         "name": "Average temperature",
         "type": "scatter",
         "x": [
          1,
          2,
          3,
          4,
          5,
          6,
          7,
          8,
          9,
          10,
          11,
          12
         ],
         "y": [
          6.963710308074951,
          8.260364532470703,
          10.694050788879395,
          13.134116172790527,
          17.231101989746094,
          21.952239990234375,
          25.360811233520508,
          25.128192901611328,
          20.70734977722168,
          16.206539154052734,
          10.707226753234863,
          7.98537540435791
         ]
        },
        {
         "hovertemplate": "%{x}: %{y:.0f} °C <extra></extra>",
         "line": {
          "color": "red"
         },
         "mode": "lines",
         "name": "Average range per month",
         "type": "scatter",
         "x": [
          1,
          2,
          3,
          4,
          5,
          6,
          7,
          8,
          9,
          10,
          11,
          12
         ],
         "y": [
          11.531964302062988,
          12.972404479980469,
          15.461414337158203,
          17.774635314941406,
          22.07737922668457,
          27.230939865112305,
          31.093416213989258,
          30.76936912536621,
          25.81180763244629,
          21.077733993530273,
          15.115578651428223,
          12.35778522491455
         ]
        },
        {
         "fill": "tonexty",
         "fillcolor": "rgba(255, 0, 0, 0.1)",
         "hovertemplate": "%{x}: %{y:.0f} °C <extra></extra>",
         "line": {
          "color": "red"
         },
         "mode": "lines",
         "name": "Min temperature",
         "showlegend": false,
         "type": "scatter",
         "x": [
          1,
          2,
          3,
          4,
          5,
          6,
          7,
          8,
          9,
          10,
          11,
          12
         ],
         "y": [
          3.80653715133667,
          4.47635555267334,
          6.305875778198242,
          8.498559951782227,
          12.142518997192383,
          16.25482940673828,
          19.165176391601562,
          19.237445831298828,
          15.744379043579102,
          12.054411888122559,
          7.432490348815918,
          5.076562881469727
         ]
        }
       ],
       "layout": {
        "annotations": [
         {
          "align": "left",
          "font": {
           "color": "black",
           "size": 12
          },
          "showarrow": false,
          "text": "This figure shows the average temperature for each month complemented by the average temperature range per month. \n                   <br> Meaning: the top line shows the average maximum temperature of each month, the bottom line the averaged minima.\n                    <br> Keep in mind that these are averaged values, maximum temperature can be outside of the shown range.\n                    <br> When the range reaches 0 or below, a blue line highlights the freezing temperature.\n                    ",
          "x": 0.5,
          "xref": "paper",
          "y": -0.7,
          "yref": "paper"
         }
        ],
        "margin": {
         "b": 150
        },
        "template": {
         "data": {
          "bar": [
           {
            "error_x": {
             "color": "rgb(36,36,36)"
            },
            "error_y": {
             "color": "rgb(36,36,36)"
            },
            "marker": {
             "line": {
              "color": "white",
              "width": 0.5
             },
             "pattern": {
              "fillmode": "overlay",
              "size": 10,
              "solidity": 0.2
             }
            },
            "type": "bar"
           }
          ],
          "barpolar": [
           {
            "marker": {
             "line": {
              "color": "white",
              "width": 0.5
             },
             "pattern": {
              "fillmode": "overlay",
              "size": 10,
              "solidity": 0.2
             }
            },
            "type": "barpolar"
           }
          ],
          "carpet": [
           {
            "aaxis": {
             "endlinecolor": "rgb(36,36,36)",
             "gridcolor": "white",
             "linecolor": "white",
             "minorgridcolor": "white",
             "startlinecolor": "rgb(36,36,36)"
            },
            "baxis": {
             "endlinecolor": "rgb(36,36,36)",
             "gridcolor": "white",
             "linecolor": "white",
             "minorgridcolor": "white",
             "startlinecolor": "rgb(36,36,36)"
            },
            "type": "carpet"
           }
          ],
          "choropleth": [
           {
            "colorbar": {
             "outlinewidth": 1,
             "tickcolor": "rgb(36,36,36)",
             "ticks": "outside"
            },
            "type": "choropleth"
           }
          ],
          "contour": [
           {
            "colorbar": {
             "outlinewidth": 1,
             "tickcolor": "rgb(36,36,36)",
             "ticks": "outside"
            },
            "colorscale": [
             [
              0,
              "#440154"
             ],
             [
              0.1111111111111111,
              "#482878"
             ],
             [
              0.2222222222222222,
              "#3e4989"
             ],
             [
              0.3333333333333333,
              "#31688e"
             ],
             [
              0.4444444444444444,
              "#26828e"
             ],
             [
              0.5555555555555556,
              "#1f9e89"
             ],
             [
              0.6666666666666666,
              "#35b779"
             ],
             [
              0.7777777777777778,
              "#6ece58"
             ],
             [
              0.8888888888888888,
              "#b5de2b"
             ],
             [
              1,
              "#fde725"
             ]
            ],
            "type": "contour"
           }
          ],
          "contourcarpet": [
           {
            "colorbar": {
             "outlinewidth": 1,
             "tickcolor": "rgb(36,36,36)",
             "ticks": "outside"
            },
            "type": "contourcarpet"
           }
          ],
          "heatmap": [
           {
            "colorbar": {
             "outlinewidth": 1,
             "tickcolor": "rgb(36,36,36)",
             "ticks": "outside"
            },
            "colorscale": [
             [
              0,
              "#440154"
             ],
             [
              0.1111111111111111,
              "#482878"
             ],
             [
              0.2222222222222222,
              "#3e4989"
             ],
             [
              0.3333333333333333,
              "#31688e"
             ],
             [
              0.4444444444444444,
              "#26828e"
             ],
             [
              0.5555555555555556,
              "#1f9e89"
             ],
             [
              0.6666666666666666,
              "#35b779"
             ],
             [
              0.7777777777777778,
              "#6ece58"
             ],
             [
              0.8888888888888888,
              "#b5de2b"
             ],
             [
              1,
              "#fde725"
             ]
            ],
            "type": "heatmap"
           }
          ],
          "heatmapgl": [
           {
            "colorbar": {
             "outlinewidth": 1,
             "tickcolor": "rgb(36,36,36)",
             "ticks": "outside"
            },
            "colorscale": [
             [
              0,
              "#440154"
             ],
             [
              0.1111111111111111,
              "#482878"
             ],
             [
              0.2222222222222222,
              "#3e4989"
             ],
             [
              0.3333333333333333,
              "#31688e"
             ],
             [
              0.4444444444444444,
              "#26828e"
             ],
             [
              0.5555555555555556,
              "#1f9e89"
             ],
             [
              0.6666666666666666,
              "#35b779"
             ],
             [
              0.7777777777777778,
              "#6ece58"
             ],
             [
              0.8888888888888888,
              "#b5de2b"
             ],
             [
              1,
              "#fde725"
             ]
            ],
            "type": "heatmapgl"
           }
          ],
          "histogram": [
           {
            "marker": {
             "line": {
              "color": "white",
              "width": 0.6
             }
            },
            "type": "histogram"
           }
          ],
          "histogram2d": [
           {
            "colorbar": {
             "outlinewidth": 1,
             "tickcolor": "rgb(36,36,36)",
             "ticks": "outside"
            },
            "colorscale": [
             [
              0,
              "#440154"
             ],
             [
              0.1111111111111111,
              "#482878"
             ],
             [
              0.2222222222222222,
              "#3e4989"
             ],
             [
              0.3333333333333333,
              "#31688e"
             ],
             [
              0.4444444444444444,
              "#26828e"
             ],
             [
              0.5555555555555556,
              "#1f9e89"
             ],
             [
              0.6666666666666666,
              "#35b779"
             ],
             [
              0.7777777777777778,
              "#6ece58"
             ],
             [
              0.8888888888888888,
              "#b5de2b"
             ],
             [
              1,
              "#fde725"
             ]
            ],
            "type": "histogram2d"
           }
          ],
          "histogram2dcontour": [
           {
            "colorbar": {
             "outlinewidth": 1,
             "tickcolor": "rgb(36,36,36)",
             "ticks": "outside"
            },
            "colorscale": [
             [
              0,
              "#440154"
             ],
             [
              0.1111111111111111,
              "#482878"
             ],
             [
              0.2222222222222222,
              "#3e4989"
             ],
             [
              0.3333333333333333,
              "#31688e"
             ],
             [
              0.4444444444444444,
              "#26828e"
             ],
             [
              0.5555555555555556,
              "#1f9e89"
             ],
             [
              0.6666666666666666,
              "#35b779"
             ],
             [
              0.7777777777777778,
              "#6ece58"
             ],
             [
              0.8888888888888888,
              "#b5de2b"
             ],
             [
              1,
              "#fde725"
             ]
            ],
            "type": "histogram2dcontour"
           }
          ],
          "mesh3d": [
           {
            "colorbar": {
             "outlinewidth": 1,
             "tickcolor": "rgb(36,36,36)",
             "ticks": "outside"
            },
            "type": "mesh3d"
           }
          ],
          "parcoords": [
           {
            "line": {
             "colorbar": {
              "outlinewidth": 1,
              "tickcolor": "rgb(36,36,36)",
              "ticks": "outside"
             }
            },
            "type": "parcoords"
           }
          ],
          "pie": [
           {
            "automargin": true,
            "type": "pie"
           }
          ],
          "scatter": [
           {
            "fillpattern": {
             "fillmode": "overlay",
             "size": 10,
             "solidity": 0.2
            },
            "type": "scatter"
           }
          ],
          "scatter3d": [
           {
            "line": {
             "colorbar": {
              "outlinewidth": 1,
              "tickcolor": "rgb(36,36,36)",
              "ticks": "outside"
             }
            },
            "marker": {
             "colorbar": {
              "outlinewidth": 1,
              "tickcolor": "rgb(36,36,36)",
              "ticks": "outside"
             }
            },
            "type": "scatter3d"
           }
          ],
          "scattercarpet": [
           {
            "marker": {
             "colorbar": {
              "outlinewidth": 1,
              "tickcolor": "rgb(36,36,36)",
              "ticks": "outside"
             }
            },
            "type": "scattercarpet"
           }
          ],
          "scattergeo": [
           {
            "marker": {
             "colorbar": {
              "outlinewidth": 1,
              "tickcolor": "rgb(36,36,36)",
              "ticks": "outside"
             }
            },
            "type": "scattergeo"
           }
          ],
          "scattergl": [
           {
            "marker": {
             "colorbar": {
              "outlinewidth": 1,
              "tickcolor": "rgb(36,36,36)",
              "ticks": "outside"
             }
            },
            "type": "scattergl"
           }
          ],
          "scattermapbox": [
           {
            "marker": {
             "colorbar": {
              "outlinewidth": 1,
              "tickcolor": "rgb(36,36,36)",
              "ticks": "outside"
             }
            },
            "type": "scattermapbox"
           }
          ],
          "scatterpolar": [
           {
            "marker": {
             "colorbar": {
              "outlinewidth": 1,
              "tickcolor": "rgb(36,36,36)",
              "ticks": "outside"
             }
            },
            "type": "scatterpolar"
           }
          ],
          "scatterpolargl": [
           {
            "marker": {
             "colorbar": {
              "outlinewidth": 1,
              "tickcolor": "rgb(36,36,36)",
              "ticks": "outside"
             }
            },
            "type": "scatterpolargl"
           }
          ],
          "scatterternary": [
           {
            "marker": {
             "colorbar": {
              "outlinewidth": 1,
              "tickcolor": "rgb(36,36,36)",
              "ticks": "outside"
             }
            },
            "type": "scatterternary"
           }
          ],
          "surface": [
           {
            "colorbar": {
             "outlinewidth": 1,
             "tickcolor": "rgb(36,36,36)",
             "ticks": "outside"
            },
            "colorscale": [
             [
              0,
              "#440154"
             ],
             [
              0.1111111111111111,
              "#482878"
             ],
             [
              0.2222222222222222,
              "#3e4989"
             ],
             [
              0.3333333333333333,
              "#31688e"
             ],
             [
              0.4444444444444444,
              "#26828e"
             ],
             [
              0.5555555555555556,
              "#1f9e89"
             ],
             [
              0.6666666666666666,
              "#35b779"
             ],
             [
              0.7777777777777778,
              "#6ece58"
             ],
             [
              0.8888888888888888,
              "#b5de2b"
             ],
             [
              1,
              "#fde725"
             ]
            ],
            "type": "surface"
           }
          ],
          "table": [
           {
            "cells": {
             "fill": {
              "color": "rgb(237,237,237)"
             },
             "line": {
              "color": "white"
             }
            },
            "header": {
             "fill": {
              "color": "rgb(217,217,217)"
             },
             "line": {
              "color": "white"
             }
            },
            "type": "table"
           }
          ]
         },
         "layout": {
          "annotationdefaults": {
           "arrowhead": 0,
           "arrowwidth": 1
          },
          "autotypenumbers": "strict",
          "coloraxis": {
           "colorbar": {
            "outlinewidth": 1,
            "tickcolor": "rgb(36,36,36)",
            "ticks": "outside"
           }
          },
          "colorscale": {
           "diverging": [
            [
             0,
             "rgb(103,0,31)"
            ],
            [
             0.1,
             "rgb(178,24,43)"
            ],
            [
             0.2,
             "rgb(214,96,77)"
            ],
            [
             0.3,
             "rgb(244,165,130)"
            ],
            [
             0.4,
             "rgb(253,219,199)"
            ],
            [
             0.5,
             "rgb(247,247,247)"
            ],
            [
             0.6,
             "rgb(209,229,240)"
            ],
            [
             0.7,
             "rgb(146,197,222)"
            ],
            [
             0.8,
             "rgb(67,147,195)"
            ],
            [
             0.9,
             "rgb(33,102,172)"
            ],
            [
             1,
             "rgb(5,48,97)"
            ]
           ],
           "sequential": [
            [
             0,
             "#440154"
            ],
            [
             0.1111111111111111,
             "#482878"
            ],
            [
             0.2222222222222222,
             "#3e4989"
            ],
            [
             0.3333333333333333,
             "#31688e"
            ],
            [
             0.4444444444444444,
             "#26828e"
            ],
            [
             0.5555555555555556,
             "#1f9e89"
            ],
            [
             0.6666666666666666,
             "#35b779"
            ],
            [
             0.7777777777777778,
             "#6ece58"
            ],
            [
             0.8888888888888888,
             "#b5de2b"
            ],
            [
             1,
             "#fde725"
            ]
           ],
           "sequentialminus": [
            [
             0,
             "#440154"
            ],
            [
             0.1111111111111111,
             "#482878"
            ],
            [
             0.2222222222222222,
             "#3e4989"
            ],
            [
             0.3333333333333333,
             "#31688e"
            ],
            [
             0.4444444444444444,
             "#26828e"
            ],
            [
             0.5555555555555556,
             "#1f9e89"
            ],
            [
             0.6666666666666666,
             "#35b779"
            ],
            [
             0.7777777777777778,
             "#6ece58"
            ],
            [
             0.8888888888888888,
             "#b5de2b"
            ],
            [
             1,
             "#fde725"
            ]
           ]
          },
          "colorway": [
           "#1F77B4",
           "#FF7F0E",
           "#2CA02C",
           "#D62728",
           "#9467BD",
           "#8C564B",
           "#E377C2",
           "#7F7F7F",
           "#BCBD22",
           "#17BECF"
          ],
          "font": {
           "color": "rgb(36,36,36)"
          },
          "geo": {
           "bgcolor": "white",
           "lakecolor": "white",
           "landcolor": "white",
           "showlakes": true,
           "showland": true,
           "subunitcolor": "white"
          },
          "hoverlabel": {
           "align": "left"
          },
          "hovermode": "closest",
          "mapbox": {
           "style": "light"
          },
          "paper_bgcolor": "white",
          "plot_bgcolor": "white",
          "polar": {
           "angularaxis": {
            "gridcolor": "rgb(232,232,232)",
            "linecolor": "rgb(36,36,36)",
            "showgrid": false,
            "showline": true,
            "ticks": "outside"
           },
           "bgcolor": "white",
           "radialaxis": {
            "gridcolor": "rgb(232,232,232)",
            "linecolor": "rgb(36,36,36)",
            "showgrid": false,
            "showline": true,
            "ticks": "outside"
           }
          },
          "scene": {
           "xaxis": {
            "backgroundcolor": "white",
            "gridcolor": "rgb(232,232,232)",
            "gridwidth": 2,
            "linecolor": "rgb(36,36,36)",
            "showbackground": true,
            "showgrid": false,
            "showline": true,
            "ticks": "outside",
            "zeroline": false,
            "zerolinecolor": "rgb(36,36,36)"
           },
           "yaxis": {
            "backgroundcolor": "white",
            "gridcolor": "rgb(232,232,232)",
            "gridwidth": 2,
            "linecolor": "rgb(36,36,36)",
            "showbackground": true,
            "showgrid": false,
            "showline": true,
            "ticks": "outside",
            "zeroline": false,
            "zerolinecolor": "rgb(36,36,36)"
           },
           "zaxis": {
            "backgroundcolor": "white",
            "gridcolor": "rgb(232,232,232)",
            "gridwidth": 2,
            "linecolor": "rgb(36,36,36)",
            "showbackground": true,
            "showgrid": false,
            "showline": true,
            "ticks": "outside",
            "zeroline": false,
            "zerolinecolor": "rgb(36,36,36)"
           }
          },
          "shapedefaults": {
           "fillcolor": "black",
           "line": {
            "width": 0
           },
           "opacity": 0.3
          },
          "ternary": {
           "aaxis": {
            "gridcolor": "rgb(232,232,232)",
            "linecolor": "rgb(36,36,36)",
            "showgrid": false,
            "showline": true,
            "ticks": "outside"
           },
           "baxis": {
            "gridcolor": "rgb(232,232,232)",
            "linecolor": "rgb(36,36,36)",
            "showgrid": false,
            "showline": true,
            "ticks": "outside"
           },
           "bgcolor": "white",
           "caxis": {
            "gridcolor": "rgb(232,232,232)",
            "linecolor": "rgb(36,36,36)",
            "showgrid": false,
            "showline": true,
            "ticks": "outside"
           }
          },
          "title": {
           "x": 0.05
          },
          "xaxis": {
           "automargin": true,
           "gridcolor": "rgb(232,232,232)",
           "linecolor": "rgb(36,36,36)",
           "showgrid": false,
           "showline": true,
           "ticks": "outside",
           "title": {
            "standoff": 15
           },
           "zeroline": false,
           "zerolinecolor": "rgb(36,36,36)"
          },
          "yaxis": {
           "automargin": true,
           "gridcolor": "rgb(232,232,232)",
           "linecolor": "rgb(36,36,36)",
           "showgrid": false,
           "showline": true,
           "ticks": "outside",
           "title": {
            "standoff": 15
           },
           "zeroline": false,
           "zerolinecolor": "rgb(36,36,36)"
          }
         }
        },
        "title": {
         "text": "Average temperature range"
        },
        "xaxis": {
         "tickangle": -45,
         "tickmode": "array",
         "ticktext": [
          "Jan",
          "Feb",
          "Mar",
          "Apr",
          "May",
          "Jun",
          "Jul",
          "Aug",
          "Sep",
          "Oct",
          "Nov",
          "Dec"
         ],
         "tickvals": [
          1,
          2,
          3,
          4,
          5,
          6,
          7,
          8,
          9,
          10,
          11,
          12
         ],
         "title": {
          "text": "Month"
         }
        },
        "yaxis": {
         "range": [
          0,
          36.093414306640625
         ],
         "title": {
          "text": "Temperature (°C)"
         }
        }
       }
      }
     },
     "metadata": {},
     "output_type": "display_data"
    }
   ],
   "source": [
    "import pandas as pd\n",
    "import plotly.graph_objects as go\n",
    "\n",
    "# Assuming avg_temp, mean_max_temp, and mean_min_temp are already defined\n",
    "\n",
    "# Create a DataFrame from the DataArrays\n",
    "df = pd.DataFrame({\n",
    "    'month': avg_temp.month.values,\n",
    "    'avg_temp': avg_temp.values,\n",
    "    'max_temp': mean_max_temp.values,\n",
    "    'min_temp': mean_min_temp.values\n",
    "})\n",
    "\n",
    "# Create a line chart for average temperature\n",
    "fig = go.Figure()\n",
    "\n",
    "fig.add_trace(go.Scatter(x=df['month'], y=df['avg_temp'],\n",
    "                         mode='lines', \n",
    "                         name='Average temperature', \n",
    "                         line_color='orange'\n",
    "                         )\n",
    "             )\n",
    "\n",
    "# Add a line chart for max temperature\n",
    "fig.add_trace(go.Scatter(x=df['month'], y=df['max_temp'], \n",
    "                         mode='lines',\n",
    "                         name='Average range per month', \n",
    "                         line_color='red'\n",
    "                         )\n",
    "             )\n",
    "\n",
    "# Add a line chart for min temperature\n",
    "fig.add_trace(go.Scatter(x=df['month'], y=df['min_temp'], \n",
    "                         mode='lines', \n",
    "                         name='Min temperature', \n",
    "                         line_color='red', \n",
    "                         fill='tonexty', \n",
    "                         fillcolor='rgba(255, 0, 0, 0.1)', \n",
    "                         showlegend=False\n",
    "                         )\n",
    "             )\n",
    "\n",
    "# Add a line chart for min temperature\n",
    "if min(mean_min_temp.values) <= 0.9:\n",
    "    fig.add_hline(y=0, opacity=1, \n",
    "                  line_width=2, \n",
    "                  line_dash='dash', \n",
    "                  line_color='blue',\n",
    "                  annotation_text='freezing', \n",
    "                  annotation_position='top'\n",
    "                  )\n",
    "\n",
    "# Set the layout\n",
    "fig.update_yaxes(range=[0, max(df['max_temp'] + 5)])\n",
    "\n",
    "fig.update_layout(title='Average temperature range',\n",
    "                  yaxis=dict(title='Temperature (°C)'),\n",
    "                  xaxis=dict(\n",
    "                      title='Month',\n",
    "                      tickmode='array',\n",
    "                      tickvals=df['month'],\n",
    "                      ticktext=['Jan', 'Feb', 'Mar', 'Apr', 'May', 'Jun', 'Jul', 'Aug', 'Sep', 'Oct', 'Nov', 'Dec'],\n",
    "                      tickangle=-45\n",
    "                      ),\n",
    "                  template='simple_white',\n",
    "                  )\n",
    "\n",
    "# Add text within the figure\n",
    "fig.add_annotation(text=\"\"\"This figure shows the average temperature for each month complemented by the average temperature range per month. \n",
    "                   <br> Meaning: the top line shows the average maximum temperature of each month, the bottom line the averaged minima.\n",
    "                    <br> Keep in mind that these are averaged values, maximum temperature can be outside of the shown range.\n",
    "                    <br> When the range reaches 0 or below, a blue line highlights the freezing temperature.\n",
    "                    \"\"\",\n",
    "                    xref='paper', yref='paper',\n",
    "                    x=0.5, y=-0.7,  # Adjust this value to position the text below the x-axis legend\n",
    "                    showarrow=False,\n",
    "                    align='left',\n",
    "                    font=dict(size=12, color='black')\n",
    "                    )\n",
    "\n",
    "# Adjust the bottom margin to create more space below the figure\n",
    "fig.update_layout(margin=dict(b=150))\n",
    "\n",
    "# Show the figure\n",
    "fig.update_traces(hovertemplate='%{x}: %{y:.0f} °C <extra></extra>')\n",
    "fig.show()\n"
   ]
  },
  {
   "cell_type": "markdown",
   "metadata": {},
   "source": [
    "This figure shows the average temperature for each month complemented by the average temperature range per month. Meaning: the top line shows the average maximum temperature of each month Same goes for the bottom line. Keep in mind that this is an average, maximum temperature can be outside of the shown range. \n",
    "When the range reaches or below, a blue line highlights the freezing temperature. "
   ]
  },
  {
   "cell_type": "markdown",
   "metadata": {},
   "source": [
    "#### Agerage monthly relative humidity range"
   ]
  },
  {
   "cell_type": "code",
   "execution_count": 93,
   "metadata": {},
   "outputs": [
    {
     "data": {
      "application/vnd.plotly.v1+json": {
       "config": {
        "plotlyServerURL": "https://plot.ly"
       },
       "data": [
        {
         "hovertemplate": "%{x}: %{y:.0f} % <extra></extra>",
         "line": {
          "color": "rgb(0, 0, 200)"
         },
         "mode": "lines",
         "name": "Average relative humidity",
         "type": "scatter",
         "x": [
          1,
          2,
          3,
          4,
          5,
          6,
          7,
          8,
          9,
          10,
          11,
          12
         ],
         "y": [
          71.77169799804688,
          67.54234313964844,
          63.25034713745117,
          60.93246841430664,
          56.266807556152344,
          49.584625244140625,
          44.831851959228516,
          47.80421447753906,
          57.22608947753906,
          64.9415512084961,
          70.61328125,
          74.12975311279297
         ]
        },
        {
         "hovertemplate": "%{x}: %{y:.0f} % <extra></extra>",
         "line": {
          "color": "rgb(5, 150, 250)"
         },
         "mode": "lines",
         "name": "Average range per month",
         "type": "scatter",
         "x": [
          1,
          2,
          3,
          4,
          5,
          6,
          7,
          8,
          9,
          10,
          11,
          12
         ],
         "y": [
          81.94853973388672,
          80.5579605102539,
          78.6515121459961,
          77.78839874267578,
          73.36318969726562,
          66.18545532226562,
          59.98101043701172,
          63.59988021850586,
          73.91377258300781,
          79.6467514038086,
          82.07067108154297,
          83.2877426147461
         ]
        },
        {
         "fill": "tonexty",
         "fillcolor": "rgba(5, 150, 250, 0.1)",
         "hovertemplate": "%{x}: %{y:.0f} % <extra></extra>",
         "line": {
          "color": "rgb(5, 150, 250)"
         },
         "mode": "lines",
         "name": "Min realtive humidity",
         "showlegend": false,
         "type": "scatter",
         "x": [
          1,
          2,
          3,
          4,
          5,
          6,
          7,
          8,
          9,
          10,
          11,
          12
         ],
         "y": [
          54.297786712646484,
          49.758235931396484,
          46.21192169189453,
          44.651145935058594,
          40.98271942138672,
          35.71534729003906,
          31.87792205810547,
          33.713897705078125,
          40.8743782043457,
          47.2778205871582,
          53.56965255737305,
          57.327789306640625
         ]
        }
       ],
       "layout": {
        "annotations": [
         {
          "align": "left",
          "font": {
           "color": "black",
           "size": 12
          },
          "showarrow": false,
          "text": " Shown is the average monthly relative humidity and the average monthly range. \n                   <br>The range delimiters show the mean of monhtly maximum and minimum relative humidity. \n                   <br>Here as well, keep in mind these are means and not the extreme values.\n                   ",
          "x": 0.5,
          "xref": "paper",
          "y": -0.6,
          "yref": "paper"
         }
        ],
        "margin": {
         "b": 150
        },
        "template": {
         "data": {
          "bar": [
           {
            "error_x": {
             "color": "rgb(36,36,36)"
            },
            "error_y": {
             "color": "rgb(36,36,36)"
            },
            "marker": {
             "line": {
              "color": "white",
              "width": 0.5
             },
             "pattern": {
              "fillmode": "overlay",
              "size": 10,
              "solidity": 0.2
             }
            },
            "type": "bar"
           }
          ],
          "barpolar": [
           {
            "marker": {
             "line": {
              "color": "white",
              "width": 0.5
             },
             "pattern": {
              "fillmode": "overlay",
              "size": 10,
              "solidity": 0.2
             }
            },
            "type": "barpolar"
           }
          ],
          "carpet": [
           {
            "aaxis": {
             "endlinecolor": "rgb(36,36,36)",
             "gridcolor": "white",
             "linecolor": "white",
             "minorgridcolor": "white",
             "startlinecolor": "rgb(36,36,36)"
            },
            "baxis": {
             "endlinecolor": "rgb(36,36,36)",
             "gridcolor": "white",
             "linecolor": "white",
             "minorgridcolor": "white",
             "startlinecolor": "rgb(36,36,36)"
            },
            "type": "carpet"
           }
          ],
          "choropleth": [
           {
            "colorbar": {
             "outlinewidth": 1,
             "tickcolor": "rgb(36,36,36)",
             "ticks": "outside"
            },
            "type": "choropleth"
           }
          ],
          "contour": [
           {
            "colorbar": {
             "outlinewidth": 1,
             "tickcolor": "rgb(36,36,36)",
             "ticks": "outside"
            },
            "colorscale": [
             [
              0,
              "#440154"
             ],
             [
              0.1111111111111111,
              "#482878"
             ],
             [
              0.2222222222222222,
              "#3e4989"
             ],
             [
              0.3333333333333333,
              "#31688e"
             ],
             [
              0.4444444444444444,
              "#26828e"
             ],
             [
              0.5555555555555556,
              "#1f9e89"
             ],
             [
              0.6666666666666666,
              "#35b779"
             ],
             [
              0.7777777777777778,
              "#6ece58"
             ],
             [
              0.8888888888888888,
              "#b5de2b"
             ],
             [
              1,
              "#fde725"
             ]
            ],
            "type": "contour"
           }
          ],
          "contourcarpet": [
           {
            "colorbar": {
             "outlinewidth": 1,
             "tickcolor": "rgb(36,36,36)",
             "ticks": "outside"
            },
            "type": "contourcarpet"
           }
          ],
          "heatmap": [
           {
            "colorbar": {
             "outlinewidth": 1,
             "tickcolor": "rgb(36,36,36)",
             "ticks": "outside"
            },
            "colorscale": [
             [
              0,
              "#440154"
             ],
             [
              0.1111111111111111,
              "#482878"
             ],
             [
              0.2222222222222222,
              "#3e4989"
             ],
             [
              0.3333333333333333,
              "#31688e"
             ],
             [
              0.4444444444444444,
              "#26828e"
             ],
             [
              0.5555555555555556,
              "#1f9e89"
             ],
             [
              0.6666666666666666,
              "#35b779"
             ],
             [
              0.7777777777777778,
              "#6ece58"
             ],
             [
              0.8888888888888888,
              "#b5de2b"
             ],
             [
              1,
              "#fde725"
             ]
            ],
            "type": "heatmap"
           }
          ],
          "heatmapgl": [
           {
            "colorbar": {
             "outlinewidth": 1,
             "tickcolor": "rgb(36,36,36)",
             "ticks": "outside"
            },
            "colorscale": [
             [
              0,
              "#440154"
             ],
             [
              0.1111111111111111,
              "#482878"
             ],
             [
              0.2222222222222222,
              "#3e4989"
             ],
             [
              0.3333333333333333,
              "#31688e"
             ],
             [
              0.4444444444444444,
              "#26828e"
             ],
             [
              0.5555555555555556,
              "#1f9e89"
             ],
             [
              0.6666666666666666,
              "#35b779"
             ],
             [
              0.7777777777777778,
              "#6ece58"
             ],
             [
              0.8888888888888888,
              "#b5de2b"
             ],
             [
              1,
              "#fde725"
             ]
            ],
            "type": "heatmapgl"
           }
          ],
          "histogram": [
           {
            "marker": {
             "line": {
              "color": "white",
              "width": 0.6
             }
            },
            "type": "histogram"
           }
          ],
          "histogram2d": [
           {
            "colorbar": {
             "outlinewidth": 1,
             "tickcolor": "rgb(36,36,36)",
             "ticks": "outside"
            },
            "colorscale": [
             [
              0,
              "#440154"
             ],
             [
              0.1111111111111111,
              "#482878"
             ],
             [
              0.2222222222222222,
              "#3e4989"
             ],
             [
              0.3333333333333333,
              "#31688e"
             ],
             [
              0.4444444444444444,
              "#26828e"
             ],
             [
              0.5555555555555556,
              "#1f9e89"
             ],
             [
              0.6666666666666666,
              "#35b779"
             ],
             [
              0.7777777777777778,
              "#6ece58"
             ],
             [
              0.8888888888888888,
              "#b5de2b"
             ],
             [
              1,
              "#fde725"
             ]
            ],
            "type": "histogram2d"
           }
          ],
          "histogram2dcontour": [
           {
            "colorbar": {
             "outlinewidth": 1,
             "tickcolor": "rgb(36,36,36)",
             "ticks": "outside"
            },
            "colorscale": [
             [
              0,
              "#440154"
             ],
             [
              0.1111111111111111,
              "#482878"
             ],
             [
              0.2222222222222222,
              "#3e4989"
             ],
             [
              0.3333333333333333,
              "#31688e"
             ],
             [
              0.4444444444444444,
              "#26828e"
             ],
             [
              0.5555555555555556,
              "#1f9e89"
             ],
             [
              0.6666666666666666,
              "#35b779"
             ],
             [
              0.7777777777777778,
              "#6ece58"
             ],
             [
              0.8888888888888888,
              "#b5de2b"
             ],
             [
              1,
              "#fde725"
             ]
            ],
            "type": "histogram2dcontour"
           }
          ],
          "mesh3d": [
           {
            "colorbar": {
             "outlinewidth": 1,
             "tickcolor": "rgb(36,36,36)",
             "ticks": "outside"
            },
            "type": "mesh3d"
           }
          ],
          "parcoords": [
           {
            "line": {
             "colorbar": {
              "outlinewidth": 1,
              "tickcolor": "rgb(36,36,36)",
              "ticks": "outside"
             }
            },
            "type": "parcoords"
           }
          ],
          "pie": [
           {
            "automargin": true,
            "type": "pie"
           }
          ],
          "scatter": [
           {
            "fillpattern": {
             "fillmode": "overlay",
             "size": 10,
             "solidity": 0.2
            },
            "type": "scatter"
           }
          ],
          "scatter3d": [
           {
            "line": {
             "colorbar": {
              "outlinewidth": 1,
              "tickcolor": "rgb(36,36,36)",
              "ticks": "outside"
             }
            },
            "marker": {
             "colorbar": {
              "outlinewidth": 1,
              "tickcolor": "rgb(36,36,36)",
              "ticks": "outside"
             }
            },
            "type": "scatter3d"
           }
          ],
          "scattercarpet": [
           {
            "marker": {
             "colorbar": {
              "outlinewidth": 1,
              "tickcolor": "rgb(36,36,36)",
              "ticks": "outside"
             }
            },
            "type": "scattercarpet"
           }
          ],
          "scattergeo": [
           {
            "marker": {
             "colorbar": {
              "outlinewidth": 1,
              "tickcolor": "rgb(36,36,36)",
              "ticks": "outside"
             }
            },
            "type": "scattergeo"
           }
          ],
          "scattergl": [
           {
            "marker": {
             "colorbar": {
              "outlinewidth": 1,
              "tickcolor": "rgb(36,36,36)",
              "ticks": "outside"
             }
            },
            "type": "scattergl"
           }
          ],
          "scattermapbox": [
           {
            "marker": {
             "colorbar": {
              "outlinewidth": 1,
              "tickcolor": "rgb(36,36,36)",
              "ticks": "outside"
             }
            },
            "type": "scattermapbox"
           }
          ],
          "scatterpolar": [
           {
            "marker": {
             "colorbar": {
              "outlinewidth": 1,
              "tickcolor": "rgb(36,36,36)",
              "ticks": "outside"
             }
            },
            "type": "scatterpolar"
           }
          ],
          "scatterpolargl": [
           {
            "marker": {
             "colorbar": {
              "outlinewidth": 1,
              "tickcolor": "rgb(36,36,36)",
              "ticks": "outside"
             }
            },
            "type": "scatterpolargl"
           }
          ],
          "scatterternary": [
           {
            "marker": {
             "colorbar": {
              "outlinewidth": 1,
              "tickcolor": "rgb(36,36,36)",
              "ticks": "outside"
             }
            },
            "type": "scatterternary"
           }
          ],
          "surface": [
           {
            "colorbar": {
             "outlinewidth": 1,
             "tickcolor": "rgb(36,36,36)",
             "ticks": "outside"
            },
            "colorscale": [
             [
              0,
              "#440154"
             ],
             [
              0.1111111111111111,
              "#482878"
             ],
             [
              0.2222222222222222,
              "#3e4989"
             ],
             [
              0.3333333333333333,
              "#31688e"
             ],
             [
              0.4444444444444444,
              "#26828e"
             ],
             [
              0.5555555555555556,
              "#1f9e89"
             ],
             [
              0.6666666666666666,
              "#35b779"
             ],
             [
              0.7777777777777778,
              "#6ece58"
             ],
             [
              0.8888888888888888,
              "#b5de2b"
             ],
             [
              1,
              "#fde725"
             ]
            ],
            "type": "surface"
           }
          ],
          "table": [
           {
            "cells": {
             "fill": {
              "color": "rgb(237,237,237)"
             },
             "line": {
              "color": "white"
             }
            },
            "header": {
             "fill": {
              "color": "rgb(217,217,217)"
             },
             "line": {
              "color": "white"
             }
            },
            "type": "table"
           }
          ]
         },
         "layout": {
          "annotationdefaults": {
           "arrowhead": 0,
           "arrowwidth": 1
          },
          "autotypenumbers": "strict",
          "coloraxis": {
           "colorbar": {
            "outlinewidth": 1,
            "tickcolor": "rgb(36,36,36)",
            "ticks": "outside"
           }
          },
          "colorscale": {
           "diverging": [
            [
             0,
             "rgb(103,0,31)"
            ],
            [
             0.1,
             "rgb(178,24,43)"
            ],
            [
             0.2,
             "rgb(214,96,77)"
            ],
            [
             0.3,
             "rgb(244,165,130)"
            ],
            [
             0.4,
             "rgb(253,219,199)"
            ],
            [
             0.5,
             "rgb(247,247,247)"
            ],
            [
             0.6,
             "rgb(209,229,240)"
            ],
            [
             0.7,
             "rgb(146,197,222)"
            ],
            [
             0.8,
             "rgb(67,147,195)"
            ],
            [
             0.9,
             "rgb(33,102,172)"
            ],
            [
             1,
             "rgb(5,48,97)"
            ]
           ],
           "sequential": [
            [
             0,
             "#440154"
            ],
            [
             0.1111111111111111,
             "#482878"
            ],
            [
             0.2222222222222222,
             "#3e4989"
            ],
            [
             0.3333333333333333,
             "#31688e"
            ],
            [
             0.4444444444444444,
             "#26828e"
            ],
            [
             0.5555555555555556,
             "#1f9e89"
            ],
            [
             0.6666666666666666,
             "#35b779"
            ],
            [
             0.7777777777777778,
             "#6ece58"
            ],
            [
             0.8888888888888888,
             "#b5de2b"
            ],
            [
             1,
             "#fde725"
            ]
           ],
           "sequentialminus": [
            [
             0,
             "#440154"
            ],
            [
             0.1111111111111111,
             "#482878"
            ],
            [
             0.2222222222222222,
             "#3e4989"
            ],
            [
             0.3333333333333333,
             "#31688e"
            ],
            [
             0.4444444444444444,
             "#26828e"
            ],
            [
             0.5555555555555556,
             "#1f9e89"
            ],
            [
             0.6666666666666666,
             "#35b779"
            ],
            [
             0.7777777777777778,
             "#6ece58"
            ],
            [
             0.8888888888888888,
             "#b5de2b"
            ],
            [
             1,
             "#fde725"
            ]
           ]
          },
          "colorway": [
           "#1F77B4",
           "#FF7F0E",
           "#2CA02C",
           "#D62728",
           "#9467BD",
           "#8C564B",
           "#E377C2",
           "#7F7F7F",
           "#BCBD22",
           "#17BECF"
          ],
          "font": {
           "color": "rgb(36,36,36)"
          },
          "geo": {
           "bgcolor": "white",
           "lakecolor": "white",
           "landcolor": "white",
           "showlakes": true,
           "showland": true,
           "subunitcolor": "white"
          },
          "hoverlabel": {
           "align": "left"
          },
          "hovermode": "closest",
          "mapbox": {
           "style": "light"
          },
          "paper_bgcolor": "white",
          "plot_bgcolor": "white",
          "polar": {
           "angularaxis": {
            "gridcolor": "rgb(232,232,232)",
            "linecolor": "rgb(36,36,36)",
            "showgrid": false,
            "showline": true,
            "ticks": "outside"
           },
           "bgcolor": "white",
           "radialaxis": {
            "gridcolor": "rgb(232,232,232)",
            "linecolor": "rgb(36,36,36)",
            "showgrid": false,
            "showline": true,
            "ticks": "outside"
           }
          },
          "scene": {
           "xaxis": {
            "backgroundcolor": "white",
            "gridcolor": "rgb(232,232,232)",
            "gridwidth": 2,
            "linecolor": "rgb(36,36,36)",
            "showbackground": true,
            "showgrid": false,
            "showline": true,
            "ticks": "outside",
            "zeroline": false,
            "zerolinecolor": "rgb(36,36,36)"
           },
           "yaxis": {
            "backgroundcolor": "white",
            "gridcolor": "rgb(232,232,232)",
            "gridwidth": 2,
            "linecolor": "rgb(36,36,36)",
            "showbackground": true,
            "showgrid": false,
            "showline": true,
            "ticks": "outside",
            "zeroline": false,
            "zerolinecolor": "rgb(36,36,36)"
           },
           "zaxis": {
            "backgroundcolor": "white",
            "gridcolor": "rgb(232,232,232)",
            "gridwidth": 2,
            "linecolor": "rgb(36,36,36)",
            "showbackground": true,
            "showgrid": false,
            "showline": true,
            "ticks": "outside",
            "zeroline": false,
            "zerolinecolor": "rgb(36,36,36)"
           }
          },
          "shapedefaults": {
           "fillcolor": "black",
           "line": {
            "width": 0
           },
           "opacity": 0.3
          },
          "ternary": {
           "aaxis": {
            "gridcolor": "rgb(232,232,232)",
            "linecolor": "rgb(36,36,36)",
            "showgrid": false,
            "showline": true,
            "ticks": "outside"
           },
           "baxis": {
            "gridcolor": "rgb(232,232,232)",
            "linecolor": "rgb(36,36,36)",
            "showgrid": false,
            "showline": true,
            "ticks": "outside"
           },
           "bgcolor": "white",
           "caxis": {
            "gridcolor": "rgb(232,232,232)",
            "linecolor": "rgb(36,36,36)",
            "showgrid": false,
            "showline": true,
            "ticks": "outside"
           }
          },
          "title": {
           "x": 0.05
          },
          "xaxis": {
           "automargin": true,
           "gridcolor": "rgb(232,232,232)",
           "linecolor": "rgb(36,36,36)",
           "showgrid": false,
           "showline": true,
           "ticks": "outside",
           "title": {
            "standoff": 15
           },
           "zeroline": false,
           "zerolinecolor": "rgb(36,36,36)"
          },
          "yaxis": {
           "automargin": true,
           "gridcolor": "rgb(232,232,232)",
           "linecolor": "rgb(36,36,36)",
           "showgrid": false,
           "showline": true,
           "ticks": "outside",
           "title": {
            "standoff": 15
           },
           "zeroline": false,
           "zerolinecolor": "rgb(36,36,36)"
          }
         }
        },
        "title": {
         "text": "Average relative humidity range"
        },
        "xaxis": {
         "tickangle": -45,
         "tickmode": "array",
         "ticktext": [
          "Jan",
          "Feb",
          "Mar",
          "Apr",
          "May",
          "Jun",
          "Jul",
          "Aug",
          "Sep",
          "Oct",
          "Nov",
          "Dec"
         ],
         "tickvals": [
          1,
          2,
          3,
          4,
          5,
          6,
          7,
          8,
          9,
          10,
          11,
          12
         ],
         "title": {
          "text": "Month"
         }
        },
        "yaxis": {
         "title": {
          "text": "Relative humidity (%)"
         }
        }
       }
      }
     },
     "metadata": {},
     "output_type": "display_data"
    }
   ],
   "source": [
    "# Create a DataFrame from the DataArrays\n",
    "df = pd.DataFrame({\n",
    "    'month': avg_rh.month.values,\n",
    "    'avg_rh': avg_rh.values,\n",
    "    'max_rh': mean_max_rh.values,\n",
    "    'min_rh': mean_min_rh.values\n",
    "})\n",
    "\n",
    "# Create a line chart for average rel humidity\n",
    "fig = go.Figure()\n",
    "\n",
    "fig.add_trace(go.Scatter(x=df['month'], y=df['avg_rh'], \n",
    "                         mode='lines', \n",
    "                         name='Average relative humidity', \n",
    "                         line_color='rgb(0, 0, 200)')\n",
    "                         )\n",
    "\n",
    "# Add a line chart for max rel humidity\n",
    "fig.add_trace(go.Scatter(x=df['month'], y=df['max_rh'], \n",
    "                         mode='lines',\n",
    "                         name='Average range per month', \n",
    "                         line_color='rgb(5, 150, 250)')\n",
    "                         )\n",
    "\n",
    "# Add a line chart for min rel humidity\n",
    "fig.add_trace(go.Scatter(x=df['month'], y=df['min_rh'], \n",
    "                         mode='lines', \n",
    "                         name='Min realtive humidity', \n",
    "                         line_color='rgb(5, 150, 250)', \n",
    "                         fill='tonexty', \n",
    "                         fillcolor = 'rgba(5, 150, 250, 0.1)', \n",
    "                         showlegend=False)\n",
    "                         )\n",
    "\n",
    "# Set the layout\n",
    "fig.update_layout(title='Average relative humidity range',\n",
    "                  yaxis=dict(title='Relative humidity (%)'),\n",
    "                  xaxis=dict(\n",
    "                      title='Month',\n",
    "                      tickmode='array',\n",
    "                      tickvals=df['month'],\n",
    "                      ticktext=['Jan', 'Feb', 'Mar', 'Apr', 'May', 'Jun', 'Jul', 'Aug', 'Sep', 'Oct', 'Nov', 'Dec'],\n",
    "                      tickangle=-45\n",
    "                  ),\n",
    "                  template='simple_white'\n",
    "                )\n",
    "# Add text within the figure\n",
    "fig.add_annotation(text=\"\"\" Shown is the average monthly relative humidity and the average monthly range. \n",
    "                   <br>The range delimiters show the mean of monhtly maximum and minimum relative humidity. \n",
    "                   <br>Here as well, keep in mind these are means and not the extreme values.\n",
    "                   \"\"\",\n",
    "                    xref='paper', yref='paper',\n",
    "                    x=0.5, y=-0.6,  # Adjust this value to position the text below the x-axis legend\n",
    "                    showarrow=False,\n",
    "                    align='left',\n",
    "                    font=dict(size=12, color='black')\n",
    "                    )\n",
    "\n",
    "# Adjust the bottom margin to create more space below the figure\n",
    "fig.update_layout(margin=dict(b=150))\n",
    "\n",
    "# Show the figure\n",
    "fig.update_traces(hovertemplate='%{x}: %{y:.0f} % <extra></extra>')\n",
    "fig.show()"
   ]
  },
  {
   "cell_type": "markdown",
   "metadata": {},
   "source": [
    "Shown is the average monthly relative humidity and the average monthly range. The range delimiters show the mean of monhtly maximum and minimum relative humidity. Here as well, keep in mind these are means and not the extreme values."
   ]
  },
  {
   "cell_type": "markdown",
   "metadata": {},
   "source": [
    "### Wind speeds and directions"
   ]
  },
  {
   "cell_type": "code",
   "execution_count": 20,
   "metadata": {},
   "outputs": [],
   "source": [
    "# Calculate wind speeds for past data\n",
    "wind_speed = np.sqrt(avg_u**2 + avg_v**2)\n",
    "#convert to km/h\n",
    "wind_speed = wind_speed*3.6\n",
    "\n",
    "# Calculate wind direction (see: https://confluence.ecmwf.int/pages/viewpage.action?pageId=133262398)\n",
    "wind_direction = np.mod(180 + np.arctan2(avg_u, avg_v) * (180 / np.pi), 360)\n",
    "\n",
    "#prepare the data for the wind rose\n",
    "df = pd.DataFrame({'speed': wind_speed, 'direction': wind_direction})\n",
    "\n",
    "bins_dir = np.linspace(0, 360, 9)\n",
    "labels_dir = [\"N\", \"NE\", \"E\", \"SE\", \"S\", \"SW\", \"W\", \"NW\"]\n",
    "bins_speed = np.arange(0, df['speed'].max() + 1.1,  np.round(np.ceil(max(wind_speed.values))/5))\n",
    "df['direction'] = pd.cut(df['direction'], bins=bins_dir, labels = labels_dir)\n",
    "df['speed'] = pd.cut(df['speed'], bins=bins_speed)\n",
    "\n",
    "# Calculate frequencies\n",
    "frequency_df = df.groupby(['direction', 'speed'], observed=True).size().reset_index(name='frequency')\n",
    "\n",
    "# Calculate total frequency\n",
    "total_frequency = frequency_df['frequency'].sum()\n",
    "\n",
    "# Convert frequency to proportion\n",
    "frequency_df['frequency'] = frequency_df['frequency'] / total_frequency\n",
    "\n",
    "# Get the number of unique 'speed' categories\n",
    "num_categories = len(frequency_df['speed'].unique())\n",
    "\n",
    "# Sort the 'speed' categories\n",
    "sorted_categories = frequency_df['speed'].sort_values().unique()"
   ]
  },
  {
   "cell_type": "code",
   "execution_count": 22,
   "metadata": {},
   "outputs": [],
   "source": [
    "# Calculate wind speeds with projected data\n",
    "wind_speed = np.sqrt(proj_avg_u**2 + proj_avg_v**2)\n",
    "#convert to km/h\n",
    "wind_speed = wind_speed*3.6\n",
    "\n",
    "# Calculate wind direction (see: https://confluence.ecmwf.int/pages/viewpage.action?pageId=133262398)\n",
    "wind_direction = np.mod(180 + np.arctan2(proj_avg_u, proj_avg_v) * (180 / np.pi), 360)\n",
    "\n",
    "#prepare the data for the wind rose\n",
    "df = pd.DataFrame({'speed': wind_speed, 'direction': wind_direction})\n",
    "\n",
    "bins_dir = np.linspace(0, 360, 9)\n",
    "labels_dir = [\"N\", \"NE\", \"E\", \"SE\", \"S\", \"SW\", \"W\", \"NW\"]\n",
    "bins_speed = np.arange(0, df['speed'].max() + 1.1,  np.round(np.ceil(max(wind_speed.values))/5))\n",
    "df['direction'] = pd.cut(df['direction'], bins=bins_dir, labels = labels_dir)\n",
    "df['speed'] = pd.cut(df['speed'], bins=bins_speed)\n",
    "\n",
    "# Calculate frequencies\n",
    "frequency_df_pred = df.groupby(['direction', 'speed'], observed=False).size().reset_index(name='frequency')\n",
    "\n",
    "# Calculate total frequency\n",
    "total_frequency_pred = frequency_df_pred['frequency'].sum()\n",
    "\n",
    "# Convert frequency to proportion\n",
    "frequency_df_pred['frequency'] = frequency_df_pred['frequency'] / total_frequency_pred\n",
    "\n",
    "# Get the number of unique 'speed' categories\n",
    "num_categories_pred = len(frequency_df_pred['speed'].unique())\n",
    "\n",
    "# Sort the 'speed' categories\n",
    "sorted_categories_pred = frequency_df_pred['speed'].sort_values().unique()"
   ]
  },
  {
   "cell_type": "code",
   "execution_count": 29,
   "metadata": {},
   "outputs": [
    {
     "data": {
      "text/plain": [
       "{Interval(0.0, 1.0, closed='right'),\n",
       " Interval(0.0, 3.0, closed='right'),\n",
       " Interval(1.0, 2.0, closed='right'),\n",
       " Interval(2.0, 3.0, closed='right'),\n",
       " Interval(3.0, 4.0, closed='right'),\n",
       " Interval(3.0, 6.0, closed='right'),\n",
       " Interval(4.0, 5.0, closed='right'),\n",
       " Interval(5.0, 6.0, closed='right'),\n",
       " Interval(6.0, 9.0, closed='right'),\n",
       " Interval(9.0, 12.0, closed='right'),\n",
       " Interval(12.0, 15.0, closed='right')}"
      ]
     },
     "execution_count": 29,
     "metadata": {},
     "output_type": "execute_result"
    }
   ],
   "source": [
    "sorted_category_union = set(sorted_categories_pred) | set(sorted_categories)\n",
    "sorted_category_union\n"
   ]
  },
  {
   "cell_type": "code",
   "execution_count": 23,
   "metadata": {},
   "outputs": [
    {
     "name": "stderr",
     "output_type": "stream",
     "text": [
      "/Users/giacomo/.pyenv/versions/3.9.7/envs/climate_permaculture/lib/python3.9/site-packages/plotly/express/_core.py:2044: FutureWarning:\n",
      "\n",
      "The default of observed=False is deprecated and will be changed to True in a future version of pandas. Pass observed=False to retain current behavior or observed=True to adopt the future default and silence this warning.\n",
      "\n"
     ]
    },
    {
     "data": {
      "application/vnd.plotly.v1+json": {
       "config": {
        "plotlyServerURL": "https://plot.ly"
       },
       "data": [
        {
         "hovertemplate": "Speed [km/h]=(0.0, 3.0]<br>frequency=%{r}<br>direction=%{theta}<extra></extra>",
         "legendgroup": "(0.0, 3.0]",
         "marker": {
          "color": "#fde725",
          "pattern": {
           "shape": ""
          }
         },
         "name": "(0.0, 3.0]",
         "r": [
          0.04278673835125448,
          0.05309139784946237,
          0.056451612903225805,
          0.06261200716845879,
          0.06888440860215053,
          0.0955421146953405,
          0.12051971326164874,
          0.05309139784946237
         ],
         "showlegend": true,
         "subplot": "polar",
         "theta": [
          "N",
          "NE",
          "E",
          "SE",
          "S",
          "SW",
          "W",
          "NW"
         ],
         "type": "barpolar"
        },
        {
         "hovertemplate": "Speed [km/h]=(3.0, 6.0]<br>frequency=%{r}<br>direction=%{theta}<extra></extra>",
         "legendgroup": "(3.0, 6.0]",
         "marker": {
          "color": "#5cc863",
          "pattern": {
           "shape": ""
          }
         },
         "name": "(3.0, 6.0]",
         "r": [
          0.006160394265232975,
          0.02139336917562724,
          0.035618279569892476,
          0.024305555555555556,
          0.029905913978494625,
          0.0913978494623656,
          0.11234318996415771,
          0.01568100358422939
         ],
         "showlegend": true,
         "subplot": "polar",
         "theta": [
          "N",
          "NE",
          "E",
          "SE",
          "S",
          "SW",
          "W",
          "NW"
         ],
         "type": "barpolar"
        },
        {
         "hovertemplate": "Speed [km/h]=(6.0, 9.0]<br>frequency=%{r}<br>direction=%{theta}<extra></extra>",
         "legendgroup": "(6.0, 9.0]",
         "marker": {
          "color": "#21908d",
          "pattern": {
           "shape": ""
          }
         },
         "name": "(6.0, 9.0]",
         "r": [
          0.00022401433691756272,
          0.0007840501792114696,
          0.0014560931899641578,
          0.0010080645161290322,
          0.0408826164874552,
          0.04379480286738351,
          0.0013440860215053765
         ],
         "showlegend": true,
         "subplot": "polar",
         "theta": [
          "N",
          "NE",
          "E",
          "S",
          "SW",
          "W",
          "NW"
         ],
         "type": "barpolar"
        },
        {
         "hovertemplate": "Speed [km/h]=(9.0, 12.0]<br>frequency=%{r}<br>direction=%{theta}<extra></extra>",
         "legendgroup": "(9.0, 12.0]",
         "marker": {
          "color": "#3b518b",
          "pattern": {
           "shape": ""
          }
         },
         "name": "(9.0, 12.0]",
         "r": [
          0.010304659498207885,
          0.007056451612903226
         ],
         "showlegend": true,
         "subplot": "polar",
         "theta": [
          "SW",
          "W"
         ],
         "type": "barpolar"
        },
        {
         "hovertemplate": "Speed [km/h]=(12.0, 15.0]<br>frequency=%{r}<br>direction=%{theta}<extra></extra>",
         "legendgroup": "(12.0, 15.0]",
         "marker": {
          "color": "#440154",
          "pattern": {
           "shape": ""
          }
         },
         "name": "(12.0, 15.0]",
         "r": [
          0.0025761648745519714,
          0.0007840501792114696
         ],
         "showlegend": true,
         "subplot": "polar",
         "theta": [
          "SW",
          "W"
         ],
         "type": "barpolar"
        }
       ],
       "layout": {
        "barmode": "relative",
        "height": 600,
        "legend": {
         "title": {
          "text": "Speed [km/h]"
         },
         "tracegroupgap": 0
        },
        "margin": {
         "t": 60
        },
        "polar": {
         "angularaxis": {
          "direction": "clockwise",
          "rotation": 90,
          "showgrid": true
         },
         "domain": {
          "x": [
           0,
           1
          ],
          "y": [
           0,
           1
          ]
         },
         "radialaxis": {
          "showgrid": true
         }
        },
        "template": {
         "data": {
          "bar": [
           {
            "error_x": {
             "color": "rgb(36,36,36)"
            },
            "error_y": {
             "color": "rgb(36,36,36)"
            },
            "marker": {
             "line": {
              "color": "white",
              "width": 0.5
             },
             "pattern": {
              "fillmode": "overlay",
              "size": 10,
              "solidity": 0.2
             }
            },
            "type": "bar"
           }
          ],
          "barpolar": [
           {
            "marker": {
             "line": {
              "color": "white",
              "width": 0.5
             },
             "pattern": {
              "fillmode": "overlay",
              "size": 10,
              "solidity": 0.2
             }
            },
            "type": "barpolar"
           }
          ],
          "carpet": [
           {
            "aaxis": {
             "endlinecolor": "rgb(36,36,36)",
             "gridcolor": "white",
             "linecolor": "white",
             "minorgridcolor": "white",
             "startlinecolor": "rgb(36,36,36)"
            },
            "baxis": {
             "endlinecolor": "rgb(36,36,36)",
             "gridcolor": "white",
             "linecolor": "white",
             "minorgridcolor": "white",
             "startlinecolor": "rgb(36,36,36)"
            },
            "type": "carpet"
           }
          ],
          "choropleth": [
           {
            "colorbar": {
             "outlinewidth": 1,
             "tickcolor": "rgb(36,36,36)",
             "ticks": "outside"
            },
            "type": "choropleth"
           }
          ],
          "contour": [
           {
            "colorbar": {
             "outlinewidth": 1,
             "tickcolor": "rgb(36,36,36)",
             "ticks": "outside"
            },
            "colorscale": [
             [
              0,
              "#440154"
             ],
             [
              0.1111111111111111,
              "#482878"
             ],
             [
              0.2222222222222222,
              "#3e4989"
             ],
             [
              0.3333333333333333,
              "#31688e"
             ],
             [
              0.4444444444444444,
              "#26828e"
             ],
             [
              0.5555555555555556,
              "#1f9e89"
             ],
             [
              0.6666666666666666,
              "#35b779"
             ],
             [
              0.7777777777777778,
              "#6ece58"
             ],
             [
              0.8888888888888888,
              "#b5de2b"
             ],
             [
              1,
              "#fde725"
             ]
            ],
            "type": "contour"
           }
          ],
          "contourcarpet": [
           {
            "colorbar": {
             "outlinewidth": 1,
             "tickcolor": "rgb(36,36,36)",
             "ticks": "outside"
            },
            "type": "contourcarpet"
           }
          ],
          "heatmap": [
           {
            "colorbar": {
             "outlinewidth": 1,
             "tickcolor": "rgb(36,36,36)",
             "ticks": "outside"
            },
            "colorscale": [
             [
              0,
              "#440154"
             ],
             [
              0.1111111111111111,
              "#482878"
             ],
             [
              0.2222222222222222,
              "#3e4989"
             ],
             [
              0.3333333333333333,
              "#31688e"
             ],
             [
              0.4444444444444444,
              "#26828e"
             ],
             [
              0.5555555555555556,
              "#1f9e89"
             ],
             [
              0.6666666666666666,
              "#35b779"
             ],
             [
              0.7777777777777778,
              "#6ece58"
             ],
             [
              0.8888888888888888,
              "#b5de2b"
             ],
             [
              1,
              "#fde725"
             ]
            ],
            "type": "heatmap"
           }
          ],
          "heatmapgl": [
           {
            "colorbar": {
             "outlinewidth": 1,
             "tickcolor": "rgb(36,36,36)",
             "ticks": "outside"
            },
            "colorscale": [
             [
              0,
              "#440154"
             ],
             [
              0.1111111111111111,
              "#482878"
             ],
             [
              0.2222222222222222,
              "#3e4989"
             ],
             [
              0.3333333333333333,
              "#31688e"
             ],
             [
              0.4444444444444444,
              "#26828e"
             ],
             [
              0.5555555555555556,
              "#1f9e89"
             ],
             [
              0.6666666666666666,
              "#35b779"
             ],
             [
              0.7777777777777778,
              "#6ece58"
             ],
             [
              0.8888888888888888,
              "#b5de2b"
             ],
             [
              1,
              "#fde725"
             ]
            ],
            "type": "heatmapgl"
           }
          ],
          "histogram": [
           {
            "marker": {
             "line": {
              "color": "white",
              "width": 0.6
             }
            },
            "type": "histogram"
           }
          ],
          "histogram2d": [
           {
            "colorbar": {
             "outlinewidth": 1,
             "tickcolor": "rgb(36,36,36)",
             "ticks": "outside"
            },
            "colorscale": [
             [
              0,
              "#440154"
             ],
             [
              0.1111111111111111,
              "#482878"
             ],
             [
              0.2222222222222222,
              "#3e4989"
             ],
             [
              0.3333333333333333,
              "#31688e"
             ],
             [
              0.4444444444444444,
              "#26828e"
             ],
             [
              0.5555555555555556,
              "#1f9e89"
             ],
             [
              0.6666666666666666,
              "#35b779"
             ],
             [
              0.7777777777777778,
              "#6ece58"
             ],
             [
              0.8888888888888888,
              "#b5de2b"
             ],
             [
              1,
              "#fde725"
             ]
            ],
            "type": "histogram2d"
           }
          ],
          "histogram2dcontour": [
           {
            "colorbar": {
             "outlinewidth": 1,
             "tickcolor": "rgb(36,36,36)",
             "ticks": "outside"
            },
            "colorscale": [
             [
              0,
              "#440154"
             ],
             [
              0.1111111111111111,
              "#482878"
             ],
             [
              0.2222222222222222,
              "#3e4989"
             ],
             [
              0.3333333333333333,
              "#31688e"
             ],
             [
              0.4444444444444444,
              "#26828e"
             ],
             [
              0.5555555555555556,
              "#1f9e89"
             ],
             [
              0.6666666666666666,
              "#35b779"
             ],
             [
              0.7777777777777778,
              "#6ece58"
             ],
             [
              0.8888888888888888,
              "#b5de2b"
             ],
             [
              1,
              "#fde725"
             ]
            ],
            "type": "histogram2dcontour"
           }
          ],
          "mesh3d": [
           {
            "colorbar": {
             "outlinewidth": 1,
             "tickcolor": "rgb(36,36,36)",
             "ticks": "outside"
            },
            "type": "mesh3d"
           }
          ],
          "parcoords": [
           {
            "line": {
             "colorbar": {
              "outlinewidth": 1,
              "tickcolor": "rgb(36,36,36)",
              "ticks": "outside"
             }
            },
            "type": "parcoords"
           }
          ],
          "pie": [
           {
            "automargin": true,
            "type": "pie"
           }
          ],
          "scatter": [
           {
            "fillpattern": {
             "fillmode": "overlay",
             "size": 10,
             "solidity": 0.2
            },
            "type": "scatter"
           }
          ],
          "scatter3d": [
           {
            "line": {
             "colorbar": {
              "outlinewidth": 1,
              "tickcolor": "rgb(36,36,36)",
              "ticks": "outside"
             }
            },
            "marker": {
             "colorbar": {
              "outlinewidth": 1,
              "tickcolor": "rgb(36,36,36)",
              "ticks": "outside"
             }
            },
            "type": "scatter3d"
           }
          ],
          "scattercarpet": [
           {
            "marker": {
             "colorbar": {
              "outlinewidth": 1,
              "tickcolor": "rgb(36,36,36)",
              "ticks": "outside"
             }
            },
            "type": "scattercarpet"
           }
          ],
          "scattergeo": [
           {
            "marker": {
             "colorbar": {
              "outlinewidth": 1,
              "tickcolor": "rgb(36,36,36)",
              "ticks": "outside"
             }
            },
            "type": "scattergeo"
           }
          ],
          "scattergl": [
           {
            "marker": {
             "colorbar": {
              "outlinewidth": 1,
              "tickcolor": "rgb(36,36,36)",
              "ticks": "outside"
             }
            },
            "type": "scattergl"
           }
          ],
          "scattermapbox": [
           {
            "marker": {
             "colorbar": {
              "outlinewidth": 1,
              "tickcolor": "rgb(36,36,36)",
              "ticks": "outside"
             }
            },
            "type": "scattermapbox"
           }
          ],
          "scatterpolar": [
           {
            "marker": {
             "colorbar": {
              "outlinewidth": 1,
              "tickcolor": "rgb(36,36,36)",
              "ticks": "outside"
             }
            },
            "type": "scatterpolar"
           }
          ],
          "scatterpolargl": [
           {
            "marker": {
             "colorbar": {
              "outlinewidth": 1,
              "tickcolor": "rgb(36,36,36)",
              "ticks": "outside"
             }
            },
            "type": "scatterpolargl"
           }
          ],
          "scatterternary": [
           {
            "marker": {
             "colorbar": {
              "outlinewidth": 1,
              "tickcolor": "rgb(36,36,36)",
              "ticks": "outside"
             }
            },
            "type": "scatterternary"
           }
          ],
          "surface": [
           {
            "colorbar": {
             "outlinewidth": 1,
             "tickcolor": "rgb(36,36,36)",
             "ticks": "outside"
            },
            "colorscale": [
             [
              0,
              "#440154"
             ],
             [
              0.1111111111111111,
              "#482878"
             ],
             [
              0.2222222222222222,
              "#3e4989"
             ],
             [
              0.3333333333333333,
              "#31688e"
             ],
             [
              0.4444444444444444,
              "#26828e"
             ],
             [
              0.5555555555555556,
              "#1f9e89"
             ],
             [
              0.6666666666666666,
              "#35b779"
             ],
             [
              0.7777777777777778,
              "#6ece58"
             ],
             [
              0.8888888888888888,
              "#b5de2b"
             ],
             [
              1,
              "#fde725"
             ]
            ],
            "type": "surface"
           }
          ],
          "table": [
           {
            "cells": {
             "fill": {
              "color": "rgb(237,237,237)"
             },
             "line": {
              "color": "white"
             }
            },
            "header": {
             "fill": {
              "color": "rgb(217,217,217)"
             },
             "line": {
              "color": "white"
             }
            },
            "type": "table"
           }
          ]
         },
         "layout": {
          "annotationdefaults": {
           "arrowhead": 0,
           "arrowwidth": 1
          },
          "autotypenumbers": "strict",
          "coloraxis": {
           "colorbar": {
            "outlinewidth": 1,
            "tickcolor": "rgb(36,36,36)",
            "ticks": "outside"
           }
          },
          "colorscale": {
           "diverging": [
            [
             0,
             "rgb(103,0,31)"
            ],
            [
             0.1,
             "rgb(178,24,43)"
            ],
            [
             0.2,
             "rgb(214,96,77)"
            ],
            [
             0.3,
             "rgb(244,165,130)"
            ],
            [
             0.4,
             "rgb(253,219,199)"
            ],
            [
             0.5,
             "rgb(247,247,247)"
            ],
            [
             0.6,
             "rgb(209,229,240)"
            ],
            [
             0.7,
             "rgb(146,197,222)"
            ],
            [
             0.8,
             "rgb(67,147,195)"
            ],
            [
             0.9,
             "rgb(33,102,172)"
            ],
            [
             1,
             "rgb(5,48,97)"
            ]
           ],
           "sequential": [
            [
             0,
             "#440154"
            ],
            [
             0.1111111111111111,
             "#482878"
            ],
            [
             0.2222222222222222,
             "#3e4989"
            ],
            [
             0.3333333333333333,
             "#31688e"
            ],
            [
             0.4444444444444444,
             "#26828e"
            ],
            [
             0.5555555555555556,
             "#1f9e89"
            ],
            [
             0.6666666666666666,
             "#35b779"
            ],
            [
             0.7777777777777778,
             "#6ece58"
            ],
            [
             0.8888888888888888,
             "#b5de2b"
            ],
            [
             1,
             "#fde725"
            ]
           ],
           "sequentialminus": [
            [
             0,
             "#440154"
            ],
            [
             0.1111111111111111,
             "#482878"
            ],
            [
             0.2222222222222222,
             "#3e4989"
            ],
            [
             0.3333333333333333,
             "#31688e"
            ],
            [
             0.4444444444444444,
             "#26828e"
            ],
            [
             0.5555555555555556,
             "#1f9e89"
            ],
            [
             0.6666666666666666,
             "#35b779"
            ],
            [
             0.7777777777777778,
             "#6ece58"
            ],
            [
             0.8888888888888888,
             "#b5de2b"
            ],
            [
             1,
             "#fde725"
            ]
           ]
          },
          "colorway": [
           "#1F77B4",
           "#FF7F0E",
           "#2CA02C",
           "#D62728",
           "#9467BD",
           "#8C564B",
           "#E377C2",
           "#7F7F7F",
           "#BCBD22",
           "#17BECF"
          ],
          "font": {
           "color": "rgb(36,36,36)"
          },
          "geo": {
           "bgcolor": "white",
           "lakecolor": "white",
           "landcolor": "white",
           "showlakes": true,
           "showland": true,
           "subunitcolor": "white"
          },
          "hoverlabel": {
           "align": "left"
          },
          "hovermode": "closest",
          "mapbox": {
           "style": "light"
          },
          "paper_bgcolor": "white",
          "plot_bgcolor": "white",
          "polar": {
           "angularaxis": {
            "gridcolor": "rgb(232,232,232)",
            "linecolor": "rgb(36,36,36)",
            "showgrid": false,
            "showline": true,
            "ticks": "outside"
           },
           "bgcolor": "white",
           "radialaxis": {
            "gridcolor": "rgb(232,232,232)",
            "linecolor": "rgb(36,36,36)",
            "showgrid": false,
            "showline": true,
            "ticks": "outside"
           }
          },
          "scene": {
           "xaxis": {
            "backgroundcolor": "white",
            "gridcolor": "rgb(232,232,232)",
            "gridwidth": 2,
            "linecolor": "rgb(36,36,36)",
            "showbackground": true,
            "showgrid": false,
            "showline": true,
            "ticks": "outside",
            "zeroline": false,
            "zerolinecolor": "rgb(36,36,36)"
           },
           "yaxis": {
            "backgroundcolor": "white",
            "gridcolor": "rgb(232,232,232)",
            "gridwidth": 2,
            "linecolor": "rgb(36,36,36)",
            "showbackground": true,
            "showgrid": false,
            "showline": true,
            "ticks": "outside",
            "zeroline": false,
            "zerolinecolor": "rgb(36,36,36)"
           },
           "zaxis": {
            "backgroundcolor": "white",
            "gridcolor": "rgb(232,232,232)",
            "gridwidth": 2,
            "linecolor": "rgb(36,36,36)",
            "showbackground": true,
            "showgrid": false,
            "showline": true,
            "ticks": "outside",
            "zeroline": false,
            "zerolinecolor": "rgb(36,36,36)"
           }
          },
          "shapedefaults": {
           "fillcolor": "black",
           "line": {
            "width": 0
           },
           "opacity": 0.3
          },
          "ternary": {
           "aaxis": {
            "gridcolor": "rgb(232,232,232)",
            "linecolor": "rgb(36,36,36)",
            "showgrid": false,
            "showline": true,
            "ticks": "outside"
           },
           "baxis": {
            "gridcolor": "rgb(232,232,232)",
            "linecolor": "rgb(36,36,36)",
            "showgrid": false,
            "showline": true,
            "ticks": "outside"
           },
           "bgcolor": "white",
           "caxis": {
            "gridcolor": "rgb(232,232,232)",
            "linecolor": "rgb(36,36,36)",
            "showgrid": false,
            "showline": true,
            "ticks": "outside"
           }
          },
          "title": {
           "x": 0.05
          },
          "xaxis": {
           "automargin": true,
           "gridcolor": "rgb(232,232,232)",
           "linecolor": "rgb(36,36,36)",
           "showgrid": false,
           "showline": true,
           "ticks": "outside",
           "title": {
            "standoff": 15
           },
           "zeroline": false,
           "zerolinecolor": "rgb(36,36,36)"
          },
          "yaxis": {
           "automargin": true,
           "gridcolor": "rgb(232,232,232)",
           "linecolor": "rgb(36,36,36)",
           "showgrid": false,
           "showline": true,
           "ticks": "outside",
           "title": {
            "standoff": 15
           },
           "zeroline": false,
           "zerolinecolor": "rgb(36,36,36)"
          }
         }
        },
        "width": 800
       }
      }
     },
     "metadata": {},
     "output_type": "display_data"
    }
   ],
   "source": [
    "# Create a custom color scale with the same number of colors as there are categories\n",
    "custom_color_scale = plt.cm.viridis_r(np.linspace(0, 1, num_categories))\n",
    "\n",
    "# Convert the color scale to a list of hex color strings\n",
    "custom_color_scale = [matplotlib.colors.rgb2hex(color) for color in custom_color_scale]\n",
    "\n",
    "# Define a color map for the sorted 'speed' categories\n",
    "color_map = {category: color for category, color in zip(sorted_categories, custom_color_scale)}\n",
    "# Create the wind rose chart\n",
    "fig = px.bar_polar(frequency_df, \n",
    "                   r='frequency', \n",
    "                   theta='direction', \n",
    "                   color='speed', \n",
    "                   template='simple_white', \n",
    "                   color_discrete_map=color_map, labels={\"speed\": \"Speed [km/h]\"})  # Use the color map\n",
    "\n",
    "# Update the layout to make it rectangular\n",
    "fig.update_layout(\n",
    "    width=800,  # Set the width to 700 pixels\n",
    "    height=600,  # Set the height to 1000 pixels\n",
    "    polar_radialaxis_showgrid=True,  # Show radial grid\n",
    "    polar_angularaxis_showgrid=True  # Show angular grid\n",
    ")\n",
    "\n",
    "fig.show()"
   ]
  },
  {
   "cell_type": "code",
   "execution_count": 24,
   "metadata": {},
   "outputs": [
    {
     "data": {
      "application/vnd.plotly.v1+json": {
       "config": {
        "plotlyServerURL": "https://plot.ly"
       },
       "data": [
        {
         "marker": {
          "color": "#fde725"
         },
         "name": "(0.0, 3.0]",
         "opacity": 0.7,
         "r": [
          0.04278673835125448,
          0.05309139784946237,
          0.056451612903225805,
          0.06261200716845879,
          0.06888440860215053,
          0.0955421146953405,
          0.12051971326164874,
          0.05309139784946237
         ],
         "subplot": "polar",
         "theta": [
          "N",
          "NE",
          "E",
          "SE",
          "S",
          "SW",
          "W",
          "NW"
         ],
         "type": "barpolar"
        },
        {
         "marker": {
          "color": "#5cc863"
         },
         "name": "(3.0, 6.0]",
         "opacity": 0.7,
         "r": [
          0.006160394265232975,
          0.02139336917562724,
          0.035618279569892476,
          0.024305555555555556,
          0.029905913978494625,
          0.0913978494623656,
          0.11234318996415771,
          0.01568100358422939
         ],
         "subplot": "polar",
         "theta": [
          "N",
          "NE",
          "E",
          "SE",
          "S",
          "SW",
          "W",
          "NW"
         ],
         "type": "barpolar"
        },
        {
         "marker": {
          "color": "#21908d"
         },
         "name": "(6.0, 9.0]",
         "opacity": 0.7,
         "r": [
          0.00022401433691756272,
          0.0007840501792114696,
          0.0014560931899641578,
          0.0010080645161290322,
          0.0408826164874552,
          0.04379480286738351,
          0.0013440860215053765
         ],
         "subplot": "polar",
         "theta": [
          "N",
          "NE",
          "E",
          "S",
          "SW",
          "W",
          "NW"
         ],
         "type": "barpolar"
        },
        {
         "marker": {
          "color": "#3b518b"
         },
         "name": "(9.0, 12.0]",
         "opacity": 0.7,
         "r": [
          0.010304659498207885,
          0.007056451612903226
         ],
         "subplot": "polar",
         "theta": [
          "SW",
          "W"
         ],
         "type": "barpolar"
        },
        {
         "marker": {
          "color": "#440154"
         },
         "name": "(12.0, 15.0]",
         "opacity": 0.7,
         "r": [
          0.0025761648745519714,
          0.0007840501792114696
         ],
         "subplot": "polar",
         "theta": [
          "SW",
          "W"
         ],
         "type": "barpolar"
        },
        {
         "marker": {
          "color": "#fde725"
         },
         "name": "Projected Data",
         "opacity": 0.7,
         "r": [
          0,
          0,
          0,
          0,
          0,
          0,
          0,
          0,
          0,
          0,
          0,
          0,
          0,
          0,
          0,
          0,
          0,
          0,
          0,
          0.08333333333333333,
          0.08333333333333333,
          0,
          0,
          0,
          0,
          0,
          0,
          0.16666666666666666,
          0,
          0,
          0,
          0.16666666666666666,
          0,
          0,
          0,
          0,
          0,
          0,
          0.08333333333333333,
          0,
          0.16666666666666666,
          0.25,
          0,
          0,
          0,
          0,
          0,
          0
         ],
         "subplot": "polar2",
         "theta": [
          "N",
          "N",
          "N",
          "N",
          "N",
          "N",
          "NE",
          "NE",
          "NE",
          "NE",
          "NE",
          "NE",
          "E",
          "E",
          "E",
          "E",
          "E",
          "E",
          "SE",
          "SE",
          "SE",
          "SE",
          "SE",
          "SE",
          "S",
          "S",
          "S",
          "S",
          "S",
          "S",
          "SW",
          "SW",
          "SW",
          "SW",
          "SW",
          "SW",
          "W",
          "W",
          "W",
          "W",
          "W",
          "W",
          "NW",
          "NW",
          "NW",
          "NW",
          "NW",
          "NW"
         ],
         "type": "barpolar"
        },
        {
         "marker": {
          "color": "#5cc863"
         },
         "name": "Projected Data",
         "opacity": 0.7,
         "r": [
          0,
          0,
          0,
          0,
          0,
          0,
          0,
          0,
          0,
          0,
          0,
          0,
          0,
          0,
          0,
          0,
          0,
          0,
          0,
          0.08333333333333333,
          0.08333333333333333,
          0,
          0,
          0,
          0,
          0,
          0,
          0.16666666666666666,
          0,
          0,
          0,
          0.16666666666666666,
          0,
          0,
          0,
          0,
          0,
          0,
          0.08333333333333333,
          0,
          0.16666666666666666,
          0.25,
          0,
          0,
          0,
          0,
          0,
          0
         ],
         "subplot": "polar2",
         "theta": [
          "N",
          "N",
          "N",
          "N",
          "N",
          "N",
          "NE",
          "NE",
          "NE",
          "NE",
          "NE",
          "NE",
          "E",
          "E",
          "E",
          "E",
          "E",
          "E",
          "SE",
          "SE",
          "SE",
          "SE",
          "SE",
          "SE",
          "S",
          "S",
          "S",
          "S",
          "S",
          "S",
          "SW",
          "SW",
          "SW",
          "SW",
          "SW",
          "SW",
          "W",
          "W",
          "W",
          "W",
          "W",
          "W",
          "NW",
          "NW",
          "NW",
          "NW",
          "NW",
          "NW"
         ],
         "type": "barpolar"
        },
        {
         "marker": {
          "color": "#21908d"
         },
         "name": "Projected Data",
         "opacity": 0.7,
         "r": [
          0,
          0,
          0,
          0,
          0,
          0,
          0,
          0,
          0,
          0,
          0,
          0,
          0,
          0,
          0,
          0,
          0,
          0,
          0,
          0.08333333333333333,
          0.08333333333333333,
          0,
          0,
          0,
          0,
          0,
          0,
          0.16666666666666666,
          0,
          0,
          0,
          0.16666666666666666,
          0,
          0,
          0,
          0,
          0,
          0,
          0.08333333333333333,
          0,
          0.16666666666666666,
          0.25,
          0,
          0,
          0,
          0,
          0,
          0
         ],
         "subplot": "polar2",
         "theta": [
          "N",
          "N",
          "N",
          "N",
          "N",
          "N",
          "NE",
          "NE",
          "NE",
          "NE",
          "NE",
          "NE",
          "E",
          "E",
          "E",
          "E",
          "E",
          "E",
          "SE",
          "SE",
          "SE",
          "SE",
          "SE",
          "SE",
          "S",
          "S",
          "S",
          "S",
          "S",
          "S",
          "SW",
          "SW",
          "SW",
          "SW",
          "SW",
          "SW",
          "W",
          "W",
          "W",
          "W",
          "W",
          "W",
          "NW",
          "NW",
          "NW",
          "NW",
          "NW",
          "NW"
         ],
         "type": "barpolar"
        },
        {
         "marker": {
          "color": "#3b518b"
         },
         "name": "Projected Data",
         "opacity": 0.7,
         "r": [
          0,
          0,
          0,
          0,
          0,
          0,
          0,
          0,
          0,
          0,
          0,
          0,
          0,
          0,
          0,
          0,
          0,
          0,
          0,
          0.08333333333333333,
          0.08333333333333333,
          0,
          0,
          0,
          0,
          0,
          0,
          0.16666666666666666,
          0,
          0,
          0,
          0.16666666666666666,
          0,
          0,
          0,
          0,
          0,
          0,
          0.08333333333333333,
          0,
          0.16666666666666666,
          0.25,
          0,
          0,
          0,
          0,
          0,
          0
         ],
         "subplot": "polar2",
         "theta": [
          "N",
          "N",
          "N",
          "N",
          "N",
          "N",
          "NE",
          "NE",
          "NE",
          "NE",
          "NE",
          "NE",
          "E",
          "E",
          "E",
          "E",
          "E",
          "E",
          "SE",
          "SE",
          "SE",
          "SE",
          "SE",
          "SE",
          "S",
          "S",
          "S",
          "S",
          "S",
          "S",
          "SW",
          "SW",
          "SW",
          "SW",
          "SW",
          "SW",
          "W",
          "W",
          "W",
          "W",
          "W",
          "W",
          "NW",
          "NW",
          "NW",
          "NW",
          "NW",
          "NW"
         ],
         "type": "barpolar"
        },
        {
         "marker": {
          "color": "#440154"
         },
         "name": "Projected Data",
         "opacity": 0.7,
         "r": [
          0,
          0,
          0,
          0,
          0,
          0,
          0,
          0,
          0,
          0,
          0,
          0,
          0,
          0,
          0,
          0,
          0,
          0,
          0,
          0.08333333333333333,
          0.08333333333333333,
          0,
          0,
          0,
          0,
          0,
          0,
          0.16666666666666666,
          0,
          0,
          0,
          0.16666666666666666,
          0,
          0,
          0,
          0,
          0,
          0,
          0.08333333333333333,
          0,
          0.16666666666666666,
          0.25,
          0,
          0,
          0,
          0,
          0,
          0
         ],
         "subplot": "polar2",
         "theta": [
          "N",
          "N",
          "N",
          "N",
          "N",
          "N",
          "NE",
          "NE",
          "NE",
          "NE",
          "NE",
          "NE",
          "E",
          "E",
          "E",
          "E",
          "E",
          "E",
          "SE",
          "SE",
          "SE",
          "SE",
          "SE",
          "SE",
          "S",
          "S",
          "S",
          "S",
          "S",
          "S",
          "SW",
          "SW",
          "SW",
          "SW",
          "SW",
          "SW",
          "W",
          "W",
          "W",
          "W",
          "W",
          "W",
          "NW",
          "NW",
          "NW",
          "NW",
          "NW",
          "NW"
         ],
         "type": "barpolar"
        }
       ],
       "layout": {
        "annotations": [
         {
          "font": {
           "size": 16
          },
          "showarrow": false,
          "text": "Wind Rose - Past Data",
          "x": 0.225,
          "xanchor": "center",
          "xref": "paper",
          "y": 1,
          "yanchor": "bottom",
          "yref": "paper"
         },
         {
          "font": {
           "size": 16
          },
          "showarrow": false,
          "text": "Wind Rose - Projected Data",
          "x": 0.775,
          "xanchor": "center",
          "xref": "paper",
          "y": 1,
          "yanchor": "bottom",
          "yref": "paper"
         }
        ],
        "polar": {
         "angularaxis": {
          "showgrid": true
         },
         "domain": {
          "x": [
           0,
           0.45
          ],
          "y": [
           0,
           1
          ]
         },
         "radialaxis": {
          "showgrid": true
         }
        },
        "polar2": {
         "domain": {
          "x": [
           0.55,
           1
          ],
          "y": [
           0,
           1
          ]
         }
        },
        "showlegend": true,
        "template": {
         "data": {
          "bar": [
           {
            "error_x": {
             "color": "#2a3f5f"
            },
            "error_y": {
             "color": "#2a3f5f"
            },
            "marker": {
             "line": {
              "color": "#E5ECF6",
              "width": 0.5
             },
             "pattern": {
              "fillmode": "overlay",
              "size": 10,
              "solidity": 0.2
             }
            },
            "type": "bar"
           }
          ],
          "barpolar": [
           {
            "marker": {
             "line": {
              "color": "#E5ECF6",
              "width": 0.5
             },
             "pattern": {
              "fillmode": "overlay",
              "size": 10,
              "solidity": 0.2
             }
            },
            "type": "barpolar"
           }
          ],
          "carpet": [
           {
            "aaxis": {
             "endlinecolor": "#2a3f5f",
             "gridcolor": "white",
             "linecolor": "white",
             "minorgridcolor": "white",
             "startlinecolor": "#2a3f5f"
            },
            "baxis": {
             "endlinecolor": "#2a3f5f",
             "gridcolor": "white",
             "linecolor": "white",
             "minorgridcolor": "white",
             "startlinecolor": "#2a3f5f"
            },
            "type": "carpet"
           }
          ],
          "choropleth": [
           {
            "colorbar": {
             "outlinewidth": 0,
             "ticks": ""
            },
            "type": "choropleth"
           }
          ],
          "contour": [
           {
            "colorbar": {
             "outlinewidth": 0,
             "ticks": ""
            },
            "colorscale": [
             [
              0,
              "#0d0887"
             ],
             [
              0.1111111111111111,
              "#46039f"
             ],
             [
              0.2222222222222222,
              "#7201a8"
             ],
             [
              0.3333333333333333,
              "#9c179e"
             ],
             [
              0.4444444444444444,
              "#bd3786"
             ],
             [
              0.5555555555555556,
              "#d8576b"
             ],
             [
              0.6666666666666666,
              "#ed7953"
             ],
             [
              0.7777777777777778,
              "#fb9f3a"
             ],
             [
              0.8888888888888888,
              "#fdca26"
             ],
             [
              1,
              "#f0f921"
             ]
            ],
            "type": "contour"
           }
          ],
          "contourcarpet": [
           {
            "colorbar": {
             "outlinewidth": 0,
             "ticks": ""
            },
            "type": "contourcarpet"
           }
          ],
          "heatmap": [
           {
            "colorbar": {
             "outlinewidth": 0,
             "ticks": ""
            },
            "colorscale": [
             [
              0,
              "#0d0887"
             ],
             [
              0.1111111111111111,
              "#46039f"
             ],
             [
              0.2222222222222222,
              "#7201a8"
             ],
             [
              0.3333333333333333,
              "#9c179e"
             ],
             [
              0.4444444444444444,
              "#bd3786"
             ],
             [
              0.5555555555555556,
              "#d8576b"
             ],
             [
              0.6666666666666666,
              "#ed7953"
             ],
             [
              0.7777777777777778,
              "#fb9f3a"
             ],
             [
              0.8888888888888888,
              "#fdca26"
             ],
             [
              1,
              "#f0f921"
             ]
            ],
            "type": "heatmap"
           }
          ],
          "heatmapgl": [
           {
            "colorbar": {
             "outlinewidth": 0,
             "ticks": ""
            },
            "colorscale": [
             [
              0,
              "#0d0887"
             ],
             [
              0.1111111111111111,
              "#46039f"
             ],
             [
              0.2222222222222222,
              "#7201a8"
             ],
             [
              0.3333333333333333,
              "#9c179e"
             ],
             [
              0.4444444444444444,
              "#bd3786"
             ],
             [
              0.5555555555555556,
              "#d8576b"
             ],
             [
              0.6666666666666666,
              "#ed7953"
             ],
             [
              0.7777777777777778,
              "#fb9f3a"
             ],
             [
              0.8888888888888888,
              "#fdca26"
             ],
             [
              1,
              "#f0f921"
             ]
            ],
            "type": "heatmapgl"
           }
          ],
          "histogram": [
           {
            "marker": {
             "pattern": {
              "fillmode": "overlay",
              "size": 10,
              "solidity": 0.2
             }
            },
            "type": "histogram"
           }
          ],
          "histogram2d": [
           {
            "colorbar": {
             "outlinewidth": 0,
             "ticks": ""
            },
            "colorscale": [
             [
              0,
              "#0d0887"
             ],
             [
              0.1111111111111111,
              "#46039f"
             ],
             [
              0.2222222222222222,
              "#7201a8"
             ],
             [
              0.3333333333333333,
              "#9c179e"
             ],
             [
              0.4444444444444444,
              "#bd3786"
             ],
             [
              0.5555555555555556,
              "#d8576b"
             ],
             [
              0.6666666666666666,
              "#ed7953"
             ],
             [
              0.7777777777777778,
              "#fb9f3a"
             ],
             [
              0.8888888888888888,
              "#fdca26"
             ],
             [
              1,
              "#f0f921"
             ]
            ],
            "type": "histogram2d"
           }
          ],
          "histogram2dcontour": [
           {
            "colorbar": {
             "outlinewidth": 0,
             "ticks": ""
            },
            "colorscale": [
             [
              0,
              "#0d0887"
             ],
             [
              0.1111111111111111,
              "#46039f"
             ],
             [
              0.2222222222222222,
              "#7201a8"
             ],
             [
              0.3333333333333333,
              "#9c179e"
             ],
             [
              0.4444444444444444,
              "#bd3786"
             ],
             [
              0.5555555555555556,
              "#d8576b"
             ],
             [
              0.6666666666666666,
              "#ed7953"
             ],
             [
              0.7777777777777778,
              "#fb9f3a"
             ],
             [
              0.8888888888888888,
              "#fdca26"
             ],
             [
              1,
              "#f0f921"
             ]
            ],
            "type": "histogram2dcontour"
           }
          ],
          "mesh3d": [
           {
            "colorbar": {
             "outlinewidth": 0,
             "ticks": ""
            },
            "type": "mesh3d"
           }
          ],
          "parcoords": [
           {
            "line": {
             "colorbar": {
              "outlinewidth": 0,
              "ticks": ""
             }
            },
            "type": "parcoords"
           }
          ],
          "pie": [
           {
            "automargin": true,
            "type": "pie"
           }
          ],
          "scatter": [
           {
            "fillpattern": {
             "fillmode": "overlay",
             "size": 10,
             "solidity": 0.2
            },
            "type": "scatter"
           }
          ],
          "scatter3d": [
           {
            "line": {
             "colorbar": {
              "outlinewidth": 0,
              "ticks": ""
             }
            },
            "marker": {
             "colorbar": {
              "outlinewidth": 0,
              "ticks": ""
             }
            },
            "type": "scatter3d"
           }
          ],
          "scattercarpet": [
           {
            "marker": {
             "colorbar": {
              "outlinewidth": 0,
              "ticks": ""
             }
            },
            "type": "scattercarpet"
           }
          ],
          "scattergeo": [
           {
            "marker": {
             "colorbar": {
              "outlinewidth": 0,
              "ticks": ""
             }
            },
            "type": "scattergeo"
           }
          ],
          "scattergl": [
           {
            "marker": {
             "colorbar": {
              "outlinewidth": 0,
              "ticks": ""
             }
            },
            "type": "scattergl"
           }
          ],
          "scattermapbox": [
           {
            "marker": {
             "colorbar": {
              "outlinewidth": 0,
              "ticks": ""
             }
            },
            "type": "scattermapbox"
           }
          ],
          "scatterpolar": [
           {
            "marker": {
             "colorbar": {
              "outlinewidth": 0,
              "ticks": ""
             }
            },
            "type": "scatterpolar"
           }
          ],
          "scatterpolargl": [
           {
            "marker": {
             "colorbar": {
              "outlinewidth": 0,
              "ticks": ""
             }
            },
            "type": "scatterpolargl"
           }
          ],
          "scatterternary": [
           {
            "marker": {
             "colorbar": {
              "outlinewidth": 0,
              "ticks": ""
             }
            },
            "type": "scatterternary"
           }
          ],
          "surface": [
           {
            "colorbar": {
             "outlinewidth": 0,
             "ticks": ""
            },
            "colorscale": [
             [
              0,
              "#0d0887"
             ],
             [
              0.1111111111111111,
              "#46039f"
             ],
             [
              0.2222222222222222,
              "#7201a8"
             ],
             [
              0.3333333333333333,
              "#9c179e"
             ],
             [
              0.4444444444444444,
              "#bd3786"
             ],
             [
              0.5555555555555556,
              "#d8576b"
             ],
             [
              0.6666666666666666,
              "#ed7953"
             ],
             [
              0.7777777777777778,
              "#fb9f3a"
             ],
             [
              0.8888888888888888,
              "#fdca26"
             ],
             [
              1,
              "#f0f921"
             ]
            ],
            "type": "surface"
           }
          ],
          "table": [
           {
            "cells": {
             "fill": {
              "color": "#EBF0F8"
             },
             "line": {
              "color": "white"
             }
            },
            "header": {
             "fill": {
              "color": "#C8D4E3"
             },
             "line": {
              "color": "white"
             }
            },
            "type": "table"
           }
          ]
         },
         "layout": {
          "annotationdefaults": {
           "arrowcolor": "#2a3f5f",
           "arrowhead": 0,
           "arrowwidth": 1
          },
          "autotypenumbers": "strict",
          "coloraxis": {
           "colorbar": {
            "outlinewidth": 0,
            "ticks": ""
           }
          },
          "colorscale": {
           "diverging": [
            [
             0,
             "#8e0152"
            ],
            [
             0.1,
             "#c51b7d"
            ],
            [
             0.2,
             "#de77ae"
            ],
            [
             0.3,
             "#f1b6da"
            ],
            [
             0.4,
             "#fde0ef"
            ],
            [
             0.5,
             "#f7f7f7"
            ],
            [
             0.6,
             "#e6f5d0"
            ],
            [
             0.7,
             "#b8e186"
            ],
            [
             0.8,
             "#7fbc41"
            ],
            [
             0.9,
             "#4d9221"
            ],
            [
             1,
             "#276419"
            ]
           ],
           "sequential": [
            [
             0,
             "#0d0887"
            ],
            [
             0.1111111111111111,
             "#46039f"
            ],
            [
             0.2222222222222222,
             "#7201a8"
            ],
            [
             0.3333333333333333,
             "#9c179e"
            ],
            [
             0.4444444444444444,
             "#bd3786"
            ],
            [
             0.5555555555555556,
             "#d8576b"
            ],
            [
             0.6666666666666666,
             "#ed7953"
            ],
            [
             0.7777777777777778,
             "#fb9f3a"
            ],
            [
             0.8888888888888888,
             "#fdca26"
            ],
            [
             1,
             "#f0f921"
            ]
           ],
           "sequentialminus": [
            [
             0,
             "#0d0887"
            ],
            [
             0.1111111111111111,
             "#46039f"
            ],
            [
             0.2222222222222222,
             "#7201a8"
            ],
            [
             0.3333333333333333,
             "#9c179e"
            ],
            [
             0.4444444444444444,
             "#bd3786"
            ],
            [
             0.5555555555555556,
             "#d8576b"
            ],
            [
             0.6666666666666666,
             "#ed7953"
            ],
            [
             0.7777777777777778,
             "#fb9f3a"
            ],
            [
             0.8888888888888888,
             "#fdca26"
            ],
            [
             1,
             "#f0f921"
            ]
           ]
          },
          "colorway": [
           "#636efa",
           "#EF553B",
           "#00cc96",
           "#ab63fa",
           "#FFA15A",
           "#19d3f3",
           "#FF6692",
           "#B6E880",
           "#FF97FF",
           "#FECB52"
          ],
          "font": {
           "color": "#2a3f5f"
          },
          "geo": {
           "bgcolor": "white",
           "lakecolor": "white",
           "landcolor": "#E5ECF6",
           "showlakes": true,
           "showland": true,
           "subunitcolor": "white"
          },
          "hoverlabel": {
           "align": "left"
          },
          "hovermode": "closest",
          "mapbox": {
           "style": "light"
          },
          "paper_bgcolor": "white",
          "plot_bgcolor": "#E5ECF6",
          "polar": {
           "angularaxis": {
            "gridcolor": "white",
            "linecolor": "white",
            "ticks": ""
           },
           "bgcolor": "#E5ECF6",
           "radialaxis": {
            "gridcolor": "white",
            "linecolor": "white",
            "ticks": ""
           }
          },
          "scene": {
           "xaxis": {
            "backgroundcolor": "#E5ECF6",
            "gridcolor": "white",
            "gridwidth": 2,
            "linecolor": "white",
            "showbackground": true,
            "ticks": "",
            "zerolinecolor": "white"
           },
           "yaxis": {
            "backgroundcolor": "#E5ECF6",
            "gridcolor": "white",
            "gridwidth": 2,
            "linecolor": "white",
            "showbackground": true,
            "ticks": "",
            "zerolinecolor": "white"
           },
           "zaxis": {
            "backgroundcolor": "#E5ECF6",
            "gridcolor": "white",
            "gridwidth": 2,
            "linecolor": "white",
            "showbackground": true,
            "ticks": "",
            "zerolinecolor": "white"
           }
          },
          "shapedefaults": {
           "line": {
            "color": "#2a3f5f"
           }
          },
          "ternary": {
           "aaxis": {
            "gridcolor": "white",
            "linecolor": "white",
            "ticks": ""
           },
           "baxis": {
            "gridcolor": "white",
            "linecolor": "white",
            "ticks": ""
           },
           "bgcolor": "#E5ECF6",
           "caxis": {
            "gridcolor": "white",
            "linecolor": "white",
            "ticks": ""
           }
          },
          "title": {
           "x": 0.05
          },
          "xaxis": {
           "automargin": true,
           "gridcolor": "white",
           "linecolor": "white",
           "ticks": "",
           "title": {
            "standoff": 15
           },
           "zerolinecolor": "white",
           "zerolinewidth": 2
          },
          "yaxis": {
           "automargin": true,
           "gridcolor": "white",
           "linecolor": "white",
           "ticks": "",
           "title": {
            "standoff": 15
           },
           "zerolinecolor": "white",
           "zerolinewidth": 2
          }
         }
        }
       }
      }
     },
     "metadata": {},
     "output_type": "display_data"
    }
   ],
   "source": [
    "## check the title\n",
    "## checke the direction of carddinal points\n",
    "## fix the color scale\n",
    "import plotly.graph_objects as go\n",
    "# Create the wind rose chart for past data\n",
    "fig = make_subplots(rows=1, cols=2, subplot_titles=('Wind Rose - Past Data', 'Wind Rose - Projected Data'), specs=[[{'type': 'polar'}]*2])\n",
    "\n",
    "# Assuming color_map is a dictionary mapping categories to colors\n",
    "for category, color in color_map.items():\n",
    "    # Filter the data for this category\n",
    "    category_df = frequency_df[frequency_df['speed'] == category]\n",
    "\n",
    "    # Add a trace for this category\n",
    "    fig.add_trace(go.Barpolar(\n",
    "        r=category_df['frequency'],\n",
    "        theta=category_df['direction'],\n",
    "        marker_color=color,  # Use the color from the color map\n",
    "        opacity=0.7,\n",
    "        name=str(category)  # Use the category as the trace name\n",
    "    ), row=1, col=1)\n",
    "\n",
    "for category, color in color_map.items():\n",
    "    # Filter the data for this category\n",
    "    category_df = frequency_df[frequency_df['speed'] == category]\n",
    "\n",
    "    # Plot the wind rose for projected data\n",
    "    fig.add_trace(go.Barpolar(\n",
    "        r=frequency_df_pred['frequency'],\n",
    "        theta=frequency_df_pred['direction'],\n",
    "        marker_color=color,\n",
    "        opacity=0.7,\n",
    "        name='Projected Data'\n",
    "    ), row=1, col=2)\n",
    "\n",
    "# Set the layout\n",
    "fig.update_layout(\n",
    "    polar=dict(\n",
    "        radialaxis=dict(showgrid=True),\n",
    "        angularaxis=dict(showgrid=True)\n",
    "    ),\n",
    "    showlegend=True\n",
    ")\n",
    "\n",
    "# Show the wind roses\n",
    "fig.show()\n"
   ]
  },
  {
   "cell_type": "markdown",
   "metadata": {},
   "source": [
    "Each wind direction is represented by a bar. The length of the bar indicates how frequently the wind blows from that direction (in %).\n",
    "The colours indicate the averaged wind speed in km/h. Keep in mind that these are averaged values and dont indicate how prone your location can be to events like storms."
   ]
  },
  {
   "cell_type": "markdown",
   "metadata": {},
   "source": [
    "#### Average cloud cover and sunrise/sunset times"
   ]
  },
  {
   "cell_type": "code",
   "execution_count": 95,
   "metadata": {},
   "outputs": [],
   "source": [
    "#find the timezone of the location\n",
    "tf = timezonefinder.TimezoneFinder()\n",
    "timezone_str = tf.certain_timezone_at(lat=location.latitude, lng=location.longitude)\n",
    "\n",
    "#define location infos for the astral package only using coordinates\n",
    "location_info = LocationInfo(None, None, timezone_str, location.latitude, location.longitude)\n",
    "\n",
    "#define two empty lists for sunrise and sunset times\n",
    "sunrise_times, sunset_times = [], []\n",
    "\n",
    "# append sunrise and sunset times for the 15th of every month of 2022. Automatically adjusted for Daylight Saving Time (DST)\n",
    "for month in range(1, 13):\n",
    "    date = datetime(2022, month, 15)\n",
    "    \n",
    "    s = sun(location_info.observer, date=date, tzinfo=timezone_str)\n",
    "    sunrise_times.append(s['sunrise'].strftime('%H:%M'))\n",
    "    sunset_times.append(s['sunset'].strftime('%H:%M')) "
   ]
  },
  {
   "cell_type": "code",
   "execution_count": 128,
   "metadata": {},
   "outputs": [
    {
     "data": {
      "application/vnd.plotly.v1+json": {
       "config": {
        "plotlyServerURL": "https://plot.ly"
       },
       "data": [
        {
         "colorbar": {
          "title": {
           "text": "Cloud Cover [%]"
          }
         },
         "colorscale": [
          [
           0,
           "rgb(254, 254, 253)"
          ],
          [
           0.09090909090909091,
           "rgb(224, 224, 223)"
          ],
          [
           0.18181818181818182,
           "rgb(197, 197, 195)"
          ],
          [
           0.2727272727272727,
           "rgb(171, 171, 170)"
          ],
          [
           0.36363636363636365,
           "rgb(146, 146, 145)"
          ],
          [
           0.45454545454545453,
           "rgb(124, 123, 122)"
          ],
          [
           0.5454545454545454,
           "rgb(102, 101, 101)"
          ],
          [
           0.6363636363636364,
           "rgb(81, 80, 80)"
          ],
          [
           0.7272727272727273,
           "rgb(59, 59, 59)"
          ],
          [
           0.8181818181818182,
           "rgb(38, 38, 38)"
          ],
          [
           0.9090909090909091,
           "rgb(16, 16, 16)"
          ],
          [
           1,
           "rgb(0, 0, 0)"
          ]
         ],
         "hovertemplate": "Month: %{x}<br>Time:%{y}:00<br>Cloud Cover: %{z:.0f}%<extra></extra>",
         "type": "heatmap",
         "x": [
          0,
          1,
          2,
          3,
          4,
          5,
          6,
          7,
          8,
          9,
          10,
          11
         ],
         "xgap": 5,
         "y": [
          0,
          1,
          2,
          3,
          4,
          5,
          6,
          7,
          8,
          9,
          10,
          11,
          12,
          13,
          14,
          15,
          16,
          17,
          18,
          19,
          20,
          21,
          22,
          23
         ],
         "z": [
          [
           45.97871017456055,
           43.82550048828125,
           44.92333221435547,
           45.73490905761719,
           41.78114700317383,
           25.58266258239746,
           12.094925880432129,
           20.968971252441406,
           35.81513595581055,
           45.21379852294922,
           47.6195068359375,
           50.450645446777344
          ],
          [
           46.84341812133789,
           44.58035659790039,
           44.934329986572266,
           46.05563735961914,
           42.19243621826172,
           25.150466918945312,
           12.24246883392334,
           21.254112243652344,
           36.037818908691406,
           45.35871505737305,
           48.520992279052734,
           51.309043884277344
          ],
          [
           47.62663650512695,
           45.61155319213867,
           45.3848876953125,
           46.29194641113281,
           42.74340057373047,
           25.088274002075195,
           12.249371528625488,
           21.342247009277344,
           36.545440673828125,
           46.199180603027344,
           49.4361686706543,
           52.132450103759766
          ],
          [
           48.46826934814453,
           46.71048355102539,
           45.97685241699219,
           46.32848358154297,
           42.99713897705078,
           25.126066207885742,
           12.324000358581543,
           21.397403717041016,
           37.25632095336914,
           47.223079681396484,
           50.17837905883789,
           52.99313735961914
          ],
          [
           49.62300109863281,
           47.37522888183594,
           46.45109176635742,
           46.38359069824219,
           42.846275329589844,
           25.13092803955078,
           12.337903022766113,
           21.34697723388672,
           38.153358459472656,
           48.10751724243164,
           51.143951416015625,
           54.1328010559082
          ],
          [
           50.70661926269531,
           48.141658782958984,
           46.83732223510742,
           47.06671142578125,
           43.08979034423828,
           25.11506462097168,
           12.320099830627441,
           21.485248565673828,
           39.337547302246094,
           49.0693244934082,
           51.90546417236328,
           55.131263732910156
          ],
          [
           51.37339401245117,
           48.63720703125,
           47.21268844604492,
           47.44853210449219,
           42.824623107910156,
           24.822052001953125,
           12.08355712890625,
           21.612306594848633,
           40.458717346191406,
           50.00189971923828,
           52.30172348022461,
           55.58096694946289
          ],
          [
           51.84584426879883,
           49.01107406616211,
           47.46451187133789,
           46.61289596557617,
           41.397186279296875,
           23.89456558227539,
           11.019207954406738,
           20.131977081298828,
           39.70832443237305,
           50.30229568481445,
           52.84109878540039,
           56.02537536621094
          ],
          [
           52.016658782958984,
           48.315773010253906,
           46.28716278076172,
           45.89140319824219,
           40.47325134277344,
           23.565492630004883,
           10.464696884155273,
           18.65785026550293,
           37.389625549316406,
           47.65875244140625,
           51.848567962646484,
           56.0922966003418
          ],
          [
           50.328182220458984,
           45.95033264160156,
           45.83047866821289,
           46.22139358520508,
           41.15494918823242,
           23.9029541015625,
           10.552364349365234,
           18.207454681396484,
           36.7420768737793,
           45.33933639526367,
           49.760093688964844,
           54.108882904052734
          ],
          [
           47.690391540527344,
           44.47646713256836,
           46.5352668762207,
           48.20720672607422,
           43.5731086730957,
           26.08129119873047,
           12.688599586486816,
           20.218778610229492,
           37.7359733581543,
           45.58515930175781,
           48.56429672241211,
           50.889652252197266
          ],
          [
           46.55021286010742,
           44.46388626098633,
           48.182823181152344,
           50.151092529296875,
           45.245941162109375,
           26.94000816345215,
           12.50634479522705,
           20.292577743530273,
           38.58032989501953,
           46.684242248535156,
           48.74457550048828,
           49.24369430541992
          ],
          [
           47.09122848510742,
           45.83509063720703,
           50.52106475830078,
           52.002960205078125,
           47.32563018798828,
           28.536495208740234,
           13.631059646606445,
           21.355445861816406,
           40.47380828857422,
           48.34780502319336,
           49.762916564941406,
           49.32960891723633
          ],
          [
           48.22526931762695,
           47.36661148071289,
           52.20494079589844,
           53.3101806640625,
           48.58208465576172,
           30.459299087524414,
           15.458343505859375,
           23.059175491333008,
           42.32828140258789,
           49.62314987182617,
           51.220787048339844,
           50.13571548461914
          ],
          [
           49.219661712646484,
           48.66569519042969,
           53.139366149902344,
           54.383296966552734,
           49.33591079711914,
           32.17151641845703,
           17.420766830444336,
           25.328880310058594,
           43.49818801879883,
           50.39499282836914,
           52.115882873535156,
           50.79206085205078
          ],
          [
           49.223663330078125,
           48.955902099609375,
           53.23322296142578,
           54.671024322509766,
           49.810630798339844,
           33.854644775390625,
           19.402301788330078,
           27.247642517089844,
           43.97149658203125,
           50.2613410949707,
           51.69786071777344,
           50.51606369018555
          ],
          [
           48.04373550415039,
           47.97501754760742,
           52.47733688354492,
           53.75567626953125,
           49.6959342956543,
           34.99037170410156,
           20.7781982421875,
           28.330062866210938,
           43.79854965209961,
           48.9267463684082,
           50.10634231567383,
           49.3886604309082
          ],
          [
           46.185367584228516,
           45.896202087402344,
           49.90496063232422,
           51.882774353027344,
           48.56560516357422,
           34.58872985839844,
           20.399457931518555,
           27.735673904418945,
           41.74365997314453,
           47.138938903808594,
           48.50188064575195,
           48.580928802490234
          ],
          [
           45.14905548095703,
           44.247310638427734,
           46.4134407043457,
           48.80401611328125,
           45.95968246459961,
           32.05234909057617,
           17.85043716430664,
           25.195335388183594,
           39.21688461303711,
           45.75909423828125,
           47.592281341552734,
           48.56013107299805
          ],
          [
           44.986366271972656,
           43.58367156982422,
           44.60296630859375,
           46.61970520019531,
           43.34661102294922,
           28.935304641723633,
           14.864842414855957,
           22.52788734436035,
           37.586944580078125,
           45.125709533691406,
           47.2663459777832,
           48.949832916259766
          ],
          [
           45.42621994018555,
           43.40831756591797,
           44.101600646972656,
           45.342403411865234,
           42.26496887207031,
           27.141613006591797,
           13.037660598754883,
           20.92388343811035,
           36.51009750366211,
           45.15945053100586,
           46.92695617675781,
           49.169071197509766
          ],
          [
           45.74028396606445,
           43.50393295288086,
           44.14442443847656,
           44.2657356262207,
           41.60993576049805,
           26.014678955078125,
           12.017613410949707,
           19.994548797607422,
           35.88661193847656,
           45.25996017456055,
           46.568115234375,
           49.38548278808594
          ],
          [
           45.58050537109375,
           44.0875244140625,
           44.96049118041992,
           45.0969123840332,
           42.21525955200195,
           26.524219512939453,
           13.125358581542969,
           21.95435333251953,
           36.67095947265625,
           45.6349983215332,
           46.852909088134766,
           49.615478515625
          ],
          [
           45.41731262207031,
           43.929420471191406,
           44.76116180419922,
           45.34164047241211,
           41.64726638793945,
           25.27834129333496,
           12.412181854248047,
           21.379919052124023,
           36.02989959716797,
           45.439109802246094,
           46.98869705200195,
           50.09476089477539
          ]
         ]
        },
        {
         "hovertemplate": "Month: %{x}<br>Sunset at: %{text}<extra></extra>",
         "line": {
          "color": "rgb(150,0,255)",
          "width": 2
         },
         "mode": "lines",
         "name": "Sunset",
         "text": [
          "18:13",
          "18:48",
          "19:16",
          "20:45",
          "21:12",
          "21:33",
          "21:31",
          "21:02",
          "20:17",
          "19:32",
          "17:57",
          "17:51"
         ],
         "type": "scatter",
         "x": [
          0,
          1,
          2,
          3,
          4,
          5,
          6,
          7,
          8,
          9,
          10,
          11
         ],
         "y": [
          18.22,
          18.8,
          19.27,
          20.75,
          21.2,
          21.55,
          21.52,
          21.03,
          20.28,
          19.53,
          17.95,
          17.85
         ]
        },
        {
         "hovertemplate": "Month: %{x}<br>Sunrise at: %{text}<extra></extra>",
         "line": {
          "color": "rgb(255,65,0)",
          "width": 2
         },
         "mode": "lines",
         "name": "Sunrise",
         "text": [
          "08:24",
          "08:00",
          "07:21",
          "07:34",
          "06:59",
          "06:46",
          "06:59",
          "07:25",
          "07:51",
          "08:18",
          "07:50",
          "08:18"
         ],
         "type": "scatter",
         "x": [
          0,
          1,
          2,
          3,
          4,
          5,
          6,
          7,
          8,
          9,
          10,
          11
         ],
         "y": [
          8.4,
          8,
          7.35,
          7.57,
          6.98,
          6.77,
          6.98,
          7.42,
          7.85,
          8.3,
          7.83,
          8.3
         ]
        }
       ],
       "layout": {
        "annotations": [
         {
          "align": "left",
          "font": {
           "color": "black",
           "size": 12
          },
          "showarrow": false,
          "text": "\n                   <br>This plot shows average hourly cloud cover for each month. \n                   <br>Hourly changes of a month describe the cloud cover cycle of an average day for the associated month, \n                   <br>while changes between months highlight the average seasonal trends. \n                   <br>The two lines show sunrise and sunset times, adjusted for the timezone of the location as well as daylight saving times.  \n                   ",
          "x": 0.5,
          "xref": "paper",
          "y": -0.65,
          "yref": "paper"
         }
        ],
        "legend": {
         "x": 1.02,
         "y": 1.15
        },
        "margin": {
         "b": 150
        },
        "showlegend": true,
        "template": {
         "data": {
          "bar": [
           {
            "error_x": {
             "color": "#2a3f5f"
            },
            "error_y": {
             "color": "#2a3f5f"
            },
            "marker": {
             "line": {
              "color": "#E5ECF6",
              "width": 0.5
             },
             "pattern": {
              "fillmode": "overlay",
              "size": 10,
              "solidity": 0.2
             }
            },
            "type": "bar"
           }
          ],
          "barpolar": [
           {
            "marker": {
             "line": {
              "color": "#E5ECF6",
              "width": 0.5
             },
             "pattern": {
              "fillmode": "overlay",
              "size": 10,
              "solidity": 0.2
             }
            },
            "type": "barpolar"
           }
          ],
          "carpet": [
           {
            "aaxis": {
             "endlinecolor": "#2a3f5f",
             "gridcolor": "white",
             "linecolor": "white",
             "minorgridcolor": "white",
             "startlinecolor": "#2a3f5f"
            },
            "baxis": {
             "endlinecolor": "#2a3f5f",
             "gridcolor": "white",
             "linecolor": "white",
             "minorgridcolor": "white",
             "startlinecolor": "#2a3f5f"
            },
            "type": "carpet"
           }
          ],
          "choropleth": [
           {
            "colorbar": {
             "outlinewidth": 0,
             "ticks": ""
            },
            "type": "choropleth"
           }
          ],
          "contour": [
           {
            "colorbar": {
             "outlinewidth": 0,
             "ticks": ""
            },
            "colorscale": [
             [
              0,
              "#0d0887"
             ],
             [
              0.1111111111111111,
              "#46039f"
             ],
             [
              0.2222222222222222,
              "#7201a8"
             ],
             [
              0.3333333333333333,
              "#9c179e"
             ],
             [
              0.4444444444444444,
              "#bd3786"
             ],
             [
              0.5555555555555556,
              "#d8576b"
             ],
             [
              0.6666666666666666,
              "#ed7953"
             ],
             [
              0.7777777777777778,
              "#fb9f3a"
             ],
             [
              0.8888888888888888,
              "#fdca26"
             ],
             [
              1,
              "#f0f921"
             ]
            ],
            "type": "contour"
           }
          ],
          "contourcarpet": [
           {
            "colorbar": {
             "outlinewidth": 0,
             "ticks": ""
            },
            "type": "contourcarpet"
           }
          ],
          "heatmap": [
           {
            "colorbar": {
             "outlinewidth": 0,
             "ticks": ""
            },
            "colorscale": [
             [
              0,
              "#0d0887"
             ],
             [
              0.1111111111111111,
              "#46039f"
             ],
             [
              0.2222222222222222,
              "#7201a8"
             ],
             [
              0.3333333333333333,
              "#9c179e"
             ],
             [
              0.4444444444444444,
              "#bd3786"
             ],
             [
              0.5555555555555556,
              "#d8576b"
             ],
             [
              0.6666666666666666,
              "#ed7953"
             ],
             [
              0.7777777777777778,
              "#fb9f3a"
             ],
             [
              0.8888888888888888,
              "#fdca26"
             ],
             [
              1,
              "#f0f921"
             ]
            ],
            "type": "heatmap"
           }
          ],
          "heatmapgl": [
           {
            "colorbar": {
             "outlinewidth": 0,
             "ticks": ""
            },
            "colorscale": [
             [
              0,
              "#0d0887"
             ],
             [
              0.1111111111111111,
              "#46039f"
             ],
             [
              0.2222222222222222,
              "#7201a8"
             ],
             [
              0.3333333333333333,
              "#9c179e"
             ],
             [
              0.4444444444444444,
              "#bd3786"
             ],
             [
              0.5555555555555556,
              "#d8576b"
             ],
             [
              0.6666666666666666,
              "#ed7953"
             ],
             [
              0.7777777777777778,
              "#fb9f3a"
             ],
             [
              0.8888888888888888,
              "#fdca26"
             ],
             [
              1,
              "#f0f921"
             ]
            ],
            "type": "heatmapgl"
           }
          ],
          "histogram": [
           {
            "marker": {
             "pattern": {
              "fillmode": "overlay",
              "size": 10,
              "solidity": 0.2
             }
            },
            "type": "histogram"
           }
          ],
          "histogram2d": [
           {
            "colorbar": {
             "outlinewidth": 0,
             "ticks": ""
            },
            "colorscale": [
             [
              0,
              "#0d0887"
             ],
             [
              0.1111111111111111,
              "#46039f"
             ],
             [
              0.2222222222222222,
              "#7201a8"
             ],
             [
              0.3333333333333333,
              "#9c179e"
             ],
             [
              0.4444444444444444,
              "#bd3786"
             ],
             [
              0.5555555555555556,
              "#d8576b"
             ],
             [
              0.6666666666666666,
              "#ed7953"
             ],
             [
              0.7777777777777778,
              "#fb9f3a"
             ],
             [
              0.8888888888888888,
              "#fdca26"
             ],
             [
              1,
              "#f0f921"
             ]
            ],
            "type": "histogram2d"
           }
          ],
          "histogram2dcontour": [
           {
            "colorbar": {
             "outlinewidth": 0,
             "ticks": ""
            },
            "colorscale": [
             [
              0,
              "#0d0887"
             ],
             [
              0.1111111111111111,
              "#46039f"
             ],
             [
              0.2222222222222222,
              "#7201a8"
             ],
             [
              0.3333333333333333,
              "#9c179e"
             ],
             [
              0.4444444444444444,
              "#bd3786"
             ],
             [
              0.5555555555555556,
              "#d8576b"
             ],
             [
              0.6666666666666666,
              "#ed7953"
             ],
             [
              0.7777777777777778,
              "#fb9f3a"
             ],
             [
              0.8888888888888888,
              "#fdca26"
             ],
             [
              1,
              "#f0f921"
             ]
            ],
            "type": "histogram2dcontour"
           }
          ],
          "mesh3d": [
           {
            "colorbar": {
             "outlinewidth": 0,
             "ticks": ""
            },
            "type": "mesh3d"
           }
          ],
          "parcoords": [
           {
            "line": {
             "colorbar": {
              "outlinewidth": 0,
              "ticks": ""
             }
            },
            "type": "parcoords"
           }
          ],
          "pie": [
           {
            "automargin": true,
            "type": "pie"
           }
          ],
          "scatter": [
           {
            "fillpattern": {
             "fillmode": "overlay",
             "size": 10,
             "solidity": 0.2
            },
            "type": "scatter"
           }
          ],
          "scatter3d": [
           {
            "line": {
             "colorbar": {
              "outlinewidth": 0,
              "ticks": ""
             }
            },
            "marker": {
             "colorbar": {
              "outlinewidth": 0,
              "ticks": ""
             }
            },
            "type": "scatter3d"
           }
          ],
          "scattercarpet": [
           {
            "marker": {
             "colorbar": {
              "outlinewidth": 0,
              "ticks": ""
             }
            },
            "type": "scattercarpet"
           }
          ],
          "scattergeo": [
           {
            "marker": {
             "colorbar": {
              "outlinewidth": 0,
              "ticks": ""
             }
            },
            "type": "scattergeo"
           }
          ],
          "scattergl": [
           {
            "marker": {
             "colorbar": {
              "outlinewidth": 0,
              "ticks": ""
             }
            },
            "type": "scattergl"
           }
          ],
          "scattermapbox": [
           {
            "marker": {
             "colorbar": {
              "outlinewidth": 0,
              "ticks": ""
             }
            },
            "type": "scattermapbox"
           }
          ],
          "scatterpolar": [
           {
            "marker": {
             "colorbar": {
              "outlinewidth": 0,
              "ticks": ""
             }
            },
            "type": "scatterpolar"
           }
          ],
          "scatterpolargl": [
           {
            "marker": {
             "colorbar": {
              "outlinewidth": 0,
              "ticks": ""
             }
            },
            "type": "scatterpolargl"
           }
          ],
          "scatterternary": [
           {
            "marker": {
             "colorbar": {
              "outlinewidth": 0,
              "ticks": ""
             }
            },
            "type": "scatterternary"
           }
          ],
          "surface": [
           {
            "colorbar": {
             "outlinewidth": 0,
             "ticks": ""
            },
            "colorscale": [
             [
              0,
              "#0d0887"
             ],
             [
              0.1111111111111111,
              "#46039f"
             ],
             [
              0.2222222222222222,
              "#7201a8"
             ],
             [
              0.3333333333333333,
              "#9c179e"
             ],
             [
              0.4444444444444444,
              "#bd3786"
             ],
             [
              0.5555555555555556,
              "#d8576b"
             ],
             [
              0.6666666666666666,
              "#ed7953"
             ],
             [
              0.7777777777777778,
              "#fb9f3a"
             ],
             [
              0.8888888888888888,
              "#fdca26"
             ],
             [
              1,
              "#f0f921"
             ]
            ],
            "type": "surface"
           }
          ],
          "table": [
           {
            "cells": {
             "fill": {
              "color": "#EBF0F8"
             },
             "line": {
              "color": "white"
             }
            },
            "header": {
             "fill": {
              "color": "#C8D4E3"
             },
             "line": {
              "color": "white"
             }
            },
            "type": "table"
           }
          ]
         },
         "layout": {
          "annotationdefaults": {
           "arrowcolor": "#2a3f5f",
           "arrowhead": 0,
           "arrowwidth": 1
          },
          "autotypenumbers": "strict",
          "coloraxis": {
           "colorbar": {
            "outlinewidth": 0,
            "ticks": ""
           }
          },
          "colorscale": {
           "diverging": [
            [
             0,
             "#8e0152"
            ],
            [
             0.1,
             "#c51b7d"
            ],
            [
             0.2,
             "#de77ae"
            ],
            [
             0.3,
             "#f1b6da"
            ],
            [
             0.4,
             "#fde0ef"
            ],
            [
             0.5,
             "#f7f7f7"
            ],
            [
             0.6,
             "#e6f5d0"
            ],
            [
             0.7,
             "#b8e186"
            ],
            [
             0.8,
             "#7fbc41"
            ],
            [
             0.9,
             "#4d9221"
            ],
            [
             1,
             "#276419"
            ]
           ],
           "sequential": [
            [
             0,
             "#0d0887"
            ],
            [
             0.1111111111111111,
             "#46039f"
            ],
            [
             0.2222222222222222,
             "#7201a8"
            ],
            [
             0.3333333333333333,
             "#9c179e"
            ],
            [
             0.4444444444444444,
             "#bd3786"
            ],
            [
             0.5555555555555556,
             "#d8576b"
            ],
            [
             0.6666666666666666,
             "#ed7953"
            ],
            [
             0.7777777777777778,
             "#fb9f3a"
            ],
            [
             0.8888888888888888,
             "#fdca26"
            ],
            [
             1,
             "#f0f921"
            ]
           ],
           "sequentialminus": [
            [
             0,
             "#0d0887"
            ],
            [
             0.1111111111111111,
             "#46039f"
            ],
            [
             0.2222222222222222,
             "#7201a8"
            ],
            [
             0.3333333333333333,
             "#9c179e"
            ],
            [
             0.4444444444444444,
             "#bd3786"
            ],
            [
             0.5555555555555556,
             "#d8576b"
            ],
            [
             0.6666666666666666,
             "#ed7953"
            ],
            [
             0.7777777777777778,
             "#fb9f3a"
            ],
            [
             0.8888888888888888,
             "#fdca26"
            ],
            [
             1,
             "#f0f921"
            ]
           ]
          },
          "colorway": [
           "#636efa",
           "#EF553B",
           "#00cc96",
           "#ab63fa",
           "#FFA15A",
           "#19d3f3",
           "#FF6692",
           "#B6E880",
           "#FF97FF",
           "#FECB52"
          ],
          "font": {
           "color": "#2a3f5f"
          },
          "geo": {
           "bgcolor": "white",
           "lakecolor": "white",
           "landcolor": "#E5ECF6",
           "showlakes": true,
           "showland": true,
           "subunitcolor": "white"
          },
          "hoverlabel": {
           "align": "left"
          },
          "hovermode": "closest",
          "mapbox": {
           "style": "light"
          },
          "paper_bgcolor": "white",
          "plot_bgcolor": "#E5ECF6",
          "polar": {
           "angularaxis": {
            "gridcolor": "white",
            "linecolor": "white",
            "ticks": ""
           },
           "bgcolor": "#E5ECF6",
           "radialaxis": {
            "gridcolor": "white",
            "linecolor": "white",
            "ticks": ""
           }
          },
          "scene": {
           "xaxis": {
            "backgroundcolor": "#E5ECF6",
            "gridcolor": "white",
            "gridwidth": 2,
            "linecolor": "white",
            "showbackground": true,
            "ticks": "",
            "zerolinecolor": "white"
           },
           "yaxis": {
            "backgroundcolor": "#E5ECF6",
            "gridcolor": "white",
            "gridwidth": 2,
            "linecolor": "white",
            "showbackground": true,
            "ticks": "",
            "zerolinecolor": "white"
           },
           "zaxis": {
            "backgroundcolor": "#E5ECF6",
            "gridcolor": "white",
            "gridwidth": 2,
            "linecolor": "white",
            "showbackground": true,
            "ticks": "",
            "zerolinecolor": "white"
           }
          },
          "shapedefaults": {
           "line": {
            "color": "#2a3f5f"
           }
          },
          "ternary": {
           "aaxis": {
            "gridcolor": "white",
            "linecolor": "white",
            "ticks": ""
           },
           "baxis": {
            "gridcolor": "white",
            "linecolor": "white",
            "ticks": ""
           },
           "bgcolor": "#E5ECF6",
           "caxis": {
            "gridcolor": "white",
            "linecolor": "white",
            "ticks": ""
           }
          },
          "title": {
           "x": 0.05
          },
          "xaxis": {
           "automargin": true,
           "gridcolor": "white",
           "linecolor": "white",
           "ticks": "",
           "title": {
            "standoff": 15
           },
           "zerolinecolor": "white",
           "zerolinewidth": 2
          },
          "yaxis": {
           "automargin": true,
           "gridcolor": "white",
           "linecolor": "white",
           "ticks": "",
           "title": {
            "standoff": 15
           },
           "zerolinecolor": "white",
           "zerolinewidth": 2
          }
         }
        },
        "title": {
         "text": "Monthly hourly mean cloud cover with sunrise and sunset times"
        },
        "xaxis": {
         "tickangle": -45,
         "tickmode": "array",
         "ticktext": [
          "Jan",
          "Feb",
          "Mar",
          "Apr",
          "May",
          "Jun",
          "Jul",
          "Aug",
          "Sep",
          "Oct",
          "Nov",
          "Dec"
         ],
         "tickvals": [
          0,
          1,
          2,
          3,
          4,
          5,
          6,
          7,
          8,
          9,
          10,
          11
         ],
         "title": {
          "text": "Month"
         }
        },
        "yaxis": {
         "dtick": 2,
         "title": {
          "text": "Hour of the day"
         }
        }
       }
      }
     },
     "metadata": {},
     "output_type": "display_data"
    }
   ],
   "source": [
    "# Create the graph with cloud cover values plus sunrise and sunset times\n",
    "\n",
    "# Reshape the data to match the format expected by Plotly\n",
    "data_reshaped = avg_tcc.values.reshape((12, 24)).T*100  # Use -1 to automatically infer the size\n",
    "\n",
    "fig = go.Figure()\n",
    "\n",
    "fig.add_trace(go.Heatmap(z=data_reshaped,\n",
    "                         x=list(range(12)),\n",
    "                         y=list(range(24)),\n",
    "                         xgap = 5,\n",
    "                         colorscale='gray_r',\n",
    "                         colorbar=dict(title=\"Cloud Cover [%]\"),\n",
    "                         hovertemplate='Month: %{x}<br>Time:%{y}:00<br>Cloud Cover: %{z:.0f}%<extra></extra>',  # Custom hover text\n",
    "                        )\n",
    "              )\n",
    "\n",
    "# Set x-axis tickvals and ticktext for each month\n",
    "fig.update_xaxes(tickvals=list(range(12)),\n",
    "                 ticktext=[f\"{month_name}\" for month_name in [\"Jan\", \"Feb\", \"Mar\", \"Apr\", \"May\", \"Jun\", \"Jul\", \"Aug\", \"Sep\", \"Oct\", \"Nov\", \"Dec\"]],\n",
    "                 tickmode='array',  # Use 'array' for custom tickvals and ticktext\n",
    "                 tickangle=-45,  # Rotate tick labels for better readability\n",
    "                 )\n",
    "\n",
    "# Set x-axis tickvals and ticktext for each day of the month\n",
    "\n",
    "# Add a line for sunset times\n",
    "fig.add_trace(go.Scatter(x=list(range(12)),\n",
    "                         y=[float('{:.2f}'.format(int(h) + int(m) / 60)) for h, m in [time.split(':') for time in sunset_times]],\n",
    "                         mode='lines',\n",
    "                         line=dict(color='rgb(150,0,255)', width=2),\n",
    "                         name='Sunset',\n",
    "                         hovertemplate='Month: %{x}<br>Sunset at: %{text}<extra></extra>',  # Custom hover text \n",
    "                         text=sunset_times\n",
    "                         )\n",
    "              )\n",
    "\n",
    "# Add a line for sunrise times\n",
    "fig.add_trace(go.Scatter(x=list(range(12)),\n",
    "                         y=[float('{:.2f}'.format(int(h) + int(m) / 60)) for h, m in [time.split(':') for time in sunrise_times]],\n",
    "                         mode='lines',\n",
    "                         line=dict(color='rgb(255,65,0)', width=2),\n",
    "                         name='Sunrise',\n",
    "                         hovertemplate='Month: %{x}<br>Sunrise at: %{text}<extra></extra>',  # Custom hover text\n",
    "                         text=sunrise_times\n",
    "                         )\n",
    "              )\n",
    "\n",
    "# Update layout to show custom line in legend and set title and x axis\n",
    "fig.update_layout(title='Monthly hourly mean cloud cover with sunrise and sunset times',\n",
    "                  yaxis_title='Hour of the day',\n",
    "                  xaxis_title='Month',\n",
    "                  showlegend=True,\n",
    "                  legend=dict(x=1.02, y=1.15),\n",
    "                  yaxis=dict(dtick=2,)\n",
    "                  )\n",
    "\n",
    "\n",
    "# Figure description text\n",
    "fig.add_annotation(text=\"\"\"\n",
    "                   <br>This plot shows average hourly cloud cover for each month. \n",
    "                   <br>Hourly changes of a month describe the cloud cover cycle of an average day for the associated month, \n",
    "                   <br>while changes between months highlight the average seasonal trends. \n",
    "                   <br>The two lines show sunrise and sunset times, adjusted for the timezone of the location as well as daylight saving times.  \n",
    "                   \"\"\",\n",
    "                    xref='paper', yref='paper',\n",
    "                    x=0.5, y=-0.65,  # Adjust this value to position the text below the x-axis legend\n",
    "                    showarrow=False,\n",
    "                    align='left',\n",
    "                    font=dict(size=12, color='black')\n",
    "                    )\n",
    "\n",
    "# Adjust the bottom margin to create more space below the figure\n",
    "fig.update_layout(margin=dict(b=150))\n",
    "\n",
    "fig.show()"
   ]
  },
  {
   "cell_type": "markdown",
   "metadata": {},
   "source": [
    "This plot shows average hourly cloud cover for each month. Hourly changes of a month describe the cloud cover cycle of an average day for the associated month, while changes between months highlight the average seasonal trends.     \\\n",
    "The two lines show sunrise and sunset times, adjusted for the timezone of the location as well as daylight saving times.  "
   ]
  }
 ],
 "metadata": {
  "kernelspec": {
   "display_name": "climate_permaculture",
   "language": "python",
   "name": "python3"
  },
  "language_info": {
   "codemirror_mode": {
    "name": "ipython",
    "version": 3
   },
   "file_extension": ".py",
   "mimetype": "text/x-python",
   "name": "python",
   "nbconvert_exporter": "python",
   "pygments_lexer": "ipython3",
   "version": "3.12.0"
  }
 },
 "nbformat": 4,
 "nbformat_minor": 2
}

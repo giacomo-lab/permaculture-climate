{
 "cells": [
  {
   "cell_type": "code",
   "execution_count": 1,
   "metadata": {},
   "outputs": [],
   "source": [
    "import cdsapi\n",
    "import requests\n",
    "import os"
   ]
  },
  {
   "cell_type": "code",
   "execution_count": null,
   "metadata": {},
   "outputs": [],
   "source": [
    "#What a permaculture project need to know when they start"
   ]
  },
  {
   "cell_type": "code",
   "execution_count": 34,
   "metadata": {},
   "outputs": [
    {
     "name": "stdout",
     "output_type": "stream",
     "text": [
      "[2004, 2005, 2006]\n"
     ]
    },
    {
     "name": "stderr",
     "output_type": "stream",
     "text": [
      "2023-11-22 12:49:40,685 INFO Welcome to the CDS\n",
      "2023-11-22 12:49:40,686 INFO Sending request to https://cds.climate.copernicus.eu/api/v2/resources/reanalysis-era5-single-levels-monthly-means\n",
      "2023-11-22 12:49:40,784 INFO Request is queued\n",
      "2023-11-22 12:51:34,732 INFO Request is running\n",
      "2023-11-22 12:57:59,501 INFO Request is completed\n"
     ]
    },
    {
     "name": "stdout",
     "output_type": "stream",
     "text": [
      "File saved at: /Users/giacomo/Documents/projects/permaculture-climate/download.grib\n"
     ]
    }
   ],
   "source": [
    "import time\n",
    "from geopy.geocoders import Nominatim\n",
    "\n",
    "# select the years you want to download:\n",
    "start_year = 2004\n",
    "end_year = 2006\n",
    "year_range = [i for i in range(start_year, end_year + 1)]\n",
    "print(year_range)\n",
    "\n",
    "# Use geopy to get the latitude and longitude of the city\n",
    "geolocator = Nominatim(user_agent=\"permaculture-climate\")\n",
    "location = geolocator.geocode(\"Puebla de don Fadrique, Spain\")\n",
    "# Add a delay between requests\n",
    "time.sleep(1)\n",
    "\n",
    "c = cdsapi.Client()\n",
    "try:\n",
    "    data = c.retrieve(\"reanalysis-era5-single-levels-monthly-means\",\n",
    "    {\"format\": \"grib\",\n",
    "     \"product_type\": \"monthly_averaged_reanalysis_by_hour_of_day\",\n",
    "     \"variable\": ['10m_u_component_of_wind', '10m_v_component_of_wind', \n",
    "                '2m_temperature',\n",
    "                #'snowfall', \n",
    "                'soil_temperature_level_1', \n",
    "                'soil_type',\n",
    "                'total_cloud_cover', \n",
    "                'total_precipitation',\n",
    "                ],\n",
    "    \"area\": [location.latitude + 1, \n",
    "             location.longitude - 1, \n",
    "             location.latitude - 1, \n",
    "             location.longitude + 1],  # North, West, South, East. \n",
    "    \"year\": year_range,\n",
    "    \"month\": ['01', '02', '03',\n",
    "           '04', '05', '06',\n",
    "           '07', '08', '09',\n",
    "           '10', '11', '12'],\n",
    "    \"time\": [\"00:00\",\"01:00\",\"02:00\",\"03:00\",\"04:00\",\"05:00\",\n",
    "             \"06:00\",\"07:00\",\"08:00\",\"09:00\",\"10:00\",\"11:00\",\n",
    "             \"12:00\", \"13:00\",\"14:00\",\"15:00\",\"16:00\",\"17:00\",\n",
    "             \"18:00\",\"19:00\",\"20:00\",\"21:00\",\"22:00\",\"23:00\"]\n",
    "    })\n",
    "\n",
    "    # Get the location of the file to download\n",
    "    url = data.location\n",
    "\n",
    "    # Download the file\n",
    "    response = requests.get(url)\n",
    "\n",
    "    # Check if the request was successful\n",
    "    response.raise_for_status()\n",
    "\n",
    "except requests.exceptions.HTTPError as errh:\n",
    "    print (\"HTTP Error:\",errh)\n",
    "except requests.exceptions.ConnectionError as errc:\n",
    "    print (\"Error Connecting:\",errc)\n",
    "except requests.exceptions.Timeout as errt:\n",
    "    print (\"Timeout Error:\",errt)\n",
    "except requests.exceptions.RequestException as err:\n",
    "    print (\"Something went wrong with the request:\",err)\n",
    "\n",
    "else:\n",
    "    # If the request was successful, write the file\n",
    "    filename = 'download.grib'\n",
    "    with open(filename, 'wb') as f:\n",
    "        f.write(response.content)\n",
    "\n",
    "    # Print the location where the file is saved\n",
    "    print(f\"File saved at: {os.path.abspath(filename)}\")"
   ]
  },
  {
   "cell_type": "code",
   "execution_count": null,
   "metadata": {},
   "outputs": [],
   "source": [
    "#temperatura durante l'anno \n",
    "#precipitaciones durante l'anno\n",
    "#vento durante l'anno (rosa dei venti)"
   ]
  },
  {
   "cell_type": "code",
   "execution_count": 3,
   "metadata": {},
   "outputs": [
    {
     "name": "stdout",
     "output_type": "stream",
     "text": [
      "['Soil type', 'Soil temperature level 1', '2 metre temperature', 'Total precipitation', '10 metre U wind component', 'Total cloud cover', '10 metre V wind component']\n"
     ]
    }
   ],
   "source": [
    "#use pygrib to read the variables names\n",
    "import pygrib\n",
    "\n",
    "# Open the GRIB file\n",
    "grbs = pygrib.open('download.grib')\n",
    "\n",
    "# Read the names of the variables\n",
    "variable_names = [grb.name for grb in grbs]\n",
    "\n",
    "# Convert the set to a list\n",
    "unique_variable_names = list(set(variable_names))\n",
    "\n",
    "# Print the variable names\n",
    "print(unique_variable_names)\n"
   ]
  },
  {
   "cell_type": "code",
   "execution_count": 27,
   "metadata": {},
   "outputs": [
    {
     "name": "stderr",
     "output_type": "stream",
     "text": [
      "Ignoring index file 'download.grib.dc8f2.idx' older than GRIB file\n",
      "Ignoring index file 'download.grib.dc8f2.idx' older than GRIB file\n",
      "Ignoring index file 'download.grib.dc8f2.idx' older than GRIB file\n",
      "Ignoring index file 'download.grib.dc8f2.idx' older than GRIB file\n",
      "Ignoring index file 'download.grib.dc8f2.idx' older than GRIB file\n",
      "Ignoring index file 'download.grib.dc8f2.idx' older than GRIB file\n",
      "Ignoring index file 'download.grib.dc8f2.idx' older than GRIB file\n"
     ]
    },
    {
     "name": "stdout",
     "output_type": "stream",
     "text": [
      "Total cloud cover:\n",
      "<xarray.Dataset>\n",
      "Dimensions:  ()\n",
      "Data variables:\n",
      "    *empty*\n",
      "Attributes:\n",
      "    Conventions:  CF-1.7\n",
      "    history:      2023-11-22T19:05 GRIB to CDM+CF via cfgrib-0.9.10.4/ecCodes...\n",
      "\n",
      "\n",
      "Soil temperature level 1:\n",
      "<xarray.Dataset>\n",
      "Dimensions:              (time: 864, latitude: 9, longitude: 9)\n",
      "Coordinates:\n",
      "    number               int64 ...\n",
      "  * time                 (time) datetime64[ns] 2004-01-01 ... 2006-12-01T23:0...\n",
      "    step                 timedelta64[ns] ...\n",
      "    depthBelowLandLayer  float64 ...\n",
      "  * latitude             (latitude) float64 38.96 38.71 38.46 ... 37.21 36.96\n",
      "  * longitude            (longitude) float64 -3.435 -3.185 ... -1.684 358.6\n",
      "    valid_time           (time) datetime64[ns] ...\n",
      "Data variables:\n",
      "    stl1                 (time, latitude, longitude) float32 ...\n",
      "Attributes:\n",
      "    GRIB_edition:            1\n",
      "    GRIB_centre:             ecmf\n",
      "    GRIB_centreDescription:  European Centre for Medium-Range Weather Forecasts\n",
      "    GRIB_subCentre:          0\n",
      "    Conventions:             CF-1.7\n",
      "    institution:             European Centre for Medium-Range Weather Forecasts\n",
      "    history:                 2023-11-22T19:05 GRIB to CDM+CF via cfgrib-0.9.1...\n",
      "\n",
      "\n",
      "10 metre V wind component:\n",
      "<xarray.Dataset>\n",
      "Dimensions:     (time: 864, latitude: 9, longitude: 9)\n",
      "Coordinates:\n",
      "    number      int64 ...\n",
      "  * time        (time) datetime64[ns] 2004-01-01 ... 2006-12-01T23:00:00\n",
      "    step        timedelta64[ns] ...\n",
      "    surface     float64 ...\n",
      "  * latitude    (latitude) float64 38.96 38.71 38.46 38.21 ... 37.46 37.21 36.96\n",
      "  * longitude   (longitude) float64 -3.435 -3.185 -2.935 ... -1.934 -1.684 358.6\n",
      "    valid_time  (time) datetime64[ns] ...\n",
      "Data variables:\n",
      "    v10         (time, latitude, longitude) float32 ...\n",
      "Attributes:\n",
      "    GRIB_edition:            1\n",
      "    GRIB_centre:             ecmf\n",
      "    GRIB_centreDescription:  European Centre for Medium-Range Weather Forecasts\n",
      "    GRIB_subCentre:          0\n",
      "    Conventions:             CF-1.7\n",
      "    institution:             European Centre for Medium-Range Weather Forecasts\n",
      "    history:                 2023-11-22T19:05 GRIB to CDM+CF via cfgrib-0.9.1...\n",
      "\n",
      "\n",
      "2 metre temperature:\n",
      "<xarray.Dataset>\n",
      "Dimensions:     (time: 864, latitude: 9, longitude: 9)\n",
      "Coordinates:\n",
      "    number      int64 ...\n",
      "  * time        (time) datetime64[ns] 2004-01-01 ... 2006-12-01T23:00:00\n",
      "    step        timedelta64[ns] ...\n",
      "    surface     float64 ...\n",
      "  * latitude    (latitude) float64 38.96 38.71 38.46 38.21 ... 37.46 37.21 36.96\n",
      "  * longitude   (longitude) float64 -3.435 -3.185 -2.935 ... -1.934 -1.684 358.6\n",
      "    valid_time  (time) datetime64[ns] ...\n",
      "Data variables:\n",
      "    t2m         (time, latitude, longitude) float32 ...\n",
      "Attributes:\n",
      "    GRIB_edition:            1\n",
      "    GRIB_centre:             ecmf\n",
      "    GRIB_centreDescription:  European Centre for Medium-Range Weather Forecasts\n",
      "    GRIB_subCentre:          0\n",
      "    Conventions:             CF-1.7\n",
      "    institution:             European Centre for Medium-Range Weather Forecasts\n",
      "    history:                 2023-11-22T19:05 GRIB to CDM+CF via cfgrib-0.9.1...\n",
      "\n",
      "\n",
      "Soil type:\n",
      "<xarray.Dataset>\n",
      "Dimensions:     (time: 864, latitude: 9, longitude: 9)\n",
      "Coordinates:\n",
      "    number      int64 ...\n",
      "  * time        (time) datetime64[ns] 2004-01-01 ... 2006-12-01T23:00:00\n",
      "    step        timedelta64[ns] ...\n",
      "    surface     float64 ...\n",
      "  * latitude    (latitude) float64 38.96 38.71 38.46 38.21 ... 37.46 37.21 36.96\n",
      "  * longitude   (longitude) float64 -3.435 -3.185 -2.935 ... -1.934 -1.684 358.6\n",
      "    valid_time  (time) datetime64[ns] ...\n",
      "Data variables:\n",
      "    slt         (time, latitude, longitude) float32 ...\n",
      "Attributes:\n",
      "    GRIB_edition:            1\n",
      "    GRIB_centre:             ecmf\n",
      "    GRIB_centreDescription:  European Centre for Medium-Range Weather Forecasts\n",
      "    GRIB_subCentre:          0\n",
      "    Conventions:             CF-1.7\n",
      "    institution:             European Centre for Medium-Range Weather Forecasts\n",
      "    history:                 2023-11-22T19:05 GRIB to CDM+CF via cfgrib-0.9.1...\n",
      "\n",
      "\n",
      "Total precipitation:\n",
      "<xarray.Dataset>\n",
      "Dimensions:     (time: 108, step: 12, latitude: 9, longitude: 9)\n",
      "Coordinates:\n",
      "    number      int64 ...\n",
      "  * time        (time) datetime64[ns] 2003-12-31T18:00:00 ... 2006-12-01T18:0...\n",
      "  * step        (step) timedelta64[ns] 01:00:00 02:00:00 ... 11:00:00 12:00:00\n",
      "    surface     float64 ...\n",
      "  * latitude    (latitude) float64 38.96 38.71 38.46 38.21 ... 37.46 37.21 36.96\n",
      "  * longitude   (longitude) float64 -3.435 -3.185 -2.935 ... -1.934 -1.684 358.6\n",
      "    valid_time  (time, step) datetime64[ns] ...\n",
      "Data variables:\n",
      "    tp          (time, step, latitude, longitude) float32 ...\n",
      "Attributes:\n",
      "    GRIB_edition:            1\n",
      "    GRIB_centre:             ecmf\n",
      "    GRIB_centreDescription:  European Centre for Medium-Range Weather Forecasts\n",
      "    GRIB_subCentre:          0\n",
      "    Conventions:             CF-1.7\n",
      "    institution:             European Centre for Medium-Range Weather Forecasts\n",
      "    history:                 2023-11-22T19:05 GRIB to CDM+CF via cfgrib-0.9.1...\n",
      "\n",
      "\n",
      "10 metre U wind component:\n",
      "<xarray.Dataset>\n",
      "Dimensions:     (time: 864, latitude: 9, longitude: 9)\n",
      "Coordinates:\n",
      "    number      int64 ...\n",
      "  * time        (time) datetime64[ns] 2004-01-01 ... 2006-12-01T23:00:00\n",
      "    step        timedelta64[ns] ...\n",
      "    surface     float64 ...\n",
      "  * latitude    (latitude) float64 38.96 38.71 38.46 38.21 ... 37.46 37.21 36.96\n",
      "  * longitude   (longitude) float64 -3.435 -3.185 -2.935 ... -1.934 -1.684 358.6\n",
      "    valid_time  (time) datetime64[ns] ...\n",
      "Data variables:\n",
      "    u10         (time, latitude, longitude) float32 ...\n",
      "Attributes:\n",
      "    GRIB_edition:            1\n",
      "    GRIB_centre:             ecmf\n",
      "    GRIB_centreDescription:  European Centre for Medium-Range Weather Forecasts\n",
      "    GRIB_subCentre:          0\n",
      "    Conventions:             CF-1.7\n",
      "    institution:             European Centre for Medium-Range Weather Forecasts\n",
      "    history:                 2023-11-22T19:05 GRIB to CDM+CF via cfgrib-0.9.1...\n",
      "\n",
      "\n"
     ]
    }
   ],
   "source": [
    "import xarray as xr\n",
    "\n",
    "# List of variables to load\n",
    "variables = ['Total cloud cover', 'Soil temperature level 1', '10 metre V wind component', \n",
    "             '2 metre temperature', 'Soil type', 'Total precipitation', '10 metre U wind component']\n",
    "\n",
    "# Dictionary to hold the datasets\n",
    "datasets = {}\n",
    "\n",
    "# Open the GRIB file for each variable\n",
    "for var in variables:\n",
    "    ds = xr.open_dataset('download.grib', engine='cfgrib', backend_kwargs={'filter_by_keys': {'parameterName': var}})\n",
    "    datasets[var] = ds\n",
    "\n",
    "# Print the datasets\n",
    "for var, ds in datasets.items():\n",
    "    print(f\"{var}:\")\n",
    "    print(ds)\n",
    "    print(\"\\n\")\n"
   ]
  },
  {
   "cell_type": "code",
   "execution_count": null,
   "metadata": {},
   "outputs": [],
   "source": [
    "#check the diemsnsions of the data\n",
    "print(temp_climatology.dims)\n",
    "print(precip_climatology.dims)"
   ]
  },
  {
   "cell_type": "code",
   "execution_count": 36,
   "metadata": {},
   "outputs": [
    {
     "name": "stdout",
     "output_type": "stream",
     "text": [
      "('month',)\n",
      "('month',)\n"
     ]
    }
   ],
   "source": [
    "import plotly.graph_objects as go\n",
    "\n",
    "# Calculate the climatology and average over latitude and longitude\n",
    "temp_climatology = datasets['2 metre temperature']['t2m'].groupby('time.month').mean(['time', 'latitude', 'longitude'])-273.15\n",
    "precip_climatology = datasets['Total precipitation']['tp'].groupby('time.month').mean(['time', 'latitude', 'longitude', 'step'])*1000\n",
    "\n",
    "#check the diemsnsions of the data\n",
    "print(temp_climatology.dims)\n",
    "print(precip_climatology.dims)\n"
   ]
  },
  {
   "cell_type": "code",
   "execution_count": 38,
   "metadata": {},
   "outputs": [
    {
     "data": {
      "application/vnd.plotly.v1+json": {
       "config": {
        "plotlyServerURL": "https://plot.ly"
       },
       "data": [
        {
         "name": "Precipitation",
         "type": "bar",
         "x": [
          1,
          2,
          3,
          4,
          5,
          6,
          7,
          8,
          9,
          10,
          11,
          12
         ],
         "y": [
          0.03982926532626152,
          0.07938916236162186,
          0.068851999938488,
          0.06395629793405533,
          0.06827691197395325,
          0.022586699575185776,
          0.0103985033929348,
          0.02131899632513523,
          0.04119981825351715,
          0.042620494961738586,
          0.05242491513490677,
          0.04520634934306145
         ],
         "yaxis": "y2"
        },
        {
         "mode": "lines",
         "name": "Temperature",
         "type": "scatter",
         "x": [
          1,
          2,
          3,
          4,
          5,
          6,
          7,
          8,
          9,
          10,
          11,
          12
         ],
         "y": [
          6.4046630859375,
          6.966766357421875,
          10.612213134765625,
          13.5849609375,
          17.2747802734375,
          22.595367431640625,
          25.561798095703125,
          24.691925048828125,
          20.88958740234375,
          16.77227783203125,
          10.307952880859375,
          7.061187744140625
         ]
        }
       ],
       "layout": {
        "template": {
         "data": {
          "bar": [
           {
            "error_x": {
             "color": "#2a3f5f"
            },
            "error_y": {
             "color": "#2a3f5f"
            },
            "marker": {
             "line": {
              "color": "#E5ECF6",
              "width": 0.5
             },
             "pattern": {
              "fillmode": "overlay",
              "size": 10,
              "solidity": 0.2
             }
            },
            "type": "bar"
           }
          ],
          "barpolar": [
           {
            "marker": {
             "line": {
              "color": "#E5ECF6",
              "width": 0.5
             },
             "pattern": {
              "fillmode": "overlay",
              "size": 10,
              "solidity": 0.2
             }
            },
            "type": "barpolar"
           }
          ],
          "carpet": [
           {
            "aaxis": {
             "endlinecolor": "#2a3f5f",
             "gridcolor": "white",
             "linecolor": "white",
             "minorgridcolor": "white",
             "startlinecolor": "#2a3f5f"
            },
            "baxis": {
             "endlinecolor": "#2a3f5f",
             "gridcolor": "white",
             "linecolor": "white",
             "minorgridcolor": "white",
             "startlinecolor": "#2a3f5f"
            },
            "type": "carpet"
           }
          ],
          "choropleth": [
           {
            "colorbar": {
             "outlinewidth": 0,
             "ticks": ""
            },
            "type": "choropleth"
           }
          ],
          "contour": [
           {
            "colorbar": {
             "outlinewidth": 0,
             "ticks": ""
            },
            "colorscale": [
             [
              0,
              "#0d0887"
             ],
             [
              0.1111111111111111,
              "#46039f"
             ],
             [
              0.2222222222222222,
              "#7201a8"
             ],
             [
              0.3333333333333333,
              "#9c179e"
             ],
             [
              0.4444444444444444,
              "#bd3786"
             ],
             [
              0.5555555555555556,
              "#d8576b"
             ],
             [
              0.6666666666666666,
              "#ed7953"
             ],
             [
              0.7777777777777778,
              "#fb9f3a"
             ],
             [
              0.8888888888888888,
              "#fdca26"
             ],
             [
              1,
              "#f0f921"
             ]
            ],
            "type": "contour"
           }
          ],
          "contourcarpet": [
           {
            "colorbar": {
             "outlinewidth": 0,
             "ticks": ""
            },
            "type": "contourcarpet"
           }
          ],
          "heatmap": [
           {
            "colorbar": {
             "outlinewidth": 0,
             "ticks": ""
            },
            "colorscale": [
             [
              0,
              "#0d0887"
             ],
             [
              0.1111111111111111,
              "#46039f"
             ],
             [
              0.2222222222222222,
              "#7201a8"
             ],
             [
              0.3333333333333333,
              "#9c179e"
             ],
             [
              0.4444444444444444,
              "#bd3786"
             ],
             [
              0.5555555555555556,
              "#d8576b"
             ],
             [
              0.6666666666666666,
              "#ed7953"
             ],
             [
              0.7777777777777778,
              "#fb9f3a"
             ],
             [
              0.8888888888888888,
              "#fdca26"
             ],
             [
              1,
              "#f0f921"
             ]
            ],
            "type": "heatmap"
           }
          ],
          "heatmapgl": [
           {
            "colorbar": {
             "outlinewidth": 0,
             "ticks": ""
            },
            "colorscale": [
             [
              0,
              "#0d0887"
             ],
             [
              0.1111111111111111,
              "#46039f"
             ],
             [
              0.2222222222222222,
              "#7201a8"
             ],
             [
              0.3333333333333333,
              "#9c179e"
             ],
             [
              0.4444444444444444,
              "#bd3786"
             ],
             [
              0.5555555555555556,
              "#d8576b"
             ],
             [
              0.6666666666666666,
              "#ed7953"
             ],
             [
              0.7777777777777778,
              "#fb9f3a"
             ],
             [
              0.8888888888888888,
              "#fdca26"
             ],
             [
              1,
              "#f0f921"
             ]
            ],
            "type": "heatmapgl"
           }
          ],
          "histogram": [
           {
            "marker": {
             "pattern": {
              "fillmode": "overlay",
              "size": 10,
              "solidity": 0.2
             }
            },
            "type": "histogram"
           }
          ],
          "histogram2d": [
           {
            "colorbar": {
             "outlinewidth": 0,
             "ticks": ""
            },
            "colorscale": [
             [
              0,
              "#0d0887"
             ],
             [
              0.1111111111111111,
              "#46039f"
             ],
             [
              0.2222222222222222,
              "#7201a8"
             ],
             [
              0.3333333333333333,
              "#9c179e"
             ],
             [
              0.4444444444444444,
              "#bd3786"
             ],
             [
              0.5555555555555556,
              "#d8576b"
             ],
             [
              0.6666666666666666,
              "#ed7953"
             ],
             [
              0.7777777777777778,
              "#fb9f3a"
             ],
             [
              0.8888888888888888,
              "#fdca26"
             ],
             [
              1,
              "#f0f921"
             ]
            ],
            "type": "histogram2d"
           }
          ],
          "histogram2dcontour": [
           {
            "colorbar": {
             "outlinewidth": 0,
             "ticks": ""
            },
            "colorscale": [
             [
              0,
              "#0d0887"
             ],
             [
              0.1111111111111111,
              "#46039f"
             ],
             [
              0.2222222222222222,
              "#7201a8"
             ],
             [
              0.3333333333333333,
              "#9c179e"
             ],
             [
              0.4444444444444444,
              "#bd3786"
             ],
             [
              0.5555555555555556,
              "#d8576b"
             ],
             [
              0.6666666666666666,
              "#ed7953"
             ],
             [
              0.7777777777777778,
              "#fb9f3a"
             ],
             [
              0.8888888888888888,
              "#fdca26"
             ],
             [
              1,
              "#f0f921"
             ]
            ],
            "type": "histogram2dcontour"
           }
          ],
          "mesh3d": [
           {
            "colorbar": {
             "outlinewidth": 0,
             "ticks": ""
            },
            "type": "mesh3d"
           }
          ],
          "parcoords": [
           {
            "line": {
             "colorbar": {
              "outlinewidth": 0,
              "ticks": ""
             }
            },
            "type": "parcoords"
           }
          ],
          "pie": [
           {
            "automargin": true,
            "type": "pie"
           }
          ],
          "scatter": [
           {
            "fillpattern": {
             "fillmode": "overlay",
             "size": 10,
             "solidity": 0.2
            },
            "type": "scatter"
           }
          ],
          "scatter3d": [
           {
            "line": {
             "colorbar": {
              "outlinewidth": 0,
              "ticks": ""
             }
            },
            "marker": {
             "colorbar": {
              "outlinewidth": 0,
              "ticks": ""
             }
            },
            "type": "scatter3d"
           }
          ],
          "scattercarpet": [
           {
            "marker": {
             "colorbar": {
              "outlinewidth": 0,
              "ticks": ""
             }
            },
            "type": "scattercarpet"
           }
          ],
          "scattergeo": [
           {
            "marker": {
             "colorbar": {
              "outlinewidth": 0,
              "ticks": ""
             }
            },
            "type": "scattergeo"
           }
          ],
          "scattergl": [
           {
            "marker": {
             "colorbar": {
              "outlinewidth": 0,
              "ticks": ""
             }
            },
            "type": "scattergl"
           }
          ],
          "scattermapbox": [
           {
            "marker": {
             "colorbar": {
              "outlinewidth": 0,
              "ticks": ""
             }
            },
            "type": "scattermapbox"
           }
          ],
          "scatterpolar": [
           {
            "marker": {
             "colorbar": {
              "outlinewidth": 0,
              "ticks": ""
             }
            },
            "type": "scatterpolar"
           }
          ],
          "scatterpolargl": [
           {
            "marker": {
             "colorbar": {
              "outlinewidth": 0,
              "ticks": ""
             }
            },
            "type": "scatterpolargl"
           }
          ],
          "scatterternary": [
           {
            "marker": {
             "colorbar": {
              "outlinewidth": 0,
              "ticks": ""
             }
            },
            "type": "scatterternary"
           }
          ],
          "surface": [
           {
            "colorbar": {
             "outlinewidth": 0,
             "ticks": ""
            },
            "colorscale": [
             [
              0,
              "#0d0887"
             ],
             [
              0.1111111111111111,
              "#46039f"
             ],
             [
              0.2222222222222222,
              "#7201a8"
             ],
             [
              0.3333333333333333,
              "#9c179e"
             ],
             [
              0.4444444444444444,
              "#bd3786"
             ],
             [
              0.5555555555555556,
              "#d8576b"
             ],
             [
              0.6666666666666666,
              "#ed7953"
             ],
             [
              0.7777777777777778,
              "#fb9f3a"
             ],
             [
              0.8888888888888888,
              "#fdca26"
             ],
             [
              1,
              "#f0f921"
             ]
            ],
            "type": "surface"
           }
          ],
          "table": [
           {
            "cells": {
             "fill": {
              "color": "#EBF0F8"
             },
             "line": {
              "color": "white"
             }
            },
            "header": {
             "fill": {
              "color": "#C8D4E3"
             },
             "line": {
              "color": "white"
             }
            },
            "type": "table"
           }
          ]
         },
         "layout": {
          "annotationdefaults": {
           "arrowcolor": "#2a3f5f",
           "arrowhead": 0,
           "arrowwidth": 1
          },
          "autotypenumbers": "strict",
          "coloraxis": {
           "colorbar": {
            "outlinewidth": 0,
            "ticks": ""
           }
          },
          "colorscale": {
           "diverging": [
            [
             0,
             "#8e0152"
            ],
            [
             0.1,
             "#c51b7d"
            ],
            [
             0.2,
             "#de77ae"
            ],
            [
             0.3,
             "#f1b6da"
            ],
            [
             0.4,
             "#fde0ef"
            ],
            [
             0.5,
             "#f7f7f7"
            ],
            [
             0.6,
             "#e6f5d0"
            ],
            [
             0.7,
             "#b8e186"
            ],
            [
             0.8,
             "#7fbc41"
            ],
            [
             0.9,
             "#4d9221"
            ],
            [
             1,
             "#276419"
            ]
           ],
           "sequential": [
            [
             0,
             "#0d0887"
            ],
            [
             0.1111111111111111,
             "#46039f"
            ],
            [
             0.2222222222222222,
             "#7201a8"
            ],
            [
             0.3333333333333333,
             "#9c179e"
            ],
            [
             0.4444444444444444,
             "#bd3786"
            ],
            [
             0.5555555555555556,
             "#d8576b"
            ],
            [
             0.6666666666666666,
             "#ed7953"
            ],
            [
             0.7777777777777778,
             "#fb9f3a"
            ],
            [
             0.8888888888888888,
             "#fdca26"
            ],
            [
             1,
             "#f0f921"
            ]
           ],
           "sequentialminus": [
            [
             0,
             "#0d0887"
            ],
            [
             0.1111111111111111,
             "#46039f"
            ],
            [
             0.2222222222222222,
             "#7201a8"
            ],
            [
             0.3333333333333333,
             "#9c179e"
            ],
            [
             0.4444444444444444,
             "#bd3786"
            ],
            [
             0.5555555555555556,
             "#d8576b"
            ],
            [
             0.6666666666666666,
             "#ed7953"
            ],
            [
             0.7777777777777778,
             "#fb9f3a"
            ],
            [
             0.8888888888888888,
             "#fdca26"
            ],
            [
             1,
             "#f0f921"
            ]
           ]
          },
          "colorway": [
           "#636efa",
           "#EF553B",
           "#00cc96",
           "#ab63fa",
           "#FFA15A",
           "#19d3f3",
           "#FF6692",
           "#B6E880",
           "#FF97FF",
           "#FECB52"
          ],
          "font": {
           "color": "#2a3f5f"
          },
          "geo": {
           "bgcolor": "white",
           "lakecolor": "white",
           "landcolor": "#E5ECF6",
           "showlakes": true,
           "showland": true,
           "subunitcolor": "white"
          },
          "hoverlabel": {
           "align": "left"
          },
          "hovermode": "closest",
          "mapbox": {
           "style": "light"
          },
          "paper_bgcolor": "white",
          "plot_bgcolor": "#E5ECF6",
          "polar": {
           "angularaxis": {
            "gridcolor": "white",
            "linecolor": "white",
            "ticks": ""
           },
           "bgcolor": "#E5ECF6",
           "radialaxis": {
            "gridcolor": "white",
            "linecolor": "white",
            "ticks": ""
           }
          },
          "scene": {
           "xaxis": {
            "backgroundcolor": "#E5ECF6",
            "gridcolor": "white",
            "gridwidth": 2,
            "linecolor": "white",
            "showbackground": true,
            "ticks": "",
            "zerolinecolor": "white"
           },
           "yaxis": {
            "backgroundcolor": "#E5ECF6",
            "gridcolor": "white",
            "gridwidth": 2,
            "linecolor": "white",
            "showbackground": true,
            "ticks": "",
            "zerolinecolor": "white"
           },
           "zaxis": {
            "backgroundcolor": "#E5ECF6",
            "gridcolor": "white",
            "gridwidth": 2,
            "linecolor": "white",
            "showbackground": true,
            "ticks": "",
            "zerolinecolor": "white"
           }
          },
          "shapedefaults": {
           "line": {
            "color": "#2a3f5f"
           }
          },
          "ternary": {
           "aaxis": {
            "gridcolor": "white",
            "linecolor": "white",
            "ticks": ""
           },
           "baxis": {
            "gridcolor": "white",
            "linecolor": "white",
            "ticks": ""
           },
           "bgcolor": "#E5ECF6",
           "caxis": {
            "gridcolor": "white",
            "linecolor": "white",
            "ticks": ""
           }
          },
          "title": {
           "x": 0.05
          },
          "xaxis": {
           "automargin": true,
           "gridcolor": "white",
           "linecolor": "white",
           "ticks": "",
           "title": {
            "standoff": 15
           },
           "zerolinecolor": "white",
           "zerolinewidth": 2
          },
          "yaxis": {
           "automargin": true,
           "gridcolor": "white",
           "linecolor": "white",
           "ticks": "",
           "title": {
            "standoff": 15
           },
           "zerolinecolor": "white",
           "zerolinewidth": 2
          }
         }
        },
        "yaxis": {
         "title": {
          "text": "Temperature"
         }
        },
        "yaxis2": {
         "overlaying": "y",
         "side": "right",
         "title": {
          "text": "Precipitation"
         }
        }
       }
      }
     },
     "metadata": {},
     "output_type": "display_data"
    }
   ],
   "source": [
    "# Create a Plotly figure\n",
    "fig = go.Figure()\n",
    "\n",
    "# Add a bar chart for precipitation\n",
    "fig.add_trace(go.Bar(\n",
    "    x=precip_climatology.month,\n",
    "    y=precip_climatology,\n",
    "    name='Precipitation',\n",
    "    # Set the y-axis to be on the right side\n",
    "    yaxis='y2'\n",
    "))\n",
    "\n",
    "# Add a line chart for temperature\n",
    "fig.add_trace(go.Scatter(\n",
    "    x=temp_climatology.month,\n",
    "    y=temp_climatology,\n",
    "    mode='lines',\n",
    "    name='Temperature',\n",
    "))\n",
    "\n",
    "# Set the layout to have two y-axes\n",
    "fig.update_layout(\n",
    "    yaxis=dict(title='Temperature'),\n",
    "    yaxis2=dict(title='Precipitation', overlaying='y', side='right')\n",
    ")\n",
    "\n",
    "# Show the figure\n",
    "fig.show()"
   ]
  },
  {
   "cell_type": "code",
   "execution_count": null,
   "metadata": {},
   "outputs": [],
   "source": []
  }
 ],
 "metadata": {
  "kernelspec": {
   "display_name": "climate_permaculture",
   "language": "python",
   "name": "python3"
  },
  "language_info": {
   "codemirror_mode": {
    "name": "ipython",
    "version": 3
   },
   "file_extension": ".py",
   "mimetype": "text/x-python",
   "name": "python",
   "nbconvert_exporter": "python",
   "pygments_lexer": "ipython3",
   "version": "3.9.7"
  }
 },
 "nbformat": 4,
 "nbformat_minor": 2
}

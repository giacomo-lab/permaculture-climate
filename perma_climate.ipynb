{
 "cells": [
  {
   "cell_type": "code",
   "execution_count": 4,
   "metadata": {},
   "outputs": [],
   "source": [
    "import cdsapi\n",
    "import xarray as xr\n",
    "import pygrib\n",
    "import numpy as np\n",
    "import pandas as pd\n",
    "import time\n",
    "import requests\n",
    "import os\n",
    "import xarray as xr\n",
    "\n",
    "\n",
    "import plotly.graph_objects as go\n",
    "from plotly.subplots import make_subplots\n",
    "import plotly.express as px\n",
    "import plotly\n",
    "\n",
    "\n",
    "import numpy as np\n",
    "import matplotlib.pyplot as plt\n",
    "import matplotlib.colors\n",
    "\n",
    "from geopy.geocoders import Nominatim\n",
    "from datetime import datetime\n",
    "import timezonefinder\n",
    "from astral.sun import sun\n",
    "from astral.location import LocationInfo"
   ]
  },
  {
   "cell_type": "code",
   "execution_count": null,
   "metadata": {},
   "outputs": [],
   "source": [
    "#What a permaculture project need to know when they start"
   ]
  },
  {
   "cell_type": "code",
   "execution_count": 5,
   "metadata": {},
   "outputs": [
    {
     "name": "stdout",
     "output_type": "stream",
     "text": [
      "[1992, 1993, 1994, 1995, 1996, 1997, 1998, 1999, 2000, 2001, 2002, 2003, 2004, 2005, 2006, 2007, 2008, 2009, 2010, 2011, 2012, 2013, 2014, 2015, 2016, 2017, 2018, 2019, 2020, 2021, 2022]\n"
     ]
    }
   ],
   "source": [
    "\n",
    "\n",
    "# select the years you want to download:\n",
    "start_year = 1992\n",
    "end_year = 2022\n",
    "year_range = [i for i in range(start_year, end_year + 1)]\n",
    "print(year_range)\n",
    "\n",
    "# Use geopy to get the latitude and longitude of the city\n",
    "geolocator = Nominatim(user_agent=\"permaculture-climate\")\n",
    "location = geolocator.geocode(\"Puebla de don Fadrique, Spain\")\n",
    "# Add a delay between requests\n",
    "time.sleep(1)\n"
   ]
  },
  {
   "cell_type": "code",
   "execution_count": null,
   "metadata": {},
   "outputs": [],
   "source": [
    "#Send API request and download data\n",
    "c = cdsapi.Client()\n",
    "try:\n",
    "    data = c.retrieve(\"reanalysis-era5-single-levels-monthly-means\",\n",
    "    {\"format\": \"grib\",\n",
    "     \"product_type\": \"monthly_averaged_reanalysis_by_hour_of_day\",\n",
    "     \"variable\": ['10m_u_component_of_wind', '10m_v_component_of_wind', \n",
    "                '2m_temperature',\n",
    "                'total_cloud_cover', \n",
    "                'total_precipitation',\n",
    "                ],\n",
    "    \"area\": [location.latitude + 1, \n",
    "             location.longitude - 1, \n",
    "             location.latitude - 1, \n",
    "             location.longitude + 1],  # North, West, South, East. \n",
    "    \"year\": year_range,\n",
    "    \"month\": ['01', '02', '03',\n",
    "           '04', '05', '06',\n",
    "           '07', '08', '09',\n",
    "           '10', '11', '12'],\n",
    "    \"time\": [\"00:00\",\"01:00\",\"02:00\",\"03:00\",\"04:00\",\"05:00\",\n",
    "             \"06:00\",\"07:00\",\"08:00\",\"09:00\",\"10:00\",\"11:00\",\n",
    "             \"12:00\", \"13:00\",\"14:00\",\"15:00\",\"16:00\",\"17:00\",\n",
    "             \"18:00\",\"19:00\",\"20:00\",\"21:00\",\"22:00\",\"23:00\"]\n",
    "    })\n",
    "\n",
    "    # Get the location of the file to download\n",
    "    url = data.location\n",
    "\n",
    "    # Download the file\n",
    "    response = requests.get(url)\n",
    "\n",
    "    # Check if the request was successful\n",
    "    response.raise_for_status()\n",
    "\n",
    "except requests.exceptions.HTTPError as errh:\n",
    "    print (\"HTTP Error:\",errh)\n",
    "except requests.exceptions.ConnectionError as errc:\n",
    "    print (\"Error Connecting:\",errc)\n",
    "except requests.exceptions.Timeout as errt:\n",
    "    print (\"Timeout Error:\",errt)\n",
    "except requests.exceptions.RequestException as err:\n",
    "    print (\"Something went wrong with the request:\",err)\n",
    "\n",
    "else:\n",
    "    # If the request was successful, write the file\n",
    "    filename = 'download.grib'\n",
    "    with open(filename, 'wb') as f:\n",
    "        f.write(response.content)\n",
    "\n",
    "    # Print the location where the file is saved\n",
    "    print(f\"File saved at: {os.path.abspath(filename)}\")"
   ]
  },
  {
   "cell_type": "code",
   "execution_count": 2,
   "metadata": {},
   "outputs": [
    {
     "name": "stdout",
     "output_type": "stream",
     "text": [
      "2t:\n",
      "<xarray.Dataset>\n",
      "Dimensions:     (time: 8928, latitude: 9, longitude: 9)\n",
      "Coordinates:\n",
      "    number      int32 ...\n",
      "  * time        (time) datetime64[ns] 1992-01-01 ... 2022-12-01T23:00:00\n",
      "    step        timedelta64[ns] ...\n",
      "    surface     float64 ...\n",
      "  * latitude    (latitude) float64 38.96 38.71 38.46 38.21 ... 37.46 37.21 36.96\n",
      "  * longitude   (longitude) float64 -3.435 -3.185 -2.935 ... -1.934 -1.684 358.6\n",
      "    valid_time  (time) datetime64[ns] ...\n",
      "Data variables:\n",
      "    t2m         (time, latitude, longitude) float32 ...\n",
      "Attributes:\n",
      "    GRIB_edition:            1\n",
      "    GRIB_centre:             ecmf\n",
      "    GRIB_centreDescription:  European Centre for Medium-Range Weather Forecasts\n",
      "    GRIB_subCentre:          0\n",
      "    Conventions:             CF-1.7\n",
      "    institution:             European Centre for Medium-Range Weather Forecasts\n",
      "    history:                 2023-12-04T09:10 GRIB to CDM+CF via cfgrib-0.9.1...\n",
      "\n",
      "\n",
      "10v:\n",
      "<xarray.Dataset>\n",
      "Dimensions:     (time: 8928, latitude: 9, longitude: 9)\n",
      "Coordinates:\n",
      "    number      int32 ...\n",
      "  * time        (time) datetime64[ns] 1992-01-01 ... 2022-12-01T23:00:00\n",
      "    step        timedelta64[ns] ...\n",
      "    surface     float64 ...\n",
      "  * latitude    (latitude) float64 38.96 38.71 38.46 38.21 ... 37.46 37.21 36.96\n",
      "  * longitude   (longitude) float64 -3.435 -3.185 -2.935 ... -1.934 -1.684 358.6\n",
      "    valid_time  (time) datetime64[ns] ...\n",
      "Data variables:\n",
      "    v10         (time, latitude, longitude) float32 ...\n",
      "Attributes:\n",
      "    GRIB_edition:            1\n",
      "    GRIB_centre:             ecmf\n",
      "    GRIB_centreDescription:  European Centre for Medium-Range Weather Forecasts\n",
      "    GRIB_subCentre:          0\n",
      "    Conventions:             CF-1.7\n",
      "    institution:             European Centre for Medium-Range Weather Forecasts\n",
      "    history:                 2023-12-04T09:10 GRIB to CDM+CF via cfgrib-0.9.1...\n",
      "\n",
      "\n",
      "10u:\n",
      "<xarray.Dataset>\n",
      "Dimensions:     (time: 8928, latitude: 9, longitude: 9)\n",
      "Coordinates:\n",
      "    number      int32 ...\n",
      "  * time        (time) datetime64[ns] 1992-01-01 ... 2022-12-01T23:00:00\n",
      "    step        timedelta64[ns] ...\n",
      "    surface     float64 ...\n",
      "  * latitude    (latitude) float64 38.96 38.71 38.46 38.21 ... 37.46 37.21 36.96\n",
      "  * longitude   (longitude) float64 -3.435 -3.185 -2.935 ... -1.934 -1.684 358.6\n",
      "    valid_time  (time) datetime64[ns] ...\n",
      "Data variables:\n",
      "    u10         (time, latitude, longitude) float32 ...\n",
      "Attributes:\n",
      "    GRIB_edition:            1\n",
      "    GRIB_centre:             ecmf\n",
      "    GRIB_centreDescription:  European Centre for Medium-Range Weather Forecasts\n",
      "    GRIB_subCentre:          0\n",
      "    Conventions:             CF-1.7\n",
      "    institution:             European Centre for Medium-Range Weather Forecasts\n",
      "    history:                 2023-12-04T09:10 GRIB to CDM+CF via cfgrib-0.9.1...\n",
      "\n",
      "\n",
      "tp:\n",
      "<xarray.Dataset>\n",
      "Dimensions:     (time: 1116, step: 12, latitude: 9, longitude: 9)\n",
      "Coordinates:\n",
      "    number      int32 ...\n",
      "  * time        (time) datetime64[ns] 1991-12-31T18:00:00 ... 2022-12-01T18:0...\n",
      "  * step        (step) timedelta64[ns] 01:00:00 02:00:00 ... 11:00:00 12:00:00\n",
      "    surface     float64 ...\n",
      "  * latitude    (latitude) float64 38.96 38.71 38.46 38.21 ... 37.46 37.21 36.96\n",
      "  * longitude   (longitude) float64 -3.435 -3.185 -2.935 ... -1.934 -1.684 358.6\n",
      "    valid_time  (time, step) datetime64[ns] ...\n",
      "Data variables:\n",
      "    tp          (time, step, latitude, longitude) float32 ...\n",
      "Attributes:\n",
      "    GRIB_edition:            1\n",
      "    GRIB_centre:             ecmf\n",
      "    GRIB_centreDescription:  European Centre for Medium-Range Weather Forecasts\n",
      "    GRIB_subCentre:          0\n",
      "    Conventions:             CF-1.7\n",
      "    institution:             European Centre for Medium-Range Weather Forecasts\n",
      "    history:                 2023-12-04T09:10 GRIB to CDM+CF via cfgrib-0.9.1...\n",
      "\n",
      "\n",
      "tcc:\n",
      "<xarray.Dataset>\n",
      "Dimensions:     (time: 8928, latitude: 9, longitude: 9)\n",
      "Coordinates:\n",
      "    number      int32 ...\n",
      "  * time        (time) datetime64[ns] 1992-01-01 ... 2022-12-01T23:00:00\n",
      "    step        timedelta64[ns] ...\n",
      "    surface     float64 ...\n",
      "  * latitude    (latitude) float64 38.96 38.71 38.46 38.21 ... 37.46 37.21 36.96\n",
      "  * longitude   (longitude) float64 -3.435 -3.185 -2.935 ... -1.934 -1.684 358.6\n",
      "    valid_time  (time) datetime64[ns] ...\n",
      "Data variables:\n",
      "    tcc         (time, latitude, longitude) float32 ...\n",
      "Attributes:\n",
      "    GRIB_edition:            1\n",
      "    GRIB_centre:             ecmf\n",
      "    GRIB_centreDescription:  European Centre for Medium-Range Weather Forecasts\n",
      "    GRIB_subCentre:          0\n",
      "    Conventions:             CF-1.7\n",
      "    institution:             European Centre for Medium-Range Weather Forecasts\n",
      "    history:                 2023-12-04T09:10 GRIB to CDM+CF via cfgrib-0.9.1...\n",
      "\n",
      "\n"
     ]
    }
   ],
   "source": [
    "# List of variables to load\n",
    "variables = ['2t','10v','10u','tp','tcc']\n",
    "\n",
    "# Dictionary to hold the datasets\n",
    "datasets = {}\n",
    "\n",
    "# Open the GRIB file for each variable\n",
    "for var in variables:\n",
    "    ds = xr.open_dataset('download.grib', engine='cfgrib', backend_kwargs={'filter_by_keys': {'shortName': var}})\n",
    "    datasets[var] = ds\n",
    "\n",
    "# Print the datasets\n",
    "for var, ds in datasets.items():\n",
    "    print(f\"{var}:\")\n",
    "    print(ds)\n",
    "    print(\"\\n\")"
   ]
  },
  {
   "cell_type": "code",
   "execution_count": 4,
   "metadata": {},
   "outputs": [
    {
     "name": "stdout",
     "output_type": "stream",
     "text": [
      "The following time values for Total precipitation are not 6 or 18: [Timestamp('1992-01-01 00:00:00'), Timestamp('1992-01-01 01:00:00'), Timestamp('1992-01-01 02:00:00'), Timestamp('1992-01-01 03:00:00'), Timestamp('1992-01-01 04:00:00'), Timestamp('1992-01-01 05:00:00'), Timestamp('1992-01-01 07:00:00'), Timestamp('1992-01-01 08:00:00'), Timestamp('1992-01-01 09:00:00'), Timestamp('1992-01-01 10:00:00'), Timestamp('1992-01-01 11:00:00'), Timestamp('1992-01-01 12:00:00'), Timestamp('1992-01-01 13:00:00'), Timestamp('1992-01-01 14:00:00'), Timestamp('1992-01-01 15:00:00'), Timestamp('1992-01-01 16:00:00'), Timestamp('1992-01-01 17:00:00'), Timestamp('1992-01-01 19:00:00'), Timestamp('1992-01-01 20:00:00'), Timestamp('1992-01-01 21:00:00'), Timestamp('1992-01-01 22:00:00'), Timestamp('1992-01-01 23:00:00'), Timestamp('1992-02-01 00:00:00'), Timestamp('1992-02-01 01:00:00'), Timestamp('1992-02-01 02:00:00'), Timestamp('1992-02-01 03:00:00'), Timestamp('1992-02-01 04:00:00'), Timestamp('1992-02-01 05:00:00'), Timestamp('1992-02-01 07:00:00'), Timestamp('1992-02-01 08:00:00'), Timestamp('1992-02-01 09:00:00'), Timestamp('1992-02-01 10:00:00'), Timestamp('1992-02-01 11:00:00'), Timestamp('1992-02-01 12:00:00'), Timestamp('1992-02-01 13:00:00'), Timestamp('1992-02-01 14:00:00'), Timestamp('1992-02-01 15:00:00'), Timestamp('1992-02-01 16:00:00'), Timestamp('1992-02-01 17:00:00'), Timestamp('1992-02-01 19:00:00'), Timestamp('1992-02-01 20:00:00'), Timestamp('1992-02-01 21:00:00'), Timestamp('1992-02-01 22:00:00'), Timestamp('1992-02-01 23:00:00'), Timestamp('1992-03-01 00:00:00'), Timestamp('1992-03-01 01:00:00'), Timestamp('1992-03-01 02:00:00'), Timestamp('1992-03-01 03:00:00'), Timestamp('1992-03-01 04:00:00'), Timestamp('1992-03-01 05:00:00'), Timestamp('1992-03-01 07:00:00'), Timestamp('1992-03-01 08:00:00'), Timestamp('1992-03-01 09:00:00'), Timestamp('1992-03-01 10:00:00'), Timestamp('1992-03-01 11:00:00'), Timestamp('1992-03-01 12:00:00'), Timestamp('1992-03-01 13:00:00'), Timestamp('1992-03-01 14:00:00'), Timestamp('1992-03-01 15:00:00'), Timestamp('1992-03-01 16:00:00'), Timestamp('1992-03-01 17:00:00'), Timestamp('1992-03-01 19:00:00'), Timestamp('1992-03-01 20:00:00'), Timestamp('1992-03-01 21:00:00'), Timestamp('1992-03-01 22:00:00'), Timestamp('1992-03-01 23:00:00'), Timestamp('1992-04-01 00:00:00'), Timestamp('1992-04-01 01:00:00'), Timestamp('1992-04-01 02:00:00'), Timestamp('1992-04-01 03:00:00'), Timestamp('1992-04-01 04:00:00'), Timestamp('1992-04-01 05:00:00'), Timestamp('1992-04-01 07:00:00'), Timestamp('1992-04-01 08:00:00'), Timestamp('1992-04-01 09:00:00'), Timestamp('1992-04-01 10:00:00'), Timestamp('1992-04-01 11:00:00'), Timestamp('1992-04-01 12:00:00'), Timestamp('1992-04-01 13:00:00'), Timestamp('1992-04-01 14:00:00'), Timestamp('1992-04-01 15:00:00'), Timestamp('1992-04-01 16:00:00'), Timestamp('1992-04-01 17:00:00'), Timestamp('1992-04-01 19:00:00'), Timestamp('1992-04-01 20:00:00'), Timestamp('1992-04-01 21:00:00'), Timestamp('1992-04-01 22:00:00'), Timestamp('1992-04-01 23:00:00'), Timestamp('1992-05-01 00:00:00'), Timestamp('1992-05-01 01:00:00'), Timestamp('1992-05-01 02:00:00'), Timestamp('1992-05-01 03:00:00'), Timestamp('1992-05-01 04:00:00'), Timestamp('1992-05-01 05:00:00'), Timestamp('1992-05-01 07:00:00'), Timestamp('1992-05-01 08:00:00'), Timestamp('1992-05-01 09:00:00'), Timestamp('1992-05-01 10:00:00'), Timestamp('1992-05-01 11:00:00'), Timestamp('1992-05-01 12:00:00'), Timestamp('1992-05-01 13:00:00'), Timestamp('1992-05-01 14:00:00'), Timestamp('1992-05-01 15:00:00'), Timestamp('1992-05-01 16:00:00'), Timestamp('1992-05-01 17:00:00'), Timestamp('1992-05-01 19:00:00'), Timestamp('1992-05-01 20:00:00'), Timestamp('1992-05-01 21:00:00'), Timestamp('1992-05-01 22:00:00'), Timestamp('1992-05-01 23:00:00'), Timestamp('1992-06-01 00:00:00'), Timestamp('1992-06-01 01:00:00'), Timestamp('1992-06-01 02:00:00'), Timestamp('1992-06-01 03:00:00'), Timestamp('1992-06-01 04:00:00'), Timestamp('1992-06-01 05:00:00'), Timestamp('1992-06-01 07:00:00'), Timestamp('1992-06-01 08:00:00'), Timestamp('1992-06-01 09:00:00'), Timestamp('1992-06-01 10:00:00'), Timestamp('1992-06-01 11:00:00'), Timestamp('1992-06-01 12:00:00'), Timestamp('1992-06-01 13:00:00'), Timestamp('1992-06-01 14:00:00'), Timestamp('1992-06-01 15:00:00'), Timestamp('1992-06-01 16:00:00'), Timestamp('1992-06-01 17:00:00'), Timestamp('1992-06-01 19:00:00'), Timestamp('1992-06-01 20:00:00'), Timestamp('1992-06-01 21:00:00'), Timestamp('1992-06-01 22:00:00'), Timestamp('1992-06-01 23:00:00'), Timestamp('1992-07-01 00:00:00'), Timestamp('1992-07-01 01:00:00'), Timestamp('1992-07-01 02:00:00'), Timestamp('1992-07-01 03:00:00'), Timestamp('1992-07-01 04:00:00'), Timestamp('1992-07-01 05:00:00'), Timestamp('1992-07-01 07:00:00'), Timestamp('1992-07-01 08:00:00'), Timestamp('1992-07-01 09:00:00'), Timestamp('1992-07-01 10:00:00'), Timestamp('1992-07-01 11:00:00'), Timestamp('1992-07-01 12:00:00'), Timestamp('1992-07-01 13:00:00'), Timestamp('1992-07-01 14:00:00'), Timestamp('1992-07-01 15:00:00'), Timestamp('1992-07-01 16:00:00'), Timestamp('1992-07-01 17:00:00'), Timestamp('1992-07-01 19:00:00'), Timestamp('1992-07-01 20:00:00'), Timestamp('1992-07-01 21:00:00'), Timestamp('1992-07-01 22:00:00'), Timestamp('1992-07-01 23:00:00'), Timestamp('1992-08-01 00:00:00'), Timestamp('1992-08-01 01:00:00'), Timestamp('1992-08-01 02:00:00'), Timestamp('1992-08-01 03:00:00'), Timestamp('1992-08-01 04:00:00'), Timestamp('1992-08-01 05:00:00'), Timestamp('1992-08-01 07:00:00'), Timestamp('1992-08-01 08:00:00'), Timestamp('1992-08-01 09:00:00'), Timestamp('1992-08-01 10:00:00'), Timestamp('1992-08-01 11:00:00'), Timestamp('1992-08-01 12:00:00'), Timestamp('1992-08-01 13:00:00'), Timestamp('1992-08-01 14:00:00'), Timestamp('1992-08-01 15:00:00'), Timestamp('1992-08-01 16:00:00'), Timestamp('1992-08-01 17:00:00'), Timestamp('1992-08-01 19:00:00'), Timestamp('1992-08-01 20:00:00'), Timestamp('1992-08-01 21:00:00'), Timestamp('1992-08-01 22:00:00'), Timestamp('1992-08-01 23:00:00'), Timestamp('1992-09-01 00:00:00'), Timestamp('1992-09-01 01:00:00'), Timestamp('1992-09-01 02:00:00'), Timestamp('1992-09-01 03:00:00'), Timestamp('1992-09-01 04:00:00'), Timestamp('1992-09-01 05:00:00'), Timestamp('1992-09-01 07:00:00'), Timestamp('1992-09-01 08:00:00'), Timestamp('1992-09-01 09:00:00'), Timestamp('1992-09-01 10:00:00'), Timestamp('1992-09-01 11:00:00'), Timestamp('1992-09-01 12:00:00'), Timestamp('1992-09-01 13:00:00'), Timestamp('1992-09-01 14:00:00'), Timestamp('1992-09-01 15:00:00'), Timestamp('1992-09-01 16:00:00'), Timestamp('1992-09-01 17:00:00'), Timestamp('1992-09-01 19:00:00'), Timestamp('1992-09-01 20:00:00'), Timestamp('1992-09-01 21:00:00'), Timestamp('1992-09-01 22:00:00'), Timestamp('1992-09-01 23:00:00'), Timestamp('1992-10-01 00:00:00'), Timestamp('1992-10-01 01:00:00'), Timestamp('1992-10-01 02:00:00'), Timestamp('1992-10-01 03:00:00'), Timestamp('1992-10-01 04:00:00'), Timestamp('1992-10-01 05:00:00'), Timestamp('1992-10-01 07:00:00'), Timestamp('1992-10-01 08:00:00'), Timestamp('1992-10-01 09:00:00'), Timestamp('1992-10-01 10:00:00'), Timestamp('1992-10-01 11:00:00'), Timestamp('1992-10-01 12:00:00'), Timestamp('1992-10-01 13:00:00'), Timestamp('1992-10-01 14:00:00'), Timestamp('1992-10-01 15:00:00'), Timestamp('1992-10-01 16:00:00'), Timestamp('1992-10-01 17:00:00'), Timestamp('1992-10-01 19:00:00'), Timestamp('1992-10-01 20:00:00'), Timestamp('1992-10-01 21:00:00'), Timestamp('1992-10-01 22:00:00'), Timestamp('1992-10-01 23:00:00'), Timestamp('1992-11-01 00:00:00'), Timestamp('1992-11-01 01:00:00'), Timestamp('1992-11-01 02:00:00'), Timestamp('1992-11-01 03:00:00'), Timestamp('1992-11-01 04:00:00'), Timestamp('1992-11-01 05:00:00'), Timestamp('1992-11-01 07:00:00'), Timestamp('1992-11-01 08:00:00'), Timestamp('1992-11-01 09:00:00'), Timestamp('1992-11-01 10:00:00'), Timestamp('1992-11-01 11:00:00'), Timestamp('1992-11-01 12:00:00'), Timestamp('1992-11-01 13:00:00'), Timestamp('1992-11-01 14:00:00'), Timestamp('1992-11-01 15:00:00'), Timestamp('1992-11-01 16:00:00'), Timestamp('1992-11-01 17:00:00'), Timestamp('1992-11-01 19:00:00'), Timestamp('1992-11-01 20:00:00'), Timestamp('1992-11-01 21:00:00'), Timestamp('1992-11-01 22:00:00'), Timestamp('1992-11-01 23:00:00'), Timestamp('1992-12-01 00:00:00'), Timestamp('1992-12-01 01:00:00'), Timestamp('1992-12-01 02:00:00'), Timestamp('1992-12-01 03:00:00'), Timestamp('1992-12-01 04:00:00'), Timestamp('1992-12-01 05:00:00'), Timestamp('1992-12-01 07:00:00'), Timestamp('1992-12-01 08:00:00'), Timestamp('1992-12-01 09:00:00'), Timestamp('1992-12-01 10:00:00'), Timestamp('1992-12-01 11:00:00'), Timestamp('1992-12-01 12:00:00'), Timestamp('1992-12-01 13:00:00'), Timestamp('1992-12-01 14:00:00'), Timestamp('1992-12-01 15:00:00'), Timestamp('1992-12-01 16:00:00'), Timestamp('1992-12-01 17:00:00'), Timestamp('1992-12-01 19:00:00'), Timestamp('1992-12-01 20:00:00'), Timestamp('1992-12-01 21:00:00'), Timestamp('1992-12-01 22:00:00'), Timestamp('1992-12-01 23:00:00'), Timestamp('1993-01-01 00:00:00'), Timestamp('1993-01-01 01:00:00'), Timestamp('1993-01-01 02:00:00'), Timestamp('1993-01-01 03:00:00'), Timestamp('1993-01-01 04:00:00'), Timestamp('1993-01-01 05:00:00'), Timestamp('1993-01-01 07:00:00'), Timestamp('1993-01-01 08:00:00'), Timestamp('1993-01-01 09:00:00'), Timestamp('1993-01-01 10:00:00'), Timestamp('1993-01-01 11:00:00'), Timestamp('1993-01-01 12:00:00'), Timestamp('1993-01-01 13:00:00'), Timestamp('1993-01-01 14:00:00'), Timestamp('1993-01-01 15:00:00'), Timestamp('1993-01-01 16:00:00'), Timestamp('1993-01-01 17:00:00'), Timestamp('1993-01-01 19:00:00'), Timestamp('1993-01-01 20:00:00'), Timestamp('1993-01-01 21:00:00'), Timestamp('1993-01-01 22:00:00'), Timestamp('1993-01-01 23:00:00'), Timestamp('1993-02-01 00:00:00'), Timestamp('1993-02-01 01:00:00'), Timestamp('1993-02-01 02:00:00'), Timestamp('1993-02-01 03:00:00'), Timestamp('1993-02-01 04:00:00'), Timestamp('1993-02-01 05:00:00'), Timestamp('1993-02-01 07:00:00'), Timestamp('1993-02-01 08:00:00'), Timestamp('1993-02-01 09:00:00'), Timestamp('1993-02-01 10:00:00'), Timestamp('1993-02-01 11:00:00'), Timestamp('1993-02-01 12:00:00'), Timestamp('1993-02-01 13:00:00'), Timestamp('1993-02-01 14:00:00'), Timestamp('1993-02-01 15:00:00'), Timestamp('1993-02-01 16:00:00'), Timestamp('1993-02-01 17:00:00'), Timestamp('1993-02-01 19:00:00'), Timestamp('1993-02-01 20:00:00'), Timestamp('1993-02-01 21:00:00'), Timestamp('1993-02-01 22:00:00'), Timestamp('1993-02-01 23:00:00'), Timestamp('1993-03-01 00:00:00'), Timestamp('1993-03-01 01:00:00'), Timestamp('1993-03-01 02:00:00'), Timestamp('1993-03-01 03:00:00'), Timestamp('1993-03-01 04:00:00'), Timestamp('1993-03-01 05:00:00'), Timestamp('1993-03-01 07:00:00'), Timestamp('1993-03-01 08:00:00'), Timestamp('1993-03-01 09:00:00'), Timestamp('1993-03-01 10:00:00'), Timestamp('1993-03-01 11:00:00'), Timestamp('1993-03-01 12:00:00'), Timestamp('1993-03-01 13:00:00'), Timestamp('1993-03-01 14:00:00'), Timestamp('1993-03-01 15:00:00'), Timestamp('1993-03-01 16:00:00'), Timestamp('1993-03-01 17:00:00'), Timestamp('1993-03-01 19:00:00'), Timestamp('1993-03-01 20:00:00'), Timestamp('1993-03-01 21:00:00'), Timestamp('1993-03-01 22:00:00'), Timestamp('1993-03-01 23:00:00'), Timestamp('1993-04-01 00:00:00'), Timestamp('1993-04-01 01:00:00'), Timestamp('1993-04-01 02:00:00'), Timestamp('1993-04-01 03:00:00'), Timestamp('1993-04-01 04:00:00'), Timestamp('1993-04-01 05:00:00'), Timestamp('1993-04-01 07:00:00'), Timestamp('1993-04-01 08:00:00'), Timestamp('1993-04-01 09:00:00'), Timestamp('1993-04-01 10:00:00'), Timestamp('1993-04-01 11:00:00'), Timestamp('1993-04-01 12:00:00'), Timestamp('1993-04-01 13:00:00'), Timestamp('1993-04-01 14:00:00'), Timestamp('1993-04-01 15:00:00'), Timestamp('1993-04-01 16:00:00'), Timestamp('1993-04-01 17:00:00'), Timestamp('1993-04-01 19:00:00'), Timestamp('1993-04-01 20:00:00'), Timestamp('1993-04-01 21:00:00'), Timestamp('1993-04-01 22:00:00'), Timestamp('1993-04-01 23:00:00'), Timestamp('1993-05-01 00:00:00'), Timestamp('1993-05-01 01:00:00'), Timestamp('1993-05-01 02:00:00'), Timestamp('1993-05-01 03:00:00'), Timestamp('1993-05-01 04:00:00'), Timestamp('1993-05-01 05:00:00'), Timestamp('1993-05-01 07:00:00'), Timestamp('1993-05-01 08:00:00'), Timestamp('1993-05-01 09:00:00'), Timestamp('1993-05-01 10:00:00'), Timestamp('1993-05-01 11:00:00'), Timestamp('1993-05-01 12:00:00'), Timestamp('1993-05-01 13:00:00'), Timestamp('1993-05-01 14:00:00'), Timestamp('1993-05-01 15:00:00'), Timestamp('1993-05-01 16:00:00'), Timestamp('1993-05-01 17:00:00'), Timestamp('1993-05-01 19:00:00'), Timestamp('1993-05-01 20:00:00'), Timestamp('1993-05-01 21:00:00'), Timestamp('1993-05-01 22:00:00'), Timestamp('1993-05-01 23:00:00'), Timestamp('1993-06-01 00:00:00'), Timestamp('1993-06-01 01:00:00'), Timestamp('1993-06-01 02:00:00'), Timestamp('1993-06-01 03:00:00'), Timestamp('1993-06-01 04:00:00'), Timestamp('1993-06-01 05:00:00'), Timestamp('1993-06-01 07:00:00'), Timestamp('1993-06-01 08:00:00'), Timestamp('1993-06-01 09:00:00'), Timestamp('1993-06-01 10:00:00'), Timestamp('1993-06-01 11:00:00'), Timestamp('1993-06-01 12:00:00'), Timestamp('1993-06-01 13:00:00'), Timestamp('1993-06-01 14:00:00'), Timestamp('1993-06-01 15:00:00'), Timestamp('1993-06-01 16:00:00'), Timestamp('1993-06-01 17:00:00'), Timestamp('1993-06-01 19:00:00'), Timestamp('1993-06-01 20:00:00'), Timestamp('1993-06-01 21:00:00'), Timestamp('1993-06-01 22:00:00'), Timestamp('1993-06-01 23:00:00'), Timestamp('1993-07-01 00:00:00'), Timestamp('1993-07-01 01:00:00'), Timestamp('1993-07-01 02:00:00'), Timestamp('1993-07-01 03:00:00'), Timestamp('1993-07-01 04:00:00'), Timestamp('1993-07-01 05:00:00'), Timestamp('1993-07-01 07:00:00'), Timestamp('1993-07-01 08:00:00'), Timestamp('1993-07-01 09:00:00'), Timestamp('1993-07-01 10:00:00'), Timestamp('1993-07-01 11:00:00'), Timestamp('1993-07-01 12:00:00'), Timestamp('1993-07-01 13:00:00'), Timestamp('1993-07-01 14:00:00'), Timestamp('1993-07-01 15:00:00'), Timestamp('1993-07-01 16:00:00'), Timestamp('1993-07-01 17:00:00'), Timestamp('1993-07-01 19:00:00'), Timestamp('1993-07-01 20:00:00'), Timestamp('1993-07-01 21:00:00'), Timestamp('1993-07-01 22:00:00'), Timestamp('1993-07-01 23:00:00'), Timestamp('1993-08-01 00:00:00'), Timestamp('1993-08-01 01:00:00'), Timestamp('1993-08-01 02:00:00'), Timestamp('1993-08-01 03:00:00'), Timestamp('1993-08-01 04:00:00'), Timestamp('1993-08-01 05:00:00'), Timestamp('1993-08-01 07:00:00'), Timestamp('1993-08-01 08:00:00'), Timestamp('1993-08-01 09:00:00'), Timestamp('1993-08-01 10:00:00'), Timestamp('1993-08-01 11:00:00'), Timestamp('1993-08-01 12:00:00'), Timestamp('1993-08-01 13:00:00'), Timestamp('1993-08-01 14:00:00'), Timestamp('1993-08-01 15:00:00'), Timestamp('1993-08-01 16:00:00'), Timestamp('1993-08-01 17:00:00'), Timestamp('1993-08-01 19:00:00'), Timestamp('1993-08-01 20:00:00'), Timestamp('1993-08-01 21:00:00'), Timestamp('1993-08-01 22:00:00'), Timestamp('1993-08-01 23:00:00'), Timestamp('1993-09-01 00:00:00'), Timestamp('1993-09-01 01:00:00'), Timestamp('1993-09-01 02:00:00'), Timestamp('1993-09-01 03:00:00'), Timestamp('1993-09-01 04:00:00'), Timestamp('1993-09-01 05:00:00'), Timestamp('1993-09-01 07:00:00'), Timestamp('1993-09-01 08:00:00'), Timestamp('1993-09-01 09:00:00'), Timestamp('1993-09-01 10:00:00'), Timestamp('1993-09-01 11:00:00'), Timestamp('1993-09-01 12:00:00'), Timestamp('1993-09-01 13:00:00'), Timestamp('1993-09-01 14:00:00'), Timestamp('1993-09-01 15:00:00'), Timestamp('1993-09-01 16:00:00'), Timestamp('1993-09-01 17:00:00'), Timestamp('1993-09-01 19:00:00'), Timestamp('1993-09-01 20:00:00'), Timestamp('1993-09-01 21:00:00'), Timestamp('1993-09-01 22:00:00'), Timestamp('1993-09-01 23:00:00'), Timestamp('1993-10-01 00:00:00'), Timestamp('1993-10-01 01:00:00'), Timestamp('1993-10-01 02:00:00'), Timestamp('1993-10-01 03:00:00'), Timestamp('1993-10-01 04:00:00'), Timestamp('1993-10-01 05:00:00'), Timestamp('1993-10-01 07:00:00'), Timestamp('1993-10-01 08:00:00'), Timestamp('1993-10-01 09:00:00'), Timestamp('1993-10-01 10:00:00'), Timestamp('1993-10-01 11:00:00'), Timestamp('1993-10-01 12:00:00'), Timestamp('1993-10-01 13:00:00'), Timestamp('1993-10-01 14:00:00'), Timestamp('1993-10-01 15:00:00'), Timestamp('1993-10-01 16:00:00'), Timestamp('1993-10-01 17:00:00'), Timestamp('1993-10-01 19:00:00'), Timestamp('1993-10-01 20:00:00'), Timestamp('1993-10-01 21:00:00'), Timestamp('1993-10-01 22:00:00'), Timestamp('1993-10-01 23:00:00'), Timestamp('1993-11-01 00:00:00'), Timestamp('1993-11-01 01:00:00'), Timestamp('1993-11-01 02:00:00'), Timestamp('1993-11-01 03:00:00'), Timestamp('1993-11-01 04:00:00'), Timestamp('1993-11-01 05:00:00'), Timestamp('1993-11-01 07:00:00'), Timestamp('1993-11-01 08:00:00'), Timestamp('1993-11-01 09:00:00'), Timestamp('1993-11-01 10:00:00'), Timestamp('1993-11-01 11:00:00'), Timestamp('1993-11-01 12:00:00'), Timestamp('1993-11-01 13:00:00'), Timestamp('1993-11-01 14:00:00'), Timestamp('1993-11-01 15:00:00'), Timestamp('1993-11-01 16:00:00'), Timestamp('1993-11-01 17:00:00'), Timestamp('1993-11-01 19:00:00'), Timestamp('1993-11-01 20:00:00'), Timestamp('1993-11-01 21:00:00'), Timestamp('1993-11-01 22:00:00'), Timestamp('1993-11-01 23:00:00'), Timestamp('1993-12-01 00:00:00'), Timestamp('1993-12-01 01:00:00'), Timestamp('1993-12-01 02:00:00'), Timestamp('1993-12-01 03:00:00'), Timestamp('1993-12-01 04:00:00'), Timestamp('1993-12-01 05:00:00'), Timestamp('1993-12-01 07:00:00'), Timestamp('1993-12-01 08:00:00'), Timestamp('1993-12-01 09:00:00'), Timestamp('1993-12-01 10:00:00'), Timestamp('1993-12-01 11:00:00'), Timestamp('1993-12-01 12:00:00'), Timestamp('1993-12-01 13:00:00'), Timestamp('1993-12-01 14:00:00'), Timestamp('1993-12-01 15:00:00'), Timestamp('1993-12-01 16:00:00'), Timestamp('1993-12-01 17:00:00'), Timestamp('1993-12-01 19:00:00'), Timestamp('1993-12-01 20:00:00'), Timestamp('1993-12-01 21:00:00'), Timestamp('1993-12-01 22:00:00'), Timestamp('1993-12-01 23:00:00'), Timestamp('1994-01-01 00:00:00'), Timestamp('1994-01-01 01:00:00'), Timestamp('1994-01-01 02:00:00'), Timestamp('1994-01-01 03:00:00'), Timestamp('1994-01-01 04:00:00'), Timestamp('1994-01-01 05:00:00'), Timestamp('1994-01-01 07:00:00'), Timestamp('1994-01-01 08:00:00'), Timestamp('1994-01-01 09:00:00'), Timestamp('1994-01-01 10:00:00'), Timestamp('1994-01-01 11:00:00'), Timestamp('1994-01-01 12:00:00'), Timestamp('1994-01-01 13:00:00'), Timestamp('1994-01-01 14:00:00'), Timestamp('1994-01-01 15:00:00'), Timestamp('1994-01-01 16:00:00'), Timestamp('1994-01-01 17:00:00'), Timestamp('1994-01-01 19:00:00'), Timestamp('1994-01-01 20:00:00'), Timestamp('1994-01-01 21:00:00'), Timestamp('1994-01-01 22:00:00'), Timestamp('1994-01-01 23:00:00'), Timestamp('1994-02-01 00:00:00'), Timestamp('1994-02-01 01:00:00'), Timestamp('1994-02-01 02:00:00'), Timestamp('1994-02-01 03:00:00'), Timestamp('1994-02-01 04:00:00'), Timestamp('1994-02-01 05:00:00'), Timestamp('1994-02-01 07:00:00'), Timestamp('1994-02-01 08:00:00'), Timestamp('1994-02-01 09:00:00'), Timestamp('1994-02-01 10:00:00'), Timestamp('1994-02-01 11:00:00'), Timestamp('1994-02-01 12:00:00'), Timestamp('1994-02-01 13:00:00'), Timestamp('1994-02-01 14:00:00'), Timestamp('1994-02-01 15:00:00'), Timestamp('1994-02-01 16:00:00'), Timestamp('1994-02-01 17:00:00'), Timestamp('1994-02-01 19:00:00'), Timestamp('1994-02-01 20:00:00'), Timestamp('1994-02-01 21:00:00'), Timestamp('1994-02-01 22:00:00'), Timestamp('1994-02-01 23:00:00'), Timestamp('1994-03-01 00:00:00'), Timestamp('1994-03-01 01:00:00'), Timestamp('1994-03-01 02:00:00'), Timestamp('1994-03-01 03:00:00'), Timestamp('1994-03-01 04:00:00'), Timestamp('1994-03-01 05:00:00'), Timestamp('1994-03-01 07:00:00'), Timestamp('1994-03-01 08:00:00'), Timestamp('1994-03-01 09:00:00'), Timestamp('1994-03-01 10:00:00'), Timestamp('1994-03-01 11:00:00'), Timestamp('1994-03-01 12:00:00'), Timestamp('1994-03-01 13:00:00'), Timestamp('1994-03-01 14:00:00'), Timestamp('1994-03-01 15:00:00'), Timestamp('1994-03-01 16:00:00'), Timestamp('1994-03-01 17:00:00'), Timestamp('1994-03-01 19:00:00'), Timestamp('1994-03-01 20:00:00'), Timestamp('1994-03-01 21:00:00'), Timestamp('1994-03-01 22:00:00'), Timestamp('1994-03-01 23:00:00'), Timestamp('1994-04-01 00:00:00'), Timestamp('1994-04-01 01:00:00'), Timestamp('1994-04-01 02:00:00'), Timestamp('1994-04-01 03:00:00'), Timestamp('1994-04-01 04:00:00'), Timestamp('1994-04-01 05:00:00'), Timestamp('1994-04-01 07:00:00'), Timestamp('1994-04-01 08:00:00'), Timestamp('1994-04-01 09:00:00'), Timestamp('1994-04-01 10:00:00'), Timestamp('1994-04-01 11:00:00'), Timestamp('1994-04-01 12:00:00'), Timestamp('1994-04-01 13:00:00'), Timestamp('1994-04-01 14:00:00'), Timestamp('1994-04-01 15:00:00'), Timestamp('1994-04-01 16:00:00'), Timestamp('1994-04-01 17:00:00'), Timestamp('1994-04-01 19:00:00'), Timestamp('1994-04-01 20:00:00'), Timestamp('1994-04-01 21:00:00'), Timestamp('1994-04-01 22:00:00'), Timestamp('1994-04-01 23:00:00'), Timestamp('1994-05-01 00:00:00'), Timestamp('1994-05-01 01:00:00'), Timestamp('1994-05-01 02:00:00'), Timestamp('1994-05-01 03:00:00'), Timestamp('1994-05-01 04:00:00'), Timestamp('1994-05-01 05:00:00'), Timestamp('1994-05-01 07:00:00'), Timestamp('1994-05-01 08:00:00'), Timestamp('1994-05-01 09:00:00'), Timestamp('1994-05-01 10:00:00'), Timestamp('1994-05-01 11:00:00'), Timestamp('1994-05-01 12:00:00'), Timestamp('1994-05-01 13:00:00'), Timestamp('1994-05-01 14:00:00'), Timestamp('1994-05-01 15:00:00'), Timestamp('1994-05-01 16:00:00'), Timestamp('1994-05-01 17:00:00'), Timestamp('1994-05-01 19:00:00'), Timestamp('1994-05-01 20:00:00'), Timestamp('1994-05-01 21:00:00'), Timestamp('1994-05-01 22:00:00'), Timestamp('1994-05-01 23:00:00'), Timestamp('1994-06-01 00:00:00'), Timestamp('1994-06-01 01:00:00'), Timestamp('1994-06-01 02:00:00'), Timestamp('1994-06-01 03:00:00'), Timestamp('1994-06-01 04:00:00'), Timestamp('1994-06-01 05:00:00'), Timestamp('1994-06-01 07:00:00'), Timestamp('1994-06-01 08:00:00'), Timestamp('1994-06-01 09:00:00'), Timestamp('1994-06-01 10:00:00'), Timestamp('1994-06-01 11:00:00'), Timestamp('1994-06-01 12:00:00'), Timestamp('1994-06-01 13:00:00'), Timestamp('1994-06-01 14:00:00'), Timestamp('1994-06-01 15:00:00'), Timestamp('1994-06-01 16:00:00'), Timestamp('1994-06-01 17:00:00'), Timestamp('1994-06-01 19:00:00'), Timestamp('1994-06-01 20:00:00'), Timestamp('1994-06-01 21:00:00'), Timestamp('1994-06-01 22:00:00'), Timestamp('1994-06-01 23:00:00'), Timestamp('1994-07-01 00:00:00'), Timestamp('1994-07-01 01:00:00'), Timestamp('1994-07-01 02:00:00'), Timestamp('1994-07-01 03:00:00'), Timestamp('1994-07-01 04:00:00'), Timestamp('1994-07-01 05:00:00'), Timestamp('1994-07-01 07:00:00'), Timestamp('1994-07-01 08:00:00'), Timestamp('1994-07-01 09:00:00'), Timestamp('1994-07-01 10:00:00'), Timestamp('1994-07-01 11:00:00'), Timestamp('1994-07-01 12:00:00'), Timestamp('1994-07-01 13:00:00'), Timestamp('1994-07-01 14:00:00'), Timestamp('1994-07-01 15:00:00'), Timestamp('1994-07-01 16:00:00'), Timestamp('1994-07-01 17:00:00'), Timestamp('1994-07-01 19:00:00'), Timestamp('1994-07-01 20:00:00'), Timestamp('1994-07-01 21:00:00'), Timestamp('1994-07-01 22:00:00'), Timestamp('1994-07-01 23:00:00'), Timestamp('1994-08-01 00:00:00'), Timestamp('1994-08-01 01:00:00'), Timestamp('1994-08-01 02:00:00'), Timestamp('1994-08-01 03:00:00'), Timestamp('1994-08-01 04:00:00'), Timestamp('1994-08-01 05:00:00'), Timestamp('1994-08-01 07:00:00'), Timestamp('1994-08-01 08:00:00'), Timestamp('1994-08-01 09:00:00'), Timestamp('1994-08-01 10:00:00'), Timestamp('1994-08-01 11:00:00'), Timestamp('1994-08-01 12:00:00'), Timestamp('1994-08-01 13:00:00'), Timestamp('1994-08-01 14:00:00'), Timestamp('1994-08-01 15:00:00'), Timestamp('1994-08-01 16:00:00'), Timestamp('1994-08-01 17:00:00'), Timestamp('1994-08-01 19:00:00'), Timestamp('1994-08-01 20:00:00'), Timestamp('1994-08-01 21:00:00'), Timestamp('1994-08-01 22:00:00'), Timestamp('1994-08-01 23:00:00'), Timestamp('1994-09-01 00:00:00'), Timestamp('1994-09-01 01:00:00'), Timestamp('1994-09-01 02:00:00'), Timestamp('1994-09-01 03:00:00'), Timestamp('1994-09-01 04:00:00'), Timestamp('1994-09-01 05:00:00'), Timestamp('1994-09-01 07:00:00'), Timestamp('1994-09-01 08:00:00'), Timestamp('1994-09-01 09:00:00'), Timestamp('1994-09-01 10:00:00'), Timestamp('1994-09-01 11:00:00'), Timestamp('1994-09-01 12:00:00'), Timestamp('1994-09-01 13:00:00'), Timestamp('1994-09-01 14:00:00'), Timestamp('1994-09-01 15:00:00'), Timestamp('1994-09-01 16:00:00'), Timestamp('1994-09-01 17:00:00'), Timestamp('1994-09-01 19:00:00'), Timestamp('1994-09-01 20:00:00'), Timestamp('1994-09-01 21:00:00'), Timestamp('1994-09-01 22:00:00'), Timestamp('1994-09-01 23:00:00'), Timestamp('1994-10-01 00:00:00'), Timestamp('1994-10-01 01:00:00'), Timestamp('1994-10-01 02:00:00'), Timestamp('1994-10-01 03:00:00'), Timestamp('1994-10-01 04:00:00'), Timestamp('1994-10-01 05:00:00'), Timestamp('1994-10-01 07:00:00'), Timestamp('1994-10-01 08:00:00'), Timestamp('1994-10-01 09:00:00'), Timestamp('1994-10-01 10:00:00'), Timestamp('1994-10-01 11:00:00'), Timestamp('1994-10-01 12:00:00'), Timestamp('1994-10-01 13:00:00'), Timestamp('1994-10-01 14:00:00'), Timestamp('1994-10-01 15:00:00'), Timestamp('1994-10-01 16:00:00'), Timestamp('1994-10-01 17:00:00'), Timestamp('1994-10-01 19:00:00'), Timestamp('1994-10-01 20:00:00'), Timestamp('1994-10-01 21:00:00'), Timestamp('1994-10-01 22:00:00'), Timestamp('1994-10-01 23:00:00'), Timestamp('1994-11-01 00:00:00'), Timestamp('1994-11-01 01:00:00'), Timestamp('1994-11-01 02:00:00'), Timestamp('1994-11-01 03:00:00'), Timestamp('1994-11-01 04:00:00'), Timestamp('1994-11-01 05:00:00'), Timestamp('1994-11-01 07:00:00'), Timestamp('1994-11-01 08:00:00'), Timestamp('1994-11-01 09:00:00'), Timestamp('1994-11-01 10:00:00'), Timestamp('1994-11-01 11:00:00'), Timestamp('1994-11-01 12:00:00'), Timestamp('1994-11-01 13:00:00'), Timestamp('1994-11-01 14:00:00'), Timestamp('1994-11-01 15:00:00'), Timestamp('1994-11-01 16:00:00'), Timestamp('1994-11-01 17:00:00'), Timestamp('1994-11-01 19:00:00'), Timestamp('1994-11-01 20:00:00'), Timestamp('1994-11-01 21:00:00'), Timestamp('1994-11-01 22:00:00'), Timestamp('1994-11-01 23:00:00'), Timestamp('1994-12-01 00:00:00'), Timestamp('1994-12-01 01:00:00'), Timestamp('1994-12-01 02:00:00'), Timestamp('1994-12-01 03:00:00'), Timestamp('1994-12-01 04:00:00'), Timestamp('1994-12-01 05:00:00'), Timestamp('1994-12-01 07:00:00'), Timestamp('1994-12-01 08:00:00'), Timestamp('1994-12-01 09:00:00'), Timestamp('1994-12-01 10:00:00'), Timestamp('1994-12-01 11:00:00'), Timestamp('1994-12-01 12:00:00'), Timestamp('1994-12-01 13:00:00'), Timestamp('1994-12-01 14:00:00'), Timestamp('1994-12-01 15:00:00'), Timestamp('1994-12-01 16:00:00'), Timestamp('1994-12-01 17:00:00'), Timestamp('1994-12-01 19:00:00'), Timestamp('1994-12-01 20:00:00'), Timestamp('1994-12-01 21:00:00'), Timestamp('1994-12-01 22:00:00'), Timestamp('1994-12-01 23:00:00'), Timestamp('1995-01-01 00:00:00'), Timestamp('1995-01-01 01:00:00'), Timestamp('1995-01-01 02:00:00'), Timestamp('1995-01-01 03:00:00'), Timestamp('1995-01-01 04:00:00'), Timestamp('1995-01-01 05:00:00'), Timestamp('1995-01-01 07:00:00'), Timestamp('1995-01-01 08:00:00'), Timestamp('1995-01-01 09:00:00'), Timestamp('1995-01-01 10:00:00'), Timestamp('1995-01-01 11:00:00'), Timestamp('1995-01-01 12:00:00'), Timestamp('1995-01-01 13:00:00'), Timestamp('1995-01-01 14:00:00'), Timestamp('1995-01-01 15:00:00'), Timestamp('1995-01-01 16:00:00'), Timestamp('1995-01-01 17:00:00'), Timestamp('1995-01-01 19:00:00'), Timestamp('1995-01-01 20:00:00'), Timestamp('1995-01-01 21:00:00'), Timestamp('1995-01-01 22:00:00'), Timestamp('1995-01-01 23:00:00'), Timestamp('1995-02-01 00:00:00'), Timestamp('1995-02-01 01:00:00'), Timestamp('1995-02-01 02:00:00'), Timestamp('1995-02-01 03:00:00'), Timestamp('1995-02-01 04:00:00'), Timestamp('1995-02-01 05:00:00'), Timestamp('1995-02-01 07:00:00'), Timestamp('1995-02-01 08:00:00'), Timestamp('1995-02-01 09:00:00'), Timestamp('1995-02-01 10:00:00'), Timestamp('1995-02-01 11:00:00'), Timestamp('1995-02-01 12:00:00'), Timestamp('1995-02-01 13:00:00'), Timestamp('1995-02-01 14:00:00'), Timestamp('1995-02-01 15:00:00'), Timestamp('1995-02-01 16:00:00'), Timestamp('1995-02-01 17:00:00'), Timestamp('1995-02-01 19:00:00'), Timestamp('1995-02-01 20:00:00'), Timestamp('1995-02-01 21:00:00'), Timestamp('1995-02-01 22:00:00'), Timestamp('1995-02-01 23:00:00'), Timestamp('1995-03-01 00:00:00'), Timestamp('1995-03-01 01:00:00'), Timestamp('1995-03-01 02:00:00'), Timestamp('1995-03-01 03:00:00'), Timestamp('1995-03-01 04:00:00'), Timestamp('1995-03-01 05:00:00'), Timestamp('1995-03-01 07:00:00'), Timestamp('1995-03-01 08:00:00'), Timestamp('1995-03-01 09:00:00'), Timestamp('1995-03-01 10:00:00'), Timestamp('1995-03-01 11:00:00'), Timestamp('1995-03-01 12:00:00'), Timestamp('1995-03-01 13:00:00'), Timestamp('1995-03-01 14:00:00'), Timestamp('1995-03-01 15:00:00'), Timestamp('1995-03-01 16:00:00'), Timestamp('1995-03-01 17:00:00'), Timestamp('1995-03-01 19:00:00'), Timestamp('1995-03-01 20:00:00'), Timestamp('1995-03-01 21:00:00'), Timestamp('1995-03-01 22:00:00'), Timestamp('1995-03-01 23:00:00'), Timestamp('1995-04-01 00:00:00'), Timestamp('1995-04-01 01:00:00'), Timestamp('1995-04-01 02:00:00'), Timestamp('1995-04-01 03:00:00'), Timestamp('1995-04-01 04:00:00'), Timestamp('1995-04-01 05:00:00'), Timestamp('1995-04-01 07:00:00'), Timestamp('1995-04-01 08:00:00'), Timestamp('1995-04-01 09:00:00'), Timestamp('1995-04-01 10:00:00'), Timestamp('1995-04-01 11:00:00'), Timestamp('1995-04-01 12:00:00'), Timestamp('1995-04-01 13:00:00'), Timestamp('1995-04-01 14:00:00'), Timestamp('1995-04-01 15:00:00'), Timestamp('1995-04-01 16:00:00'), Timestamp('1995-04-01 17:00:00'), Timestamp('1995-04-01 19:00:00'), Timestamp('1995-04-01 20:00:00'), Timestamp('1995-04-01 21:00:00'), Timestamp('1995-04-01 22:00:00'), Timestamp('1995-04-01 23:00:00'), Timestamp('1995-05-01 00:00:00'), Timestamp('1995-05-01 01:00:00'), Timestamp('1995-05-01 02:00:00'), Timestamp('1995-05-01 03:00:00'), Timestamp('1995-05-01 04:00:00'), Timestamp('1995-05-01 05:00:00'), Timestamp('1995-05-01 07:00:00'), Timestamp('1995-05-01 08:00:00'), Timestamp('1995-05-01 09:00:00'), Timestamp('1995-05-01 10:00:00'), Timestamp('1995-05-01 11:00:00'), Timestamp('1995-05-01 12:00:00'), Timestamp('1995-05-01 13:00:00'), Timestamp('1995-05-01 14:00:00'), Timestamp('1995-05-01 15:00:00'), Timestamp('1995-05-01 16:00:00'), Timestamp('1995-05-01 17:00:00'), Timestamp('1995-05-01 19:00:00'), Timestamp('1995-05-01 20:00:00'), Timestamp('1995-05-01 21:00:00'), Timestamp('1995-05-01 22:00:00'), Timestamp('1995-05-01 23:00:00'), Timestamp('1995-06-01 00:00:00'), Timestamp('1995-06-01 01:00:00'), Timestamp('1995-06-01 02:00:00'), Timestamp('1995-06-01 03:00:00'), Timestamp('1995-06-01 04:00:00'), Timestamp('1995-06-01 05:00:00'), Timestamp('1995-06-01 07:00:00'), Timestamp('1995-06-01 08:00:00'), Timestamp('1995-06-01 09:00:00'), Timestamp('1995-06-01 10:00:00'), Timestamp('1995-06-01 11:00:00'), Timestamp('1995-06-01 12:00:00'), Timestamp('1995-06-01 13:00:00'), Timestamp('1995-06-01 14:00:00'), Timestamp('1995-06-01 15:00:00'), Timestamp('1995-06-01 16:00:00'), Timestamp('1995-06-01 17:00:00'), Timestamp('1995-06-01 19:00:00'), Timestamp('1995-06-01 20:00:00'), Timestamp('1995-06-01 21:00:00'), Timestamp('1995-06-01 22:00:00'), Timestamp('1995-06-01 23:00:00'), Timestamp('1995-07-01 00:00:00'), Timestamp('1995-07-01 01:00:00'), Timestamp('1995-07-01 02:00:00'), Timestamp('1995-07-01 03:00:00'), Timestamp('1995-07-01 04:00:00'), Timestamp('1995-07-01 05:00:00'), Timestamp('1995-07-01 07:00:00'), Timestamp('1995-07-01 08:00:00'), Timestamp('1995-07-01 09:00:00'), Timestamp('1995-07-01 10:00:00'), Timestamp('1995-07-01 11:00:00'), Timestamp('1995-07-01 12:00:00'), Timestamp('1995-07-01 13:00:00'), Timestamp('1995-07-01 14:00:00'), Timestamp('1995-07-01 15:00:00'), Timestamp('1995-07-01 16:00:00'), Timestamp('1995-07-01 17:00:00'), Timestamp('1995-07-01 19:00:00'), Timestamp('1995-07-01 20:00:00'), Timestamp('1995-07-01 21:00:00'), Timestamp('1995-07-01 22:00:00'), Timestamp('1995-07-01 23:00:00'), Timestamp('1995-08-01 00:00:00'), Timestamp('1995-08-01 01:00:00'), Timestamp('1995-08-01 02:00:00'), Timestamp('1995-08-01 03:00:00'), Timestamp('1995-08-01 04:00:00'), Timestamp('1995-08-01 05:00:00'), Timestamp('1995-08-01 07:00:00'), Timestamp('1995-08-01 08:00:00'), Timestamp('1995-08-01 09:00:00'), Timestamp('1995-08-01 10:00:00'), Timestamp('1995-08-01 11:00:00'), Timestamp('1995-08-01 12:00:00'), Timestamp('1995-08-01 13:00:00'), Timestamp('1995-08-01 14:00:00'), Timestamp('1995-08-01 15:00:00'), Timestamp('1995-08-01 16:00:00'), Timestamp('1995-08-01 17:00:00'), Timestamp('1995-08-01 19:00:00'), Timestamp('1995-08-01 20:00:00'), Timestamp('1995-08-01 21:00:00'), Timestamp('1995-08-01 22:00:00'), Timestamp('1995-08-01 23:00:00'), Timestamp('1995-09-01 00:00:00'), Timestamp('1995-09-01 01:00:00'), Timestamp('1995-09-01 02:00:00'), Timestamp('1995-09-01 03:00:00'), Timestamp('1995-09-01 04:00:00'), Timestamp('1995-09-01 05:00:00'), Timestamp('1995-09-01 07:00:00'), Timestamp('1995-09-01 08:00:00'), Timestamp('1995-09-01 09:00:00'), Timestamp('1995-09-01 10:00:00'), Timestamp('1995-09-01 11:00:00'), Timestamp('1995-09-01 12:00:00'), Timestamp('1995-09-01 13:00:00'), Timestamp('1995-09-01 14:00:00'), Timestamp('1995-09-01 15:00:00'), Timestamp('1995-09-01 16:00:00'), Timestamp('1995-09-01 17:00:00'), Timestamp('1995-09-01 19:00:00'), Timestamp('1995-09-01 20:00:00'), Timestamp('1995-09-01 21:00:00'), Timestamp('1995-09-01 22:00:00'), Timestamp('1995-09-01 23:00:00'), Timestamp('1995-10-01 00:00:00'), Timestamp('1995-10-01 01:00:00'), Timestamp('1995-10-01 02:00:00'), Timestamp('1995-10-01 03:00:00'), Timestamp('1995-10-01 04:00:00'), Timestamp('1995-10-01 05:00:00'), Timestamp('1995-10-01 07:00:00'), Timestamp('1995-10-01 08:00:00'), Timestamp('1995-10-01 09:00:00'), Timestamp('1995-10-01 10:00:00'), Timestamp('1995-10-01 11:00:00'), Timestamp('1995-10-01 12:00:00'), Timestamp('1995-10-01 13:00:00'), Timestamp('1995-10-01 14:00:00'), Timestamp('1995-10-01 15:00:00'), Timestamp('1995-10-01 16:00:00'), Timestamp('1995-10-01 17:00:00'), Timestamp('1995-10-01 19:00:00'), Timestamp('1995-10-01 20:00:00'), Timestamp('1995-10-01 21:00:00'), Timestamp('1995-10-01 22:00:00'), Timestamp('1995-10-01 23:00:00'), Timestamp('1995-11-01 00:00:00'), Timestamp('1995-11-01 01:00:00'), Timestamp('1995-11-01 02:00:00'), Timestamp('1995-11-01 03:00:00'), Timestamp('1995-11-01 04:00:00'), Timestamp('1995-11-01 05:00:00'), Timestamp('1995-11-01 07:00:00'), Timestamp('1995-11-01 08:00:00'), Timestamp('1995-11-01 09:00:00'), Timestamp('1995-11-01 10:00:00'), Timestamp('1995-11-01 11:00:00'), Timestamp('1995-11-01 12:00:00'), Timestamp('1995-11-01 13:00:00'), Timestamp('1995-11-01 14:00:00'), Timestamp('1995-11-01 15:00:00'), Timestamp('1995-11-01 16:00:00'), Timestamp('1995-11-01 17:00:00'), Timestamp('1995-11-01 19:00:00'), Timestamp('1995-11-01 20:00:00'), Timestamp('1995-11-01 21:00:00'), Timestamp('1995-11-01 22:00:00'), Timestamp('1995-11-01 23:00:00'), Timestamp('1995-12-01 00:00:00'), Timestamp('1995-12-01 01:00:00'), Timestamp('1995-12-01 02:00:00'), Timestamp('1995-12-01 03:00:00'), Timestamp('1995-12-01 04:00:00'), Timestamp('1995-12-01 05:00:00'), Timestamp('1995-12-01 07:00:00'), Timestamp('1995-12-01 08:00:00'), Timestamp('1995-12-01 09:00:00'), Timestamp('1995-12-01 10:00:00'), Timestamp('1995-12-01 11:00:00'), Timestamp('1995-12-01 12:00:00'), Timestamp('1995-12-01 13:00:00'), Timestamp('1995-12-01 14:00:00'), Timestamp('1995-12-01 15:00:00'), Timestamp('1995-12-01 16:00:00'), Timestamp('1995-12-01 17:00:00'), Timestamp('1995-12-01 19:00:00'), Timestamp('1995-12-01 20:00:00'), Timestamp('1995-12-01 21:00:00'), Timestamp('1995-12-01 22:00:00'), Timestamp('1995-12-01 23:00:00'), Timestamp('1996-01-01 00:00:00'), Timestamp('1996-01-01 01:00:00'), Timestamp('1996-01-01 02:00:00'), Timestamp('1996-01-01 03:00:00'), Timestamp('1996-01-01 04:00:00'), Timestamp('1996-01-01 05:00:00'), Timestamp('1996-01-01 07:00:00'), Timestamp('1996-01-01 08:00:00'), Timestamp('1996-01-01 09:00:00'), Timestamp('1996-01-01 10:00:00'), Timestamp('1996-01-01 11:00:00'), Timestamp('1996-01-01 12:00:00'), Timestamp('1996-01-01 13:00:00'), Timestamp('1996-01-01 14:00:00'), Timestamp('1996-01-01 15:00:00'), Timestamp('1996-01-01 16:00:00'), Timestamp('1996-01-01 17:00:00'), Timestamp('1996-01-01 19:00:00'), Timestamp('1996-01-01 20:00:00'), Timestamp('1996-01-01 21:00:00'), Timestamp('1996-01-01 22:00:00'), Timestamp('1996-01-01 23:00:00'), Timestamp('1996-02-01 00:00:00'), Timestamp('1996-02-01 01:00:00'), Timestamp('1996-02-01 02:00:00'), Timestamp('1996-02-01 03:00:00'), Timestamp('1996-02-01 04:00:00'), Timestamp('1996-02-01 05:00:00'), Timestamp('1996-02-01 07:00:00'), Timestamp('1996-02-01 08:00:00'), Timestamp('1996-02-01 09:00:00'), Timestamp('1996-02-01 10:00:00'), Timestamp('1996-02-01 11:00:00'), Timestamp('1996-02-01 12:00:00'), Timestamp('1996-02-01 13:00:00'), Timestamp('1996-02-01 14:00:00'), Timestamp('1996-02-01 15:00:00'), Timestamp('1996-02-01 16:00:00'), Timestamp('1996-02-01 17:00:00'), Timestamp('1996-02-01 19:00:00'), Timestamp('1996-02-01 20:00:00'), Timestamp('1996-02-01 21:00:00'), Timestamp('1996-02-01 22:00:00'), Timestamp('1996-02-01 23:00:00'), Timestamp('1996-03-01 00:00:00'), Timestamp('1996-03-01 01:00:00'), Timestamp('1996-03-01 02:00:00'), Timestamp('1996-03-01 03:00:00'), Timestamp('1996-03-01 04:00:00'), Timestamp('1996-03-01 05:00:00'), Timestamp('1996-03-01 07:00:00'), Timestamp('1996-03-01 08:00:00'), Timestamp('1996-03-01 09:00:00'), Timestamp('1996-03-01 10:00:00'), Timestamp('1996-03-01 11:00:00'), Timestamp('1996-03-01 12:00:00'), Timestamp('1996-03-01 13:00:00'), Timestamp('1996-03-01 14:00:00'), Timestamp('1996-03-01 15:00:00'), Timestamp('1996-03-01 16:00:00'), Timestamp('1996-03-01 17:00:00'), Timestamp('1996-03-01 19:00:00'), Timestamp('1996-03-01 20:00:00'), Timestamp('1996-03-01 21:00:00'), Timestamp('1996-03-01 22:00:00'), Timestamp('1996-03-01 23:00:00'), Timestamp('1996-04-01 00:00:00'), Timestamp('1996-04-01 01:00:00'), Timestamp('1996-04-01 02:00:00'), Timestamp('1996-04-01 03:00:00'), Timestamp('1996-04-01 04:00:00'), Timestamp('1996-04-01 05:00:00'), Timestamp('1996-04-01 07:00:00'), Timestamp('1996-04-01 08:00:00'), Timestamp('1996-04-01 09:00:00'), Timestamp('1996-04-01 10:00:00'), Timestamp('1996-04-01 11:00:00'), Timestamp('1996-04-01 12:00:00'), Timestamp('1996-04-01 13:00:00'), Timestamp('1996-04-01 14:00:00'), Timestamp('1996-04-01 15:00:00'), Timestamp('1996-04-01 16:00:00'), Timestamp('1996-04-01 17:00:00'), Timestamp('1996-04-01 19:00:00'), Timestamp('1996-04-01 20:00:00'), Timestamp('1996-04-01 21:00:00'), Timestamp('1996-04-01 22:00:00'), Timestamp('1996-04-01 23:00:00'), Timestamp('1996-05-01 00:00:00'), Timestamp('1996-05-01 01:00:00'), Timestamp('1996-05-01 02:00:00'), Timestamp('1996-05-01 03:00:00'), Timestamp('1996-05-01 04:00:00'), Timestamp('1996-05-01 05:00:00'), Timestamp('1996-05-01 07:00:00'), Timestamp('1996-05-01 08:00:00'), Timestamp('1996-05-01 09:00:00'), Timestamp('1996-05-01 10:00:00'), Timestamp('1996-05-01 11:00:00'), Timestamp('1996-05-01 12:00:00'), Timestamp('1996-05-01 13:00:00'), Timestamp('1996-05-01 14:00:00'), Timestamp('1996-05-01 15:00:00'), Timestamp('1996-05-01 16:00:00'), Timestamp('1996-05-01 17:00:00'), Timestamp('1996-05-01 19:00:00'), Timestamp('1996-05-01 20:00:00'), Timestamp('1996-05-01 21:00:00'), Timestamp('1996-05-01 22:00:00'), Timestamp('1996-05-01 23:00:00'), Timestamp('1996-06-01 00:00:00'), Timestamp('1996-06-01 01:00:00'), Timestamp('1996-06-01 02:00:00'), Timestamp('1996-06-01 03:00:00'), Timestamp('1996-06-01 04:00:00'), Timestamp('1996-06-01 05:00:00'), Timestamp('1996-06-01 07:00:00'), Timestamp('1996-06-01 08:00:00'), Timestamp('1996-06-01 09:00:00'), Timestamp('1996-06-01 10:00:00'), Timestamp('1996-06-01 11:00:00'), Timestamp('1996-06-01 12:00:00'), Timestamp('1996-06-01 13:00:00'), Timestamp('1996-06-01 14:00:00'), Timestamp('1996-06-01 15:00:00'), Timestamp('1996-06-01 16:00:00'), Timestamp('1996-06-01 17:00:00'), Timestamp('1996-06-01 19:00:00'), Timestamp('1996-06-01 20:00:00'), Timestamp('1996-06-01 21:00:00'), Timestamp('1996-06-01 22:00:00'), Timestamp('1996-06-01 23:00:00'), Timestamp('1996-07-01 00:00:00'), Timestamp('1996-07-01 01:00:00'), Timestamp('1996-07-01 02:00:00'), Timestamp('1996-07-01 03:00:00'), Timestamp('1996-07-01 04:00:00'), Timestamp('1996-07-01 05:00:00'), Timestamp('1996-07-01 07:00:00'), Timestamp('1996-07-01 08:00:00'), Timestamp('1996-07-01 09:00:00'), Timestamp('1996-07-01 10:00:00'), Timestamp('1996-07-01 11:00:00'), Timestamp('1996-07-01 12:00:00'), Timestamp('1996-07-01 13:00:00'), Timestamp('1996-07-01 14:00:00'), Timestamp('1996-07-01 15:00:00'), Timestamp('1996-07-01 16:00:00'), Timestamp('1996-07-01 17:00:00'), Timestamp('1996-07-01 19:00:00'), Timestamp('1996-07-01 20:00:00'), Timestamp('1996-07-01 21:00:00'), Timestamp('1996-07-01 22:00:00'), Timestamp('1996-07-01 23:00:00'), Timestamp('1996-08-01 00:00:00'), Timestamp('1996-08-01 01:00:00'), Timestamp('1996-08-01 02:00:00'), Timestamp('1996-08-01 03:00:00'), Timestamp('1996-08-01 04:00:00'), Timestamp('1996-08-01 05:00:00'), Timestamp('1996-08-01 07:00:00'), Timestamp('1996-08-01 08:00:00'), Timestamp('1996-08-01 09:00:00'), Timestamp('1996-08-01 10:00:00'), Timestamp('1996-08-01 11:00:00'), Timestamp('1996-08-01 12:00:00'), Timestamp('1996-08-01 13:00:00'), Timestamp('1996-08-01 14:00:00'), Timestamp('1996-08-01 15:00:00'), Timestamp('1996-08-01 16:00:00'), Timestamp('1996-08-01 17:00:00'), Timestamp('1996-08-01 19:00:00'), Timestamp('1996-08-01 20:00:00'), Timestamp('1996-08-01 21:00:00'), Timestamp('1996-08-01 22:00:00'), Timestamp('1996-08-01 23:00:00'), Timestamp('1996-09-01 00:00:00'), Timestamp('1996-09-01 01:00:00'), Timestamp('1996-09-01 02:00:00'), Timestamp('1996-09-01 03:00:00'), Timestamp('1996-09-01 04:00:00'), Timestamp('1996-09-01 05:00:00'), Timestamp('1996-09-01 07:00:00'), Timestamp('1996-09-01 08:00:00'), Timestamp('1996-09-01 09:00:00'), Timestamp('1996-09-01 10:00:00'), Timestamp('1996-09-01 11:00:00'), Timestamp('1996-09-01 12:00:00'), Timestamp('1996-09-01 13:00:00'), Timestamp('1996-09-01 14:00:00'), Timestamp('1996-09-01 15:00:00'), Timestamp('1996-09-01 16:00:00'), Timestamp('1996-09-01 17:00:00'), Timestamp('1996-09-01 19:00:00'), Timestamp('1996-09-01 20:00:00'), Timestamp('1996-09-01 21:00:00'), Timestamp('1996-09-01 22:00:00'), Timestamp('1996-09-01 23:00:00'), Timestamp('1996-10-01 00:00:00'), Timestamp('1996-10-01 01:00:00'), Timestamp('1996-10-01 02:00:00'), Timestamp('1996-10-01 03:00:00'), Timestamp('1996-10-01 04:00:00'), Timestamp('1996-10-01 05:00:00'), Timestamp('1996-10-01 07:00:00'), Timestamp('1996-10-01 08:00:00'), Timestamp('1996-10-01 09:00:00'), Timestamp('1996-10-01 10:00:00'), Timestamp('1996-10-01 11:00:00'), Timestamp('1996-10-01 12:00:00'), Timestamp('1996-10-01 13:00:00'), Timestamp('1996-10-01 14:00:00'), Timestamp('1996-10-01 15:00:00'), Timestamp('1996-10-01 16:00:00'), Timestamp('1996-10-01 17:00:00'), Timestamp('1996-10-01 19:00:00'), Timestamp('1996-10-01 20:00:00'), Timestamp('1996-10-01 21:00:00'), Timestamp('1996-10-01 22:00:00'), Timestamp('1996-10-01 23:00:00'), Timestamp('1996-11-01 00:00:00'), Timestamp('1996-11-01 01:00:00'), Timestamp('1996-11-01 02:00:00'), Timestamp('1996-11-01 03:00:00'), Timestamp('1996-11-01 04:00:00'), Timestamp('1996-11-01 05:00:00'), Timestamp('1996-11-01 07:00:00'), Timestamp('1996-11-01 08:00:00'), Timestamp('1996-11-01 09:00:00'), Timestamp('1996-11-01 10:00:00'), Timestamp('1996-11-01 11:00:00'), Timestamp('1996-11-01 12:00:00'), Timestamp('1996-11-01 13:00:00'), Timestamp('1996-11-01 14:00:00'), Timestamp('1996-11-01 15:00:00'), Timestamp('1996-11-01 16:00:00'), Timestamp('1996-11-01 17:00:00'), Timestamp('1996-11-01 19:00:00'), Timestamp('1996-11-01 20:00:00'), Timestamp('1996-11-01 21:00:00'), Timestamp('1996-11-01 22:00:00'), Timestamp('1996-11-01 23:00:00'), Timestamp('1996-12-01 00:00:00'), Timestamp('1996-12-01 01:00:00'), Timestamp('1996-12-01 02:00:00'), Timestamp('1996-12-01 03:00:00'), Timestamp('1996-12-01 04:00:00'), Timestamp('1996-12-01 05:00:00'), Timestamp('1996-12-01 07:00:00'), Timestamp('1996-12-01 08:00:00'), Timestamp('1996-12-01 09:00:00'), Timestamp('1996-12-01 10:00:00'), Timestamp('1996-12-01 11:00:00'), Timestamp('1996-12-01 12:00:00'), Timestamp('1996-12-01 13:00:00'), Timestamp('1996-12-01 14:00:00'), Timestamp('1996-12-01 15:00:00'), Timestamp('1996-12-01 16:00:00'), Timestamp('1996-12-01 17:00:00'), Timestamp('1996-12-01 19:00:00'), Timestamp('1996-12-01 20:00:00'), Timestamp('1996-12-01 21:00:00'), Timestamp('1996-12-01 22:00:00'), Timestamp('1996-12-01 23:00:00'), Timestamp('1997-01-01 00:00:00'), Timestamp('1997-01-01 01:00:00'), Timestamp('1997-01-01 02:00:00'), Timestamp('1997-01-01 03:00:00'), Timestamp('1997-01-01 04:00:00'), Timestamp('1997-01-01 05:00:00'), Timestamp('1997-01-01 07:00:00'), Timestamp('1997-01-01 08:00:00'), Timestamp('1997-01-01 09:00:00'), Timestamp('1997-01-01 10:00:00'), Timestamp('1997-01-01 11:00:00'), Timestamp('1997-01-01 12:00:00'), Timestamp('1997-01-01 13:00:00'), Timestamp('1997-01-01 14:00:00'), Timestamp('1997-01-01 15:00:00'), Timestamp('1997-01-01 16:00:00'), Timestamp('1997-01-01 17:00:00'), Timestamp('1997-01-01 19:00:00'), Timestamp('1997-01-01 20:00:00'), Timestamp('1997-01-01 21:00:00'), Timestamp('1997-01-01 22:00:00'), Timestamp('1997-01-01 23:00:00'), Timestamp('1997-02-01 00:00:00'), Timestamp('1997-02-01 01:00:00'), Timestamp('1997-02-01 02:00:00'), Timestamp('1997-02-01 03:00:00'), Timestamp('1997-02-01 04:00:00'), Timestamp('1997-02-01 05:00:00'), Timestamp('1997-02-01 07:00:00'), Timestamp('1997-02-01 08:00:00'), Timestamp('1997-02-01 09:00:00'), Timestamp('1997-02-01 10:00:00'), Timestamp('1997-02-01 11:00:00'), Timestamp('1997-02-01 12:00:00'), Timestamp('1997-02-01 13:00:00'), Timestamp('1997-02-01 14:00:00'), Timestamp('1997-02-01 15:00:00'), Timestamp('1997-02-01 16:00:00'), Timestamp('1997-02-01 17:00:00'), Timestamp('1997-02-01 19:00:00'), Timestamp('1997-02-01 20:00:00'), Timestamp('1997-02-01 21:00:00'), Timestamp('1997-02-01 22:00:00'), Timestamp('1997-02-01 23:00:00'), Timestamp('1997-03-01 00:00:00'), Timestamp('1997-03-01 01:00:00'), Timestamp('1997-03-01 02:00:00'), Timestamp('1997-03-01 03:00:00'), Timestamp('1997-03-01 04:00:00'), Timestamp('1997-03-01 05:00:00'), Timestamp('1997-03-01 07:00:00'), Timestamp('1997-03-01 08:00:00'), Timestamp('1997-03-01 09:00:00'), Timestamp('1997-03-01 10:00:00'), Timestamp('1997-03-01 11:00:00'), Timestamp('1997-03-01 12:00:00'), Timestamp('1997-03-01 13:00:00'), Timestamp('1997-03-01 14:00:00'), Timestamp('1997-03-01 15:00:00'), Timestamp('1997-03-01 16:00:00'), Timestamp('1997-03-01 17:00:00'), Timestamp('1997-03-01 19:00:00'), Timestamp('1997-03-01 20:00:00'), Timestamp('1997-03-01 21:00:00'), Timestamp('1997-03-01 22:00:00'), Timestamp('1997-03-01 23:00:00'), Timestamp('1997-04-01 00:00:00'), Timestamp('1997-04-01 01:00:00'), Timestamp('1997-04-01 02:00:00'), Timestamp('1997-04-01 03:00:00'), Timestamp('1997-04-01 04:00:00'), Timestamp('1997-04-01 05:00:00'), Timestamp('1997-04-01 07:00:00'), Timestamp('1997-04-01 08:00:00'), Timestamp('1997-04-01 09:00:00'), Timestamp('1997-04-01 10:00:00'), Timestamp('1997-04-01 11:00:00'), Timestamp('1997-04-01 12:00:00'), Timestamp('1997-04-01 13:00:00'), Timestamp('1997-04-01 14:00:00'), Timestamp('1997-04-01 15:00:00'), Timestamp('1997-04-01 16:00:00'), Timestamp('1997-04-01 17:00:00'), Timestamp('1997-04-01 19:00:00'), Timestamp('1997-04-01 20:00:00'), Timestamp('1997-04-01 21:00:00'), Timestamp('1997-04-01 22:00:00'), Timestamp('1997-04-01 23:00:00'), Timestamp('1997-05-01 00:00:00'), Timestamp('1997-05-01 01:00:00'), Timestamp('1997-05-01 02:00:00'), Timestamp('1997-05-01 03:00:00'), Timestamp('1997-05-01 04:00:00'), Timestamp('1997-05-01 05:00:00'), Timestamp('1997-05-01 07:00:00'), Timestamp('1997-05-01 08:00:00'), Timestamp('1997-05-01 09:00:00'), Timestamp('1997-05-01 10:00:00'), Timestamp('1997-05-01 11:00:00'), Timestamp('1997-05-01 12:00:00'), Timestamp('1997-05-01 13:00:00'), Timestamp('1997-05-01 14:00:00'), Timestamp('1997-05-01 15:00:00'), Timestamp('1997-05-01 16:00:00'), Timestamp('1997-05-01 17:00:00'), Timestamp('1997-05-01 19:00:00'), Timestamp('1997-05-01 20:00:00'), Timestamp('1997-05-01 21:00:00'), Timestamp('1997-05-01 22:00:00'), Timestamp('1997-05-01 23:00:00'), Timestamp('1997-06-01 00:00:00'), Timestamp('1997-06-01 01:00:00'), Timestamp('1997-06-01 02:00:00'), Timestamp('1997-06-01 03:00:00'), Timestamp('1997-06-01 04:00:00'), Timestamp('1997-06-01 05:00:00'), Timestamp('1997-06-01 07:00:00'), Timestamp('1997-06-01 08:00:00'), Timestamp('1997-06-01 09:00:00'), Timestamp('1997-06-01 10:00:00'), Timestamp('1997-06-01 11:00:00'), Timestamp('1997-06-01 12:00:00'), Timestamp('1997-06-01 13:00:00'), Timestamp('1997-06-01 14:00:00'), Timestamp('1997-06-01 15:00:00'), Timestamp('1997-06-01 16:00:00'), Timestamp('1997-06-01 17:00:00'), Timestamp('1997-06-01 19:00:00'), Timestamp('1997-06-01 20:00:00'), Timestamp('1997-06-01 21:00:00'), Timestamp('1997-06-01 22:00:00'), Timestamp('1997-06-01 23:00:00'), Timestamp('1997-07-01 00:00:00'), Timestamp('1997-07-01 01:00:00'), Timestamp('1997-07-01 02:00:00'), Timestamp('1997-07-01 03:00:00'), Timestamp('1997-07-01 04:00:00'), Timestamp('1997-07-01 05:00:00'), Timestamp('1997-07-01 07:00:00'), Timestamp('1997-07-01 08:00:00'), Timestamp('1997-07-01 09:00:00'), Timestamp('1997-07-01 10:00:00'), Timestamp('1997-07-01 11:00:00'), Timestamp('1997-07-01 12:00:00'), Timestamp('1997-07-01 13:00:00'), Timestamp('1997-07-01 14:00:00'), Timestamp('1997-07-01 15:00:00'), Timestamp('1997-07-01 16:00:00'), Timestamp('1997-07-01 17:00:00'), Timestamp('1997-07-01 19:00:00'), Timestamp('1997-07-01 20:00:00'), Timestamp('1997-07-01 21:00:00'), Timestamp('1997-07-01 22:00:00'), Timestamp('1997-07-01 23:00:00'), Timestamp('1997-08-01 00:00:00'), Timestamp('1997-08-01 01:00:00'), Timestamp('1997-08-01 02:00:00'), Timestamp('1997-08-01 03:00:00'), Timestamp('1997-08-01 04:00:00'), Timestamp('1997-08-01 05:00:00'), Timestamp('1997-08-01 07:00:00'), Timestamp('1997-08-01 08:00:00'), Timestamp('1997-08-01 09:00:00'), Timestamp('1997-08-01 10:00:00'), Timestamp('1997-08-01 11:00:00'), Timestamp('1997-08-01 12:00:00'), Timestamp('1997-08-01 13:00:00'), Timestamp('1997-08-01 14:00:00'), Timestamp('1997-08-01 15:00:00'), Timestamp('1997-08-01 16:00:00'), Timestamp('1997-08-01 17:00:00'), Timestamp('1997-08-01 19:00:00'), Timestamp('1997-08-01 20:00:00'), Timestamp('1997-08-01 21:00:00'), Timestamp('1997-08-01 22:00:00'), Timestamp('1997-08-01 23:00:00'), Timestamp('1997-09-01 00:00:00'), Timestamp('1997-09-01 01:00:00'), Timestamp('1997-09-01 02:00:00'), Timestamp('1997-09-01 03:00:00'), Timestamp('1997-09-01 04:00:00'), Timestamp('1997-09-01 05:00:00'), Timestamp('1997-09-01 07:00:00'), Timestamp('1997-09-01 08:00:00'), Timestamp('1997-09-01 09:00:00'), Timestamp('1997-09-01 10:00:00'), Timestamp('1997-09-01 11:00:00'), Timestamp('1997-09-01 12:00:00'), Timestamp('1997-09-01 13:00:00'), Timestamp('1997-09-01 14:00:00'), Timestamp('1997-09-01 15:00:00'), Timestamp('1997-09-01 16:00:00'), Timestamp('1997-09-01 17:00:00'), Timestamp('1997-09-01 19:00:00'), Timestamp('1997-09-01 20:00:00'), Timestamp('1997-09-01 21:00:00'), Timestamp('1997-09-01 22:00:00'), Timestamp('1997-09-01 23:00:00'), Timestamp('1997-10-01 00:00:00'), Timestamp('1997-10-01 01:00:00'), Timestamp('1997-10-01 02:00:00'), Timestamp('1997-10-01 03:00:00'), Timestamp('1997-10-01 04:00:00'), Timestamp('1997-10-01 05:00:00'), Timestamp('1997-10-01 07:00:00'), Timestamp('1997-10-01 08:00:00'), Timestamp('1997-10-01 09:00:00'), Timestamp('1997-10-01 10:00:00'), Timestamp('1997-10-01 11:00:00'), Timestamp('1997-10-01 12:00:00'), Timestamp('1997-10-01 13:00:00'), Timestamp('1997-10-01 14:00:00'), Timestamp('1997-10-01 15:00:00'), Timestamp('1997-10-01 16:00:00'), Timestamp('1997-10-01 17:00:00'), Timestamp('1997-10-01 19:00:00'), Timestamp('1997-10-01 20:00:00'), Timestamp('1997-10-01 21:00:00'), Timestamp('1997-10-01 22:00:00'), Timestamp('1997-10-01 23:00:00'), Timestamp('1997-11-01 00:00:00'), Timestamp('1997-11-01 01:00:00'), Timestamp('1997-11-01 02:00:00'), Timestamp('1997-11-01 03:00:00'), Timestamp('1997-11-01 04:00:00'), Timestamp('1997-11-01 05:00:00'), Timestamp('1997-11-01 07:00:00'), Timestamp('1997-11-01 08:00:00'), Timestamp('1997-11-01 09:00:00'), Timestamp('1997-11-01 10:00:00'), Timestamp('1997-11-01 11:00:00'), Timestamp('1997-11-01 12:00:00'), Timestamp('1997-11-01 13:00:00'), Timestamp('1997-11-01 14:00:00'), Timestamp('1997-11-01 15:00:00'), Timestamp('1997-11-01 16:00:00'), Timestamp('1997-11-01 17:00:00'), Timestamp('1997-11-01 19:00:00'), Timestamp('1997-11-01 20:00:00'), Timestamp('1997-11-01 21:00:00'), Timestamp('1997-11-01 22:00:00'), Timestamp('1997-11-01 23:00:00'), Timestamp('1997-12-01 00:00:00'), Timestamp('1997-12-01 01:00:00'), Timestamp('1997-12-01 02:00:00'), Timestamp('1997-12-01 03:00:00'), Timestamp('1997-12-01 04:00:00'), Timestamp('1997-12-01 05:00:00'), Timestamp('1997-12-01 07:00:00'), Timestamp('1997-12-01 08:00:00'), Timestamp('1997-12-01 09:00:00'), Timestamp('1997-12-01 10:00:00'), Timestamp('1997-12-01 11:00:00'), Timestamp('1997-12-01 12:00:00'), Timestamp('1997-12-01 13:00:00'), Timestamp('1997-12-01 14:00:00'), Timestamp('1997-12-01 15:00:00'), Timestamp('1997-12-01 16:00:00'), Timestamp('1997-12-01 17:00:00'), Timestamp('1997-12-01 19:00:00'), Timestamp('1997-12-01 20:00:00'), Timestamp('1997-12-01 21:00:00'), Timestamp('1997-12-01 22:00:00'), Timestamp('1997-12-01 23:00:00'), Timestamp('1998-01-01 00:00:00'), Timestamp('1998-01-01 01:00:00'), Timestamp('1998-01-01 02:00:00'), Timestamp('1998-01-01 03:00:00'), Timestamp('1998-01-01 04:00:00'), Timestamp('1998-01-01 05:00:00'), Timestamp('1998-01-01 07:00:00'), Timestamp('1998-01-01 08:00:00'), Timestamp('1998-01-01 09:00:00'), Timestamp('1998-01-01 10:00:00'), Timestamp('1998-01-01 11:00:00'), Timestamp('1998-01-01 12:00:00'), Timestamp('1998-01-01 13:00:00'), Timestamp('1998-01-01 14:00:00'), Timestamp('1998-01-01 15:00:00'), Timestamp('1998-01-01 16:00:00'), Timestamp('1998-01-01 17:00:00'), Timestamp('1998-01-01 19:00:00'), Timestamp('1998-01-01 20:00:00'), Timestamp('1998-01-01 21:00:00'), Timestamp('1998-01-01 22:00:00'), Timestamp('1998-01-01 23:00:00'), Timestamp('1998-02-01 00:00:00'), Timestamp('1998-02-01 01:00:00'), Timestamp('1998-02-01 02:00:00'), Timestamp('1998-02-01 03:00:00'), Timestamp('1998-02-01 04:00:00'), Timestamp('1998-02-01 05:00:00'), Timestamp('1998-02-01 07:00:00'), Timestamp('1998-02-01 08:00:00'), Timestamp('1998-02-01 09:00:00'), Timestamp('1998-02-01 10:00:00'), Timestamp('1998-02-01 11:00:00'), Timestamp('1998-02-01 12:00:00'), Timestamp('1998-02-01 13:00:00'), Timestamp('1998-02-01 14:00:00'), Timestamp('1998-02-01 15:00:00'), Timestamp('1998-02-01 16:00:00'), Timestamp('1998-02-01 17:00:00'), Timestamp('1998-02-01 19:00:00'), Timestamp('1998-02-01 20:00:00'), Timestamp('1998-02-01 21:00:00'), Timestamp('1998-02-01 22:00:00'), Timestamp('1998-02-01 23:00:00'), Timestamp('1998-03-01 00:00:00'), Timestamp('1998-03-01 01:00:00'), Timestamp('1998-03-01 02:00:00'), Timestamp('1998-03-01 03:00:00'), Timestamp('1998-03-01 04:00:00'), Timestamp('1998-03-01 05:00:00'), Timestamp('1998-03-01 07:00:00'), Timestamp('1998-03-01 08:00:00'), Timestamp('1998-03-01 09:00:00'), Timestamp('1998-03-01 10:00:00'), Timestamp('1998-03-01 11:00:00'), Timestamp('1998-03-01 12:00:00'), Timestamp('1998-03-01 13:00:00'), Timestamp('1998-03-01 14:00:00'), Timestamp('1998-03-01 15:00:00'), Timestamp('1998-03-01 16:00:00'), Timestamp('1998-03-01 17:00:00'), Timestamp('1998-03-01 19:00:00'), Timestamp('1998-03-01 20:00:00'), Timestamp('1998-03-01 21:00:00'), Timestamp('1998-03-01 22:00:00'), Timestamp('1998-03-01 23:00:00'), Timestamp('1998-04-01 00:00:00'), Timestamp('1998-04-01 01:00:00'), Timestamp('1998-04-01 02:00:00'), Timestamp('1998-04-01 03:00:00'), Timestamp('1998-04-01 04:00:00'), Timestamp('1998-04-01 05:00:00'), Timestamp('1998-04-01 07:00:00'), Timestamp('1998-04-01 08:00:00'), Timestamp('1998-04-01 09:00:00'), Timestamp('1998-04-01 10:00:00'), Timestamp('1998-04-01 11:00:00'), Timestamp('1998-04-01 12:00:00'), Timestamp('1998-04-01 13:00:00'), Timestamp('1998-04-01 14:00:00'), Timestamp('1998-04-01 15:00:00'), Timestamp('1998-04-01 16:00:00'), Timestamp('1998-04-01 17:00:00'), Timestamp('1998-04-01 19:00:00'), Timestamp('1998-04-01 20:00:00'), Timestamp('1998-04-01 21:00:00'), Timestamp('1998-04-01 22:00:00'), Timestamp('1998-04-01 23:00:00'), Timestamp('1998-05-01 00:00:00'), Timestamp('1998-05-01 01:00:00'), Timestamp('1998-05-01 02:00:00'), Timestamp('1998-05-01 03:00:00'), Timestamp('1998-05-01 04:00:00'), Timestamp('1998-05-01 05:00:00'), Timestamp('1998-05-01 07:00:00'), Timestamp('1998-05-01 08:00:00'), Timestamp('1998-05-01 09:00:00'), Timestamp('1998-05-01 10:00:00'), Timestamp('1998-05-01 11:00:00'), Timestamp('1998-05-01 12:00:00'), Timestamp('1998-05-01 13:00:00'), Timestamp('1998-05-01 14:00:00'), Timestamp('1998-05-01 15:00:00'), Timestamp('1998-05-01 16:00:00'), Timestamp('1998-05-01 17:00:00'), Timestamp('1998-05-01 19:00:00'), Timestamp('1998-05-01 20:00:00'), Timestamp('1998-05-01 21:00:00'), Timestamp('1998-05-01 22:00:00'), Timestamp('1998-05-01 23:00:00'), Timestamp('1998-06-01 00:00:00'), Timestamp('1998-06-01 01:00:00'), Timestamp('1998-06-01 02:00:00'), Timestamp('1998-06-01 03:00:00'), Timestamp('1998-06-01 04:00:00'), Timestamp('1998-06-01 05:00:00'), Timestamp('1998-06-01 07:00:00'), Timestamp('1998-06-01 08:00:00'), Timestamp('1998-06-01 09:00:00'), Timestamp('1998-06-01 10:00:00'), Timestamp('1998-06-01 11:00:00'), Timestamp('1998-06-01 12:00:00'), Timestamp('1998-06-01 13:00:00'), Timestamp('1998-06-01 14:00:00'), Timestamp('1998-06-01 15:00:00'), Timestamp('1998-06-01 16:00:00'), Timestamp('1998-06-01 17:00:00'), Timestamp('1998-06-01 19:00:00'), Timestamp('1998-06-01 20:00:00'), Timestamp('1998-06-01 21:00:00'), Timestamp('1998-06-01 22:00:00'), Timestamp('1998-06-01 23:00:00'), Timestamp('1998-07-01 00:00:00'), Timestamp('1998-07-01 01:00:00'), Timestamp('1998-07-01 02:00:00'), Timestamp('1998-07-01 03:00:00'), Timestamp('1998-07-01 04:00:00'), Timestamp('1998-07-01 05:00:00'), Timestamp('1998-07-01 07:00:00'), Timestamp('1998-07-01 08:00:00'), Timestamp('1998-07-01 09:00:00'), Timestamp('1998-07-01 10:00:00'), Timestamp('1998-07-01 11:00:00'), Timestamp('1998-07-01 12:00:00'), Timestamp('1998-07-01 13:00:00'), Timestamp('1998-07-01 14:00:00'), Timestamp('1998-07-01 15:00:00'), Timestamp('1998-07-01 16:00:00'), Timestamp('1998-07-01 17:00:00'), Timestamp('1998-07-01 19:00:00'), Timestamp('1998-07-01 20:00:00'), Timestamp('1998-07-01 21:00:00'), Timestamp('1998-07-01 22:00:00'), Timestamp('1998-07-01 23:00:00'), Timestamp('1998-08-01 00:00:00'), Timestamp('1998-08-01 01:00:00'), Timestamp('1998-08-01 02:00:00'), Timestamp('1998-08-01 03:00:00'), Timestamp('1998-08-01 04:00:00'), Timestamp('1998-08-01 05:00:00'), Timestamp('1998-08-01 07:00:00'), Timestamp('1998-08-01 08:00:00'), Timestamp('1998-08-01 09:00:00'), Timestamp('1998-08-01 10:00:00'), Timestamp('1998-08-01 11:00:00'), Timestamp('1998-08-01 12:00:00'), Timestamp('1998-08-01 13:00:00'), Timestamp('1998-08-01 14:00:00'), Timestamp('1998-08-01 15:00:00'), Timestamp('1998-08-01 16:00:00'), Timestamp('1998-08-01 17:00:00'), Timestamp('1998-08-01 19:00:00'), Timestamp('1998-08-01 20:00:00'), Timestamp('1998-08-01 21:00:00'), Timestamp('1998-08-01 22:00:00'), Timestamp('1998-08-01 23:00:00'), Timestamp('1998-09-01 00:00:00'), Timestamp('1998-09-01 01:00:00'), Timestamp('1998-09-01 02:00:00'), Timestamp('1998-09-01 03:00:00'), Timestamp('1998-09-01 04:00:00'), Timestamp('1998-09-01 05:00:00'), Timestamp('1998-09-01 07:00:00'), Timestamp('1998-09-01 08:00:00'), Timestamp('1998-09-01 09:00:00'), Timestamp('1998-09-01 10:00:00'), Timestamp('1998-09-01 11:00:00'), Timestamp('1998-09-01 12:00:00'), Timestamp('1998-09-01 13:00:00'), Timestamp('1998-09-01 14:00:00'), Timestamp('1998-09-01 15:00:00'), Timestamp('1998-09-01 16:00:00'), Timestamp('1998-09-01 17:00:00'), Timestamp('1998-09-01 19:00:00'), Timestamp('1998-09-01 20:00:00'), Timestamp('1998-09-01 21:00:00'), Timestamp('1998-09-01 22:00:00'), Timestamp('1998-09-01 23:00:00'), Timestamp('1998-10-01 00:00:00'), Timestamp('1998-10-01 01:00:00'), Timestamp('1998-10-01 02:00:00'), Timestamp('1998-10-01 03:00:00'), Timestamp('1998-10-01 04:00:00'), Timestamp('1998-10-01 05:00:00'), Timestamp('1998-10-01 07:00:00'), Timestamp('1998-10-01 08:00:00'), Timestamp('1998-10-01 09:00:00'), Timestamp('1998-10-01 10:00:00'), Timestamp('1998-10-01 11:00:00'), Timestamp('1998-10-01 12:00:00'), Timestamp('1998-10-01 13:00:00'), Timestamp('1998-10-01 14:00:00'), Timestamp('1998-10-01 15:00:00'), Timestamp('1998-10-01 16:00:00'), Timestamp('1998-10-01 17:00:00'), Timestamp('1998-10-01 19:00:00'), Timestamp('1998-10-01 20:00:00'), Timestamp('1998-10-01 21:00:00'), Timestamp('1998-10-01 22:00:00'), Timestamp('1998-10-01 23:00:00'), Timestamp('1998-11-01 00:00:00'), Timestamp('1998-11-01 01:00:00'), Timestamp('1998-11-01 02:00:00'), Timestamp('1998-11-01 03:00:00'), Timestamp('1998-11-01 04:00:00'), Timestamp('1998-11-01 05:00:00'), Timestamp('1998-11-01 07:00:00'), Timestamp('1998-11-01 08:00:00'), Timestamp('1998-11-01 09:00:00'), Timestamp('1998-11-01 10:00:00'), Timestamp('1998-11-01 11:00:00'), Timestamp('1998-11-01 12:00:00'), Timestamp('1998-11-01 13:00:00'), Timestamp('1998-11-01 14:00:00'), Timestamp('1998-11-01 15:00:00'), Timestamp('1998-11-01 16:00:00'), Timestamp('1998-11-01 17:00:00'), Timestamp('1998-11-01 19:00:00'), Timestamp('1998-11-01 20:00:00'), Timestamp('1998-11-01 21:00:00'), Timestamp('1998-11-01 22:00:00'), Timestamp('1998-11-01 23:00:00'), Timestamp('1998-12-01 00:00:00'), Timestamp('1998-12-01 01:00:00'), Timestamp('1998-12-01 02:00:00'), Timestamp('1998-12-01 03:00:00'), Timestamp('1998-12-01 04:00:00'), Timestamp('1998-12-01 05:00:00'), Timestamp('1998-12-01 07:00:00'), Timestamp('1998-12-01 08:00:00'), Timestamp('1998-12-01 09:00:00'), Timestamp('1998-12-01 10:00:00'), Timestamp('1998-12-01 11:00:00'), Timestamp('1998-12-01 12:00:00'), Timestamp('1998-12-01 13:00:00'), Timestamp('1998-12-01 14:00:00'), Timestamp('1998-12-01 15:00:00'), Timestamp('1998-12-01 16:00:00'), Timestamp('1998-12-01 17:00:00'), Timestamp('1998-12-01 19:00:00'), Timestamp('1998-12-01 20:00:00'), Timestamp('1998-12-01 21:00:00'), Timestamp('1998-12-01 22:00:00'), Timestamp('1998-12-01 23:00:00'), Timestamp('1999-01-01 00:00:00'), Timestamp('1999-01-01 01:00:00'), Timestamp('1999-01-01 02:00:00'), Timestamp('1999-01-01 03:00:00'), Timestamp('1999-01-01 04:00:00'), Timestamp('1999-01-01 05:00:00'), Timestamp('1999-01-01 07:00:00'), Timestamp('1999-01-01 08:00:00'), Timestamp('1999-01-01 09:00:00'), Timestamp('1999-01-01 10:00:00'), Timestamp('1999-01-01 11:00:00'), Timestamp('1999-01-01 12:00:00'), Timestamp('1999-01-01 13:00:00'), Timestamp('1999-01-01 14:00:00'), Timestamp('1999-01-01 15:00:00'), Timestamp('1999-01-01 16:00:00'), Timestamp('1999-01-01 17:00:00'), Timestamp('1999-01-01 19:00:00'), Timestamp('1999-01-01 20:00:00'), Timestamp('1999-01-01 21:00:00'), Timestamp('1999-01-01 22:00:00'), Timestamp('1999-01-01 23:00:00'), Timestamp('1999-02-01 00:00:00'), Timestamp('1999-02-01 01:00:00'), Timestamp('1999-02-01 02:00:00'), Timestamp('1999-02-01 03:00:00'), Timestamp('1999-02-01 04:00:00'), Timestamp('1999-02-01 05:00:00'), Timestamp('1999-02-01 07:00:00'), Timestamp('1999-02-01 08:00:00'), Timestamp('1999-02-01 09:00:00'), Timestamp('1999-02-01 10:00:00'), Timestamp('1999-02-01 11:00:00'), Timestamp('1999-02-01 12:00:00'), Timestamp('1999-02-01 13:00:00'), Timestamp('1999-02-01 14:00:00'), Timestamp('1999-02-01 15:00:00'), Timestamp('1999-02-01 16:00:00'), Timestamp('1999-02-01 17:00:00'), Timestamp('1999-02-01 19:00:00'), Timestamp('1999-02-01 20:00:00'), Timestamp('1999-02-01 21:00:00'), Timestamp('1999-02-01 22:00:00'), Timestamp('1999-02-01 23:00:00'), Timestamp('1999-03-01 00:00:00'), Timestamp('1999-03-01 01:00:00'), Timestamp('1999-03-01 02:00:00'), Timestamp('1999-03-01 03:00:00'), Timestamp('1999-03-01 04:00:00'), Timestamp('1999-03-01 05:00:00'), Timestamp('1999-03-01 07:00:00'), Timestamp('1999-03-01 08:00:00'), Timestamp('1999-03-01 09:00:00'), Timestamp('1999-03-01 10:00:00'), Timestamp('1999-03-01 11:00:00'), Timestamp('1999-03-01 12:00:00'), Timestamp('1999-03-01 13:00:00'), Timestamp('1999-03-01 14:00:00'), Timestamp('1999-03-01 15:00:00'), Timestamp('1999-03-01 16:00:00'), Timestamp('1999-03-01 17:00:00'), Timestamp('1999-03-01 19:00:00'), Timestamp('1999-03-01 20:00:00'), Timestamp('1999-03-01 21:00:00'), Timestamp('1999-03-01 22:00:00'), Timestamp('1999-03-01 23:00:00'), Timestamp('1999-04-01 00:00:00'), Timestamp('1999-04-01 01:00:00'), Timestamp('1999-04-01 02:00:00'), Timestamp('1999-04-01 03:00:00'), Timestamp('1999-04-01 04:00:00'), Timestamp('1999-04-01 05:00:00'), Timestamp('1999-04-01 07:00:00'), Timestamp('1999-04-01 08:00:00'), Timestamp('1999-04-01 09:00:00'), Timestamp('1999-04-01 10:00:00'), Timestamp('1999-04-01 11:00:00'), Timestamp('1999-04-01 12:00:00'), Timestamp('1999-04-01 13:00:00'), Timestamp('1999-04-01 14:00:00'), Timestamp('1999-04-01 15:00:00'), Timestamp('1999-04-01 16:00:00'), Timestamp('1999-04-01 17:00:00'), Timestamp('1999-04-01 19:00:00'), Timestamp('1999-04-01 20:00:00'), Timestamp('1999-04-01 21:00:00'), Timestamp('1999-04-01 22:00:00'), Timestamp('1999-04-01 23:00:00'), Timestamp('1999-05-01 00:00:00'), Timestamp('1999-05-01 01:00:00'), Timestamp('1999-05-01 02:00:00'), Timestamp('1999-05-01 03:00:00'), Timestamp('1999-05-01 04:00:00'), Timestamp('1999-05-01 05:00:00'), Timestamp('1999-05-01 07:00:00'), Timestamp('1999-05-01 08:00:00'), Timestamp('1999-05-01 09:00:00'), Timestamp('1999-05-01 10:00:00'), Timestamp('1999-05-01 11:00:00'), Timestamp('1999-05-01 12:00:00'), Timestamp('1999-05-01 13:00:00'), Timestamp('1999-05-01 14:00:00'), Timestamp('1999-05-01 15:00:00'), Timestamp('1999-05-01 16:00:00'), Timestamp('1999-05-01 17:00:00'), Timestamp('1999-05-01 19:00:00'), Timestamp('1999-05-01 20:00:00'), Timestamp('1999-05-01 21:00:00'), Timestamp('1999-05-01 22:00:00'), Timestamp('1999-05-01 23:00:00'), Timestamp('1999-06-01 00:00:00'), Timestamp('1999-06-01 01:00:00'), Timestamp('1999-06-01 02:00:00'), Timestamp('1999-06-01 03:00:00'), Timestamp('1999-06-01 04:00:00'), Timestamp('1999-06-01 05:00:00'), Timestamp('1999-06-01 07:00:00'), Timestamp('1999-06-01 08:00:00'), Timestamp('1999-06-01 09:00:00'), Timestamp('1999-06-01 10:00:00'), Timestamp('1999-06-01 11:00:00'), Timestamp('1999-06-01 12:00:00'), Timestamp('1999-06-01 13:00:00'), Timestamp('1999-06-01 14:00:00'), Timestamp('1999-06-01 15:00:00'), Timestamp('1999-06-01 16:00:00'), Timestamp('1999-06-01 17:00:00'), Timestamp('1999-06-01 19:00:00'), Timestamp('1999-06-01 20:00:00'), Timestamp('1999-06-01 21:00:00'), Timestamp('1999-06-01 22:00:00'), Timestamp('1999-06-01 23:00:00'), Timestamp('1999-07-01 00:00:00'), Timestamp('1999-07-01 01:00:00'), Timestamp('1999-07-01 02:00:00'), Timestamp('1999-07-01 03:00:00'), Timestamp('1999-07-01 04:00:00'), Timestamp('1999-07-01 05:00:00'), Timestamp('1999-07-01 07:00:00'), Timestamp('1999-07-01 08:00:00'), Timestamp('1999-07-01 09:00:00'), Timestamp('1999-07-01 10:00:00'), Timestamp('1999-07-01 11:00:00'), Timestamp('1999-07-01 12:00:00'), Timestamp('1999-07-01 13:00:00'), Timestamp('1999-07-01 14:00:00'), Timestamp('1999-07-01 15:00:00'), Timestamp('1999-07-01 16:00:00'), Timestamp('1999-07-01 17:00:00'), Timestamp('1999-07-01 19:00:00'), Timestamp('1999-07-01 20:00:00'), Timestamp('1999-07-01 21:00:00'), Timestamp('1999-07-01 22:00:00'), Timestamp('1999-07-01 23:00:00'), Timestamp('1999-08-01 00:00:00'), Timestamp('1999-08-01 01:00:00'), Timestamp('1999-08-01 02:00:00'), Timestamp('1999-08-01 03:00:00'), Timestamp('1999-08-01 04:00:00'), Timestamp('1999-08-01 05:00:00'), Timestamp('1999-08-01 07:00:00'), Timestamp('1999-08-01 08:00:00'), Timestamp('1999-08-01 09:00:00'), Timestamp('1999-08-01 10:00:00'), Timestamp('1999-08-01 11:00:00'), Timestamp('1999-08-01 12:00:00'), Timestamp('1999-08-01 13:00:00'), Timestamp('1999-08-01 14:00:00'), Timestamp('1999-08-01 15:00:00'), Timestamp('1999-08-01 16:00:00'), Timestamp('1999-08-01 17:00:00'), Timestamp('1999-08-01 19:00:00'), Timestamp('1999-08-01 20:00:00'), Timestamp('1999-08-01 21:00:00'), Timestamp('1999-08-01 22:00:00'), Timestamp('1999-08-01 23:00:00'), Timestamp('1999-09-01 00:00:00'), Timestamp('1999-09-01 01:00:00'), Timestamp('1999-09-01 02:00:00'), Timestamp('1999-09-01 03:00:00'), Timestamp('1999-09-01 04:00:00'), Timestamp('1999-09-01 05:00:00'), Timestamp('1999-09-01 07:00:00'), Timestamp('1999-09-01 08:00:00'), Timestamp('1999-09-01 09:00:00'), Timestamp('1999-09-01 10:00:00'), Timestamp('1999-09-01 11:00:00'), Timestamp('1999-09-01 12:00:00'), Timestamp('1999-09-01 13:00:00'), Timestamp('1999-09-01 14:00:00'), Timestamp('1999-09-01 15:00:00'), Timestamp('1999-09-01 16:00:00'), Timestamp('1999-09-01 17:00:00'), Timestamp('1999-09-01 19:00:00'), Timestamp('1999-09-01 20:00:00'), Timestamp('1999-09-01 21:00:00'), Timestamp('1999-09-01 22:00:00'), Timestamp('1999-09-01 23:00:00'), Timestamp('1999-10-01 00:00:00'), Timestamp('1999-10-01 01:00:00'), Timestamp('1999-10-01 02:00:00'), Timestamp('1999-10-01 03:00:00'), Timestamp('1999-10-01 04:00:00'), Timestamp('1999-10-01 05:00:00'), Timestamp('1999-10-01 07:00:00'), Timestamp('1999-10-01 08:00:00'), Timestamp('1999-10-01 09:00:00'), Timestamp('1999-10-01 10:00:00'), Timestamp('1999-10-01 11:00:00'), Timestamp('1999-10-01 12:00:00'), Timestamp('1999-10-01 13:00:00'), Timestamp('1999-10-01 14:00:00'), Timestamp('1999-10-01 15:00:00'), Timestamp('1999-10-01 16:00:00'), Timestamp('1999-10-01 17:00:00'), Timestamp('1999-10-01 19:00:00'), Timestamp('1999-10-01 20:00:00'), Timestamp('1999-10-01 21:00:00'), Timestamp('1999-10-01 22:00:00'), Timestamp('1999-10-01 23:00:00'), Timestamp('1999-11-01 00:00:00'), Timestamp('1999-11-01 01:00:00'), Timestamp('1999-11-01 02:00:00'), Timestamp('1999-11-01 03:00:00'), Timestamp('1999-11-01 04:00:00'), Timestamp('1999-11-01 05:00:00'), Timestamp('1999-11-01 07:00:00'), Timestamp('1999-11-01 08:00:00'), Timestamp('1999-11-01 09:00:00'), Timestamp('1999-11-01 10:00:00'), Timestamp('1999-11-01 11:00:00'), Timestamp('1999-11-01 12:00:00'), Timestamp('1999-11-01 13:00:00'), Timestamp('1999-11-01 14:00:00'), Timestamp('1999-11-01 15:00:00'), Timestamp('1999-11-01 16:00:00'), Timestamp('1999-11-01 17:00:00'), Timestamp('1999-11-01 19:00:00'), Timestamp('1999-11-01 20:00:00'), Timestamp('1999-11-01 21:00:00'), Timestamp('1999-11-01 22:00:00'), Timestamp('1999-11-01 23:00:00'), Timestamp('1999-12-01 00:00:00'), Timestamp('1999-12-01 01:00:00'), Timestamp('1999-12-01 02:00:00'), Timestamp('1999-12-01 03:00:00'), Timestamp('1999-12-01 04:00:00'), Timestamp('1999-12-01 05:00:00'), Timestamp('1999-12-01 07:00:00'), Timestamp('1999-12-01 08:00:00'), Timestamp('1999-12-01 09:00:00'), Timestamp('1999-12-01 10:00:00'), Timestamp('1999-12-01 11:00:00'), Timestamp('1999-12-01 12:00:00'), Timestamp('1999-12-01 13:00:00'), Timestamp('1999-12-01 14:00:00'), Timestamp('1999-12-01 15:00:00'), Timestamp('1999-12-01 16:00:00'), Timestamp('1999-12-01 17:00:00'), Timestamp('1999-12-01 19:00:00'), Timestamp('1999-12-01 20:00:00'), Timestamp('1999-12-01 21:00:00'), Timestamp('1999-12-01 22:00:00'), Timestamp('1999-12-01 23:00:00'), Timestamp('2000-01-01 00:00:00'), Timestamp('2000-01-01 01:00:00'), Timestamp('2000-01-01 02:00:00'), Timestamp('2000-01-01 03:00:00'), Timestamp('2000-01-01 04:00:00'), Timestamp('2000-01-01 05:00:00'), Timestamp('2000-01-01 07:00:00'), Timestamp('2000-01-01 08:00:00'), Timestamp('2000-01-01 09:00:00'), Timestamp('2000-01-01 10:00:00'), Timestamp('2000-01-01 11:00:00'), Timestamp('2000-01-01 12:00:00'), Timestamp('2000-01-01 13:00:00'), Timestamp('2000-01-01 14:00:00'), Timestamp('2000-01-01 15:00:00'), Timestamp('2000-01-01 16:00:00'), Timestamp('2000-01-01 17:00:00'), Timestamp('2000-01-01 19:00:00'), Timestamp('2000-01-01 20:00:00'), Timestamp('2000-01-01 21:00:00'), Timestamp('2000-01-01 22:00:00'), Timestamp('2000-01-01 23:00:00'), Timestamp('2000-02-01 00:00:00'), Timestamp('2000-02-01 01:00:00'), Timestamp('2000-02-01 02:00:00'), Timestamp('2000-02-01 03:00:00'), Timestamp('2000-02-01 04:00:00'), Timestamp('2000-02-01 05:00:00'), Timestamp('2000-02-01 07:00:00'), Timestamp('2000-02-01 08:00:00'), Timestamp('2000-02-01 09:00:00'), Timestamp('2000-02-01 10:00:00'), Timestamp('2000-02-01 11:00:00'), Timestamp('2000-02-01 12:00:00'), Timestamp('2000-02-01 13:00:00'), Timestamp('2000-02-01 14:00:00'), Timestamp('2000-02-01 15:00:00'), Timestamp('2000-02-01 16:00:00'), Timestamp('2000-02-01 17:00:00'), Timestamp('2000-02-01 19:00:00'), Timestamp('2000-02-01 20:00:00'), Timestamp('2000-02-01 21:00:00'), Timestamp('2000-02-01 22:00:00'), Timestamp('2000-02-01 23:00:00'), Timestamp('2000-03-01 00:00:00'), Timestamp('2000-03-01 01:00:00'), Timestamp('2000-03-01 02:00:00'), Timestamp('2000-03-01 03:00:00'), Timestamp('2000-03-01 04:00:00'), Timestamp('2000-03-01 05:00:00'), Timestamp('2000-03-01 07:00:00'), Timestamp('2000-03-01 08:00:00'), Timestamp('2000-03-01 09:00:00'), Timestamp('2000-03-01 10:00:00'), Timestamp('2000-03-01 11:00:00'), Timestamp('2000-03-01 12:00:00'), Timestamp('2000-03-01 13:00:00'), Timestamp('2000-03-01 14:00:00'), Timestamp('2000-03-01 15:00:00'), Timestamp('2000-03-01 16:00:00'), Timestamp('2000-03-01 17:00:00'), Timestamp('2000-03-01 19:00:00'), Timestamp('2000-03-01 20:00:00'), Timestamp('2000-03-01 21:00:00'), Timestamp('2000-03-01 22:00:00'), Timestamp('2000-03-01 23:00:00'), Timestamp('2000-04-01 00:00:00'), Timestamp('2000-04-01 01:00:00'), Timestamp('2000-04-01 02:00:00'), Timestamp('2000-04-01 03:00:00'), Timestamp('2000-04-01 04:00:00'), Timestamp('2000-04-01 05:00:00'), Timestamp('2000-04-01 07:00:00'), Timestamp('2000-04-01 08:00:00'), Timestamp('2000-04-01 09:00:00'), Timestamp('2000-04-01 10:00:00'), Timestamp('2000-04-01 11:00:00'), Timestamp('2000-04-01 12:00:00'), Timestamp('2000-04-01 13:00:00'), Timestamp('2000-04-01 14:00:00'), Timestamp('2000-04-01 15:00:00'), Timestamp('2000-04-01 16:00:00'), Timestamp('2000-04-01 17:00:00'), Timestamp('2000-04-01 19:00:00'), Timestamp('2000-04-01 20:00:00'), Timestamp('2000-04-01 21:00:00'), Timestamp('2000-04-01 22:00:00'), Timestamp('2000-04-01 23:00:00'), Timestamp('2000-05-01 00:00:00'), Timestamp('2000-05-01 01:00:00'), Timestamp('2000-05-01 02:00:00'), Timestamp('2000-05-01 03:00:00'), Timestamp('2000-05-01 04:00:00'), Timestamp('2000-05-01 05:00:00'), Timestamp('2000-05-01 07:00:00'), Timestamp('2000-05-01 08:00:00'), Timestamp('2000-05-01 09:00:00'), Timestamp('2000-05-01 10:00:00'), Timestamp('2000-05-01 11:00:00'), Timestamp('2000-05-01 12:00:00'), Timestamp('2000-05-01 13:00:00'), Timestamp('2000-05-01 14:00:00'), Timestamp('2000-05-01 15:00:00'), Timestamp('2000-05-01 16:00:00'), Timestamp('2000-05-01 17:00:00'), Timestamp('2000-05-01 19:00:00'), Timestamp('2000-05-01 20:00:00'), Timestamp('2000-05-01 21:00:00'), Timestamp('2000-05-01 22:00:00'), Timestamp('2000-05-01 23:00:00'), Timestamp('2000-06-01 00:00:00'), Timestamp('2000-06-01 01:00:00'), Timestamp('2000-06-01 02:00:00'), Timestamp('2000-06-01 03:00:00'), Timestamp('2000-06-01 04:00:00'), Timestamp('2000-06-01 05:00:00'), Timestamp('2000-06-01 07:00:00'), Timestamp('2000-06-01 08:00:00'), Timestamp('2000-06-01 09:00:00'), Timestamp('2000-06-01 10:00:00'), Timestamp('2000-06-01 11:00:00'), Timestamp('2000-06-01 12:00:00'), Timestamp('2000-06-01 13:00:00'), Timestamp('2000-06-01 14:00:00'), Timestamp('2000-06-01 15:00:00'), Timestamp('2000-06-01 16:00:00'), Timestamp('2000-06-01 17:00:00'), Timestamp('2000-06-01 19:00:00'), Timestamp('2000-06-01 20:00:00'), Timestamp('2000-06-01 21:00:00'), Timestamp('2000-06-01 22:00:00'), Timestamp('2000-06-01 23:00:00'), Timestamp('2000-07-01 00:00:00'), Timestamp('2000-07-01 01:00:00'), Timestamp('2000-07-01 02:00:00'), Timestamp('2000-07-01 03:00:00'), Timestamp('2000-07-01 04:00:00'), Timestamp('2000-07-01 05:00:00'), Timestamp('2000-07-01 07:00:00'), Timestamp('2000-07-01 08:00:00'), Timestamp('2000-07-01 09:00:00'), Timestamp('2000-07-01 10:00:00'), Timestamp('2000-07-01 11:00:00'), Timestamp('2000-07-01 12:00:00'), Timestamp('2000-07-01 13:00:00'), Timestamp('2000-07-01 14:00:00'), Timestamp('2000-07-01 15:00:00'), Timestamp('2000-07-01 16:00:00'), Timestamp('2000-07-01 17:00:00'), Timestamp('2000-07-01 19:00:00'), Timestamp('2000-07-01 20:00:00'), Timestamp('2000-07-01 21:00:00'), Timestamp('2000-07-01 22:00:00'), Timestamp('2000-07-01 23:00:00'), Timestamp('2000-08-01 00:00:00'), Timestamp('2000-08-01 01:00:00'), Timestamp('2000-08-01 02:00:00'), Timestamp('2000-08-01 03:00:00'), Timestamp('2000-08-01 04:00:00'), Timestamp('2000-08-01 05:00:00'), Timestamp('2000-08-01 07:00:00'), Timestamp('2000-08-01 08:00:00'), Timestamp('2000-08-01 09:00:00'), Timestamp('2000-08-01 10:00:00'), Timestamp('2000-08-01 11:00:00'), Timestamp('2000-08-01 12:00:00'), Timestamp('2000-08-01 13:00:00'), Timestamp('2000-08-01 14:00:00'), Timestamp('2000-08-01 15:00:00'), Timestamp('2000-08-01 16:00:00'), Timestamp('2000-08-01 17:00:00'), Timestamp('2000-08-01 19:00:00'), Timestamp('2000-08-01 20:00:00'), Timestamp('2000-08-01 21:00:00'), Timestamp('2000-08-01 22:00:00'), Timestamp('2000-08-01 23:00:00'), Timestamp('2000-09-01 00:00:00'), Timestamp('2000-09-01 01:00:00'), Timestamp('2000-09-01 02:00:00'), Timestamp('2000-09-01 03:00:00'), Timestamp('2000-09-01 04:00:00'), Timestamp('2000-09-01 05:00:00'), Timestamp('2000-09-01 07:00:00'), Timestamp('2000-09-01 08:00:00'), Timestamp('2000-09-01 09:00:00'), Timestamp('2000-09-01 10:00:00'), Timestamp('2000-09-01 11:00:00'), Timestamp('2000-09-01 12:00:00'), Timestamp('2000-09-01 13:00:00'), Timestamp('2000-09-01 14:00:00'), Timestamp('2000-09-01 15:00:00'), Timestamp('2000-09-01 16:00:00'), Timestamp('2000-09-01 17:00:00'), Timestamp('2000-09-01 19:00:00'), Timestamp('2000-09-01 20:00:00'), Timestamp('2000-09-01 21:00:00'), Timestamp('2000-09-01 22:00:00'), Timestamp('2000-09-01 23:00:00'), Timestamp('2000-10-01 00:00:00'), Timestamp('2000-10-01 01:00:00'), Timestamp('2000-10-01 02:00:00'), Timestamp('2000-10-01 03:00:00'), Timestamp('2000-10-01 04:00:00'), Timestamp('2000-10-01 05:00:00'), Timestamp('2000-10-01 07:00:00'), Timestamp('2000-10-01 08:00:00'), Timestamp('2000-10-01 09:00:00'), Timestamp('2000-10-01 10:00:00'), Timestamp('2000-10-01 11:00:00'), Timestamp('2000-10-01 12:00:00'), Timestamp('2000-10-01 13:00:00'), Timestamp('2000-10-01 14:00:00'), Timestamp('2000-10-01 15:00:00'), Timestamp('2000-10-01 16:00:00'), Timestamp('2000-10-01 17:00:00'), Timestamp('2000-10-01 19:00:00'), Timestamp('2000-10-01 20:00:00'), Timestamp('2000-10-01 21:00:00'), Timestamp('2000-10-01 22:00:00'), Timestamp('2000-10-01 23:00:00'), Timestamp('2000-11-01 00:00:00'), Timestamp('2000-11-01 01:00:00'), Timestamp('2000-11-01 02:00:00'), Timestamp('2000-11-01 03:00:00'), Timestamp('2000-11-01 04:00:00'), Timestamp('2000-11-01 05:00:00'), Timestamp('2000-11-01 07:00:00'), Timestamp('2000-11-01 08:00:00'), Timestamp('2000-11-01 09:00:00'), Timestamp('2000-11-01 10:00:00'), Timestamp('2000-11-01 11:00:00'), Timestamp('2000-11-01 12:00:00'), Timestamp('2000-11-01 13:00:00'), Timestamp('2000-11-01 14:00:00'), Timestamp('2000-11-01 15:00:00'), Timestamp('2000-11-01 16:00:00'), Timestamp('2000-11-01 17:00:00'), Timestamp('2000-11-01 19:00:00'), Timestamp('2000-11-01 20:00:00'), Timestamp('2000-11-01 21:00:00'), Timestamp('2000-11-01 22:00:00'), Timestamp('2000-11-01 23:00:00'), Timestamp('2000-12-01 00:00:00'), Timestamp('2000-12-01 01:00:00'), Timestamp('2000-12-01 02:00:00'), Timestamp('2000-12-01 03:00:00'), Timestamp('2000-12-01 04:00:00'), Timestamp('2000-12-01 05:00:00'), Timestamp('2000-12-01 07:00:00'), Timestamp('2000-12-01 08:00:00'), Timestamp('2000-12-01 09:00:00'), Timestamp('2000-12-01 10:00:00'), Timestamp('2000-12-01 11:00:00'), Timestamp('2000-12-01 12:00:00'), Timestamp('2000-12-01 13:00:00'), Timestamp('2000-12-01 14:00:00'), Timestamp('2000-12-01 15:00:00'), Timestamp('2000-12-01 16:00:00'), Timestamp('2000-12-01 17:00:00'), Timestamp('2000-12-01 19:00:00'), Timestamp('2000-12-01 20:00:00'), Timestamp('2000-12-01 21:00:00'), Timestamp('2000-12-01 22:00:00'), Timestamp('2000-12-01 23:00:00'), Timestamp('2001-01-01 00:00:00'), Timestamp('2001-01-01 01:00:00'), Timestamp('2001-01-01 02:00:00'), Timestamp('2001-01-01 03:00:00'), Timestamp('2001-01-01 04:00:00'), Timestamp('2001-01-01 05:00:00'), Timestamp('2001-01-01 07:00:00'), Timestamp('2001-01-01 08:00:00'), Timestamp('2001-01-01 09:00:00'), Timestamp('2001-01-01 10:00:00'), Timestamp('2001-01-01 11:00:00'), Timestamp('2001-01-01 12:00:00'), Timestamp('2001-01-01 13:00:00'), Timestamp('2001-01-01 14:00:00'), Timestamp('2001-01-01 15:00:00'), Timestamp('2001-01-01 16:00:00'), Timestamp('2001-01-01 17:00:00'), Timestamp('2001-01-01 19:00:00'), Timestamp('2001-01-01 20:00:00'), Timestamp('2001-01-01 21:00:00'), Timestamp('2001-01-01 22:00:00'), Timestamp('2001-01-01 23:00:00'), Timestamp('2001-02-01 00:00:00'), Timestamp('2001-02-01 01:00:00'), Timestamp('2001-02-01 02:00:00'), Timestamp('2001-02-01 03:00:00'), Timestamp('2001-02-01 04:00:00'), Timestamp('2001-02-01 05:00:00'), Timestamp('2001-02-01 07:00:00'), Timestamp('2001-02-01 08:00:00'), Timestamp('2001-02-01 09:00:00'), Timestamp('2001-02-01 10:00:00'), Timestamp('2001-02-01 11:00:00'), Timestamp('2001-02-01 12:00:00'), Timestamp('2001-02-01 13:00:00'), Timestamp('2001-02-01 14:00:00'), Timestamp('2001-02-01 15:00:00'), Timestamp('2001-02-01 16:00:00'), Timestamp('2001-02-01 17:00:00'), Timestamp('2001-02-01 19:00:00'), Timestamp('2001-02-01 20:00:00'), Timestamp('2001-02-01 21:00:00'), Timestamp('2001-02-01 22:00:00'), Timestamp('2001-02-01 23:00:00'), Timestamp('2001-03-01 00:00:00'), Timestamp('2001-03-01 01:00:00'), Timestamp('2001-03-01 02:00:00'), Timestamp('2001-03-01 03:00:00'), Timestamp('2001-03-01 04:00:00'), Timestamp('2001-03-01 05:00:00'), Timestamp('2001-03-01 07:00:00'), Timestamp('2001-03-01 08:00:00'), Timestamp('2001-03-01 09:00:00'), Timestamp('2001-03-01 10:00:00'), Timestamp('2001-03-01 11:00:00'), Timestamp('2001-03-01 12:00:00'), Timestamp('2001-03-01 13:00:00'), Timestamp('2001-03-01 14:00:00'), Timestamp('2001-03-01 15:00:00'), Timestamp('2001-03-01 16:00:00'), Timestamp('2001-03-01 17:00:00'), Timestamp('2001-03-01 19:00:00'), Timestamp('2001-03-01 20:00:00'), Timestamp('2001-03-01 21:00:00'), Timestamp('2001-03-01 22:00:00'), Timestamp('2001-03-01 23:00:00'), Timestamp('2001-04-01 00:00:00'), Timestamp('2001-04-01 01:00:00'), Timestamp('2001-04-01 02:00:00'), Timestamp('2001-04-01 03:00:00'), Timestamp('2001-04-01 04:00:00'), Timestamp('2001-04-01 05:00:00'), Timestamp('2001-04-01 07:00:00'), Timestamp('2001-04-01 08:00:00'), Timestamp('2001-04-01 09:00:00'), Timestamp('2001-04-01 10:00:00'), Timestamp('2001-04-01 11:00:00'), Timestamp('2001-04-01 12:00:00'), Timestamp('2001-04-01 13:00:00'), Timestamp('2001-04-01 14:00:00'), Timestamp('2001-04-01 15:00:00'), Timestamp('2001-04-01 16:00:00'), Timestamp('2001-04-01 17:00:00'), Timestamp('2001-04-01 19:00:00'), Timestamp('2001-04-01 20:00:00'), Timestamp('2001-04-01 21:00:00'), Timestamp('2001-04-01 22:00:00'), Timestamp('2001-04-01 23:00:00'), Timestamp('2001-05-01 00:00:00'), Timestamp('2001-05-01 01:00:00'), Timestamp('2001-05-01 02:00:00'), Timestamp('2001-05-01 03:00:00'), Timestamp('2001-05-01 04:00:00'), Timestamp('2001-05-01 05:00:00'), Timestamp('2001-05-01 07:00:00'), Timestamp('2001-05-01 08:00:00'), Timestamp('2001-05-01 09:00:00'), Timestamp('2001-05-01 10:00:00'), Timestamp('2001-05-01 11:00:00'), Timestamp('2001-05-01 12:00:00'), Timestamp('2001-05-01 13:00:00'), Timestamp('2001-05-01 14:00:00'), Timestamp('2001-05-01 15:00:00'), Timestamp('2001-05-01 16:00:00'), Timestamp('2001-05-01 17:00:00'), Timestamp('2001-05-01 19:00:00'), Timestamp('2001-05-01 20:00:00'), Timestamp('2001-05-01 21:00:00'), Timestamp('2001-05-01 22:00:00'), Timestamp('2001-05-01 23:00:00'), Timestamp('2001-06-01 00:00:00'), Timestamp('2001-06-01 01:00:00'), Timestamp('2001-06-01 02:00:00'), Timestamp('2001-06-01 03:00:00'), Timestamp('2001-06-01 04:00:00'), Timestamp('2001-06-01 05:00:00'), Timestamp('2001-06-01 07:00:00'), Timestamp('2001-06-01 08:00:00'), Timestamp('2001-06-01 09:00:00'), Timestamp('2001-06-01 10:00:00'), Timestamp('2001-06-01 11:00:00'), Timestamp('2001-06-01 12:00:00'), Timestamp('2001-06-01 13:00:00'), Timestamp('2001-06-01 14:00:00'), Timestamp('2001-06-01 15:00:00'), Timestamp('2001-06-01 16:00:00'), Timestamp('2001-06-01 17:00:00'), Timestamp('2001-06-01 19:00:00'), Timestamp('2001-06-01 20:00:00'), Timestamp('2001-06-01 21:00:00'), Timestamp('2001-06-01 22:00:00'), Timestamp('2001-06-01 23:00:00'), Timestamp('2001-07-01 00:00:00'), Timestamp('2001-07-01 01:00:00'), Timestamp('2001-07-01 02:00:00'), Timestamp('2001-07-01 03:00:00'), Timestamp('2001-07-01 04:00:00'), Timestamp('2001-07-01 05:00:00'), Timestamp('2001-07-01 07:00:00'), Timestamp('2001-07-01 08:00:00'), Timestamp('2001-07-01 09:00:00'), Timestamp('2001-07-01 10:00:00'), Timestamp('2001-07-01 11:00:00'), Timestamp('2001-07-01 12:00:00'), Timestamp('2001-07-01 13:00:00'), Timestamp('2001-07-01 14:00:00'), Timestamp('2001-07-01 15:00:00'), Timestamp('2001-07-01 16:00:00'), Timestamp('2001-07-01 17:00:00'), Timestamp('2001-07-01 19:00:00'), Timestamp('2001-07-01 20:00:00'), Timestamp('2001-07-01 21:00:00'), Timestamp('2001-07-01 22:00:00'), Timestamp('2001-07-01 23:00:00'), Timestamp('2001-08-01 00:00:00'), Timestamp('2001-08-01 01:00:00'), Timestamp('2001-08-01 02:00:00'), Timestamp('2001-08-01 03:00:00'), Timestamp('2001-08-01 04:00:00'), Timestamp('2001-08-01 05:00:00'), Timestamp('2001-08-01 07:00:00'), Timestamp('2001-08-01 08:00:00'), Timestamp('2001-08-01 09:00:00'), Timestamp('2001-08-01 10:00:00'), Timestamp('2001-08-01 11:00:00'), Timestamp('2001-08-01 12:00:00'), Timestamp('2001-08-01 13:00:00'), Timestamp('2001-08-01 14:00:00'), Timestamp('2001-08-01 15:00:00'), Timestamp('2001-08-01 16:00:00'), Timestamp('2001-08-01 17:00:00'), Timestamp('2001-08-01 19:00:00'), Timestamp('2001-08-01 20:00:00'), Timestamp('2001-08-01 21:00:00'), Timestamp('2001-08-01 22:00:00'), Timestamp('2001-08-01 23:00:00'), Timestamp('2001-09-01 00:00:00'), Timestamp('2001-09-01 01:00:00'), Timestamp('2001-09-01 02:00:00'), Timestamp('2001-09-01 03:00:00'), Timestamp('2001-09-01 04:00:00'), Timestamp('2001-09-01 05:00:00'), Timestamp('2001-09-01 07:00:00'), Timestamp('2001-09-01 08:00:00'), Timestamp('2001-09-01 09:00:00'), Timestamp('2001-09-01 10:00:00'), Timestamp('2001-09-01 11:00:00'), Timestamp('2001-09-01 12:00:00'), Timestamp('2001-09-01 13:00:00'), Timestamp('2001-09-01 14:00:00'), Timestamp('2001-09-01 15:00:00'), Timestamp('2001-09-01 16:00:00'), Timestamp('2001-09-01 17:00:00'), Timestamp('2001-09-01 19:00:00'), Timestamp('2001-09-01 20:00:00'), Timestamp('2001-09-01 21:00:00'), Timestamp('2001-09-01 22:00:00'), Timestamp('2001-09-01 23:00:00'), Timestamp('2001-10-01 00:00:00'), Timestamp('2001-10-01 01:00:00'), Timestamp('2001-10-01 02:00:00'), Timestamp('2001-10-01 03:00:00'), Timestamp('2001-10-01 04:00:00'), Timestamp('2001-10-01 05:00:00'), Timestamp('2001-10-01 07:00:00'), Timestamp('2001-10-01 08:00:00'), Timestamp('2001-10-01 09:00:00'), Timestamp('2001-10-01 10:00:00'), Timestamp('2001-10-01 11:00:00'), Timestamp('2001-10-01 12:00:00'), Timestamp('2001-10-01 13:00:00'), Timestamp('2001-10-01 14:00:00'), Timestamp('2001-10-01 15:00:00'), Timestamp('2001-10-01 16:00:00'), Timestamp('2001-10-01 17:00:00'), Timestamp('2001-10-01 19:00:00'), Timestamp('2001-10-01 20:00:00'), Timestamp('2001-10-01 21:00:00'), Timestamp('2001-10-01 22:00:00'), Timestamp('2001-10-01 23:00:00'), Timestamp('2001-11-01 00:00:00'), Timestamp('2001-11-01 01:00:00'), Timestamp('2001-11-01 02:00:00'), Timestamp('2001-11-01 03:00:00'), Timestamp('2001-11-01 04:00:00'), Timestamp('2001-11-01 05:00:00'), Timestamp('2001-11-01 07:00:00'), Timestamp('2001-11-01 08:00:00'), Timestamp('2001-11-01 09:00:00'), Timestamp('2001-11-01 10:00:00'), Timestamp('2001-11-01 11:00:00'), Timestamp('2001-11-01 12:00:00'), Timestamp('2001-11-01 13:00:00'), Timestamp('2001-11-01 14:00:00'), Timestamp('2001-11-01 15:00:00'), Timestamp('2001-11-01 16:00:00'), Timestamp('2001-11-01 17:00:00'), Timestamp('2001-11-01 19:00:00'), Timestamp('2001-11-01 20:00:00'), Timestamp('2001-11-01 21:00:00'), Timestamp('2001-11-01 22:00:00'), Timestamp('2001-11-01 23:00:00'), Timestamp('2001-12-01 00:00:00'), Timestamp('2001-12-01 01:00:00'), Timestamp('2001-12-01 02:00:00'), Timestamp('2001-12-01 03:00:00'), Timestamp('2001-12-01 04:00:00'), Timestamp('2001-12-01 05:00:00'), Timestamp('2001-12-01 07:00:00'), Timestamp('2001-12-01 08:00:00'), Timestamp('2001-12-01 09:00:00'), Timestamp('2001-12-01 10:00:00'), Timestamp('2001-12-01 11:00:00'), Timestamp('2001-12-01 12:00:00'), Timestamp('2001-12-01 13:00:00'), Timestamp('2001-12-01 14:00:00'), Timestamp('2001-12-01 15:00:00'), Timestamp('2001-12-01 16:00:00'), Timestamp('2001-12-01 17:00:00'), Timestamp('2001-12-01 19:00:00'), Timestamp('2001-12-01 20:00:00'), Timestamp('2001-12-01 21:00:00'), Timestamp('2001-12-01 22:00:00'), Timestamp('2001-12-01 23:00:00'), Timestamp('2002-01-01 00:00:00'), Timestamp('2002-01-01 01:00:00'), Timestamp('2002-01-01 02:00:00'), Timestamp('2002-01-01 03:00:00'), Timestamp('2002-01-01 04:00:00'), Timestamp('2002-01-01 05:00:00'), Timestamp('2002-01-01 07:00:00'), Timestamp('2002-01-01 08:00:00'), Timestamp('2002-01-01 09:00:00'), Timestamp('2002-01-01 10:00:00'), Timestamp('2002-01-01 11:00:00'), Timestamp('2002-01-01 12:00:00'), Timestamp('2002-01-01 13:00:00'), Timestamp('2002-01-01 14:00:00'), Timestamp('2002-01-01 15:00:00'), Timestamp('2002-01-01 16:00:00'), Timestamp('2002-01-01 17:00:00'), Timestamp('2002-01-01 19:00:00'), Timestamp('2002-01-01 20:00:00'), Timestamp('2002-01-01 21:00:00'), Timestamp('2002-01-01 22:00:00'), Timestamp('2002-01-01 23:00:00'), Timestamp('2002-02-01 00:00:00'), Timestamp('2002-02-01 01:00:00'), Timestamp('2002-02-01 02:00:00'), Timestamp('2002-02-01 03:00:00'), Timestamp('2002-02-01 04:00:00'), Timestamp('2002-02-01 05:00:00'), Timestamp('2002-02-01 07:00:00'), Timestamp('2002-02-01 08:00:00'), Timestamp('2002-02-01 09:00:00'), Timestamp('2002-02-01 10:00:00'), Timestamp('2002-02-01 11:00:00'), Timestamp('2002-02-01 12:00:00'), Timestamp('2002-02-01 13:00:00'), Timestamp('2002-02-01 14:00:00'), Timestamp('2002-02-01 15:00:00'), Timestamp('2002-02-01 16:00:00'), Timestamp('2002-02-01 17:00:00'), Timestamp('2002-02-01 19:00:00'), Timestamp('2002-02-01 20:00:00'), Timestamp('2002-02-01 21:00:00'), Timestamp('2002-02-01 22:00:00'), Timestamp('2002-02-01 23:00:00'), Timestamp('2002-03-01 00:00:00'), Timestamp('2002-03-01 01:00:00'), Timestamp('2002-03-01 02:00:00'), Timestamp('2002-03-01 03:00:00'), Timestamp('2002-03-01 04:00:00'), Timestamp('2002-03-01 05:00:00'), Timestamp('2002-03-01 07:00:00'), Timestamp('2002-03-01 08:00:00'), Timestamp('2002-03-01 09:00:00'), Timestamp('2002-03-01 10:00:00'), Timestamp('2002-03-01 11:00:00'), Timestamp('2002-03-01 12:00:00'), Timestamp('2002-03-01 13:00:00'), Timestamp('2002-03-01 14:00:00'), Timestamp('2002-03-01 15:00:00'), Timestamp('2002-03-01 16:00:00'), Timestamp('2002-03-01 17:00:00'), Timestamp('2002-03-01 19:00:00'), Timestamp('2002-03-01 20:00:00'), Timestamp('2002-03-01 21:00:00'), Timestamp('2002-03-01 22:00:00'), Timestamp('2002-03-01 23:00:00'), Timestamp('2002-04-01 00:00:00'), Timestamp('2002-04-01 01:00:00'), Timestamp('2002-04-01 02:00:00'), Timestamp('2002-04-01 03:00:00'), Timestamp('2002-04-01 04:00:00'), Timestamp('2002-04-01 05:00:00'), Timestamp('2002-04-01 07:00:00'), Timestamp('2002-04-01 08:00:00'), Timestamp('2002-04-01 09:00:00'), Timestamp('2002-04-01 10:00:00'), Timestamp('2002-04-01 11:00:00'), Timestamp('2002-04-01 12:00:00'), Timestamp('2002-04-01 13:00:00'), Timestamp('2002-04-01 14:00:00'), Timestamp('2002-04-01 15:00:00'), Timestamp('2002-04-01 16:00:00'), Timestamp('2002-04-01 17:00:00'), Timestamp('2002-04-01 19:00:00'), Timestamp('2002-04-01 20:00:00'), Timestamp('2002-04-01 21:00:00'), Timestamp('2002-04-01 22:00:00'), Timestamp('2002-04-01 23:00:00'), Timestamp('2002-05-01 00:00:00'), Timestamp('2002-05-01 01:00:00'), Timestamp('2002-05-01 02:00:00'), Timestamp('2002-05-01 03:00:00'), Timestamp('2002-05-01 04:00:00'), Timestamp('2002-05-01 05:00:00'), Timestamp('2002-05-01 07:00:00'), Timestamp('2002-05-01 08:00:00'), Timestamp('2002-05-01 09:00:00'), Timestamp('2002-05-01 10:00:00'), Timestamp('2002-05-01 11:00:00'), Timestamp('2002-05-01 12:00:00'), Timestamp('2002-05-01 13:00:00'), Timestamp('2002-05-01 14:00:00'), Timestamp('2002-05-01 15:00:00'), Timestamp('2002-05-01 16:00:00'), Timestamp('2002-05-01 17:00:00'), Timestamp('2002-05-01 19:00:00'), Timestamp('2002-05-01 20:00:00'), Timestamp('2002-05-01 21:00:00'), Timestamp('2002-05-01 22:00:00'), Timestamp('2002-05-01 23:00:00'), Timestamp('2002-06-01 00:00:00'), Timestamp('2002-06-01 01:00:00'), Timestamp('2002-06-01 02:00:00'), Timestamp('2002-06-01 03:00:00'), Timestamp('2002-06-01 04:00:00'), Timestamp('2002-06-01 05:00:00'), Timestamp('2002-06-01 07:00:00'), Timestamp('2002-06-01 08:00:00'), Timestamp('2002-06-01 09:00:00'), Timestamp('2002-06-01 10:00:00'), Timestamp('2002-06-01 11:00:00'), Timestamp('2002-06-01 12:00:00'), Timestamp('2002-06-01 13:00:00'), Timestamp('2002-06-01 14:00:00'), Timestamp('2002-06-01 15:00:00'), Timestamp('2002-06-01 16:00:00'), Timestamp('2002-06-01 17:00:00'), Timestamp('2002-06-01 19:00:00'), Timestamp('2002-06-01 20:00:00'), Timestamp('2002-06-01 21:00:00'), Timestamp('2002-06-01 22:00:00'), Timestamp('2002-06-01 23:00:00'), Timestamp('2002-07-01 00:00:00'), Timestamp('2002-07-01 01:00:00'), Timestamp('2002-07-01 02:00:00'), Timestamp('2002-07-01 03:00:00'), Timestamp('2002-07-01 04:00:00'), Timestamp('2002-07-01 05:00:00'), Timestamp('2002-07-01 07:00:00'), Timestamp('2002-07-01 08:00:00'), Timestamp('2002-07-01 09:00:00'), Timestamp('2002-07-01 10:00:00'), Timestamp('2002-07-01 11:00:00'), Timestamp('2002-07-01 12:00:00'), Timestamp('2002-07-01 13:00:00'), Timestamp('2002-07-01 14:00:00'), Timestamp('2002-07-01 15:00:00'), Timestamp('2002-07-01 16:00:00'), Timestamp('2002-07-01 17:00:00'), Timestamp('2002-07-01 19:00:00'), Timestamp('2002-07-01 20:00:00'), Timestamp('2002-07-01 21:00:00'), Timestamp('2002-07-01 22:00:00'), Timestamp('2002-07-01 23:00:00'), Timestamp('2002-08-01 00:00:00'), Timestamp('2002-08-01 01:00:00'), Timestamp('2002-08-01 02:00:00'), Timestamp('2002-08-01 03:00:00'), Timestamp('2002-08-01 04:00:00'), Timestamp('2002-08-01 05:00:00'), Timestamp('2002-08-01 07:00:00'), Timestamp('2002-08-01 08:00:00'), Timestamp('2002-08-01 09:00:00'), Timestamp('2002-08-01 10:00:00'), Timestamp('2002-08-01 11:00:00'), Timestamp('2002-08-01 12:00:00'), Timestamp('2002-08-01 13:00:00'), Timestamp('2002-08-01 14:00:00'), Timestamp('2002-08-01 15:00:00'), Timestamp('2002-08-01 16:00:00'), Timestamp('2002-08-01 17:00:00'), Timestamp('2002-08-01 19:00:00'), Timestamp('2002-08-01 20:00:00'), Timestamp('2002-08-01 21:00:00'), Timestamp('2002-08-01 22:00:00'), Timestamp('2002-08-01 23:00:00'), Timestamp('2002-09-01 00:00:00'), Timestamp('2002-09-01 01:00:00'), Timestamp('2002-09-01 02:00:00'), Timestamp('2002-09-01 03:00:00'), Timestamp('2002-09-01 04:00:00'), Timestamp('2002-09-01 05:00:00'), Timestamp('2002-09-01 07:00:00'), Timestamp('2002-09-01 08:00:00'), Timestamp('2002-09-01 09:00:00'), Timestamp('2002-09-01 10:00:00'), Timestamp('2002-09-01 11:00:00'), Timestamp('2002-09-01 12:00:00'), Timestamp('2002-09-01 13:00:00'), Timestamp('2002-09-01 14:00:00'), Timestamp('2002-09-01 15:00:00'), Timestamp('2002-09-01 16:00:00'), Timestamp('2002-09-01 17:00:00'), Timestamp('2002-09-01 19:00:00'), Timestamp('2002-09-01 20:00:00'), Timestamp('2002-09-01 21:00:00'), Timestamp('2002-09-01 22:00:00'), Timestamp('2002-09-01 23:00:00'), Timestamp('2002-10-01 00:00:00'), Timestamp('2002-10-01 01:00:00'), Timestamp('2002-10-01 02:00:00'), Timestamp('2002-10-01 03:00:00'), Timestamp('2002-10-01 04:00:00'), Timestamp('2002-10-01 05:00:00'), Timestamp('2002-10-01 07:00:00'), Timestamp('2002-10-01 08:00:00'), Timestamp('2002-10-01 09:00:00'), Timestamp('2002-10-01 10:00:00'), Timestamp('2002-10-01 11:00:00'), Timestamp('2002-10-01 12:00:00'), Timestamp('2002-10-01 13:00:00'), Timestamp('2002-10-01 14:00:00'), Timestamp('2002-10-01 15:00:00'), Timestamp('2002-10-01 16:00:00'), Timestamp('2002-10-01 17:00:00'), Timestamp('2002-10-01 19:00:00'), Timestamp('2002-10-01 20:00:00'), Timestamp('2002-10-01 21:00:00'), Timestamp('2002-10-01 22:00:00'), Timestamp('2002-10-01 23:00:00'), Timestamp('2002-11-01 00:00:00'), Timestamp('2002-11-01 01:00:00'), Timestamp('2002-11-01 02:00:00'), Timestamp('2002-11-01 03:00:00'), Timestamp('2002-11-01 04:00:00'), Timestamp('2002-11-01 05:00:00'), Timestamp('2002-11-01 07:00:00'), Timestamp('2002-11-01 08:00:00'), Timestamp('2002-11-01 09:00:00'), Timestamp('2002-11-01 10:00:00'), Timestamp('2002-11-01 11:00:00'), Timestamp('2002-11-01 12:00:00'), Timestamp('2002-11-01 13:00:00'), Timestamp('2002-11-01 14:00:00'), Timestamp('2002-11-01 15:00:00'), Timestamp('2002-11-01 16:00:00'), Timestamp('2002-11-01 17:00:00'), Timestamp('2002-11-01 19:00:00'), Timestamp('2002-11-01 20:00:00'), Timestamp('2002-11-01 21:00:00'), Timestamp('2002-11-01 22:00:00'), Timestamp('2002-11-01 23:00:00'), Timestamp('2002-12-01 00:00:00'), Timestamp('2002-12-01 01:00:00'), Timestamp('2002-12-01 02:00:00'), Timestamp('2002-12-01 03:00:00'), Timestamp('2002-12-01 04:00:00'), Timestamp('2002-12-01 05:00:00'), Timestamp('2002-12-01 07:00:00'), Timestamp('2002-12-01 08:00:00'), Timestamp('2002-12-01 09:00:00'), Timestamp('2002-12-01 10:00:00'), Timestamp('2002-12-01 11:00:00'), Timestamp('2002-12-01 12:00:00'), Timestamp('2002-12-01 13:00:00'), Timestamp('2002-12-01 14:00:00'), Timestamp('2002-12-01 15:00:00'), Timestamp('2002-12-01 16:00:00'), Timestamp('2002-12-01 17:00:00'), Timestamp('2002-12-01 19:00:00'), Timestamp('2002-12-01 20:00:00'), Timestamp('2002-12-01 21:00:00'), Timestamp('2002-12-01 22:00:00'), Timestamp('2002-12-01 23:00:00'), Timestamp('2003-01-01 00:00:00'), Timestamp('2003-01-01 01:00:00'), Timestamp('2003-01-01 02:00:00'), Timestamp('2003-01-01 03:00:00'), Timestamp('2003-01-01 04:00:00'), Timestamp('2003-01-01 05:00:00'), Timestamp('2003-01-01 07:00:00'), Timestamp('2003-01-01 08:00:00'), Timestamp('2003-01-01 09:00:00'), Timestamp('2003-01-01 10:00:00'), Timestamp('2003-01-01 11:00:00'), Timestamp('2003-01-01 12:00:00'), Timestamp('2003-01-01 13:00:00'), Timestamp('2003-01-01 14:00:00'), Timestamp('2003-01-01 15:00:00'), Timestamp('2003-01-01 16:00:00'), Timestamp('2003-01-01 17:00:00'), Timestamp('2003-01-01 19:00:00'), Timestamp('2003-01-01 20:00:00'), Timestamp('2003-01-01 21:00:00'), Timestamp('2003-01-01 22:00:00'), Timestamp('2003-01-01 23:00:00'), Timestamp('2003-02-01 00:00:00'), Timestamp('2003-02-01 01:00:00'), Timestamp('2003-02-01 02:00:00'), Timestamp('2003-02-01 03:00:00'), Timestamp('2003-02-01 04:00:00'), Timestamp('2003-02-01 05:00:00'), Timestamp('2003-02-01 07:00:00'), Timestamp('2003-02-01 08:00:00'), Timestamp('2003-02-01 09:00:00'), Timestamp('2003-02-01 10:00:00'), Timestamp('2003-02-01 11:00:00'), Timestamp('2003-02-01 12:00:00'), Timestamp('2003-02-01 13:00:00'), Timestamp('2003-02-01 14:00:00'), Timestamp('2003-02-01 15:00:00'), Timestamp('2003-02-01 16:00:00'), Timestamp('2003-02-01 17:00:00'), Timestamp('2003-02-01 19:00:00'), Timestamp('2003-02-01 20:00:00'), Timestamp('2003-02-01 21:00:00'), Timestamp('2003-02-01 22:00:00'), Timestamp('2003-02-01 23:00:00'), Timestamp('2003-03-01 00:00:00'), Timestamp('2003-03-01 01:00:00'), Timestamp('2003-03-01 02:00:00'), Timestamp('2003-03-01 03:00:00'), Timestamp('2003-03-01 04:00:00'), Timestamp('2003-03-01 05:00:00'), Timestamp('2003-03-01 07:00:00'), Timestamp('2003-03-01 08:00:00'), Timestamp('2003-03-01 09:00:00'), Timestamp('2003-03-01 10:00:00'), Timestamp('2003-03-01 11:00:00'), Timestamp('2003-03-01 12:00:00'), Timestamp('2003-03-01 13:00:00'), Timestamp('2003-03-01 14:00:00'), Timestamp('2003-03-01 15:00:00'), Timestamp('2003-03-01 16:00:00'), Timestamp('2003-03-01 17:00:00'), Timestamp('2003-03-01 19:00:00'), Timestamp('2003-03-01 20:00:00'), Timestamp('2003-03-01 21:00:00'), Timestamp('2003-03-01 22:00:00'), Timestamp('2003-03-01 23:00:00'), Timestamp('2003-04-01 00:00:00'), Timestamp('2003-04-01 01:00:00'), Timestamp('2003-04-01 02:00:00'), Timestamp('2003-04-01 03:00:00'), Timestamp('2003-04-01 04:00:00'), Timestamp('2003-04-01 05:00:00'), Timestamp('2003-04-01 07:00:00'), Timestamp('2003-04-01 08:00:00'), Timestamp('2003-04-01 09:00:00'), Timestamp('2003-04-01 10:00:00'), Timestamp('2003-04-01 11:00:00'), Timestamp('2003-04-01 12:00:00'), Timestamp('2003-04-01 13:00:00'), Timestamp('2003-04-01 14:00:00'), Timestamp('2003-04-01 15:00:00'), Timestamp('2003-04-01 16:00:00'), Timestamp('2003-04-01 17:00:00'), Timestamp('2003-04-01 19:00:00'), Timestamp('2003-04-01 20:00:00'), Timestamp('2003-04-01 21:00:00'), Timestamp('2003-04-01 22:00:00'), Timestamp('2003-04-01 23:00:00'), Timestamp('2003-05-01 00:00:00'), Timestamp('2003-05-01 01:00:00'), Timestamp('2003-05-01 02:00:00'), Timestamp('2003-05-01 03:00:00'), Timestamp('2003-05-01 04:00:00'), Timestamp('2003-05-01 05:00:00'), Timestamp('2003-05-01 07:00:00'), Timestamp('2003-05-01 08:00:00'), Timestamp('2003-05-01 09:00:00'), Timestamp('2003-05-01 10:00:00'), Timestamp('2003-05-01 11:00:00'), Timestamp('2003-05-01 12:00:00'), Timestamp('2003-05-01 13:00:00'), Timestamp('2003-05-01 14:00:00'), Timestamp('2003-05-01 15:00:00'), Timestamp('2003-05-01 16:00:00'), Timestamp('2003-05-01 17:00:00'), Timestamp('2003-05-01 19:00:00'), Timestamp('2003-05-01 20:00:00'), Timestamp('2003-05-01 21:00:00'), Timestamp('2003-05-01 22:00:00'), Timestamp('2003-05-01 23:00:00'), Timestamp('2003-06-01 00:00:00'), Timestamp('2003-06-01 01:00:00'), Timestamp('2003-06-01 02:00:00'), Timestamp('2003-06-01 03:00:00'), Timestamp('2003-06-01 04:00:00'), Timestamp('2003-06-01 05:00:00'), Timestamp('2003-06-01 07:00:00'), Timestamp('2003-06-01 08:00:00'), Timestamp('2003-06-01 09:00:00'), Timestamp('2003-06-01 10:00:00'), Timestamp('2003-06-01 11:00:00'), Timestamp('2003-06-01 12:00:00'), Timestamp('2003-06-01 13:00:00'), Timestamp('2003-06-01 14:00:00'), Timestamp('2003-06-01 15:00:00'), Timestamp('2003-06-01 16:00:00'), Timestamp('2003-06-01 17:00:00'), Timestamp('2003-06-01 19:00:00'), Timestamp('2003-06-01 20:00:00'), Timestamp('2003-06-01 21:00:00'), Timestamp('2003-06-01 22:00:00'), Timestamp('2003-06-01 23:00:00'), Timestamp('2003-07-01 00:00:00'), Timestamp('2003-07-01 01:00:00'), Timestamp('2003-07-01 02:00:00'), Timestamp('2003-07-01 03:00:00'), Timestamp('2003-07-01 04:00:00'), Timestamp('2003-07-01 05:00:00'), Timestamp('2003-07-01 07:00:00'), Timestamp('2003-07-01 08:00:00'), Timestamp('2003-07-01 09:00:00'), Timestamp('2003-07-01 10:00:00'), Timestamp('2003-07-01 11:00:00'), Timestamp('2003-07-01 12:00:00'), Timestamp('2003-07-01 13:00:00'), Timestamp('2003-07-01 14:00:00'), Timestamp('2003-07-01 15:00:00'), Timestamp('2003-07-01 16:00:00'), Timestamp('2003-07-01 17:00:00'), Timestamp('2003-07-01 19:00:00'), Timestamp('2003-07-01 20:00:00'), Timestamp('2003-07-01 21:00:00'), Timestamp('2003-07-01 22:00:00'), Timestamp('2003-07-01 23:00:00'), Timestamp('2003-08-01 00:00:00'), Timestamp('2003-08-01 01:00:00'), Timestamp('2003-08-01 02:00:00'), Timestamp('2003-08-01 03:00:00'), Timestamp('2003-08-01 04:00:00'), Timestamp('2003-08-01 05:00:00'), Timestamp('2003-08-01 07:00:00'), Timestamp('2003-08-01 08:00:00'), Timestamp('2003-08-01 09:00:00'), Timestamp('2003-08-01 10:00:00'), Timestamp('2003-08-01 11:00:00'), Timestamp('2003-08-01 12:00:00'), Timestamp('2003-08-01 13:00:00'), Timestamp('2003-08-01 14:00:00'), Timestamp('2003-08-01 15:00:00'), Timestamp('2003-08-01 16:00:00'), Timestamp('2003-08-01 17:00:00'), Timestamp('2003-08-01 19:00:00'), Timestamp('2003-08-01 20:00:00'), Timestamp('2003-08-01 21:00:00'), Timestamp('2003-08-01 22:00:00'), Timestamp('2003-08-01 23:00:00'), Timestamp('2003-09-01 00:00:00'), Timestamp('2003-09-01 01:00:00'), Timestamp('2003-09-01 02:00:00'), Timestamp('2003-09-01 03:00:00'), Timestamp('2003-09-01 04:00:00'), Timestamp('2003-09-01 05:00:00'), Timestamp('2003-09-01 07:00:00'), Timestamp('2003-09-01 08:00:00'), Timestamp('2003-09-01 09:00:00'), Timestamp('2003-09-01 10:00:00'), Timestamp('2003-09-01 11:00:00'), Timestamp('2003-09-01 12:00:00'), Timestamp('2003-09-01 13:00:00'), Timestamp('2003-09-01 14:00:00'), Timestamp('2003-09-01 15:00:00'), Timestamp('2003-09-01 16:00:00'), Timestamp('2003-09-01 17:00:00'), Timestamp('2003-09-01 19:00:00'), Timestamp('2003-09-01 20:00:00'), Timestamp('2003-09-01 21:00:00'), Timestamp('2003-09-01 22:00:00'), Timestamp('2003-09-01 23:00:00'), Timestamp('2003-10-01 00:00:00'), Timestamp('2003-10-01 01:00:00'), Timestamp('2003-10-01 02:00:00'), Timestamp('2003-10-01 03:00:00'), Timestamp('2003-10-01 04:00:00'), Timestamp('2003-10-01 05:00:00'), Timestamp('2003-10-01 07:00:00'), Timestamp('2003-10-01 08:00:00'), Timestamp('2003-10-01 09:00:00'), Timestamp('2003-10-01 10:00:00'), Timestamp('2003-10-01 11:00:00'), Timestamp('2003-10-01 12:00:00'), Timestamp('2003-10-01 13:00:00'), Timestamp('2003-10-01 14:00:00'), Timestamp('2003-10-01 15:00:00'), Timestamp('2003-10-01 16:00:00'), Timestamp('2003-10-01 17:00:00'), Timestamp('2003-10-01 19:00:00'), Timestamp('2003-10-01 20:00:00'), Timestamp('2003-10-01 21:00:00'), Timestamp('2003-10-01 22:00:00'), Timestamp('2003-10-01 23:00:00'), Timestamp('2003-11-01 00:00:00'), Timestamp('2003-11-01 01:00:00'), Timestamp('2003-11-01 02:00:00'), Timestamp('2003-11-01 03:00:00'), Timestamp('2003-11-01 04:00:00'), Timestamp('2003-11-01 05:00:00'), Timestamp('2003-11-01 07:00:00'), Timestamp('2003-11-01 08:00:00'), Timestamp('2003-11-01 09:00:00'), Timestamp('2003-11-01 10:00:00'), Timestamp('2003-11-01 11:00:00'), Timestamp('2003-11-01 12:00:00'), Timestamp('2003-11-01 13:00:00'), Timestamp('2003-11-01 14:00:00'), Timestamp('2003-11-01 15:00:00'), Timestamp('2003-11-01 16:00:00'), Timestamp('2003-11-01 17:00:00'), Timestamp('2003-11-01 19:00:00'), Timestamp('2003-11-01 20:00:00'), Timestamp('2003-11-01 21:00:00'), Timestamp('2003-11-01 22:00:00'), Timestamp('2003-11-01 23:00:00'), Timestamp('2003-12-01 00:00:00'), Timestamp('2003-12-01 01:00:00'), Timestamp('2003-12-01 02:00:00'), Timestamp('2003-12-01 03:00:00'), Timestamp('2003-12-01 04:00:00'), Timestamp('2003-12-01 05:00:00'), Timestamp('2003-12-01 07:00:00'), Timestamp('2003-12-01 08:00:00'), Timestamp('2003-12-01 09:00:00'), Timestamp('2003-12-01 10:00:00'), Timestamp('2003-12-01 11:00:00'), Timestamp('2003-12-01 12:00:00'), Timestamp('2003-12-01 13:00:00'), Timestamp('2003-12-01 14:00:00'), Timestamp('2003-12-01 15:00:00'), Timestamp('2003-12-01 16:00:00'), Timestamp('2003-12-01 17:00:00'), Timestamp('2003-12-01 19:00:00'), Timestamp('2003-12-01 20:00:00'), Timestamp('2003-12-01 21:00:00'), Timestamp('2003-12-01 22:00:00'), Timestamp('2003-12-01 23:00:00'), Timestamp('2004-01-01 00:00:00'), Timestamp('2004-01-01 01:00:00'), Timestamp('2004-01-01 02:00:00'), Timestamp('2004-01-01 03:00:00'), Timestamp('2004-01-01 04:00:00'), Timestamp('2004-01-01 05:00:00'), Timestamp('2004-01-01 07:00:00'), Timestamp('2004-01-01 08:00:00'), Timestamp('2004-01-01 09:00:00'), Timestamp('2004-01-01 10:00:00'), Timestamp('2004-01-01 11:00:00'), Timestamp('2004-01-01 12:00:00'), Timestamp('2004-01-01 13:00:00'), Timestamp('2004-01-01 14:00:00'), Timestamp('2004-01-01 15:00:00'), Timestamp('2004-01-01 16:00:00'), Timestamp('2004-01-01 17:00:00'), Timestamp('2004-01-01 19:00:00'), Timestamp('2004-01-01 20:00:00'), Timestamp('2004-01-01 21:00:00'), Timestamp('2004-01-01 22:00:00'), Timestamp('2004-01-01 23:00:00'), Timestamp('2004-02-01 00:00:00'), Timestamp('2004-02-01 01:00:00'), Timestamp('2004-02-01 02:00:00'), Timestamp('2004-02-01 03:00:00'), Timestamp('2004-02-01 04:00:00'), Timestamp('2004-02-01 05:00:00'), Timestamp('2004-02-01 07:00:00'), Timestamp('2004-02-01 08:00:00'), Timestamp('2004-02-01 09:00:00'), Timestamp('2004-02-01 10:00:00'), Timestamp('2004-02-01 11:00:00'), Timestamp('2004-02-01 12:00:00'), Timestamp('2004-02-01 13:00:00'), Timestamp('2004-02-01 14:00:00'), Timestamp('2004-02-01 15:00:00'), Timestamp('2004-02-01 16:00:00'), Timestamp('2004-02-01 17:00:00'), Timestamp('2004-02-01 19:00:00'), Timestamp('2004-02-01 20:00:00'), Timestamp('2004-02-01 21:00:00'), Timestamp('2004-02-01 22:00:00'), Timestamp('2004-02-01 23:00:00'), Timestamp('2004-03-01 00:00:00'), Timestamp('2004-03-01 01:00:00'), Timestamp('2004-03-01 02:00:00'), Timestamp('2004-03-01 03:00:00'), Timestamp('2004-03-01 04:00:00'), Timestamp('2004-03-01 05:00:00'), Timestamp('2004-03-01 07:00:00'), Timestamp('2004-03-01 08:00:00'), Timestamp('2004-03-01 09:00:00'), Timestamp('2004-03-01 10:00:00'), Timestamp('2004-03-01 11:00:00'), Timestamp('2004-03-01 12:00:00'), Timestamp('2004-03-01 13:00:00'), Timestamp('2004-03-01 14:00:00'), Timestamp('2004-03-01 15:00:00'), Timestamp('2004-03-01 16:00:00'), Timestamp('2004-03-01 17:00:00'), Timestamp('2004-03-01 19:00:00'), Timestamp('2004-03-01 20:00:00'), Timestamp('2004-03-01 21:00:00'), Timestamp('2004-03-01 22:00:00'), Timestamp('2004-03-01 23:00:00'), Timestamp('2004-04-01 00:00:00'), Timestamp('2004-04-01 01:00:00'), Timestamp('2004-04-01 02:00:00'), Timestamp('2004-04-01 03:00:00'), Timestamp('2004-04-01 04:00:00'), Timestamp('2004-04-01 05:00:00'), Timestamp('2004-04-01 07:00:00'), Timestamp('2004-04-01 08:00:00'), Timestamp('2004-04-01 09:00:00'), Timestamp('2004-04-01 10:00:00'), Timestamp('2004-04-01 11:00:00'), Timestamp('2004-04-01 12:00:00'), Timestamp('2004-04-01 13:00:00'), Timestamp('2004-04-01 14:00:00'), Timestamp('2004-04-01 15:00:00'), Timestamp('2004-04-01 16:00:00'), Timestamp('2004-04-01 17:00:00'), Timestamp('2004-04-01 19:00:00'), Timestamp('2004-04-01 20:00:00'), Timestamp('2004-04-01 21:00:00'), Timestamp('2004-04-01 22:00:00'), Timestamp('2004-04-01 23:00:00'), Timestamp('2004-05-01 00:00:00'), Timestamp('2004-05-01 01:00:00'), Timestamp('2004-05-01 02:00:00'), Timestamp('2004-05-01 03:00:00'), Timestamp('2004-05-01 04:00:00'), Timestamp('2004-05-01 05:00:00'), Timestamp('2004-05-01 07:00:00'), Timestamp('2004-05-01 08:00:00'), Timestamp('2004-05-01 09:00:00'), Timestamp('2004-05-01 10:00:00'), Timestamp('2004-05-01 11:00:00'), Timestamp('2004-05-01 12:00:00'), Timestamp('2004-05-01 13:00:00'), Timestamp('2004-05-01 14:00:00'), Timestamp('2004-05-01 15:00:00'), Timestamp('2004-05-01 16:00:00'), Timestamp('2004-05-01 17:00:00'), Timestamp('2004-05-01 19:00:00'), Timestamp('2004-05-01 20:00:00'), Timestamp('2004-05-01 21:00:00'), Timestamp('2004-05-01 22:00:00'), Timestamp('2004-05-01 23:00:00'), Timestamp('2004-06-01 00:00:00'), Timestamp('2004-06-01 01:00:00'), Timestamp('2004-06-01 02:00:00'), Timestamp('2004-06-01 03:00:00'), Timestamp('2004-06-01 04:00:00'), Timestamp('2004-06-01 05:00:00'), Timestamp('2004-06-01 07:00:00'), Timestamp('2004-06-01 08:00:00'), Timestamp('2004-06-01 09:00:00'), Timestamp('2004-06-01 10:00:00'), Timestamp('2004-06-01 11:00:00'), Timestamp('2004-06-01 12:00:00'), Timestamp('2004-06-01 13:00:00'), Timestamp('2004-06-01 14:00:00'), Timestamp('2004-06-01 15:00:00'), Timestamp('2004-06-01 16:00:00'), Timestamp('2004-06-01 17:00:00'), Timestamp('2004-06-01 19:00:00'), Timestamp('2004-06-01 20:00:00'), Timestamp('2004-06-01 21:00:00'), Timestamp('2004-06-01 22:00:00'), Timestamp('2004-06-01 23:00:00'), Timestamp('2004-07-01 00:00:00'), Timestamp('2004-07-01 01:00:00'), Timestamp('2004-07-01 02:00:00'), Timestamp('2004-07-01 03:00:00'), Timestamp('2004-07-01 04:00:00'), Timestamp('2004-07-01 05:00:00'), Timestamp('2004-07-01 07:00:00'), Timestamp('2004-07-01 08:00:00'), Timestamp('2004-07-01 09:00:00'), Timestamp('2004-07-01 10:00:00'), Timestamp('2004-07-01 11:00:00'), Timestamp('2004-07-01 12:00:00'), Timestamp('2004-07-01 13:00:00'), Timestamp('2004-07-01 14:00:00'), Timestamp('2004-07-01 15:00:00'), Timestamp('2004-07-01 16:00:00'), Timestamp('2004-07-01 17:00:00'), Timestamp('2004-07-01 19:00:00'), Timestamp('2004-07-01 20:00:00'), Timestamp('2004-07-01 21:00:00'), Timestamp('2004-07-01 22:00:00'), Timestamp('2004-07-01 23:00:00'), Timestamp('2004-08-01 00:00:00'), Timestamp('2004-08-01 01:00:00'), Timestamp('2004-08-01 02:00:00'), Timestamp('2004-08-01 03:00:00'), Timestamp('2004-08-01 04:00:00'), Timestamp('2004-08-01 05:00:00'), Timestamp('2004-08-01 07:00:00'), Timestamp('2004-08-01 08:00:00'), Timestamp('2004-08-01 09:00:00'), Timestamp('2004-08-01 10:00:00'), Timestamp('2004-08-01 11:00:00'), Timestamp('2004-08-01 12:00:00'), Timestamp('2004-08-01 13:00:00'), Timestamp('2004-08-01 14:00:00'), Timestamp('2004-08-01 15:00:00'), Timestamp('2004-08-01 16:00:00'), Timestamp('2004-08-01 17:00:00'), Timestamp('2004-08-01 19:00:00'), Timestamp('2004-08-01 20:00:00'), Timestamp('2004-08-01 21:00:00'), Timestamp('2004-08-01 22:00:00'), Timestamp('2004-08-01 23:00:00'), Timestamp('2004-09-01 00:00:00'), Timestamp('2004-09-01 01:00:00'), Timestamp('2004-09-01 02:00:00'), Timestamp('2004-09-01 03:00:00'), Timestamp('2004-09-01 04:00:00'), Timestamp('2004-09-01 05:00:00'), Timestamp('2004-09-01 07:00:00'), Timestamp('2004-09-01 08:00:00'), Timestamp('2004-09-01 09:00:00'), Timestamp('2004-09-01 10:00:00'), Timestamp('2004-09-01 11:00:00'), Timestamp('2004-09-01 12:00:00'), Timestamp('2004-09-01 13:00:00'), Timestamp('2004-09-01 14:00:00'), Timestamp('2004-09-01 15:00:00'), Timestamp('2004-09-01 16:00:00'), Timestamp('2004-09-01 17:00:00'), Timestamp('2004-09-01 19:00:00'), Timestamp('2004-09-01 20:00:00'), Timestamp('2004-09-01 21:00:00'), Timestamp('2004-09-01 22:00:00'), Timestamp('2004-09-01 23:00:00'), Timestamp('2004-10-01 00:00:00'), Timestamp('2004-10-01 01:00:00'), Timestamp('2004-10-01 02:00:00'), Timestamp('2004-10-01 03:00:00'), Timestamp('2004-10-01 04:00:00'), Timestamp('2004-10-01 05:00:00'), Timestamp('2004-10-01 07:00:00'), Timestamp('2004-10-01 08:00:00'), Timestamp('2004-10-01 09:00:00'), Timestamp('2004-10-01 10:00:00'), Timestamp('2004-10-01 11:00:00'), Timestamp('2004-10-01 12:00:00'), Timestamp('2004-10-01 13:00:00'), Timestamp('2004-10-01 14:00:00'), Timestamp('2004-10-01 15:00:00'), Timestamp('2004-10-01 16:00:00'), Timestamp('2004-10-01 17:00:00'), Timestamp('2004-10-01 19:00:00'), Timestamp('2004-10-01 20:00:00'), Timestamp('2004-10-01 21:00:00'), Timestamp('2004-10-01 22:00:00'), Timestamp('2004-10-01 23:00:00'), Timestamp('2004-11-01 00:00:00'), Timestamp('2004-11-01 01:00:00'), Timestamp('2004-11-01 02:00:00'), Timestamp('2004-11-01 03:00:00'), Timestamp('2004-11-01 04:00:00'), Timestamp('2004-11-01 05:00:00'), Timestamp('2004-11-01 07:00:00'), Timestamp('2004-11-01 08:00:00'), Timestamp('2004-11-01 09:00:00'), Timestamp('2004-11-01 10:00:00'), Timestamp('2004-11-01 11:00:00'), Timestamp('2004-11-01 12:00:00'), Timestamp('2004-11-01 13:00:00'), Timestamp('2004-11-01 14:00:00'), Timestamp('2004-11-01 15:00:00'), Timestamp('2004-11-01 16:00:00'), Timestamp('2004-11-01 17:00:00'), Timestamp('2004-11-01 19:00:00'), Timestamp('2004-11-01 20:00:00'), Timestamp('2004-11-01 21:00:00'), Timestamp('2004-11-01 22:00:00'), Timestamp('2004-11-01 23:00:00'), Timestamp('2004-12-01 00:00:00'), Timestamp('2004-12-01 01:00:00'), Timestamp('2004-12-01 02:00:00'), Timestamp('2004-12-01 03:00:00'), Timestamp('2004-12-01 04:00:00'), Timestamp('2004-12-01 05:00:00'), Timestamp('2004-12-01 07:00:00'), Timestamp('2004-12-01 08:00:00'), Timestamp('2004-12-01 09:00:00'), Timestamp('2004-12-01 10:00:00'), Timestamp('2004-12-01 11:00:00'), Timestamp('2004-12-01 12:00:00'), Timestamp('2004-12-01 13:00:00'), Timestamp('2004-12-01 14:00:00'), Timestamp('2004-12-01 15:00:00'), Timestamp('2004-12-01 16:00:00'), Timestamp('2004-12-01 17:00:00'), Timestamp('2004-12-01 19:00:00'), Timestamp('2004-12-01 20:00:00'), Timestamp('2004-12-01 21:00:00'), Timestamp('2004-12-01 22:00:00'), Timestamp('2004-12-01 23:00:00'), Timestamp('2005-01-01 00:00:00'), Timestamp('2005-01-01 01:00:00'), Timestamp('2005-01-01 02:00:00'), Timestamp('2005-01-01 03:00:00'), Timestamp('2005-01-01 04:00:00'), Timestamp('2005-01-01 05:00:00'), Timestamp('2005-01-01 07:00:00'), Timestamp('2005-01-01 08:00:00'), Timestamp('2005-01-01 09:00:00'), Timestamp('2005-01-01 10:00:00'), Timestamp('2005-01-01 11:00:00'), Timestamp('2005-01-01 12:00:00'), Timestamp('2005-01-01 13:00:00'), Timestamp('2005-01-01 14:00:00'), Timestamp('2005-01-01 15:00:00'), Timestamp('2005-01-01 16:00:00'), Timestamp('2005-01-01 17:00:00'), Timestamp('2005-01-01 19:00:00'), Timestamp('2005-01-01 20:00:00'), Timestamp('2005-01-01 21:00:00'), Timestamp('2005-01-01 22:00:00'), Timestamp('2005-01-01 23:00:00'), Timestamp('2005-02-01 00:00:00'), Timestamp('2005-02-01 01:00:00'), Timestamp('2005-02-01 02:00:00'), Timestamp('2005-02-01 03:00:00'), Timestamp('2005-02-01 04:00:00'), Timestamp('2005-02-01 05:00:00'), Timestamp('2005-02-01 07:00:00'), Timestamp('2005-02-01 08:00:00'), Timestamp('2005-02-01 09:00:00'), Timestamp('2005-02-01 10:00:00'), Timestamp('2005-02-01 11:00:00'), Timestamp('2005-02-01 12:00:00'), Timestamp('2005-02-01 13:00:00'), Timestamp('2005-02-01 14:00:00'), Timestamp('2005-02-01 15:00:00'), Timestamp('2005-02-01 16:00:00'), Timestamp('2005-02-01 17:00:00'), Timestamp('2005-02-01 19:00:00'), Timestamp('2005-02-01 20:00:00'), Timestamp('2005-02-01 21:00:00'), Timestamp('2005-02-01 22:00:00'), Timestamp('2005-02-01 23:00:00'), Timestamp('2005-03-01 00:00:00'), Timestamp('2005-03-01 01:00:00'), Timestamp('2005-03-01 02:00:00'), Timestamp('2005-03-01 03:00:00'), Timestamp('2005-03-01 04:00:00'), Timestamp('2005-03-01 05:00:00'), Timestamp('2005-03-01 07:00:00'), Timestamp('2005-03-01 08:00:00'), Timestamp('2005-03-01 09:00:00'), Timestamp('2005-03-01 10:00:00'), Timestamp('2005-03-01 11:00:00'), Timestamp('2005-03-01 12:00:00'), Timestamp('2005-03-01 13:00:00'), Timestamp('2005-03-01 14:00:00'), Timestamp('2005-03-01 15:00:00'), Timestamp('2005-03-01 16:00:00'), Timestamp('2005-03-01 17:00:00'), Timestamp('2005-03-01 19:00:00'), Timestamp('2005-03-01 20:00:00'), Timestamp('2005-03-01 21:00:00'), Timestamp('2005-03-01 22:00:00'), Timestamp('2005-03-01 23:00:00'), Timestamp('2005-04-01 00:00:00'), Timestamp('2005-04-01 01:00:00'), Timestamp('2005-04-01 02:00:00'), Timestamp('2005-04-01 03:00:00'), Timestamp('2005-04-01 04:00:00'), Timestamp('2005-04-01 05:00:00'), Timestamp('2005-04-01 07:00:00'), Timestamp('2005-04-01 08:00:00'), Timestamp('2005-04-01 09:00:00'), Timestamp('2005-04-01 10:00:00'), Timestamp('2005-04-01 11:00:00'), Timestamp('2005-04-01 12:00:00'), Timestamp('2005-04-01 13:00:00'), Timestamp('2005-04-01 14:00:00'), Timestamp('2005-04-01 15:00:00'), Timestamp('2005-04-01 16:00:00'), Timestamp('2005-04-01 17:00:00'), Timestamp('2005-04-01 19:00:00'), Timestamp('2005-04-01 20:00:00'), Timestamp('2005-04-01 21:00:00'), Timestamp('2005-04-01 22:00:00'), Timestamp('2005-04-01 23:00:00'), Timestamp('2005-05-01 00:00:00'), Timestamp('2005-05-01 01:00:00'), Timestamp('2005-05-01 02:00:00'), Timestamp('2005-05-01 03:00:00'), Timestamp('2005-05-01 04:00:00'), Timestamp('2005-05-01 05:00:00'), Timestamp('2005-05-01 07:00:00'), Timestamp('2005-05-01 08:00:00'), Timestamp('2005-05-01 09:00:00'), Timestamp('2005-05-01 10:00:00'), Timestamp('2005-05-01 11:00:00'), Timestamp('2005-05-01 12:00:00'), Timestamp('2005-05-01 13:00:00'), Timestamp('2005-05-01 14:00:00'), Timestamp('2005-05-01 15:00:00'), Timestamp('2005-05-01 16:00:00'), Timestamp('2005-05-01 17:00:00'), Timestamp('2005-05-01 19:00:00'), Timestamp('2005-05-01 20:00:00'), Timestamp('2005-05-01 21:00:00'), Timestamp('2005-05-01 22:00:00'), Timestamp('2005-05-01 23:00:00'), Timestamp('2005-06-01 00:00:00'), Timestamp('2005-06-01 01:00:00'), Timestamp('2005-06-01 02:00:00'), Timestamp('2005-06-01 03:00:00'), Timestamp('2005-06-01 04:00:00'), Timestamp('2005-06-01 05:00:00'), Timestamp('2005-06-01 07:00:00'), Timestamp('2005-06-01 08:00:00'), Timestamp('2005-06-01 09:00:00'), Timestamp('2005-06-01 10:00:00'), Timestamp('2005-06-01 11:00:00'), Timestamp('2005-06-01 12:00:00'), Timestamp('2005-06-01 13:00:00'), Timestamp('2005-06-01 14:00:00'), Timestamp('2005-06-01 15:00:00'), Timestamp('2005-06-01 16:00:00'), Timestamp('2005-06-01 17:00:00'), Timestamp('2005-06-01 19:00:00'), Timestamp('2005-06-01 20:00:00'), Timestamp('2005-06-01 21:00:00'), Timestamp('2005-06-01 22:00:00'), Timestamp('2005-06-01 23:00:00'), Timestamp('2005-07-01 00:00:00'), Timestamp('2005-07-01 01:00:00'), Timestamp('2005-07-01 02:00:00'), Timestamp('2005-07-01 03:00:00'), Timestamp('2005-07-01 04:00:00'), Timestamp('2005-07-01 05:00:00'), Timestamp('2005-07-01 07:00:00'), Timestamp('2005-07-01 08:00:00'), Timestamp('2005-07-01 09:00:00'), Timestamp('2005-07-01 10:00:00'), Timestamp('2005-07-01 11:00:00'), Timestamp('2005-07-01 12:00:00'), Timestamp('2005-07-01 13:00:00'), Timestamp('2005-07-01 14:00:00'), Timestamp('2005-07-01 15:00:00'), Timestamp('2005-07-01 16:00:00'), Timestamp('2005-07-01 17:00:00'), Timestamp('2005-07-01 19:00:00'), Timestamp('2005-07-01 20:00:00'), Timestamp('2005-07-01 21:00:00'), Timestamp('2005-07-01 22:00:00'), Timestamp('2005-07-01 23:00:00'), Timestamp('2005-08-01 00:00:00'), Timestamp('2005-08-01 01:00:00'), Timestamp('2005-08-01 02:00:00'), Timestamp('2005-08-01 03:00:00'), Timestamp('2005-08-01 04:00:00'), Timestamp('2005-08-01 05:00:00'), Timestamp('2005-08-01 07:00:00'), Timestamp('2005-08-01 08:00:00'), Timestamp('2005-08-01 09:00:00'), Timestamp('2005-08-01 10:00:00'), Timestamp('2005-08-01 11:00:00'), Timestamp('2005-08-01 12:00:00'), Timestamp('2005-08-01 13:00:00'), Timestamp('2005-08-01 14:00:00'), Timestamp('2005-08-01 15:00:00'), Timestamp('2005-08-01 16:00:00'), Timestamp('2005-08-01 17:00:00'), Timestamp('2005-08-01 19:00:00'), Timestamp('2005-08-01 20:00:00'), Timestamp('2005-08-01 21:00:00'), Timestamp('2005-08-01 22:00:00'), Timestamp('2005-08-01 23:00:00'), Timestamp('2005-09-01 00:00:00'), Timestamp('2005-09-01 01:00:00'), Timestamp('2005-09-01 02:00:00'), Timestamp('2005-09-01 03:00:00'), Timestamp('2005-09-01 04:00:00'), Timestamp('2005-09-01 05:00:00'), Timestamp('2005-09-01 07:00:00'), Timestamp('2005-09-01 08:00:00'), Timestamp('2005-09-01 09:00:00'), Timestamp('2005-09-01 10:00:00'), Timestamp('2005-09-01 11:00:00'), Timestamp('2005-09-01 12:00:00'), Timestamp('2005-09-01 13:00:00'), Timestamp('2005-09-01 14:00:00'), Timestamp('2005-09-01 15:00:00'), Timestamp('2005-09-01 16:00:00'), Timestamp('2005-09-01 17:00:00'), Timestamp('2005-09-01 19:00:00'), Timestamp('2005-09-01 20:00:00'), Timestamp('2005-09-01 21:00:00'), Timestamp('2005-09-01 22:00:00'), Timestamp('2005-09-01 23:00:00'), Timestamp('2005-10-01 00:00:00'), Timestamp('2005-10-01 01:00:00'), Timestamp('2005-10-01 02:00:00'), Timestamp('2005-10-01 03:00:00'), Timestamp('2005-10-01 04:00:00'), Timestamp('2005-10-01 05:00:00'), Timestamp('2005-10-01 07:00:00'), Timestamp('2005-10-01 08:00:00'), Timestamp('2005-10-01 09:00:00'), Timestamp('2005-10-01 10:00:00'), Timestamp('2005-10-01 11:00:00'), Timestamp('2005-10-01 12:00:00'), Timestamp('2005-10-01 13:00:00'), Timestamp('2005-10-01 14:00:00'), Timestamp('2005-10-01 15:00:00'), Timestamp('2005-10-01 16:00:00'), Timestamp('2005-10-01 17:00:00'), Timestamp('2005-10-01 19:00:00'), Timestamp('2005-10-01 20:00:00'), Timestamp('2005-10-01 21:00:00'), Timestamp('2005-10-01 22:00:00'), Timestamp('2005-10-01 23:00:00'), Timestamp('2005-11-01 00:00:00'), Timestamp('2005-11-01 01:00:00'), Timestamp('2005-11-01 02:00:00'), Timestamp('2005-11-01 03:00:00'), Timestamp('2005-11-01 04:00:00'), Timestamp('2005-11-01 05:00:00'), Timestamp('2005-11-01 07:00:00'), Timestamp('2005-11-01 08:00:00'), Timestamp('2005-11-01 09:00:00'), Timestamp('2005-11-01 10:00:00'), Timestamp('2005-11-01 11:00:00'), Timestamp('2005-11-01 12:00:00'), Timestamp('2005-11-01 13:00:00'), Timestamp('2005-11-01 14:00:00'), Timestamp('2005-11-01 15:00:00'), Timestamp('2005-11-01 16:00:00'), Timestamp('2005-11-01 17:00:00'), Timestamp('2005-11-01 19:00:00'), Timestamp('2005-11-01 20:00:00'), Timestamp('2005-11-01 21:00:00'), Timestamp('2005-11-01 22:00:00'), Timestamp('2005-11-01 23:00:00'), Timestamp('2005-12-01 00:00:00'), Timestamp('2005-12-01 01:00:00'), Timestamp('2005-12-01 02:00:00'), Timestamp('2005-12-01 03:00:00'), Timestamp('2005-12-01 04:00:00'), Timestamp('2005-12-01 05:00:00'), Timestamp('2005-12-01 07:00:00'), Timestamp('2005-12-01 08:00:00'), Timestamp('2005-12-01 09:00:00'), Timestamp('2005-12-01 10:00:00'), Timestamp('2005-12-01 11:00:00'), Timestamp('2005-12-01 12:00:00'), Timestamp('2005-12-01 13:00:00'), Timestamp('2005-12-01 14:00:00'), Timestamp('2005-12-01 15:00:00'), Timestamp('2005-12-01 16:00:00'), Timestamp('2005-12-01 17:00:00'), Timestamp('2005-12-01 19:00:00'), Timestamp('2005-12-01 20:00:00'), Timestamp('2005-12-01 21:00:00'), Timestamp('2005-12-01 22:00:00'), Timestamp('2005-12-01 23:00:00'), Timestamp('2006-01-01 00:00:00'), Timestamp('2006-01-01 01:00:00'), Timestamp('2006-01-01 02:00:00'), Timestamp('2006-01-01 03:00:00'), Timestamp('2006-01-01 04:00:00'), Timestamp('2006-01-01 05:00:00'), Timestamp('2006-01-01 07:00:00'), Timestamp('2006-01-01 08:00:00'), Timestamp('2006-01-01 09:00:00'), Timestamp('2006-01-01 10:00:00'), Timestamp('2006-01-01 11:00:00'), Timestamp('2006-01-01 12:00:00'), Timestamp('2006-01-01 13:00:00'), Timestamp('2006-01-01 14:00:00'), Timestamp('2006-01-01 15:00:00'), Timestamp('2006-01-01 16:00:00'), Timestamp('2006-01-01 17:00:00'), Timestamp('2006-01-01 19:00:00'), Timestamp('2006-01-01 20:00:00'), Timestamp('2006-01-01 21:00:00'), Timestamp('2006-01-01 22:00:00'), Timestamp('2006-01-01 23:00:00'), Timestamp('2006-02-01 00:00:00'), Timestamp('2006-02-01 01:00:00'), Timestamp('2006-02-01 02:00:00'), Timestamp('2006-02-01 03:00:00'), Timestamp('2006-02-01 04:00:00'), Timestamp('2006-02-01 05:00:00'), Timestamp('2006-02-01 07:00:00'), Timestamp('2006-02-01 08:00:00'), Timestamp('2006-02-01 09:00:00'), Timestamp('2006-02-01 10:00:00'), Timestamp('2006-02-01 11:00:00'), Timestamp('2006-02-01 12:00:00'), Timestamp('2006-02-01 13:00:00'), Timestamp('2006-02-01 14:00:00'), Timestamp('2006-02-01 15:00:00'), Timestamp('2006-02-01 16:00:00'), Timestamp('2006-02-01 17:00:00'), Timestamp('2006-02-01 19:00:00'), Timestamp('2006-02-01 20:00:00'), Timestamp('2006-02-01 21:00:00'), Timestamp('2006-02-01 22:00:00'), Timestamp('2006-02-01 23:00:00'), Timestamp('2006-03-01 00:00:00'), Timestamp('2006-03-01 01:00:00'), Timestamp('2006-03-01 02:00:00'), Timestamp('2006-03-01 03:00:00'), Timestamp('2006-03-01 04:00:00'), Timestamp('2006-03-01 05:00:00'), Timestamp('2006-03-01 07:00:00'), Timestamp('2006-03-01 08:00:00'), Timestamp('2006-03-01 09:00:00'), Timestamp('2006-03-01 10:00:00'), Timestamp('2006-03-01 11:00:00'), Timestamp('2006-03-01 12:00:00'), Timestamp('2006-03-01 13:00:00'), Timestamp('2006-03-01 14:00:00'), Timestamp('2006-03-01 15:00:00'), Timestamp('2006-03-01 16:00:00'), Timestamp('2006-03-01 17:00:00'), Timestamp('2006-03-01 19:00:00'), Timestamp('2006-03-01 20:00:00'), Timestamp('2006-03-01 21:00:00'), Timestamp('2006-03-01 22:00:00'), Timestamp('2006-03-01 23:00:00'), Timestamp('2006-04-01 00:00:00'), Timestamp('2006-04-01 01:00:00'), Timestamp('2006-04-01 02:00:00'), Timestamp('2006-04-01 03:00:00'), Timestamp('2006-04-01 04:00:00'), Timestamp('2006-04-01 05:00:00'), Timestamp('2006-04-01 07:00:00'), Timestamp('2006-04-01 08:00:00'), Timestamp('2006-04-01 09:00:00'), Timestamp('2006-04-01 10:00:00'), Timestamp('2006-04-01 11:00:00'), Timestamp('2006-04-01 12:00:00'), Timestamp('2006-04-01 13:00:00'), Timestamp('2006-04-01 14:00:00'), Timestamp('2006-04-01 15:00:00'), Timestamp('2006-04-01 16:00:00'), Timestamp('2006-04-01 17:00:00'), Timestamp('2006-04-01 19:00:00'), Timestamp('2006-04-01 20:00:00'), Timestamp('2006-04-01 21:00:00'), Timestamp('2006-04-01 22:00:00'), Timestamp('2006-04-01 23:00:00'), Timestamp('2006-05-01 00:00:00'), Timestamp('2006-05-01 01:00:00'), Timestamp('2006-05-01 02:00:00'), Timestamp('2006-05-01 03:00:00'), Timestamp('2006-05-01 04:00:00'), Timestamp('2006-05-01 05:00:00'), Timestamp('2006-05-01 07:00:00'), Timestamp('2006-05-01 08:00:00'), Timestamp('2006-05-01 09:00:00'), Timestamp('2006-05-01 10:00:00'), Timestamp('2006-05-01 11:00:00'), Timestamp('2006-05-01 12:00:00'), Timestamp('2006-05-01 13:00:00'), Timestamp('2006-05-01 14:00:00'), Timestamp('2006-05-01 15:00:00'), Timestamp('2006-05-01 16:00:00'), Timestamp('2006-05-01 17:00:00'), Timestamp('2006-05-01 19:00:00'), Timestamp('2006-05-01 20:00:00'), Timestamp('2006-05-01 21:00:00'), Timestamp('2006-05-01 22:00:00'), Timestamp('2006-05-01 23:00:00'), Timestamp('2006-06-01 00:00:00'), Timestamp('2006-06-01 01:00:00'), Timestamp('2006-06-01 02:00:00'), Timestamp('2006-06-01 03:00:00'), Timestamp('2006-06-01 04:00:00'), Timestamp('2006-06-01 05:00:00'), Timestamp('2006-06-01 07:00:00'), Timestamp('2006-06-01 08:00:00'), Timestamp('2006-06-01 09:00:00'), Timestamp('2006-06-01 10:00:00'), Timestamp('2006-06-01 11:00:00'), Timestamp('2006-06-01 12:00:00'), Timestamp('2006-06-01 13:00:00'), Timestamp('2006-06-01 14:00:00'), Timestamp('2006-06-01 15:00:00'), Timestamp('2006-06-01 16:00:00'), Timestamp('2006-06-01 17:00:00'), Timestamp('2006-06-01 19:00:00'), Timestamp('2006-06-01 20:00:00'), Timestamp('2006-06-01 21:00:00'), Timestamp('2006-06-01 22:00:00'), Timestamp('2006-06-01 23:00:00'), Timestamp('2006-07-01 00:00:00'), Timestamp('2006-07-01 01:00:00'), Timestamp('2006-07-01 02:00:00'), Timestamp('2006-07-01 03:00:00'), Timestamp('2006-07-01 04:00:00'), Timestamp('2006-07-01 05:00:00'), Timestamp('2006-07-01 07:00:00'), Timestamp('2006-07-01 08:00:00'), Timestamp('2006-07-01 09:00:00'), Timestamp('2006-07-01 10:00:00'), Timestamp('2006-07-01 11:00:00'), Timestamp('2006-07-01 12:00:00'), Timestamp('2006-07-01 13:00:00'), Timestamp('2006-07-01 14:00:00'), Timestamp('2006-07-01 15:00:00'), Timestamp('2006-07-01 16:00:00'), Timestamp('2006-07-01 17:00:00'), Timestamp('2006-07-01 19:00:00'), Timestamp('2006-07-01 20:00:00'), Timestamp('2006-07-01 21:00:00'), Timestamp('2006-07-01 22:00:00'), Timestamp('2006-07-01 23:00:00'), Timestamp('2006-08-01 00:00:00'), Timestamp('2006-08-01 01:00:00'), Timestamp('2006-08-01 02:00:00'), Timestamp('2006-08-01 03:00:00'), Timestamp('2006-08-01 04:00:00'), Timestamp('2006-08-01 05:00:00'), Timestamp('2006-08-01 07:00:00'), Timestamp('2006-08-01 08:00:00'), Timestamp('2006-08-01 09:00:00'), Timestamp('2006-08-01 10:00:00'), Timestamp('2006-08-01 11:00:00'), Timestamp('2006-08-01 12:00:00'), Timestamp('2006-08-01 13:00:00'), Timestamp('2006-08-01 14:00:00'), Timestamp('2006-08-01 15:00:00'), Timestamp('2006-08-01 16:00:00'), Timestamp('2006-08-01 17:00:00'), Timestamp('2006-08-01 19:00:00'), Timestamp('2006-08-01 20:00:00'), Timestamp('2006-08-01 21:00:00'), Timestamp('2006-08-01 22:00:00'), Timestamp('2006-08-01 23:00:00'), Timestamp('2006-09-01 00:00:00'), Timestamp('2006-09-01 01:00:00'), Timestamp('2006-09-01 02:00:00'), Timestamp('2006-09-01 03:00:00'), Timestamp('2006-09-01 04:00:00'), Timestamp('2006-09-01 05:00:00'), Timestamp('2006-09-01 07:00:00'), Timestamp('2006-09-01 08:00:00'), Timestamp('2006-09-01 09:00:00'), Timestamp('2006-09-01 10:00:00'), Timestamp('2006-09-01 11:00:00'), Timestamp('2006-09-01 12:00:00'), Timestamp('2006-09-01 13:00:00'), Timestamp('2006-09-01 14:00:00'), Timestamp('2006-09-01 15:00:00'), Timestamp('2006-09-01 16:00:00'), Timestamp('2006-09-01 17:00:00'), Timestamp('2006-09-01 19:00:00'), Timestamp('2006-09-01 20:00:00'), Timestamp('2006-09-01 21:00:00'), Timestamp('2006-09-01 22:00:00'), Timestamp('2006-09-01 23:00:00'), Timestamp('2006-10-01 00:00:00'), Timestamp('2006-10-01 01:00:00'), Timestamp('2006-10-01 02:00:00'), Timestamp('2006-10-01 03:00:00'), Timestamp('2006-10-01 04:00:00'), Timestamp('2006-10-01 05:00:00'), Timestamp('2006-10-01 07:00:00'), Timestamp('2006-10-01 08:00:00'), Timestamp('2006-10-01 09:00:00'), Timestamp('2006-10-01 10:00:00'), Timestamp('2006-10-01 11:00:00'), Timestamp('2006-10-01 12:00:00'), Timestamp('2006-10-01 13:00:00'), Timestamp('2006-10-01 14:00:00'), Timestamp('2006-10-01 15:00:00'), Timestamp('2006-10-01 16:00:00'), Timestamp('2006-10-01 17:00:00'), Timestamp('2006-10-01 19:00:00'), Timestamp('2006-10-01 20:00:00'), Timestamp('2006-10-01 21:00:00'), Timestamp('2006-10-01 22:00:00'), Timestamp('2006-10-01 23:00:00'), Timestamp('2006-11-01 00:00:00'), Timestamp('2006-11-01 01:00:00'), Timestamp('2006-11-01 02:00:00'), Timestamp('2006-11-01 03:00:00'), Timestamp('2006-11-01 04:00:00'), Timestamp('2006-11-01 05:00:00'), Timestamp('2006-11-01 07:00:00'), Timestamp('2006-11-01 08:00:00'), Timestamp('2006-11-01 09:00:00'), Timestamp('2006-11-01 10:00:00'), Timestamp('2006-11-01 11:00:00'), Timestamp('2006-11-01 12:00:00'), Timestamp('2006-11-01 13:00:00'), Timestamp('2006-11-01 14:00:00'), Timestamp('2006-11-01 15:00:00'), Timestamp('2006-11-01 16:00:00'), Timestamp('2006-11-01 17:00:00'), Timestamp('2006-11-01 19:00:00'), Timestamp('2006-11-01 20:00:00'), Timestamp('2006-11-01 21:00:00'), Timestamp('2006-11-01 22:00:00'), Timestamp('2006-11-01 23:00:00'), Timestamp('2006-12-01 00:00:00'), Timestamp('2006-12-01 01:00:00'), Timestamp('2006-12-01 02:00:00'), Timestamp('2006-12-01 03:00:00'), Timestamp('2006-12-01 04:00:00'), Timestamp('2006-12-01 05:00:00'), Timestamp('2006-12-01 07:00:00'), Timestamp('2006-12-01 08:00:00'), Timestamp('2006-12-01 09:00:00'), Timestamp('2006-12-01 10:00:00'), Timestamp('2006-12-01 11:00:00'), Timestamp('2006-12-01 12:00:00'), Timestamp('2006-12-01 13:00:00'), Timestamp('2006-12-01 14:00:00'), Timestamp('2006-12-01 15:00:00'), Timestamp('2006-12-01 16:00:00'), Timestamp('2006-12-01 17:00:00'), Timestamp('2006-12-01 19:00:00'), Timestamp('2006-12-01 20:00:00'), Timestamp('2006-12-01 21:00:00'), Timestamp('2006-12-01 22:00:00'), Timestamp('2006-12-01 23:00:00'), Timestamp('2007-01-01 00:00:00'), Timestamp('2007-01-01 01:00:00'), Timestamp('2007-01-01 02:00:00'), Timestamp('2007-01-01 03:00:00'), Timestamp('2007-01-01 04:00:00'), Timestamp('2007-01-01 05:00:00'), Timestamp('2007-01-01 07:00:00'), Timestamp('2007-01-01 08:00:00'), Timestamp('2007-01-01 09:00:00'), Timestamp('2007-01-01 10:00:00'), Timestamp('2007-01-01 11:00:00'), Timestamp('2007-01-01 12:00:00'), Timestamp('2007-01-01 13:00:00'), Timestamp('2007-01-01 14:00:00'), Timestamp('2007-01-01 15:00:00'), Timestamp('2007-01-01 16:00:00'), Timestamp('2007-01-01 17:00:00'), Timestamp('2007-01-01 19:00:00'), Timestamp('2007-01-01 20:00:00'), Timestamp('2007-01-01 21:00:00'), Timestamp('2007-01-01 22:00:00'), Timestamp('2007-01-01 23:00:00'), Timestamp('2007-02-01 00:00:00'), Timestamp('2007-02-01 01:00:00'), Timestamp('2007-02-01 02:00:00'), Timestamp('2007-02-01 03:00:00'), Timestamp('2007-02-01 04:00:00'), Timestamp('2007-02-01 05:00:00'), Timestamp('2007-02-01 07:00:00'), Timestamp('2007-02-01 08:00:00'), Timestamp('2007-02-01 09:00:00'), Timestamp('2007-02-01 10:00:00'), Timestamp('2007-02-01 11:00:00'), Timestamp('2007-02-01 12:00:00'), Timestamp('2007-02-01 13:00:00'), Timestamp('2007-02-01 14:00:00'), Timestamp('2007-02-01 15:00:00'), Timestamp('2007-02-01 16:00:00'), Timestamp('2007-02-01 17:00:00'), Timestamp('2007-02-01 19:00:00'), Timestamp('2007-02-01 20:00:00'), Timestamp('2007-02-01 21:00:00'), Timestamp('2007-02-01 22:00:00'), Timestamp('2007-02-01 23:00:00'), Timestamp('2007-03-01 00:00:00'), Timestamp('2007-03-01 01:00:00'), Timestamp('2007-03-01 02:00:00'), Timestamp('2007-03-01 03:00:00'), Timestamp('2007-03-01 04:00:00'), Timestamp('2007-03-01 05:00:00'), Timestamp('2007-03-01 07:00:00'), Timestamp('2007-03-01 08:00:00'), Timestamp('2007-03-01 09:00:00'), Timestamp('2007-03-01 10:00:00'), Timestamp('2007-03-01 11:00:00'), Timestamp('2007-03-01 12:00:00'), Timestamp('2007-03-01 13:00:00'), Timestamp('2007-03-01 14:00:00'), Timestamp('2007-03-01 15:00:00'), Timestamp('2007-03-01 16:00:00'), Timestamp('2007-03-01 17:00:00'), Timestamp('2007-03-01 19:00:00'), Timestamp('2007-03-01 20:00:00'), Timestamp('2007-03-01 21:00:00'), Timestamp('2007-03-01 22:00:00'), Timestamp('2007-03-01 23:00:00'), Timestamp('2007-04-01 00:00:00'), Timestamp('2007-04-01 01:00:00'), Timestamp('2007-04-01 02:00:00'), Timestamp('2007-04-01 03:00:00'), Timestamp('2007-04-01 04:00:00'), Timestamp('2007-04-01 05:00:00'), Timestamp('2007-04-01 07:00:00'), Timestamp('2007-04-01 08:00:00'), Timestamp('2007-04-01 09:00:00'), Timestamp('2007-04-01 10:00:00'), Timestamp('2007-04-01 11:00:00'), Timestamp('2007-04-01 12:00:00'), Timestamp('2007-04-01 13:00:00'), Timestamp('2007-04-01 14:00:00'), Timestamp('2007-04-01 15:00:00'), Timestamp('2007-04-01 16:00:00'), Timestamp('2007-04-01 17:00:00'), Timestamp('2007-04-01 19:00:00'), Timestamp('2007-04-01 20:00:00'), Timestamp('2007-04-01 21:00:00'), Timestamp('2007-04-01 22:00:00'), Timestamp('2007-04-01 23:00:00'), Timestamp('2007-05-01 00:00:00'), Timestamp('2007-05-01 01:00:00'), Timestamp('2007-05-01 02:00:00'), Timestamp('2007-05-01 03:00:00'), Timestamp('2007-05-01 04:00:00'), Timestamp('2007-05-01 05:00:00'), Timestamp('2007-05-01 07:00:00'), Timestamp('2007-05-01 08:00:00'), Timestamp('2007-05-01 09:00:00'), Timestamp('2007-05-01 10:00:00'), Timestamp('2007-05-01 11:00:00'), Timestamp('2007-05-01 12:00:00'), Timestamp('2007-05-01 13:00:00'), Timestamp('2007-05-01 14:00:00'), Timestamp('2007-05-01 15:00:00'), Timestamp('2007-05-01 16:00:00'), Timestamp('2007-05-01 17:00:00'), Timestamp('2007-05-01 19:00:00'), Timestamp('2007-05-01 20:00:00'), Timestamp('2007-05-01 21:00:00'), Timestamp('2007-05-01 22:00:00'), Timestamp('2007-05-01 23:00:00'), Timestamp('2007-06-01 00:00:00'), Timestamp('2007-06-01 01:00:00'), Timestamp('2007-06-01 02:00:00'), Timestamp('2007-06-01 03:00:00'), Timestamp('2007-06-01 04:00:00'), Timestamp('2007-06-01 05:00:00'), Timestamp('2007-06-01 07:00:00'), Timestamp('2007-06-01 08:00:00'), Timestamp('2007-06-01 09:00:00'), Timestamp('2007-06-01 10:00:00'), Timestamp('2007-06-01 11:00:00'), Timestamp('2007-06-01 12:00:00'), Timestamp('2007-06-01 13:00:00'), Timestamp('2007-06-01 14:00:00'), Timestamp('2007-06-01 15:00:00'), Timestamp('2007-06-01 16:00:00'), Timestamp('2007-06-01 17:00:00'), Timestamp('2007-06-01 19:00:00'), Timestamp('2007-06-01 20:00:00'), Timestamp('2007-06-01 21:00:00'), Timestamp('2007-06-01 22:00:00'), Timestamp('2007-06-01 23:00:00'), Timestamp('2007-07-01 00:00:00'), Timestamp('2007-07-01 01:00:00'), Timestamp('2007-07-01 02:00:00'), Timestamp('2007-07-01 03:00:00'), Timestamp('2007-07-01 04:00:00'), Timestamp('2007-07-01 05:00:00'), Timestamp('2007-07-01 07:00:00'), Timestamp('2007-07-01 08:00:00'), Timestamp('2007-07-01 09:00:00'), Timestamp('2007-07-01 10:00:00'), Timestamp('2007-07-01 11:00:00'), Timestamp('2007-07-01 12:00:00'), Timestamp('2007-07-01 13:00:00'), Timestamp('2007-07-01 14:00:00'), Timestamp('2007-07-01 15:00:00'), Timestamp('2007-07-01 16:00:00'), Timestamp('2007-07-01 17:00:00'), Timestamp('2007-07-01 19:00:00'), Timestamp('2007-07-01 20:00:00'), Timestamp('2007-07-01 21:00:00'), Timestamp('2007-07-01 22:00:00'), Timestamp('2007-07-01 23:00:00'), Timestamp('2007-08-01 00:00:00'), Timestamp('2007-08-01 01:00:00'), Timestamp('2007-08-01 02:00:00'), Timestamp('2007-08-01 03:00:00'), Timestamp('2007-08-01 04:00:00'), Timestamp('2007-08-01 05:00:00'), Timestamp('2007-08-01 07:00:00'), Timestamp('2007-08-01 08:00:00'), Timestamp('2007-08-01 09:00:00'), Timestamp('2007-08-01 10:00:00'), Timestamp('2007-08-01 11:00:00'), Timestamp('2007-08-01 12:00:00'), Timestamp('2007-08-01 13:00:00'), Timestamp('2007-08-01 14:00:00'), Timestamp('2007-08-01 15:00:00'), Timestamp('2007-08-01 16:00:00'), Timestamp('2007-08-01 17:00:00'), Timestamp('2007-08-01 19:00:00'), Timestamp('2007-08-01 20:00:00'), Timestamp('2007-08-01 21:00:00'), Timestamp('2007-08-01 22:00:00'), Timestamp('2007-08-01 23:00:00'), Timestamp('2007-09-01 00:00:00'), Timestamp('2007-09-01 01:00:00'), Timestamp('2007-09-01 02:00:00'), Timestamp('2007-09-01 03:00:00'), Timestamp('2007-09-01 04:00:00'), Timestamp('2007-09-01 05:00:00'), Timestamp('2007-09-01 07:00:00'), Timestamp('2007-09-01 08:00:00'), Timestamp('2007-09-01 09:00:00'), Timestamp('2007-09-01 10:00:00'), Timestamp('2007-09-01 11:00:00'), Timestamp('2007-09-01 12:00:00'), Timestamp('2007-09-01 13:00:00'), Timestamp('2007-09-01 14:00:00'), Timestamp('2007-09-01 15:00:00'), Timestamp('2007-09-01 16:00:00'), Timestamp('2007-09-01 17:00:00'), Timestamp('2007-09-01 19:00:00'), Timestamp('2007-09-01 20:00:00'), Timestamp('2007-09-01 21:00:00'), Timestamp('2007-09-01 22:00:00'), Timestamp('2007-09-01 23:00:00'), Timestamp('2007-10-01 00:00:00'), Timestamp('2007-10-01 01:00:00'), Timestamp('2007-10-01 02:00:00'), Timestamp('2007-10-01 03:00:00'), Timestamp('2007-10-01 04:00:00'), Timestamp('2007-10-01 05:00:00'), Timestamp('2007-10-01 07:00:00'), Timestamp('2007-10-01 08:00:00'), Timestamp('2007-10-01 09:00:00'), Timestamp('2007-10-01 10:00:00'), Timestamp('2007-10-01 11:00:00'), Timestamp('2007-10-01 12:00:00'), Timestamp('2007-10-01 13:00:00'), Timestamp('2007-10-01 14:00:00'), Timestamp('2007-10-01 15:00:00'), Timestamp('2007-10-01 16:00:00'), Timestamp('2007-10-01 17:00:00'), Timestamp('2007-10-01 19:00:00'), Timestamp('2007-10-01 20:00:00'), Timestamp('2007-10-01 21:00:00'), Timestamp('2007-10-01 22:00:00'), Timestamp('2007-10-01 23:00:00'), Timestamp('2007-11-01 00:00:00'), Timestamp('2007-11-01 01:00:00'), Timestamp('2007-11-01 02:00:00'), Timestamp('2007-11-01 03:00:00'), Timestamp('2007-11-01 04:00:00'), Timestamp('2007-11-01 05:00:00'), Timestamp('2007-11-01 07:00:00'), Timestamp('2007-11-01 08:00:00'), Timestamp('2007-11-01 09:00:00'), Timestamp('2007-11-01 10:00:00'), Timestamp('2007-11-01 11:00:00'), Timestamp('2007-11-01 12:00:00'), Timestamp('2007-11-01 13:00:00'), Timestamp('2007-11-01 14:00:00'), Timestamp('2007-11-01 15:00:00'), Timestamp('2007-11-01 16:00:00'), Timestamp('2007-11-01 17:00:00'), Timestamp('2007-11-01 19:00:00'), Timestamp('2007-11-01 20:00:00'), Timestamp('2007-11-01 21:00:00'), Timestamp('2007-11-01 22:00:00'), Timestamp('2007-11-01 23:00:00'), Timestamp('2007-12-01 00:00:00'), Timestamp('2007-12-01 01:00:00'), Timestamp('2007-12-01 02:00:00'), Timestamp('2007-12-01 03:00:00'), Timestamp('2007-12-01 04:00:00'), Timestamp('2007-12-01 05:00:00'), Timestamp('2007-12-01 07:00:00'), Timestamp('2007-12-01 08:00:00'), Timestamp('2007-12-01 09:00:00'), Timestamp('2007-12-01 10:00:00'), Timestamp('2007-12-01 11:00:00'), Timestamp('2007-12-01 12:00:00'), Timestamp('2007-12-01 13:00:00'), Timestamp('2007-12-01 14:00:00'), Timestamp('2007-12-01 15:00:00'), Timestamp('2007-12-01 16:00:00'), Timestamp('2007-12-01 17:00:00'), Timestamp('2007-12-01 19:00:00'), Timestamp('2007-12-01 20:00:00'), Timestamp('2007-12-01 21:00:00'), Timestamp('2007-12-01 22:00:00'), Timestamp('2007-12-01 23:00:00'), Timestamp('2008-01-01 00:00:00'), Timestamp('2008-01-01 01:00:00'), Timestamp('2008-01-01 02:00:00'), Timestamp('2008-01-01 03:00:00'), Timestamp('2008-01-01 04:00:00'), Timestamp('2008-01-01 05:00:00'), Timestamp('2008-01-01 07:00:00'), Timestamp('2008-01-01 08:00:00'), Timestamp('2008-01-01 09:00:00'), Timestamp('2008-01-01 10:00:00'), Timestamp('2008-01-01 11:00:00'), Timestamp('2008-01-01 12:00:00'), Timestamp('2008-01-01 13:00:00'), Timestamp('2008-01-01 14:00:00'), Timestamp('2008-01-01 15:00:00'), Timestamp('2008-01-01 16:00:00'), Timestamp('2008-01-01 17:00:00'), Timestamp('2008-01-01 19:00:00'), Timestamp('2008-01-01 20:00:00'), Timestamp('2008-01-01 21:00:00'), Timestamp('2008-01-01 22:00:00'), Timestamp('2008-01-01 23:00:00'), Timestamp('2008-02-01 00:00:00'), Timestamp('2008-02-01 01:00:00'), Timestamp('2008-02-01 02:00:00'), Timestamp('2008-02-01 03:00:00'), Timestamp('2008-02-01 04:00:00'), Timestamp('2008-02-01 05:00:00'), Timestamp('2008-02-01 07:00:00'), Timestamp('2008-02-01 08:00:00'), Timestamp('2008-02-01 09:00:00'), Timestamp('2008-02-01 10:00:00'), Timestamp('2008-02-01 11:00:00'), Timestamp('2008-02-01 12:00:00'), Timestamp('2008-02-01 13:00:00'), Timestamp('2008-02-01 14:00:00'), Timestamp('2008-02-01 15:00:00'), Timestamp('2008-02-01 16:00:00'), Timestamp('2008-02-01 17:00:00'), Timestamp('2008-02-01 19:00:00'), Timestamp('2008-02-01 20:00:00'), Timestamp('2008-02-01 21:00:00'), Timestamp('2008-02-01 22:00:00'), Timestamp('2008-02-01 23:00:00'), Timestamp('2008-03-01 00:00:00'), Timestamp('2008-03-01 01:00:00'), Timestamp('2008-03-01 02:00:00'), Timestamp('2008-03-01 03:00:00'), Timestamp('2008-03-01 04:00:00'), Timestamp('2008-03-01 05:00:00'), Timestamp('2008-03-01 07:00:00'), Timestamp('2008-03-01 08:00:00'), Timestamp('2008-03-01 09:00:00'), Timestamp('2008-03-01 10:00:00'), Timestamp('2008-03-01 11:00:00'), Timestamp('2008-03-01 12:00:00'), Timestamp('2008-03-01 13:00:00'), Timestamp('2008-03-01 14:00:00'), Timestamp('2008-03-01 15:00:00'), Timestamp('2008-03-01 16:00:00'), Timestamp('2008-03-01 17:00:00'), Timestamp('2008-03-01 19:00:00'), Timestamp('2008-03-01 20:00:00'), Timestamp('2008-03-01 21:00:00'), Timestamp('2008-03-01 22:00:00'), Timestamp('2008-03-01 23:00:00'), Timestamp('2008-04-01 00:00:00'), Timestamp('2008-04-01 01:00:00'), Timestamp('2008-04-01 02:00:00'), Timestamp('2008-04-01 03:00:00'), Timestamp('2008-04-01 04:00:00'), Timestamp('2008-04-01 05:00:00'), Timestamp('2008-04-01 07:00:00'), Timestamp('2008-04-01 08:00:00'), Timestamp('2008-04-01 09:00:00'), Timestamp('2008-04-01 10:00:00'), Timestamp('2008-04-01 11:00:00'), Timestamp('2008-04-01 12:00:00'), Timestamp('2008-04-01 13:00:00'), Timestamp('2008-04-01 14:00:00'), Timestamp('2008-04-01 15:00:00'), Timestamp('2008-04-01 16:00:00'), Timestamp('2008-04-01 17:00:00'), Timestamp('2008-04-01 19:00:00'), Timestamp('2008-04-01 20:00:00'), Timestamp('2008-04-01 21:00:00'), Timestamp('2008-04-01 22:00:00'), Timestamp('2008-04-01 23:00:00'), Timestamp('2008-05-01 00:00:00'), Timestamp('2008-05-01 01:00:00'), Timestamp('2008-05-01 02:00:00'), Timestamp('2008-05-01 03:00:00'), Timestamp('2008-05-01 04:00:00'), Timestamp('2008-05-01 05:00:00'), Timestamp('2008-05-01 07:00:00'), Timestamp('2008-05-01 08:00:00'), Timestamp('2008-05-01 09:00:00'), Timestamp('2008-05-01 10:00:00'), Timestamp('2008-05-01 11:00:00'), Timestamp('2008-05-01 12:00:00'), Timestamp('2008-05-01 13:00:00'), Timestamp('2008-05-01 14:00:00'), Timestamp('2008-05-01 15:00:00'), Timestamp('2008-05-01 16:00:00'), Timestamp('2008-05-01 17:00:00'), Timestamp('2008-05-01 19:00:00'), Timestamp('2008-05-01 20:00:00'), Timestamp('2008-05-01 21:00:00'), Timestamp('2008-05-01 22:00:00'), Timestamp('2008-05-01 23:00:00'), Timestamp('2008-06-01 00:00:00'), Timestamp('2008-06-01 01:00:00'), Timestamp('2008-06-01 02:00:00'), Timestamp('2008-06-01 03:00:00'), Timestamp('2008-06-01 04:00:00'), Timestamp('2008-06-01 05:00:00'), Timestamp('2008-06-01 07:00:00'), Timestamp('2008-06-01 08:00:00'), Timestamp('2008-06-01 09:00:00'), Timestamp('2008-06-01 10:00:00'), Timestamp('2008-06-01 11:00:00'), Timestamp('2008-06-01 12:00:00'), Timestamp('2008-06-01 13:00:00'), Timestamp('2008-06-01 14:00:00'), Timestamp('2008-06-01 15:00:00'), Timestamp('2008-06-01 16:00:00'), Timestamp('2008-06-01 17:00:00'), Timestamp('2008-06-01 19:00:00'), Timestamp('2008-06-01 20:00:00'), Timestamp('2008-06-01 21:00:00'), Timestamp('2008-06-01 22:00:00'), Timestamp('2008-06-01 23:00:00'), Timestamp('2008-07-01 00:00:00'), Timestamp('2008-07-01 01:00:00'), Timestamp('2008-07-01 02:00:00'), Timestamp('2008-07-01 03:00:00'), Timestamp('2008-07-01 04:00:00'), Timestamp('2008-07-01 05:00:00'), Timestamp('2008-07-01 07:00:00'), Timestamp('2008-07-01 08:00:00'), Timestamp('2008-07-01 09:00:00'), Timestamp('2008-07-01 10:00:00'), Timestamp('2008-07-01 11:00:00'), Timestamp('2008-07-01 12:00:00'), Timestamp('2008-07-01 13:00:00'), Timestamp('2008-07-01 14:00:00'), Timestamp('2008-07-01 15:00:00'), Timestamp('2008-07-01 16:00:00'), Timestamp('2008-07-01 17:00:00'), Timestamp('2008-07-01 19:00:00'), Timestamp('2008-07-01 20:00:00'), Timestamp('2008-07-01 21:00:00'), Timestamp('2008-07-01 22:00:00'), Timestamp('2008-07-01 23:00:00'), Timestamp('2008-08-01 00:00:00'), Timestamp('2008-08-01 01:00:00'), Timestamp('2008-08-01 02:00:00'), Timestamp('2008-08-01 03:00:00'), Timestamp('2008-08-01 04:00:00'), Timestamp('2008-08-01 05:00:00'), Timestamp('2008-08-01 07:00:00'), Timestamp('2008-08-01 08:00:00'), Timestamp('2008-08-01 09:00:00'), Timestamp('2008-08-01 10:00:00'), Timestamp('2008-08-01 11:00:00'), Timestamp('2008-08-01 12:00:00'), Timestamp('2008-08-01 13:00:00'), Timestamp('2008-08-01 14:00:00'), Timestamp('2008-08-01 15:00:00'), Timestamp('2008-08-01 16:00:00'), Timestamp('2008-08-01 17:00:00'), Timestamp('2008-08-01 19:00:00'), Timestamp('2008-08-01 20:00:00'), Timestamp('2008-08-01 21:00:00'), Timestamp('2008-08-01 22:00:00'), Timestamp('2008-08-01 23:00:00'), Timestamp('2008-09-01 00:00:00'), Timestamp('2008-09-01 01:00:00'), Timestamp('2008-09-01 02:00:00'), Timestamp('2008-09-01 03:00:00'), Timestamp('2008-09-01 04:00:00'), Timestamp('2008-09-01 05:00:00'), Timestamp('2008-09-01 07:00:00'), Timestamp('2008-09-01 08:00:00'), Timestamp('2008-09-01 09:00:00'), Timestamp('2008-09-01 10:00:00'), Timestamp('2008-09-01 11:00:00'), Timestamp('2008-09-01 12:00:00'), Timestamp('2008-09-01 13:00:00'), Timestamp('2008-09-01 14:00:00'), Timestamp('2008-09-01 15:00:00'), Timestamp('2008-09-01 16:00:00'), Timestamp('2008-09-01 17:00:00'), Timestamp('2008-09-01 19:00:00'), Timestamp('2008-09-01 20:00:00'), Timestamp('2008-09-01 21:00:00'), Timestamp('2008-09-01 22:00:00'), Timestamp('2008-09-01 23:00:00'), Timestamp('2008-10-01 00:00:00'), Timestamp('2008-10-01 01:00:00'), Timestamp('2008-10-01 02:00:00'), Timestamp('2008-10-01 03:00:00'), Timestamp('2008-10-01 04:00:00'), Timestamp('2008-10-01 05:00:00'), Timestamp('2008-10-01 07:00:00'), Timestamp('2008-10-01 08:00:00'), Timestamp('2008-10-01 09:00:00'), Timestamp('2008-10-01 10:00:00'), Timestamp('2008-10-01 11:00:00'), Timestamp('2008-10-01 12:00:00'), Timestamp('2008-10-01 13:00:00'), Timestamp('2008-10-01 14:00:00'), Timestamp('2008-10-01 15:00:00'), Timestamp('2008-10-01 16:00:00'), Timestamp('2008-10-01 17:00:00'), Timestamp('2008-10-01 19:00:00'), Timestamp('2008-10-01 20:00:00'), Timestamp('2008-10-01 21:00:00'), Timestamp('2008-10-01 22:00:00'), Timestamp('2008-10-01 23:00:00'), Timestamp('2008-11-01 00:00:00'), Timestamp('2008-11-01 01:00:00'), Timestamp('2008-11-01 02:00:00'), Timestamp('2008-11-01 03:00:00'), Timestamp('2008-11-01 04:00:00'), Timestamp('2008-11-01 05:00:00'), Timestamp('2008-11-01 07:00:00'), Timestamp('2008-11-01 08:00:00'), Timestamp('2008-11-01 09:00:00'), Timestamp('2008-11-01 10:00:00'), Timestamp('2008-11-01 11:00:00'), Timestamp('2008-11-01 12:00:00'), Timestamp('2008-11-01 13:00:00'), Timestamp('2008-11-01 14:00:00'), Timestamp('2008-11-01 15:00:00'), Timestamp('2008-11-01 16:00:00'), Timestamp('2008-11-01 17:00:00'), Timestamp('2008-11-01 19:00:00'), Timestamp('2008-11-01 20:00:00'), Timestamp('2008-11-01 21:00:00'), Timestamp('2008-11-01 22:00:00'), Timestamp('2008-11-01 23:00:00'), Timestamp('2008-12-01 00:00:00'), Timestamp('2008-12-01 01:00:00'), Timestamp('2008-12-01 02:00:00'), Timestamp('2008-12-01 03:00:00'), Timestamp('2008-12-01 04:00:00'), Timestamp('2008-12-01 05:00:00'), Timestamp('2008-12-01 07:00:00'), Timestamp('2008-12-01 08:00:00'), Timestamp('2008-12-01 09:00:00'), Timestamp('2008-12-01 10:00:00'), Timestamp('2008-12-01 11:00:00'), Timestamp('2008-12-01 12:00:00'), Timestamp('2008-12-01 13:00:00'), Timestamp('2008-12-01 14:00:00'), Timestamp('2008-12-01 15:00:00'), Timestamp('2008-12-01 16:00:00'), Timestamp('2008-12-01 17:00:00'), Timestamp('2008-12-01 19:00:00'), Timestamp('2008-12-01 20:00:00'), Timestamp('2008-12-01 21:00:00'), Timestamp('2008-12-01 22:00:00'), Timestamp('2008-12-01 23:00:00'), Timestamp('2009-01-01 00:00:00'), Timestamp('2009-01-01 01:00:00'), Timestamp('2009-01-01 02:00:00'), Timestamp('2009-01-01 03:00:00'), Timestamp('2009-01-01 04:00:00'), Timestamp('2009-01-01 05:00:00'), Timestamp('2009-01-01 07:00:00'), Timestamp('2009-01-01 08:00:00'), Timestamp('2009-01-01 09:00:00'), Timestamp('2009-01-01 10:00:00'), Timestamp('2009-01-01 11:00:00'), Timestamp('2009-01-01 12:00:00'), Timestamp('2009-01-01 13:00:00'), Timestamp('2009-01-01 14:00:00'), Timestamp('2009-01-01 15:00:00'), Timestamp('2009-01-01 16:00:00'), Timestamp('2009-01-01 17:00:00'), Timestamp('2009-01-01 19:00:00'), Timestamp('2009-01-01 20:00:00'), Timestamp('2009-01-01 21:00:00'), Timestamp('2009-01-01 22:00:00'), Timestamp('2009-01-01 23:00:00'), Timestamp('2009-02-01 00:00:00'), Timestamp('2009-02-01 01:00:00'), Timestamp('2009-02-01 02:00:00'), Timestamp('2009-02-01 03:00:00'), Timestamp('2009-02-01 04:00:00'), Timestamp('2009-02-01 05:00:00'), Timestamp('2009-02-01 07:00:00'), Timestamp('2009-02-01 08:00:00'), Timestamp('2009-02-01 09:00:00'), Timestamp('2009-02-01 10:00:00'), Timestamp('2009-02-01 11:00:00'), Timestamp('2009-02-01 12:00:00'), Timestamp('2009-02-01 13:00:00'), Timestamp('2009-02-01 14:00:00'), Timestamp('2009-02-01 15:00:00'), Timestamp('2009-02-01 16:00:00'), Timestamp('2009-02-01 17:00:00'), Timestamp('2009-02-01 19:00:00'), Timestamp('2009-02-01 20:00:00'), Timestamp('2009-02-01 21:00:00'), Timestamp('2009-02-01 22:00:00'), Timestamp('2009-02-01 23:00:00'), Timestamp('2009-03-01 00:00:00'), Timestamp('2009-03-01 01:00:00'), Timestamp('2009-03-01 02:00:00'), Timestamp('2009-03-01 03:00:00'), Timestamp('2009-03-01 04:00:00'), Timestamp('2009-03-01 05:00:00'), Timestamp('2009-03-01 07:00:00'), Timestamp('2009-03-01 08:00:00'), Timestamp('2009-03-01 09:00:00'), Timestamp('2009-03-01 10:00:00'), Timestamp('2009-03-01 11:00:00'), Timestamp('2009-03-01 12:00:00'), Timestamp('2009-03-01 13:00:00'), Timestamp('2009-03-01 14:00:00'), Timestamp('2009-03-01 15:00:00'), Timestamp('2009-03-01 16:00:00'), Timestamp('2009-03-01 17:00:00'), Timestamp('2009-03-01 19:00:00'), Timestamp('2009-03-01 20:00:00'), Timestamp('2009-03-01 21:00:00'), Timestamp('2009-03-01 22:00:00'), Timestamp('2009-03-01 23:00:00'), Timestamp('2009-04-01 00:00:00'), Timestamp('2009-04-01 01:00:00'), Timestamp('2009-04-01 02:00:00'), Timestamp('2009-04-01 03:00:00'), Timestamp('2009-04-01 04:00:00'), Timestamp('2009-04-01 05:00:00'), Timestamp('2009-04-01 07:00:00'), Timestamp('2009-04-01 08:00:00'), Timestamp('2009-04-01 09:00:00'), Timestamp('2009-04-01 10:00:00'), Timestamp('2009-04-01 11:00:00'), Timestamp('2009-04-01 12:00:00'), Timestamp('2009-04-01 13:00:00'), Timestamp('2009-04-01 14:00:00'), Timestamp('2009-04-01 15:00:00'), Timestamp('2009-04-01 16:00:00'), Timestamp('2009-04-01 17:00:00'), Timestamp('2009-04-01 19:00:00'), Timestamp('2009-04-01 20:00:00'), Timestamp('2009-04-01 21:00:00'), Timestamp('2009-04-01 22:00:00'), Timestamp('2009-04-01 23:00:00'), Timestamp('2009-05-01 00:00:00'), Timestamp('2009-05-01 01:00:00'), Timestamp('2009-05-01 02:00:00'), Timestamp('2009-05-01 03:00:00'), Timestamp('2009-05-01 04:00:00'), Timestamp('2009-05-01 05:00:00'), Timestamp('2009-05-01 07:00:00'), Timestamp('2009-05-01 08:00:00'), Timestamp('2009-05-01 09:00:00'), Timestamp('2009-05-01 10:00:00'), Timestamp('2009-05-01 11:00:00'), Timestamp('2009-05-01 12:00:00'), Timestamp('2009-05-01 13:00:00'), Timestamp('2009-05-01 14:00:00'), Timestamp('2009-05-01 15:00:00'), Timestamp('2009-05-01 16:00:00'), Timestamp('2009-05-01 17:00:00'), Timestamp('2009-05-01 19:00:00'), Timestamp('2009-05-01 20:00:00'), Timestamp('2009-05-01 21:00:00'), Timestamp('2009-05-01 22:00:00'), Timestamp('2009-05-01 23:00:00'), Timestamp('2009-06-01 00:00:00'), Timestamp('2009-06-01 01:00:00'), Timestamp('2009-06-01 02:00:00'), Timestamp('2009-06-01 03:00:00'), Timestamp('2009-06-01 04:00:00'), Timestamp('2009-06-01 05:00:00'), Timestamp('2009-06-01 07:00:00'), Timestamp('2009-06-01 08:00:00'), Timestamp('2009-06-01 09:00:00'), Timestamp('2009-06-01 10:00:00'), Timestamp('2009-06-01 11:00:00'), Timestamp('2009-06-01 12:00:00'), Timestamp('2009-06-01 13:00:00'), Timestamp('2009-06-01 14:00:00'), Timestamp('2009-06-01 15:00:00'), Timestamp('2009-06-01 16:00:00'), Timestamp('2009-06-01 17:00:00'), Timestamp('2009-06-01 19:00:00'), Timestamp('2009-06-01 20:00:00'), Timestamp('2009-06-01 21:00:00'), Timestamp('2009-06-01 22:00:00'), Timestamp('2009-06-01 23:00:00'), Timestamp('2009-07-01 00:00:00'), Timestamp('2009-07-01 01:00:00'), Timestamp('2009-07-01 02:00:00'), Timestamp('2009-07-01 03:00:00'), Timestamp('2009-07-01 04:00:00'), Timestamp('2009-07-01 05:00:00'), Timestamp('2009-07-01 07:00:00'), Timestamp('2009-07-01 08:00:00'), Timestamp('2009-07-01 09:00:00'), Timestamp('2009-07-01 10:00:00'), Timestamp('2009-07-01 11:00:00'), Timestamp('2009-07-01 12:00:00'), Timestamp('2009-07-01 13:00:00'), Timestamp('2009-07-01 14:00:00'), Timestamp('2009-07-01 15:00:00'), Timestamp('2009-07-01 16:00:00'), Timestamp('2009-07-01 17:00:00'), Timestamp('2009-07-01 19:00:00'), Timestamp('2009-07-01 20:00:00'), Timestamp('2009-07-01 21:00:00'), Timestamp('2009-07-01 22:00:00'), Timestamp('2009-07-01 23:00:00'), Timestamp('2009-08-01 00:00:00'), Timestamp('2009-08-01 01:00:00'), Timestamp('2009-08-01 02:00:00'), Timestamp('2009-08-01 03:00:00'), Timestamp('2009-08-01 04:00:00'), Timestamp('2009-08-01 05:00:00'), Timestamp('2009-08-01 07:00:00'), Timestamp('2009-08-01 08:00:00'), Timestamp('2009-08-01 09:00:00'), Timestamp('2009-08-01 10:00:00'), Timestamp('2009-08-01 11:00:00'), Timestamp('2009-08-01 12:00:00'), Timestamp('2009-08-01 13:00:00'), Timestamp('2009-08-01 14:00:00'), Timestamp('2009-08-01 15:00:00'), Timestamp('2009-08-01 16:00:00'), Timestamp('2009-08-01 17:00:00'), Timestamp('2009-08-01 19:00:00'), Timestamp('2009-08-01 20:00:00'), Timestamp('2009-08-01 21:00:00'), Timestamp('2009-08-01 22:00:00'), Timestamp('2009-08-01 23:00:00'), Timestamp('2009-09-01 00:00:00'), Timestamp('2009-09-01 01:00:00'), Timestamp('2009-09-01 02:00:00'), Timestamp('2009-09-01 03:00:00'), Timestamp('2009-09-01 04:00:00'), Timestamp('2009-09-01 05:00:00'), Timestamp('2009-09-01 07:00:00'), Timestamp('2009-09-01 08:00:00'), Timestamp('2009-09-01 09:00:00'), Timestamp('2009-09-01 10:00:00'), Timestamp('2009-09-01 11:00:00'), Timestamp('2009-09-01 12:00:00'), Timestamp('2009-09-01 13:00:00'), Timestamp('2009-09-01 14:00:00'), Timestamp('2009-09-01 15:00:00'), Timestamp('2009-09-01 16:00:00'), Timestamp('2009-09-01 17:00:00'), Timestamp('2009-09-01 19:00:00'), Timestamp('2009-09-01 20:00:00'), Timestamp('2009-09-01 21:00:00'), Timestamp('2009-09-01 22:00:00'), Timestamp('2009-09-01 23:00:00'), Timestamp('2009-10-01 00:00:00'), Timestamp('2009-10-01 01:00:00'), Timestamp('2009-10-01 02:00:00'), Timestamp('2009-10-01 03:00:00'), Timestamp('2009-10-01 04:00:00'), Timestamp('2009-10-01 05:00:00'), Timestamp('2009-10-01 07:00:00'), Timestamp('2009-10-01 08:00:00'), Timestamp('2009-10-01 09:00:00'), Timestamp('2009-10-01 10:00:00'), Timestamp('2009-10-01 11:00:00'), Timestamp('2009-10-01 12:00:00'), Timestamp('2009-10-01 13:00:00'), Timestamp('2009-10-01 14:00:00'), Timestamp('2009-10-01 15:00:00'), Timestamp('2009-10-01 16:00:00'), Timestamp('2009-10-01 17:00:00'), Timestamp('2009-10-01 19:00:00'), Timestamp('2009-10-01 20:00:00'), Timestamp('2009-10-01 21:00:00'), Timestamp('2009-10-01 22:00:00'), Timestamp('2009-10-01 23:00:00'), Timestamp('2009-11-01 00:00:00'), Timestamp('2009-11-01 01:00:00'), Timestamp('2009-11-01 02:00:00'), Timestamp('2009-11-01 03:00:00'), Timestamp('2009-11-01 04:00:00'), Timestamp('2009-11-01 05:00:00'), Timestamp('2009-11-01 07:00:00'), Timestamp('2009-11-01 08:00:00'), Timestamp('2009-11-01 09:00:00'), Timestamp('2009-11-01 10:00:00'), Timestamp('2009-11-01 11:00:00'), Timestamp('2009-11-01 12:00:00'), Timestamp('2009-11-01 13:00:00'), Timestamp('2009-11-01 14:00:00'), Timestamp('2009-11-01 15:00:00'), Timestamp('2009-11-01 16:00:00'), Timestamp('2009-11-01 17:00:00'), Timestamp('2009-11-01 19:00:00'), Timestamp('2009-11-01 20:00:00'), Timestamp('2009-11-01 21:00:00'), Timestamp('2009-11-01 22:00:00'), Timestamp('2009-11-01 23:00:00'), Timestamp('2009-12-01 00:00:00'), Timestamp('2009-12-01 01:00:00'), Timestamp('2009-12-01 02:00:00'), Timestamp('2009-12-01 03:00:00'), Timestamp('2009-12-01 04:00:00'), Timestamp('2009-12-01 05:00:00'), Timestamp('2009-12-01 07:00:00'), Timestamp('2009-12-01 08:00:00'), Timestamp('2009-12-01 09:00:00'), Timestamp('2009-12-01 10:00:00'), Timestamp('2009-12-01 11:00:00'), Timestamp('2009-12-01 12:00:00'), Timestamp('2009-12-01 13:00:00'), Timestamp('2009-12-01 14:00:00'), Timestamp('2009-12-01 15:00:00'), Timestamp('2009-12-01 16:00:00'), Timestamp('2009-12-01 17:00:00'), Timestamp('2009-12-01 19:00:00'), Timestamp('2009-12-01 20:00:00'), Timestamp('2009-12-01 21:00:00'), Timestamp('2009-12-01 22:00:00'), Timestamp('2009-12-01 23:00:00'), Timestamp('2010-01-01 00:00:00'), Timestamp('2010-01-01 01:00:00'), Timestamp('2010-01-01 02:00:00'), Timestamp('2010-01-01 03:00:00'), Timestamp('2010-01-01 04:00:00'), Timestamp('2010-01-01 05:00:00'), Timestamp('2010-01-01 07:00:00'), Timestamp('2010-01-01 08:00:00'), Timestamp('2010-01-01 09:00:00'), Timestamp('2010-01-01 10:00:00'), Timestamp('2010-01-01 11:00:00'), Timestamp('2010-01-01 12:00:00'), Timestamp('2010-01-01 13:00:00'), Timestamp('2010-01-01 14:00:00'), Timestamp('2010-01-01 15:00:00'), Timestamp('2010-01-01 16:00:00'), Timestamp('2010-01-01 17:00:00'), Timestamp('2010-01-01 19:00:00'), Timestamp('2010-01-01 20:00:00'), Timestamp('2010-01-01 21:00:00'), Timestamp('2010-01-01 22:00:00'), Timestamp('2010-01-01 23:00:00'), Timestamp('2010-02-01 00:00:00'), Timestamp('2010-02-01 01:00:00'), Timestamp('2010-02-01 02:00:00'), Timestamp('2010-02-01 03:00:00'), Timestamp('2010-02-01 04:00:00'), Timestamp('2010-02-01 05:00:00'), Timestamp('2010-02-01 07:00:00'), Timestamp('2010-02-01 08:00:00'), Timestamp('2010-02-01 09:00:00'), Timestamp('2010-02-01 10:00:00'), Timestamp('2010-02-01 11:00:00'), Timestamp('2010-02-01 12:00:00'), Timestamp('2010-02-01 13:00:00'), Timestamp('2010-02-01 14:00:00'), Timestamp('2010-02-01 15:00:00'), Timestamp('2010-02-01 16:00:00'), Timestamp('2010-02-01 17:00:00'), Timestamp('2010-02-01 19:00:00'), Timestamp('2010-02-01 20:00:00'), Timestamp('2010-02-01 21:00:00'), Timestamp('2010-02-01 22:00:00'), Timestamp('2010-02-01 23:00:00'), Timestamp('2010-03-01 00:00:00'), Timestamp('2010-03-01 01:00:00'), Timestamp('2010-03-01 02:00:00'), Timestamp('2010-03-01 03:00:00'), Timestamp('2010-03-01 04:00:00'), Timestamp('2010-03-01 05:00:00'), Timestamp('2010-03-01 07:00:00'), Timestamp('2010-03-01 08:00:00'), Timestamp('2010-03-01 09:00:00'), Timestamp('2010-03-01 10:00:00'), Timestamp('2010-03-01 11:00:00'), Timestamp('2010-03-01 12:00:00'), Timestamp('2010-03-01 13:00:00'), Timestamp('2010-03-01 14:00:00'), Timestamp('2010-03-01 15:00:00'), Timestamp('2010-03-01 16:00:00'), Timestamp('2010-03-01 17:00:00'), Timestamp('2010-03-01 19:00:00'), Timestamp('2010-03-01 20:00:00'), Timestamp('2010-03-01 21:00:00'), Timestamp('2010-03-01 22:00:00'), Timestamp('2010-03-01 23:00:00'), Timestamp('2010-04-01 00:00:00'), Timestamp('2010-04-01 01:00:00'), Timestamp('2010-04-01 02:00:00'), Timestamp('2010-04-01 03:00:00'), Timestamp('2010-04-01 04:00:00'), Timestamp('2010-04-01 05:00:00'), Timestamp('2010-04-01 07:00:00'), Timestamp('2010-04-01 08:00:00'), Timestamp('2010-04-01 09:00:00'), Timestamp('2010-04-01 10:00:00'), Timestamp('2010-04-01 11:00:00'), Timestamp('2010-04-01 12:00:00'), Timestamp('2010-04-01 13:00:00'), Timestamp('2010-04-01 14:00:00'), Timestamp('2010-04-01 15:00:00'), Timestamp('2010-04-01 16:00:00'), Timestamp('2010-04-01 17:00:00'), Timestamp('2010-04-01 19:00:00'), Timestamp('2010-04-01 20:00:00'), Timestamp('2010-04-01 21:00:00'), Timestamp('2010-04-01 22:00:00'), Timestamp('2010-04-01 23:00:00'), Timestamp('2010-05-01 00:00:00'), Timestamp('2010-05-01 01:00:00'), Timestamp('2010-05-01 02:00:00'), Timestamp('2010-05-01 03:00:00'), Timestamp('2010-05-01 04:00:00'), Timestamp('2010-05-01 05:00:00'), Timestamp('2010-05-01 07:00:00'), Timestamp('2010-05-01 08:00:00'), Timestamp('2010-05-01 09:00:00'), Timestamp('2010-05-01 10:00:00'), Timestamp('2010-05-01 11:00:00'), Timestamp('2010-05-01 12:00:00'), Timestamp('2010-05-01 13:00:00'), Timestamp('2010-05-01 14:00:00'), Timestamp('2010-05-01 15:00:00'), Timestamp('2010-05-01 16:00:00'), Timestamp('2010-05-01 17:00:00'), Timestamp('2010-05-01 19:00:00'), Timestamp('2010-05-01 20:00:00'), Timestamp('2010-05-01 21:00:00'), Timestamp('2010-05-01 22:00:00'), Timestamp('2010-05-01 23:00:00'), Timestamp('2010-06-01 00:00:00'), Timestamp('2010-06-01 01:00:00'), Timestamp('2010-06-01 02:00:00'), Timestamp('2010-06-01 03:00:00'), Timestamp('2010-06-01 04:00:00'), Timestamp('2010-06-01 05:00:00'), Timestamp('2010-06-01 07:00:00'), Timestamp('2010-06-01 08:00:00'), Timestamp('2010-06-01 09:00:00'), Timestamp('2010-06-01 10:00:00'), Timestamp('2010-06-01 11:00:00'), Timestamp('2010-06-01 12:00:00'), Timestamp('2010-06-01 13:00:00'), Timestamp('2010-06-01 14:00:00'), Timestamp('2010-06-01 15:00:00'), Timestamp('2010-06-01 16:00:00'), Timestamp('2010-06-01 17:00:00'), Timestamp('2010-06-01 19:00:00'), Timestamp('2010-06-01 20:00:00'), Timestamp('2010-06-01 21:00:00'), Timestamp('2010-06-01 22:00:00'), Timestamp('2010-06-01 23:00:00'), Timestamp('2010-07-01 00:00:00'), Timestamp('2010-07-01 01:00:00'), Timestamp('2010-07-01 02:00:00'), Timestamp('2010-07-01 03:00:00'), Timestamp('2010-07-01 04:00:00'), Timestamp('2010-07-01 05:00:00'), Timestamp('2010-07-01 07:00:00'), Timestamp('2010-07-01 08:00:00'), Timestamp('2010-07-01 09:00:00'), Timestamp('2010-07-01 10:00:00'), Timestamp('2010-07-01 11:00:00'), Timestamp('2010-07-01 12:00:00'), Timestamp('2010-07-01 13:00:00'), Timestamp('2010-07-01 14:00:00'), Timestamp('2010-07-01 15:00:00'), Timestamp('2010-07-01 16:00:00'), Timestamp('2010-07-01 17:00:00'), Timestamp('2010-07-01 19:00:00'), Timestamp('2010-07-01 20:00:00'), Timestamp('2010-07-01 21:00:00'), Timestamp('2010-07-01 22:00:00'), Timestamp('2010-07-01 23:00:00'), Timestamp('2010-08-01 00:00:00'), Timestamp('2010-08-01 01:00:00'), Timestamp('2010-08-01 02:00:00'), Timestamp('2010-08-01 03:00:00'), Timestamp('2010-08-01 04:00:00'), Timestamp('2010-08-01 05:00:00'), Timestamp('2010-08-01 07:00:00'), Timestamp('2010-08-01 08:00:00'), Timestamp('2010-08-01 09:00:00'), Timestamp('2010-08-01 10:00:00'), Timestamp('2010-08-01 11:00:00'), Timestamp('2010-08-01 12:00:00'), Timestamp('2010-08-01 13:00:00'), Timestamp('2010-08-01 14:00:00'), Timestamp('2010-08-01 15:00:00'), Timestamp('2010-08-01 16:00:00'), Timestamp('2010-08-01 17:00:00'), Timestamp('2010-08-01 19:00:00'), Timestamp('2010-08-01 20:00:00'), Timestamp('2010-08-01 21:00:00'), Timestamp('2010-08-01 22:00:00'), Timestamp('2010-08-01 23:00:00'), Timestamp('2010-09-01 00:00:00'), Timestamp('2010-09-01 01:00:00'), Timestamp('2010-09-01 02:00:00'), Timestamp('2010-09-01 03:00:00'), Timestamp('2010-09-01 04:00:00'), Timestamp('2010-09-01 05:00:00'), Timestamp('2010-09-01 07:00:00'), Timestamp('2010-09-01 08:00:00'), Timestamp('2010-09-01 09:00:00'), Timestamp('2010-09-01 10:00:00'), Timestamp('2010-09-01 11:00:00'), Timestamp('2010-09-01 12:00:00'), Timestamp('2010-09-01 13:00:00'), Timestamp('2010-09-01 14:00:00'), Timestamp('2010-09-01 15:00:00'), Timestamp('2010-09-01 16:00:00'), Timestamp('2010-09-01 17:00:00'), Timestamp('2010-09-01 19:00:00'), Timestamp('2010-09-01 20:00:00'), Timestamp('2010-09-01 21:00:00'), Timestamp('2010-09-01 22:00:00'), Timestamp('2010-09-01 23:00:00'), Timestamp('2010-10-01 00:00:00'), Timestamp('2010-10-01 01:00:00'), Timestamp('2010-10-01 02:00:00'), Timestamp('2010-10-01 03:00:00'), Timestamp('2010-10-01 04:00:00'), Timestamp('2010-10-01 05:00:00'), Timestamp('2010-10-01 07:00:00'), Timestamp('2010-10-01 08:00:00'), Timestamp('2010-10-01 09:00:00'), Timestamp('2010-10-01 10:00:00'), Timestamp('2010-10-01 11:00:00'), Timestamp('2010-10-01 12:00:00'), Timestamp('2010-10-01 13:00:00'), Timestamp('2010-10-01 14:00:00'), Timestamp('2010-10-01 15:00:00'), Timestamp('2010-10-01 16:00:00'), Timestamp('2010-10-01 17:00:00'), Timestamp('2010-10-01 19:00:00'), Timestamp('2010-10-01 20:00:00'), Timestamp('2010-10-01 21:00:00'), Timestamp('2010-10-01 22:00:00'), Timestamp('2010-10-01 23:00:00'), Timestamp('2010-11-01 00:00:00'), Timestamp('2010-11-01 01:00:00'), Timestamp('2010-11-01 02:00:00'), Timestamp('2010-11-01 03:00:00'), Timestamp('2010-11-01 04:00:00'), Timestamp('2010-11-01 05:00:00'), Timestamp('2010-11-01 07:00:00'), Timestamp('2010-11-01 08:00:00'), Timestamp('2010-11-01 09:00:00'), Timestamp('2010-11-01 10:00:00'), Timestamp('2010-11-01 11:00:00'), Timestamp('2010-11-01 12:00:00'), Timestamp('2010-11-01 13:00:00'), Timestamp('2010-11-01 14:00:00'), Timestamp('2010-11-01 15:00:00'), Timestamp('2010-11-01 16:00:00'), Timestamp('2010-11-01 17:00:00'), Timestamp('2010-11-01 19:00:00'), Timestamp('2010-11-01 20:00:00'), Timestamp('2010-11-01 21:00:00'), Timestamp('2010-11-01 22:00:00'), Timestamp('2010-11-01 23:00:00'), Timestamp('2010-12-01 00:00:00'), Timestamp('2010-12-01 01:00:00'), Timestamp('2010-12-01 02:00:00'), Timestamp('2010-12-01 03:00:00'), Timestamp('2010-12-01 04:00:00'), Timestamp('2010-12-01 05:00:00'), Timestamp('2010-12-01 07:00:00'), Timestamp('2010-12-01 08:00:00'), Timestamp('2010-12-01 09:00:00'), Timestamp('2010-12-01 10:00:00'), Timestamp('2010-12-01 11:00:00'), Timestamp('2010-12-01 12:00:00'), Timestamp('2010-12-01 13:00:00'), Timestamp('2010-12-01 14:00:00'), Timestamp('2010-12-01 15:00:00'), Timestamp('2010-12-01 16:00:00'), Timestamp('2010-12-01 17:00:00'), Timestamp('2010-12-01 19:00:00'), Timestamp('2010-12-01 20:00:00'), Timestamp('2010-12-01 21:00:00'), Timestamp('2010-12-01 22:00:00'), Timestamp('2010-12-01 23:00:00'), Timestamp('2011-01-01 00:00:00'), Timestamp('2011-01-01 01:00:00'), Timestamp('2011-01-01 02:00:00'), Timestamp('2011-01-01 03:00:00'), Timestamp('2011-01-01 04:00:00'), Timestamp('2011-01-01 05:00:00'), Timestamp('2011-01-01 07:00:00'), Timestamp('2011-01-01 08:00:00'), Timestamp('2011-01-01 09:00:00'), Timestamp('2011-01-01 10:00:00'), Timestamp('2011-01-01 11:00:00'), Timestamp('2011-01-01 12:00:00'), Timestamp('2011-01-01 13:00:00'), Timestamp('2011-01-01 14:00:00'), Timestamp('2011-01-01 15:00:00'), Timestamp('2011-01-01 16:00:00'), Timestamp('2011-01-01 17:00:00'), Timestamp('2011-01-01 19:00:00'), Timestamp('2011-01-01 20:00:00'), Timestamp('2011-01-01 21:00:00'), Timestamp('2011-01-01 22:00:00'), Timestamp('2011-01-01 23:00:00'), Timestamp('2011-02-01 00:00:00'), Timestamp('2011-02-01 01:00:00'), Timestamp('2011-02-01 02:00:00'), Timestamp('2011-02-01 03:00:00'), Timestamp('2011-02-01 04:00:00'), Timestamp('2011-02-01 05:00:00'), Timestamp('2011-02-01 07:00:00'), Timestamp('2011-02-01 08:00:00'), Timestamp('2011-02-01 09:00:00'), Timestamp('2011-02-01 10:00:00'), Timestamp('2011-02-01 11:00:00'), Timestamp('2011-02-01 12:00:00'), Timestamp('2011-02-01 13:00:00'), Timestamp('2011-02-01 14:00:00'), Timestamp('2011-02-01 15:00:00'), Timestamp('2011-02-01 16:00:00'), Timestamp('2011-02-01 17:00:00'), Timestamp('2011-02-01 19:00:00'), Timestamp('2011-02-01 20:00:00'), Timestamp('2011-02-01 21:00:00'), Timestamp('2011-02-01 22:00:00'), Timestamp('2011-02-01 23:00:00'), Timestamp('2011-03-01 00:00:00'), Timestamp('2011-03-01 01:00:00'), Timestamp('2011-03-01 02:00:00'), Timestamp('2011-03-01 03:00:00'), Timestamp('2011-03-01 04:00:00'), Timestamp('2011-03-01 05:00:00'), Timestamp('2011-03-01 07:00:00'), Timestamp('2011-03-01 08:00:00'), Timestamp('2011-03-01 09:00:00'), Timestamp('2011-03-01 10:00:00'), Timestamp('2011-03-01 11:00:00'), Timestamp('2011-03-01 12:00:00'), Timestamp('2011-03-01 13:00:00'), Timestamp('2011-03-01 14:00:00'), Timestamp('2011-03-01 15:00:00'), Timestamp('2011-03-01 16:00:00'), Timestamp('2011-03-01 17:00:00'), Timestamp('2011-03-01 19:00:00'), Timestamp('2011-03-01 20:00:00'), Timestamp('2011-03-01 21:00:00'), Timestamp('2011-03-01 22:00:00'), Timestamp('2011-03-01 23:00:00'), Timestamp('2011-04-01 00:00:00'), Timestamp('2011-04-01 01:00:00'), Timestamp('2011-04-01 02:00:00'), Timestamp('2011-04-01 03:00:00'), Timestamp('2011-04-01 04:00:00'), Timestamp('2011-04-01 05:00:00'), Timestamp('2011-04-01 07:00:00'), Timestamp('2011-04-01 08:00:00'), Timestamp('2011-04-01 09:00:00'), Timestamp('2011-04-01 10:00:00'), Timestamp('2011-04-01 11:00:00'), Timestamp('2011-04-01 12:00:00'), Timestamp('2011-04-01 13:00:00'), Timestamp('2011-04-01 14:00:00'), Timestamp('2011-04-01 15:00:00'), Timestamp('2011-04-01 16:00:00'), Timestamp('2011-04-01 17:00:00'), Timestamp('2011-04-01 19:00:00'), Timestamp('2011-04-01 20:00:00'), Timestamp('2011-04-01 21:00:00'), Timestamp('2011-04-01 22:00:00'), Timestamp('2011-04-01 23:00:00'), Timestamp('2011-05-01 00:00:00'), Timestamp('2011-05-01 01:00:00'), Timestamp('2011-05-01 02:00:00'), Timestamp('2011-05-01 03:00:00'), Timestamp('2011-05-01 04:00:00'), Timestamp('2011-05-01 05:00:00'), Timestamp('2011-05-01 07:00:00'), Timestamp('2011-05-01 08:00:00'), Timestamp('2011-05-01 09:00:00'), Timestamp('2011-05-01 10:00:00'), Timestamp('2011-05-01 11:00:00'), Timestamp('2011-05-01 12:00:00'), Timestamp('2011-05-01 13:00:00'), Timestamp('2011-05-01 14:00:00'), Timestamp('2011-05-01 15:00:00'), Timestamp('2011-05-01 16:00:00'), Timestamp('2011-05-01 17:00:00'), Timestamp('2011-05-01 19:00:00'), Timestamp('2011-05-01 20:00:00'), Timestamp('2011-05-01 21:00:00'), Timestamp('2011-05-01 22:00:00'), Timestamp('2011-05-01 23:00:00'), Timestamp('2011-06-01 00:00:00'), Timestamp('2011-06-01 01:00:00'), Timestamp('2011-06-01 02:00:00'), Timestamp('2011-06-01 03:00:00'), Timestamp('2011-06-01 04:00:00'), Timestamp('2011-06-01 05:00:00'), Timestamp('2011-06-01 07:00:00'), Timestamp('2011-06-01 08:00:00'), Timestamp('2011-06-01 09:00:00'), Timestamp('2011-06-01 10:00:00'), Timestamp('2011-06-01 11:00:00'), Timestamp('2011-06-01 12:00:00'), Timestamp('2011-06-01 13:00:00'), Timestamp('2011-06-01 14:00:00'), Timestamp('2011-06-01 15:00:00'), Timestamp('2011-06-01 16:00:00'), Timestamp('2011-06-01 17:00:00'), Timestamp('2011-06-01 19:00:00'), Timestamp('2011-06-01 20:00:00'), Timestamp('2011-06-01 21:00:00'), Timestamp('2011-06-01 22:00:00'), Timestamp('2011-06-01 23:00:00'), Timestamp('2011-07-01 00:00:00'), Timestamp('2011-07-01 01:00:00'), Timestamp('2011-07-01 02:00:00'), Timestamp('2011-07-01 03:00:00'), Timestamp('2011-07-01 04:00:00'), Timestamp('2011-07-01 05:00:00'), Timestamp('2011-07-01 07:00:00'), Timestamp('2011-07-01 08:00:00'), Timestamp('2011-07-01 09:00:00'), Timestamp('2011-07-01 10:00:00'), Timestamp('2011-07-01 11:00:00'), Timestamp('2011-07-01 12:00:00'), Timestamp('2011-07-01 13:00:00'), Timestamp('2011-07-01 14:00:00'), Timestamp('2011-07-01 15:00:00'), Timestamp('2011-07-01 16:00:00'), Timestamp('2011-07-01 17:00:00'), Timestamp('2011-07-01 19:00:00'), Timestamp('2011-07-01 20:00:00'), Timestamp('2011-07-01 21:00:00'), Timestamp('2011-07-01 22:00:00'), Timestamp('2011-07-01 23:00:00'), Timestamp('2011-08-01 00:00:00'), Timestamp('2011-08-01 01:00:00'), Timestamp('2011-08-01 02:00:00'), Timestamp('2011-08-01 03:00:00'), Timestamp('2011-08-01 04:00:00'), Timestamp('2011-08-01 05:00:00'), Timestamp('2011-08-01 07:00:00'), Timestamp('2011-08-01 08:00:00'), Timestamp('2011-08-01 09:00:00'), Timestamp('2011-08-01 10:00:00'), Timestamp('2011-08-01 11:00:00'), Timestamp('2011-08-01 12:00:00'), Timestamp('2011-08-01 13:00:00'), Timestamp('2011-08-01 14:00:00'), Timestamp('2011-08-01 15:00:00'), Timestamp('2011-08-01 16:00:00'), Timestamp('2011-08-01 17:00:00'), Timestamp('2011-08-01 19:00:00'), Timestamp('2011-08-01 20:00:00'), Timestamp('2011-08-01 21:00:00'), Timestamp('2011-08-01 22:00:00'), Timestamp('2011-08-01 23:00:00'), Timestamp('2011-09-01 00:00:00'), Timestamp('2011-09-01 01:00:00'), Timestamp('2011-09-01 02:00:00'), Timestamp('2011-09-01 03:00:00'), Timestamp('2011-09-01 04:00:00'), Timestamp('2011-09-01 05:00:00'), Timestamp('2011-09-01 07:00:00'), Timestamp('2011-09-01 08:00:00'), Timestamp('2011-09-01 09:00:00'), Timestamp('2011-09-01 10:00:00'), Timestamp('2011-09-01 11:00:00'), Timestamp('2011-09-01 12:00:00'), Timestamp('2011-09-01 13:00:00'), Timestamp('2011-09-01 14:00:00'), Timestamp('2011-09-01 15:00:00'), Timestamp('2011-09-01 16:00:00'), Timestamp('2011-09-01 17:00:00'), Timestamp('2011-09-01 19:00:00'), Timestamp('2011-09-01 20:00:00'), Timestamp('2011-09-01 21:00:00'), Timestamp('2011-09-01 22:00:00'), Timestamp('2011-09-01 23:00:00'), Timestamp('2011-10-01 00:00:00'), Timestamp('2011-10-01 01:00:00'), Timestamp('2011-10-01 02:00:00'), Timestamp('2011-10-01 03:00:00'), Timestamp('2011-10-01 04:00:00'), Timestamp('2011-10-01 05:00:00'), Timestamp('2011-10-01 07:00:00'), Timestamp('2011-10-01 08:00:00'), Timestamp('2011-10-01 09:00:00'), Timestamp('2011-10-01 10:00:00'), Timestamp('2011-10-01 11:00:00'), Timestamp('2011-10-01 12:00:00'), Timestamp('2011-10-01 13:00:00'), Timestamp('2011-10-01 14:00:00'), Timestamp('2011-10-01 15:00:00'), Timestamp('2011-10-01 16:00:00'), Timestamp('2011-10-01 17:00:00'), Timestamp('2011-10-01 19:00:00'), Timestamp('2011-10-01 20:00:00'), Timestamp('2011-10-01 21:00:00'), Timestamp('2011-10-01 22:00:00'), Timestamp('2011-10-01 23:00:00'), Timestamp('2011-11-01 00:00:00'), Timestamp('2011-11-01 01:00:00'), Timestamp('2011-11-01 02:00:00'), Timestamp('2011-11-01 03:00:00'), Timestamp('2011-11-01 04:00:00'), Timestamp('2011-11-01 05:00:00'), Timestamp('2011-11-01 07:00:00'), Timestamp('2011-11-01 08:00:00'), Timestamp('2011-11-01 09:00:00'), Timestamp('2011-11-01 10:00:00'), Timestamp('2011-11-01 11:00:00'), Timestamp('2011-11-01 12:00:00'), Timestamp('2011-11-01 13:00:00'), Timestamp('2011-11-01 14:00:00'), Timestamp('2011-11-01 15:00:00'), Timestamp('2011-11-01 16:00:00'), Timestamp('2011-11-01 17:00:00'), Timestamp('2011-11-01 19:00:00'), Timestamp('2011-11-01 20:00:00'), Timestamp('2011-11-01 21:00:00'), Timestamp('2011-11-01 22:00:00'), Timestamp('2011-11-01 23:00:00'), Timestamp('2011-12-01 00:00:00'), Timestamp('2011-12-01 01:00:00'), Timestamp('2011-12-01 02:00:00'), Timestamp('2011-12-01 03:00:00'), Timestamp('2011-12-01 04:00:00'), Timestamp('2011-12-01 05:00:00'), Timestamp('2011-12-01 07:00:00'), Timestamp('2011-12-01 08:00:00'), Timestamp('2011-12-01 09:00:00'), Timestamp('2011-12-01 10:00:00'), Timestamp('2011-12-01 11:00:00'), Timestamp('2011-12-01 12:00:00'), Timestamp('2011-12-01 13:00:00'), Timestamp('2011-12-01 14:00:00'), Timestamp('2011-12-01 15:00:00'), Timestamp('2011-12-01 16:00:00'), Timestamp('2011-12-01 17:00:00'), Timestamp('2011-12-01 19:00:00'), Timestamp('2011-12-01 20:00:00'), Timestamp('2011-12-01 21:00:00'), Timestamp('2011-12-01 22:00:00'), Timestamp('2011-12-01 23:00:00'), Timestamp('2012-01-01 00:00:00'), Timestamp('2012-01-01 01:00:00'), Timestamp('2012-01-01 02:00:00'), Timestamp('2012-01-01 03:00:00'), Timestamp('2012-01-01 04:00:00'), Timestamp('2012-01-01 05:00:00'), Timestamp('2012-01-01 07:00:00'), Timestamp('2012-01-01 08:00:00'), Timestamp('2012-01-01 09:00:00'), Timestamp('2012-01-01 10:00:00'), Timestamp('2012-01-01 11:00:00'), Timestamp('2012-01-01 12:00:00'), Timestamp('2012-01-01 13:00:00'), Timestamp('2012-01-01 14:00:00'), Timestamp('2012-01-01 15:00:00'), Timestamp('2012-01-01 16:00:00'), Timestamp('2012-01-01 17:00:00'), Timestamp('2012-01-01 19:00:00'), Timestamp('2012-01-01 20:00:00'), Timestamp('2012-01-01 21:00:00'), Timestamp('2012-01-01 22:00:00'), Timestamp('2012-01-01 23:00:00'), Timestamp('2012-02-01 00:00:00'), Timestamp('2012-02-01 01:00:00'), Timestamp('2012-02-01 02:00:00'), Timestamp('2012-02-01 03:00:00'), Timestamp('2012-02-01 04:00:00'), Timestamp('2012-02-01 05:00:00'), Timestamp('2012-02-01 07:00:00'), Timestamp('2012-02-01 08:00:00'), Timestamp('2012-02-01 09:00:00'), Timestamp('2012-02-01 10:00:00'), Timestamp('2012-02-01 11:00:00'), Timestamp('2012-02-01 12:00:00'), Timestamp('2012-02-01 13:00:00'), Timestamp('2012-02-01 14:00:00'), Timestamp('2012-02-01 15:00:00'), Timestamp('2012-02-01 16:00:00'), Timestamp('2012-02-01 17:00:00'), Timestamp('2012-02-01 19:00:00'), Timestamp('2012-02-01 20:00:00'), Timestamp('2012-02-01 21:00:00'), Timestamp('2012-02-01 22:00:00'), Timestamp('2012-02-01 23:00:00'), Timestamp('2012-03-01 00:00:00'), Timestamp('2012-03-01 01:00:00'), Timestamp('2012-03-01 02:00:00'), Timestamp('2012-03-01 03:00:00'), Timestamp('2012-03-01 04:00:00'), Timestamp('2012-03-01 05:00:00'), Timestamp('2012-03-01 07:00:00'), Timestamp('2012-03-01 08:00:00'), Timestamp('2012-03-01 09:00:00'), Timestamp('2012-03-01 10:00:00'), Timestamp('2012-03-01 11:00:00'), Timestamp('2012-03-01 12:00:00'), Timestamp('2012-03-01 13:00:00'), Timestamp('2012-03-01 14:00:00'), Timestamp('2012-03-01 15:00:00'), Timestamp('2012-03-01 16:00:00'), Timestamp('2012-03-01 17:00:00'), Timestamp('2012-03-01 19:00:00'), Timestamp('2012-03-01 20:00:00'), Timestamp('2012-03-01 21:00:00'), Timestamp('2012-03-01 22:00:00'), Timestamp('2012-03-01 23:00:00'), Timestamp('2012-04-01 00:00:00'), Timestamp('2012-04-01 01:00:00'), Timestamp('2012-04-01 02:00:00'), Timestamp('2012-04-01 03:00:00'), Timestamp('2012-04-01 04:00:00'), Timestamp('2012-04-01 05:00:00'), Timestamp('2012-04-01 07:00:00'), Timestamp('2012-04-01 08:00:00'), Timestamp('2012-04-01 09:00:00'), Timestamp('2012-04-01 10:00:00'), Timestamp('2012-04-01 11:00:00'), Timestamp('2012-04-01 12:00:00'), Timestamp('2012-04-01 13:00:00'), Timestamp('2012-04-01 14:00:00'), Timestamp('2012-04-01 15:00:00'), Timestamp('2012-04-01 16:00:00'), Timestamp('2012-04-01 17:00:00'), Timestamp('2012-04-01 19:00:00'), Timestamp('2012-04-01 20:00:00'), Timestamp('2012-04-01 21:00:00'), Timestamp('2012-04-01 22:00:00'), Timestamp('2012-04-01 23:00:00'), Timestamp('2012-05-01 00:00:00'), Timestamp('2012-05-01 01:00:00'), Timestamp('2012-05-01 02:00:00'), Timestamp('2012-05-01 03:00:00'), Timestamp('2012-05-01 04:00:00'), Timestamp('2012-05-01 05:00:00'), Timestamp('2012-05-01 07:00:00'), Timestamp('2012-05-01 08:00:00'), Timestamp('2012-05-01 09:00:00'), Timestamp('2012-05-01 10:00:00'), Timestamp('2012-05-01 11:00:00'), Timestamp('2012-05-01 12:00:00'), Timestamp('2012-05-01 13:00:00'), Timestamp('2012-05-01 14:00:00'), Timestamp('2012-05-01 15:00:00'), Timestamp('2012-05-01 16:00:00'), Timestamp('2012-05-01 17:00:00'), Timestamp('2012-05-01 19:00:00'), Timestamp('2012-05-01 20:00:00'), Timestamp('2012-05-01 21:00:00'), Timestamp('2012-05-01 22:00:00'), Timestamp('2012-05-01 23:00:00'), Timestamp('2012-06-01 00:00:00'), Timestamp('2012-06-01 01:00:00'), Timestamp('2012-06-01 02:00:00'), Timestamp('2012-06-01 03:00:00'), Timestamp('2012-06-01 04:00:00'), Timestamp('2012-06-01 05:00:00'), Timestamp('2012-06-01 07:00:00'), Timestamp('2012-06-01 08:00:00'), Timestamp('2012-06-01 09:00:00'), Timestamp('2012-06-01 10:00:00'), Timestamp('2012-06-01 11:00:00'), Timestamp('2012-06-01 12:00:00'), Timestamp('2012-06-01 13:00:00'), Timestamp('2012-06-01 14:00:00'), Timestamp('2012-06-01 15:00:00'), Timestamp('2012-06-01 16:00:00'), Timestamp('2012-06-01 17:00:00'), Timestamp('2012-06-01 19:00:00'), Timestamp('2012-06-01 20:00:00'), Timestamp('2012-06-01 21:00:00'), Timestamp('2012-06-01 22:00:00'), Timestamp('2012-06-01 23:00:00'), Timestamp('2012-07-01 00:00:00'), Timestamp('2012-07-01 01:00:00'), Timestamp('2012-07-01 02:00:00'), Timestamp('2012-07-01 03:00:00'), Timestamp('2012-07-01 04:00:00'), Timestamp('2012-07-01 05:00:00'), Timestamp('2012-07-01 07:00:00'), Timestamp('2012-07-01 08:00:00'), Timestamp('2012-07-01 09:00:00'), Timestamp('2012-07-01 10:00:00'), Timestamp('2012-07-01 11:00:00'), Timestamp('2012-07-01 12:00:00'), Timestamp('2012-07-01 13:00:00'), Timestamp('2012-07-01 14:00:00'), Timestamp('2012-07-01 15:00:00'), Timestamp('2012-07-01 16:00:00'), Timestamp('2012-07-01 17:00:00'), Timestamp('2012-07-01 19:00:00'), Timestamp('2012-07-01 20:00:00'), Timestamp('2012-07-01 21:00:00'), Timestamp('2012-07-01 22:00:00'), Timestamp('2012-07-01 23:00:00'), Timestamp('2012-08-01 00:00:00'), Timestamp('2012-08-01 01:00:00'), Timestamp('2012-08-01 02:00:00'), Timestamp('2012-08-01 03:00:00'), Timestamp('2012-08-01 04:00:00'), Timestamp('2012-08-01 05:00:00'), Timestamp('2012-08-01 07:00:00'), Timestamp('2012-08-01 08:00:00'), Timestamp('2012-08-01 09:00:00'), Timestamp('2012-08-01 10:00:00'), Timestamp('2012-08-01 11:00:00'), Timestamp('2012-08-01 12:00:00'), Timestamp('2012-08-01 13:00:00'), Timestamp('2012-08-01 14:00:00'), Timestamp('2012-08-01 15:00:00'), Timestamp('2012-08-01 16:00:00'), Timestamp('2012-08-01 17:00:00'), Timestamp('2012-08-01 19:00:00'), Timestamp('2012-08-01 20:00:00'), Timestamp('2012-08-01 21:00:00'), Timestamp('2012-08-01 22:00:00'), Timestamp('2012-08-01 23:00:00'), Timestamp('2012-09-01 00:00:00'), Timestamp('2012-09-01 01:00:00'), Timestamp('2012-09-01 02:00:00'), Timestamp('2012-09-01 03:00:00'), Timestamp('2012-09-01 04:00:00'), Timestamp('2012-09-01 05:00:00'), Timestamp('2012-09-01 07:00:00'), Timestamp('2012-09-01 08:00:00'), Timestamp('2012-09-01 09:00:00'), Timestamp('2012-09-01 10:00:00'), Timestamp('2012-09-01 11:00:00'), Timestamp('2012-09-01 12:00:00'), Timestamp('2012-09-01 13:00:00'), Timestamp('2012-09-01 14:00:00'), Timestamp('2012-09-01 15:00:00'), Timestamp('2012-09-01 16:00:00'), Timestamp('2012-09-01 17:00:00'), Timestamp('2012-09-01 19:00:00'), Timestamp('2012-09-01 20:00:00'), Timestamp('2012-09-01 21:00:00'), Timestamp('2012-09-01 22:00:00'), Timestamp('2012-09-01 23:00:00'), Timestamp('2012-10-01 00:00:00'), Timestamp('2012-10-01 01:00:00'), Timestamp('2012-10-01 02:00:00'), Timestamp('2012-10-01 03:00:00'), Timestamp('2012-10-01 04:00:00'), Timestamp('2012-10-01 05:00:00'), Timestamp('2012-10-01 07:00:00'), Timestamp('2012-10-01 08:00:00'), Timestamp('2012-10-01 09:00:00'), Timestamp('2012-10-01 10:00:00'), Timestamp('2012-10-01 11:00:00'), Timestamp('2012-10-01 12:00:00'), Timestamp('2012-10-01 13:00:00'), Timestamp('2012-10-01 14:00:00'), Timestamp('2012-10-01 15:00:00'), Timestamp('2012-10-01 16:00:00'), Timestamp('2012-10-01 17:00:00'), Timestamp('2012-10-01 19:00:00'), Timestamp('2012-10-01 20:00:00'), Timestamp('2012-10-01 21:00:00'), Timestamp('2012-10-01 22:00:00'), Timestamp('2012-10-01 23:00:00'), Timestamp('2012-11-01 00:00:00'), Timestamp('2012-11-01 01:00:00'), Timestamp('2012-11-01 02:00:00'), Timestamp('2012-11-01 03:00:00'), Timestamp('2012-11-01 04:00:00'), Timestamp('2012-11-01 05:00:00'), Timestamp('2012-11-01 07:00:00'), Timestamp('2012-11-01 08:00:00'), Timestamp('2012-11-01 09:00:00'), Timestamp('2012-11-01 10:00:00'), Timestamp('2012-11-01 11:00:00'), Timestamp('2012-11-01 12:00:00'), Timestamp('2012-11-01 13:00:00'), Timestamp('2012-11-01 14:00:00'), Timestamp('2012-11-01 15:00:00'), Timestamp('2012-11-01 16:00:00'), Timestamp('2012-11-01 17:00:00'), Timestamp('2012-11-01 19:00:00'), Timestamp('2012-11-01 20:00:00'), Timestamp('2012-11-01 21:00:00'), Timestamp('2012-11-01 22:00:00'), Timestamp('2012-11-01 23:00:00'), Timestamp('2012-12-01 00:00:00'), Timestamp('2012-12-01 01:00:00'), Timestamp('2012-12-01 02:00:00'), Timestamp('2012-12-01 03:00:00'), Timestamp('2012-12-01 04:00:00'), Timestamp('2012-12-01 05:00:00'), Timestamp('2012-12-01 07:00:00'), Timestamp('2012-12-01 08:00:00'), Timestamp('2012-12-01 09:00:00'), Timestamp('2012-12-01 10:00:00'), Timestamp('2012-12-01 11:00:00'), Timestamp('2012-12-01 12:00:00'), Timestamp('2012-12-01 13:00:00'), Timestamp('2012-12-01 14:00:00'), Timestamp('2012-12-01 15:00:00'), Timestamp('2012-12-01 16:00:00'), Timestamp('2012-12-01 17:00:00'), Timestamp('2012-12-01 19:00:00'), Timestamp('2012-12-01 20:00:00'), Timestamp('2012-12-01 21:00:00'), Timestamp('2012-12-01 22:00:00'), Timestamp('2012-12-01 23:00:00'), Timestamp('2013-01-01 00:00:00'), Timestamp('2013-01-01 01:00:00'), Timestamp('2013-01-01 02:00:00'), Timestamp('2013-01-01 03:00:00'), Timestamp('2013-01-01 04:00:00'), Timestamp('2013-01-01 05:00:00'), Timestamp('2013-01-01 07:00:00'), Timestamp('2013-01-01 08:00:00'), Timestamp('2013-01-01 09:00:00'), Timestamp('2013-01-01 10:00:00'), Timestamp('2013-01-01 11:00:00'), Timestamp('2013-01-01 12:00:00'), Timestamp('2013-01-01 13:00:00'), Timestamp('2013-01-01 14:00:00'), Timestamp('2013-01-01 15:00:00'), Timestamp('2013-01-01 16:00:00'), Timestamp('2013-01-01 17:00:00'), Timestamp('2013-01-01 19:00:00'), Timestamp('2013-01-01 20:00:00'), Timestamp('2013-01-01 21:00:00'), Timestamp('2013-01-01 22:00:00'), Timestamp('2013-01-01 23:00:00'), Timestamp('2013-02-01 00:00:00'), Timestamp('2013-02-01 01:00:00'), Timestamp('2013-02-01 02:00:00'), Timestamp('2013-02-01 03:00:00'), Timestamp('2013-02-01 04:00:00'), Timestamp('2013-02-01 05:00:00'), Timestamp('2013-02-01 07:00:00'), Timestamp('2013-02-01 08:00:00'), Timestamp('2013-02-01 09:00:00'), Timestamp('2013-02-01 10:00:00'), Timestamp('2013-02-01 11:00:00'), Timestamp('2013-02-01 12:00:00'), Timestamp('2013-02-01 13:00:00'), Timestamp('2013-02-01 14:00:00'), Timestamp('2013-02-01 15:00:00'), Timestamp('2013-02-01 16:00:00'), Timestamp('2013-02-01 17:00:00'), Timestamp('2013-02-01 19:00:00'), Timestamp('2013-02-01 20:00:00'), Timestamp('2013-02-01 21:00:00'), Timestamp('2013-02-01 22:00:00'), Timestamp('2013-02-01 23:00:00'), Timestamp('2013-03-01 00:00:00'), Timestamp('2013-03-01 01:00:00'), Timestamp('2013-03-01 02:00:00'), Timestamp('2013-03-01 03:00:00'), Timestamp('2013-03-01 04:00:00'), Timestamp('2013-03-01 05:00:00'), Timestamp('2013-03-01 07:00:00'), Timestamp('2013-03-01 08:00:00'), Timestamp('2013-03-01 09:00:00'), Timestamp('2013-03-01 10:00:00'), Timestamp('2013-03-01 11:00:00'), Timestamp('2013-03-01 12:00:00'), Timestamp('2013-03-01 13:00:00'), Timestamp('2013-03-01 14:00:00'), Timestamp('2013-03-01 15:00:00'), Timestamp('2013-03-01 16:00:00'), Timestamp('2013-03-01 17:00:00'), Timestamp('2013-03-01 19:00:00'), Timestamp('2013-03-01 20:00:00'), Timestamp('2013-03-01 21:00:00'), Timestamp('2013-03-01 22:00:00'), Timestamp('2013-03-01 23:00:00'), Timestamp('2013-04-01 00:00:00'), Timestamp('2013-04-01 01:00:00'), Timestamp('2013-04-01 02:00:00'), Timestamp('2013-04-01 03:00:00'), Timestamp('2013-04-01 04:00:00'), Timestamp('2013-04-01 05:00:00'), Timestamp('2013-04-01 07:00:00'), Timestamp('2013-04-01 08:00:00'), Timestamp('2013-04-01 09:00:00'), Timestamp('2013-04-01 10:00:00'), Timestamp('2013-04-01 11:00:00'), Timestamp('2013-04-01 12:00:00'), Timestamp('2013-04-01 13:00:00'), Timestamp('2013-04-01 14:00:00'), Timestamp('2013-04-01 15:00:00'), Timestamp('2013-04-01 16:00:00'), Timestamp('2013-04-01 17:00:00'), Timestamp('2013-04-01 19:00:00'), Timestamp('2013-04-01 20:00:00'), Timestamp('2013-04-01 21:00:00'), Timestamp('2013-04-01 22:00:00'), Timestamp('2013-04-01 23:00:00'), Timestamp('2013-05-01 00:00:00'), Timestamp('2013-05-01 01:00:00'), Timestamp('2013-05-01 02:00:00'), Timestamp('2013-05-01 03:00:00'), Timestamp('2013-05-01 04:00:00'), Timestamp('2013-05-01 05:00:00'), Timestamp('2013-05-01 07:00:00'), Timestamp('2013-05-01 08:00:00'), Timestamp('2013-05-01 09:00:00'), Timestamp('2013-05-01 10:00:00'), Timestamp('2013-05-01 11:00:00'), Timestamp('2013-05-01 12:00:00'), Timestamp('2013-05-01 13:00:00'), Timestamp('2013-05-01 14:00:00'), Timestamp('2013-05-01 15:00:00'), Timestamp('2013-05-01 16:00:00'), Timestamp('2013-05-01 17:00:00'), Timestamp('2013-05-01 19:00:00'), Timestamp('2013-05-01 20:00:00'), Timestamp('2013-05-01 21:00:00'), Timestamp('2013-05-01 22:00:00'), Timestamp('2013-05-01 23:00:00'), Timestamp('2013-06-01 00:00:00'), Timestamp('2013-06-01 01:00:00'), Timestamp('2013-06-01 02:00:00'), Timestamp('2013-06-01 03:00:00'), Timestamp('2013-06-01 04:00:00'), Timestamp('2013-06-01 05:00:00'), Timestamp('2013-06-01 07:00:00'), Timestamp('2013-06-01 08:00:00'), Timestamp('2013-06-01 09:00:00'), Timestamp('2013-06-01 10:00:00'), Timestamp('2013-06-01 11:00:00'), Timestamp('2013-06-01 12:00:00'), Timestamp('2013-06-01 13:00:00'), Timestamp('2013-06-01 14:00:00'), Timestamp('2013-06-01 15:00:00'), Timestamp('2013-06-01 16:00:00'), Timestamp('2013-06-01 17:00:00'), Timestamp('2013-06-01 19:00:00'), Timestamp('2013-06-01 20:00:00'), Timestamp('2013-06-01 21:00:00'), Timestamp('2013-06-01 22:00:00'), Timestamp('2013-06-01 23:00:00'), Timestamp('2013-07-01 00:00:00'), Timestamp('2013-07-01 01:00:00'), Timestamp('2013-07-01 02:00:00'), Timestamp('2013-07-01 03:00:00'), Timestamp('2013-07-01 04:00:00'), Timestamp('2013-07-01 05:00:00'), Timestamp('2013-07-01 07:00:00'), Timestamp('2013-07-01 08:00:00'), Timestamp('2013-07-01 09:00:00'), Timestamp('2013-07-01 10:00:00'), Timestamp('2013-07-01 11:00:00'), Timestamp('2013-07-01 12:00:00'), Timestamp('2013-07-01 13:00:00'), Timestamp('2013-07-01 14:00:00'), Timestamp('2013-07-01 15:00:00'), Timestamp('2013-07-01 16:00:00'), Timestamp('2013-07-01 17:00:00'), Timestamp('2013-07-01 19:00:00'), Timestamp('2013-07-01 20:00:00'), Timestamp('2013-07-01 21:00:00'), Timestamp('2013-07-01 22:00:00'), Timestamp('2013-07-01 23:00:00'), Timestamp('2013-08-01 00:00:00'), Timestamp('2013-08-01 01:00:00'), Timestamp('2013-08-01 02:00:00'), Timestamp('2013-08-01 03:00:00'), Timestamp('2013-08-01 04:00:00'), Timestamp('2013-08-01 05:00:00'), Timestamp('2013-08-01 07:00:00'), Timestamp('2013-08-01 08:00:00'), Timestamp('2013-08-01 09:00:00'), Timestamp('2013-08-01 10:00:00'), Timestamp('2013-08-01 11:00:00'), Timestamp('2013-08-01 12:00:00'), Timestamp('2013-08-01 13:00:00'), Timestamp('2013-08-01 14:00:00'), Timestamp('2013-08-01 15:00:00'), Timestamp('2013-08-01 16:00:00'), Timestamp('2013-08-01 17:00:00'), Timestamp('2013-08-01 19:00:00'), Timestamp('2013-08-01 20:00:00'), Timestamp('2013-08-01 21:00:00'), Timestamp('2013-08-01 22:00:00'), Timestamp('2013-08-01 23:00:00'), Timestamp('2013-09-01 00:00:00'), Timestamp('2013-09-01 01:00:00'), Timestamp('2013-09-01 02:00:00'), Timestamp('2013-09-01 03:00:00'), Timestamp('2013-09-01 04:00:00'), Timestamp('2013-09-01 05:00:00'), Timestamp('2013-09-01 07:00:00'), Timestamp('2013-09-01 08:00:00'), Timestamp('2013-09-01 09:00:00'), Timestamp('2013-09-01 10:00:00'), Timestamp('2013-09-01 11:00:00'), Timestamp('2013-09-01 12:00:00'), Timestamp('2013-09-01 13:00:00'), Timestamp('2013-09-01 14:00:00'), Timestamp('2013-09-01 15:00:00'), Timestamp('2013-09-01 16:00:00'), Timestamp('2013-09-01 17:00:00'), Timestamp('2013-09-01 19:00:00'), Timestamp('2013-09-01 20:00:00'), Timestamp('2013-09-01 21:00:00'), Timestamp('2013-09-01 22:00:00'), Timestamp('2013-09-01 23:00:00'), Timestamp('2013-10-01 00:00:00'), Timestamp('2013-10-01 01:00:00'), Timestamp('2013-10-01 02:00:00'), Timestamp('2013-10-01 03:00:00'), Timestamp('2013-10-01 04:00:00'), Timestamp('2013-10-01 05:00:00'), Timestamp('2013-10-01 07:00:00'), Timestamp('2013-10-01 08:00:00'), Timestamp('2013-10-01 09:00:00'), Timestamp('2013-10-01 10:00:00'), Timestamp('2013-10-01 11:00:00'), Timestamp('2013-10-01 12:00:00'), Timestamp('2013-10-01 13:00:00'), Timestamp('2013-10-01 14:00:00'), Timestamp('2013-10-01 15:00:00'), Timestamp('2013-10-01 16:00:00'), Timestamp('2013-10-01 17:00:00'), Timestamp('2013-10-01 19:00:00'), Timestamp('2013-10-01 20:00:00'), Timestamp('2013-10-01 21:00:00'), Timestamp('2013-10-01 22:00:00'), Timestamp('2013-10-01 23:00:00'), Timestamp('2013-11-01 00:00:00'), Timestamp('2013-11-01 01:00:00'), Timestamp('2013-11-01 02:00:00'), Timestamp('2013-11-01 03:00:00'), Timestamp('2013-11-01 04:00:00'), Timestamp('2013-11-01 05:00:00'), Timestamp('2013-11-01 07:00:00'), Timestamp('2013-11-01 08:00:00'), Timestamp('2013-11-01 09:00:00'), Timestamp('2013-11-01 10:00:00'), Timestamp('2013-11-01 11:00:00'), Timestamp('2013-11-01 12:00:00'), Timestamp('2013-11-01 13:00:00'), Timestamp('2013-11-01 14:00:00'), Timestamp('2013-11-01 15:00:00'), Timestamp('2013-11-01 16:00:00'), Timestamp('2013-11-01 17:00:00'), Timestamp('2013-11-01 19:00:00'), Timestamp('2013-11-01 20:00:00'), Timestamp('2013-11-01 21:00:00'), Timestamp('2013-11-01 22:00:00'), Timestamp('2013-11-01 23:00:00'), Timestamp('2013-12-01 00:00:00'), Timestamp('2013-12-01 01:00:00'), Timestamp('2013-12-01 02:00:00'), Timestamp('2013-12-01 03:00:00'), Timestamp('2013-12-01 04:00:00'), Timestamp('2013-12-01 05:00:00'), Timestamp('2013-12-01 07:00:00'), Timestamp('2013-12-01 08:00:00'), Timestamp('2013-12-01 09:00:00'), Timestamp('2013-12-01 10:00:00'), Timestamp('2013-12-01 11:00:00'), Timestamp('2013-12-01 12:00:00'), Timestamp('2013-12-01 13:00:00'), Timestamp('2013-12-01 14:00:00'), Timestamp('2013-12-01 15:00:00'), Timestamp('2013-12-01 16:00:00'), Timestamp('2013-12-01 17:00:00'), Timestamp('2013-12-01 19:00:00'), Timestamp('2013-12-01 20:00:00'), Timestamp('2013-12-01 21:00:00'), Timestamp('2013-12-01 22:00:00'), Timestamp('2013-12-01 23:00:00'), Timestamp('2014-01-01 00:00:00'), Timestamp('2014-01-01 01:00:00'), Timestamp('2014-01-01 02:00:00'), Timestamp('2014-01-01 03:00:00'), Timestamp('2014-01-01 04:00:00'), Timestamp('2014-01-01 05:00:00'), Timestamp('2014-01-01 07:00:00'), Timestamp('2014-01-01 08:00:00'), Timestamp('2014-01-01 09:00:00'), Timestamp('2014-01-01 10:00:00'), Timestamp('2014-01-01 11:00:00'), Timestamp('2014-01-01 12:00:00'), Timestamp('2014-01-01 13:00:00'), Timestamp('2014-01-01 14:00:00'), Timestamp('2014-01-01 15:00:00'), Timestamp('2014-01-01 16:00:00'), Timestamp('2014-01-01 17:00:00'), Timestamp('2014-01-01 19:00:00'), Timestamp('2014-01-01 20:00:00'), Timestamp('2014-01-01 21:00:00'), Timestamp('2014-01-01 22:00:00'), Timestamp('2014-01-01 23:00:00'), Timestamp('2014-02-01 00:00:00'), Timestamp('2014-02-01 01:00:00'), Timestamp('2014-02-01 02:00:00'), Timestamp('2014-02-01 03:00:00'), Timestamp('2014-02-01 04:00:00'), Timestamp('2014-02-01 05:00:00'), Timestamp('2014-02-01 07:00:00'), Timestamp('2014-02-01 08:00:00'), Timestamp('2014-02-01 09:00:00'), Timestamp('2014-02-01 10:00:00'), Timestamp('2014-02-01 11:00:00'), Timestamp('2014-02-01 12:00:00'), Timestamp('2014-02-01 13:00:00'), Timestamp('2014-02-01 14:00:00'), Timestamp('2014-02-01 15:00:00'), Timestamp('2014-02-01 16:00:00'), Timestamp('2014-02-01 17:00:00'), Timestamp('2014-02-01 19:00:00'), Timestamp('2014-02-01 20:00:00'), Timestamp('2014-02-01 21:00:00'), Timestamp('2014-02-01 22:00:00'), Timestamp('2014-02-01 23:00:00'), Timestamp('2014-03-01 00:00:00'), Timestamp('2014-03-01 01:00:00'), Timestamp('2014-03-01 02:00:00'), Timestamp('2014-03-01 03:00:00'), Timestamp('2014-03-01 04:00:00'), Timestamp('2014-03-01 05:00:00'), Timestamp('2014-03-01 07:00:00'), Timestamp('2014-03-01 08:00:00'), Timestamp('2014-03-01 09:00:00'), Timestamp('2014-03-01 10:00:00'), Timestamp('2014-03-01 11:00:00'), Timestamp('2014-03-01 12:00:00'), Timestamp('2014-03-01 13:00:00'), Timestamp('2014-03-01 14:00:00'), Timestamp('2014-03-01 15:00:00'), Timestamp('2014-03-01 16:00:00'), Timestamp('2014-03-01 17:00:00'), Timestamp('2014-03-01 19:00:00'), Timestamp('2014-03-01 20:00:00'), Timestamp('2014-03-01 21:00:00'), Timestamp('2014-03-01 22:00:00'), Timestamp('2014-03-01 23:00:00'), Timestamp('2014-04-01 00:00:00'), Timestamp('2014-04-01 01:00:00'), Timestamp('2014-04-01 02:00:00'), Timestamp('2014-04-01 03:00:00'), Timestamp('2014-04-01 04:00:00'), Timestamp('2014-04-01 05:00:00'), Timestamp('2014-04-01 07:00:00'), Timestamp('2014-04-01 08:00:00'), Timestamp('2014-04-01 09:00:00'), Timestamp('2014-04-01 10:00:00'), Timestamp('2014-04-01 11:00:00'), Timestamp('2014-04-01 12:00:00'), Timestamp('2014-04-01 13:00:00'), Timestamp('2014-04-01 14:00:00'), Timestamp('2014-04-01 15:00:00'), Timestamp('2014-04-01 16:00:00'), Timestamp('2014-04-01 17:00:00'), Timestamp('2014-04-01 19:00:00'), Timestamp('2014-04-01 20:00:00'), Timestamp('2014-04-01 21:00:00'), Timestamp('2014-04-01 22:00:00'), Timestamp('2014-04-01 23:00:00'), Timestamp('2014-05-01 00:00:00'), Timestamp('2014-05-01 01:00:00'), Timestamp('2014-05-01 02:00:00'), Timestamp('2014-05-01 03:00:00'), Timestamp('2014-05-01 04:00:00'), Timestamp('2014-05-01 05:00:00'), Timestamp('2014-05-01 07:00:00'), Timestamp('2014-05-01 08:00:00'), Timestamp('2014-05-01 09:00:00'), Timestamp('2014-05-01 10:00:00'), Timestamp('2014-05-01 11:00:00'), Timestamp('2014-05-01 12:00:00'), Timestamp('2014-05-01 13:00:00'), Timestamp('2014-05-01 14:00:00'), Timestamp('2014-05-01 15:00:00'), Timestamp('2014-05-01 16:00:00'), Timestamp('2014-05-01 17:00:00'), Timestamp('2014-05-01 19:00:00'), Timestamp('2014-05-01 20:00:00'), Timestamp('2014-05-01 21:00:00'), Timestamp('2014-05-01 22:00:00'), Timestamp('2014-05-01 23:00:00'), Timestamp('2014-06-01 00:00:00'), Timestamp('2014-06-01 01:00:00'), Timestamp('2014-06-01 02:00:00'), Timestamp('2014-06-01 03:00:00'), Timestamp('2014-06-01 04:00:00'), Timestamp('2014-06-01 05:00:00'), Timestamp('2014-06-01 07:00:00'), Timestamp('2014-06-01 08:00:00'), Timestamp('2014-06-01 09:00:00'), Timestamp('2014-06-01 10:00:00'), Timestamp('2014-06-01 11:00:00'), Timestamp('2014-06-01 12:00:00'), Timestamp('2014-06-01 13:00:00'), Timestamp('2014-06-01 14:00:00'), Timestamp('2014-06-01 15:00:00'), Timestamp('2014-06-01 16:00:00'), Timestamp('2014-06-01 17:00:00'), Timestamp('2014-06-01 19:00:00'), Timestamp('2014-06-01 20:00:00'), Timestamp('2014-06-01 21:00:00'), Timestamp('2014-06-01 22:00:00'), Timestamp('2014-06-01 23:00:00'), Timestamp('2014-07-01 00:00:00'), Timestamp('2014-07-01 01:00:00'), Timestamp('2014-07-01 02:00:00'), Timestamp('2014-07-01 03:00:00'), Timestamp('2014-07-01 04:00:00'), Timestamp('2014-07-01 05:00:00'), Timestamp('2014-07-01 07:00:00'), Timestamp('2014-07-01 08:00:00'), Timestamp('2014-07-01 09:00:00'), Timestamp('2014-07-01 10:00:00'), Timestamp('2014-07-01 11:00:00'), Timestamp('2014-07-01 12:00:00'), Timestamp('2014-07-01 13:00:00'), Timestamp('2014-07-01 14:00:00'), Timestamp('2014-07-01 15:00:00'), Timestamp('2014-07-01 16:00:00'), Timestamp('2014-07-01 17:00:00'), Timestamp('2014-07-01 19:00:00'), Timestamp('2014-07-01 20:00:00'), Timestamp('2014-07-01 21:00:00'), Timestamp('2014-07-01 22:00:00'), Timestamp('2014-07-01 23:00:00'), Timestamp('2014-08-01 00:00:00'), Timestamp('2014-08-01 01:00:00'), Timestamp('2014-08-01 02:00:00'), Timestamp('2014-08-01 03:00:00'), Timestamp('2014-08-01 04:00:00'), Timestamp('2014-08-01 05:00:00'), Timestamp('2014-08-01 07:00:00'), Timestamp('2014-08-01 08:00:00'), Timestamp('2014-08-01 09:00:00'), Timestamp('2014-08-01 10:00:00'), Timestamp('2014-08-01 11:00:00'), Timestamp('2014-08-01 12:00:00'), Timestamp('2014-08-01 13:00:00'), Timestamp('2014-08-01 14:00:00'), Timestamp('2014-08-01 15:00:00'), Timestamp('2014-08-01 16:00:00'), Timestamp('2014-08-01 17:00:00'), Timestamp('2014-08-01 19:00:00'), Timestamp('2014-08-01 20:00:00'), Timestamp('2014-08-01 21:00:00'), Timestamp('2014-08-01 22:00:00'), Timestamp('2014-08-01 23:00:00'), Timestamp('2014-09-01 00:00:00'), Timestamp('2014-09-01 01:00:00'), Timestamp('2014-09-01 02:00:00'), Timestamp('2014-09-01 03:00:00'), Timestamp('2014-09-01 04:00:00'), Timestamp('2014-09-01 05:00:00'), Timestamp('2014-09-01 07:00:00'), Timestamp('2014-09-01 08:00:00'), Timestamp('2014-09-01 09:00:00'), Timestamp('2014-09-01 10:00:00'), Timestamp('2014-09-01 11:00:00'), Timestamp('2014-09-01 12:00:00'), Timestamp('2014-09-01 13:00:00'), Timestamp('2014-09-01 14:00:00'), Timestamp('2014-09-01 15:00:00'), Timestamp('2014-09-01 16:00:00'), Timestamp('2014-09-01 17:00:00'), Timestamp('2014-09-01 19:00:00'), Timestamp('2014-09-01 20:00:00'), Timestamp('2014-09-01 21:00:00'), Timestamp('2014-09-01 22:00:00'), Timestamp('2014-09-01 23:00:00'), Timestamp('2014-10-01 00:00:00'), Timestamp('2014-10-01 01:00:00'), Timestamp('2014-10-01 02:00:00'), Timestamp('2014-10-01 03:00:00'), Timestamp('2014-10-01 04:00:00'), Timestamp('2014-10-01 05:00:00'), Timestamp('2014-10-01 07:00:00'), Timestamp('2014-10-01 08:00:00'), Timestamp('2014-10-01 09:00:00'), Timestamp('2014-10-01 10:00:00'), Timestamp('2014-10-01 11:00:00'), Timestamp('2014-10-01 12:00:00'), Timestamp('2014-10-01 13:00:00'), Timestamp('2014-10-01 14:00:00'), Timestamp('2014-10-01 15:00:00'), Timestamp('2014-10-01 16:00:00'), Timestamp('2014-10-01 17:00:00'), Timestamp('2014-10-01 19:00:00'), Timestamp('2014-10-01 20:00:00'), Timestamp('2014-10-01 21:00:00'), Timestamp('2014-10-01 22:00:00'), Timestamp('2014-10-01 23:00:00'), Timestamp('2014-11-01 00:00:00'), Timestamp('2014-11-01 01:00:00'), Timestamp('2014-11-01 02:00:00'), Timestamp('2014-11-01 03:00:00'), Timestamp('2014-11-01 04:00:00'), Timestamp('2014-11-01 05:00:00'), Timestamp('2014-11-01 07:00:00'), Timestamp('2014-11-01 08:00:00'), Timestamp('2014-11-01 09:00:00'), Timestamp('2014-11-01 10:00:00'), Timestamp('2014-11-01 11:00:00'), Timestamp('2014-11-01 12:00:00'), Timestamp('2014-11-01 13:00:00'), Timestamp('2014-11-01 14:00:00'), Timestamp('2014-11-01 15:00:00'), Timestamp('2014-11-01 16:00:00'), Timestamp('2014-11-01 17:00:00'), Timestamp('2014-11-01 19:00:00'), Timestamp('2014-11-01 20:00:00'), Timestamp('2014-11-01 21:00:00'), Timestamp('2014-11-01 22:00:00'), Timestamp('2014-11-01 23:00:00'), Timestamp('2014-12-01 00:00:00'), Timestamp('2014-12-01 01:00:00'), Timestamp('2014-12-01 02:00:00'), Timestamp('2014-12-01 03:00:00'), Timestamp('2014-12-01 04:00:00'), Timestamp('2014-12-01 05:00:00'), Timestamp('2014-12-01 07:00:00'), Timestamp('2014-12-01 08:00:00'), Timestamp('2014-12-01 09:00:00'), Timestamp('2014-12-01 10:00:00'), Timestamp('2014-12-01 11:00:00'), Timestamp('2014-12-01 12:00:00'), Timestamp('2014-12-01 13:00:00'), Timestamp('2014-12-01 14:00:00'), Timestamp('2014-12-01 15:00:00'), Timestamp('2014-12-01 16:00:00'), Timestamp('2014-12-01 17:00:00'), Timestamp('2014-12-01 19:00:00'), Timestamp('2014-12-01 20:00:00'), Timestamp('2014-12-01 21:00:00'), Timestamp('2014-12-01 22:00:00'), Timestamp('2014-12-01 23:00:00'), Timestamp('2015-01-01 00:00:00'), Timestamp('2015-01-01 01:00:00'), Timestamp('2015-01-01 02:00:00'), Timestamp('2015-01-01 03:00:00'), Timestamp('2015-01-01 04:00:00'), Timestamp('2015-01-01 05:00:00'), Timestamp('2015-01-01 07:00:00'), Timestamp('2015-01-01 08:00:00'), Timestamp('2015-01-01 09:00:00'), Timestamp('2015-01-01 10:00:00'), Timestamp('2015-01-01 11:00:00'), Timestamp('2015-01-01 12:00:00'), Timestamp('2015-01-01 13:00:00'), Timestamp('2015-01-01 14:00:00'), Timestamp('2015-01-01 15:00:00'), Timestamp('2015-01-01 16:00:00'), Timestamp('2015-01-01 17:00:00'), Timestamp('2015-01-01 19:00:00'), Timestamp('2015-01-01 20:00:00'), Timestamp('2015-01-01 21:00:00'), Timestamp('2015-01-01 22:00:00'), Timestamp('2015-01-01 23:00:00'), Timestamp('2015-02-01 00:00:00'), Timestamp('2015-02-01 01:00:00'), Timestamp('2015-02-01 02:00:00'), Timestamp('2015-02-01 03:00:00'), Timestamp('2015-02-01 04:00:00'), Timestamp('2015-02-01 05:00:00'), Timestamp('2015-02-01 07:00:00'), Timestamp('2015-02-01 08:00:00'), Timestamp('2015-02-01 09:00:00'), Timestamp('2015-02-01 10:00:00'), Timestamp('2015-02-01 11:00:00'), Timestamp('2015-02-01 12:00:00'), Timestamp('2015-02-01 13:00:00'), Timestamp('2015-02-01 14:00:00'), Timestamp('2015-02-01 15:00:00'), Timestamp('2015-02-01 16:00:00'), Timestamp('2015-02-01 17:00:00'), Timestamp('2015-02-01 19:00:00'), Timestamp('2015-02-01 20:00:00'), Timestamp('2015-02-01 21:00:00'), Timestamp('2015-02-01 22:00:00'), Timestamp('2015-02-01 23:00:00'), Timestamp('2015-03-01 00:00:00'), Timestamp('2015-03-01 01:00:00'), Timestamp('2015-03-01 02:00:00'), Timestamp('2015-03-01 03:00:00'), Timestamp('2015-03-01 04:00:00'), Timestamp('2015-03-01 05:00:00'), Timestamp('2015-03-01 07:00:00'), Timestamp('2015-03-01 08:00:00'), Timestamp('2015-03-01 09:00:00'), Timestamp('2015-03-01 10:00:00'), Timestamp('2015-03-01 11:00:00'), Timestamp('2015-03-01 12:00:00'), Timestamp('2015-03-01 13:00:00'), Timestamp('2015-03-01 14:00:00'), Timestamp('2015-03-01 15:00:00'), Timestamp('2015-03-01 16:00:00'), Timestamp('2015-03-01 17:00:00'), Timestamp('2015-03-01 19:00:00'), Timestamp('2015-03-01 20:00:00'), Timestamp('2015-03-01 21:00:00'), Timestamp('2015-03-01 22:00:00'), Timestamp('2015-03-01 23:00:00'), Timestamp('2015-04-01 00:00:00'), Timestamp('2015-04-01 01:00:00'), Timestamp('2015-04-01 02:00:00'), Timestamp('2015-04-01 03:00:00'), Timestamp('2015-04-01 04:00:00'), Timestamp('2015-04-01 05:00:00'), Timestamp('2015-04-01 07:00:00'), Timestamp('2015-04-01 08:00:00'), Timestamp('2015-04-01 09:00:00'), Timestamp('2015-04-01 10:00:00'), Timestamp('2015-04-01 11:00:00'), Timestamp('2015-04-01 12:00:00'), Timestamp('2015-04-01 13:00:00'), Timestamp('2015-04-01 14:00:00'), Timestamp('2015-04-01 15:00:00'), Timestamp('2015-04-01 16:00:00'), Timestamp('2015-04-01 17:00:00'), Timestamp('2015-04-01 19:00:00'), Timestamp('2015-04-01 20:00:00'), Timestamp('2015-04-01 21:00:00'), Timestamp('2015-04-01 22:00:00'), Timestamp('2015-04-01 23:00:00'), Timestamp('2015-05-01 00:00:00'), Timestamp('2015-05-01 01:00:00'), Timestamp('2015-05-01 02:00:00'), Timestamp('2015-05-01 03:00:00'), Timestamp('2015-05-01 04:00:00'), Timestamp('2015-05-01 05:00:00'), Timestamp('2015-05-01 07:00:00'), Timestamp('2015-05-01 08:00:00'), Timestamp('2015-05-01 09:00:00'), Timestamp('2015-05-01 10:00:00'), Timestamp('2015-05-01 11:00:00'), Timestamp('2015-05-01 12:00:00'), Timestamp('2015-05-01 13:00:00'), Timestamp('2015-05-01 14:00:00'), Timestamp('2015-05-01 15:00:00'), Timestamp('2015-05-01 16:00:00'), Timestamp('2015-05-01 17:00:00'), Timestamp('2015-05-01 19:00:00'), Timestamp('2015-05-01 20:00:00'), Timestamp('2015-05-01 21:00:00'), Timestamp('2015-05-01 22:00:00'), Timestamp('2015-05-01 23:00:00'), Timestamp('2015-06-01 00:00:00'), Timestamp('2015-06-01 01:00:00'), Timestamp('2015-06-01 02:00:00'), Timestamp('2015-06-01 03:00:00'), Timestamp('2015-06-01 04:00:00'), Timestamp('2015-06-01 05:00:00'), Timestamp('2015-06-01 07:00:00'), Timestamp('2015-06-01 08:00:00'), Timestamp('2015-06-01 09:00:00'), Timestamp('2015-06-01 10:00:00'), Timestamp('2015-06-01 11:00:00'), Timestamp('2015-06-01 12:00:00'), Timestamp('2015-06-01 13:00:00'), Timestamp('2015-06-01 14:00:00'), Timestamp('2015-06-01 15:00:00'), Timestamp('2015-06-01 16:00:00'), Timestamp('2015-06-01 17:00:00'), Timestamp('2015-06-01 19:00:00'), Timestamp('2015-06-01 20:00:00'), Timestamp('2015-06-01 21:00:00'), Timestamp('2015-06-01 22:00:00'), Timestamp('2015-06-01 23:00:00'), Timestamp('2015-07-01 00:00:00'), Timestamp('2015-07-01 01:00:00'), Timestamp('2015-07-01 02:00:00'), Timestamp('2015-07-01 03:00:00'), Timestamp('2015-07-01 04:00:00'), Timestamp('2015-07-01 05:00:00'), Timestamp('2015-07-01 07:00:00'), Timestamp('2015-07-01 08:00:00'), Timestamp('2015-07-01 09:00:00'), Timestamp('2015-07-01 10:00:00'), Timestamp('2015-07-01 11:00:00'), Timestamp('2015-07-01 12:00:00'), Timestamp('2015-07-01 13:00:00'), Timestamp('2015-07-01 14:00:00'), Timestamp('2015-07-01 15:00:00'), Timestamp('2015-07-01 16:00:00'), Timestamp('2015-07-01 17:00:00'), Timestamp('2015-07-01 19:00:00'), Timestamp('2015-07-01 20:00:00'), Timestamp('2015-07-01 21:00:00'), Timestamp('2015-07-01 22:00:00'), Timestamp('2015-07-01 23:00:00'), Timestamp('2015-08-01 00:00:00'), Timestamp('2015-08-01 01:00:00'), Timestamp('2015-08-01 02:00:00'), Timestamp('2015-08-01 03:00:00'), Timestamp('2015-08-01 04:00:00'), Timestamp('2015-08-01 05:00:00'), Timestamp('2015-08-01 07:00:00'), Timestamp('2015-08-01 08:00:00'), Timestamp('2015-08-01 09:00:00'), Timestamp('2015-08-01 10:00:00'), Timestamp('2015-08-01 11:00:00'), Timestamp('2015-08-01 12:00:00'), Timestamp('2015-08-01 13:00:00'), Timestamp('2015-08-01 14:00:00'), Timestamp('2015-08-01 15:00:00'), Timestamp('2015-08-01 16:00:00'), Timestamp('2015-08-01 17:00:00'), Timestamp('2015-08-01 19:00:00'), Timestamp('2015-08-01 20:00:00'), Timestamp('2015-08-01 21:00:00'), Timestamp('2015-08-01 22:00:00'), Timestamp('2015-08-01 23:00:00'), Timestamp('2015-09-01 00:00:00'), Timestamp('2015-09-01 01:00:00'), Timestamp('2015-09-01 02:00:00'), Timestamp('2015-09-01 03:00:00'), Timestamp('2015-09-01 04:00:00'), Timestamp('2015-09-01 05:00:00'), Timestamp('2015-09-01 07:00:00'), Timestamp('2015-09-01 08:00:00'), Timestamp('2015-09-01 09:00:00'), Timestamp('2015-09-01 10:00:00'), Timestamp('2015-09-01 11:00:00'), Timestamp('2015-09-01 12:00:00'), Timestamp('2015-09-01 13:00:00'), Timestamp('2015-09-01 14:00:00'), Timestamp('2015-09-01 15:00:00'), Timestamp('2015-09-01 16:00:00'), Timestamp('2015-09-01 17:00:00'), Timestamp('2015-09-01 19:00:00'), Timestamp('2015-09-01 20:00:00'), Timestamp('2015-09-01 21:00:00'), Timestamp('2015-09-01 22:00:00'), Timestamp('2015-09-01 23:00:00'), Timestamp('2015-10-01 00:00:00'), Timestamp('2015-10-01 01:00:00'), Timestamp('2015-10-01 02:00:00'), Timestamp('2015-10-01 03:00:00'), Timestamp('2015-10-01 04:00:00'), Timestamp('2015-10-01 05:00:00'), Timestamp('2015-10-01 07:00:00'), Timestamp('2015-10-01 08:00:00'), Timestamp('2015-10-01 09:00:00'), Timestamp('2015-10-01 10:00:00'), Timestamp('2015-10-01 11:00:00'), Timestamp('2015-10-01 12:00:00'), Timestamp('2015-10-01 13:00:00'), Timestamp('2015-10-01 14:00:00'), Timestamp('2015-10-01 15:00:00'), Timestamp('2015-10-01 16:00:00'), Timestamp('2015-10-01 17:00:00'), Timestamp('2015-10-01 19:00:00'), Timestamp('2015-10-01 20:00:00'), Timestamp('2015-10-01 21:00:00'), Timestamp('2015-10-01 22:00:00'), Timestamp('2015-10-01 23:00:00'), Timestamp('2015-11-01 00:00:00'), Timestamp('2015-11-01 01:00:00'), Timestamp('2015-11-01 02:00:00'), Timestamp('2015-11-01 03:00:00'), Timestamp('2015-11-01 04:00:00'), Timestamp('2015-11-01 05:00:00'), Timestamp('2015-11-01 07:00:00'), Timestamp('2015-11-01 08:00:00'), Timestamp('2015-11-01 09:00:00'), Timestamp('2015-11-01 10:00:00'), Timestamp('2015-11-01 11:00:00'), Timestamp('2015-11-01 12:00:00'), Timestamp('2015-11-01 13:00:00'), Timestamp('2015-11-01 14:00:00'), Timestamp('2015-11-01 15:00:00'), Timestamp('2015-11-01 16:00:00'), Timestamp('2015-11-01 17:00:00'), Timestamp('2015-11-01 19:00:00'), Timestamp('2015-11-01 20:00:00'), Timestamp('2015-11-01 21:00:00'), Timestamp('2015-11-01 22:00:00'), Timestamp('2015-11-01 23:00:00'), Timestamp('2015-12-01 00:00:00'), Timestamp('2015-12-01 01:00:00'), Timestamp('2015-12-01 02:00:00'), Timestamp('2015-12-01 03:00:00'), Timestamp('2015-12-01 04:00:00'), Timestamp('2015-12-01 05:00:00'), Timestamp('2015-12-01 07:00:00'), Timestamp('2015-12-01 08:00:00'), Timestamp('2015-12-01 09:00:00'), Timestamp('2015-12-01 10:00:00'), Timestamp('2015-12-01 11:00:00'), Timestamp('2015-12-01 12:00:00'), Timestamp('2015-12-01 13:00:00'), Timestamp('2015-12-01 14:00:00'), Timestamp('2015-12-01 15:00:00'), Timestamp('2015-12-01 16:00:00'), Timestamp('2015-12-01 17:00:00'), Timestamp('2015-12-01 19:00:00'), Timestamp('2015-12-01 20:00:00'), Timestamp('2015-12-01 21:00:00'), Timestamp('2015-12-01 22:00:00'), Timestamp('2015-12-01 23:00:00'), Timestamp('2016-01-01 00:00:00'), Timestamp('2016-01-01 01:00:00'), Timestamp('2016-01-01 02:00:00'), Timestamp('2016-01-01 03:00:00'), Timestamp('2016-01-01 04:00:00'), Timestamp('2016-01-01 05:00:00'), Timestamp('2016-01-01 07:00:00'), Timestamp('2016-01-01 08:00:00'), Timestamp('2016-01-01 09:00:00'), Timestamp('2016-01-01 10:00:00'), Timestamp('2016-01-01 11:00:00'), Timestamp('2016-01-01 12:00:00'), Timestamp('2016-01-01 13:00:00'), Timestamp('2016-01-01 14:00:00'), Timestamp('2016-01-01 15:00:00'), Timestamp('2016-01-01 16:00:00'), Timestamp('2016-01-01 17:00:00'), Timestamp('2016-01-01 19:00:00'), Timestamp('2016-01-01 20:00:00'), Timestamp('2016-01-01 21:00:00'), Timestamp('2016-01-01 22:00:00'), Timestamp('2016-01-01 23:00:00'), Timestamp('2016-02-01 00:00:00'), Timestamp('2016-02-01 01:00:00'), Timestamp('2016-02-01 02:00:00'), Timestamp('2016-02-01 03:00:00'), Timestamp('2016-02-01 04:00:00'), Timestamp('2016-02-01 05:00:00'), Timestamp('2016-02-01 07:00:00'), Timestamp('2016-02-01 08:00:00'), Timestamp('2016-02-01 09:00:00'), Timestamp('2016-02-01 10:00:00'), Timestamp('2016-02-01 11:00:00'), Timestamp('2016-02-01 12:00:00'), Timestamp('2016-02-01 13:00:00'), Timestamp('2016-02-01 14:00:00'), Timestamp('2016-02-01 15:00:00'), Timestamp('2016-02-01 16:00:00'), Timestamp('2016-02-01 17:00:00'), Timestamp('2016-02-01 19:00:00'), Timestamp('2016-02-01 20:00:00'), Timestamp('2016-02-01 21:00:00'), Timestamp('2016-02-01 22:00:00'), Timestamp('2016-02-01 23:00:00'), Timestamp('2016-03-01 00:00:00'), Timestamp('2016-03-01 01:00:00'), Timestamp('2016-03-01 02:00:00'), Timestamp('2016-03-01 03:00:00'), Timestamp('2016-03-01 04:00:00'), Timestamp('2016-03-01 05:00:00'), Timestamp('2016-03-01 07:00:00'), Timestamp('2016-03-01 08:00:00'), Timestamp('2016-03-01 09:00:00'), Timestamp('2016-03-01 10:00:00'), Timestamp('2016-03-01 11:00:00'), Timestamp('2016-03-01 12:00:00'), Timestamp('2016-03-01 13:00:00'), Timestamp('2016-03-01 14:00:00'), Timestamp('2016-03-01 15:00:00'), Timestamp('2016-03-01 16:00:00'), Timestamp('2016-03-01 17:00:00'), Timestamp('2016-03-01 19:00:00'), Timestamp('2016-03-01 20:00:00'), Timestamp('2016-03-01 21:00:00'), Timestamp('2016-03-01 22:00:00'), Timestamp('2016-03-01 23:00:00'), Timestamp('2016-04-01 00:00:00'), Timestamp('2016-04-01 01:00:00'), Timestamp('2016-04-01 02:00:00'), Timestamp('2016-04-01 03:00:00'), Timestamp('2016-04-01 04:00:00'), Timestamp('2016-04-01 05:00:00'), Timestamp('2016-04-01 07:00:00'), Timestamp('2016-04-01 08:00:00'), Timestamp('2016-04-01 09:00:00'), Timestamp('2016-04-01 10:00:00'), Timestamp('2016-04-01 11:00:00'), Timestamp('2016-04-01 12:00:00'), Timestamp('2016-04-01 13:00:00'), Timestamp('2016-04-01 14:00:00'), Timestamp('2016-04-01 15:00:00'), Timestamp('2016-04-01 16:00:00'), Timestamp('2016-04-01 17:00:00'), Timestamp('2016-04-01 19:00:00'), Timestamp('2016-04-01 20:00:00'), Timestamp('2016-04-01 21:00:00'), Timestamp('2016-04-01 22:00:00'), Timestamp('2016-04-01 23:00:00'), Timestamp('2016-05-01 00:00:00'), Timestamp('2016-05-01 01:00:00'), Timestamp('2016-05-01 02:00:00'), Timestamp('2016-05-01 03:00:00'), Timestamp('2016-05-01 04:00:00'), Timestamp('2016-05-01 05:00:00'), Timestamp('2016-05-01 07:00:00'), Timestamp('2016-05-01 08:00:00'), Timestamp('2016-05-01 09:00:00'), Timestamp('2016-05-01 10:00:00'), Timestamp('2016-05-01 11:00:00'), Timestamp('2016-05-01 12:00:00'), Timestamp('2016-05-01 13:00:00'), Timestamp('2016-05-01 14:00:00'), Timestamp('2016-05-01 15:00:00'), Timestamp('2016-05-01 16:00:00'), Timestamp('2016-05-01 17:00:00'), Timestamp('2016-05-01 19:00:00'), Timestamp('2016-05-01 20:00:00'), Timestamp('2016-05-01 21:00:00'), Timestamp('2016-05-01 22:00:00'), Timestamp('2016-05-01 23:00:00'), Timestamp('2016-06-01 00:00:00'), Timestamp('2016-06-01 01:00:00'), Timestamp('2016-06-01 02:00:00'), Timestamp('2016-06-01 03:00:00'), Timestamp('2016-06-01 04:00:00'), Timestamp('2016-06-01 05:00:00'), Timestamp('2016-06-01 07:00:00'), Timestamp('2016-06-01 08:00:00'), Timestamp('2016-06-01 09:00:00'), Timestamp('2016-06-01 10:00:00'), Timestamp('2016-06-01 11:00:00'), Timestamp('2016-06-01 12:00:00'), Timestamp('2016-06-01 13:00:00'), Timestamp('2016-06-01 14:00:00'), Timestamp('2016-06-01 15:00:00'), Timestamp('2016-06-01 16:00:00'), Timestamp('2016-06-01 17:00:00'), Timestamp('2016-06-01 19:00:00'), Timestamp('2016-06-01 20:00:00'), Timestamp('2016-06-01 21:00:00'), Timestamp('2016-06-01 22:00:00'), Timestamp('2016-06-01 23:00:00'), Timestamp('2016-07-01 00:00:00'), Timestamp('2016-07-01 01:00:00'), Timestamp('2016-07-01 02:00:00'), Timestamp('2016-07-01 03:00:00'), Timestamp('2016-07-01 04:00:00'), Timestamp('2016-07-01 05:00:00'), Timestamp('2016-07-01 07:00:00'), Timestamp('2016-07-01 08:00:00'), Timestamp('2016-07-01 09:00:00'), Timestamp('2016-07-01 10:00:00'), Timestamp('2016-07-01 11:00:00'), Timestamp('2016-07-01 12:00:00'), Timestamp('2016-07-01 13:00:00'), Timestamp('2016-07-01 14:00:00'), Timestamp('2016-07-01 15:00:00'), Timestamp('2016-07-01 16:00:00'), Timestamp('2016-07-01 17:00:00'), Timestamp('2016-07-01 19:00:00'), Timestamp('2016-07-01 20:00:00'), Timestamp('2016-07-01 21:00:00'), Timestamp('2016-07-01 22:00:00'), Timestamp('2016-07-01 23:00:00'), Timestamp('2016-08-01 00:00:00'), Timestamp('2016-08-01 01:00:00'), Timestamp('2016-08-01 02:00:00'), Timestamp('2016-08-01 03:00:00'), Timestamp('2016-08-01 04:00:00'), Timestamp('2016-08-01 05:00:00'), Timestamp('2016-08-01 07:00:00'), Timestamp('2016-08-01 08:00:00'), Timestamp('2016-08-01 09:00:00'), Timestamp('2016-08-01 10:00:00'), Timestamp('2016-08-01 11:00:00'), Timestamp('2016-08-01 12:00:00'), Timestamp('2016-08-01 13:00:00'), Timestamp('2016-08-01 14:00:00'), Timestamp('2016-08-01 15:00:00'), Timestamp('2016-08-01 16:00:00'), Timestamp('2016-08-01 17:00:00'), Timestamp('2016-08-01 19:00:00'), Timestamp('2016-08-01 20:00:00'), Timestamp('2016-08-01 21:00:00'), Timestamp('2016-08-01 22:00:00'), Timestamp('2016-08-01 23:00:00'), Timestamp('2016-09-01 00:00:00'), Timestamp('2016-09-01 01:00:00'), Timestamp('2016-09-01 02:00:00'), Timestamp('2016-09-01 03:00:00'), Timestamp('2016-09-01 04:00:00'), Timestamp('2016-09-01 05:00:00'), Timestamp('2016-09-01 07:00:00'), Timestamp('2016-09-01 08:00:00'), Timestamp('2016-09-01 09:00:00'), Timestamp('2016-09-01 10:00:00'), Timestamp('2016-09-01 11:00:00'), Timestamp('2016-09-01 12:00:00'), Timestamp('2016-09-01 13:00:00'), Timestamp('2016-09-01 14:00:00'), Timestamp('2016-09-01 15:00:00'), Timestamp('2016-09-01 16:00:00'), Timestamp('2016-09-01 17:00:00'), Timestamp('2016-09-01 19:00:00'), Timestamp('2016-09-01 20:00:00'), Timestamp('2016-09-01 21:00:00'), Timestamp('2016-09-01 22:00:00'), Timestamp('2016-09-01 23:00:00'), Timestamp('2016-10-01 00:00:00'), Timestamp('2016-10-01 01:00:00'), Timestamp('2016-10-01 02:00:00'), Timestamp('2016-10-01 03:00:00'), Timestamp('2016-10-01 04:00:00'), Timestamp('2016-10-01 05:00:00'), Timestamp('2016-10-01 07:00:00'), Timestamp('2016-10-01 08:00:00'), Timestamp('2016-10-01 09:00:00'), Timestamp('2016-10-01 10:00:00'), Timestamp('2016-10-01 11:00:00'), Timestamp('2016-10-01 12:00:00'), Timestamp('2016-10-01 13:00:00'), Timestamp('2016-10-01 14:00:00'), Timestamp('2016-10-01 15:00:00'), Timestamp('2016-10-01 16:00:00'), Timestamp('2016-10-01 17:00:00'), Timestamp('2016-10-01 19:00:00'), Timestamp('2016-10-01 20:00:00'), Timestamp('2016-10-01 21:00:00'), Timestamp('2016-10-01 22:00:00'), Timestamp('2016-10-01 23:00:00'), Timestamp('2016-11-01 00:00:00'), Timestamp('2016-11-01 01:00:00'), Timestamp('2016-11-01 02:00:00'), Timestamp('2016-11-01 03:00:00'), Timestamp('2016-11-01 04:00:00'), Timestamp('2016-11-01 05:00:00'), Timestamp('2016-11-01 07:00:00'), Timestamp('2016-11-01 08:00:00'), Timestamp('2016-11-01 09:00:00'), Timestamp('2016-11-01 10:00:00'), Timestamp('2016-11-01 11:00:00'), Timestamp('2016-11-01 12:00:00'), Timestamp('2016-11-01 13:00:00'), Timestamp('2016-11-01 14:00:00'), Timestamp('2016-11-01 15:00:00'), Timestamp('2016-11-01 16:00:00'), Timestamp('2016-11-01 17:00:00'), Timestamp('2016-11-01 19:00:00'), Timestamp('2016-11-01 20:00:00'), Timestamp('2016-11-01 21:00:00'), Timestamp('2016-11-01 22:00:00'), Timestamp('2016-11-01 23:00:00'), Timestamp('2016-12-01 00:00:00'), Timestamp('2016-12-01 01:00:00'), Timestamp('2016-12-01 02:00:00'), Timestamp('2016-12-01 03:00:00'), Timestamp('2016-12-01 04:00:00'), Timestamp('2016-12-01 05:00:00'), Timestamp('2016-12-01 07:00:00'), Timestamp('2016-12-01 08:00:00'), Timestamp('2016-12-01 09:00:00'), Timestamp('2016-12-01 10:00:00'), Timestamp('2016-12-01 11:00:00'), Timestamp('2016-12-01 12:00:00'), Timestamp('2016-12-01 13:00:00'), Timestamp('2016-12-01 14:00:00'), Timestamp('2016-12-01 15:00:00'), Timestamp('2016-12-01 16:00:00'), Timestamp('2016-12-01 17:00:00'), Timestamp('2016-12-01 19:00:00'), Timestamp('2016-12-01 20:00:00'), Timestamp('2016-12-01 21:00:00'), Timestamp('2016-12-01 22:00:00'), Timestamp('2016-12-01 23:00:00'), Timestamp('2017-01-01 00:00:00'), Timestamp('2017-01-01 01:00:00'), Timestamp('2017-01-01 02:00:00'), Timestamp('2017-01-01 03:00:00'), Timestamp('2017-01-01 04:00:00'), Timestamp('2017-01-01 05:00:00'), Timestamp('2017-01-01 07:00:00'), Timestamp('2017-01-01 08:00:00'), Timestamp('2017-01-01 09:00:00'), Timestamp('2017-01-01 10:00:00'), Timestamp('2017-01-01 11:00:00'), Timestamp('2017-01-01 12:00:00'), Timestamp('2017-01-01 13:00:00'), Timestamp('2017-01-01 14:00:00'), Timestamp('2017-01-01 15:00:00'), Timestamp('2017-01-01 16:00:00'), Timestamp('2017-01-01 17:00:00'), Timestamp('2017-01-01 19:00:00'), Timestamp('2017-01-01 20:00:00'), Timestamp('2017-01-01 21:00:00'), Timestamp('2017-01-01 22:00:00'), Timestamp('2017-01-01 23:00:00'), Timestamp('2017-02-01 00:00:00'), Timestamp('2017-02-01 01:00:00'), Timestamp('2017-02-01 02:00:00'), Timestamp('2017-02-01 03:00:00'), Timestamp('2017-02-01 04:00:00'), Timestamp('2017-02-01 05:00:00'), Timestamp('2017-02-01 07:00:00'), Timestamp('2017-02-01 08:00:00'), Timestamp('2017-02-01 09:00:00'), Timestamp('2017-02-01 10:00:00'), Timestamp('2017-02-01 11:00:00'), Timestamp('2017-02-01 12:00:00'), Timestamp('2017-02-01 13:00:00'), Timestamp('2017-02-01 14:00:00'), Timestamp('2017-02-01 15:00:00'), Timestamp('2017-02-01 16:00:00'), Timestamp('2017-02-01 17:00:00'), Timestamp('2017-02-01 19:00:00'), Timestamp('2017-02-01 20:00:00'), Timestamp('2017-02-01 21:00:00'), Timestamp('2017-02-01 22:00:00'), Timestamp('2017-02-01 23:00:00'), Timestamp('2017-03-01 00:00:00'), Timestamp('2017-03-01 01:00:00'), Timestamp('2017-03-01 02:00:00'), Timestamp('2017-03-01 03:00:00'), Timestamp('2017-03-01 04:00:00'), Timestamp('2017-03-01 05:00:00'), Timestamp('2017-03-01 07:00:00'), Timestamp('2017-03-01 08:00:00'), Timestamp('2017-03-01 09:00:00'), Timestamp('2017-03-01 10:00:00'), Timestamp('2017-03-01 11:00:00'), Timestamp('2017-03-01 12:00:00'), Timestamp('2017-03-01 13:00:00'), Timestamp('2017-03-01 14:00:00'), Timestamp('2017-03-01 15:00:00'), Timestamp('2017-03-01 16:00:00'), Timestamp('2017-03-01 17:00:00'), Timestamp('2017-03-01 19:00:00'), Timestamp('2017-03-01 20:00:00'), Timestamp('2017-03-01 21:00:00'), Timestamp('2017-03-01 22:00:00'), Timestamp('2017-03-01 23:00:00'), Timestamp('2017-04-01 00:00:00'), Timestamp('2017-04-01 01:00:00'), Timestamp('2017-04-01 02:00:00'), Timestamp('2017-04-01 03:00:00'), Timestamp('2017-04-01 04:00:00'), Timestamp('2017-04-01 05:00:00'), Timestamp('2017-04-01 07:00:00'), Timestamp('2017-04-01 08:00:00'), Timestamp('2017-04-01 09:00:00'), Timestamp('2017-04-01 10:00:00'), Timestamp('2017-04-01 11:00:00'), Timestamp('2017-04-01 12:00:00'), Timestamp('2017-04-01 13:00:00'), Timestamp('2017-04-01 14:00:00'), Timestamp('2017-04-01 15:00:00'), Timestamp('2017-04-01 16:00:00'), Timestamp('2017-04-01 17:00:00'), Timestamp('2017-04-01 19:00:00'), Timestamp('2017-04-01 20:00:00'), Timestamp('2017-04-01 21:00:00'), Timestamp('2017-04-01 22:00:00'), Timestamp('2017-04-01 23:00:00'), Timestamp('2017-05-01 00:00:00'), Timestamp('2017-05-01 01:00:00'), Timestamp('2017-05-01 02:00:00'), Timestamp('2017-05-01 03:00:00'), Timestamp('2017-05-01 04:00:00'), Timestamp('2017-05-01 05:00:00'), Timestamp('2017-05-01 07:00:00'), Timestamp('2017-05-01 08:00:00'), Timestamp('2017-05-01 09:00:00'), Timestamp('2017-05-01 10:00:00'), Timestamp('2017-05-01 11:00:00'), Timestamp('2017-05-01 12:00:00'), Timestamp('2017-05-01 13:00:00'), Timestamp('2017-05-01 14:00:00'), Timestamp('2017-05-01 15:00:00'), Timestamp('2017-05-01 16:00:00'), Timestamp('2017-05-01 17:00:00'), Timestamp('2017-05-01 19:00:00'), Timestamp('2017-05-01 20:00:00'), Timestamp('2017-05-01 21:00:00'), Timestamp('2017-05-01 22:00:00'), Timestamp('2017-05-01 23:00:00'), Timestamp('2017-06-01 00:00:00'), Timestamp('2017-06-01 01:00:00'), Timestamp('2017-06-01 02:00:00'), Timestamp('2017-06-01 03:00:00'), Timestamp('2017-06-01 04:00:00'), Timestamp('2017-06-01 05:00:00'), Timestamp('2017-06-01 07:00:00'), Timestamp('2017-06-01 08:00:00'), Timestamp('2017-06-01 09:00:00'), Timestamp('2017-06-01 10:00:00'), Timestamp('2017-06-01 11:00:00'), Timestamp('2017-06-01 12:00:00'), Timestamp('2017-06-01 13:00:00'), Timestamp('2017-06-01 14:00:00'), Timestamp('2017-06-01 15:00:00'), Timestamp('2017-06-01 16:00:00'), Timestamp('2017-06-01 17:00:00'), Timestamp('2017-06-01 19:00:00'), Timestamp('2017-06-01 20:00:00'), Timestamp('2017-06-01 21:00:00'), Timestamp('2017-06-01 22:00:00'), Timestamp('2017-06-01 23:00:00'), Timestamp('2017-07-01 00:00:00'), Timestamp('2017-07-01 01:00:00'), Timestamp('2017-07-01 02:00:00'), Timestamp('2017-07-01 03:00:00'), Timestamp('2017-07-01 04:00:00'), Timestamp('2017-07-01 05:00:00'), Timestamp('2017-07-01 07:00:00'), Timestamp('2017-07-01 08:00:00'), Timestamp('2017-07-01 09:00:00'), Timestamp('2017-07-01 10:00:00'), Timestamp('2017-07-01 11:00:00'), Timestamp('2017-07-01 12:00:00'), Timestamp('2017-07-01 13:00:00'), Timestamp('2017-07-01 14:00:00'), Timestamp('2017-07-01 15:00:00'), Timestamp('2017-07-01 16:00:00'), Timestamp('2017-07-01 17:00:00'), Timestamp('2017-07-01 19:00:00'), Timestamp('2017-07-01 20:00:00'), Timestamp('2017-07-01 21:00:00'), Timestamp('2017-07-01 22:00:00'), Timestamp('2017-07-01 23:00:00'), Timestamp('2017-08-01 00:00:00'), Timestamp('2017-08-01 01:00:00'), Timestamp('2017-08-01 02:00:00'), Timestamp('2017-08-01 03:00:00'), Timestamp('2017-08-01 04:00:00'), Timestamp('2017-08-01 05:00:00'), Timestamp('2017-08-01 07:00:00'), Timestamp('2017-08-01 08:00:00'), Timestamp('2017-08-01 09:00:00'), Timestamp('2017-08-01 10:00:00'), Timestamp('2017-08-01 11:00:00'), Timestamp('2017-08-01 12:00:00'), Timestamp('2017-08-01 13:00:00'), Timestamp('2017-08-01 14:00:00'), Timestamp('2017-08-01 15:00:00'), Timestamp('2017-08-01 16:00:00'), Timestamp('2017-08-01 17:00:00'), Timestamp('2017-08-01 19:00:00'), Timestamp('2017-08-01 20:00:00'), Timestamp('2017-08-01 21:00:00'), Timestamp('2017-08-01 22:00:00'), Timestamp('2017-08-01 23:00:00'), Timestamp('2017-09-01 00:00:00'), Timestamp('2017-09-01 01:00:00'), Timestamp('2017-09-01 02:00:00'), Timestamp('2017-09-01 03:00:00'), Timestamp('2017-09-01 04:00:00'), Timestamp('2017-09-01 05:00:00'), Timestamp('2017-09-01 07:00:00'), Timestamp('2017-09-01 08:00:00'), Timestamp('2017-09-01 09:00:00'), Timestamp('2017-09-01 10:00:00'), Timestamp('2017-09-01 11:00:00'), Timestamp('2017-09-01 12:00:00'), Timestamp('2017-09-01 13:00:00'), Timestamp('2017-09-01 14:00:00'), Timestamp('2017-09-01 15:00:00'), Timestamp('2017-09-01 16:00:00'), Timestamp('2017-09-01 17:00:00'), Timestamp('2017-09-01 19:00:00'), Timestamp('2017-09-01 20:00:00'), Timestamp('2017-09-01 21:00:00'), Timestamp('2017-09-01 22:00:00'), Timestamp('2017-09-01 23:00:00'), Timestamp('2017-10-01 00:00:00'), Timestamp('2017-10-01 01:00:00'), Timestamp('2017-10-01 02:00:00'), Timestamp('2017-10-01 03:00:00'), Timestamp('2017-10-01 04:00:00'), Timestamp('2017-10-01 05:00:00'), Timestamp('2017-10-01 07:00:00'), Timestamp('2017-10-01 08:00:00'), Timestamp('2017-10-01 09:00:00'), Timestamp('2017-10-01 10:00:00'), Timestamp('2017-10-01 11:00:00'), Timestamp('2017-10-01 12:00:00'), Timestamp('2017-10-01 13:00:00'), Timestamp('2017-10-01 14:00:00'), Timestamp('2017-10-01 15:00:00'), Timestamp('2017-10-01 16:00:00'), Timestamp('2017-10-01 17:00:00'), Timestamp('2017-10-01 19:00:00'), Timestamp('2017-10-01 20:00:00'), Timestamp('2017-10-01 21:00:00'), Timestamp('2017-10-01 22:00:00'), Timestamp('2017-10-01 23:00:00'), Timestamp('2017-11-01 00:00:00'), Timestamp('2017-11-01 01:00:00'), Timestamp('2017-11-01 02:00:00'), Timestamp('2017-11-01 03:00:00'), Timestamp('2017-11-01 04:00:00'), Timestamp('2017-11-01 05:00:00'), Timestamp('2017-11-01 07:00:00'), Timestamp('2017-11-01 08:00:00'), Timestamp('2017-11-01 09:00:00'), Timestamp('2017-11-01 10:00:00'), Timestamp('2017-11-01 11:00:00'), Timestamp('2017-11-01 12:00:00'), Timestamp('2017-11-01 13:00:00'), Timestamp('2017-11-01 14:00:00'), Timestamp('2017-11-01 15:00:00'), Timestamp('2017-11-01 16:00:00'), Timestamp('2017-11-01 17:00:00'), Timestamp('2017-11-01 19:00:00'), Timestamp('2017-11-01 20:00:00'), Timestamp('2017-11-01 21:00:00'), Timestamp('2017-11-01 22:00:00'), Timestamp('2017-11-01 23:00:00'), Timestamp('2017-12-01 00:00:00'), Timestamp('2017-12-01 01:00:00'), Timestamp('2017-12-01 02:00:00'), Timestamp('2017-12-01 03:00:00'), Timestamp('2017-12-01 04:00:00'), Timestamp('2017-12-01 05:00:00'), Timestamp('2017-12-01 07:00:00'), Timestamp('2017-12-01 08:00:00'), Timestamp('2017-12-01 09:00:00'), Timestamp('2017-12-01 10:00:00'), Timestamp('2017-12-01 11:00:00'), Timestamp('2017-12-01 12:00:00'), Timestamp('2017-12-01 13:00:00'), Timestamp('2017-12-01 14:00:00'), Timestamp('2017-12-01 15:00:00'), Timestamp('2017-12-01 16:00:00'), Timestamp('2017-12-01 17:00:00'), Timestamp('2017-12-01 19:00:00'), Timestamp('2017-12-01 20:00:00'), Timestamp('2017-12-01 21:00:00'), Timestamp('2017-12-01 22:00:00'), Timestamp('2017-12-01 23:00:00'), Timestamp('2018-01-01 00:00:00'), Timestamp('2018-01-01 01:00:00'), Timestamp('2018-01-01 02:00:00'), Timestamp('2018-01-01 03:00:00'), Timestamp('2018-01-01 04:00:00'), Timestamp('2018-01-01 05:00:00'), Timestamp('2018-01-01 07:00:00'), Timestamp('2018-01-01 08:00:00'), Timestamp('2018-01-01 09:00:00'), Timestamp('2018-01-01 10:00:00'), Timestamp('2018-01-01 11:00:00'), Timestamp('2018-01-01 12:00:00'), Timestamp('2018-01-01 13:00:00'), Timestamp('2018-01-01 14:00:00'), Timestamp('2018-01-01 15:00:00'), Timestamp('2018-01-01 16:00:00'), Timestamp('2018-01-01 17:00:00'), Timestamp('2018-01-01 19:00:00'), Timestamp('2018-01-01 20:00:00'), Timestamp('2018-01-01 21:00:00'), Timestamp('2018-01-01 22:00:00'), Timestamp('2018-01-01 23:00:00'), Timestamp('2018-02-01 00:00:00'), Timestamp('2018-02-01 01:00:00'), Timestamp('2018-02-01 02:00:00'), Timestamp('2018-02-01 03:00:00'), Timestamp('2018-02-01 04:00:00'), Timestamp('2018-02-01 05:00:00'), Timestamp('2018-02-01 07:00:00'), Timestamp('2018-02-01 08:00:00'), Timestamp('2018-02-01 09:00:00'), Timestamp('2018-02-01 10:00:00'), Timestamp('2018-02-01 11:00:00'), Timestamp('2018-02-01 12:00:00'), Timestamp('2018-02-01 13:00:00'), Timestamp('2018-02-01 14:00:00'), Timestamp('2018-02-01 15:00:00'), Timestamp('2018-02-01 16:00:00'), Timestamp('2018-02-01 17:00:00'), Timestamp('2018-02-01 19:00:00'), Timestamp('2018-02-01 20:00:00'), Timestamp('2018-02-01 21:00:00'), Timestamp('2018-02-01 22:00:00'), Timestamp('2018-02-01 23:00:00'), Timestamp('2018-03-01 00:00:00'), Timestamp('2018-03-01 01:00:00'), Timestamp('2018-03-01 02:00:00'), Timestamp('2018-03-01 03:00:00'), Timestamp('2018-03-01 04:00:00'), Timestamp('2018-03-01 05:00:00'), Timestamp('2018-03-01 07:00:00'), Timestamp('2018-03-01 08:00:00'), Timestamp('2018-03-01 09:00:00'), Timestamp('2018-03-01 10:00:00'), Timestamp('2018-03-01 11:00:00'), Timestamp('2018-03-01 12:00:00'), Timestamp('2018-03-01 13:00:00'), Timestamp('2018-03-01 14:00:00'), Timestamp('2018-03-01 15:00:00'), Timestamp('2018-03-01 16:00:00'), Timestamp('2018-03-01 17:00:00'), Timestamp('2018-03-01 19:00:00'), Timestamp('2018-03-01 20:00:00'), Timestamp('2018-03-01 21:00:00'), Timestamp('2018-03-01 22:00:00'), Timestamp('2018-03-01 23:00:00'), Timestamp('2018-04-01 00:00:00'), Timestamp('2018-04-01 01:00:00'), Timestamp('2018-04-01 02:00:00'), Timestamp('2018-04-01 03:00:00'), Timestamp('2018-04-01 04:00:00'), Timestamp('2018-04-01 05:00:00'), Timestamp('2018-04-01 07:00:00'), Timestamp('2018-04-01 08:00:00'), Timestamp('2018-04-01 09:00:00'), Timestamp('2018-04-01 10:00:00'), Timestamp('2018-04-01 11:00:00'), Timestamp('2018-04-01 12:00:00'), Timestamp('2018-04-01 13:00:00'), Timestamp('2018-04-01 14:00:00'), Timestamp('2018-04-01 15:00:00'), Timestamp('2018-04-01 16:00:00'), Timestamp('2018-04-01 17:00:00'), Timestamp('2018-04-01 19:00:00'), Timestamp('2018-04-01 20:00:00'), Timestamp('2018-04-01 21:00:00'), Timestamp('2018-04-01 22:00:00'), Timestamp('2018-04-01 23:00:00'), Timestamp('2018-05-01 00:00:00'), Timestamp('2018-05-01 01:00:00'), Timestamp('2018-05-01 02:00:00'), Timestamp('2018-05-01 03:00:00'), Timestamp('2018-05-01 04:00:00'), Timestamp('2018-05-01 05:00:00'), Timestamp('2018-05-01 07:00:00'), Timestamp('2018-05-01 08:00:00'), Timestamp('2018-05-01 09:00:00'), Timestamp('2018-05-01 10:00:00'), Timestamp('2018-05-01 11:00:00'), Timestamp('2018-05-01 12:00:00'), Timestamp('2018-05-01 13:00:00'), Timestamp('2018-05-01 14:00:00'), Timestamp('2018-05-01 15:00:00'), Timestamp('2018-05-01 16:00:00'), Timestamp('2018-05-01 17:00:00'), Timestamp('2018-05-01 19:00:00'), Timestamp('2018-05-01 20:00:00'), Timestamp('2018-05-01 21:00:00'), Timestamp('2018-05-01 22:00:00'), Timestamp('2018-05-01 23:00:00'), Timestamp('2018-06-01 00:00:00'), Timestamp('2018-06-01 01:00:00'), Timestamp('2018-06-01 02:00:00'), Timestamp('2018-06-01 03:00:00'), Timestamp('2018-06-01 04:00:00'), Timestamp('2018-06-01 05:00:00'), Timestamp('2018-06-01 07:00:00'), Timestamp('2018-06-01 08:00:00'), Timestamp('2018-06-01 09:00:00'), Timestamp('2018-06-01 10:00:00'), Timestamp('2018-06-01 11:00:00'), Timestamp('2018-06-01 12:00:00'), Timestamp('2018-06-01 13:00:00'), Timestamp('2018-06-01 14:00:00'), Timestamp('2018-06-01 15:00:00'), Timestamp('2018-06-01 16:00:00'), Timestamp('2018-06-01 17:00:00'), Timestamp('2018-06-01 19:00:00'), Timestamp('2018-06-01 20:00:00'), Timestamp('2018-06-01 21:00:00'), Timestamp('2018-06-01 22:00:00'), Timestamp('2018-06-01 23:00:00'), Timestamp('2018-07-01 00:00:00'), Timestamp('2018-07-01 01:00:00'), Timestamp('2018-07-01 02:00:00'), Timestamp('2018-07-01 03:00:00'), Timestamp('2018-07-01 04:00:00'), Timestamp('2018-07-01 05:00:00'), Timestamp('2018-07-01 07:00:00'), Timestamp('2018-07-01 08:00:00'), Timestamp('2018-07-01 09:00:00'), Timestamp('2018-07-01 10:00:00'), Timestamp('2018-07-01 11:00:00'), Timestamp('2018-07-01 12:00:00'), Timestamp('2018-07-01 13:00:00'), Timestamp('2018-07-01 14:00:00'), Timestamp('2018-07-01 15:00:00'), Timestamp('2018-07-01 16:00:00'), Timestamp('2018-07-01 17:00:00'), Timestamp('2018-07-01 19:00:00'), Timestamp('2018-07-01 20:00:00'), Timestamp('2018-07-01 21:00:00'), Timestamp('2018-07-01 22:00:00'), Timestamp('2018-07-01 23:00:00'), Timestamp('2018-08-01 00:00:00'), Timestamp('2018-08-01 01:00:00'), Timestamp('2018-08-01 02:00:00'), Timestamp('2018-08-01 03:00:00'), Timestamp('2018-08-01 04:00:00'), Timestamp('2018-08-01 05:00:00'), Timestamp('2018-08-01 07:00:00'), Timestamp('2018-08-01 08:00:00'), Timestamp('2018-08-01 09:00:00'), Timestamp('2018-08-01 10:00:00'), Timestamp('2018-08-01 11:00:00'), Timestamp('2018-08-01 12:00:00'), Timestamp('2018-08-01 13:00:00'), Timestamp('2018-08-01 14:00:00'), Timestamp('2018-08-01 15:00:00'), Timestamp('2018-08-01 16:00:00'), Timestamp('2018-08-01 17:00:00'), Timestamp('2018-08-01 19:00:00'), Timestamp('2018-08-01 20:00:00'), Timestamp('2018-08-01 21:00:00'), Timestamp('2018-08-01 22:00:00'), Timestamp('2018-08-01 23:00:00'), Timestamp('2018-09-01 00:00:00'), Timestamp('2018-09-01 01:00:00'), Timestamp('2018-09-01 02:00:00'), Timestamp('2018-09-01 03:00:00'), Timestamp('2018-09-01 04:00:00'), Timestamp('2018-09-01 05:00:00'), Timestamp('2018-09-01 07:00:00'), Timestamp('2018-09-01 08:00:00'), Timestamp('2018-09-01 09:00:00'), Timestamp('2018-09-01 10:00:00'), Timestamp('2018-09-01 11:00:00'), Timestamp('2018-09-01 12:00:00'), Timestamp('2018-09-01 13:00:00'), Timestamp('2018-09-01 14:00:00'), Timestamp('2018-09-01 15:00:00'), Timestamp('2018-09-01 16:00:00'), Timestamp('2018-09-01 17:00:00'), Timestamp('2018-09-01 19:00:00'), Timestamp('2018-09-01 20:00:00'), Timestamp('2018-09-01 21:00:00'), Timestamp('2018-09-01 22:00:00'), Timestamp('2018-09-01 23:00:00'), Timestamp('2018-10-01 00:00:00'), Timestamp('2018-10-01 01:00:00'), Timestamp('2018-10-01 02:00:00'), Timestamp('2018-10-01 03:00:00'), Timestamp('2018-10-01 04:00:00'), Timestamp('2018-10-01 05:00:00'), Timestamp('2018-10-01 07:00:00'), Timestamp('2018-10-01 08:00:00'), Timestamp('2018-10-01 09:00:00'), Timestamp('2018-10-01 10:00:00'), Timestamp('2018-10-01 11:00:00'), Timestamp('2018-10-01 12:00:00'), Timestamp('2018-10-01 13:00:00'), Timestamp('2018-10-01 14:00:00'), Timestamp('2018-10-01 15:00:00'), Timestamp('2018-10-01 16:00:00'), Timestamp('2018-10-01 17:00:00'), Timestamp('2018-10-01 19:00:00'), Timestamp('2018-10-01 20:00:00'), Timestamp('2018-10-01 21:00:00'), Timestamp('2018-10-01 22:00:00'), Timestamp('2018-10-01 23:00:00'), Timestamp('2018-11-01 00:00:00'), Timestamp('2018-11-01 01:00:00'), Timestamp('2018-11-01 02:00:00'), Timestamp('2018-11-01 03:00:00'), Timestamp('2018-11-01 04:00:00'), Timestamp('2018-11-01 05:00:00'), Timestamp('2018-11-01 07:00:00'), Timestamp('2018-11-01 08:00:00'), Timestamp('2018-11-01 09:00:00'), Timestamp('2018-11-01 10:00:00'), Timestamp('2018-11-01 11:00:00'), Timestamp('2018-11-01 12:00:00'), Timestamp('2018-11-01 13:00:00'), Timestamp('2018-11-01 14:00:00'), Timestamp('2018-11-01 15:00:00'), Timestamp('2018-11-01 16:00:00'), Timestamp('2018-11-01 17:00:00'), Timestamp('2018-11-01 19:00:00'), Timestamp('2018-11-01 20:00:00'), Timestamp('2018-11-01 21:00:00'), Timestamp('2018-11-01 22:00:00'), Timestamp('2018-11-01 23:00:00'), Timestamp('2018-12-01 00:00:00'), Timestamp('2018-12-01 01:00:00'), Timestamp('2018-12-01 02:00:00'), Timestamp('2018-12-01 03:00:00'), Timestamp('2018-12-01 04:00:00'), Timestamp('2018-12-01 05:00:00'), Timestamp('2018-12-01 07:00:00'), Timestamp('2018-12-01 08:00:00'), Timestamp('2018-12-01 09:00:00'), Timestamp('2018-12-01 10:00:00'), Timestamp('2018-12-01 11:00:00'), Timestamp('2018-12-01 12:00:00'), Timestamp('2018-12-01 13:00:00'), Timestamp('2018-12-01 14:00:00'), Timestamp('2018-12-01 15:00:00'), Timestamp('2018-12-01 16:00:00'), Timestamp('2018-12-01 17:00:00'), Timestamp('2018-12-01 19:00:00'), Timestamp('2018-12-01 20:00:00'), Timestamp('2018-12-01 21:00:00'), Timestamp('2018-12-01 22:00:00'), Timestamp('2018-12-01 23:00:00'), Timestamp('2019-01-01 00:00:00'), Timestamp('2019-01-01 01:00:00'), Timestamp('2019-01-01 02:00:00'), Timestamp('2019-01-01 03:00:00'), Timestamp('2019-01-01 04:00:00'), Timestamp('2019-01-01 05:00:00'), Timestamp('2019-01-01 07:00:00'), Timestamp('2019-01-01 08:00:00'), Timestamp('2019-01-01 09:00:00'), Timestamp('2019-01-01 10:00:00'), Timestamp('2019-01-01 11:00:00'), Timestamp('2019-01-01 12:00:00'), Timestamp('2019-01-01 13:00:00'), Timestamp('2019-01-01 14:00:00'), Timestamp('2019-01-01 15:00:00'), Timestamp('2019-01-01 16:00:00'), Timestamp('2019-01-01 17:00:00'), Timestamp('2019-01-01 19:00:00'), Timestamp('2019-01-01 20:00:00'), Timestamp('2019-01-01 21:00:00'), Timestamp('2019-01-01 22:00:00'), Timestamp('2019-01-01 23:00:00'), Timestamp('2019-02-01 00:00:00'), Timestamp('2019-02-01 01:00:00'), Timestamp('2019-02-01 02:00:00'), Timestamp('2019-02-01 03:00:00'), Timestamp('2019-02-01 04:00:00'), Timestamp('2019-02-01 05:00:00'), Timestamp('2019-02-01 07:00:00'), Timestamp('2019-02-01 08:00:00'), Timestamp('2019-02-01 09:00:00'), Timestamp('2019-02-01 10:00:00'), Timestamp('2019-02-01 11:00:00'), Timestamp('2019-02-01 12:00:00'), Timestamp('2019-02-01 13:00:00'), Timestamp('2019-02-01 14:00:00'), Timestamp('2019-02-01 15:00:00'), Timestamp('2019-02-01 16:00:00'), Timestamp('2019-02-01 17:00:00'), Timestamp('2019-02-01 19:00:00'), Timestamp('2019-02-01 20:00:00'), Timestamp('2019-02-01 21:00:00'), Timestamp('2019-02-01 22:00:00'), Timestamp('2019-02-01 23:00:00'), Timestamp('2019-03-01 00:00:00'), Timestamp('2019-03-01 01:00:00'), Timestamp('2019-03-01 02:00:00'), Timestamp('2019-03-01 03:00:00'), Timestamp('2019-03-01 04:00:00'), Timestamp('2019-03-01 05:00:00'), Timestamp('2019-03-01 07:00:00'), Timestamp('2019-03-01 08:00:00'), Timestamp('2019-03-01 09:00:00'), Timestamp('2019-03-01 10:00:00'), Timestamp('2019-03-01 11:00:00'), Timestamp('2019-03-01 12:00:00'), Timestamp('2019-03-01 13:00:00'), Timestamp('2019-03-01 14:00:00'), Timestamp('2019-03-01 15:00:00'), Timestamp('2019-03-01 16:00:00'), Timestamp('2019-03-01 17:00:00'), Timestamp('2019-03-01 19:00:00'), Timestamp('2019-03-01 20:00:00'), Timestamp('2019-03-01 21:00:00'), Timestamp('2019-03-01 22:00:00'), Timestamp('2019-03-01 23:00:00'), Timestamp('2019-04-01 00:00:00'), Timestamp('2019-04-01 01:00:00'), Timestamp('2019-04-01 02:00:00'), Timestamp('2019-04-01 03:00:00'), Timestamp('2019-04-01 04:00:00'), Timestamp('2019-04-01 05:00:00'), Timestamp('2019-04-01 07:00:00'), Timestamp('2019-04-01 08:00:00'), Timestamp('2019-04-01 09:00:00'), Timestamp('2019-04-01 10:00:00'), Timestamp('2019-04-01 11:00:00'), Timestamp('2019-04-01 12:00:00'), Timestamp('2019-04-01 13:00:00'), Timestamp('2019-04-01 14:00:00'), Timestamp('2019-04-01 15:00:00'), Timestamp('2019-04-01 16:00:00'), Timestamp('2019-04-01 17:00:00'), Timestamp('2019-04-01 19:00:00'), Timestamp('2019-04-01 20:00:00'), Timestamp('2019-04-01 21:00:00'), Timestamp('2019-04-01 22:00:00'), Timestamp('2019-04-01 23:00:00'), Timestamp('2019-05-01 00:00:00'), Timestamp('2019-05-01 01:00:00'), Timestamp('2019-05-01 02:00:00'), Timestamp('2019-05-01 03:00:00'), Timestamp('2019-05-01 04:00:00'), Timestamp('2019-05-01 05:00:00'), Timestamp('2019-05-01 07:00:00'), Timestamp('2019-05-01 08:00:00'), Timestamp('2019-05-01 09:00:00'), Timestamp('2019-05-01 10:00:00'), Timestamp('2019-05-01 11:00:00'), Timestamp('2019-05-01 12:00:00'), Timestamp('2019-05-01 13:00:00'), Timestamp('2019-05-01 14:00:00'), Timestamp('2019-05-01 15:00:00'), Timestamp('2019-05-01 16:00:00'), Timestamp('2019-05-01 17:00:00'), Timestamp('2019-05-01 19:00:00'), Timestamp('2019-05-01 20:00:00'), Timestamp('2019-05-01 21:00:00'), Timestamp('2019-05-01 22:00:00'), Timestamp('2019-05-01 23:00:00'), Timestamp('2019-06-01 00:00:00'), Timestamp('2019-06-01 01:00:00'), Timestamp('2019-06-01 02:00:00'), Timestamp('2019-06-01 03:00:00'), Timestamp('2019-06-01 04:00:00'), Timestamp('2019-06-01 05:00:00'), Timestamp('2019-06-01 07:00:00'), Timestamp('2019-06-01 08:00:00'), Timestamp('2019-06-01 09:00:00'), Timestamp('2019-06-01 10:00:00'), Timestamp('2019-06-01 11:00:00'), Timestamp('2019-06-01 12:00:00'), Timestamp('2019-06-01 13:00:00'), Timestamp('2019-06-01 14:00:00'), Timestamp('2019-06-01 15:00:00'), Timestamp('2019-06-01 16:00:00'), Timestamp('2019-06-01 17:00:00'), Timestamp('2019-06-01 19:00:00'), Timestamp('2019-06-01 20:00:00'), Timestamp('2019-06-01 21:00:00'), Timestamp('2019-06-01 22:00:00'), Timestamp('2019-06-01 23:00:00'), Timestamp('2019-07-01 00:00:00'), Timestamp('2019-07-01 01:00:00'), Timestamp('2019-07-01 02:00:00'), Timestamp('2019-07-01 03:00:00'), Timestamp('2019-07-01 04:00:00'), Timestamp('2019-07-01 05:00:00'), Timestamp('2019-07-01 07:00:00'), Timestamp('2019-07-01 08:00:00'), Timestamp('2019-07-01 09:00:00'), Timestamp('2019-07-01 10:00:00'), Timestamp('2019-07-01 11:00:00'), Timestamp('2019-07-01 12:00:00'), Timestamp('2019-07-01 13:00:00'), Timestamp('2019-07-01 14:00:00'), Timestamp('2019-07-01 15:00:00'), Timestamp('2019-07-01 16:00:00'), Timestamp('2019-07-01 17:00:00'), Timestamp('2019-07-01 19:00:00'), Timestamp('2019-07-01 20:00:00'), Timestamp('2019-07-01 21:00:00'), Timestamp('2019-07-01 22:00:00'), Timestamp('2019-07-01 23:00:00'), Timestamp('2019-08-01 00:00:00'), Timestamp('2019-08-01 01:00:00'), Timestamp('2019-08-01 02:00:00'), Timestamp('2019-08-01 03:00:00'), Timestamp('2019-08-01 04:00:00'), Timestamp('2019-08-01 05:00:00'), Timestamp('2019-08-01 07:00:00'), Timestamp('2019-08-01 08:00:00'), Timestamp('2019-08-01 09:00:00'), Timestamp('2019-08-01 10:00:00'), Timestamp('2019-08-01 11:00:00'), Timestamp('2019-08-01 12:00:00'), Timestamp('2019-08-01 13:00:00'), Timestamp('2019-08-01 14:00:00'), Timestamp('2019-08-01 15:00:00'), Timestamp('2019-08-01 16:00:00'), Timestamp('2019-08-01 17:00:00'), Timestamp('2019-08-01 19:00:00'), Timestamp('2019-08-01 20:00:00'), Timestamp('2019-08-01 21:00:00'), Timestamp('2019-08-01 22:00:00'), Timestamp('2019-08-01 23:00:00'), Timestamp('2019-09-01 00:00:00'), Timestamp('2019-09-01 01:00:00'), Timestamp('2019-09-01 02:00:00'), Timestamp('2019-09-01 03:00:00'), Timestamp('2019-09-01 04:00:00'), Timestamp('2019-09-01 05:00:00'), Timestamp('2019-09-01 07:00:00'), Timestamp('2019-09-01 08:00:00'), Timestamp('2019-09-01 09:00:00'), Timestamp('2019-09-01 10:00:00'), Timestamp('2019-09-01 11:00:00'), Timestamp('2019-09-01 12:00:00'), Timestamp('2019-09-01 13:00:00'), Timestamp('2019-09-01 14:00:00'), Timestamp('2019-09-01 15:00:00'), Timestamp('2019-09-01 16:00:00'), Timestamp('2019-09-01 17:00:00'), Timestamp('2019-09-01 19:00:00'), Timestamp('2019-09-01 20:00:00'), Timestamp('2019-09-01 21:00:00'), Timestamp('2019-09-01 22:00:00'), Timestamp('2019-09-01 23:00:00'), Timestamp('2019-10-01 00:00:00'), Timestamp('2019-10-01 01:00:00'), Timestamp('2019-10-01 02:00:00'), Timestamp('2019-10-01 03:00:00'), Timestamp('2019-10-01 04:00:00'), Timestamp('2019-10-01 05:00:00'), Timestamp('2019-10-01 07:00:00'), Timestamp('2019-10-01 08:00:00'), Timestamp('2019-10-01 09:00:00'), Timestamp('2019-10-01 10:00:00'), Timestamp('2019-10-01 11:00:00'), Timestamp('2019-10-01 12:00:00'), Timestamp('2019-10-01 13:00:00'), Timestamp('2019-10-01 14:00:00'), Timestamp('2019-10-01 15:00:00'), Timestamp('2019-10-01 16:00:00'), Timestamp('2019-10-01 17:00:00'), Timestamp('2019-10-01 19:00:00'), Timestamp('2019-10-01 20:00:00'), Timestamp('2019-10-01 21:00:00'), Timestamp('2019-10-01 22:00:00'), Timestamp('2019-10-01 23:00:00'), Timestamp('2019-11-01 00:00:00'), Timestamp('2019-11-01 01:00:00'), Timestamp('2019-11-01 02:00:00'), Timestamp('2019-11-01 03:00:00'), Timestamp('2019-11-01 04:00:00'), Timestamp('2019-11-01 05:00:00'), Timestamp('2019-11-01 07:00:00'), Timestamp('2019-11-01 08:00:00'), Timestamp('2019-11-01 09:00:00'), Timestamp('2019-11-01 10:00:00'), Timestamp('2019-11-01 11:00:00'), Timestamp('2019-11-01 12:00:00'), Timestamp('2019-11-01 13:00:00'), Timestamp('2019-11-01 14:00:00'), Timestamp('2019-11-01 15:00:00'), Timestamp('2019-11-01 16:00:00'), Timestamp('2019-11-01 17:00:00'), Timestamp('2019-11-01 19:00:00'), Timestamp('2019-11-01 20:00:00'), Timestamp('2019-11-01 21:00:00'), Timestamp('2019-11-01 22:00:00'), Timestamp('2019-11-01 23:00:00'), Timestamp('2019-12-01 00:00:00'), Timestamp('2019-12-01 01:00:00'), Timestamp('2019-12-01 02:00:00'), Timestamp('2019-12-01 03:00:00'), Timestamp('2019-12-01 04:00:00'), Timestamp('2019-12-01 05:00:00'), Timestamp('2019-12-01 07:00:00'), Timestamp('2019-12-01 08:00:00'), Timestamp('2019-12-01 09:00:00'), Timestamp('2019-12-01 10:00:00'), Timestamp('2019-12-01 11:00:00'), Timestamp('2019-12-01 12:00:00'), Timestamp('2019-12-01 13:00:00'), Timestamp('2019-12-01 14:00:00'), Timestamp('2019-12-01 15:00:00'), Timestamp('2019-12-01 16:00:00'), Timestamp('2019-12-01 17:00:00'), Timestamp('2019-12-01 19:00:00'), Timestamp('2019-12-01 20:00:00'), Timestamp('2019-12-01 21:00:00'), Timestamp('2019-12-01 22:00:00'), Timestamp('2019-12-01 23:00:00'), Timestamp('2020-01-01 00:00:00'), Timestamp('2020-01-01 01:00:00'), Timestamp('2020-01-01 02:00:00'), Timestamp('2020-01-01 03:00:00'), Timestamp('2020-01-01 04:00:00'), Timestamp('2020-01-01 05:00:00'), Timestamp('2020-01-01 07:00:00'), Timestamp('2020-01-01 08:00:00'), Timestamp('2020-01-01 09:00:00'), Timestamp('2020-01-01 10:00:00'), Timestamp('2020-01-01 11:00:00'), Timestamp('2020-01-01 12:00:00'), Timestamp('2020-01-01 13:00:00'), Timestamp('2020-01-01 14:00:00'), Timestamp('2020-01-01 15:00:00'), Timestamp('2020-01-01 16:00:00'), Timestamp('2020-01-01 17:00:00'), Timestamp('2020-01-01 19:00:00'), Timestamp('2020-01-01 20:00:00'), Timestamp('2020-01-01 21:00:00'), Timestamp('2020-01-01 22:00:00'), Timestamp('2020-01-01 23:00:00'), Timestamp('2020-02-01 00:00:00'), Timestamp('2020-02-01 01:00:00'), Timestamp('2020-02-01 02:00:00'), Timestamp('2020-02-01 03:00:00'), Timestamp('2020-02-01 04:00:00'), Timestamp('2020-02-01 05:00:00'), Timestamp('2020-02-01 07:00:00'), Timestamp('2020-02-01 08:00:00'), Timestamp('2020-02-01 09:00:00'), Timestamp('2020-02-01 10:00:00'), Timestamp('2020-02-01 11:00:00'), Timestamp('2020-02-01 12:00:00'), Timestamp('2020-02-01 13:00:00'), Timestamp('2020-02-01 14:00:00'), Timestamp('2020-02-01 15:00:00'), Timestamp('2020-02-01 16:00:00'), Timestamp('2020-02-01 17:00:00'), Timestamp('2020-02-01 19:00:00'), Timestamp('2020-02-01 20:00:00'), Timestamp('2020-02-01 21:00:00'), Timestamp('2020-02-01 22:00:00'), Timestamp('2020-02-01 23:00:00'), Timestamp('2020-03-01 00:00:00'), Timestamp('2020-03-01 01:00:00'), Timestamp('2020-03-01 02:00:00'), Timestamp('2020-03-01 03:00:00'), Timestamp('2020-03-01 04:00:00'), Timestamp('2020-03-01 05:00:00'), Timestamp('2020-03-01 07:00:00'), Timestamp('2020-03-01 08:00:00'), Timestamp('2020-03-01 09:00:00'), Timestamp('2020-03-01 10:00:00'), Timestamp('2020-03-01 11:00:00'), Timestamp('2020-03-01 12:00:00'), Timestamp('2020-03-01 13:00:00'), Timestamp('2020-03-01 14:00:00'), Timestamp('2020-03-01 15:00:00'), Timestamp('2020-03-01 16:00:00'), Timestamp('2020-03-01 17:00:00'), Timestamp('2020-03-01 19:00:00'), Timestamp('2020-03-01 20:00:00'), Timestamp('2020-03-01 21:00:00'), Timestamp('2020-03-01 22:00:00'), Timestamp('2020-03-01 23:00:00'), Timestamp('2020-04-01 00:00:00'), Timestamp('2020-04-01 01:00:00'), Timestamp('2020-04-01 02:00:00'), Timestamp('2020-04-01 03:00:00'), Timestamp('2020-04-01 04:00:00'), Timestamp('2020-04-01 05:00:00'), Timestamp('2020-04-01 07:00:00'), Timestamp('2020-04-01 08:00:00'), Timestamp('2020-04-01 09:00:00'), Timestamp('2020-04-01 10:00:00'), Timestamp('2020-04-01 11:00:00'), Timestamp('2020-04-01 12:00:00'), Timestamp('2020-04-01 13:00:00'), Timestamp('2020-04-01 14:00:00'), Timestamp('2020-04-01 15:00:00'), Timestamp('2020-04-01 16:00:00'), Timestamp('2020-04-01 17:00:00'), Timestamp('2020-04-01 19:00:00'), Timestamp('2020-04-01 20:00:00'), Timestamp('2020-04-01 21:00:00'), Timestamp('2020-04-01 22:00:00'), Timestamp('2020-04-01 23:00:00'), Timestamp('2020-05-01 00:00:00'), Timestamp('2020-05-01 01:00:00'), Timestamp('2020-05-01 02:00:00'), Timestamp('2020-05-01 03:00:00'), Timestamp('2020-05-01 04:00:00'), Timestamp('2020-05-01 05:00:00'), Timestamp('2020-05-01 07:00:00'), Timestamp('2020-05-01 08:00:00'), Timestamp('2020-05-01 09:00:00'), Timestamp('2020-05-01 10:00:00'), Timestamp('2020-05-01 11:00:00'), Timestamp('2020-05-01 12:00:00'), Timestamp('2020-05-01 13:00:00'), Timestamp('2020-05-01 14:00:00'), Timestamp('2020-05-01 15:00:00'), Timestamp('2020-05-01 16:00:00'), Timestamp('2020-05-01 17:00:00'), Timestamp('2020-05-01 19:00:00'), Timestamp('2020-05-01 20:00:00'), Timestamp('2020-05-01 21:00:00'), Timestamp('2020-05-01 22:00:00'), Timestamp('2020-05-01 23:00:00'), Timestamp('2020-06-01 00:00:00'), Timestamp('2020-06-01 01:00:00'), Timestamp('2020-06-01 02:00:00'), Timestamp('2020-06-01 03:00:00'), Timestamp('2020-06-01 04:00:00'), Timestamp('2020-06-01 05:00:00'), Timestamp('2020-06-01 07:00:00'), Timestamp('2020-06-01 08:00:00'), Timestamp('2020-06-01 09:00:00'), Timestamp('2020-06-01 10:00:00'), Timestamp('2020-06-01 11:00:00'), Timestamp('2020-06-01 12:00:00'), Timestamp('2020-06-01 13:00:00'), Timestamp('2020-06-01 14:00:00'), Timestamp('2020-06-01 15:00:00'), Timestamp('2020-06-01 16:00:00'), Timestamp('2020-06-01 17:00:00'), Timestamp('2020-06-01 19:00:00'), Timestamp('2020-06-01 20:00:00'), Timestamp('2020-06-01 21:00:00'), Timestamp('2020-06-01 22:00:00'), Timestamp('2020-06-01 23:00:00'), Timestamp('2020-07-01 00:00:00'), Timestamp('2020-07-01 01:00:00'), Timestamp('2020-07-01 02:00:00'), Timestamp('2020-07-01 03:00:00'), Timestamp('2020-07-01 04:00:00'), Timestamp('2020-07-01 05:00:00'), Timestamp('2020-07-01 07:00:00'), Timestamp('2020-07-01 08:00:00'), Timestamp('2020-07-01 09:00:00'), Timestamp('2020-07-01 10:00:00'), Timestamp('2020-07-01 11:00:00'), Timestamp('2020-07-01 12:00:00'), Timestamp('2020-07-01 13:00:00'), Timestamp('2020-07-01 14:00:00'), Timestamp('2020-07-01 15:00:00'), Timestamp('2020-07-01 16:00:00'), Timestamp('2020-07-01 17:00:00'), Timestamp('2020-07-01 19:00:00'), Timestamp('2020-07-01 20:00:00'), Timestamp('2020-07-01 21:00:00'), Timestamp('2020-07-01 22:00:00'), Timestamp('2020-07-01 23:00:00'), Timestamp('2020-08-01 00:00:00'), Timestamp('2020-08-01 01:00:00'), Timestamp('2020-08-01 02:00:00'), Timestamp('2020-08-01 03:00:00'), Timestamp('2020-08-01 04:00:00'), Timestamp('2020-08-01 05:00:00'), Timestamp('2020-08-01 07:00:00'), Timestamp('2020-08-01 08:00:00'), Timestamp('2020-08-01 09:00:00'), Timestamp('2020-08-01 10:00:00'), Timestamp('2020-08-01 11:00:00'), Timestamp('2020-08-01 12:00:00'), Timestamp('2020-08-01 13:00:00'), Timestamp('2020-08-01 14:00:00'), Timestamp('2020-08-01 15:00:00'), Timestamp('2020-08-01 16:00:00'), Timestamp('2020-08-01 17:00:00'), Timestamp('2020-08-01 19:00:00'), Timestamp('2020-08-01 20:00:00'), Timestamp('2020-08-01 21:00:00'), Timestamp('2020-08-01 22:00:00'), Timestamp('2020-08-01 23:00:00'), Timestamp('2020-09-01 00:00:00'), Timestamp('2020-09-01 01:00:00'), Timestamp('2020-09-01 02:00:00'), Timestamp('2020-09-01 03:00:00'), Timestamp('2020-09-01 04:00:00'), Timestamp('2020-09-01 05:00:00'), Timestamp('2020-09-01 07:00:00'), Timestamp('2020-09-01 08:00:00'), Timestamp('2020-09-01 09:00:00'), Timestamp('2020-09-01 10:00:00'), Timestamp('2020-09-01 11:00:00'), Timestamp('2020-09-01 12:00:00'), Timestamp('2020-09-01 13:00:00'), Timestamp('2020-09-01 14:00:00'), Timestamp('2020-09-01 15:00:00'), Timestamp('2020-09-01 16:00:00'), Timestamp('2020-09-01 17:00:00'), Timestamp('2020-09-01 19:00:00'), Timestamp('2020-09-01 20:00:00'), Timestamp('2020-09-01 21:00:00'), Timestamp('2020-09-01 22:00:00'), Timestamp('2020-09-01 23:00:00'), Timestamp('2020-10-01 00:00:00'), Timestamp('2020-10-01 01:00:00'), Timestamp('2020-10-01 02:00:00'), Timestamp('2020-10-01 03:00:00'), Timestamp('2020-10-01 04:00:00'), Timestamp('2020-10-01 05:00:00'), Timestamp('2020-10-01 07:00:00'), Timestamp('2020-10-01 08:00:00'), Timestamp('2020-10-01 09:00:00'), Timestamp('2020-10-01 10:00:00'), Timestamp('2020-10-01 11:00:00'), Timestamp('2020-10-01 12:00:00'), Timestamp('2020-10-01 13:00:00'), Timestamp('2020-10-01 14:00:00'), Timestamp('2020-10-01 15:00:00'), Timestamp('2020-10-01 16:00:00'), Timestamp('2020-10-01 17:00:00'), Timestamp('2020-10-01 19:00:00'), Timestamp('2020-10-01 20:00:00'), Timestamp('2020-10-01 21:00:00'), Timestamp('2020-10-01 22:00:00'), Timestamp('2020-10-01 23:00:00'), Timestamp('2020-11-01 00:00:00'), Timestamp('2020-11-01 01:00:00'), Timestamp('2020-11-01 02:00:00'), Timestamp('2020-11-01 03:00:00'), Timestamp('2020-11-01 04:00:00'), Timestamp('2020-11-01 05:00:00'), Timestamp('2020-11-01 07:00:00'), Timestamp('2020-11-01 08:00:00'), Timestamp('2020-11-01 09:00:00'), Timestamp('2020-11-01 10:00:00'), Timestamp('2020-11-01 11:00:00'), Timestamp('2020-11-01 12:00:00'), Timestamp('2020-11-01 13:00:00'), Timestamp('2020-11-01 14:00:00'), Timestamp('2020-11-01 15:00:00'), Timestamp('2020-11-01 16:00:00'), Timestamp('2020-11-01 17:00:00'), Timestamp('2020-11-01 19:00:00'), Timestamp('2020-11-01 20:00:00'), Timestamp('2020-11-01 21:00:00'), Timestamp('2020-11-01 22:00:00'), Timestamp('2020-11-01 23:00:00'), Timestamp('2020-12-01 00:00:00'), Timestamp('2020-12-01 01:00:00'), Timestamp('2020-12-01 02:00:00'), Timestamp('2020-12-01 03:00:00'), Timestamp('2020-12-01 04:00:00'), Timestamp('2020-12-01 05:00:00'), Timestamp('2020-12-01 07:00:00'), Timestamp('2020-12-01 08:00:00'), Timestamp('2020-12-01 09:00:00'), Timestamp('2020-12-01 10:00:00'), Timestamp('2020-12-01 11:00:00'), Timestamp('2020-12-01 12:00:00'), Timestamp('2020-12-01 13:00:00'), Timestamp('2020-12-01 14:00:00'), Timestamp('2020-12-01 15:00:00'), Timestamp('2020-12-01 16:00:00'), Timestamp('2020-12-01 17:00:00'), Timestamp('2020-12-01 19:00:00'), Timestamp('2020-12-01 20:00:00'), Timestamp('2020-12-01 21:00:00'), Timestamp('2020-12-01 22:00:00'), Timestamp('2020-12-01 23:00:00'), Timestamp('2021-01-01 00:00:00'), Timestamp('2021-01-01 01:00:00'), Timestamp('2021-01-01 02:00:00'), Timestamp('2021-01-01 03:00:00'), Timestamp('2021-01-01 04:00:00'), Timestamp('2021-01-01 05:00:00'), Timestamp('2021-01-01 07:00:00'), Timestamp('2021-01-01 08:00:00'), Timestamp('2021-01-01 09:00:00'), Timestamp('2021-01-01 10:00:00'), Timestamp('2021-01-01 11:00:00'), Timestamp('2021-01-01 12:00:00'), Timestamp('2021-01-01 13:00:00'), Timestamp('2021-01-01 14:00:00'), Timestamp('2021-01-01 15:00:00'), Timestamp('2021-01-01 16:00:00'), Timestamp('2021-01-01 17:00:00'), Timestamp('2021-01-01 19:00:00'), Timestamp('2021-01-01 20:00:00'), Timestamp('2021-01-01 21:00:00'), Timestamp('2021-01-01 22:00:00'), Timestamp('2021-01-01 23:00:00'), Timestamp('2021-02-01 00:00:00'), Timestamp('2021-02-01 01:00:00'), Timestamp('2021-02-01 02:00:00'), Timestamp('2021-02-01 03:00:00'), Timestamp('2021-02-01 04:00:00'), Timestamp('2021-02-01 05:00:00'), Timestamp('2021-02-01 07:00:00'), Timestamp('2021-02-01 08:00:00'), Timestamp('2021-02-01 09:00:00'), Timestamp('2021-02-01 10:00:00'), Timestamp('2021-02-01 11:00:00'), Timestamp('2021-02-01 12:00:00'), Timestamp('2021-02-01 13:00:00'), Timestamp('2021-02-01 14:00:00'), Timestamp('2021-02-01 15:00:00'), Timestamp('2021-02-01 16:00:00'), Timestamp('2021-02-01 17:00:00'), Timestamp('2021-02-01 19:00:00'), Timestamp('2021-02-01 20:00:00'), Timestamp('2021-02-01 21:00:00'), Timestamp('2021-02-01 22:00:00'), Timestamp('2021-02-01 23:00:00'), Timestamp('2021-03-01 00:00:00'), Timestamp('2021-03-01 01:00:00'), Timestamp('2021-03-01 02:00:00'), Timestamp('2021-03-01 03:00:00'), Timestamp('2021-03-01 04:00:00'), Timestamp('2021-03-01 05:00:00'), Timestamp('2021-03-01 07:00:00'), Timestamp('2021-03-01 08:00:00'), Timestamp('2021-03-01 09:00:00'), Timestamp('2021-03-01 10:00:00'), Timestamp('2021-03-01 11:00:00'), Timestamp('2021-03-01 12:00:00'), Timestamp('2021-03-01 13:00:00'), Timestamp('2021-03-01 14:00:00'), Timestamp('2021-03-01 15:00:00'), Timestamp('2021-03-01 16:00:00'), Timestamp('2021-03-01 17:00:00'), Timestamp('2021-03-01 19:00:00'), Timestamp('2021-03-01 20:00:00'), Timestamp('2021-03-01 21:00:00'), Timestamp('2021-03-01 22:00:00'), Timestamp('2021-03-01 23:00:00'), Timestamp('2021-04-01 00:00:00'), Timestamp('2021-04-01 01:00:00'), Timestamp('2021-04-01 02:00:00'), Timestamp('2021-04-01 03:00:00'), Timestamp('2021-04-01 04:00:00'), Timestamp('2021-04-01 05:00:00'), Timestamp('2021-04-01 07:00:00'), Timestamp('2021-04-01 08:00:00'), Timestamp('2021-04-01 09:00:00'), Timestamp('2021-04-01 10:00:00'), Timestamp('2021-04-01 11:00:00'), Timestamp('2021-04-01 12:00:00'), Timestamp('2021-04-01 13:00:00'), Timestamp('2021-04-01 14:00:00'), Timestamp('2021-04-01 15:00:00'), Timestamp('2021-04-01 16:00:00'), Timestamp('2021-04-01 17:00:00'), Timestamp('2021-04-01 19:00:00'), Timestamp('2021-04-01 20:00:00'), Timestamp('2021-04-01 21:00:00'), Timestamp('2021-04-01 22:00:00'), Timestamp('2021-04-01 23:00:00'), Timestamp('2021-05-01 00:00:00'), Timestamp('2021-05-01 01:00:00'), Timestamp('2021-05-01 02:00:00'), Timestamp('2021-05-01 03:00:00'), Timestamp('2021-05-01 04:00:00'), Timestamp('2021-05-01 05:00:00'), Timestamp('2021-05-01 07:00:00'), Timestamp('2021-05-01 08:00:00'), Timestamp('2021-05-01 09:00:00'), Timestamp('2021-05-01 10:00:00'), Timestamp('2021-05-01 11:00:00'), Timestamp('2021-05-01 12:00:00'), Timestamp('2021-05-01 13:00:00'), Timestamp('2021-05-01 14:00:00'), Timestamp('2021-05-01 15:00:00'), Timestamp('2021-05-01 16:00:00'), Timestamp('2021-05-01 17:00:00'), Timestamp('2021-05-01 19:00:00'), Timestamp('2021-05-01 20:00:00'), Timestamp('2021-05-01 21:00:00'), Timestamp('2021-05-01 22:00:00'), Timestamp('2021-05-01 23:00:00'), Timestamp('2021-06-01 00:00:00'), Timestamp('2021-06-01 01:00:00'), Timestamp('2021-06-01 02:00:00'), Timestamp('2021-06-01 03:00:00'), Timestamp('2021-06-01 04:00:00'), Timestamp('2021-06-01 05:00:00'), Timestamp('2021-06-01 07:00:00'), Timestamp('2021-06-01 08:00:00'), Timestamp('2021-06-01 09:00:00'), Timestamp('2021-06-01 10:00:00'), Timestamp('2021-06-01 11:00:00'), Timestamp('2021-06-01 12:00:00'), Timestamp('2021-06-01 13:00:00'), Timestamp('2021-06-01 14:00:00'), Timestamp('2021-06-01 15:00:00'), Timestamp('2021-06-01 16:00:00'), Timestamp('2021-06-01 17:00:00'), Timestamp('2021-06-01 19:00:00'), Timestamp('2021-06-01 20:00:00'), Timestamp('2021-06-01 21:00:00'), Timestamp('2021-06-01 22:00:00'), Timestamp('2021-06-01 23:00:00'), Timestamp('2021-07-01 00:00:00'), Timestamp('2021-07-01 01:00:00'), Timestamp('2021-07-01 02:00:00'), Timestamp('2021-07-01 03:00:00'), Timestamp('2021-07-01 04:00:00'), Timestamp('2021-07-01 05:00:00'), Timestamp('2021-07-01 07:00:00'), Timestamp('2021-07-01 08:00:00'), Timestamp('2021-07-01 09:00:00'), Timestamp('2021-07-01 10:00:00'), Timestamp('2021-07-01 11:00:00'), Timestamp('2021-07-01 12:00:00'), Timestamp('2021-07-01 13:00:00'), Timestamp('2021-07-01 14:00:00'), Timestamp('2021-07-01 15:00:00'), Timestamp('2021-07-01 16:00:00'), Timestamp('2021-07-01 17:00:00'), Timestamp('2021-07-01 19:00:00'), Timestamp('2021-07-01 20:00:00'), Timestamp('2021-07-01 21:00:00'), Timestamp('2021-07-01 22:00:00'), Timestamp('2021-07-01 23:00:00'), Timestamp('2021-08-01 00:00:00'), Timestamp('2021-08-01 01:00:00'), Timestamp('2021-08-01 02:00:00'), Timestamp('2021-08-01 03:00:00'), Timestamp('2021-08-01 04:00:00'), Timestamp('2021-08-01 05:00:00'), Timestamp('2021-08-01 07:00:00'), Timestamp('2021-08-01 08:00:00'), Timestamp('2021-08-01 09:00:00'), Timestamp('2021-08-01 10:00:00'), Timestamp('2021-08-01 11:00:00'), Timestamp('2021-08-01 12:00:00'), Timestamp('2021-08-01 13:00:00'), Timestamp('2021-08-01 14:00:00'), Timestamp('2021-08-01 15:00:00'), Timestamp('2021-08-01 16:00:00'), Timestamp('2021-08-01 17:00:00'), Timestamp('2021-08-01 19:00:00'), Timestamp('2021-08-01 20:00:00'), Timestamp('2021-08-01 21:00:00'), Timestamp('2021-08-01 22:00:00'), Timestamp('2021-08-01 23:00:00'), Timestamp('2021-09-01 00:00:00'), Timestamp('2021-09-01 01:00:00'), Timestamp('2021-09-01 02:00:00'), Timestamp('2021-09-01 03:00:00'), Timestamp('2021-09-01 04:00:00'), Timestamp('2021-09-01 05:00:00'), Timestamp('2021-09-01 07:00:00'), Timestamp('2021-09-01 08:00:00'), Timestamp('2021-09-01 09:00:00'), Timestamp('2021-09-01 10:00:00'), Timestamp('2021-09-01 11:00:00'), Timestamp('2021-09-01 12:00:00'), Timestamp('2021-09-01 13:00:00'), Timestamp('2021-09-01 14:00:00'), Timestamp('2021-09-01 15:00:00'), Timestamp('2021-09-01 16:00:00'), Timestamp('2021-09-01 17:00:00'), Timestamp('2021-09-01 19:00:00'), Timestamp('2021-09-01 20:00:00'), Timestamp('2021-09-01 21:00:00'), Timestamp('2021-09-01 22:00:00'), Timestamp('2021-09-01 23:00:00'), Timestamp('2021-10-01 00:00:00'), Timestamp('2021-10-01 01:00:00'), Timestamp('2021-10-01 02:00:00'), Timestamp('2021-10-01 03:00:00'), Timestamp('2021-10-01 04:00:00'), Timestamp('2021-10-01 05:00:00'), Timestamp('2021-10-01 07:00:00'), Timestamp('2021-10-01 08:00:00'), Timestamp('2021-10-01 09:00:00'), Timestamp('2021-10-01 10:00:00'), Timestamp('2021-10-01 11:00:00'), Timestamp('2021-10-01 12:00:00'), Timestamp('2021-10-01 13:00:00'), Timestamp('2021-10-01 14:00:00'), Timestamp('2021-10-01 15:00:00'), Timestamp('2021-10-01 16:00:00'), Timestamp('2021-10-01 17:00:00'), Timestamp('2021-10-01 19:00:00'), Timestamp('2021-10-01 20:00:00'), Timestamp('2021-10-01 21:00:00'), Timestamp('2021-10-01 22:00:00'), Timestamp('2021-10-01 23:00:00'), Timestamp('2021-11-01 00:00:00'), Timestamp('2021-11-01 01:00:00'), Timestamp('2021-11-01 02:00:00'), Timestamp('2021-11-01 03:00:00'), Timestamp('2021-11-01 04:00:00'), Timestamp('2021-11-01 05:00:00'), Timestamp('2021-11-01 07:00:00'), Timestamp('2021-11-01 08:00:00'), Timestamp('2021-11-01 09:00:00'), Timestamp('2021-11-01 10:00:00'), Timestamp('2021-11-01 11:00:00'), Timestamp('2021-11-01 12:00:00'), Timestamp('2021-11-01 13:00:00'), Timestamp('2021-11-01 14:00:00'), Timestamp('2021-11-01 15:00:00'), Timestamp('2021-11-01 16:00:00'), Timestamp('2021-11-01 17:00:00'), Timestamp('2021-11-01 19:00:00'), Timestamp('2021-11-01 20:00:00'), Timestamp('2021-11-01 21:00:00'), Timestamp('2021-11-01 22:00:00'), Timestamp('2021-11-01 23:00:00'), Timestamp('2021-12-01 00:00:00'), Timestamp('2021-12-01 01:00:00'), Timestamp('2021-12-01 02:00:00'), Timestamp('2021-12-01 03:00:00'), Timestamp('2021-12-01 04:00:00'), Timestamp('2021-12-01 05:00:00'), Timestamp('2021-12-01 07:00:00'), Timestamp('2021-12-01 08:00:00'), Timestamp('2021-12-01 09:00:00'), Timestamp('2021-12-01 10:00:00'), Timestamp('2021-12-01 11:00:00'), Timestamp('2021-12-01 12:00:00'), Timestamp('2021-12-01 13:00:00'), Timestamp('2021-12-01 14:00:00'), Timestamp('2021-12-01 15:00:00'), Timestamp('2021-12-01 16:00:00'), Timestamp('2021-12-01 17:00:00'), Timestamp('2021-12-01 19:00:00'), Timestamp('2021-12-01 20:00:00'), Timestamp('2021-12-01 21:00:00'), Timestamp('2021-12-01 22:00:00'), Timestamp('2021-12-01 23:00:00'), Timestamp('2022-01-01 00:00:00'), Timestamp('2022-01-01 01:00:00'), Timestamp('2022-01-01 02:00:00'), Timestamp('2022-01-01 03:00:00'), Timestamp('2022-01-01 04:00:00'), Timestamp('2022-01-01 05:00:00'), Timestamp('2022-01-01 07:00:00'), Timestamp('2022-01-01 08:00:00'), Timestamp('2022-01-01 09:00:00'), Timestamp('2022-01-01 10:00:00'), Timestamp('2022-01-01 11:00:00'), Timestamp('2022-01-01 12:00:00'), Timestamp('2022-01-01 13:00:00'), Timestamp('2022-01-01 14:00:00'), Timestamp('2022-01-01 15:00:00'), Timestamp('2022-01-01 16:00:00'), Timestamp('2022-01-01 17:00:00'), Timestamp('2022-01-01 19:00:00'), Timestamp('2022-01-01 20:00:00'), Timestamp('2022-01-01 21:00:00'), Timestamp('2022-01-01 22:00:00'), Timestamp('2022-01-01 23:00:00'), Timestamp('2022-02-01 00:00:00'), Timestamp('2022-02-01 01:00:00'), Timestamp('2022-02-01 02:00:00'), Timestamp('2022-02-01 03:00:00'), Timestamp('2022-02-01 04:00:00'), Timestamp('2022-02-01 05:00:00'), Timestamp('2022-02-01 07:00:00'), Timestamp('2022-02-01 08:00:00'), Timestamp('2022-02-01 09:00:00'), Timestamp('2022-02-01 10:00:00'), Timestamp('2022-02-01 11:00:00'), Timestamp('2022-02-01 12:00:00'), Timestamp('2022-02-01 13:00:00'), Timestamp('2022-02-01 14:00:00'), Timestamp('2022-02-01 15:00:00'), Timestamp('2022-02-01 16:00:00'), Timestamp('2022-02-01 17:00:00'), Timestamp('2022-02-01 19:00:00'), Timestamp('2022-02-01 20:00:00'), Timestamp('2022-02-01 21:00:00'), Timestamp('2022-02-01 22:00:00'), Timestamp('2022-02-01 23:00:00'), Timestamp('2022-03-01 00:00:00'), Timestamp('2022-03-01 01:00:00'), Timestamp('2022-03-01 02:00:00'), Timestamp('2022-03-01 03:00:00'), Timestamp('2022-03-01 04:00:00'), Timestamp('2022-03-01 05:00:00'), Timestamp('2022-03-01 07:00:00'), Timestamp('2022-03-01 08:00:00'), Timestamp('2022-03-01 09:00:00'), Timestamp('2022-03-01 10:00:00'), Timestamp('2022-03-01 11:00:00'), Timestamp('2022-03-01 12:00:00'), Timestamp('2022-03-01 13:00:00'), Timestamp('2022-03-01 14:00:00'), Timestamp('2022-03-01 15:00:00'), Timestamp('2022-03-01 16:00:00'), Timestamp('2022-03-01 17:00:00'), Timestamp('2022-03-01 19:00:00'), Timestamp('2022-03-01 20:00:00'), Timestamp('2022-03-01 21:00:00'), Timestamp('2022-03-01 22:00:00'), Timestamp('2022-03-01 23:00:00'), Timestamp('2022-04-01 00:00:00'), Timestamp('2022-04-01 01:00:00'), Timestamp('2022-04-01 02:00:00'), Timestamp('2022-04-01 03:00:00'), Timestamp('2022-04-01 04:00:00'), Timestamp('2022-04-01 05:00:00'), Timestamp('2022-04-01 07:00:00'), Timestamp('2022-04-01 08:00:00'), Timestamp('2022-04-01 09:00:00'), Timestamp('2022-04-01 10:00:00'), Timestamp('2022-04-01 11:00:00'), Timestamp('2022-04-01 12:00:00'), Timestamp('2022-04-01 13:00:00'), Timestamp('2022-04-01 14:00:00'), Timestamp('2022-04-01 15:00:00'), Timestamp('2022-04-01 16:00:00'), Timestamp('2022-04-01 17:00:00'), Timestamp('2022-04-01 19:00:00'), Timestamp('2022-04-01 20:00:00'), Timestamp('2022-04-01 21:00:00'), Timestamp('2022-04-01 22:00:00'), Timestamp('2022-04-01 23:00:00'), Timestamp('2022-05-01 00:00:00'), Timestamp('2022-05-01 01:00:00'), Timestamp('2022-05-01 02:00:00'), Timestamp('2022-05-01 03:00:00'), Timestamp('2022-05-01 04:00:00'), Timestamp('2022-05-01 05:00:00'), Timestamp('2022-05-01 07:00:00'), Timestamp('2022-05-01 08:00:00'), Timestamp('2022-05-01 09:00:00'), Timestamp('2022-05-01 10:00:00'), Timestamp('2022-05-01 11:00:00'), Timestamp('2022-05-01 12:00:00'), Timestamp('2022-05-01 13:00:00'), Timestamp('2022-05-01 14:00:00'), Timestamp('2022-05-01 15:00:00'), Timestamp('2022-05-01 16:00:00'), Timestamp('2022-05-01 17:00:00'), Timestamp('2022-05-01 19:00:00'), Timestamp('2022-05-01 20:00:00'), Timestamp('2022-05-01 21:00:00'), Timestamp('2022-05-01 22:00:00'), Timestamp('2022-05-01 23:00:00'), Timestamp('2022-06-01 00:00:00'), Timestamp('2022-06-01 01:00:00'), Timestamp('2022-06-01 02:00:00'), Timestamp('2022-06-01 03:00:00'), Timestamp('2022-06-01 04:00:00'), Timestamp('2022-06-01 05:00:00'), Timestamp('2022-06-01 07:00:00'), Timestamp('2022-06-01 08:00:00'), Timestamp('2022-06-01 09:00:00'), Timestamp('2022-06-01 10:00:00'), Timestamp('2022-06-01 11:00:00'), Timestamp('2022-06-01 12:00:00'), Timestamp('2022-06-01 13:00:00'), Timestamp('2022-06-01 14:00:00'), Timestamp('2022-06-01 15:00:00'), Timestamp('2022-06-01 16:00:00'), Timestamp('2022-06-01 17:00:00'), Timestamp('2022-06-01 19:00:00'), Timestamp('2022-06-01 20:00:00'), Timestamp('2022-06-01 21:00:00'), Timestamp('2022-06-01 22:00:00'), Timestamp('2022-06-01 23:00:00'), Timestamp('2022-07-01 00:00:00'), Timestamp('2022-07-01 01:00:00'), Timestamp('2022-07-01 02:00:00'), Timestamp('2022-07-01 03:00:00'), Timestamp('2022-07-01 04:00:00'), Timestamp('2022-07-01 05:00:00'), Timestamp('2022-07-01 07:00:00'), Timestamp('2022-07-01 08:00:00'), Timestamp('2022-07-01 09:00:00'), Timestamp('2022-07-01 10:00:00'), Timestamp('2022-07-01 11:00:00'), Timestamp('2022-07-01 12:00:00'), Timestamp('2022-07-01 13:00:00'), Timestamp('2022-07-01 14:00:00'), Timestamp('2022-07-01 15:00:00'), Timestamp('2022-07-01 16:00:00'), Timestamp('2022-07-01 17:00:00'), Timestamp('2022-07-01 19:00:00'), Timestamp('2022-07-01 20:00:00'), Timestamp('2022-07-01 21:00:00'), Timestamp('2022-07-01 22:00:00'), Timestamp('2022-07-01 23:00:00'), Timestamp('2022-08-01 00:00:00'), Timestamp('2022-08-01 01:00:00'), Timestamp('2022-08-01 02:00:00'), Timestamp('2022-08-01 03:00:00'), Timestamp('2022-08-01 04:00:00'), Timestamp('2022-08-01 05:00:00'), Timestamp('2022-08-01 07:00:00'), Timestamp('2022-08-01 08:00:00'), Timestamp('2022-08-01 09:00:00'), Timestamp('2022-08-01 10:00:00'), Timestamp('2022-08-01 11:00:00'), Timestamp('2022-08-01 12:00:00'), Timestamp('2022-08-01 13:00:00'), Timestamp('2022-08-01 14:00:00'), Timestamp('2022-08-01 15:00:00'), Timestamp('2022-08-01 16:00:00'), Timestamp('2022-08-01 17:00:00'), Timestamp('2022-08-01 19:00:00'), Timestamp('2022-08-01 20:00:00'), Timestamp('2022-08-01 21:00:00'), Timestamp('2022-08-01 22:00:00'), Timestamp('2022-08-01 23:00:00'), Timestamp('2022-09-01 00:00:00'), Timestamp('2022-09-01 01:00:00'), Timestamp('2022-09-01 02:00:00'), Timestamp('2022-09-01 03:00:00'), Timestamp('2022-09-01 04:00:00'), Timestamp('2022-09-01 05:00:00'), Timestamp('2022-09-01 07:00:00'), Timestamp('2022-09-01 08:00:00'), Timestamp('2022-09-01 09:00:00'), Timestamp('2022-09-01 10:00:00'), Timestamp('2022-09-01 11:00:00'), Timestamp('2022-09-01 12:00:00'), Timestamp('2022-09-01 13:00:00'), Timestamp('2022-09-01 14:00:00'), Timestamp('2022-09-01 15:00:00'), Timestamp('2022-09-01 16:00:00'), Timestamp('2022-09-01 17:00:00'), Timestamp('2022-09-01 19:00:00'), Timestamp('2022-09-01 20:00:00'), Timestamp('2022-09-01 21:00:00'), Timestamp('2022-09-01 22:00:00'), Timestamp('2022-09-01 23:00:00'), Timestamp('2022-10-01 00:00:00'), Timestamp('2022-10-01 01:00:00'), Timestamp('2022-10-01 02:00:00'), Timestamp('2022-10-01 03:00:00'), Timestamp('2022-10-01 04:00:00'), Timestamp('2022-10-01 05:00:00'), Timestamp('2022-10-01 07:00:00'), Timestamp('2022-10-01 08:00:00'), Timestamp('2022-10-01 09:00:00'), Timestamp('2022-10-01 10:00:00'), Timestamp('2022-10-01 11:00:00'), Timestamp('2022-10-01 12:00:00'), Timestamp('2022-10-01 13:00:00'), Timestamp('2022-10-01 14:00:00'), Timestamp('2022-10-01 15:00:00'), Timestamp('2022-10-01 16:00:00'), Timestamp('2022-10-01 17:00:00'), Timestamp('2022-10-01 19:00:00'), Timestamp('2022-10-01 20:00:00'), Timestamp('2022-10-01 21:00:00'), Timestamp('2022-10-01 22:00:00'), Timestamp('2022-10-01 23:00:00'), Timestamp('2022-11-01 00:00:00'), Timestamp('2022-11-01 01:00:00'), Timestamp('2022-11-01 02:00:00'), Timestamp('2022-11-01 03:00:00'), Timestamp('2022-11-01 04:00:00'), Timestamp('2022-11-01 05:00:00'), Timestamp('2022-11-01 07:00:00'), Timestamp('2022-11-01 08:00:00'), Timestamp('2022-11-01 09:00:00'), Timestamp('2022-11-01 10:00:00'), Timestamp('2022-11-01 11:00:00'), Timestamp('2022-11-01 12:00:00'), Timestamp('2022-11-01 13:00:00'), Timestamp('2022-11-01 14:00:00'), Timestamp('2022-11-01 15:00:00'), Timestamp('2022-11-01 16:00:00'), Timestamp('2022-11-01 17:00:00'), Timestamp('2022-11-01 19:00:00'), Timestamp('2022-11-01 20:00:00'), Timestamp('2022-11-01 21:00:00'), Timestamp('2022-11-01 22:00:00'), Timestamp('2022-11-01 23:00:00'), Timestamp('2022-12-01 00:00:00'), Timestamp('2022-12-01 01:00:00'), Timestamp('2022-12-01 02:00:00'), Timestamp('2022-12-01 03:00:00'), Timestamp('2022-12-01 04:00:00'), Timestamp('2022-12-01 05:00:00'), Timestamp('2022-12-01 07:00:00'), Timestamp('2022-12-01 08:00:00'), Timestamp('2022-12-01 09:00:00'), Timestamp('2022-12-01 10:00:00'), Timestamp('2022-12-01 11:00:00'), Timestamp('2022-12-01 12:00:00'), Timestamp('2022-12-01 13:00:00'), Timestamp('2022-12-01 14:00:00'), Timestamp('2022-12-01 15:00:00'), Timestamp('2022-12-01 16:00:00'), Timestamp('2022-12-01 17:00:00'), Timestamp('2022-12-01 19:00:00'), Timestamp('2022-12-01 20:00:00'), Timestamp('2022-12-01 21:00:00'), Timestamp('2022-12-01 22:00:00'), Timestamp('2022-12-01 23:00:00')]\n"
     ]
    },
    {
     "data": {
      "text/plain": [
       "8928"
      ]
     },
     "execution_count": 4,
     "metadata": {},
     "output_type": "execute_result"
    }
   ],
   "source": [
    "# Check if the time values for Total precipitation are always 6 and 18\n",
    "time_values = pd.to_datetime(datasets['tcc']['time'].values)\n",
    "valid_times = [time for time in time_values if time.hour not in [6, 18]]\n",
    "\n",
    "# Print the result\n",
    "if valid_times:\n",
    "    print(f\"The following time values for Total precipitation are not 6 or 18: {valid_times}\")\n",
    "else:\n",
    "    print(\"All time values for Total precipitation are 6 or 18.\")\n",
    "\n",
    "len(time_values)\n"
   ]
  },
  {
   "cell_type": "code",
   "execution_count": 9,
   "metadata": {},
   "outputs": [
    {
     "name": "stdout",
     "output_type": "stream",
     "text": [
      "('month',)\n",
      "('month',)\n"
     ]
    }
   ],
   "source": [
    "# Calculate the climatology and average over latitude and longitude\n",
    "\n",
    "avg_tp = datasets['tp']['tp'].groupby('time.month').mean(['time', 'latitude', 'longitude', 'step'])*1000\n",
    "avg_temp = datasets['2t']['t2m'].groupby('time.month').mean(['time', 'latitude', 'longitude'])-273.15\n",
    "max_temp = datasets['2t']['t2m'].groupby('time.month').max(['time', 'latitude', 'longitude'])-273.15\n",
    "min_temp = datasets['2t']['t2m'].groupby('time.month').min(['time', 'latitude', 'longitude'])-273.15\n",
    "\n",
    "\n",
    "#check the diemsnsions of the data\n",
    "print(avg_temp.dims)\n",
    "print(avg_tp.dims)\n",
    "\n"
   ]
  },
  {
   "cell_type": "code",
   "execution_count": 13,
   "metadata": {},
   "outputs": [
    {
     "data": {
      "application/vnd.plotly.v1+json": {
       "config": {
        "plotlyServerURL": "https://plot.ly"
       },
       "data": [
        {
         "name": "Precipitation",
         "opacity": 0.5,
         "type": "bar",
         "x": [
          1,
          2,
          3,
          4,
          5,
          6,
          7,
          8,
          9,
          10,
          11,
          12
         ],
         "xaxis": "x",
         "y": [
          0.055165890604257584,
          0.05832633748650551,
          0.06821738928556442,
          0.06609337031841278,
          0.054501719772815704,
          0.02501826360821724,
          0.010471913032233715,
          0.026852484792470932,
          0.056085411459207535,
          0.06266073882579803,
          0.06665980070829391,
          0.06412637233734131
         ],
         "yaxis": "y"
        },
        {
         "mode": "lines",
         "name": "Temperature",
         "type": "scatter",
         "x": [
          1,
          2,
          3,
          4,
          5,
          6,
          7,
          8,
          9,
          10,
          11,
          12
         ],
         "xaxis": "x",
         "y": [
          6.963714599609375,
          8.2603759765625,
          10.694061279296875,
          13.134124755859375,
          17.231048583984375,
          21.95220947265625,
          25.36083984375,
          25.128173828125,
          20.707366943359375,
          16.20654296875,
          10.707244873046875,
          7.985382080078125
         ],
         "yaxis": "y2"
        }
       ],
       "layout": {
        "template": {
         "data": {
          "bar": [
           {
            "error_x": {
             "color": "rgb(36,36,36)"
            },
            "error_y": {
             "color": "rgb(36,36,36)"
            },
            "marker": {
             "line": {
              "color": "white",
              "width": 0.5
             },
             "pattern": {
              "fillmode": "overlay",
              "size": 10,
              "solidity": 0.2
             }
            },
            "type": "bar"
           }
          ],
          "barpolar": [
           {
            "marker": {
             "line": {
              "color": "white",
              "width": 0.5
             },
             "pattern": {
              "fillmode": "overlay",
              "size": 10,
              "solidity": 0.2
             }
            },
            "type": "barpolar"
           }
          ],
          "carpet": [
           {
            "aaxis": {
             "endlinecolor": "rgb(36,36,36)",
             "gridcolor": "white",
             "linecolor": "white",
             "minorgridcolor": "white",
             "startlinecolor": "rgb(36,36,36)"
            },
            "baxis": {
             "endlinecolor": "rgb(36,36,36)",
             "gridcolor": "white",
             "linecolor": "white",
             "minorgridcolor": "white",
             "startlinecolor": "rgb(36,36,36)"
            },
            "type": "carpet"
           }
          ],
          "choropleth": [
           {
            "colorbar": {
             "outlinewidth": 1,
             "tickcolor": "rgb(36,36,36)",
             "ticks": "outside"
            },
            "type": "choropleth"
           }
          ],
          "contour": [
           {
            "colorbar": {
             "outlinewidth": 1,
             "tickcolor": "rgb(36,36,36)",
             "ticks": "outside"
            },
            "colorscale": [
             [
              0,
              "#440154"
             ],
             [
              0.1111111111111111,
              "#482878"
             ],
             [
              0.2222222222222222,
              "#3e4989"
             ],
             [
              0.3333333333333333,
              "#31688e"
             ],
             [
              0.4444444444444444,
              "#26828e"
             ],
             [
              0.5555555555555556,
              "#1f9e89"
             ],
             [
              0.6666666666666666,
              "#35b779"
             ],
             [
              0.7777777777777778,
              "#6ece58"
             ],
             [
              0.8888888888888888,
              "#b5de2b"
             ],
             [
              1,
              "#fde725"
             ]
            ],
            "type": "contour"
           }
          ],
          "contourcarpet": [
           {
            "colorbar": {
             "outlinewidth": 1,
             "tickcolor": "rgb(36,36,36)",
             "ticks": "outside"
            },
            "type": "contourcarpet"
           }
          ],
          "heatmap": [
           {
            "colorbar": {
             "outlinewidth": 1,
             "tickcolor": "rgb(36,36,36)",
             "ticks": "outside"
            },
            "colorscale": [
             [
              0,
              "#440154"
             ],
             [
              0.1111111111111111,
              "#482878"
             ],
             [
              0.2222222222222222,
              "#3e4989"
             ],
             [
              0.3333333333333333,
              "#31688e"
             ],
             [
              0.4444444444444444,
              "#26828e"
             ],
             [
              0.5555555555555556,
              "#1f9e89"
             ],
             [
              0.6666666666666666,
              "#35b779"
             ],
             [
              0.7777777777777778,
              "#6ece58"
             ],
             [
              0.8888888888888888,
              "#b5de2b"
             ],
             [
              1,
              "#fde725"
             ]
            ],
            "type": "heatmap"
           }
          ],
          "heatmapgl": [
           {
            "colorbar": {
             "outlinewidth": 1,
             "tickcolor": "rgb(36,36,36)",
             "ticks": "outside"
            },
            "colorscale": [
             [
              0,
              "#440154"
             ],
             [
              0.1111111111111111,
              "#482878"
             ],
             [
              0.2222222222222222,
              "#3e4989"
             ],
             [
              0.3333333333333333,
              "#31688e"
             ],
             [
              0.4444444444444444,
              "#26828e"
             ],
             [
              0.5555555555555556,
              "#1f9e89"
             ],
             [
              0.6666666666666666,
              "#35b779"
             ],
             [
              0.7777777777777778,
              "#6ece58"
             ],
             [
              0.8888888888888888,
              "#b5de2b"
             ],
             [
              1,
              "#fde725"
             ]
            ],
            "type": "heatmapgl"
           }
          ],
          "histogram": [
           {
            "marker": {
             "line": {
              "color": "white",
              "width": 0.6
             }
            },
            "type": "histogram"
           }
          ],
          "histogram2d": [
           {
            "colorbar": {
             "outlinewidth": 1,
             "tickcolor": "rgb(36,36,36)",
             "ticks": "outside"
            },
            "colorscale": [
             [
              0,
              "#440154"
             ],
             [
              0.1111111111111111,
              "#482878"
             ],
             [
              0.2222222222222222,
              "#3e4989"
             ],
             [
              0.3333333333333333,
              "#31688e"
             ],
             [
              0.4444444444444444,
              "#26828e"
             ],
             [
              0.5555555555555556,
              "#1f9e89"
             ],
             [
              0.6666666666666666,
              "#35b779"
             ],
             [
              0.7777777777777778,
              "#6ece58"
             ],
             [
              0.8888888888888888,
              "#b5de2b"
             ],
             [
              1,
              "#fde725"
             ]
            ],
            "type": "histogram2d"
           }
          ],
          "histogram2dcontour": [
           {
            "colorbar": {
             "outlinewidth": 1,
             "tickcolor": "rgb(36,36,36)",
             "ticks": "outside"
            },
            "colorscale": [
             [
              0,
              "#440154"
             ],
             [
              0.1111111111111111,
              "#482878"
             ],
             [
              0.2222222222222222,
              "#3e4989"
             ],
             [
              0.3333333333333333,
              "#31688e"
             ],
             [
              0.4444444444444444,
              "#26828e"
             ],
             [
              0.5555555555555556,
              "#1f9e89"
             ],
             [
              0.6666666666666666,
              "#35b779"
             ],
             [
              0.7777777777777778,
              "#6ece58"
             ],
             [
              0.8888888888888888,
              "#b5de2b"
             ],
             [
              1,
              "#fde725"
             ]
            ],
            "type": "histogram2dcontour"
           }
          ],
          "mesh3d": [
           {
            "colorbar": {
             "outlinewidth": 1,
             "tickcolor": "rgb(36,36,36)",
             "ticks": "outside"
            },
            "type": "mesh3d"
           }
          ],
          "parcoords": [
           {
            "line": {
             "colorbar": {
              "outlinewidth": 1,
              "tickcolor": "rgb(36,36,36)",
              "ticks": "outside"
             }
            },
            "type": "parcoords"
           }
          ],
          "pie": [
           {
            "automargin": true,
            "type": "pie"
           }
          ],
          "scatter": [
           {
            "fillpattern": {
             "fillmode": "overlay",
             "size": 10,
             "solidity": 0.2
            },
            "type": "scatter"
           }
          ],
          "scatter3d": [
           {
            "line": {
             "colorbar": {
              "outlinewidth": 1,
              "tickcolor": "rgb(36,36,36)",
              "ticks": "outside"
             }
            },
            "marker": {
             "colorbar": {
              "outlinewidth": 1,
              "tickcolor": "rgb(36,36,36)",
              "ticks": "outside"
             }
            },
            "type": "scatter3d"
           }
          ],
          "scattercarpet": [
           {
            "marker": {
             "colorbar": {
              "outlinewidth": 1,
              "tickcolor": "rgb(36,36,36)",
              "ticks": "outside"
             }
            },
            "type": "scattercarpet"
           }
          ],
          "scattergeo": [
           {
            "marker": {
             "colorbar": {
              "outlinewidth": 1,
              "tickcolor": "rgb(36,36,36)",
              "ticks": "outside"
             }
            },
            "type": "scattergeo"
           }
          ],
          "scattergl": [
           {
            "marker": {
             "colorbar": {
              "outlinewidth": 1,
              "tickcolor": "rgb(36,36,36)",
              "ticks": "outside"
             }
            },
            "type": "scattergl"
           }
          ],
          "scattermapbox": [
           {
            "marker": {
             "colorbar": {
              "outlinewidth": 1,
              "tickcolor": "rgb(36,36,36)",
              "ticks": "outside"
             }
            },
            "type": "scattermapbox"
           }
          ],
          "scatterpolar": [
           {
            "marker": {
             "colorbar": {
              "outlinewidth": 1,
              "tickcolor": "rgb(36,36,36)",
              "ticks": "outside"
             }
            },
            "type": "scatterpolar"
           }
          ],
          "scatterpolargl": [
           {
            "marker": {
             "colorbar": {
              "outlinewidth": 1,
              "tickcolor": "rgb(36,36,36)",
              "ticks": "outside"
             }
            },
            "type": "scatterpolargl"
           }
          ],
          "scatterternary": [
           {
            "marker": {
             "colorbar": {
              "outlinewidth": 1,
              "tickcolor": "rgb(36,36,36)",
              "ticks": "outside"
             }
            },
            "type": "scatterternary"
           }
          ],
          "surface": [
           {
            "colorbar": {
             "outlinewidth": 1,
             "tickcolor": "rgb(36,36,36)",
             "ticks": "outside"
            },
            "colorscale": [
             [
              0,
              "#440154"
             ],
             [
              0.1111111111111111,
              "#482878"
             ],
             [
              0.2222222222222222,
              "#3e4989"
             ],
             [
              0.3333333333333333,
              "#31688e"
             ],
             [
              0.4444444444444444,
              "#26828e"
             ],
             [
              0.5555555555555556,
              "#1f9e89"
             ],
             [
              0.6666666666666666,
              "#35b779"
             ],
             [
              0.7777777777777778,
              "#6ece58"
             ],
             [
              0.8888888888888888,
              "#b5de2b"
             ],
             [
              1,
              "#fde725"
             ]
            ],
            "type": "surface"
           }
          ],
          "table": [
           {
            "cells": {
             "fill": {
              "color": "rgb(237,237,237)"
             },
             "line": {
              "color": "white"
             }
            },
            "header": {
             "fill": {
              "color": "rgb(217,217,217)"
             },
             "line": {
              "color": "white"
             }
            },
            "type": "table"
           }
          ]
         },
         "layout": {
          "annotationdefaults": {
           "arrowhead": 0,
           "arrowwidth": 1
          },
          "autotypenumbers": "strict",
          "coloraxis": {
           "colorbar": {
            "outlinewidth": 1,
            "tickcolor": "rgb(36,36,36)",
            "ticks": "outside"
           }
          },
          "colorscale": {
           "diverging": [
            [
             0,
             "rgb(103,0,31)"
            ],
            [
             0.1,
             "rgb(178,24,43)"
            ],
            [
             0.2,
             "rgb(214,96,77)"
            ],
            [
             0.3,
             "rgb(244,165,130)"
            ],
            [
             0.4,
             "rgb(253,219,199)"
            ],
            [
             0.5,
             "rgb(247,247,247)"
            ],
            [
             0.6,
             "rgb(209,229,240)"
            ],
            [
             0.7,
             "rgb(146,197,222)"
            ],
            [
             0.8,
             "rgb(67,147,195)"
            ],
            [
             0.9,
             "rgb(33,102,172)"
            ],
            [
             1,
             "rgb(5,48,97)"
            ]
           ],
           "sequential": [
            [
             0,
             "#440154"
            ],
            [
             0.1111111111111111,
             "#482878"
            ],
            [
             0.2222222222222222,
             "#3e4989"
            ],
            [
             0.3333333333333333,
             "#31688e"
            ],
            [
             0.4444444444444444,
             "#26828e"
            ],
            [
             0.5555555555555556,
             "#1f9e89"
            ],
            [
             0.6666666666666666,
             "#35b779"
            ],
            [
             0.7777777777777778,
             "#6ece58"
            ],
            [
             0.8888888888888888,
             "#b5de2b"
            ],
            [
             1,
             "#fde725"
            ]
           ],
           "sequentialminus": [
            [
             0,
             "#440154"
            ],
            [
             0.1111111111111111,
             "#482878"
            ],
            [
             0.2222222222222222,
             "#3e4989"
            ],
            [
             0.3333333333333333,
             "#31688e"
            ],
            [
             0.4444444444444444,
             "#26828e"
            ],
            [
             0.5555555555555556,
             "#1f9e89"
            ],
            [
             0.6666666666666666,
             "#35b779"
            ],
            [
             0.7777777777777778,
             "#6ece58"
            ],
            [
             0.8888888888888888,
             "#b5de2b"
            ],
            [
             1,
             "#fde725"
            ]
           ]
          },
          "colorway": [
           "#1F77B4",
           "#FF7F0E",
           "#2CA02C",
           "#D62728",
           "#9467BD",
           "#8C564B",
           "#E377C2",
           "#7F7F7F",
           "#BCBD22",
           "#17BECF"
          ],
          "font": {
           "color": "rgb(36,36,36)"
          },
          "geo": {
           "bgcolor": "white",
           "lakecolor": "white",
           "landcolor": "white",
           "showlakes": true,
           "showland": true,
           "subunitcolor": "white"
          },
          "hoverlabel": {
           "align": "left"
          },
          "hovermode": "closest",
          "mapbox": {
           "style": "light"
          },
          "paper_bgcolor": "white",
          "plot_bgcolor": "white",
          "polar": {
           "angularaxis": {
            "gridcolor": "rgb(232,232,232)",
            "linecolor": "rgb(36,36,36)",
            "showgrid": false,
            "showline": true,
            "ticks": "outside"
           },
           "bgcolor": "white",
           "radialaxis": {
            "gridcolor": "rgb(232,232,232)",
            "linecolor": "rgb(36,36,36)",
            "showgrid": false,
            "showline": true,
            "ticks": "outside"
           }
          },
          "scene": {
           "xaxis": {
            "backgroundcolor": "white",
            "gridcolor": "rgb(232,232,232)",
            "gridwidth": 2,
            "linecolor": "rgb(36,36,36)",
            "showbackground": true,
            "showgrid": false,
            "showline": true,
            "ticks": "outside",
            "zeroline": false,
            "zerolinecolor": "rgb(36,36,36)"
           },
           "yaxis": {
            "backgroundcolor": "white",
            "gridcolor": "rgb(232,232,232)",
            "gridwidth": 2,
            "linecolor": "rgb(36,36,36)",
            "showbackground": true,
            "showgrid": false,
            "showline": true,
            "ticks": "outside",
            "zeroline": false,
            "zerolinecolor": "rgb(36,36,36)"
           },
           "zaxis": {
            "backgroundcolor": "white",
            "gridcolor": "rgb(232,232,232)",
            "gridwidth": 2,
            "linecolor": "rgb(36,36,36)",
            "showbackground": true,
            "showgrid": false,
            "showline": true,
            "ticks": "outside",
            "zeroline": false,
            "zerolinecolor": "rgb(36,36,36)"
           }
          },
          "shapedefaults": {
           "fillcolor": "black",
           "line": {
            "width": 0
           },
           "opacity": 0.3
          },
          "ternary": {
           "aaxis": {
            "gridcolor": "rgb(232,232,232)",
            "linecolor": "rgb(36,36,36)",
            "showgrid": false,
            "showline": true,
            "ticks": "outside"
           },
           "baxis": {
            "gridcolor": "rgb(232,232,232)",
            "linecolor": "rgb(36,36,36)",
            "showgrid": false,
            "showline": true,
            "ticks": "outside"
           },
           "bgcolor": "white",
           "caxis": {
            "gridcolor": "rgb(232,232,232)",
            "linecolor": "rgb(36,36,36)",
            "showgrid": false,
            "showline": true,
            "ticks": "outside"
           }
          },
          "title": {
           "x": 0.05
          },
          "xaxis": {
           "automargin": true,
           "gridcolor": "rgb(232,232,232)",
           "linecolor": "rgb(36,36,36)",
           "showgrid": false,
           "showline": true,
           "ticks": "outside",
           "title": {
            "standoff": 15
           },
           "zeroline": false,
           "zerolinecolor": "rgb(36,36,36)"
          },
          "yaxis": {
           "automargin": true,
           "gridcolor": "rgb(232,232,232)",
           "linecolor": "rgb(36,36,36)",
           "showgrid": false,
           "showline": true,
           "ticks": "outside",
           "title": {
            "standoff": 15
           },
           "zeroline": false,
           "zerolinecolor": "rgb(36,36,36)"
          }
         }
        },
        "title": {
         "text": "Average Temperature and Precipitation"
        },
        "xaxis": {
         "anchor": "y",
         "domain": [
          0,
          0.94
         ],
         "tickangle": -45,
         "tickmode": "array",
         "ticktext": [
          "Jan",
          "Feb",
          "Mar",
          "Apr",
          "May",
          "Jun",
          "Jul",
          "Aug",
          "Sep",
          "Oct",
          "Nov",
          "Dec"
         ],
         "tickvals": [
          1,
          2,
          3,
          4,
          5,
          6,
          7,
          8,
          9,
          10,
          11,
          12
         ],
         "title": {
          "text": "Month"
         }
        },
        "yaxis": {
         "anchor": "x",
         "domain": [
          0,
          1
         ],
         "title": {
          "text": "Precipitation (mm)"
         }
        },
        "yaxis2": {
         "anchor": "x",
         "overlaying": "y",
         "side": "right",
         "title": {
          "text": "Temperature (°C)"
         }
        }
       }
      }
     },
     "metadata": {},
     "output_type": "display_data"
    }
   ],
   "source": [
    "\n",
    "\n",
    "# Create a subplot with shared x-axis\n",
    "fig = make_subplots(specs=[[{\"secondary_y\": True}]])\n",
    "\n",
    "# Add a bar chart for precipitation to the secondary y-axis\n",
    "fig.add_trace(\n",
    "    go.Bar(x=avg_tp.month, y=avg_tp, name='Precipitation', opacity=0.5),\n",
    "    secondary_y=False,\n",
    ")\n",
    "\n",
    "# Add a line chart for temperature to the primary y-axis\n",
    "fig.add_trace(\n",
    "    go.Scatter(x=avg_temp.month, y=avg_temp, mode='lines', name='Temperature'),\n",
    "    secondary_y=True,\n",
    ")\n",
    "\n",
    "# Set the layout to have two y-axes\n",
    "fig.update_layout(\n",
    "    title = 'Average Temperature and Precipitation',\n",
    "    yaxis=dict(title='Precipitation (mm)'),\n",
    "    yaxis2=dict(title='Temperature (°C)', overlaying='y', side='right'),\n",
    "    xaxis=dict(\n",
    "        title='Month',\n",
    "        tickmode='array',\n",
    "        tickvals=avg_temp.month,\n",
    "        ticktext=['Jan', 'Feb', 'Mar', 'Apr', 'May', 'Jun', 'Jul', 'Aug', 'Sep', 'Oct', 'Nov', 'Dec'],\n",
    "        tickangle=-45\n",
    "    ),\n",
    "    template='simple_white'\n",
    ")\n",
    "\n",
    "# Show the figure\n",
    "fig.show()"
   ]
  },
  {
   "cell_type": "code",
   "execution_count": 14,
   "metadata": {},
   "outputs": [
    {
     "name": "stdout",
     "output_type": "stream",
     "text": [
      "5.18.0\n"
     ]
    },
    {
     "data": {
      "application/vnd.plotly.v1+json": {
       "config": {
        "plotlyServerURL": "https://plot.ly"
       },
       "data": [
        {
         "hovertemplate": "month=%{x}<br>avg_temp=%{y}<extra></extra>",
         "legendgroup": "",
         "line": {
          "color": "#636efa",
          "dash": "solid"
         },
         "marker": {
          "symbol": "circle"
         },
         "mode": "lines",
         "name": "",
         "orientation": "v",
         "showlegend": false,
         "type": "scatter",
         "x": [
          1,
          2,
          3,
          4,
          5,
          6,
          7,
          8,
          9,
          10,
          11,
          12
         ],
         "xaxis": "x",
         "y": [
          6.963714599609375,
          8.2603759765625,
          10.694061279296875,
          13.134124755859375,
          17.231048583984375,
          21.95220947265625,
          25.36083984375,
          25.128173828125,
          20.707366943359375,
          16.20654296875,
          10.707244873046875,
          7.985382080078125
         ],
         "yaxis": "y"
        },
        {
         "line": {
          "color": "red"
         },
         "mode": "lines",
         "name": "Max Temperature",
         "type": "scatter",
         "x": [
          1,
          2,
          3,
          4,
          5,
          6,
          7,
          8,
          9,
          10,
          11,
          12
         ],
         "y": [
          17.621368408203125,
          19.610382080078125,
          22.978179931640625,
          25.433258056640625,
          28.895172119140625,
          34.298736572265625,
          38.386383056640625,
          36.385406494140625,
          31.121612548828125,
          27.473785400390625,
          21.210601806640625,
          18.406402587890625
         ]
        },
        {
         "fill": "tonexty",
         "line": {
          "color": "red"
         },
         "mode": "lines",
         "name": "Min Temperature",
         "type": "scatter",
         "x": [
          1,
          2,
          3,
          4,
          5,
          6,
          7,
          8,
          9,
          10,
          11,
          12
         ],
         "y": [
          -2.397552490234375,
          -2.388031005859375,
          1.042877197265625,
          3.443267822265625,
          7.130523681640625,
          9.567779541015625,
          13.834625244140625,
          14.558258056640625,
          10.274078369140625,
          6.263824462890625,
          1.222320556640625,
          -0.707611083984375
         ]
        }
       ],
       "layout": {
        "annotations": [
         {
          "showarrow": false,
          "text": "freezing",
          "x": 0.5,
          "xanchor": "center",
          "xref": "x domain",
          "y": 0,
          "yanchor": "bottom",
          "yref": "y"
         }
        ],
        "legend": {
         "tracegroupgap": 0
        },
        "shapes": [
         {
          "line": {
           "color": "blue",
           "dash": "dash",
           "width": 2
          },
          "opacity": 1,
          "type": "line",
          "x0": 0,
          "x1": 1,
          "xref": "x domain",
          "y0": 0,
          "y1": 0,
          "yref": "y"
         }
        ],
        "template": {
         "data": {
          "bar": [
           {
            "error_x": {
             "color": "rgb(36,36,36)"
            },
            "error_y": {
             "color": "rgb(36,36,36)"
            },
            "marker": {
             "line": {
              "color": "white",
              "width": 0.5
             },
             "pattern": {
              "fillmode": "overlay",
              "size": 10,
              "solidity": 0.2
             }
            },
            "type": "bar"
           }
          ],
          "barpolar": [
           {
            "marker": {
             "line": {
              "color": "white",
              "width": 0.5
             },
             "pattern": {
              "fillmode": "overlay",
              "size": 10,
              "solidity": 0.2
             }
            },
            "type": "barpolar"
           }
          ],
          "carpet": [
           {
            "aaxis": {
             "endlinecolor": "rgb(36,36,36)",
             "gridcolor": "white",
             "linecolor": "white",
             "minorgridcolor": "white",
             "startlinecolor": "rgb(36,36,36)"
            },
            "baxis": {
             "endlinecolor": "rgb(36,36,36)",
             "gridcolor": "white",
             "linecolor": "white",
             "minorgridcolor": "white",
             "startlinecolor": "rgb(36,36,36)"
            },
            "type": "carpet"
           }
          ],
          "choropleth": [
           {
            "colorbar": {
             "outlinewidth": 1,
             "tickcolor": "rgb(36,36,36)",
             "ticks": "outside"
            },
            "type": "choropleth"
           }
          ],
          "contour": [
           {
            "colorbar": {
             "outlinewidth": 1,
             "tickcolor": "rgb(36,36,36)",
             "ticks": "outside"
            },
            "colorscale": [
             [
              0,
              "#440154"
             ],
             [
              0.1111111111111111,
              "#482878"
             ],
             [
              0.2222222222222222,
              "#3e4989"
             ],
             [
              0.3333333333333333,
              "#31688e"
             ],
             [
              0.4444444444444444,
              "#26828e"
             ],
             [
              0.5555555555555556,
              "#1f9e89"
             ],
             [
              0.6666666666666666,
              "#35b779"
             ],
             [
              0.7777777777777778,
              "#6ece58"
             ],
             [
              0.8888888888888888,
              "#b5de2b"
             ],
             [
              1,
              "#fde725"
             ]
            ],
            "type": "contour"
           }
          ],
          "contourcarpet": [
           {
            "colorbar": {
             "outlinewidth": 1,
             "tickcolor": "rgb(36,36,36)",
             "ticks": "outside"
            },
            "type": "contourcarpet"
           }
          ],
          "heatmap": [
           {
            "colorbar": {
             "outlinewidth": 1,
             "tickcolor": "rgb(36,36,36)",
             "ticks": "outside"
            },
            "colorscale": [
             [
              0,
              "#440154"
             ],
             [
              0.1111111111111111,
              "#482878"
             ],
             [
              0.2222222222222222,
              "#3e4989"
             ],
             [
              0.3333333333333333,
              "#31688e"
             ],
             [
              0.4444444444444444,
              "#26828e"
             ],
             [
              0.5555555555555556,
              "#1f9e89"
             ],
             [
              0.6666666666666666,
              "#35b779"
             ],
             [
              0.7777777777777778,
              "#6ece58"
             ],
             [
              0.8888888888888888,
              "#b5de2b"
             ],
             [
              1,
              "#fde725"
             ]
            ],
            "type": "heatmap"
           }
          ],
          "heatmapgl": [
           {
            "colorbar": {
             "outlinewidth": 1,
             "tickcolor": "rgb(36,36,36)",
             "ticks": "outside"
            },
            "colorscale": [
             [
              0,
              "#440154"
             ],
             [
              0.1111111111111111,
              "#482878"
             ],
             [
              0.2222222222222222,
              "#3e4989"
             ],
             [
              0.3333333333333333,
              "#31688e"
             ],
             [
              0.4444444444444444,
              "#26828e"
             ],
             [
              0.5555555555555556,
              "#1f9e89"
             ],
             [
              0.6666666666666666,
              "#35b779"
             ],
             [
              0.7777777777777778,
              "#6ece58"
             ],
             [
              0.8888888888888888,
              "#b5de2b"
             ],
             [
              1,
              "#fde725"
             ]
            ],
            "type": "heatmapgl"
           }
          ],
          "histogram": [
           {
            "marker": {
             "line": {
              "color": "white",
              "width": 0.6
             }
            },
            "type": "histogram"
           }
          ],
          "histogram2d": [
           {
            "colorbar": {
             "outlinewidth": 1,
             "tickcolor": "rgb(36,36,36)",
             "ticks": "outside"
            },
            "colorscale": [
             [
              0,
              "#440154"
             ],
             [
              0.1111111111111111,
              "#482878"
             ],
             [
              0.2222222222222222,
              "#3e4989"
             ],
             [
              0.3333333333333333,
              "#31688e"
             ],
             [
              0.4444444444444444,
              "#26828e"
             ],
             [
              0.5555555555555556,
              "#1f9e89"
             ],
             [
              0.6666666666666666,
              "#35b779"
             ],
             [
              0.7777777777777778,
              "#6ece58"
             ],
             [
              0.8888888888888888,
              "#b5de2b"
             ],
             [
              1,
              "#fde725"
             ]
            ],
            "type": "histogram2d"
           }
          ],
          "histogram2dcontour": [
           {
            "colorbar": {
             "outlinewidth": 1,
             "tickcolor": "rgb(36,36,36)",
             "ticks": "outside"
            },
            "colorscale": [
             [
              0,
              "#440154"
             ],
             [
              0.1111111111111111,
              "#482878"
             ],
             [
              0.2222222222222222,
              "#3e4989"
             ],
             [
              0.3333333333333333,
              "#31688e"
             ],
             [
              0.4444444444444444,
              "#26828e"
             ],
             [
              0.5555555555555556,
              "#1f9e89"
             ],
             [
              0.6666666666666666,
              "#35b779"
             ],
             [
              0.7777777777777778,
              "#6ece58"
             ],
             [
              0.8888888888888888,
              "#b5de2b"
             ],
             [
              1,
              "#fde725"
             ]
            ],
            "type": "histogram2dcontour"
           }
          ],
          "mesh3d": [
           {
            "colorbar": {
             "outlinewidth": 1,
             "tickcolor": "rgb(36,36,36)",
             "ticks": "outside"
            },
            "type": "mesh3d"
           }
          ],
          "parcoords": [
           {
            "line": {
             "colorbar": {
              "outlinewidth": 1,
              "tickcolor": "rgb(36,36,36)",
              "ticks": "outside"
             }
            },
            "type": "parcoords"
           }
          ],
          "pie": [
           {
            "automargin": true,
            "type": "pie"
           }
          ],
          "scatter": [
           {
            "fillpattern": {
             "fillmode": "overlay",
             "size": 10,
             "solidity": 0.2
            },
            "type": "scatter"
           }
          ],
          "scatter3d": [
           {
            "line": {
             "colorbar": {
              "outlinewidth": 1,
              "tickcolor": "rgb(36,36,36)",
              "ticks": "outside"
             }
            },
            "marker": {
             "colorbar": {
              "outlinewidth": 1,
              "tickcolor": "rgb(36,36,36)",
              "ticks": "outside"
             }
            },
            "type": "scatter3d"
           }
          ],
          "scattercarpet": [
           {
            "marker": {
             "colorbar": {
              "outlinewidth": 1,
              "tickcolor": "rgb(36,36,36)",
              "ticks": "outside"
             }
            },
            "type": "scattercarpet"
           }
          ],
          "scattergeo": [
           {
            "marker": {
             "colorbar": {
              "outlinewidth": 1,
              "tickcolor": "rgb(36,36,36)",
              "ticks": "outside"
             }
            },
            "type": "scattergeo"
           }
          ],
          "scattergl": [
           {
            "marker": {
             "colorbar": {
              "outlinewidth": 1,
              "tickcolor": "rgb(36,36,36)",
              "ticks": "outside"
             }
            },
            "type": "scattergl"
           }
          ],
          "scattermapbox": [
           {
            "marker": {
             "colorbar": {
              "outlinewidth": 1,
              "tickcolor": "rgb(36,36,36)",
              "ticks": "outside"
             }
            },
            "type": "scattermapbox"
           }
          ],
          "scatterpolar": [
           {
            "marker": {
             "colorbar": {
              "outlinewidth": 1,
              "tickcolor": "rgb(36,36,36)",
              "ticks": "outside"
             }
            },
            "type": "scatterpolar"
           }
          ],
          "scatterpolargl": [
           {
            "marker": {
             "colorbar": {
              "outlinewidth": 1,
              "tickcolor": "rgb(36,36,36)",
              "ticks": "outside"
             }
            },
            "type": "scatterpolargl"
           }
          ],
          "scatterternary": [
           {
            "marker": {
             "colorbar": {
              "outlinewidth": 1,
              "tickcolor": "rgb(36,36,36)",
              "ticks": "outside"
             }
            },
            "type": "scatterternary"
           }
          ],
          "surface": [
           {
            "colorbar": {
             "outlinewidth": 1,
             "tickcolor": "rgb(36,36,36)",
             "ticks": "outside"
            },
            "colorscale": [
             [
              0,
              "#440154"
             ],
             [
              0.1111111111111111,
              "#482878"
             ],
             [
              0.2222222222222222,
              "#3e4989"
             ],
             [
              0.3333333333333333,
              "#31688e"
             ],
             [
              0.4444444444444444,
              "#26828e"
             ],
             [
              0.5555555555555556,
              "#1f9e89"
             ],
             [
              0.6666666666666666,
              "#35b779"
             ],
             [
              0.7777777777777778,
              "#6ece58"
             ],
             [
              0.8888888888888888,
              "#b5de2b"
             ],
             [
              1,
              "#fde725"
             ]
            ],
            "type": "surface"
           }
          ],
          "table": [
           {
            "cells": {
             "fill": {
              "color": "rgb(237,237,237)"
             },
             "line": {
              "color": "white"
             }
            },
            "header": {
             "fill": {
              "color": "rgb(217,217,217)"
             },
             "line": {
              "color": "white"
             }
            },
            "type": "table"
           }
          ]
         },
         "layout": {
          "annotationdefaults": {
           "arrowhead": 0,
           "arrowwidth": 1
          },
          "autotypenumbers": "strict",
          "coloraxis": {
           "colorbar": {
            "outlinewidth": 1,
            "tickcolor": "rgb(36,36,36)",
            "ticks": "outside"
           }
          },
          "colorscale": {
           "diverging": [
            [
             0,
             "rgb(103,0,31)"
            ],
            [
             0.1,
             "rgb(178,24,43)"
            ],
            [
             0.2,
             "rgb(214,96,77)"
            ],
            [
             0.3,
             "rgb(244,165,130)"
            ],
            [
             0.4,
             "rgb(253,219,199)"
            ],
            [
             0.5,
             "rgb(247,247,247)"
            ],
            [
             0.6,
             "rgb(209,229,240)"
            ],
            [
             0.7,
             "rgb(146,197,222)"
            ],
            [
             0.8,
             "rgb(67,147,195)"
            ],
            [
             0.9,
             "rgb(33,102,172)"
            ],
            [
             1,
             "rgb(5,48,97)"
            ]
           ],
           "sequential": [
            [
             0,
             "#440154"
            ],
            [
             0.1111111111111111,
             "#482878"
            ],
            [
             0.2222222222222222,
             "#3e4989"
            ],
            [
             0.3333333333333333,
             "#31688e"
            ],
            [
             0.4444444444444444,
             "#26828e"
            ],
            [
             0.5555555555555556,
             "#1f9e89"
            ],
            [
             0.6666666666666666,
             "#35b779"
            ],
            [
             0.7777777777777778,
             "#6ece58"
            ],
            [
             0.8888888888888888,
             "#b5de2b"
            ],
            [
             1,
             "#fde725"
            ]
           ],
           "sequentialminus": [
            [
             0,
             "#440154"
            ],
            [
             0.1111111111111111,
             "#482878"
            ],
            [
             0.2222222222222222,
             "#3e4989"
            ],
            [
             0.3333333333333333,
             "#31688e"
            ],
            [
             0.4444444444444444,
             "#26828e"
            ],
            [
             0.5555555555555556,
             "#1f9e89"
            ],
            [
             0.6666666666666666,
             "#35b779"
            ],
            [
             0.7777777777777778,
             "#6ece58"
            ],
            [
             0.8888888888888888,
             "#b5de2b"
            ],
            [
             1,
             "#fde725"
            ]
           ]
          },
          "colorway": [
           "#1F77B4",
           "#FF7F0E",
           "#2CA02C",
           "#D62728",
           "#9467BD",
           "#8C564B",
           "#E377C2",
           "#7F7F7F",
           "#BCBD22",
           "#17BECF"
          ],
          "font": {
           "color": "rgb(36,36,36)"
          },
          "geo": {
           "bgcolor": "white",
           "lakecolor": "white",
           "landcolor": "white",
           "showlakes": true,
           "showland": true,
           "subunitcolor": "white"
          },
          "hoverlabel": {
           "align": "left"
          },
          "hovermode": "closest",
          "mapbox": {
           "style": "light"
          },
          "paper_bgcolor": "white",
          "plot_bgcolor": "white",
          "polar": {
           "angularaxis": {
            "gridcolor": "rgb(232,232,232)",
            "linecolor": "rgb(36,36,36)",
            "showgrid": false,
            "showline": true,
            "ticks": "outside"
           },
           "bgcolor": "white",
           "radialaxis": {
            "gridcolor": "rgb(232,232,232)",
            "linecolor": "rgb(36,36,36)",
            "showgrid": false,
            "showline": true,
            "ticks": "outside"
           }
          },
          "scene": {
           "xaxis": {
            "backgroundcolor": "white",
            "gridcolor": "rgb(232,232,232)",
            "gridwidth": 2,
            "linecolor": "rgb(36,36,36)",
            "showbackground": true,
            "showgrid": false,
            "showline": true,
            "ticks": "outside",
            "zeroline": false,
            "zerolinecolor": "rgb(36,36,36)"
           },
           "yaxis": {
            "backgroundcolor": "white",
            "gridcolor": "rgb(232,232,232)",
            "gridwidth": 2,
            "linecolor": "rgb(36,36,36)",
            "showbackground": true,
            "showgrid": false,
            "showline": true,
            "ticks": "outside",
            "zeroline": false,
            "zerolinecolor": "rgb(36,36,36)"
           },
           "zaxis": {
            "backgroundcolor": "white",
            "gridcolor": "rgb(232,232,232)",
            "gridwidth": 2,
            "linecolor": "rgb(36,36,36)",
            "showbackground": true,
            "showgrid": false,
            "showline": true,
            "ticks": "outside",
            "zeroline": false,
            "zerolinecolor": "rgb(36,36,36)"
           }
          },
          "shapedefaults": {
           "fillcolor": "black",
           "line": {
            "width": 0
           },
           "opacity": 0.3
          },
          "ternary": {
           "aaxis": {
            "gridcolor": "rgb(232,232,232)",
            "linecolor": "rgb(36,36,36)",
            "showgrid": false,
            "showline": true,
            "ticks": "outside"
           },
           "baxis": {
            "gridcolor": "rgb(232,232,232)",
            "linecolor": "rgb(36,36,36)",
            "showgrid": false,
            "showline": true,
            "ticks": "outside"
           },
           "bgcolor": "white",
           "caxis": {
            "gridcolor": "rgb(232,232,232)",
            "linecolor": "rgb(36,36,36)",
            "showgrid": false,
            "showline": true,
            "ticks": "outside"
           }
          },
          "title": {
           "x": 0.05
          },
          "xaxis": {
           "automargin": true,
           "gridcolor": "rgb(232,232,232)",
           "linecolor": "rgb(36,36,36)",
           "showgrid": false,
           "showline": true,
           "ticks": "outside",
           "title": {
            "standoff": 15
           },
           "zeroline": false,
           "zerolinecolor": "rgb(36,36,36)"
          },
          "yaxis": {
           "automargin": true,
           "gridcolor": "rgb(232,232,232)",
           "linecolor": "rgb(36,36,36)",
           "showgrid": false,
           "showline": true,
           "ticks": "outside",
           "title": {
            "standoff": 15
           },
           "zeroline": false,
           "zerolinecolor": "rgb(36,36,36)"
          }
         }
        },
        "title": {
         "text": "Min and max temparture"
        },
        "xaxis": {
         "anchor": "y",
         "domain": [
          0,
          1
         ],
         "tickangle": -45,
         "tickmode": "array",
         "ticktext": [
          "Jan",
          "Feb",
          "Mar",
          "Apr",
          "May",
          "Jun",
          "Jul",
          "Aug",
          "Sep",
          "Oct",
          "Nov",
          "Dec"
         ],
         "tickvals": [
          1,
          2,
          3,
          4,
          5,
          6,
          7,
          8,
          9,
          10,
          11,
          12
         ],
         "title": {
          "text": "Month"
         }
        },
        "yaxis": {
         "anchor": "x",
         "domain": [
          0,
          1
         ],
         "title": {
          "text": "Temperature (°C)"
         }
        }
       }
      }
     },
     "metadata": {},
     "output_type": "display_data"
    }
   ],
   "source": [
    "#do do: revisit the title\n",
    "\n",
    "print(plotly.__version__)\n",
    "\n",
    "# Create a DataFrame from the DataArrays\n",
    "df = pd.DataFrame({\n",
    "    'month': avg_temp.month.values,\n",
    "    'avg_temp': avg_temp.values,\n",
    "    'max_temp': max_temp.values,\n",
    "    'min_temp': min_temp.values\n",
    "})\n",
    "\n",
    "# Create a line chart for average temperature\n",
    "fig = px.line(df, x='month', y='avg_temp', title='Min and max temparture')\n",
    "\n",
    "# Add a line chart for max temperature\n",
    "fig.add_trace(go.Scatter(x=df['month'], y=df['max_temp'], mode='lines', name='Max Temperature', line_color='red'))\n",
    "\n",
    "# Add a line chart for min temperature\n",
    "fig.add_trace(go.Scatter(x=df['month'], y=df['min_temp'], mode='lines', name='Min Temperature', line_color='red', fill='tonexty'))\n",
    "\n",
    "# Add a line chart for min temperature\n",
    "fig.add_hline(y=0, opacity=1, line_width=2, line_dash='dash', line_color='blue', annotation_text='freezing', annotation_position='top')\n",
    "\n",
    "# Set the layout\n",
    "fig.update_layout(\n",
    "    yaxis=dict(title='Temperature (°C)'),\n",
    "    xaxis=dict(\n",
    "        title='Month',\n",
    "        tickmode='array',\n",
    "        tickvals=df['month'],\n",
    "        ticktext=['Jan', 'Feb', 'Mar', 'Apr', 'May', 'Jun', 'Jul', 'Aug', 'Sep', 'Oct', 'Nov', 'Dec'],\n",
    "        tickangle=-45\n",
    "    ),\n",
    "    template='simple_white'\n",
    ")\n",
    "\n",
    "# Show the figure\n",
    "fig.show()\n"
   ]
  },
  {
   "cell_type": "code",
   "execution_count": 16,
   "metadata": {},
   "outputs": [],
   "source": [
    "avg_u = datasets['10u']['u10'].groupby('time.month').mean(['latitude', 'longitude'])\n",
    "avg_v = datasets['10v']['v10'].groupby('time.month').mean(['latitude', 'longitude'])"
   ]
  },
  {
   "cell_type": "code",
   "execution_count": 17,
   "metadata": {},
   "outputs": [
    {
     "name": "stdout",
     "output_type": "stream",
     "text": [
      "Wind Speed:\n",
      "<xarray.DataArray (time: 8928)>\n",
      "array([2.7199543, 2.6942606, 2.8063412, ..., 5.2000647, 5.3631635,\n",
      "       5.258852 ], dtype=float32)\n",
      "Coordinates:\n",
      "    number      int32 0\n",
      "  * time        (time) datetime64[ns] 1992-01-01 ... 2022-12-01T23:00:00\n",
      "    step        timedelta64[ns] 00:00:00\n",
      "    surface     float64 0.0\n",
      "    valid_time  (time) datetime64[ns] 1992-01-01 ... 2022-12-01T23:00:00\n",
      "\n",
      "\n",
      "Wind Direction:\n",
      "<xarray.DataArray 'v10' (time: 8928)>\n",
      "array([227.26468 , 231.01352 , 233.51729 , ...,  23.114014,  21.815002,\n",
      "        19.27002 ], dtype=float32)\n",
      "Coordinates:\n",
      "    number      int32 0\n",
      "  * time        (time) datetime64[ns] 1992-01-01 ... 2022-12-01T23:00:00\n",
      "    step        timedelta64[ns] 00:00:00\n",
      "    surface     float64 0.0\n",
      "    valid_time  (time) datetime64[ns] 1992-01-01 ... 2022-12-01T23:00:00\n"
     ]
    }
   ],
   "source": [
    "\n",
    "# Calculate wind speed\n",
    "wind_speed = np.sqrt(avg_u**2 + avg_v**2)\n",
    "#convert to km/h\n",
    "wind_speed = wind_speed*3.6\n",
    "\n",
    "# Calculate wind direction\n",
    "wind_direction = np.arctan2(avg_v, avg_u) * (180 / np.pi)\n",
    "\n",
    "# Adjust wind direction to be between 0 and 360 degrees\n",
    "wind_direction = (wind_direction + 360) % 360\n",
    "\n",
    "# Print the wind speed and direction\n",
    "print(\"Wind Speed:\")\n",
    "print(wind_speed)\n",
    "print(\"\\n\")\n",
    "print(\"Wind Direction:\")\n",
    "print(wind_direction)\n"
   ]
  },
  {
   "cell_type": "code",
   "execution_count": 18,
   "metadata": {},
   "outputs": [
    {
     "name": "stderr",
     "output_type": "stream",
     "text": [
      "C:\\Users\\matthias\\AppData\\Local\\Temp\\ipykernel_16100\\3757060769.py:9: FutureWarning:\n",
      "\n",
      "The default of observed=False is deprecated and will be changed to True in a future version of pandas. Pass observed=False to retain current behavior or observed=True to adopt the future default and silence this warning.\n",
      "\n"
     ]
    }
   ],
   "source": [
    "#prepare the data for the wind rose\n",
    "\n",
    "df = pd.DataFrame({'speed': wind_speed, 'direction': wind_direction})\n",
    "\n",
    "df['direction'] = pd.cut(df['direction'], bins=np.linspace(0, 360, 9), labels=[\"N\", \"NE\", \"E\", \"SE\", \"S\", \"SW\", \"W\", \"NW\"])\n",
    "df['speed'] = pd.cut(df['speed'], bins=np.arange(0, df['speed'].max() + 1.1, 4))\n",
    "\n",
    "# Calculate frequencies\n",
    "frequency_df = df.groupby(['direction', 'speed']).size().reset_index(name='frequency')\n",
    "\n",
    "# Calculate total frequency\n",
    "total_frequency = frequency_df['frequency'].sum()\n",
    "\n",
    "# Convert frequency to proportion\n",
    "frequency_df['frequency'] = frequency_df['frequency'] / total_frequency"
   ]
  },
  {
   "cell_type": "code",
   "execution_count": 19,
   "metadata": {},
   "outputs": [
    {
     "ename": "NameError",
     "evalue": "name 'sorted_categories' is not defined",
     "output_type": "error",
     "traceback": [
      "\u001b[1;31m---------------------------------------------------------------------------\u001b[0m",
      "\u001b[1;31mNameError\u001b[0m                                 Traceback (most recent call last)",
      "\u001b[1;32mc:\\Users\\matthias\\Documents\\Projects\\permaculture-climate\\perma_climate.ipynb Cell 12\u001b[0m line \u001b[0;36m1\n\u001b[0;32m      <a href='vscode-notebook-cell:/c%3A/Users/matthias/Documents/Projects/permaculture-climate/perma_climate.ipynb#X14sZmlsZQ%3D%3D?line=7'>8</a>\u001b[0m custom_color_scale \u001b[39m=\u001b[39m [matplotlib\u001b[39m.\u001b[39mcolors\u001b[39m.\u001b[39mrgb2hex(color) \u001b[39mfor\u001b[39;00m color \u001b[39min\u001b[39;00m custom_color_scale]\n\u001b[0;32m     <a href='vscode-notebook-cell:/c%3A/Users/matthias/Documents/Projects/permaculture-climate/perma_climate.ipynb#X14sZmlsZQ%3D%3D?line=9'>10</a>\u001b[0m \u001b[39m# Define a color map for the sorted 'speed' categories\u001b[39;00m\n\u001b[1;32m---> <a href='vscode-notebook-cell:/c%3A/Users/matthias/Documents/Projects/permaculture-climate/perma_climate.ipynb#X14sZmlsZQ%3D%3D?line=10'>11</a>\u001b[0m color_map \u001b[39m=\u001b[39m {category: color \u001b[39mfor\u001b[39;00m category, color \u001b[39min\u001b[39;00m \u001b[39mzip\u001b[39m(sorted_categories, custom_color_scale)}\n\u001b[0;32m     <a href='vscode-notebook-cell:/c%3A/Users/matthias/Documents/Projects/permaculture-climate/perma_climate.ipynb#X14sZmlsZQ%3D%3D?line=12'>13</a>\u001b[0m \u001b[39m# Create the wind rose chart\u001b[39;00m\n\u001b[0;32m     <a href='vscode-notebook-cell:/c%3A/Users/matthias/Documents/Projects/permaculture-climate/perma_climate.ipynb#X14sZmlsZQ%3D%3D?line=13'>14</a>\u001b[0m fig \u001b[39m=\u001b[39m px\u001b[39m.\u001b[39mbar_polar(frequency_df, \n\u001b[0;32m     <a href='vscode-notebook-cell:/c%3A/Users/matthias/Documents/Projects/permaculture-climate/perma_climate.ipynb#X14sZmlsZQ%3D%3D?line=14'>15</a>\u001b[0m                    r\u001b[39m=\u001b[39m\u001b[39m'\u001b[39m\u001b[39mfrequency\u001b[39m\u001b[39m'\u001b[39m, \n\u001b[0;32m     <a href='vscode-notebook-cell:/c%3A/Users/matthias/Documents/Projects/permaculture-climate/perma_climate.ipynb#X14sZmlsZQ%3D%3D?line=15'>16</a>\u001b[0m                    theta\u001b[39m=\u001b[39m\u001b[39m'\u001b[39m\u001b[39mdirection\u001b[39m\u001b[39m'\u001b[39m, \n\u001b[0;32m     <a href='vscode-notebook-cell:/c%3A/Users/matthias/Documents/Projects/permaculture-climate/perma_climate.ipynb#X14sZmlsZQ%3D%3D?line=16'>17</a>\u001b[0m                    color\u001b[39m=\u001b[39m\u001b[39m'\u001b[39m\u001b[39mspeed\u001b[39m\u001b[39m'\u001b[39m, \n\u001b[0;32m     <a href='vscode-notebook-cell:/c%3A/Users/matthias/Documents/Projects/permaculture-climate/perma_climate.ipynb#X14sZmlsZQ%3D%3D?line=17'>18</a>\u001b[0m                    template\u001b[39m=\u001b[39m\u001b[39m'\u001b[39m\u001b[39msimple_white\u001b[39m\u001b[39m'\u001b[39m, \n\u001b[0;32m     <a href='vscode-notebook-cell:/c%3A/Users/matthias/Documents/Projects/permaculture-climate/perma_climate.ipynb#X14sZmlsZQ%3D%3D?line=18'>19</a>\u001b[0m                    color_discrete_map\u001b[39m=\u001b[39mcolor_map)  \u001b[39m# Use the color map\u001b[39;00m\n",
      "\u001b[1;31mNameError\u001b[0m: name 'sorted_categories' is not defined"
     ]
    }
   ],
   "source": [
    "\n",
    "\n",
    "\n",
    "# Get the number of unique 'speed' categories\n",
    "num_categories = len(frequency_df['speed'].unique())\n",
    "\n",
    "# Create a custom color scale with the same number of colors as there are categories\n",
    "custom_color_scale = plt.cm.viridis_r(np.linspace(0, 4, num_categories))\n",
    "\n",
    "# Convert the color scale to a list of hex color strings\n",
    "custom_color_scale = [matplotlib.colors.rgb2hex(color) for color in custom_color_scale]\n",
    "\n",
    "# Define a color map for the sorted 'speed' categories\n",
    "color_map = {category: color for category, color in zip(sorted_categories, custom_color_scale)}\n",
    "\n",
    "# Create the wind rose chart\n",
    "fig = px.bar_polar(frequency_df, \n",
    "                   r='frequency', \n",
    "                   theta='direction', \n",
    "                   color='speed', \n",
    "                   template='simple_white', \n",
    "                   color_discrete_map=color_map)  # Use the color map\n",
    "\n",
    "# Update the layout to make it rectangular\n",
    "fig.update_layout(\n",
    "    width=800,  # Set the width to 700 pixels\n",
    "    height=600,  # Set the height to 1000 pixels\n",
    "    polar_radialaxis_showgrid=True,  # Show radial grid\n",
    "    polar_angularaxis_showgrid=True  # Show angular grid\n",
    ")\n",
    "\n",
    "fig.show()\n"
   ]
  },
  {
   "cell_type": "code",
   "execution_count": 20,
   "metadata": {},
   "outputs": [
    {
     "data": {
      "application/vnd.plotly.v1+json": {
       "config": {
        "plotlyServerURL": "https://plot.ly"
       },
       "data": [
        {
         "mode": "lines",
         "name": "Temperature Difference",
         "type": "scatter",
         "x": [
          1,
          2,
          3,
          4,
          5,
          6,
          7,
          8,
          9,
          10,
          11,
          12
         ],
         "y": [
          20.0189208984375,
          21.9984130859375,
          21.935302734375,
          21.989990234375,
          21.7646484375,
          24.73095703125,
          24.5517578125,
          21.8271484375,
          20.8475341796875,
          21.2099609375,
          19.98828125,
          19.114013671875
         ]
        }
       ],
       "layout": {
        "template": {
         "data": {
          "bar": [
           {
            "error_x": {
             "color": "#2a3f5f"
            },
            "error_y": {
             "color": "#2a3f5f"
            },
            "marker": {
             "line": {
              "color": "#E5ECF6",
              "width": 0.5
             },
             "pattern": {
              "fillmode": "overlay",
              "size": 10,
              "solidity": 0.2
             }
            },
            "type": "bar"
           }
          ],
          "barpolar": [
           {
            "marker": {
             "line": {
              "color": "#E5ECF6",
              "width": 0.5
             },
             "pattern": {
              "fillmode": "overlay",
              "size": 10,
              "solidity": 0.2
             }
            },
            "type": "barpolar"
           }
          ],
          "carpet": [
           {
            "aaxis": {
             "endlinecolor": "#2a3f5f",
             "gridcolor": "white",
             "linecolor": "white",
             "minorgridcolor": "white",
             "startlinecolor": "#2a3f5f"
            },
            "baxis": {
             "endlinecolor": "#2a3f5f",
             "gridcolor": "white",
             "linecolor": "white",
             "minorgridcolor": "white",
             "startlinecolor": "#2a3f5f"
            },
            "type": "carpet"
           }
          ],
          "choropleth": [
           {
            "colorbar": {
             "outlinewidth": 0,
             "ticks": ""
            },
            "type": "choropleth"
           }
          ],
          "contour": [
           {
            "colorbar": {
             "outlinewidth": 0,
             "ticks": ""
            },
            "colorscale": [
             [
              0,
              "#0d0887"
             ],
             [
              0.1111111111111111,
              "#46039f"
             ],
             [
              0.2222222222222222,
              "#7201a8"
             ],
             [
              0.3333333333333333,
              "#9c179e"
             ],
             [
              0.4444444444444444,
              "#bd3786"
             ],
             [
              0.5555555555555556,
              "#d8576b"
             ],
             [
              0.6666666666666666,
              "#ed7953"
             ],
             [
              0.7777777777777778,
              "#fb9f3a"
             ],
             [
              0.8888888888888888,
              "#fdca26"
             ],
             [
              1,
              "#f0f921"
             ]
            ],
            "type": "contour"
           }
          ],
          "contourcarpet": [
           {
            "colorbar": {
             "outlinewidth": 0,
             "ticks": ""
            },
            "type": "contourcarpet"
           }
          ],
          "heatmap": [
           {
            "colorbar": {
             "outlinewidth": 0,
             "ticks": ""
            },
            "colorscale": [
             [
              0,
              "#0d0887"
             ],
             [
              0.1111111111111111,
              "#46039f"
             ],
             [
              0.2222222222222222,
              "#7201a8"
             ],
             [
              0.3333333333333333,
              "#9c179e"
             ],
             [
              0.4444444444444444,
              "#bd3786"
             ],
             [
              0.5555555555555556,
              "#d8576b"
             ],
             [
              0.6666666666666666,
              "#ed7953"
             ],
             [
              0.7777777777777778,
              "#fb9f3a"
             ],
             [
              0.8888888888888888,
              "#fdca26"
             ],
             [
              1,
              "#f0f921"
             ]
            ],
            "type": "heatmap"
           }
          ],
          "heatmapgl": [
           {
            "colorbar": {
             "outlinewidth": 0,
             "ticks": ""
            },
            "colorscale": [
             [
              0,
              "#0d0887"
             ],
             [
              0.1111111111111111,
              "#46039f"
             ],
             [
              0.2222222222222222,
              "#7201a8"
             ],
             [
              0.3333333333333333,
              "#9c179e"
             ],
             [
              0.4444444444444444,
              "#bd3786"
             ],
             [
              0.5555555555555556,
              "#d8576b"
             ],
             [
              0.6666666666666666,
              "#ed7953"
             ],
             [
              0.7777777777777778,
              "#fb9f3a"
             ],
             [
              0.8888888888888888,
              "#fdca26"
             ],
             [
              1,
              "#f0f921"
             ]
            ],
            "type": "heatmapgl"
           }
          ],
          "histogram": [
           {
            "marker": {
             "pattern": {
              "fillmode": "overlay",
              "size": 10,
              "solidity": 0.2
             }
            },
            "type": "histogram"
           }
          ],
          "histogram2d": [
           {
            "colorbar": {
             "outlinewidth": 0,
             "ticks": ""
            },
            "colorscale": [
             [
              0,
              "#0d0887"
             ],
             [
              0.1111111111111111,
              "#46039f"
             ],
             [
              0.2222222222222222,
              "#7201a8"
             ],
             [
              0.3333333333333333,
              "#9c179e"
             ],
             [
              0.4444444444444444,
              "#bd3786"
             ],
             [
              0.5555555555555556,
              "#d8576b"
             ],
             [
              0.6666666666666666,
              "#ed7953"
             ],
             [
              0.7777777777777778,
              "#fb9f3a"
             ],
             [
              0.8888888888888888,
              "#fdca26"
             ],
             [
              1,
              "#f0f921"
             ]
            ],
            "type": "histogram2d"
           }
          ],
          "histogram2dcontour": [
           {
            "colorbar": {
             "outlinewidth": 0,
             "ticks": ""
            },
            "colorscale": [
             [
              0,
              "#0d0887"
             ],
             [
              0.1111111111111111,
              "#46039f"
             ],
             [
              0.2222222222222222,
              "#7201a8"
             ],
             [
              0.3333333333333333,
              "#9c179e"
             ],
             [
              0.4444444444444444,
              "#bd3786"
             ],
             [
              0.5555555555555556,
              "#d8576b"
             ],
             [
              0.6666666666666666,
              "#ed7953"
             ],
             [
              0.7777777777777778,
              "#fb9f3a"
             ],
             [
              0.8888888888888888,
              "#fdca26"
             ],
             [
              1,
              "#f0f921"
             ]
            ],
            "type": "histogram2dcontour"
           }
          ],
          "mesh3d": [
           {
            "colorbar": {
             "outlinewidth": 0,
             "ticks": ""
            },
            "type": "mesh3d"
           }
          ],
          "parcoords": [
           {
            "line": {
             "colorbar": {
              "outlinewidth": 0,
              "ticks": ""
             }
            },
            "type": "parcoords"
           }
          ],
          "pie": [
           {
            "automargin": true,
            "type": "pie"
           }
          ],
          "scatter": [
           {
            "fillpattern": {
             "fillmode": "overlay",
             "size": 10,
             "solidity": 0.2
            },
            "type": "scatter"
           }
          ],
          "scatter3d": [
           {
            "line": {
             "colorbar": {
              "outlinewidth": 0,
              "ticks": ""
             }
            },
            "marker": {
             "colorbar": {
              "outlinewidth": 0,
              "ticks": ""
             }
            },
            "type": "scatter3d"
           }
          ],
          "scattercarpet": [
           {
            "marker": {
             "colorbar": {
              "outlinewidth": 0,
              "ticks": ""
             }
            },
            "type": "scattercarpet"
           }
          ],
          "scattergeo": [
           {
            "marker": {
             "colorbar": {
              "outlinewidth": 0,
              "ticks": ""
             }
            },
            "type": "scattergeo"
           }
          ],
          "scattergl": [
           {
            "marker": {
             "colorbar": {
              "outlinewidth": 0,
              "ticks": ""
             }
            },
            "type": "scattergl"
           }
          ],
          "scattermapbox": [
           {
            "marker": {
             "colorbar": {
              "outlinewidth": 0,
              "ticks": ""
             }
            },
            "type": "scattermapbox"
           }
          ],
          "scatterpolar": [
           {
            "marker": {
             "colorbar": {
              "outlinewidth": 0,
              "ticks": ""
             }
            },
            "type": "scatterpolar"
           }
          ],
          "scatterpolargl": [
           {
            "marker": {
             "colorbar": {
              "outlinewidth": 0,
              "ticks": ""
             }
            },
            "type": "scatterpolargl"
           }
          ],
          "scatterternary": [
           {
            "marker": {
             "colorbar": {
              "outlinewidth": 0,
              "ticks": ""
             }
            },
            "type": "scatterternary"
           }
          ],
          "surface": [
           {
            "colorbar": {
             "outlinewidth": 0,
             "ticks": ""
            },
            "colorscale": [
             [
              0,
              "#0d0887"
             ],
             [
              0.1111111111111111,
              "#46039f"
             ],
             [
              0.2222222222222222,
              "#7201a8"
             ],
             [
              0.3333333333333333,
              "#9c179e"
             ],
             [
              0.4444444444444444,
              "#bd3786"
             ],
             [
              0.5555555555555556,
              "#d8576b"
             ],
             [
              0.6666666666666666,
              "#ed7953"
             ],
             [
              0.7777777777777778,
              "#fb9f3a"
             ],
             [
              0.8888888888888888,
              "#fdca26"
             ],
             [
              1,
              "#f0f921"
             ]
            ],
            "type": "surface"
           }
          ],
          "table": [
           {
            "cells": {
             "fill": {
              "color": "#EBF0F8"
             },
             "line": {
              "color": "white"
             }
            },
            "header": {
             "fill": {
              "color": "#C8D4E3"
             },
             "line": {
              "color": "white"
             }
            },
            "type": "table"
           }
          ]
         },
         "layout": {
          "annotationdefaults": {
           "arrowcolor": "#2a3f5f",
           "arrowhead": 0,
           "arrowwidth": 1
          },
          "autotypenumbers": "strict",
          "coloraxis": {
           "colorbar": {
            "outlinewidth": 0,
            "ticks": ""
           }
          },
          "colorscale": {
           "diverging": [
            [
             0,
             "#8e0152"
            ],
            [
             0.1,
             "#c51b7d"
            ],
            [
             0.2,
             "#de77ae"
            ],
            [
             0.3,
             "#f1b6da"
            ],
            [
             0.4,
             "#fde0ef"
            ],
            [
             0.5,
             "#f7f7f7"
            ],
            [
             0.6,
             "#e6f5d0"
            ],
            [
             0.7,
             "#b8e186"
            ],
            [
             0.8,
             "#7fbc41"
            ],
            [
             0.9,
             "#4d9221"
            ],
            [
             1,
             "#276419"
            ]
           ],
           "sequential": [
            [
             0,
             "#0d0887"
            ],
            [
             0.1111111111111111,
             "#46039f"
            ],
            [
             0.2222222222222222,
             "#7201a8"
            ],
            [
             0.3333333333333333,
             "#9c179e"
            ],
            [
             0.4444444444444444,
             "#bd3786"
            ],
            [
             0.5555555555555556,
             "#d8576b"
            ],
            [
             0.6666666666666666,
             "#ed7953"
            ],
            [
             0.7777777777777778,
             "#fb9f3a"
            ],
            [
             0.8888888888888888,
             "#fdca26"
            ],
            [
             1,
             "#f0f921"
            ]
           ],
           "sequentialminus": [
            [
             0,
             "#0d0887"
            ],
            [
             0.1111111111111111,
             "#46039f"
            ],
            [
             0.2222222222222222,
             "#7201a8"
            ],
            [
             0.3333333333333333,
             "#9c179e"
            ],
            [
             0.4444444444444444,
             "#bd3786"
            ],
            [
             0.5555555555555556,
             "#d8576b"
            ],
            [
             0.6666666666666666,
             "#ed7953"
            ],
            [
             0.7777777777777778,
             "#fb9f3a"
            ],
            [
             0.8888888888888888,
             "#fdca26"
            ],
            [
             1,
             "#f0f921"
            ]
           ]
          },
          "colorway": [
           "#636efa",
           "#EF553B",
           "#00cc96",
           "#ab63fa",
           "#FFA15A",
           "#19d3f3",
           "#FF6692",
           "#B6E880",
           "#FF97FF",
           "#FECB52"
          ],
          "font": {
           "color": "#2a3f5f"
          },
          "geo": {
           "bgcolor": "white",
           "lakecolor": "white",
           "landcolor": "#E5ECF6",
           "showlakes": true,
           "showland": true,
           "subunitcolor": "white"
          },
          "hoverlabel": {
           "align": "left"
          },
          "hovermode": "closest",
          "mapbox": {
           "style": "light"
          },
          "paper_bgcolor": "white",
          "plot_bgcolor": "#E5ECF6",
          "polar": {
           "angularaxis": {
            "gridcolor": "white",
            "linecolor": "white",
            "ticks": ""
           },
           "bgcolor": "#E5ECF6",
           "radialaxis": {
            "gridcolor": "white",
            "linecolor": "white",
            "ticks": ""
           }
          },
          "scene": {
           "xaxis": {
            "backgroundcolor": "#E5ECF6",
            "gridcolor": "white",
            "gridwidth": 2,
            "linecolor": "white",
            "showbackground": true,
            "ticks": "",
            "zerolinecolor": "white"
           },
           "yaxis": {
            "backgroundcolor": "#E5ECF6",
            "gridcolor": "white",
            "gridwidth": 2,
            "linecolor": "white",
            "showbackground": true,
            "ticks": "",
            "zerolinecolor": "white"
           },
           "zaxis": {
            "backgroundcolor": "#E5ECF6",
            "gridcolor": "white",
            "gridwidth": 2,
            "linecolor": "white",
            "showbackground": true,
            "ticks": "",
            "zerolinecolor": "white"
           }
          },
          "shapedefaults": {
           "line": {
            "color": "#2a3f5f"
           }
          },
          "ternary": {
           "aaxis": {
            "gridcolor": "white",
            "linecolor": "white",
            "ticks": ""
           },
           "baxis": {
            "gridcolor": "white",
            "linecolor": "white",
            "ticks": ""
           },
           "bgcolor": "#E5ECF6",
           "caxis": {
            "gridcolor": "white",
            "linecolor": "white",
            "ticks": ""
           }
          },
          "title": {
           "x": 0.05
          },
          "xaxis": {
           "automargin": true,
           "gridcolor": "white",
           "linecolor": "white",
           "ticks": "",
           "title": {
            "standoff": 15
           },
           "zerolinecolor": "white",
           "zerolinewidth": 2
          },
          "yaxis": {
           "automargin": true,
           "gridcolor": "white",
           "linecolor": "white",
           "ticks": "",
           "title": {
            "standoff": 15
           },
           "zerolinecolor": "white",
           "zerolinewidth": 2
          }
         }
        },
        "title": {
         "text": "Temperature Difference Data"
        },
        "xaxis": {
         "title": {
          "text": "Month"
         }
        },
        "yaxis": {
         "title": {
          "text": "Temperature Difference (°C)"
         }
        }
       }
      }
     },
     "metadata": {},
     "output_type": "display_data"
    }
   ],
   "source": [
    "# Calculate the temperature difference\n",
    "temp_diff = max_temp - min_temp\n",
    "\n",
    "# Create a Plotly figure\n",
    "fig = go.Figure()\n",
    "\n",
    "# Add a line chart for temperature difference\n",
    "fig.add_trace(go.Scatter(\n",
    "    x=temp_diff.month,\n",
    "    y=temp_diff,\n",
    "    mode='lines',\n",
    "    name='Temperature Difference'\n",
    "))\n",
    "\n",
    "# Set the layout\n",
    "fig.update_layout(\n",
    "    xaxis=dict(title='Month'),\n",
    "    yaxis=dict(title='Temperature Difference (°C)'),\n",
    "    title='Temperature Difference Data'\n",
    ")\n",
    "\n",
    "# Show the figure\n",
    "fig.show()"
   ]
  },
  {
   "cell_type": "code",
   "execution_count": 21,
   "metadata": {},
   "outputs": [
    {
     "data": {
      "application/vnd.plotly.v1+json": {
       "config": {
        "plotlyServerURL": "https://plot.ly"
       },
       "data": [
        {
         "base": [
          -2.397552490234375,
          -2.388031005859375,
          1.042877197265625,
          3.443267822265625,
          7.130523681640625,
          9.567779541015625,
          13.834625244140625,
          14.558258056640625,
          10.274078369140625,
          6.263824462890625,
          1.222320556640625,
          -0.707611083984375
         ],
         "name": "Min-Max Temperature",
         "type": "bar",
         "x": [
          1,
          2,
          3,
          4,
          5,
          6,
          7,
          8,
          9,
          10,
          11,
          12
         ],
         "y": [
          20.0189208984375,
          21.9984130859375,
          21.935302734375,
          21.989990234375,
          21.7646484375,
          24.73095703125,
          24.5517578125,
          21.8271484375,
          20.8475341796875,
          21.2099609375,
          19.98828125,
          19.114013671875
         ]
        }
       ],
       "layout": {
        "template": {
         "data": {
          "bar": [
           {
            "error_x": {
             "color": "#2a3f5f"
            },
            "error_y": {
             "color": "#2a3f5f"
            },
            "marker": {
             "line": {
              "color": "#E5ECF6",
              "width": 0.5
             },
             "pattern": {
              "fillmode": "overlay",
              "size": 10,
              "solidity": 0.2
             }
            },
            "type": "bar"
           }
          ],
          "barpolar": [
           {
            "marker": {
             "line": {
              "color": "#E5ECF6",
              "width": 0.5
             },
             "pattern": {
              "fillmode": "overlay",
              "size": 10,
              "solidity": 0.2
             }
            },
            "type": "barpolar"
           }
          ],
          "carpet": [
           {
            "aaxis": {
             "endlinecolor": "#2a3f5f",
             "gridcolor": "white",
             "linecolor": "white",
             "minorgridcolor": "white",
             "startlinecolor": "#2a3f5f"
            },
            "baxis": {
             "endlinecolor": "#2a3f5f",
             "gridcolor": "white",
             "linecolor": "white",
             "minorgridcolor": "white",
             "startlinecolor": "#2a3f5f"
            },
            "type": "carpet"
           }
          ],
          "choropleth": [
           {
            "colorbar": {
             "outlinewidth": 0,
             "ticks": ""
            },
            "type": "choropleth"
           }
          ],
          "contour": [
           {
            "colorbar": {
             "outlinewidth": 0,
             "ticks": ""
            },
            "colorscale": [
             [
              0,
              "#0d0887"
             ],
             [
              0.1111111111111111,
              "#46039f"
             ],
             [
              0.2222222222222222,
              "#7201a8"
             ],
             [
              0.3333333333333333,
              "#9c179e"
             ],
             [
              0.4444444444444444,
              "#bd3786"
             ],
             [
              0.5555555555555556,
              "#d8576b"
             ],
             [
              0.6666666666666666,
              "#ed7953"
             ],
             [
              0.7777777777777778,
              "#fb9f3a"
             ],
             [
              0.8888888888888888,
              "#fdca26"
             ],
             [
              1,
              "#f0f921"
             ]
            ],
            "type": "contour"
           }
          ],
          "contourcarpet": [
           {
            "colorbar": {
             "outlinewidth": 0,
             "ticks": ""
            },
            "type": "contourcarpet"
           }
          ],
          "heatmap": [
           {
            "colorbar": {
             "outlinewidth": 0,
             "ticks": ""
            },
            "colorscale": [
             [
              0,
              "#0d0887"
             ],
             [
              0.1111111111111111,
              "#46039f"
             ],
             [
              0.2222222222222222,
              "#7201a8"
             ],
             [
              0.3333333333333333,
              "#9c179e"
             ],
             [
              0.4444444444444444,
              "#bd3786"
             ],
             [
              0.5555555555555556,
              "#d8576b"
             ],
             [
              0.6666666666666666,
              "#ed7953"
             ],
             [
              0.7777777777777778,
              "#fb9f3a"
             ],
             [
              0.8888888888888888,
              "#fdca26"
             ],
             [
              1,
              "#f0f921"
             ]
            ],
            "type": "heatmap"
           }
          ],
          "heatmapgl": [
           {
            "colorbar": {
             "outlinewidth": 0,
             "ticks": ""
            },
            "colorscale": [
             [
              0,
              "#0d0887"
             ],
             [
              0.1111111111111111,
              "#46039f"
             ],
             [
              0.2222222222222222,
              "#7201a8"
             ],
             [
              0.3333333333333333,
              "#9c179e"
             ],
             [
              0.4444444444444444,
              "#bd3786"
             ],
             [
              0.5555555555555556,
              "#d8576b"
             ],
             [
              0.6666666666666666,
              "#ed7953"
             ],
             [
              0.7777777777777778,
              "#fb9f3a"
             ],
             [
              0.8888888888888888,
              "#fdca26"
             ],
             [
              1,
              "#f0f921"
             ]
            ],
            "type": "heatmapgl"
           }
          ],
          "histogram": [
           {
            "marker": {
             "pattern": {
              "fillmode": "overlay",
              "size": 10,
              "solidity": 0.2
             }
            },
            "type": "histogram"
           }
          ],
          "histogram2d": [
           {
            "colorbar": {
             "outlinewidth": 0,
             "ticks": ""
            },
            "colorscale": [
             [
              0,
              "#0d0887"
             ],
             [
              0.1111111111111111,
              "#46039f"
             ],
             [
              0.2222222222222222,
              "#7201a8"
             ],
             [
              0.3333333333333333,
              "#9c179e"
             ],
             [
              0.4444444444444444,
              "#bd3786"
             ],
             [
              0.5555555555555556,
              "#d8576b"
             ],
             [
              0.6666666666666666,
              "#ed7953"
             ],
             [
              0.7777777777777778,
              "#fb9f3a"
             ],
             [
              0.8888888888888888,
              "#fdca26"
             ],
             [
              1,
              "#f0f921"
             ]
            ],
            "type": "histogram2d"
           }
          ],
          "histogram2dcontour": [
           {
            "colorbar": {
             "outlinewidth": 0,
             "ticks": ""
            },
            "colorscale": [
             [
              0,
              "#0d0887"
             ],
             [
              0.1111111111111111,
              "#46039f"
             ],
             [
              0.2222222222222222,
              "#7201a8"
             ],
             [
              0.3333333333333333,
              "#9c179e"
             ],
             [
              0.4444444444444444,
              "#bd3786"
             ],
             [
              0.5555555555555556,
              "#d8576b"
             ],
             [
              0.6666666666666666,
              "#ed7953"
             ],
             [
              0.7777777777777778,
              "#fb9f3a"
             ],
             [
              0.8888888888888888,
              "#fdca26"
             ],
             [
              1,
              "#f0f921"
             ]
            ],
            "type": "histogram2dcontour"
           }
          ],
          "mesh3d": [
           {
            "colorbar": {
             "outlinewidth": 0,
             "ticks": ""
            },
            "type": "mesh3d"
           }
          ],
          "parcoords": [
           {
            "line": {
             "colorbar": {
              "outlinewidth": 0,
              "ticks": ""
             }
            },
            "type": "parcoords"
           }
          ],
          "pie": [
           {
            "automargin": true,
            "type": "pie"
           }
          ],
          "scatter": [
           {
            "fillpattern": {
             "fillmode": "overlay",
             "size": 10,
             "solidity": 0.2
            },
            "type": "scatter"
           }
          ],
          "scatter3d": [
           {
            "line": {
             "colorbar": {
              "outlinewidth": 0,
              "ticks": ""
             }
            },
            "marker": {
             "colorbar": {
              "outlinewidth": 0,
              "ticks": ""
             }
            },
            "type": "scatter3d"
           }
          ],
          "scattercarpet": [
           {
            "marker": {
             "colorbar": {
              "outlinewidth": 0,
              "ticks": ""
             }
            },
            "type": "scattercarpet"
           }
          ],
          "scattergeo": [
           {
            "marker": {
             "colorbar": {
              "outlinewidth": 0,
              "ticks": ""
             }
            },
            "type": "scattergeo"
           }
          ],
          "scattergl": [
           {
            "marker": {
             "colorbar": {
              "outlinewidth": 0,
              "ticks": ""
             }
            },
            "type": "scattergl"
           }
          ],
          "scattermapbox": [
           {
            "marker": {
             "colorbar": {
              "outlinewidth": 0,
              "ticks": ""
             }
            },
            "type": "scattermapbox"
           }
          ],
          "scatterpolar": [
           {
            "marker": {
             "colorbar": {
              "outlinewidth": 0,
              "ticks": ""
             }
            },
            "type": "scatterpolar"
           }
          ],
          "scatterpolargl": [
           {
            "marker": {
             "colorbar": {
              "outlinewidth": 0,
              "ticks": ""
             }
            },
            "type": "scatterpolargl"
           }
          ],
          "scatterternary": [
           {
            "marker": {
             "colorbar": {
              "outlinewidth": 0,
              "ticks": ""
             }
            },
            "type": "scatterternary"
           }
          ],
          "surface": [
           {
            "colorbar": {
             "outlinewidth": 0,
             "ticks": ""
            },
            "colorscale": [
             [
              0,
              "#0d0887"
             ],
             [
              0.1111111111111111,
              "#46039f"
             ],
             [
              0.2222222222222222,
              "#7201a8"
             ],
             [
              0.3333333333333333,
              "#9c179e"
             ],
             [
              0.4444444444444444,
              "#bd3786"
             ],
             [
              0.5555555555555556,
              "#d8576b"
             ],
             [
              0.6666666666666666,
              "#ed7953"
             ],
             [
              0.7777777777777778,
              "#fb9f3a"
             ],
             [
              0.8888888888888888,
              "#fdca26"
             ],
             [
              1,
              "#f0f921"
             ]
            ],
            "type": "surface"
           }
          ],
          "table": [
           {
            "cells": {
             "fill": {
              "color": "#EBF0F8"
             },
             "line": {
              "color": "white"
             }
            },
            "header": {
             "fill": {
              "color": "#C8D4E3"
             },
             "line": {
              "color": "white"
             }
            },
            "type": "table"
           }
          ]
         },
         "layout": {
          "annotationdefaults": {
           "arrowcolor": "#2a3f5f",
           "arrowhead": 0,
           "arrowwidth": 1
          },
          "autotypenumbers": "strict",
          "coloraxis": {
           "colorbar": {
            "outlinewidth": 0,
            "ticks": ""
           }
          },
          "colorscale": {
           "diverging": [
            [
             0,
             "#8e0152"
            ],
            [
             0.1,
             "#c51b7d"
            ],
            [
             0.2,
             "#de77ae"
            ],
            [
             0.3,
             "#f1b6da"
            ],
            [
             0.4,
             "#fde0ef"
            ],
            [
             0.5,
             "#f7f7f7"
            ],
            [
             0.6,
             "#e6f5d0"
            ],
            [
             0.7,
             "#b8e186"
            ],
            [
             0.8,
             "#7fbc41"
            ],
            [
             0.9,
             "#4d9221"
            ],
            [
             1,
             "#276419"
            ]
           ],
           "sequential": [
            [
             0,
             "#0d0887"
            ],
            [
             0.1111111111111111,
             "#46039f"
            ],
            [
             0.2222222222222222,
             "#7201a8"
            ],
            [
             0.3333333333333333,
             "#9c179e"
            ],
            [
             0.4444444444444444,
             "#bd3786"
            ],
            [
             0.5555555555555556,
             "#d8576b"
            ],
            [
             0.6666666666666666,
             "#ed7953"
            ],
            [
             0.7777777777777778,
             "#fb9f3a"
            ],
            [
             0.8888888888888888,
             "#fdca26"
            ],
            [
             1,
             "#f0f921"
            ]
           ],
           "sequentialminus": [
            [
             0,
             "#0d0887"
            ],
            [
             0.1111111111111111,
             "#46039f"
            ],
            [
             0.2222222222222222,
             "#7201a8"
            ],
            [
             0.3333333333333333,
             "#9c179e"
            ],
            [
             0.4444444444444444,
             "#bd3786"
            ],
            [
             0.5555555555555556,
             "#d8576b"
            ],
            [
             0.6666666666666666,
             "#ed7953"
            ],
            [
             0.7777777777777778,
             "#fb9f3a"
            ],
            [
             0.8888888888888888,
             "#fdca26"
            ],
            [
             1,
             "#f0f921"
            ]
           ]
          },
          "colorway": [
           "#636efa",
           "#EF553B",
           "#00cc96",
           "#ab63fa",
           "#FFA15A",
           "#19d3f3",
           "#FF6692",
           "#B6E880",
           "#FF97FF",
           "#FECB52"
          ],
          "font": {
           "color": "#2a3f5f"
          },
          "geo": {
           "bgcolor": "white",
           "lakecolor": "white",
           "landcolor": "#E5ECF6",
           "showlakes": true,
           "showland": true,
           "subunitcolor": "white"
          },
          "hoverlabel": {
           "align": "left"
          },
          "hovermode": "closest",
          "mapbox": {
           "style": "light"
          },
          "paper_bgcolor": "white",
          "plot_bgcolor": "#E5ECF6",
          "polar": {
           "angularaxis": {
            "gridcolor": "white",
            "linecolor": "white",
            "ticks": ""
           },
           "bgcolor": "#E5ECF6",
           "radialaxis": {
            "gridcolor": "white",
            "linecolor": "white",
            "ticks": ""
           }
          },
          "scene": {
           "xaxis": {
            "backgroundcolor": "#E5ECF6",
            "gridcolor": "white",
            "gridwidth": 2,
            "linecolor": "white",
            "showbackground": true,
            "ticks": "",
            "zerolinecolor": "white"
           },
           "yaxis": {
            "backgroundcolor": "#E5ECF6",
            "gridcolor": "white",
            "gridwidth": 2,
            "linecolor": "white",
            "showbackground": true,
            "ticks": "",
            "zerolinecolor": "white"
           },
           "zaxis": {
            "backgroundcolor": "#E5ECF6",
            "gridcolor": "white",
            "gridwidth": 2,
            "linecolor": "white",
            "showbackground": true,
            "ticks": "",
            "zerolinecolor": "white"
           }
          },
          "shapedefaults": {
           "line": {
            "color": "#2a3f5f"
           }
          },
          "ternary": {
           "aaxis": {
            "gridcolor": "white",
            "linecolor": "white",
            "ticks": ""
           },
           "baxis": {
            "gridcolor": "white",
            "linecolor": "white",
            "ticks": ""
           },
           "bgcolor": "#E5ECF6",
           "caxis": {
            "gridcolor": "white",
            "linecolor": "white",
            "ticks": ""
           }
          },
          "title": {
           "x": 0.05
          },
          "xaxis": {
           "automargin": true,
           "gridcolor": "white",
           "linecolor": "white",
           "ticks": "",
           "title": {
            "standoff": 15
           },
           "zerolinecolor": "white",
           "zerolinewidth": 2
          },
          "yaxis": {
           "automargin": true,
           "gridcolor": "white",
           "linecolor": "white",
           "ticks": "",
           "title": {
            "standoff": 15
           },
           "zerolinecolor": "white",
           "zerolinewidth": 2
          }
         }
        },
        "title": {
         "text": "Min-Max Temperature Data"
        },
        "xaxis": {
         "title": {
          "text": "Month"
         }
        },
        "yaxis": {
         "title": {
          "text": "Temperature (°C)"
         }
        }
       }
      }
     },
     "metadata": {},
     "output_type": "display_data"
    }
   ],
   "source": [
    "# Create a Plotly figure\n",
    "fig = go.Figure()\n",
    "\n",
    "# Add a bar chart for min-max temperature\n",
    "fig.add_trace(go.Bar(\n",
    "    x=min_temp.month,\n",
    "    y=max_temp - min_temp,\n",
    "    base=min_temp,\n",
    "    name='Min-Max Temperature'\n",
    "))\n",
    "\n",
    "# Set the layout\n",
    "fig.update_layout(\n",
    "    xaxis=dict(title='Month'),\n",
    "    yaxis=dict(title='Temperature (°C)'),\n",
    "    title='Min-Max Temperature Data'\n",
    ")\n",
    "\n",
    "# Show the figure\n",
    "fig.show()"
   ]
  },
  {
   "cell_type": "code",
   "execution_count": 22,
   "metadata": {},
   "outputs": [
    {
     "data": {
      "application/vnd.plotly.v1+json": {
       "config": {
        "plotlyServerURL": "https://plot.ly"
       },
       "data": [
        {
         "base": [
          -9.36126708984375,
          -10.648406982421875,
          -9.65118408203125,
          -9.69085693359375,
          -10.10052490234375,
          -12.384429931640625,
          -11.526214599609375,
          -10.569915771484375,
          -10.43328857421875,
          -9.942718505859375,
          -9.48492431640625,
          -8.6929931640625
         ],
         "name": "Adjusted Min-Max Temperature",
         "type": "bar",
         "x": [
          1,
          2,
          3,
          4,
          5,
          6,
          7,
          8,
          9,
          10,
          11,
          12
         ],
         "y": [
          20.0189208984375,
          21.9984130859375,
          21.935302734375,
          21.989990234375,
          21.7646484375,
          24.73095703125,
          24.5517578125,
          21.8271484375,
          20.8475341796875,
          21.2099609375,
          19.98828125,
          19.114013671875
         ]
        }
       ],
       "layout": {
        "template": {
         "data": {
          "bar": [
           {
            "error_x": {
             "color": "#2a3f5f"
            },
            "error_y": {
             "color": "#2a3f5f"
            },
            "marker": {
             "line": {
              "color": "#E5ECF6",
              "width": 0.5
             },
             "pattern": {
              "fillmode": "overlay",
              "size": 10,
              "solidity": 0.2
             }
            },
            "type": "bar"
           }
          ],
          "barpolar": [
           {
            "marker": {
             "line": {
              "color": "#E5ECF6",
              "width": 0.5
             },
             "pattern": {
              "fillmode": "overlay",
              "size": 10,
              "solidity": 0.2
             }
            },
            "type": "barpolar"
           }
          ],
          "carpet": [
           {
            "aaxis": {
             "endlinecolor": "#2a3f5f",
             "gridcolor": "white",
             "linecolor": "white",
             "minorgridcolor": "white",
             "startlinecolor": "#2a3f5f"
            },
            "baxis": {
             "endlinecolor": "#2a3f5f",
             "gridcolor": "white",
             "linecolor": "white",
             "minorgridcolor": "white",
             "startlinecolor": "#2a3f5f"
            },
            "type": "carpet"
           }
          ],
          "choropleth": [
           {
            "colorbar": {
             "outlinewidth": 0,
             "ticks": ""
            },
            "type": "choropleth"
           }
          ],
          "contour": [
           {
            "colorbar": {
             "outlinewidth": 0,
             "ticks": ""
            },
            "colorscale": [
             [
              0,
              "#0d0887"
             ],
             [
              0.1111111111111111,
              "#46039f"
             ],
             [
              0.2222222222222222,
              "#7201a8"
             ],
             [
              0.3333333333333333,
              "#9c179e"
             ],
             [
              0.4444444444444444,
              "#bd3786"
             ],
             [
              0.5555555555555556,
              "#d8576b"
             ],
             [
              0.6666666666666666,
              "#ed7953"
             ],
             [
              0.7777777777777778,
              "#fb9f3a"
             ],
             [
              0.8888888888888888,
              "#fdca26"
             ],
             [
              1,
              "#f0f921"
             ]
            ],
            "type": "contour"
           }
          ],
          "contourcarpet": [
           {
            "colorbar": {
             "outlinewidth": 0,
             "ticks": ""
            },
            "type": "contourcarpet"
           }
          ],
          "heatmap": [
           {
            "colorbar": {
             "outlinewidth": 0,
             "ticks": ""
            },
            "colorscale": [
             [
              0,
              "#0d0887"
             ],
             [
              0.1111111111111111,
              "#46039f"
             ],
             [
              0.2222222222222222,
              "#7201a8"
             ],
             [
              0.3333333333333333,
              "#9c179e"
             ],
             [
              0.4444444444444444,
              "#bd3786"
             ],
             [
              0.5555555555555556,
              "#d8576b"
             ],
             [
              0.6666666666666666,
              "#ed7953"
             ],
             [
              0.7777777777777778,
              "#fb9f3a"
             ],
             [
              0.8888888888888888,
              "#fdca26"
             ],
             [
              1,
              "#f0f921"
             ]
            ],
            "type": "heatmap"
           }
          ],
          "heatmapgl": [
           {
            "colorbar": {
             "outlinewidth": 0,
             "ticks": ""
            },
            "colorscale": [
             [
              0,
              "#0d0887"
             ],
             [
              0.1111111111111111,
              "#46039f"
             ],
             [
              0.2222222222222222,
              "#7201a8"
             ],
             [
              0.3333333333333333,
              "#9c179e"
             ],
             [
              0.4444444444444444,
              "#bd3786"
             ],
             [
              0.5555555555555556,
              "#d8576b"
             ],
             [
              0.6666666666666666,
              "#ed7953"
             ],
             [
              0.7777777777777778,
              "#fb9f3a"
             ],
             [
              0.8888888888888888,
              "#fdca26"
             ],
             [
              1,
              "#f0f921"
             ]
            ],
            "type": "heatmapgl"
           }
          ],
          "histogram": [
           {
            "marker": {
             "pattern": {
              "fillmode": "overlay",
              "size": 10,
              "solidity": 0.2
             }
            },
            "type": "histogram"
           }
          ],
          "histogram2d": [
           {
            "colorbar": {
             "outlinewidth": 0,
             "ticks": ""
            },
            "colorscale": [
             [
              0,
              "#0d0887"
             ],
             [
              0.1111111111111111,
              "#46039f"
             ],
             [
              0.2222222222222222,
              "#7201a8"
             ],
             [
              0.3333333333333333,
              "#9c179e"
             ],
             [
              0.4444444444444444,
              "#bd3786"
             ],
             [
              0.5555555555555556,
              "#d8576b"
             ],
             [
              0.6666666666666666,
              "#ed7953"
             ],
             [
              0.7777777777777778,
              "#fb9f3a"
             ],
             [
              0.8888888888888888,
              "#fdca26"
             ],
             [
              1,
              "#f0f921"
             ]
            ],
            "type": "histogram2d"
           }
          ],
          "histogram2dcontour": [
           {
            "colorbar": {
             "outlinewidth": 0,
             "ticks": ""
            },
            "colorscale": [
             [
              0,
              "#0d0887"
             ],
             [
              0.1111111111111111,
              "#46039f"
             ],
             [
              0.2222222222222222,
              "#7201a8"
             ],
             [
              0.3333333333333333,
              "#9c179e"
             ],
             [
              0.4444444444444444,
              "#bd3786"
             ],
             [
              0.5555555555555556,
              "#d8576b"
             ],
             [
              0.6666666666666666,
              "#ed7953"
             ],
             [
              0.7777777777777778,
              "#fb9f3a"
             ],
             [
              0.8888888888888888,
              "#fdca26"
             ],
             [
              1,
              "#f0f921"
             ]
            ],
            "type": "histogram2dcontour"
           }
          ],
          "mesh3d": [
           {
            "colorbar": {
             "outlinewidth": 0,
             "ticks": ""
            },
            "type": "mesh3d"
           }
          ],
          "parcoords": [
           {
            "line": {
             "colorbar": {
              "outlinewidth": 0,
              "ticks": ""
             }
            },
            "type": "parcoords"
           }
          ],
          "pie": [
           {
            "automargin": true,
            "type": "pie"
           }
          ],
          "scatter": [
           {
            "fillpattern": {
             "fillmode": "overlay",
             "size": 10,
             "solidity": 0.2
            },
            "type": "scatter"
           }
          ],
          "scatter3d": [
           {
            "line": {
             "colorbar": {
              "outlinewidth": 0,
              "ticks": ""
             }
            },
            "marker": {
             "colorbar": {
              "outlinewidth": 0,
              "ticks": ""
             }
            },
            "type": "scatter3d"
           }
          ],
          "scattercarpet": [
           {
            "marker": {
             "colorbar": {
              "outlinewidth": 0,
              "ticks": ""
             }
            },
            "type": "scattercarpet"
           }
          ],
          "scattergeo": [
           {
            "marker": {
             "colorbar": {
              "outlinewidth": 0,
              "ticks": ""
             }
            },
            "type": "scattergeo"
           }
          ],
          "scattergl": [
           {
            "marker": {
             "colorbar": {
              "outlinewidth": 0,
              "ticks": ""
             }
            },
            "type": "scattergl"
           }
          ],
          "scattermapbox": [
           {
            "marker": {
             "colorbar": {
              "outlinewidth": 0,
              "ticks": ""
             }
            },
            "type": "scattermapbox"
           }
          ],
          "scatterpolar": [
           {
            "marker": {
             "colorbar": {
              "outlinewidth": 0,
              "ticks": ""
             }
            },
            "type": "scatterpolar"
           }
          ],
          "scatterpolargl": [
           {
            "marker": {
             "colorbar": {
              "outlinewidth": 0,
              "ticks": ""
             }
            },
            "type": "scatterpolargl"
           }
          ],
          "scatterternary": [
           {
            "marker": {
             "colorbar": {
              "outlinewidth": 0,
              "ticks": ""
             }
            },
            "type": "scatterternary"
           }
          ],
          "surface": [
           {
            "colorbar": {
             "outlinewidth": 0,
             "ticks": ""
            },
            "colorscale": [
             [
              0,
              "#0d0887"
             ],
             [
              0.1111111111111111,
              "#46039f"
             ],
             [
              0.2222222222222222,
              "#7201a8"
             ],
             [
              0.3333333333333333,
              "#9c179e"
             ],
             [
              0.4444444444444444,
              "#bd3786"
             ],
             [
              0.5555555555555556,
              "#d8576b"
             ],
             [
              0.6666666666666666,
              "#ed7953"
             ],
             [
              0.7777777777777778,
              "#fb9f3a"
             ],
             [
              0.8888888888888888,
              "#fdca26"
             ],
             [
              1,
              "#f0f921"
             ]
            ],
            "type": "surface"
           }
          ],
          "table": [
           {
            "cells": {
             "fill": {
              "color": "#EBF0F8"
             },
             "line": {
              "color": "white"
             }
            },
            "header": {
             "fill": {
              "color": "#C8D4E3"
             },
             "line": {
              "color": "white"
             }
            },
            "type": "table"
           }
          ]
         },
         "layout": {
          "annotationdefaults": {
           "arrowcolor": "#2a3f5f",
           "arrowhead": 0,
           "arrowwidth": 1
          },
          "autotypenumbers": "strict",
          "coloraxis": {
           "colorbar": {
            "outlinewidth": 0,
            "ticks": ""
           }
          },
          "colorscale": {
           "diverging": [
            [
             0,
             "#8e0152"
            ],
            [
             0.1,
             "#c51b7d"
            ],
            [
             0.2,
             "#de77ae"
            ],
            [
             0.3,
             "#f1b6da"
            ],
            [
             0.4,
             "#fde0ef"
            ],
            [
             0.5,
             "#f7f7f7"
            ],
            [
             0.6,
             "#e6f5d0"
            ],
            [
             0.7,
             "#b8e186"
            ],
            [
             0.8,
             "#7fbc41"
            ],
            [
             0.9,
             "#4d9221"
            ],
            [
             1,
             "#276419"
            ]
           ],
           "sequential": [
            [
             0,
             "#0d0887"
            ],
            [
             0.1111111111111111,
             "#46039f"
            ],
            [
             0.2222222222222222,
             "#7201a8"
            ],
            [
             0.3333333333333333,
             "#9c179e"
            ],
            [
             0.4444444444444444,
             "#bd3786"
            ],
            [
             0.5555555555555556,
             "#d8576b"
            ],
            [
             0.6666666666666666,
             "#ed7953"
            ],
            [
             0.7777777777777778,
             "#fb9f3a"
            ],
            [
             0.8888888888888888,
             "#fdca26"
            ],
            [
             1,
             "#f0f921"
            ]
           ],
           "sequentialminus": [
            [
             0,
             "#0d0887"
            ],
            [
             0.1111111111111111,
             "#46039f"
            ],
            [
             0.2222222222222222,
             "#7201a8"
            ],
            [
             0.3333333333333333,
             "#9c179e"
            ],
            [
             0.4444444444444444,
             "#bd3786"
            ],
            [
             0.5555555555555556,
             "#d8576b"
            ],
            [
             0.6666666666666666,
             "#ed7953"
            ],
            [
             0.7777777777777778,
             "#fb9f3a"
            ],
            [
             0.8888888888888888,
             "#fdca26"
            ],
            [
             1,
             "#f0f921"
            ]
           ]
          },
          "colorway": [
           "#636efa",
           "#EF553B",
           "#00cc96",
           "#ab63fa",
           "#FFA15A",
           "#19d3f3",
           "#FF6692",
           "#B6E880",
           "#FF97FF",
           "#FECB52"
          ],
          "font": {
           "color": "#2a3f5f"
          },
          "geo": {
           "bgcolor": "white",
           "lakecolor": "white",
           "landcolor": "#E5ECF6",
           "showlakes": true,
           "showland": true,
           "subunitcolor": "white"
          },
          "hoverlabel": {
           "align": "left"
          },
          "hovermode": "closest",
          "mapbox": {
           "style": "light"
          },
          "paper_bgcolor": "white",
          "plot_bgcolor": "#E5ECF6",
          "polar": {
           "angularaxis": {
            "gridcolor": "white",
            "linecolor": "white",
            "ticks": ""
           },
           "bgcolor": "#E5ECF6",
           "radialaxis": {
            "gridcolor": "white",
            "linecolor": "white",
            "ticks": ""
           }
          },
          "scene": {
           "xaxis": {
            "backgroundcolor": "#E5ECF6",
            "gridcolor": "white",
            "gridwidth": 2,
            "linecolor": "white",
            "showbackground": true,
            "ticks": "",
            "zerolinecolor": "white"
           },
           "yaxis": {
            "backgroundcolor": "#E5ECF6",
            "gridcolor": "white",
            "gridwidth": 2,
            "linecolor": "white",
            "showbackground": true,
            "ticks": "",
            "zerolinecolor": "white"
           },
           "zaxis": {
            "backgroundcolor": "#E5ECF6",
            "gridcolor": "white",
            "gridwidth": 2,
            "linecolor": "white",
            "showbackground": true,
            "ticks": "",
            "zerolinecolor": "white"
           }
          },
          "shapedefaults": {
           "line": {
            "color": "#2a3f5f"
           }
          },
          "ternary": {
           "aaxis": {
            "gridcolor": "white",
            "linecolor": "white",
            "ticks": ""
           },
           "baxis": {
            "gridcolor": "white",
            "linecolor": "white",
            "ticks": ""
           },
           "bgcolor": "#E5ECF6",
           "caxis": {
            "gridcolor": "white",
            "linecolor": "white",
            "ticks": ""
           }
          },
          "title": {
           "x": 0.05
          },
          "xaxis": {
           "automargin": true,
           "gridcolor": "white",
           "linecolor": "white",
           "ticks": "",
           "title": {
            "standoff": 15
           },
           "zerolinecolor": "white",
           "zerolinewidth": 2
          },
          "yaxis": {
           "automargin": true,
           "gridcolor": "white",
           "linecolor": "white",
           "ticks": "",
           "title": {
            "standoff": 15
           },
           "zerolinecolor": "white",
           "zerolinewidth": 2
          }
         }
        },
        "title": {
         "text": "Adjusted Min-Max Temperature Data"
        },
        "xaxis": {
         "title": {
          "text": "Month"
         }
        },
        "yaxis": {
         "title": {
          "text": "Temperature Difference from Average (°C)"
         }
        }
       }
      }
     },
     "metadata": {},
     "output_type": "display_data"
    }
   ],
   "source": [
    "# Subtract the average temperature from min and max temperatures\n",
    "min_temp_adj = min_temp - avg_temp\n",
    "max_temp_adj = max_temp - avg_temp\n",
    "\n",
    "# Create a Plotly figure\n",
    "fig = go.Figure()\n",
    "\n",
    "# Add a bar chart for adjusted min-max temperature\n",
    "fig.add_trace(go.Bar(\n",
    "    x=min_temp_adj.month,\n",
    "    y=max_temp_adj - min_temp_adj,\n",
    "    base=min_temp_adj,\n",
    "    name='Adjusted Min-Max Temperature'\n",
    "))\n",
    "\n",
    "# Set the layout\n",
    "fig.update_layout(\n",
    "    xaxis=dict(title='Month'),\n",
    "    yaxis=dict(title='Temperature Difference from Average (°C)'),\n",
    "    title='Adjusted Min-Max Temperature Data'\n",
    ")\n",
    "\n",
    "# Show the figure\n",
    "fig.show()"
   ]
  },
  {
   "cell_type": "markdown",
   "metadata": {},
   "source": [
    "## Average cloud cover and sunrise/sunset times"
   ]
  },
  {
   "cell_type": "code",
   "execution_count": 23,
   "metadata": {},
   "outputs": [
    {
     "name": "stdout",
     "output_type": "stream",
     "text": [
      "<xarray.DataArray 'tcc' (time: 8928)>\n",
      "array([0.44535828, 0.4701724 , 0.49484572, ..., 0.5452655 , 0.5927201 ,\n",
      "       0.6065047 ], dtype=float32)\n",
      "Coordinates:\n",
      "    number      int32 ...\n",
      "  * time        (time) datetime64[ns] 1992-01-01 ... 2022-12-01T23:00:00\n",
      "    step        timedelta64[ns] ...\n",
      "    surface     float64 ...\n",
      "    valid_time  (time) datetime64[ns] ...\n"
     ]
    }
   ],
   "source": [
    "#Get rid of the latitude and longitude dimensions by averaging the data\n",
    "avg_tcc = ds['tcc'].mean(dim=['longitude', 'latitude'])\n",
    "\n",
    "\n",
    "#Now average the data of each hour of each month across the 30 years of data. We end up with 288 data points, representing 24 h per month\n",
    "month_hour_grouped = avg_tcc.groupby(avg_tcc['time.month'] * 100 + avg_tcc['time.hour'])\n",
    "hourly_mean_by_month = month_hour_grouped.mean(dim='time')\n",
    "\n",
    "print(avg_tcc)"
   ]
  },
  {
   "cell_type": "code",
   "execution_count": 31,
   "metadata": {},
   "outputs": [
    {
     "name": "stdout",
     "output_type": "stream",
     "text": [
      "['08:24', '08:00', '07:21', '07:34', '06:59', '06:46', '06:59', '07:25', '07:51', '08:18', '07:50', '08:18'] ['18:13', '18:48', '19:16', '20:45', '21:12', '21:33', '21:31', '21:02', '20:17', '19:32', '17:57', '17:51']\n"
     ]
    }
   ],
   "source": [
    "#find the timezone of the location\n",
    "tf = timezonefinder.TimezoneFinder()\n",
    "timezone_str = tf.certain_timezone_at(lat=location.latitude, lng=location.longitude)\n",
    "\n",
    "#define location infos for the astral package only using coordinates\n",
    "location_info = LocationInfo(None, None, timezone_str, location.latitude, location.longitude)\n",
    "\n",
    "#define two empty lists for sunrise and sunset times\n",
    "sunrise_times, sunset_times = [], []\n",
    "\n",
    "# append sunrise and sunset times for the 15th of every month of 2022. Automatically adjusted for Daylight Saving Time (DST)\n",
    "for month in range(1, 13):\n",
    "    date = datetime(2022, month, 15)\n",
    "    \n",
    "    s = sun(location_info.observer, date=date, tzinfo=timezone_str)\n",
    "    sunrise_times.append(s['sunrise'].strftime('%H:%M'))\n",
    "    sunset_times.append(s['sunset'].strftime('%H:%M'))\n",
    "\n",
    "print(sunrise_times, sunset_times)\n",
    "    "
   ]
  },
  {
   "cell_type": "code",
   "execution_count": 32,
   "metadata": {},
   "outputs": [
    {
     "data": {
      "application/vnd.plotly.v1+json": {
       "config": {
        "plotlyServerURL": "https://plot.ly"
       },
       "data": [
        {
         "colorbar": {
          "title": {
           "text": "Cloud Cover"
          }
         },
         "colorscale": [
          [
           0,
           "rgb(254, 254, 253)"
          ],
          [
           0.09090909090909091,
           "rgb(224, 224, 223)"
          ],
          [
           0.18181818181818182,
           "rgb(197, 197, 195)"
          ],
          [
           0.2727272727272727,
           "rgb(171, 171, 170)"
          ],
          [
           0.36363636363636365,
           "rgb(146, 146, 145)"
          ],
          [
           0.45454545454545453,
           "rgb(124, 123, 122)"
          ],
          [
           0.5454545454545454,
           "rgb(102, 101, 101)"
          ],
          [
           0.6363636363636364,
           "rgb(81, 80, 80)"
          ],
          [
           0.7272727272727273,
           "rgb(59, 59, 59)"
          ],
          [
           0.8181818181818182,
           "rgb(38, 38, 38)"
          ],
          [
           0.9090909090909091,
           "rgb(16, 16, 16)"
          ],
          [
           1,
           "rgb(0, 0, 0)"
          ]
         ],
         "type": "heatmap",
         "x": [
          0,
          1,
          2,
          3,
          4,
          5,
          6,
          7,
          8,
          9,
          10,
          11
         ],
         "xgap": 5,
         "y": [
          0,
          1,
          2,
          3,
          4,
          5,
          6,
          7,
          8,
          9,
          10,
          11,
          12,
          13,
          14,
          15,
          16,
          17,
          18,
          19,
          20,
          21,
          22,
          23
         ],
         "z": [
          [
           0.4597871005535126,
           0.4382550120353699,
           0.4492333233356476,
           0.45734912157058716,
           0.4178115725517273,
           0.2558266222476959,
           0.12094924598932266,
           0.20968975126743317,
           0.3581513464450836,
           0.4521380066871643,
           0.4761950671672821,
           0.5045064687728882
          ],
          [
           0.4684341549873352,
           0.44580355286598206,
           0.4493432343006134,
           0.46055635809898376,
           0.4219243824481964,
           0.2515046298503876,
           0.12242469191551208,
           0.2125411182641983,
           0.3603781759738922,
           0.453587144613266,
           0.4852098822593689,
           0.5130904316902161
          ],
          [
           0.47626635432243347,
           0.4561155140399933,
           0.45384886860847473,
           0.4629195034503937,
           0.4274339973926544,
           0.25088271498680115,
           0.1224936991930008,
           0.213422492146492,
           0.36545440554618835,
           0.4619917571544647,
           0.4943617284297943,
           0.5213245153427124
          ],
          [
           0.48468270897865295,
           0.46710485219955444,
           0.4597685635089874,
           0.46328482031822205,
           0.4299713671207428,
           0.2512606978416443,
           0.12324000895023346,
           0.21397404372692108,
           0.3725632131099701,
           0.4722307622432709,
           0.5017837882041931,
           0.529931366443634
          ],
          [
           0.49623000621795654,
           0.4737522602081299,
           0.46451088786125183,
           0.4638358950614929,
           0.42846277356147766,
           0.25130924582481384,
           0.12337903678417206,
           0.21346978843212128,
           0.38153356313705444,
           0.4810751974582672,
           0.5114395022392273,
           0.5413280725479126
          ],
          [
           0.5070661902427673,
           0.4814165532588959,
           0.46837323904037476,
           0.47066712379455566,
           0.43089786171913147,
           0.25115057826042175,
           0.12320102006196976,
           0.21485251188278198,
           0.3933754861354828,
           0.49069324135780334,
           0.519054651260376,
           0.5513126850128174
          ],
          [
           0.5137339234352112,
           0.48637205362319946,
           0.47212687134742737,
           0.4744853377342224,
           0.42824631929397583,
           0.2482205182313919,
           0.1208355724811554,
           0.2161230742931366,
           0.40458717942237854,
           0.5000190138816833,
           0.5230173468589783,
           0.555809736251831
          ],
          [
           0.5184584259986877,
           0.49011075496673584,
           0.4746451675891876,
           0.4661289155483246,
           0.41397184133529663,
           0.23894564807415009,
           0.11019209027290344,
           0.20131978392601013,
           0.3970833122730255,
           0.5030229687690735,
           0.5284109711647034,
           0.5602537393569946
          ],
          [
           0.5201666355133057,
           0.4831577241420746,
           0.46287158131599426,
           0.4589140713214874,
           0.40473246574401855,
           0.23565495014190674,
           0.10464697331190109,
           0.18657849729061127,
           0.3738962709903717,
           0.47658753395080566,
           0.5184856057167053,
           0.5609229207038879
          ],
          [
           0.503281831741333,
           0.45950332283973694,
           0.45830482244491577,
           0.462213933467865,
           0.41154944896698,
           0.23902954161167145,
           0.10552365332841873,
           0.18207454681396484,
           0.3674207627773285,
           0.4533933699131012,
           0.4976009428501129,
           0.541088879108429
          ],
          [
           0.47690388560295105,
           0.4447646737098694,
           0.4653526246547699,
           0.4820720851421356,
           0.43573108315467834,
           0.2608129382133484,
           0.12688599526882172,
           0.20218776166439056,
           0.37735968828201294,
           0.4558515250682831,
           0.4856429398059845,
           0.5088965892791748
          ],
          [
           0.46550214290618896,
           0.4446388781070709,
           0.4818281829357147,
           0.5015109181404114,
           0.4524593949317932,
           0.26940008997917175,
           0.1250634491443634,
           0.20292578637599945,
           0.38580331206321716,
           0.466842383146286,
           0.48744574189186096,
           0.4924369752407074
          ],
          [
           0.47091230750083923,
           0.45835080742836,
           0.5052106380462646,
           0.520029604434967,
           0.47325631976127625,
           0.28536495566368103,
           0.13631059229373932,
           0.21355442702770233,
           0.40473806858062744,
           0.48347800970077515,
           0.49762919545173645,
           0.4932960867881775
          ],
          [
           0.48225271701812744,
           0.47366613149642944,
           0.5220494270324707,
           0.5331017971038818,
           0.48582085967063904,
           0.30459293723106384,
           0.15458343923091888,
           0.23059172928333282,
           0.42328283190727234,
           0.4962314963340759,
           0.5122079849243164,
           0.5013571977615356
          ],
          [
           0.492196649312973,
           0.48665693402290344,
           0.5313936471939087,
           0.5438329577445984,
           0.49335911870002747,
           0.3217151463031769,
           0.1742076724767685,
           0.2532888352870941,
           0.4349818825721741,
           0.5039499998092651,
           0.5211588740348816,
           0.5079206228256226
          ],
          [
           0.4922366440296173,
           0.48955899477005005,
           0.5323323011398315,
           0.546710193157196,
           0.4981062710285187,
           0.338546484708786,
           0.194022998213768,
           0.2724764049053192,
           0.4397149682044983,
           0.5026134252548218,
           0.5169786810874939,
           0.5051605701446533
          ],
          [
           0.48043733835220337,
           0.47975021600723267,
           0.524773359298706,
           0.5375568270683289,
           0.496959388256073,
           0.3499037027359009,
           0.20778200030326843,
           0.28330057859420776,
           0.43798553943634033,
           0.489267498254776,
           0.5010634064674377,
           0.4938865900039673
          ],
          [
           0.46185365319252014,
           0.45896202325820923,
           0.4990495443344116,
           0.5188277363777161,
           0.48565611243247986,
           0.34588730335235596,
           0.20399457216262817,
           0.2773567736148834,
           0.4174365699291229,
           0.4713893532752991,
           0.485018789768219,
           0.485809326171875
          ],
          [
           0.451490581035614,
           0.4424731433391571,
           0.46413442492485046,
           0.4880402088165283,
           0.45959675312042236,
           0.3205234706401825,
           0.1785043627023697,
           0.2519533634185791,
           0.3921688497066498,
           0.4575909674167633,
           0.4759228527545929,
           0.4856013059616089
          ],
          [
           0.4498637020587921,
           0.4358367919921875,
           0.4460296034812927,
           0.46619710326194763,
           0.4334661364555359,
           0.28935307264328003,
           0.1486484259366989,
           0.22527886927127838,
           0.37586942315101624,
           0.4512571394443512,
           0.47266343235969543,
           0.4894982576370239
          ],
          [
           0.4542621970176697,
           0.43408316373825073,
           0.44101598858833313,
           0.45342403650283813,
           0.42264971137046814,
           0.27141615748405457,
           0.13037660717964172,
           0.20923882722854614,
           0.3651009202003479,
           0.4515945017337799,
           0.46926960349082947,
           0.4916907846927643
          ],
          [
           0.4574028253555298,
           0.43503931164741516,
           0.4414442777633667,
           0.44265735149383545,
           0.41609930992126465,
           0.2601467967033386,
           0.12017614394426346,
           0.19994546473026276,
           0.3588660955429077,
           0.45259955525398254,
           0.4656811058521271,
           0.493854820728302
          ],
          [
           0.45580506324768066,
           0.44087523221969604,
           0.44960489869117737,
           0.4509691298007965,
           0.42215263843536377,
           0.26524218916893005,
           0.13125357031822205,
           0.21954353153705597,
           0.36670956015586853,
           0.4563499987125397,
           0.4685291051864624,
           0.4961547553539276
          ],
          [
           0.45417308807373047,
           0.4392942488193512,
           0.44761165976524353,
           0.4534164369106293,
           0.4164726734161377,
           0.2527834177017212,
           0.12412182986736298,
           0.21379917860031128,
           0.3602989614009857,
           0.45439109206199646,
           0.4698869585990906,
           0.5009475946426392
          ]
         ]
        },
        {
         "line": {
          "color": "rgb(150,0,255)",
          "width": 2
         },
         "mode": "lines",
         "name": "Sunset",
         "type": "scatter",
         "x": [
          0,
          1,
          2,
          3,
          4,
          5,
          6,
          7,
          8,
          9,
          10,
          11
         ],
         "y": [
          18.22,
          18.8,
          19.27,
          20.75,
          21.2,
          21.55,
          21.52,
          21.03,
          20.28,
          19.53,
          17.95,
          17.85
         ]
        },
        {
         "line": {
          "color": "rgb(255,65,0)",
          "width": 2
         },
         "mode": "lines",
         "name": "Sunrise",
         "type": "scatter",
         "x": [
          0,
          1,
          2,
          3,
          4,
          5,
          6,
          7,
          8,
          9,
          10,
          11
         ],
         "y": [
          8.4,
          8,
          7.35,
          7.57,
          6.98,
          6.77,
          6.98,
          7.42,
          7.85,
          8.3,
          7.83,
          8.3
         ]
        }
       ],
       "layout": {
        "legend": {
         "x": 1.02,
         "y": 1.15
        },
        "showlegend": true,
        "template": {
         "data": {
          "bar": [
           {
            "error_x": {
             "color": "#2a3f5f"
            },
            "error_y": {
             "color": "#2a3f5f"
            },
            "marker": {
             "line": {
              "color": "#E5ECF6",
              "width": 0.5
             },
             "pattern": {
              "fillmode": "overlay",
              "size": 10,
              "solidity": 0.2
             }
            },
            "type": "bar"
           }
          ],
          "barpolar": [
           {
            "marker": {
             "line": {
              "color": "#E5ECF6",
              "width": 0.5
             },
             "pattern": {
              "fillmode": "overlay",
              "size": 10,
              "solidity": 0.2
             }
            },
            "type": "barpolar"
           }
          ],
          "carpet": [
           {
            "aaxis": {
             "endlinecolor": "#2a3f5f",
             "gridcolor": "white",
             "linecolor": "white",
             "minorgridcolor": "white",
             "startlinecolor": "#2a3f5f"
            },
            "baxis": {
             "endlinecolor": "#2a3f5f",
             "gridcolor": "white",
             "linecolor": "white",
             "minorgridcolor": "white",
             "startlinecolor": "#2a3f5f"
            },
            "type": "carpet"
           }
          ],
          "choropleth": [
           {
            "colorbar": {
             "outlinewidth": 0,
             "ticks": ""
            },
            "type": "choropleth"
           }
          ],
          "contour": [
           {
            "colorbar": {
             "outlinewidth": 0,
             "ticks": ""
            },
            "colorscale": [
             [
              0,
              "#0d0887"
             ],
             [
              0.1111111111111111,
              "#46039f"
             ],
             [
              0.2222222222222222,
              "#7201a8"
             ],
             [
              0.3333333333333333,
              "#9c179e"
             ],
             [
              0.4444444444444444,
              "#bd3786"
             ],
             [
              0.5555555555555556,
              "#d8576b"
             ],
             [
              0.6666666666666666,
              "#ed7953"
             ],
             [
              0.7777777777777778,
              "#fb9f3a"
             ],
             [
              0.8888888888888888,
              "#fdca26"
             ],
             [
              1,
              "#f0f921"
             ]
            ],
            "type": "contour"
           }
          ],
          "contourcarpet": [
           {
            "colorbar": {
             "outlinewidth": 0,
             "ticks": ""
            },
            "type": "contourcarpet"
           }
          ],
          "heatmap": [
           {
            "colorbar": {
             "outlinewidth": 0,
             "ticks": ""
            },
            "colorscale": [
             [
              0,
              "#0d0887"
             ],
             [
              0.1111111111111111,
              "#46039f"
             ],
             [
              0.2222222222222222,
              "#7201a8"
             ],
             [
              0.3333333333333333,
              "#9c179e"
             ],
             [
              0.4444444444444444,
              "#bd3786"
             ],
             [
              0.5555555555555556,
              "#d8576b"
             ],
             [
              0.6666666666666666,
              "#ed7953"
             ],
             [
              0.7777777777777778,
              "#fb9f3a"
             ],
             [
              0.8888888888888888,
              "#fdca26"
             ],
             [
              1,
              "#f0f921"
             ]
            ],
            "type": "heatmap"
           }
          ],
          "heatmapgl": [
           {
            "colorbar": {
             "outlinewidth": 0,
             "ticks": ""
            },
            "colorscale": [
             [
              0,
              "#0d0887"
             ],
             [
              0.1111111111111111,
              "#46039f"
             ],
             [
              0.2222222222222222,
              "#7201a8"
             ],
             [
              0.3333333333333333,
              "#9c179e"
             ],
             [
              0.4444444444444444,
              "#bd3786"
             ],
             [
              0.5555555555555556,
              "#d8576b"
             ],
             [
              0.6666666666666666,
              "#ed7953"
             ],
             [
              0.7777777777777778,
              "#fb9f3a"
             ],
             [
              0.8888888888888888,
              "#fdca26"
             ],
             [
              1,
              "#f0f921"
             ]
            ],
            "type": "heatmapgl"
           }
          ],
          "histogram": [
           {
            "marker": {
             "pattern": {
              "fillmode": "overlay",
              "size": 10,
              "solidity": 0.2
             }
            },
            "type": "histogram"
           }
          ],
          "histogram2d": [
           {
            "colorbar": {
             "outlinewidth": 0,
             "ticks": ""
            },
            "colorscale": [
             [
              0,
              "#0d0887"
             ],
             [
              0.1111111111111111,
              "#46039f"
             ],
             [
              0.2222222222222222,
              "#7201a8"
             ],
             [
              0.3333333333333333,
              "#9c179e"
             ],
             [
              0.4444444444444444,
              "#bd3786"
             ],
             [
              0.5555555555555556,
              "#d8576b"
             ],
             [
              0.6666666666666666,
              "#ed7953"
             ],
             [
              0.7777777777777778,
              "#fb9f3a"
             ],
             [
              0.8888888888888888,
              "#fdca26"
             ],
             [
              1,
              "#f0f921"
             ]
            ],
            "type": "histogram2d"
           }
          ],
          "histogram2dcontour": [
           {
            "colorbar": {
             "outlinewidth": 0,
             "ticks": ""
            },
            "colorscale": [
             [
              0,
              "#0d0887"
             ],
             [
              0.1111111111111111,
              "#46039f"
             ],
             [
              0.2222222222222222,
              "#7201a8"
             ],
             [
              0.3333333333333333,
              "#9c179e"
             ],
             [
              0.4444444444444444,
              "#bd3786"
             ],
             [
              0.5555555555555556,
              "#d8576b"
             ],
             [
              0.6666666666666666,
              "#ed7953"
             ],
             [
              0.7777777777777778,
              "#fb9f3a"
             ],
             [
              0.8888888888888888,
              "#fdca26"
             ],
             [
              1,
              "#f0f921"
             ]
            ],
            "type": "histogram2dcontour"
           }
          ],
          "mesh3d": [
           {
            "colorbar": {
             "outlinewidth": 0,
             "ticks": ""
            },
            "type": "mesh3d"
           }
          ],
          "parcoords": [
           {
            "line": {
             "colorbar": {
              "outlinewidth": 0,
              "ticks": ""
             }
            },
            "type": "parcoords"
           }
          ],
          "pie": [
           {
            "automargin": true,
            "type": "pie"
           }
          ],
          "scatter": [
           {
            "fillpattern": {
             "fillmode": "overlay",
             "size": 10,
             "solidity": 0.2
            },
            "type": "scatter"
           }
          ],
          "scatter3d": [
           {
            "line": {
             "colorbar": {
              "outlinewidth": 0,
              "ticks": ""
             }
            },
            "marker": {
             "colorbar": {
              "outlinewidth": 0,
              "ticks": ""
             }
            },
            "type": "scatter3d"
           }
          ],
          "scattercarpet": [
           {
            "marker": {
             "colorbar": {
              "outlinewidth": 0,
              "ticks": ""
             }
            },
            "type": "scattercarpet"
           }
          ],
          "scattergeo": [
           {
            "marker": {
             "colorbar": {
              "outlinewidth": 0,
              "ticks": ""
             }
            },
            "type": "scattergeo"
           }
          ],
          "scattergl": [
           {
            "marker": {
             "colorbar": {
              "outlinewidth": 0,
              "ticks": ""
             }
            },
            "type": "scattergl"
           }
          ],
          "scattermapbox": [
           {
            "marker": {
             "colorbar": {
              "outlinewidth": 0,
              "ticks": ""
             }
            },
            "type": "scattermapbox"
           }
          ],
          "scatterpolar": [
           {
            "marker": {
             "colorbar": {
              "outlinewidth": 0,
              "ticks": ""
             }
            },
            "type": "scatterpolar"
           }
          ],
          "scatterpolargl": [
           {
            "marker": {
             "colorbar": {
              "outlinewidth": 0,
              "ticks": ""
             }
            },
            "type": "scatterpolargl"
           }
          ],
          "scatterternary": [
           {
            "marker": {
             "colorbar": {
              "outlinewidth": 0,
              "ticks": ""
             }
            },
            "type": "scatterternary"
           }
          ],
          "surface": [
           {
            "colorbar": {
             "outlinewidth": 0,
             "ticks": ""
            },
            "colorscale": [
             [
              0,
              "#0d0887"
             ],
             [
              0.1111111111111111,
              "#46039f"
             ],
             [
              0.2222222222222222,
              "#7201a8"
             ],
             [
              0.3333333333333333,
              "#9c179e"
             ],
             [
              0.4444444444444444,
              "#bd3786"
             ],
             [
              0.5555555555555556,
              "#d8576b"
             ],
             [
              0.6666666666666666,
              "#ed7953"
             ],
             [
              0.7777777777777778,
              "#fb9f3a"
             ],
             [
              0.8888888888888888,
              "#fdca26"
             ],
             [
              1,
              "#f0f921"
             ]
            ],
            "type": "surface"
           }
          ],
          "table": [
           {
            "cells": {
             "fill": {
              "color": "#EBF0F8"
             },
             "line": {
              "color": "white"
             }
            },
            "header": {
             "fill": {
              "color": "#C8D4E3"
             },
             "line": {
              "color": "white"
             }
            },
            "type": "table"
           }
          ]
         },
         "layout": {
          "annotationdefaults": {
           "arrowcolor": "#2a3f5f",
           "arrowhead": 0,
           "arrowwidth": 1
          },
          "autotypenumbers": "strict",
          "coloraxis": {
           "colorbar": {
            "outlinewidth": 0,
            "ticks": ""
           }
          },
          "colorscale": {
           "diverging": [
            [
             0,
             "#8e0152"
            ],
            [
             0.1,
             "#c51b7d"
            ],
            [
             0.2,
             "#de77ae"
            ],
            [
             0.3,
             "#f1b6da"
            ],
            [
             0.4,
             "#fde0ef"
            ],
            [
             0.5,
             "#f7f7f7"
            ],
            [
             0.6,
             "#e6f5d0"
            ],
            [
             0.7,
             "#b8e186"
            ],
            [
             0.8,
             "#7fbc41"
            ],
            [
             0.9,
             "#4d9221"
            ],
            [
             1,
             "#276419"
            ]
           ],
           "sequential": [
            [
             0,
             "#0d0887"
            ],
            [
             0.1111111111111111,
             "#46039f"
            ],
            [
             0.2222222222222222,
             "#7201a8"
            ],
            [
             0.3333333333333333,
             "#9c179e"
            ],
            [
             0.4444444444444444,
             "#bd3786"
            ],
            [
             0.5555555555555556,
             "#d8576b"
            ],
            [
             0.6666666666666666,
             "#ed7953"
            ],
            [
             0.7777777777777778,
             "#fb9f3a"
            ],
            [
             0.8888888888888888,
             "#fdca26"
            ],
            [
             1,
             "#f0f921"
            ]
           ],
           "sequentialminus": [
            [
             0,
             "#0d0887"
            ],
            [
             0.1111111111111111,
             "#46039f"
            ],
            [
             0.2222222222222222,
             "#7201a8"
            ],
            [
             0.3333333333333333,
             "#9c179e"
            ],
            [
             0.4444444444444444,
             "#bd3786"
            ],
            [
             0.5555555555555556,
             "#d8576b"
            ],
            [
             0.6666666666666666,
             "#ed7953"
            ],
            [
             0.7777777777777778,
             "#fb9f3a"
            ],
            [
             0.8888888888888888,
             "#fdca26"
            ],
            [
             1,
             "#f0f921"
            ]
           ]
          },
          "colorway": [
           "#636efa",
           "#EF553B",
           "#00cc96",
           "#ab63fa",
           "#FFA15A",
           "#19d3f3",
           "#FF6692",
           "#B6E880",
           "#FF97FF",
           "#FECB52"
          ],
          "font": {
           "color": "#2a3f5f"
          },
          "geo": {
           "bgcolor": "white",
           "lakecolor": "white",
           "landcolor": "#E5ECF6",
           "showlakes": true,
           "showland": true,
           "subunitcolor": "white"
          },
          "hoverlabel": {
           "align": "left"
          },
          "hovermode": "closest",
          "mapbox": {
           "style": "light"
          },
          "paper_bgcolor": "white",
          "plot_bgcolor": "#E5ECF6",
          "polar": {
           "angularaxis": {
            "gridcolor": "white",
            "linecolor": "white",
            "ticks": ""
           },
           "bgcolor": "#E5ECF6",
           "radialaxis": {
            "gridcolor": "white",
            "linecolor": "white",
            "ticks": ""
           }
          },
          "scene": {
           "xaxis": {
            "backgroundcolor": "#E5ECF6",
            "gridcolor": "white",
            "gridwidth": 2,
            "linecolor": "white",
            "showbackground": true,
            "ticks": "",
            "zerolinecolor": "white"
           },
           "yaxis": {
            "backgroundcolor": "#E5ECF6",
            "gridcolor": "white",
            "gridwidth": 2,
            "linecolor": "white",
            "showbackground": true,
            "ticks": "",
            "zerolinecolor": "white"
           },
           "zaxis": {
            "backgroundcolor": "#E5ECF6",
            "gridcolor": "white",
            "gridwidth": 2,
            "linecolor": "white",
            "showbackground": true,
            "ticks": "",
            "zerolinecolor": "white"
           }
          },
          "shapedefaults": {
           "line": {
            "color": "#2a3f5f"
           }
          },
          "ternary": {
           "aaxis": {
            "gridcolor": "white",
            "linecolor": "white",
            "ticks": ""
           },
           "baxis": {
            "gridcolor": "white",
            "linecolor": "white",
            "ticks": ""
           },
           "bgcolor": "#E5ECF6",
           "caxis": {
            "gridcolor": "white",
            "linecolor": "white",
            "ticks": ""
           }
          },
          "title": {
           "x": 0.05
          },
          "xaxis": {
           "automargin": true,
           "gridcolor": "white",
           "linecolor": "white",
           "ticks": "",
           "title": {
            "standoff": 15
           },
           "zerolinecolor": "white",
           "zerolinewidth": 2
          },
          "yaxis": {
           "automargin": true,
           "gridcolor": "white",
           "linecolor": "white",
           "ticks": "",
           "title": {
            "standoff": 15
           },
           "zerolinecolor": "white",
           "zerolinewidth": 2
          }
         }
        },
        "title": {
         "text": "Monthly hourly mean cloud cover with sunrise and sunset times"
        },
        "xaxis": {
         "tickangle": -45,
         "tickmode": "array",
         "ticktext": [
          "Jan",
          "Feb",
          "Mar",
          "Apr",
          "May",
          "Jun",
          "Jul",
          "Aug",
          "Sep",
          "Oct",
          "Nov",
          "Dec"
         ],
         "tickvals": [
          0,
          1,
          2,
          3,
          4,
          5,
          6,
          7,
          8,
          9,
          10,
          11,
          12,
          13,
          14,
          15,
          16,
          17,
          18,
          19,
          20,
          21,
          22,
          23,
          24,
          25,
          26,
          27,
          28,
          29,
          30,
          31,
          32,
          33,
          34,
          35,
          36,
          37,
          38,
          39,
          40,
          41,
          42,
          43,
          44,
          45,
          46,
          47,
          48,
          49,
          50,
          51,
          52,
          53,
          54,
          55,
          56,
          57,
          58,
          59,
          60,
          61,
          62,
          63,
          64,
          65,
          66,
          67,
          68,
          69,
          70,
          71,
          72,
          73,
          74,
          75,
          76,
          77,
          78,
          79,
          80,
          81,
          82,
          83,
          84,
          85,
          86,
          87,
          88,
          89,
          90,
          91,
          92,
          93,
          94,
          95,
          96,
          97,
          98,
          99,
          100,
          101,
          102,
          103,
          104,
          105,
          106,
          107,
          108,
          109,
          110,
          111,
          112,
          113,
          114,
          115,
          116,
          117,
          118,
          119,
          120,
          121,
          122,
          123,
          124,
          125,
          126,
          127,
          128,
          129,
          130,
          131,
          132,
          133,
          134,
          135,
          136,
          137,
          138,
          139,
          140,
          141,
          142,
          143,
          144,
          145,
          146,
          147,
          148,
          149,
          150,
          151,
          152,
          153,
          154,
          155,
          156,
          157,
          158,
          159,
          160,
          161,
          162,
          163,
          164,
          165,
          166,
          167,
          168,
          169,
          170,
          171,
          172,
          173,
          174,
          175,
          176,
          177,
          178,
          179,
          180,
          181,
          182,
          183,
          184,
          185,
          186,
          187,
          188,
          189,
          190,
          191,
          192,
          193,
          194,
          195,
          196,
          197,
          198,
          199,
          200,
          201,
          202,
          203,
          204,
          205,
          206,
          207,
          208,
          209,
          210,
          211,
          212,
          213,
          214,
          215,
          216,
          217,
          218,
          219,
          220,
          221,
          222,
          223,
          224,
          225,
          226,
          227,
          228,
          229,
          230,
          231,
          232,
          233,
          234,
          235,
          236,
          237,
          238,
          239,
          240,
          241,
          242,
          243,
          244,
          245,
          246,
          247,
          248,
          249,
          250,
          251,
          252,
          253,
          254,
          255,
          256,
          257,
          258,
          259,
          260,
          261,
          262,
          263,
          264,
          265,
          266,
          267,
          268,
          269,
          270,
          271,
          272,
          273,
          274,
          275,
          276,
          277,
          278,
          279,
          280,
          281,
          282,
          283,
          284,
          285,
          286,
          287
         ],
         "title": {
          "text": "Month"
         }
        },
        "yaxis": {
         "dtick": 2,
         "title": {
          "text": "Hour of the day"
         }
        }
       }
      }
     },
     "metadata": {},
     "output_type": "display_data"
    }
   ],
   "source": [
    "# Create a graph with cloud cover values plus sunrise and sunset times\n",
    "\n",
    "# Get rid of the coding of the month/hour combination used for grouping before. \n",
    "month_values = hourly_mean_by_month['group'] // 100\n",
    "hour_values = hourly_mean_by_month['group'] % 100\n",
    "\n",
    "# Reshape the data to match the format expected by Plotly\n",
    "data_reshaped = hourly_mean_by_month.values.reshape((12, 24)).T  # Use -1 to automatically infer the size\n",
    "\n",
    "\n",
    "\n",
    "\n",
    "fig = go.Figure()\n",
    "\n",
    "fig.add_trace(go.Heatmap(\n",
    "    z=data_reshaped,\n",
    "    x=list(range(12)),\n",
    "    y=list(range(24)),\n",
    "    xgap = 5,\n",
    "    colorscale='gray_r',\n",
    "    colorbar=dict(title=\"Cloud Cover\"),\n",
    "))\n",
    "\n",
    "# Set x-axis tickvals and ticktext for each month\n",
    "fig.update_xaxes(\n",
    "    tickvals=list(range(len(month_values))),\n",
    "    ticktext=[f\"{month_name}\" for month_name in [\"Jan\", \"Feb\", \"Mar\", \"Apr\", \"May\", \"Jun\", \"Jul\", \"Aug\", \"Sep\", \"Oct\", \"Nov\", \"Dec\"]],\n",
    "    tickmode='array',  # Use 'array' for custom tickvals and ticktext\n",
    "    tickangle=-45,  # Rotate tick labels for better readability\n",
    ")\n",
    "\n",
    "# Set axis labels and title\n",
    "fig.update_layout(\n",
    "    title='Monthly hourly mean cloud cover with sunrise and sunset times',\n",
    "    yaxis_title='Hour of the day',\n",
    "    xaxis_title='Month',\n",
    ")\n",
    "\n",
    "\n",
    "\n",
    "# Set x-axis tickvals and ticktext for each day of the month\n",
    "\n",
    "\n",
    "# Add a line for sunset times\n",
    "fig.add_trace(go.Scatter(\n",
    "    x=list(range(12)),\n",
    "    y=[float('{:.2f}'.format(int(h) + int(m) / 60)) for h, m in [time.split(':') for time in sunset_times]],\n",
    "    mode='lines',\n",
    "    line=dict(color='rgb(150,0,255)', width=2),\n",
    "    name='Sunset'\n",
    "))\n",
    "\n",
    "# Add a line for sunrise times\n",
    "fig.add_trace(go.Scatter(\n",
    "    x=list(range(12)),\n",
    "    y=[float('{:.2f}'.format(int(h) + int(m) / 60)) for h, m in [time.split(':') for time in sunrise_times]],\n",
    "    mode='lines',\n",
    "    line=dict(color='rgb(255,65,0)', width=2),\n",
    "    \n",
    "    name='Sunrise'\n",
    "))\n",
    "\n",
    "\n",
    "# Update layout to show custom line in legend\n",
    "fig.update_layout(\n",
    "    showlegend=True,\n",
    "    legend=dict(x=1.02, y=1.15),\n",
    "    yaxis=dict(\n",
    "        dtick=2,)\n",
    ")\n",
    "\n",
    "\n",
    "# Show the plot\n",
    "\n",
    "fig.show()"
   ]
  },
  {
   "cell_type": "markdown",
   "metadata": {},
   "source": [
    "# PROJECTION DATA"
   ]
  },
  {
   "cell_type": "code",
   "execution_count": 18,
   "metadata": {},
   "outputs": [
    {
     "name": "stdout",
     "output_type": "stream",
     "text": [
      "['2015', '2016', '2017', '2018', '2019', '2020', '2021', '2022', '2023', '2024', '2025', '2026', '2027', '2028', '2029', '2030', '2031', '2032', '2033', '2034', '2035', '2036', '2037', '2038', '2039', '2040', '2041', '2042', '2043', '2044', '2045']\n",
      "download_air_temperature.grib\n",
      "download_eastward_near_surface_wind.grib\n",
      "download_northward_near_surface_wind.grib\n",
      "download_precipitation.grib\n"
     ]
    }
   ],
   "source": [
    "start_year = 2015\n",
    "end_year = 2045\n",
    "year_range_forecast = [str(i) for i in range(start_year, end_year + 1)]\n",
    "print(year_range)\n",
    "\n",
    "dataset_variables = ['air_temperature', 'eastward_near_surface_wind', 'northward_near_surface_wind', 'precipitation']\n",
    "for variable in dataset_variables:\n",
    "    print('download_' + variable + '.grib')"
   ]
  },
  {
   "cell_type": "code",
   "execution_count": 29,
   "metadata": {},
   "outputs": [
    {
     "name": "stderr",
     "output_type": "stream",
     "text": [
      "2023-12-04 12:12:05,097 INFO Welcome to the CDS\n",
      "2023-12-04 12:12:05,098 INFO Sending request to https://cds.climate.copernicus.eu/api/v2/resources/projections-cmip6\n",
      "2023-12-04 12:12:05,249 INFO Request is completed\n",
      "2023-12-04 12:12:05,251 INFO Downloading https://download-0007-clone.copernicus-climate.eu/cache-compute-0007/cache/data9/adaptor.esgf_wps.retrieve-1701685876.4409328-10818-12-494bff2c-5d9e-4fd3-845d-752e52dcf04b.zip to download.zip (210K)\n",
      "2023-12-04 12:12:06,646 INFO Download rate 150.7K/s\n",
      "2023-12-04 12:12:09,765 INFO Welcome to the CDS\n",
      "2023-12-04 12:12:09,766 INFO Sending request to https://cds.climate.copernicus.eu/api/v2/resources/projections-cmip6\n",
      "2023-12-04 12:12:09,864 INFO Downloading https://download-0018.copernicus-climate.eu/cache-compute-0018/cache/data9/adaptor.esgf_wps.retrieve-1701687316.5899117-18839-11-d7ce93ce-5098-45e4-8ed5-dd480729fc30.zip to download.zip (269.6K)\n"
     ]
    },
    {
     "name": "stdout",
     "output_type": "stream",
     "text": [
      "File saved at: c:\\Users\\matthias\\Documents\\Projects\\permaculture-climate\\download_air_temperature.grib\n"
     ]
    },
    {
     "name": "stderr",
     "output_type": "stream",
     "text": [
      "2023-12-04 12:12:11,371 INFO Download rate 179.2K/s\n"
     ]
    },
    {
     "name": "stdout",
     "output_type": "stream",
     "text": [
      "File saved at: c:\\Users\\matthias\\Documents\\Projects\\permaculture-climate\\download_eastward_near_surface_wind.grib\n"
     ]
    },
    {
     "name": "stderr",
     "output_type": "stream",
     "text": [
      "2023-12-04 12:12:15,360 INFO Welcome to the CDS\n",
      "2023-12-04 12:12:15,364 INFO Sending request to https://cds.climate.copernicus.eu/api/v2/resources/projections-cmip6\n",
      "2023-12-04 12:12:15,508 INFO Downloading https://download-0015-clone.copernicus-climate.eu/cache-compute-0015/cache/data6/adaptor.esgf_wps.retrieve-1701688023.2072248-7226-15-17a0f3fa-7dbe-4491-9296-06abf8e45f4a.zip to download.zip (258.9K)\n",
      "2023-12-04 12:12:18,309 INFO Download rate 92.5K/s\n",
      "2023-12-04 12:12:29,606 INFO Welcome to the CDS\n",
      "2023-12-04 12:12:29,608 INFO Sending request to https://cds.climate.copernicus.eu/api/v2/resources/projections-cmip6\n"
     ]
    },
    {
     "name": "stdout",
     "output_type": "stream",
     "text": [
      "File saved at: c:\\Users\\matthias\\Documents\\Projects\\permaculture-climate\\download_northward_near_surface_wind.grib\n"
     ]
    },
    {
     "name": "stderr",
     "output_type": "stream",
     "text": [
      "2023-12-04 12:12:30,036 INFO Downloading https://download-0011-clone.copernicus-climate.eu/cache-compute-0011/cache/data9/adaptor.esgf_wps.retrieve-1701687663.886994-10646-15-501ccc0a-32ad-43f1-8704-7cc6b52b7507.zip to download.zip (277.4K)\n",
      "2023-12-04 12:12:32,777 INFO Download rate 101.2K/s\n"
     ]
    },
    {
     "name": "stdout",
     "output_type": "stream",
     "text": [
      "File saved at: c:\\Users\\matthias\\Documents\\Projects\\permaculture-climate\\download_precipitation.grib\n",
      "Downloads completed\n"
     ]
    }
   ],
   "source": [
    "c = cdsapi.Client()\n",
    "\n",
    "dataset_variables = ['air_temperature', 'eastward_near_surface_wind', 'northward_near_surface_wind', 'precipitation']\n",
    "for variable in dataset_variables:\n",
    "    #create a loop as air temperature also needs 'level' while the others dont\n",
    "    if variable == 'air_temperature':            \n",
    "        data = c.retrieve(\n",
    "            'projections-cmip6',\n",
    "            {\n",
    "                'format': 'zip',\n",
    "                'temporal_resolution': 'monthly',\n",
    "                'variable': variable,\n",
    "                'experiment': 'ssp2_4_5',\n",
    "                'model': 'cmcc_esm2',\n",
    "                'area':[location.latitude + 1, \n",
    "                    location.longitude - 1, \n",
    "                    location.latitude - 1, \n",
    "                    location.longitude + 1],  # North, West, South, East. \n",
    "                'month': [\n",
    "                    '01', '02', '03',\n",
    "                    '04', '05', '06',\n",
    "                    '07', '08', '09',\n",
    "                    '10', '11', '12',\n",
    "                ],\n",
    "                'year': year_range_forecast,\n",
    "                'level': '1000',\n",
    "            },\n",
    "            'download.zip')\n",
    "        url = data.location\n",
    "\n",
    "        # Download the file\n",
    "        response = requests.get(url)\n",
    "\n",
    "       # Check if the request was successful\n",
    "        response.raise_for_status()\n",
    "    else:         \n",
    "        data = c.retrieve(\n",
    "            'projections-cmip6',\n",
    "            {\n",
    "                'format': 'zip',\n",
    "                'temporal_resolution': 'monthly',\n",
    "                'variable': variable,\n",
    "                'experiment': 'ssp2_4_5',\n",
    "                'model': 'cmcc_esm2',\n",
    "                'area':[location.latitude + 1, \n",
    "                    location.longitude - 1, \n",
    "                    location.latitude - 1, \n",
    "                    location.longitude + 1],  # North, West, South, East. \n",
    "                'month': [\n",
    "                    '01', '02', '03',\n",
    "                    '04', '05', '06',\n",
    "                    '07', '08', '09',\n",
    "                    '10', '11', '12',\n",
    "                ],\n",
    "                'year': year_range_forecast,\n",
    "                \n",
    "            },\n",
    "            'download.zip')    \n",
    "    # Get the location of the file to download\n",
    "        url = data.location\n",
    "\n",
    "        # Download the file\n",
    "        response = requests.get(url)\n",
    "\n",
    "        # Check if the request was successful\n",
    "        response.raise_for_status()\n",
    "\n",
    "    # If the request was successful, write the file\n",
    "    filename = 'download_' + variable + '.grib'\n",
    "    with open(filename, 'wb') as f:\n",
    "        f.write(response.content)\n",
    "\n",
    "        # Print the location where the file is saved\n",
    "        print(f\"File saved at: {os.path.abspath(filename)}\")\n",
    "print('Downloads completed')\n",
    "\n"
   ]
  }
 ],
 "metadata": {
  "kernelspec": {
   "display_name": "climate_permaculture",
   "language": "python",
   "name": "python3"
  },
  "language_info": {
   "codemirror_mode": {
    "name": "ipython",
    "version": 3
   },
   "file_extension": ".py",
   "mimetype": "text/x-python",
   "name": "python",
   "nbconvert_exporter": "python",
   "pygments_lexer": "ipython3",
   "version": "3.12.0"
  }
 },
 "nbformat": 4,
 "nbformat_minor": 2
}

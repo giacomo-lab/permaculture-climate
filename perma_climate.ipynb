{
 "cells": [
  {
   "cell_type": "code",
   "execution_count": 1,
   "metadata": {},
   "outputs": [],
   "source": [
    "import cdsapi\n",
    "import xarray as xr\n",
    "import numpy as np\n",
    "import pandas as pd\n",
    "import time\n",
    "import requests\n",
    "import os\n",
    "import xarray as xr\n",
    "import zipfile\n",
    "import dask\n",
    "\n",
    "import plotly.graph_objects as go\n",
    "from plotly.subplots import make_subplots\n",
    "import plotly.express as px\n",
    "import plotly\n",
    "\n",
    "\n",
    "import numpy as np\n",
    "import matplotlib.pyplot as plt #\n",
    "import matplotlib.colors #\n",
    "\n",
    "from geopy.geocoders import Nominatim\n",
    "from datetime import datetime\n",
    "import timezonefinder\n",
    "from astral.sun import sun\n",
    "from astral.location import LocationInfo"
   ]
  },
  {
   "cell_type": "markdown",
   "metadata": {},
   "source": [
    "# Download and prepare the data \n",
    "\n",
    "## Past data\n",
    "In this first section we download and prepare the data for the last 30 years, the dataset is the [ERA5 monthly averaged data on single levels from 1940 to present](https://cds.climate.copernicus.eu/cdsapp#!/dataset/reanalysis-era5-single-levels-monthly-means?tab=overview).\n"
   ]
  },
  {
   "cell_type": "code",
   "execution_count": 13,
   "metadata": {},
   "outputs": [],
   "source": [
    "# select the years you want to download\n",
    "start_year = 1992\n",
    "end_year = 2022\n",
    "year_range = [i for i in range(start_year, end_year + 1)]\n",
    "\n",
    "\n",
    "# Use geopy to get the latitude and longitude of the city\n",
    "geolocator = Nominatim(user_agent=\"permaculture-climate\")\n",
    "location = geolocator.geocode(\"Puebla de don Fadrique, Spain\")\n",
    "# Add a delay between requests\n",
    "time.sleep(1)\n"
   ]
  },
  {
   "cell_type": "code",
   "execution_count": 9,
   "metadata": {},
   "outputs": [
    {
     "name": "stderr",
     "output_type": "stream",
     "text": [
      "2023-12-17 15:06:55,847 INFO Welcome to the CDS\n",
      "2023-12-17 15:06:55,849 INFO Sending request to https://cds.climate.copernicus.eu/api/v2/resources/reanalysis-era5-single-levels-monthly-means\n",
      "2023-12-17 15:06:56,235 INFO Request is completed\n"
     ]
    },
    {
     "name": "stdout",
     "output_type": "stream",
     "text": [
      "File saved at: c:\\Users\\matthias\\Documents\\Projects\\permaculture-climate\\past_climate.grib\n"
     ]
    }
   ],
   "source": [
    "#API Call to download past climate data\n",
    "c = cdsapi.Client()\n",
    "try:\n",
    "    data = c.retrieve(\"reanalysis-era5-single-levels-monthly-means\",\n",
    "    {\"format\": \"grib\",\n",
    "     \"product_type\": \"monthly_averaged_reanalysis_by_hour_of_day\",\n",
    "     \"variable\": ['10m_u_component_of_wind', '10m_v_component_of_wind', \n",
    "                '2m_temperature',\n",
    "                'total_cloud_cover', \n",
    "                'total_precipitation',\n",
    "                '2m_dewpoint_temperature',\n",
    "                ],\n",
    "    \"area\": [location.latitude + 1, \n",
    "             location.longitude - 1, \n",
    "             location.latitude - 1, \n",
    "             location.longitude + 1],  # North, West, South, East. \n",
    "    \"year\": year_range,\n",
    "    \"month\": ['01', '02', '03',\n",
    "           '04', '05', '06',\n",
    "           '07', '08', '09',\n",
    "           '10', '11', '12'],\n",
    "    \"time\": [\"00:00\",\"01:00\",\"02:00\",\"03:00\",\"04:00\",\"05:00\",\n",
    "             \"06:00\",\"07:00\",\"08:00\",\"09:00\",\"10:00\",\"11:00\",\n",
    "             \"12:00\", \"13:00\",\"14:00\",\"15:00\",\"16:00\",\"17:00\",\n",
    "             \"18:00\",\"19:00\",\"20:00\",\"21:00\",\"22:00\",\"23:00\"]\n",
    "    })\n",
    "\n",
    "    # Get the location of the file to download\n",
    "    url = data.location\n",
    "\n",
    "    # Download the file\n",
    "    response = requests.get(url)\n",
    "\n",
    "    # Check if the request was successful\n",
    "    response.raise_for_status()\n",
    "\n",
    "except requests.exceptions.HTTPError as errh:\n",
    "    print (\"HTTP Error:\",errh)\n",
    "except requests.exceptions.ConnectionError as errc:\n",
    "    print (\"Error Connecting:\",errc)\n",
    "except requests.exceptions.Timeout as errt:\n",
    "    print (\"Timeout Error:\",errt)\n",
    "except requests.exceptions.RequestException as err:\n",
    "    print (\"Something went wrong with the request:\",err)\n",
    "\n",
    "else:\n",
    "    # If the request was successful, write the file\n",
    "    filename = 'past_climate.grib'\n",
    "    with open(filename, 'wb') as f:\n",
    "        f.write(response.content)\n",
    "\n",
    "    # Print the location where the file is saved\n",
    "    print(f\"File saved at: {os.path.abspath(filename)}\")"
   ]
  },
  {
   "cell_type": "code",
   "execution_count": 2,
   "metadata": {},
   "outputs": [
    {
     "name": "stdout",
     "output_type": "stream",
     "text": [
      "{'2t': <xarray.Dataset>\n",
      "Dimensions:     (time: 8928, latitude: 9, longitude: 9)\n",
      "Coordinates:\n",
      "    number      int64 ...\n",
      "  * time        (time) datetime64[ns] 1992-01-01 ... 2022-12-01T23:00:00\n",
      "    step        timedelta64[ns] ...\n",
      "    surface     float64 ...\n",
      "  * latitude    (latitude) float64 38.96 38.71 38.46 38.21 ... 37.46 37.21 36.96\n",
      "  * longitude   (longitude) float64 -3.435 -3.185 -2.935 ... -1.934 -1.684 358.6\n",
      "    valid_time  (time) datetime64[ns] ...\n",
      "Data variables:\n",
      "    t2m         (time, latitude, longitude) float32 ...\n",
      "Attributes:\n",
      "    GRIB_edition:            1\n",
      "    GRIB_centre:             ecmf\n",
      "    GRIB_centreDescription:  European Centre for Medium-Range Weather Forecasts\n",
      "    GRIB_subCentre:          0\n",
      "    Conventions:             CF-1.7\n",
      "    institution:             European Centre for Medium-Range Weather Forecasts\n",
      "    history:                 2023-12-19T14:39 GRIB to CDM+CF via cfgrib-0.9.1..., '10v': <xarray.Dataset>\n",
      "Dimensions:     (time: 8928, latitude: 9, longitude: 9)\n",
      "Coordinates:\n",
      "    number      int64 ...\n",
      "  * time        (time) datetime64[ns] 1992-01-01 ... 2022-12-01T23:00:00\n",
      "    step        timedelta64[ns] ...\n",
      "    surface     float64 ...\n",
      "  * latitude    (latitude) float64 38.96 38.71 38.46 38.21 ... 37.46 37.21 36.96\n",
      "  * longitude   (longitude) float64 -3.435 -3.185 -2.935 ... -1.934 -1.684 358.6\n",
      "    valid_time  (time) datetime64[ns] ...\n",
      "Data variables:\n",
      "    v10         (time, latitude, longitude) float32 ...\n",
      "Attributes:\n",
      "    GRIB_edition:            1\n",
      "    GRIB_centre:             ecmf\n",
      "    GRIB_centreDescription:  European Centre for Medium-Range Weather Forecasts\n",
      "    GRIB_subCentre:          0\n",
      "    Conventions:             CF-1.7\n",
      "    institution:             European Centre for Medium-Range Weather Forecasts\n",
      "    history:                 2023-12-19T14:39 GRIB to CDM+CF via cfgrib-0.9.1..., '10u': <xarray.Dataset>\n",
      "Dimensions:     (time: 8928, latitude: 9, longitude: 9)\n",
      "Coordinates:\n",
      "    number      int64 ...\n",
      "  * time        (time) datetime64[ns] 1992-01-01 ... 2022-12-01T23:00:00\n",
      "    step        timedelta64[ns] ...\n",
      "    surface     float64 ...\n",
      "  * latitude    (latitude) float64 38.96 38.71 38.46 38.21 ... 37.46 37.21 36.96\n",
      "  * longitude   (longitude) float64 -3.435 -3.185 -2.935 ... -1.934 -1.684 358.6\n",
      "    valid_time  (time) datetime64[ns] ...\n",
      "Data variables:\n",
      "    u10         (time, latitude, longitude) float32 ...\n",
      "Attributes:\n",
      "    GRIB_edition:            1\n",
      "    GRIB_centre:             ecmf\n",
      "    GRIB_centreDescription:  European Centre for Medium-Range Weather Forecasts\n",
      "    GRIB_subCentre:          0\n",
      "    Conventions:             CF-1.7\n",
      "    institution:             European Centre for Medium-Range Weather Forecasts\n",
      "    history:                 2023-12-19T14:39 GRIB to CDM+CF via cfgrib-0.9.1..., 'tp': <xarray.Dataset>\n",
      "Dimensions:     (time: 1116, step: 12, latitude: 9, longitude: 9)\n",
      "Coordinates:\n",
      "    number      int64 ...\n",
      "  * time        (time) datetime64[ns] 1991-12-31T18:00:00 ... 2022-12-01T18:0...\n",
      "  * step        (step) timedelta64[ns] 01:00:00 02:00:00 ... 11:00:00 12:00:00\n",
      "    surface     float64 ...\n",
      "  * latitude    (latitude) float64 38.96 38.71 38.46 38.21 ... 37.46 37.21 36.96\n",
      "  * longitude   (longitude) float64 -3.435 -3.185 -2.935 ... -1.934 -1.684 358.6\n",
      "    valid_time  (time, step) datetime64[ns] ...\n",
      "Data variables:\n",
      "    tp          (time, step, latitude, longitude) float32 ...\n",
      "Attributes:\n",
      "    GRIB_edition:            1\n",
      "    GRIB_centre:             ecmf\n",
      "    GRIB_centreDescription:  European Centre for Medium-Range Weather Forecasts\n",
      "    GRIB_subCentre:          0\n",
      "    Conventions:             CF-1.7\n",
      "    institution:             European Centre for Medium-Range Weather Forecasts\n",
      "    history:                 2023-12-19T14:39 GRIB to CDM+CF via cfgrib-0.9.1..., 'tcc': <xarray.Dataset>\n",
      "Dimensions:     (time: 8928, latitude: 9, longitude: 9)\n",
      "Coordinates:\n",
      "    number      int64 ...\n",
      "  * time        (time) datetime64[ns] 1992-01-01 ... 2022-12-01T23:00:00\n",
      "    step        timedelta64[ns] ...\n",
      "    surface     float64 ...\n",
      "  * latitude    (latitude) float64 38.96 38.71 38.46 38.21 ... 37.46 37.21 36.96\n",
      "  * longitude   (longitude) float64 -3.435 -3.185 -2.935 ... -1.934 -1.684 358.6\n",
      "    valid_time  (time) datetime64[ns] ...\n",
      "Data variables:\n",
      "    tcc         (time, latitude, longitude) float32 ...\n",
      "Attributes:\n",
      "    GRIB_edition:            1\n",
      "    GRIB_centre:             ecmf\n",
      "    GRIB_centreDescription:  European Centre for Medium-Range Weather Forecasts\n",
      "    GRIB_subCentre:          0\n",
      "    Conventions:             CF-1.7\n",
      "    institution:             European Centre for Medium-Range Weather Forecasts\n",
      "    history:                 2023-12-19T14:39 GRIB to CDM+CF via cfgrib-0.9.1..., '2d': <xarray.Dataset>\n",
      "Dimensions:     (time: 8928, latitude: 9, longitude: 9)\n",
      "Coordinates:\n",
      "    number      int64 ...\n",
      "  * time        (time) datetime64[ns] 1992-01-01 ... 2022-12-01T23:00:00\n",
      "    step        timedelta64[ns] ...\n",
      "    surface     float64 ...\n",
      "  * latitude    (latitude) float64 38.96 38.71 38.46 38.21 ... 37.46 37.21 36.96\n",
      "  * longitude   (longitude) float64 -3.435 -3.185 -2.935 ... -1.934 -1.684 358.6\n",
      "    valid_time  (time) datetime64[ns] ...\n",
      "Data variables:\n",
      "    d2m         (time, latitude, longitude) float32 ...\n",
      "Attributes:\n",
      "    GRIB_edition:            1\n",
      "    GRIB_centre:             ecmf\n",
      "    GRIB_centreDescription:  European Centre for Medium-Range Weather Forecasts\n",
      "    GRIB_subCentre:          0\n",
      "    Conventions:             CF-1.7\n",
      "    institution:             European Centre for Medium-Range Weather Forecasts\n",
      "    history:                 2023-12-19T14:39 GRIB to CDM+CF via cfgrib-0.9.1...}\n"
     ]
    }
   ],
   "source": [
    "# List of variables to load\n",
    "variables = ['2t','10v','10u','tp','tcc', '2d']\n",
    "\n",
    "# Dictionary to hold the datasets\n",
    "datasets = {}\n",
    "\n",
    "# Open the GRIB file for each variable using the short name parameter\n",
    "for var in variables:\n",
    "    ds = xr.open_dataset('past_climate.grib', engine='cfgrib', backend_kwargs={'filter_by_keys': {'shortName': var}})\n",
    "    datasets[var] = ds\n",
    "\n",
    "# Print the datasets just to check if everything worked\n",
    "print(datasets)"
   ]
  },
  {
   "cell_type": "code",
   "execution_count": 3,
   "metadata": {},
   "outputs": [],
   "source": [
    "#calculating relative humidity using temperature and dewpoint temperature\n",
    "def rh(dewpoint, temperature):\n",
    "    return 100*(np.exp((17.625*dewpoint)/(243.04+dewpoint))/np.exp((17.625*temperature)/(243.04+temperature)))\n",
    "\n",
    "rh_all = rh(datasets['2d']['d2m']-273.15, datasets['2t']['t2m']-273.15)\n",
    "\n",
    "datasets['rh'] = xr.Dataset({'rh': xr.DataArray(rh_all, coords=datasets['2d']['d2m'].coords, dims=datasets['2d']['d2m'].dims)})"
   ]
  },
  {
   "cell_type": "code",
   "execution_count": 4,
   "metadata": {},
   "outputs": [
    {
     "name": "stdout",
     "output_type": "stream",
     "text": [
      "Calculating precipitation \n",
      "Calculating temperature\n",
      "Calculating relative humidity\n",
      "Calculating winds\n",
      "Calculating total cloud cover\n"
     ]
    },
    {
     "name": "stderr",
     "output_type": "stream",
     "text": [
      "/Users/giacomo/.pyenv/versions/3.9.7/envs/climate_permaculture/lib/python3.9/site-packages/xarray/core/indexing.py:1446: PerformanceWarning: Slicing with an out-of-order index is generating 31 times more chunks\n",
      "  return self.array[key]\n",
      "/Users/giacomo/.pyenv/versions/3.9.7/envs/climate_permaculture/lib/python3.9/site-packages/xarray/core/indexing.py:1446: PerformanceWarning: Slicing with an out-of-order index is generating 31 times more chunks\n",
      "  return self.array[key]\n"
     ]
    },
    {
     "name": "stdout",
     "output_type": "stream",
     "text": [
      "Climatology calculated\n"
     ]
    }
   ],
   "source": [
    "#calculate different means and conversions. Parallelized the process to make it significantly faster\n",
    "\n",
    "# Chunk the data\n",
    "datasets['tp']['tp'] = datasets['tp']['tp'].chunk({'time': -1})\n",
    "datasets['2t']['t2m'] = datasets['2t']['t2m'].chunk({'time': -1})\n",
    "datasets['rh']['rh'] = datasets['rh']['rh'].chunk({'time': -1}) \n",
    "datasets['10u']['u10'] = datasets['10u']['u10'].chunk({'time': -1})\n",
    "datasets['10v']['v10'] = datasets['10v']['v10'].chunk({'time': -1})\n",
    "datasets['tcc']['tcc'] = datasets['tcc']['tcc'].chunk({'time': -1})\n",
    "\n",
    "with dask.config.set(scheduler='threads'):  \n",
    "    print(\"Calculating precipitation \")\n",
    "    # Calculate the climatology and average over latitude and longitude. \n",
    "    \n",
    "    # Average precipitation. Converting from m per hour to mm per month\n",
    "    days_per_month = [31, 28.25, 31, 30, 31, 30, 31, 31, 30, 31, 30, 31]\n",
    "    avg_prec = datasets['tp']['tp'].groupby('time.month').mean(['time', 'latitude', 'longitude', 'step']).compute()*1000 * 24 * days_per_month\n",
    "    print(\"Calculating temperature\")\n",
    "    \n",
    "    #average temperatur. Convert from K to C\n",
    "    mean_spatial_temp = datasets['2t']['t2m'].mean(['latitude', 'longitude'])-273.15\n",
    "    avg_temp = mean_spatial_temp.groupby('time.month').mean(['time'])\n",
    "    mean_spatial_temp['month_year'] = mean_spatial_temp['time'].dt.strftime('%Y-%m')\n",
    "    \n",
    "    #Calculate average max temp\n",
    "    max_monthly_temp = mean_spatial_temp.groupby('month_year').max()\n",
    "    max_monthly_temp['month'] = max_monthly_temp['month_year'].str.slice(start=5, stop=7).astype(int)\n",
    "    mean_max_temp = max_monthly_temp.groupby('month').mean()\n",
    "\n",
    "    #calculate average min temperature\n",
    "    min_monthly_temp = mean_spatial_temp.groupby('month_year').min()\n",
    "    min_monthly_temp['month'] = min_monthly_temp['month_year'].str.slice(start=5, stop=7).astype(int)\n",
    "    mean_min_temp = min_monthly_temp.groupby('month').mean() \n",
    "    \n",
    "    print(\"Calculating relative humidity\")\n",
    "    \n",
    "    #relative humidity\n",
    "    mean_spatial_rh = datasets['rh']['rh'].mean(['latitude', 'longitude'])\n",
    "    avg_rh = mean_spatial_rh.groupby('time.month').mean(['time'])\n",
    "    mean_spatial_rh['month_year'] = mean_spatial_rh['time'].dt.strftime('%Y-%m')\n",
    "    \n",
    "    #calculate average max rh\n",
    "    max_monthly_rh = mean_spatial_rh.groupby('month_year').max()\n",
    "    max_monthly_rh['month'] = max_monthly_rh['month_year'].str.slice(start=5, stop=7).astype(int)\n",
    "    mean_max_rh = max_monthly_rh.groupby('month').mean()\n",
    "    \n",
    "    #calculate average min rh\n",
    "    min_monthly_rh = mean_spatial_rh.groupby('month_year').min()\n",
    "    min_monthly_rh['month'] = min_monthly_rh['month_year'].str.slice(start=5, stop=7).astype(int)\n",
    "    mean_min_rh = min_monthly_rh.groupby('month').mean()\n",
    "    \n",
    "    print(\"Calculating winds\")\n",
    "       \n",
    "    #Average winds\n",
    "    avg_u = datasets['10u']['u10'].groupby('time.month').mean(['latitude', 'longitude'])\n",
    "    avg_v = datasets['10v']['v10'].groupby('time.month').mean(['latitude', 'longitude'])\n",
    "    \n",
    "    print(\"Calculating total cloud cover\")\n",
    "\n",
    "    #Get rid of the latitude and longitude dimensions by averaging the data\n",
    "    avg_tcc_spatial = datasets['tcc']['tcc'].mean(['longitude', 'latitude'])\n",
    "\n",
    "\n",
    "    #Now average the data of each hour of each month across the 30 years of data. We end up with 288 data points, representing 24 h per month\n",
    "    month_hour_grouped = avg_tcc_spatial.groupby(avg_tcc_spatial['time.month'] * 100 + avg_tcc_spatial['time.hour'])\n",
    "    avg_tcc = month_hour_grouped.mean(dim='time')\n",
    "    \n",
    "    print(\"Climatology calculated\")\n",
    "    \n",
    "# Convert Dask DataFrames back to pandas DataFrames\n",
    "avg_prec = avg_prec.compute()\n",
    "avg_temp = avg_temp.compute()\n",
    "mean_max_temp = mean_max_temp.compute()\n",
    "mean_min_temp = mean_min_temp.compute()\n",
    "avg_rh = avg_rh.compute()\n",
    "mean_max_rh = mean_max_rh.compute()\n",
    "mean_min_rh = mean_min_rh.compute()\n",
    "avg_u = avg_u.compute()\n",
    "avg_v = avg_v.compute()\n",
    "avg_tcc = avg_tcc.compute()\n"
   ]
  },
  {
   "cell_type": "markdown",
   "metadata": {},
   "source": [
    "## Projected data\n",
    "\n",
    "In this section we download and prepare projected data coming from the [CMIP6 climate projections](https://cds.climate.copernicus.eu/cdsapp#!/dataset/projections-cmip6?tab=overview). The selected scenario is the ssp2 scenario with 4.5 °C warming. "
   ]
  },
  {
   "cell_type": "code",
   "execution_count": 14,
   "metadata": {},
   "outputs": [],
   "source": [
    "# select the future years range\n",
    "start_year_forecast = 2016\n",
    "end_year_forecast = 2046\n",
    "year_range_forecast = [str(i) for i in range(start_year_forecast, end_year_forecast + 1)]\n",
    "\n",
    "#variables that will be downloaded\n",
    "dataset_variables = ['near_surface_relative_humidity', 'near_surface_air_temperature', 'eastward_near_surface_wind', \n",
    "                     'northward_near_surface_wind', 'precipitation']\n"
   ]
  },
  {
   "cell_type": "markdown",
   "metadata": {},
   "source": [
    "### Rainfall and temperatures"
   ]
  },
  {
   "cell_type": "code",
   "execution_count": 15,
   "metadata": {},
   "outputs": [
    {
     "name": "stderr",
     "output_type": "stream",
     "text": [
      "2023-12-19 14:42:41,995 INFO Welcome to the CDS\n",
      "2023-12-19 14:42:41,996 INFO Sending request to https://cds.climate.copernicus.eu/api/v2/resources/projections-cmip6\n",
      "2023-12-19 14:42:42,462 INFO Request is queued\n",
      "2023-12-19 14:42:43,519 INFO Request is running\n",
      "2023-12-19 14:55:01,624 INFO Request is completed\n",
      "2023-12-19 14:55:01,641 INFO Downloading https://download-0004-clone.copernicus-climate.eu/cache-compute-0004/cache/data5/adaptor.esgf_wps.retrieve-1702994052.5040371-20583-4-71b0cd58-5e2c-4580-9d1e-3d108a869f23.zip to near_surface_relative_humidity.zip (216.4K)\n",
      "2023-12-19 14:55:03,071 INFO Download rate 151.4K/s\n",
      "2023-12-19 14:55:03,431 INFO Welcome to the CDS\n",
      "2023-12-19 14:55:03,433 INFO Sending request to https://cds.climate.copernicus.eu/api/v2/resources/projections-cmip6\n"
     ]
    },
    {
     "name": "stdout",
     "output_type": "stream",
     "text": [
      "File saved at: /Users/giacomo/Documents/projects/permaculture-climate/near_surface_relative_humidity.zip\n"
     ]
    },
    {
     "name": "stderr",
     "output_type": "stream",
     "text": [
      "2023-12-19 14:55:03,659 INFO Downloading https://download-0007-clone.copernicus-climate.eu/cache-compute-0007/cache/data6/adaptor.esgf_wps.retrieve-1702897804.881354-1204-9-f8c5182f-4783-4f01-bba7-9eef865d6c87.zip to near_surface_air_temperature.zip (234.4K)\n",
      "2023-12-19 14:55:04,392 INFO Download rate 320.1K/s\n",
      "2023-12-19 14:55:04,883 INFO Welcome to the CDS\n",
      "2023-12-19 14:55:04,884 INFO Sending request to https://cds.climate.copernicus.eu/api/v2/resources/projections-cmip6\n"
     ]
    },
    {
     "name": "stdout",
     "output_type": "stream",
     "text": [
      "File saved at: /Users/giacomo/Documents/projects/permaculture-climate/near_surface_air_temperature.zip\n"
     ]
    },
    {
     "name": "stderr",
     "output_type": "stream",
     "text": [
      "2023-12-19 14:55:05,055 INFO Downloading https://download-0012-clone.copernicus-climate.eu/cache-compute-0012/cache/data3/adaptor.esgf_wps.retrieve-1702897907.5961428-30681-7-8bef1012-dd55-45fe-a742-543fa05c89aa.zip to eastward_near_surface_wind.zip (211.7K)\n",
      "2023-12-19 14:55:05,462 INFO Download rate 527.3K/s\n",
      "2023-12-19 14:55:05,868 INFO Welcome to the CDS\n",
      "2023-12-19 14:55:05,869 INFO Sending request to https://cds.climate.copernicus.eu/api/v2/resources/projections-cmip6\n",
      "2023-12-19 14:55:06,004 INFO Downloading https://download-0012-clone.copernicus-climate.eu/cache-compute-0012/cache/data9/adaptor.esgf_wps.retrieve-1702897934.2657735-30738-15-c7c8d945-1bc2-4f0b-8b03-bb02e6e68b64.zip to northward_near_surface_wind.zip (212.6K)\n"
     ]
    },
    {
     "name": "stdout",
     "output_type": "stream",
     "text": [
      "File saved at: /Users/giacomo/Documents/projects/permaculture-climate/eastward_near_surface_wind.zip\n"
     ]
    },
    {
     "name": "stderr",
     "output_type": "stream",
     "text": [
      "2023-12-19 14:55:06,117 INFO Download rate 1.9M/s\n",
      "2023-12-19 14:55:06,523 INFO Welcome to the CDS\n",
      "2023-12-19 14:55:06,524 INFO Sending request to https://cds.climate.copernicus.eu/api/v2/resources/projections-cmip6\n"
     ]
    },
    {
     "name": "stdout",
     "output_type": "stream",
     "text": [
      "File saved at: /Users/giacomo/Documents/projects/permaculture-climate/northward_near_surface_wind.zip\n"
     ]
    },
    {
     "name": "stderr",
     "output_type": "stream",
     "text": [
      "2023-12-19 14:55:06,733 INFO Downloading https://download-0006-clone.copernicus-climate.eu/cache-compute-0006/cache/data4/adaptor.esgf_wps.retrieve-1702897958.7588747-13741-7-57b4e28f-3e98-40c6-917e-126fd8ee3a52.zip to precipitation.zip (211.7K)\n",
      "2023-12-19 14:55:07,140 INFO Download rate 521.3K/s\n"
     ]
    },
    {
     "name": "stdout",
     "output_type": "stream",
     "text": [
      "File saved at: /Users/giacomo/Documents/projects/permaculture-climate/precipitation.zip\n",
      "Downloads completed\n"
     ]
    }
   ],
   "source": [
    "# Send API requests for the prediction data specified in dataset_variables. Each request returns a folder.zip\n",
    "\n",
    "c = cdsapi.Client()\n",
    "\n",
    "for variable in dataset_variables:\n",
    "        #create an if statement, as certain variables also include level, while others dont\n",
    "\n",
    "\n",
    "    data = c.retrieve(\n",
    "        'projections-cmip6',\n",
    "        {\n",
    "            'format': 'zip',\n",
    "            'temporal_resolution': 'monthly',\n",
    "            'variable': variable,\n",
    "            'experiment': 'ssp2_4_5',\n",
    "            'model': 'ec_earth3_cc',\n",
    "            'area':[location.latitude + 1, \n",
    "                location.longitude - 1, \n",
    "                location.latitude - 1, \n",
    "                location.longitude + 1],  # North, West, South, East. \n",
    "            'month': [\n",
    "                '01', '02', '03',\n",
    "                '04', '05', '06',\n",
    "                '07', '08', '09',\n",
    "                '10', '11', '12',\n",
    "            ],\n",
    "            'year': year_range_forecast,\n",
    "\n",
    "        },\n",
    "        variable + '.zip')    \n",
    "    #selectt the location of the file to download\n",
    "    url = data.location\n",
    "    # Download the file\n",
    "    response = requests.get(url)\n",
    "    # Check if the request was successful\n",
    "    response.raise_for_status()\n",
    "\n",
    "    # If the request was successful, write the file\n",
    "    filename = variable + '.zip'\n",
    "    with open(filename, 'wb') as f:\n",
    "        f.write(response.content)\n",
    "\n",
    "        # Print the location where the file is saved\n",
    "        print(f\"File saved at: {os.path.abspath(filename)}\")\n",
    "print('Downloads completed')\n",
    "\n"
   ]
  },
  {
   "cell_type": "code",
   "execution_count": 16,
   "metadata": {},
   "outputs": [
    {
     "name": "stdout",
     "output_type": "stream",
     "text": [
      "Files from northward_near_surface_wind.zip extracted to: prediction_data/northward_near_surface_wind\n",
      "Files from near_surface_air_temperature.zip extracted to: prediction_data/near_surface_air_temperature\n",
      "Files from precipitation.zip extracted to: prediction_data/precipitation\n",
      "Files from near_surface_relative_humidity.zip extracted to: prediction_data/near_surface_relative_humidity\n",
      "Files from eastward_near_surface_wind.zip extracted to: prediction_data/eastward_near_surface_wind\n",
      "Extraction complete.\n"
     ]
    }
   ],
   "source": [
    "#extract all zip folders into new folders with the name of the variable they belong to\n",
    "\n",
    "extract_dir = 'prediction_data/'\n",
    "\n",
    "for filename in os.listdir():\n",
    "\n",
    "    if filename.endswith('.zip'):\n",
    "        # Construct the full path to the zip file\n",
    "        zip_file_path = os.path.join(os.getcwd(), filename)\n",
    "\n",
    "        # Get the folder name from the zip file (excluding the '.zip' extension)\n",
    "        folder_name = os.path.splitext(filename)[0]\n",
    "        \n",
    "        # Create a directory with the same name as the zip file within the parent directory\n",
    "        extracted_dir = os.path.join(extract_dir, folder_name)\n",
    "\n",
    "        os.makedirs(extracted_dir, exist_ok=True)\n",
    "\n",
    "        # Open the zip file\n",
    "        with zipfile.ZipFile(zip_file_path, 'r') as zip_ref:\n",
    "            # Extract all the contents to the created directory\n",
    "            zip_ref.extractall(extracted_dir)\n",
    "\n",
    "        print(f\"Files from {filename} extracted to: {extracted_dir}\")\n",
    "\n",
    "print(\"Extraction complete.\")"
   ]
  },
  {
   "cell_type": "code",
   "execution_count": 17,
   "metadata": {},
   "outputs": [
    {
     "name": "stdout",
     "output_type": "stream",
     "text": [
      "List of NC file paths:\n",
      "prediction_data/eastward_near_surface_wind/uas_Amon_EC-Earth3-CC_ssp245_r1i1p1f1_gr_20160116-20461216_v20210113.nc\n",
      "prediction_data/near_surface_relative_humidity/hurs_Amon_EC-Earth3-CC_ssp245_r1i1p1f1_gr_20160116-20461216_v20210113.nc\n",
      "prediction_data/precipitation/pr_Amon_EC-Earth3-CC_ssp245_r1i1p1f1_gr_20160116-20461216_v20210113.nc\n",
      "prediction_data/northward_near_surface_wind/vas_Amon_EC-Earth3-CC_ssp245_r1i1p1f1_gr_20160116-20461216_v20210113.nc\n",
      "prediction_data/near_surface_air_temperature/tas_Amon_EC-Earth3-CC_ssp245_r1i1p1f1_gr_20160116-20461216_v20210113.nc\n"
     ]
    }
   ],
   "source": [
    "# find the paths to each .nc file, as they contain the data we need\n",
    "nc_file_paths = []\n",
    "for folder_name in os.listdir(extract_dir):\n",
    "    folder_path = os.path.join(extract_dir, folder_name)\n",
    "\n",
    "    # Check if it's a directory\n",
    "    if os.path.isdir(folder_path):\n",
    "        # Find NC files within the folder\n",
    "        nc_files = [file for file in os.listdir(folder_path) if file.endswith('.nc')]\n",
    "\n",
    "        # Assuming there is exactly one NC file in each folder\n",
    "        if len(nc_files) == 1:\n",
    "            nc_file_paths.append(os.path.join(folder_path, nc_files[0]))\n",
    "\n",
    "# Print the list of NC file paths\n",
    "print(\"List of NC file paths:\")\n",
    "for nc_path in nc_file_paths:\n",
    "    print(nc_path)"
   ]
  },
  {
   "cell_type": "code",
   "execution_count": 18,
   "metadata": {},
   "outputs": [],
   "source": [
    "#create a dictionary containing all datasets\n",
    "projection_datasets = {}\n",
    "for  path in nc_file_paths:\n",
    "    #get the name of the folder the variable is saved in\n",
    "    folder_path = os.path.dirname(path)\n",
    "    folder_name = os.path.basename(folder_path)\n",
    "    #open the nc file append it to projection_dataset dictionary\n",
    "    proj_ds = xr.open_dataset(path)\n",
    "    projection_datasets[folder_name] = proj_ds\n",
    "    \n"
   ]
  },
  {
   "cell_type": "code",
   "execution_count": 19,
   "metadata": {},
   "outputs": [
    {
     "data": {
      "text/plain": [
       "{'eastward_near_surface_wind': <xarray.Dataset>\n",
       " Dimensions:    (time: 372, bnds: 2, lat: 3, lon: 2)\n",
       " Coordinates:\n",
       "   * time       (time) datetime64[ns] 2016-01-16T12:00:00 ... 2046-12-16T12:00:00\n",
       "   * lat        (lat) float64 37.54 38.25 38.95\n",
       "   * lon        (lon) float64 357.2 357.9\n",
       "     height     float64 ...\n",
       " Dimensions without coordinates: bnds\n",
       " Data variables:\n",
       "     time_bnds  (time, bnds) datetime64[ns] ...\n",
       "     lat_bnds   (time, lat, bnds) float64 ...\n",
       "     lon_bnds   (time, lon, bnds) float64 ...\n",
       "     uas        (time, lat, lon) float32 ...\n",
       " Attributes: (12/46)\n",
       "     Conventions:            CF-1.7 CMIP-6.2\n",
       "     activity_id:            ScenarioMIP\n",
       "     branch_method:          standard\n",
       "     branch_time_in_child:   0.0\n",
       "     branch_time_in_parent:  0.0\n",
       "     contact:                cmip6-data@ec-earth.org\n",
       "     ...                     ...\n",
       "     tracking_id:            hdl:21.14100/130ab123-1a11-4a02-aed7-ac177fbc3366\n",
       "     variable_id:            uas\n",
       "     variant_info:           forcing: Nat.Ant. Member generated from autosubmi...\n",
       "     variant_label:          r1i1p1f1\n",
       "     license:                CMIP6 model data produced by EC-Earth-Consortium ...\n",
       "     cmor_version:           3.5.0,\n",
       " 'near_surface_relative_humidity': <xarray.Dataset>\n",
       " Dimensions:    (time: 372, bnds: 2, lat: 3, lon: 2)\n",
       " Coordinates:\n",
       "   * time       (time) datetime64[ns] 2016-01-16T12:00:00 ... 2046-12-16T12:00:00\n",
       "   * lat        (lat) float64 37.54 38.25 38.95\n",
       "   * lon        (lon) float64 357.2 357.9\n",
       "     height     float64 ...\n",
       " Dimensions without coordinates: bnds\n",
       " Data variables:\n",
       "     time_bnds  (time, bnds) datetime64[ns] ...\n",
       "     lat_bnds   (time, lat, bnds) float64 ...\n",
       "     lon_bnds   (time, lon, bnds) float64 ...\n",
       "     hurs       (time, lat, lon) float32 ...\n",
       " Attributes: (12/46)\n",
       "     Conventions:            CF-1.7 CMIP-6.2\n",
       "     activity_id:            ScenarioMIP\n",
       "     branch_method:          standard\n",
       "     branch_time_in_child:   0.0\n",
       "     branch_time_in_parent:  0.0\n",
       "     contact:                cmip6-data@ec-earth.org\n",
       "     ...                     ...\n",
       "     tracking_id:            hdl:21.14100/a6cf7fd0-6ee4-4b5f-81be-00e1117b3a3b\n",
       "     variable_id:            hurs\n",
       "     variant_info:           forcing: Nat.Ant. Member generated from autosubmi...\n",
       "     variant_label:          r1i1p1f1\n",
       "     license:                CMIP6 model data produced by EC-Earth-Consortium ...\n",
       "     cmor_version:           3.5.0,\n",
       " 'precipitation': <xarray.Dataset>\n",
       " Dimensions:    (time: 372, bnds: 2, lat: 3, lon: 2)\n",
       " Coordinates:\n",
       "   * time       (time) datetime64[ns] 2016-01-16T12:00:00 ... 2046-12-16T12:00:00\n",
       "   * lat        (lat) float64 37.54 38.25 38.95\n",
       "   * lon        (lon) float64 357.2 357.9\n",
       " Dimensions without coordinates: bnds\n",
       " Data variables:\n",
       "     time_bnds  (time, bnds) datetime64[ns] ...\n",
       "     lat_bnds   (time, lat, bnds) float64 ...\n",
       "     lon_bnds   (time, lon, bnds) float64 ...\n",
       "     pr         (time, lat, lon) float32 ...\n",
       " Attributes: (12/46)\n",
       "     Conventions:            CF-1.7 CMIP-6.2\n",
       "     activity_id:            ScenarioMIP\n",
       "     branch_method:          standard\n",
       "     branch_time_in_child:   0.0\n",
       "     branch_time_in_parent:  0.0\n",
       "     contact:                cmip6-data@ec-earth.org\n",
       "     ...                     ...\n",
       "     tracking_id:            hdl:21.14100/4d8d6240-f1bc-45b6-940a-19df031d45c4\n",
       "     variable_id:            pr\n",
       "     variant_info:           forcing: Nat.Ant. Member generated from autosubmi...\n",
       "     variant_label:          r1i1p1f1\n",
       "     license:                CMIP6 model data produced by EC-Earth-Consortium ...\n",
       "     cmor_version:           3.5.0,\n",
       " 'northward_near_surface_wind': <xarray.Dataset>\n",
       " Dimensions:    (time: 372, bnds: 2, lat: 3, lon: 2)\n",
       " Coordinates:\n",
       "   * time       (time) datetime64[ns] 2016-01-16T12:00:00 ... 2046-12-16T12:00:00\n",
       "   * lat        (lat) float64 37.54 38.25 38.95\n",
       "   * lon        (lon) float64 357.2 357.9\n",
       "     height     float64 ...\n",
       " Dimensions without coordinates: bnds\n",
       " Data variables:\n",
       "     time_bnds  (time, bnds) datetime64[ns] ...\n",
       "     lat_bnds   (time, lat, bnds) float64 ...\n",
       "     lon_bnds   (time, lon, bnds) float64 ...\n",
       "     vas        (time, lat, lon) float32 ...\n",
       " Attributes: (12/46)\n",
       "     Conventions:            CF-1.7 CMIP-6.2\n",
       "     activity_id:            ScenarioMIP\n",
       "     branch_method:          standard\n",
       "     branch_time_in_child:   0.0\n",
       "     branch_time_in_parent:  0.0\n",
       "     contact:                cmip6-data@ec-earth.org\n",
       "     ...                     ...\n",
       "     tracking_id:            hdl:21.14100/c3e7ec9b-15a5-4922-9af7-985fffe34b8e\n",
       "     variable_id:            vas\n",
       "     variant_info:           forcing: Nat.Ant. Member generated from autosubmi...\n",
       "     variant_label:          r1i1p1f1\n",
       "     license:                CMIP6 model data produced by EC-Earth-Consortium ...\n",
       "     cmor_version:           3.5.0,\n",
       " 'near_surface_air_temperature': <xarray.Dataset>\n",
       " Dimensions:    (time: 372, bnds: 2, lat: 3, lon: 2)\n",
       " Coordinates:\n",
       "   * time       (time) datetime64[ns] 2016-01-16T12:00:00 ... 2046-12-16T12:00:00\n",
       "   * lat        (lat) float64 37.54 38.25 38.95\n",
       "   * lon        (lon) float64 357.2 357.9\n",
       "     height     float64 ...\n",
       " Dimensions without coordinates: bnds\n",
       " Data variables:\n",
       "     time_bnds  (time, bnds) datetime64[ns] ...\n",
       "     lat_bnds   (time, lat, bnds) float64 ...\n",
       "     lon_bnds   (time, lon, bnds) float64 ...\n",
       "     tas        (time, lat, lon) float32 ...\n",
       " Attributes: (12/46)\n",
       "     Conventions:            CF-1.7 CMIP-6.2\n",
       "     activity_id:            ScenarioMIP\n",
       "     branch_method:          standard\n",
       "     branch_time_in_child:   0.0\n",
       "     branch_time_in_parent:  0.0\n",
       "     contact:                cmip6-data@ec-earth.org\n",
       "     ...                     ...\n",
       "     tracking_id:            hdl:21.14100/06ff66b3-9d6f-445c-ac5b-3993246f0d5e\n",
       "     variable_id:            tas\n",
       "     variant_info:           forcing: Nat.Ant. Member generated from autosubmi...\n",
       "     variant_label:          r1i1p1f1\n",
       "     license:                CMIP6 model data produced by EC-Earth-Consortium ...\n",
       "     cmor_version:           3.5.0}"
      ]
     },
     "execution_count": 19,
     "metadata": {},
     "output_type": "execute_result"
    }
   ],
   "source": [
    "projection_datasets"
   ]
  },
  {
   "cell_type": "code",
   "execution_count": 20,
   "metadata": {},
   "outputs": [],
   "source": [
    "#calculate and convert different variables. no parallelisation needed here as the dataset is much smaller.\n",
    "\n",
    "#calculate average total precipitation \n",
    "#Convert the values from kg * m^-2 * s^-1 to mm \n",
    "proj_avg_prec = projection_datasets['precipitation']['pr'].groupby('time.month').mean(['time', 'lat', 'lon'])*2592000 \n",
    "\n",
    "#calculate average temperature. Convert from K to C\n",
    "proj_avg_temp = projection_datasets['near_surface_air_temperature']['tas'].groupby('time.month').mean(['time', 'lat', 'lon'])-273.15\n",
    "\n",
    "#Same operation but for relative humidity.\n",
    "proj_avg_hum = projection_datasets['near_surface_relative_humidity']['hurs'].groupby('time.month').mean(['time', 'lat', 'lon'])\n",
    "\n",
    "#calculate average wind speeds\n",
    "proj_avg_u = projection_datasets['eastward_near_surface_wind']['uas'].groupby('time.month').mean(['time', 'lat', 'lon'])\n",
    "proj_avg_v = projection_datasets['northward_near_surface_wind']['vas'].groupby('time.month').mean(['time', 'lat', 'lon'])\n"
   ]
  },
  {
   "cell_type": "markdown",
   "metadata": {},
   "source": [
    "# Graphical representations \n",
    "In this section we will present both past and projected data "
   ]
  },
  {
   "cell_type": "code",
   "execution_count": 22,
   "metadata": {},
   "outputs": [
    {
     "data": {
      "application/vnd.plotly.v1+json": {
       "config": {
        "plotlyServerURL": "https://plot.ly"
       },
       "data": [
        {
         "hovertemplate": "%{x}: %{y:.0f} mm <extra></extra>",
         "marker": {
          "color": "blue"
         },
         "name": "Precipitation",
         "opacity": 0.5,
         "type": "bar",
         "x": [
          1,
          2,
          3,
          4,
          5,
          6,
          7,
          8,
          9,
          10,
          11,
          12
         ],
         "y": [
          41.043423533439636,
          39.54525765776634,
          50.75373578071594,
          47.5872266292572,
          40.54928135871887,
          18.013150691986084,
          7.7911030650138855,
          19.97824776172638,
          40.3814971446991,
          46.61958968639374,
          47.995054721832275,
          47.710021018981934
         ]
        },
        {
         "hovertemplate": "%{x}: %{y:.0f} mm <extra></extra>",
         "marker": {
          "color": "cyan"
         },
         "name": "Projected precipitation",
         "type": "bar",
         "x": [
          1,
          2,
          3,
          4,
          5,
          6,
          7,
          8,
          9,
          10,
          11,
          12
         ],
         "y": [
          36.53373694396578,
          32.14853894314729,
          37.988959229551256,
          44.9576101382263,
          50.546002050396055,
          28.650363703491166,
          9.868383407592773,
          9.838609315920621,
          19.142810226185247,
          39.59919774206355,
          33.03494170540944,
          37.903908581938595
         ]
        },
        {
         "hovertemplate": "%{x}: %{y:.0f} °C <extra></extra>",
         "line": {
          "color": "red"
         },
         "mode": "lines",
         "name": "Temperature",
         "type": "scatter",
         "x": [
          1,
          2,
          3,
          4,
          5,
          6,
          7,
          8,
          9,
          10,
          11,
          12
         ],
         "xaxis": "x",
         "y": [
          6.963709831237793,
          8.260364532470703,
          10.694051742553711,
          13.134116172790527,
          17.231101989746094,
          21.952239990234375,
          25.360811233520508,
          25.128192901611328,
          20.70734977722168,
          16.206539154052734,
          10.707225799560547,
          7.98537540435791
         ],
         "yaxis": "y2"
        },
        {
         "hovertemplate": "%{x}: %{y:.0f} °C <extra></extra>",
         "line": {
          "color": "orange"
         },
         "mode": "lines",
         "name": "Projected temperature",
         "type": "scatter",
         "x": [
          1,
          2,
          3,
          4,
          5,
          6,
          7,
          8,
          9,
          10,
          11,
          12
         ],
         "xaxis": "x",
         "y": [
          4.772979736328125,
          6.5419921875,
          9.753387451171875,
          13.176361083984375,
          16.509124755859375,
          22.744232177734375,
          28.54150390625,
          28.287689208984375,
          23.29541015625,
          16.30169677734375,
          9.899749755859375,
          6.342559814453125
         ],
         "yaxis": "y2"
        }
       ],
       "layout": {
        "template": {
         "data": {
          "bar": [
           {
            "error_x": {
             "color": "rgb(36,36,36)"
            },
            "error_y": {
             "color": "rgb(36,36,36)"
            },
            "marker": {
             "line": {
              "color": "white",
              "width": 0.5
             },
             "pattern": {
              "fillmode": "overlay",
              "size": 10,
              "solidity": 0.2
             }
            },
            "type": "bar"
           }
          ],
          "barpolar": [
           {
            "marker": {
             "line": {
              "color": "white",
              "width": 0.5
             },
             "pattern": {
              "fillmode": "overlay",
              "size": 10,
              "solidity": 0.2
             }
            },
            "type": "barpolar"
           }
          ],
          "carpet": [
           {
            "aaxis": {
             "endlinecolor": "rgb(36,36,36)",
             "gridcolor": "white",
             "linecolor": "white",
             "minorgridcolor": "white",
             "startlinecolor": "rgb(36,36,36)"
            },
            "baxis": {
             "endlinecolor": "rgb(36,36,36)",
             "gridcolor": "white",
             "linecolor": "white",
             "minorgridcolor": "white",
             "startlinecolor": "rgb(36,36,36)"
            },
            "type": "carpet"
           }
          ],
          "choropleth": [
           {
            "colorbar": {
             "outlinewidth": 1,
             "tickcolor": "rgb(36,36,36)",
             "ticks": "outside"
            },
            "type": "choropleth"
           }
          ],
          "contour": [
           {
            "colorbar": {
             "outlinewidth": 1,
             "tickcolor": "rgb(36,36,36)",
             "ticks": "outside"
            },
            "colorscale": [
             [
              0,
              "#440154"
             ],
             [
              0.1111111111111111,
              "#482878"
             ],
             [
              0.2222222222222222,
              "#3e4989"
             ],
             [
              0.3333333333333333,
              "#31688e"
             ],
             [
              0.4444444444444444,
              "#26828e"
             ],
             [
              0.5555555555555556,
              "#1f9e89"
             ],
             [
              0.6666666666666666,
              "#35b779"
             ],
             [
              0.7777777777777778,
              "#6ece58"
             ],
             [
              0.8888888888888888,
              "#b5de2b"
             ],
             [
              1,
              "#fde725"
             ]
            ],
            "type": "contour"
           }
          ],
          "contourcarpet": [
           {
            "colorbar": {
             "outlinewidth": 1,
             "tickcolor": "rgb(36,36,36)",
             "ticks": "outside"
            },
            "type": "contourcarpet"
           }
          ],
          "heatmap": [
           {
            "colorbar": {
             "outlinewidth": 1,
             "tickcolor": "rgb(36,36,36)",
             "ticks": "outside"
            },
            "colorscale": [
             [
              0,
              "#440154"
             ],
             [
              0.1111111111111111,
              "#482878"
             ],
             [
              0.2222222222222222,
              "#3e4989"
             ],
             [
              0.3333333333333333,
              "#31688e"
             ],
             [
              0.4444444444444444,
              "#26828e"
             ],
             [
              0.5555555555555556,
              "#1f9e89"
             ],
             [
              0.6666666666666666,
              "#35b779"
             ],
             [
              0.7777777777777778,
              "#6ece58"
             ],
             [
              0.8888888888888888,
              "#b5de2b"
             ],
             [
              1,
              "#fde725"
             ]
            ],
            "type": "heatmap"
           }
          ],
          "heatmapgl": [
           {
            "colorbar": {
             "outlinewidth": 1,
             "tickcolor": "rgb(36,36,36)",
             "ticks": "outside"
            },
            "colorscale": [
             [
              0,
              "#440154"
             ],
             [
              0.1111111111111111,
              "#482878"
             ],
             [
              0.2222222222222222,
              "#3e4989"
             ],
             [
              0.3333333333333333,
              "#31688e"
             ],
             [
              0.4444444444444444,
              "#26828e"
             ],
             [
              0.5555555555555556,
              "#1f9e89"
             ],
             [
              0.6666666666666666,
              "#35b779"
             ],
             [
              0.7777777777777778,
              "#6ece58"
             ],
             [
              0.8888888888888888,
              "#b5de2b"
             ],
             [
              1,
              "#fde725"
             ]
            ],
            "type": "heatmapgl"
           }
          ],
          "histogram": [
           {
            "marker": {
             "line": {
              "color": "white",
              "width": 0.6
             }
            },
            "type": "histogram"
           }
          ],
          "histogram2d": [
           {
            "colorbar": {
             "outlinewidth": 1,
             "tickcolor": "rgb(36,36,36)",
             "ticks": "outside"
            },
            "colorscale": [
             [
              0,
              "#440154"
             ],
             [
              0.1111111111111111,
              "#482878"
             ],
             [
              0.2222222222222222,
              "#3e4989"
             ],
             [
              0.3333333333333333,
              "#31688e"
             ],
             [
              0.4444444444444444,
              "#26828e"
             ],
             [
              0.5555555555555556,
              "#1f9e89"
             ],
             [
              0.6666666666666666,
              "#35b779"
             ],
             [
              0.7777777777777778,
              "#6ece58"
             ],
             [
              0.8888888888888888,
              "#b5de2b"
             ],
             [
              1,
              "#fde725"
             ]
            ],
            "type": "histogram2d"
           }
          ],
          "histogram2dcontour": [
           {
            "colorbar": {
             "outlinewidth": 1,
             "tickcolor": "rgb(36,36,36)",
             "ticks": "outside"
            },
            "colorscale": [
             [
              0,
              "#440154"
             ],
             [
              0.1111111111111111,
              "#482878"
             ],
             [
              0.2222222222222222,
              "#3e4989"
             ],
             [
              0.3333333333333333,
              "#31688e"
             ],
             [
              0.4444444444444444,
              "#26828e"
             ],
             [
              0.5555555555555556,
              "#1f9e89"
             ],
             [
              0.6666666666666666,
              "#35b779"
             ],
             [
              0.7777777777777778,
              "#6ece58"
             ],
             [
              0.8888888888888888,
              "#b5de2b"
             ],
             [
              1,
              "#fde725"
             ]
            ],
            "type": "histogram2dcontour"
           }
          ],
          "mesh3d": [
           {
            "colorbar": {
             "outlinewidth": 1,
             "tickcolor": "rgb(36,36,36)",
             "ticks": "outside"
            },
            "type": "mesh3d"
           }
          ],
          "parcoords": [
           {
            "line": {
             "colorbar": {
              "outlinewidth": 1,
              "tickcolor": "rgb(36,36,36)",
              "ticks": "outside"
             }
            },
            "type": "parcoords"
           }
          ],
          "pie": [
           {
            "automargin": true,
            "type": "pie"
           }
          ],
          "scatter": [
           {
            "fillpattern": {
             "fillmode": "overlay",
             "size": 10,
             "solidity": 0.2
            },
            "type": "scatter"
           }
          ],
          "scatter3d": [
           {
            "line": {
             "colorbar": {
              "outlinewidth": 1,
              "tickcolor": "rgb(36,36,36)",
              "ticks": "outside"
             }
            },
            "marker": {
             "colorbar": {
              "outlinewidth": 1,
              "tickcolor": "rgb(36,36,36)",
              "ticks": "outside"
             }
            },
            "type": "scatter3d"
           }
          ],
          "scattercarpet": [
           {
            "marker": {
             "colorbar": {
              "outlinewidth": 1,
              "tickcolor": "rgb(36,36,36)",
              "ticks": "outside"
             }
            },
            "type": "scattercarpet"
           }
          ],
          "scattergeo": [
           {
            "marker": {
             "colorbar": {
              "outlinewidth": 1,
              "tickcolor": "rgb(36,36,36)",
              "ticks": "outside"
             }
            },
            "type": "scattergeo"
           }
          ],
          "scattergl": [
           {
            "marker": {
             "colorbar": {
              "outlinewidth": 1,
              "tickcolor": "rgb(36,36,36)",
              "ticks": "outside"
             }
            },
            "type": "scattergl"
           }
          ],
          "scattermapbox": [
           {
            "marker": {
             "colorbar": {
              "outlinewidth": 1,
              "tickcolor": "rgb(36,36,36)",
              "ticks": "outside"
             }
            },
            "type": "scattermapbox"
           }
          ],
          "scatterpolar": [
           {
            "marker": {
             "colorbar": {
              "outlinewidth": 1,
              "tickcolor": "rgb(36,36,36)",
              "ticks": "outside"
             }
            },
            "type": "scatterpolar"
           }
          ],
          "scatterpolargl": [
           {
            "marker": {
             "colorbar": {
              "outlinewidth": 1,
              "tickcolor": "rgb(36,36,36)",
              "ticks": "outside"
             }
            },
            "type": "scatterpolargl"
           }
          ],
          "scatterternary": [
           {
            "marker": {
             "colorbar": {
              "outlinewidth": 1,
              "tickcolor": "rgb(36,36,36)",
              "ticks": "outside"
             }
            },
            "type": "scatterternary"
           }
          ],
          "surface": [
           {
            "colorbar": {
             "outlinewidth": 1,
             "tickcolor": "rgb(36,36,36)",
             "ticks": "outside"
            },
            "colorscale": [
             [
              0,
              "#440154"
             ],
             [
              0.1111111111111111,
              "#482878"
             ],
             [
              0.2222222222222222,
              "#3e4989"
             ],
             [
              0.3333333333333333,
              "#31688e"
             ],
             [
              0.4444444444444444,
              "#26828e"
             ],
             [
              0.5555555555555556,
              "#1f9e89"
             ],
             [
              0.6666666666666666,
              "#35b779"
             ],
             [
              0.7777777777777778,
              "#6ece58"
             ],
             [
              0.8888888888888888,
              "#b5de2b"
             ],
             [
              1,
              "#fde725"
             ]
            ],
            "type": "surface"
           }
          ],
          "table": [
           {
            "cells": {
             "fill": {
              "color": "rgb(237,237,237)"
             },
             "line": {
              "color": "white"
             }
            },
            "header": {
             "fill": {
              "color": "rgb(217,217,217)"
             },
             "line": {
              "color": "white"
             }
            },
            "type": "table"
           }
          ]
         },
         "layout": {
          "annotationdefaults": {
           "arrowhead": 0,
           "arrowwidth": 1
          },
          "autotypenumbers": "strict",
          "coloraxis": {
           "colorbar": {
            "outlinewidth": 1,
            "tickcolor": "rgb(36,36,36)",
            "ticks": "outside"
           }
          },
          "colorscale": {
           "diverging": [
            [
             0,
             "rgb(103,0,31)"
            ],
            [
             0.1,
             "rgb(178,24,43)"
            ],
            [
             0.2,
             "rgb(214,96,77)"
            ],
            [
             0.3,
             "rgb(244,165,130)"
            ],
            [
             0.4,
             "rgb(253,219,199)"
            ],
            [
             0.5,
             "rgb(247,247,247)"
            ],
            [
             0.6,
             "rgb(209,229,240)"
            ],
            [
             0.7,
             "rgb(146,197,222)"
            ],
            [
             0.8,
             "rgb(67,147,195)"
            ],
            [
             0.9,
             "rgb(33,102,172)"
            ],
            [
             1,
             "rgb(5,48,97)"
            ]
           ],
           "sequential": [
            [
             0,
             "#440154"
            ],
            [
             0.1111111111111111,
             "#482878"
            ],
            [
             0.2222222222222222,
             "#3e4989"
            ],
            [
             0.3333333333333333,
             "#31688e"
            ],
            [
             0.4444444444444444,
             "#26828e"
            ],
            [
             0.5555555555555556,
             "#1f9e89"
            ],
            [
             0.6666666666666666,
             "#35b779"
            ],
            [
             0.7777777777777778,
             "#6ece58"
            ],
            [
             0.8888888888888888,
             "#b5de2b"
            ],
            [
             1,
             "#fde725"
            ]
           ],
           "sequentialminus": [
            [
             0,
             "#440154"
            ],
            [
             0.1111111111111111,
             "#482878"
            ],
            [
             0.2222222222222222,
             "#3e4989"
            ],
            [
             0.3333333333333333,
             "#31688e"
            ],
            [
             0.4444444444444444,
             "#26828e"
            ],
            [
             0.5555555555555556,
             "#1f9e89"
            ],
            [
             0.6666666666666666,
             "#35b779"
            ],
            [
             0.7777777777777778,
             "#6ece58"
            ],
            [
             0.8888888888888888,
             "#b5de2b"
            ],
            [
             1,
             "#fde725"
            ]
           ]
          },
          "colorway": [
           "#1F77B4",
           "#FF7F0E",
           "#2CA02C",
           "#D62728",
           "#9467BD",
           "#8C564B",
           "#E377C2",
           "#7F7F7F",
           "#BCBD22",
           "#17BECF"
          ],
          "font": {
           "color": "rgb(36,36,36)"
          },
          "geo": {
           "bgcolor": "white",
           "lakecolor": "white",
           "landcolor": "white",
           "showlakes": true,
           "showland": true,
           "subunitcolor": "white"
          },
          "hoverlabel": {
           "align": "left"
          },
          "hovermode": "closest",
          "mapbox": {
           "style": "light"
          },
          "paper_bgcolor": "white",
          "plot_bgcolor": "white",
          "polar": {
           "angularaxis": {
            "gridcolor": "rgb(232,232,232)",
            "linecolor": "rgb(36,36,36)",
            "showgrid": false,
            "showline": true,
            "ticks": "outside"
           },
           "bgcolor": "white",
           "radialaxis": {
            "gridcolor": "rgb(232,232,232)",
            "linecolor": "rgb(36,36,36)",
            "showgrid": false,
            "showline": true,
            "ticks": "outside"
           }
          },
          "scene": {
           "xaxis": {
            "backgroundcolor": "white",
            "gridcolor": "rgb(232,232,232)",
            "gridwidth": 2,
            "linecolor": "rgb(36,36,36)",
            "showbackground": true,
            "showgrid": false,
            "showline": true,
            "ticks": "outside",
            "zeroline": false,
            "zerolinecolor": "rgb(36,36,36)"
           },
           "yaxis": {
            "backgroundcolor": "white",
            "gridcolor": "rgb(232,232,232)",
            "gridwidth": 2,
            "linecolor": "rgb(36,36,36)",
            "showbackground": true,
            "showgrid": false,
            "showline": true,
            "ticks": "outside",
            "zeroline": false,
            "zerolinecolor": "rgb(36,36,36)"
           },
           "zaxis": {
            "backgroundcolor": "white",
            "gridcolor": "rgb(232,232,232)",
            "gridwidth": 2,
            "linecolor": "rgb(36,36,36)",
            "showbackground": true,
            "showgrid": false,
            "showline": true,
            "ticks": "outside",
            "zeroline": false,
            "zerolinecolor": "rgb(36,36,36)"
           }
          },
          "shapedefaults": {
           "fillcolor": "black",
           "line": {
            "width": 0
           },
           "opacity": 0.3
          },
          "ternary": {
           "aaxis": {
            "gridcolor": "rgb(232,232,232)",
            "linecolor": "rgb(36,36,36)",
            "showgrid": false,
            "showline": true,
            "ticks": "outside"
           },
           "baxis": {
            "gridcolor": "rgb(232,232,232)",
            "linecolor": "rgb(36,36,36)",
            "showgrid": false,
            "showline": true,
            "ticks": "outside"
           },
           "bgcolor": "white",
           "caxis": {
            "gridcolor": "rgb(232,232,232)",
            "linecolor": "rgb(36,36,36)",
            "showgrid": false,
            "showline": true,
            "ticks": "outside"
           }
          },
          "title": {
           "x": 0.05
          },
          "xaxis": {
           "automargin": true,
           "gridcolor": "rgb(232,232,232)",
           "linecolor": "rgb(36,36,36)",
           "showgrid": false,
           "showline": true,
           "ticks": "outside",
           "title": {
            "standoff": 15
           },
           "zeroline": false,
           "zerolinecolor": "rgb(36,36,36)"
          },
          "yaxis": {
           "automargin": true,
           "gridcolor": "rgb(232,232,232)",
           "linecolor": "rgb(36,36,36)",
           "showgrid": false,
           "showline": true,
           "ticks": "outside",
           "title": {
            "standoff": 15
           },
           "zeroline": false,
           "zerolinecolor": "rgb(36,36,36)"
          }
         }
        },
        "title": {
         "text": "Average projected temperature and precipitation"
        },
        "xaxis": {
         "anchor": "y",
         "domain": [
          0,
          0.94
         ],
         "tickangle": -45,
         "tickmode": "array",
         "ticktext": [
          "Jan",
          "Feb",
          "Mar",
          "Apr",
          "May",
          "Jun",
          "Jul",
          "Aug",
          "Sep",
          "Oct",
          "Nov",
          "Dec"
         ],
         "tickvals": [
          1,
          2,
          3,
          4,
          5,
          6,
          7,
          8,
          9,
          10,
          11,
          12
         ],
         "title": {
          "text": "Month"
         }
        },
        "yaxis": {
         "anchor": "x",
         "domain": [
          0,
          1
         ],
         "title": {
          "text": "Precipitation (mm)"
         }
        },
        "yaxis2": {
         "anchor": "x",
         "overlaying": "y",
         "side": "right",
         "title": {
          "text": "Temperature (°C)"
         }
        }
       }
      }
     },
     "metadata": {},
     "output_type": "display_data"
    }
   ],
   "source": [
    "\n",
    "# Create a subplot with shared x-axis\n",
    "fig = make_subplots(specs=[[{\"secondary_y\": True}]])\n",
    "\n",
    "# Add a bar chart for precipitation and projected precipitation to the secondary y-axis\n",
    "bar_prec = go.Bar           (x=avg_prec.month, y=avg_prec, name='Precipitation', opacity=0.5, marker_color = 'blue',\n",
    "                             hovertemplate=('%{x}: %{y:.0f} mm <extra></extra>'))\n",
    "bar_prec_projected = go.Bar(x=proj_avg_prec.month, y=proj_avg_prec, name='Projected precipitation', marker_color = 'cyan',\n",
    "                            hovertemplate=('%{x}: %{y:.0f} mm <extra></extra>'))\n",
    "\n",
    "fig.add_trace(bar_prec)\n",
    "fig.add_trace(bar_prec_projected)\n",
    "\n",
    "\n",
    "# Add a line chart for temperature to the primary y-axis\n",
    "fig.add_trace(go.Scatter(x=avg_temp.month, y=avg_temp, mode='lines', name='Temperature', line_color = 'red', \n",
    "                         hovertemplate=('%{x}: %{y:.0f} °C <extra></extra>')),\n",
    "              \n",
    "              secondary_y=True)\n",
    "\n",
    "# Add a line chart for projected temperature\n",
    "fig.add_trace(\n",
    "    go.Scatter(x=proj_avg_temp.month, y=proj_avg_temp, mode='lines', name='Projected temperature', line_color='orange',\n",
    "               hovertemplate=('%{x}: %{y:.0f} °C <extra></extra>')),   \n",
    "    secondary_y=True,\n",
    ")\n",
    "\n",
    "# Set the layout to have two y-axes\n",
    "fig.update_layout(\n",
    "    title='Average projected temperature and precipitation',\n",
    "    yaxis=dict(title='Precipitation (mm)'),\n",
    "    yaxis2=dict(title='Temperature (°C)', overlaying='y', side='right'),\n",
    "    xaxis=dict(\n",
    "        title='Month',\n",
    "        tickmode='array',\n",
    "        tickvals=avg_temp.month,\n",
    "        ticktext=['Jan', 'Feb', 'Mar', 'Apr', 'May', 'Jun', 'Jul', 'Aug', 'Sep', 'Oct', 'Nov', 'Dec'],\n",
    "        tickangle=-45\n",
    "    ),\n",
    "    template='simple_white',\n",
    ")\n",
    "\n",
    "\n",
    "\n",
    "\n",
    "# Show the figure\n",
    "fig.show()"
   ]
  },
  {
   "cell_type": "markdown",
   "metadata": {},
   "source": [
    "The blue bars show the total rainfall in mm averaged for each month.    \n",
    "The orange line shows the average temperature in °C per month. "
   ]
  },
  {
   "cell_type": "code",
   "execution_count": 23,
   "metadata": {},
   "outputs": [
    {
     "data": {
      "application/vnd.plotly.v1+json": {
       "config": {
        "plotlyServerURL": "https://plot.ly"
       },
       "data": [
        {
         "hovertemplate": "%{x}: %{y:.0f} °C <extra></extra>",
         "line": {
          "color": "orange"
         },
         "mode": "lines",
         "name": "Average temperature",
         "type": "scatter",
         "x": [
          1,
          2,
          3,
          4,
          5,
          6,
          7,
          8,
          9,
          10,
          11,
          12
         ],
         "y": [
          6.963709831237793,
          8.260364532470703,
          10.694051742553711,
          13.134116172790527,
          17.231101989746094,
          21.952239990234375,
          25.360811233520508,
          25.128192901611328,
          20.70734977722168,
          16.206539154052734,
          10.707225799560547,
          7.98537540435791
         ]
        },
        {
         "hovertemplate": "%{x}: %{y:.0f} °C <extra></extra>",
         "line": {
          "color": "red"
         },
         "mode": "lines",
         "name": "Average range per month",
         "type": "scatter",
         "x": [
          1,
          2,
          3,
          4,
          5,
          6,
          7,
          8,
          9,
          10,
          11,
          12
         ],
         "y": [
          11.531964302062988,
          12.972404479980469,
          15.461414337158203,
          17.774635314941406,
          22.07737922668457,
          27.230939865112305,
          31.093416213989258,
          30.76936912536621,
          25.81180763244629,
          21.077733993530273,
          15.115578651428223,
          12.35778522491455
         ]
        },
        {
         "fill": "tonexty",
         "fillcolor": "rgba(255, 0, 0, 0.1)",
         "hovertemplate": "%{x}: %{y:.0f} °C <extra></extra>",
         "line": {
          "color": "red"
         },
         "mode": "lines",
         "name": "Min temperature",
         "showlegend": false,
         "type": "scatter",
         "x": [
          1,
          2,
          3,
          4,
          5,
          6,
          7,
          8,
          9,
          10,
          11,
          12
         ],
         "y": [
          3.80653715133667,
          4.47635555267334,
          6.305875778198242,
          8.498559951782227,
          12.142518997192383,
          16.25482940673828,
          19.165176391601562,
          19.237445831298828,
          15.744379043579102,
          12.054411888122559,
          7.432490348815918,
          5.076562881469727
         ]
        }
       ],
       "layout": {
        "template": {
         "data": {
          "bar": [
           {
            "error_x": {
             "color": "rgb(36,36,36)"
            },
            "error_y": {
             "color": "rgb(36,36,36)"
            },
            "marker": {
             "line": {
              "color": "white",
              "width": 0.5
             },
             "pattern": {
              "fillmode": "overlay",
              "size": 10,
              "solidity": 0.2
             }
            },
            "type": "bar"
           }
          ],
          "barpolar": [
           {
            "marker": {
             "line": {
              "color": "white",
              "width": 0.5
             },
             "pattern": {
              "fillmode": "overlay",
              "size": 10,
              "solidity": 0.2
             }
            },
            "type": "barpolar"
           }
          ],
          "carpet": [
           {
            "aaxis": {
             "endlinecolor": "rgb(36,36,36)",
             "gridcolor": "white",
             "linecolor": "white",
             "minorgridcolor": "white",
             "startlinecolor": "rgb(36,36,36)"
            },
            "baxis": {
             "endlinecolor": "rgb(36,36,36)",
             "gridcolor": "white",
             "linecolor": "white",
             "minorgridcolor": "white",
             "startlinecolor": "rgb(36,36,36)"
            },
            "type": "carpet"
           }
          ],
          "choropleth": [
           {
            "colorbar": {
             "outlinewidth": 1,
             "tickcolor": "rgb(36,36,36)",
             "ticks": "outside"
            },
            "type": "choropleth"
           }
          ],
          "contour": [
           {
            "colorbar": {
             "outlinewidth": 1,
             "tickcolor": "rgb(36,36,36)",
             "ticks": "outside"
            },
            "colorscale": [
             [
              0,
              "#440154"
             ],
             [
              0.1111111111111111,
              "#482878"
             ],
             [
              0.2222222222222222,
              "#3e4989"
             ],
             [
              0.3333333333333333,
              "#31688e"
             ],
             [
              0.4444444444444444,
              "#26828e"
             ],
             [
              0.5555555555555556,
              "#1f9e89"
             ],
             [
              0.6666666666666666,
              "#35b779"
             ],
             [
              0.7777777777777778,
              "#6ece58"
             ],
             [
              0.8888888888888888,
              "#b5de2b"
             ],
             [
              1,
              "#fde725"
             ]
            ],
            "type": "contour"
           }
          ],
          "contourcarpet": [
           {
            "colorbar": {
             "outlinewidth": 1,
             "tickcolor": "rgb(36,36,36)",
             "ticks": "outside"
            },
            "type": "contourcarpet"
           }
          ],
          "heatmap": [
           {
            "colorbar": {
             "outlinewidth": 1,
             "tickcolor": "rgb(36,36,36)",
             "ticks": "outside"
            },
            "colorscale": [
             [
              0,
              "#440154"
             ],
             [
              0.1111111111111111,
              "#482878"
             ],
             [
              0.2222222222222222,
              "#3e4989"
             ],
             [
              0.3333333333333333,
              "#31688e"
             ],
             [
              0.4444444444444444,
              "#26828e"
             ],
             [
              0.5555555555555556,
              "#1f9e89"
             ],
             [
              0.6666666666666666,
              "#35b779"
             ],
             [
              0.7777777777777778,
              "#6ece58"
             ],
             [
              0.8888888888888888,
              "#b5de2b"
             ],
             [
              1,
              "#fde725"
             ]
            ],
            "type": "heatmap"
           }
          ],
          "heatmapgl": [
           {
            "colorbar": {
             "outlinewidth": 1,
             "tickcolor": "rgb(36,36,36)",
             "ticks": "outside"
            },
            "colorscale": [
             [
              0,
              "#440154"
             ],
             [
              0.1111111111111111,
              "#482878"
             ],
             [
              0.2222222222222222,
              "#3e4989"
             ],
             [
              0.3333333333333333,
              "#31688e"
             ],
             [
              0.4444444444444444,
              "#26828e"
             ],
             [
              0.5555555555555556,
              "#1f9e89"
             ],
             [
              0.6666666666666666,
              "#35b779"
             ],
             [
              0.7777777777777778,
              "#6ece58"
             ],
             [
              0.8888888888888888,
              "#b5de2b"
             ],
             [
              1,
              "#fde725"
             ]
            ],
            "type": "heatmapgl"
           }
          ],
          "histogram": [
           {
            "marker": {
             "line": {
              "color": "white",
              "width": 0.6
             }
            },
            "type": "histogram"
           }
          ],
          "histogram2d": [
           {
            "colorbar": {
             "outlinewidth": 1,
             "tickcolor": "rgb(36,36,36)",
             "ticks": "outside"
            },
            "colorscale": [
             [
              0,
              "#440154"
             ],
             [
              0.1111111111111111,
              "#482878"
             ],
             [
              0.2222222222222222,
              "#3e4989"
             ],
             [
              0.3333333333333333,
              "#31688e"
             ],
             [
              0.4444444444444444,
              "#26828e"
             ],
             [
              0.5555555555555556,
              "#1f9e89"
             ],
             [
              0.6666666666666666,
              "#35b779"
             ],
             [
              0.7777777777777778,
              "#6ece58"
             ],
             [
              0.8888888888888888,
              "#b5de2b"
             ],
             [
              1,
              "#fde725"
             ]
            ],
            "type": "histogram2d"
           }
          ],
          "histogram2dcontour": [
           {
            "colorbar": {
             "outlinewidth": 1,
             "tickcolor": "rgb(36,36,36)",
             "ticks": "outside"
            },
            "colorscale": [
             [
              0,
              "#440154"
             ],
             [
              0.1111111111111111,
              "#482878"
             ],
             [
              0.2222222222222222,
              "#3e4989"
             ],
             [
              0.3333333333333333,
              "#31688e"
             ],
             [
              0.4444444444444444,
              "#26828e"
             ],
             [
              0.5555555555555556,
              "#1f9e89"
             ],
             [
              0.6666666666666666,
              "#35b779"
             ],
             [
              0.7777777777777778,
              "#6ece58"
             ],
             [
              0.8888888888888888,
              "#b5de2b"
             ],
             [
              1,
              "#fde725"
             ]
            ],
            "type": "histogram2dcontour"
           }
          ],
          "mesh3d": [
           {
            "colorbar": {
             "outlinewidth": 1,
             "tickcolor": "rgb(36,36,36)",
             "ticks": "outside"
            },
            "type": "mesh3d"
           }
          ],
          "parcoords": [
           {
            "line": {
             "colorbar": {
              "outlinewidth": 1,
              "tickcolor": "rgb(36,36,36)",
              "ticks": "outside"
             }
            },
            "type": "parcoords"
           }
          ],
          "pie": [
           {
            "automargin": true,
            "type": "pie"
           }
          ],
          "scatter": [
           {
            "fillpattern": {
             "fillmode": "overlay",
             "size": 10,
             "solidity": 0.2
            },
            "type": "scatter"
           }
          ],
          "scatter3d": [
           {
            "line": {
             "colorbar": {
              "outlinewidth": 1,
              "tickcolor": "rgb(36,36,36)",
              "ticks": "outside"
             }
            },
            "marker": {
             "colorbar": {
              "outlinewidth": 1,
              "tickcolor": "rgb(36,36,36)",
              "ticks": "outside"
             }
            },
            "type": "scatter3d"
           }
          ],
          "scattercarpet": [
           {
            "marker": {
             "colorbar": {
              "outlinewidth": 1,
              "tickcolor": "rgb(36,36,36)",
              "ticks": "outside"
             }
            },
            "type": "scattercarpet"
           }
          ],
          "scattergeo": [
           {
            "marker": {
             "colorbar": {
              "outlinewidth": 1,
              "tickcolor": "rgb(36,36,36)",
              "ticks": "outside"
             }
            },
            "type": "scattergeo"
           }
          ],
          "scattergl": [
           {
            "marker": {
             "colorbar": {
              "outlinewidth": 1,
              "tickcolor": "rgb(36,36,36)",
              "ticks": "outside"
             }
            },
            "type": "scattergl"
           }
          ],
          "scattermapbox": [
           {
            "marker": {
             "colorbar": {
              "outlinewidth": 1,
              "tickcolor": "rgb(36,36,36)",
              "ticks": "outside"
             }
            },
            "type": "scattermapbox"
           }
          ],
          "scatterpolar": [
           {
            "marker": {
             "colorbar": {
              "outlinewidth": 1,
              "tickcolor": "rgb(36,36,36)",
              "ticks": "outside"
             }
            },
            "type": "scatterpolar"
           }
          ],
          "scatterpolargl": [
           {
            "marker": {
             "colorbar": {
              "outlinewidth": 1,
              "tickcolor": "rgb(36,36,36)",
              "ticks": "outside"
             }
            },
            "type": "scatterpolargl"
           }
          ],
          "scatterternary": [
           {
            "marker": {
             "colorbar": {
              "outlinewidth": 1,
              "tickcolor": "rgb(36,36,36)",
              "ticks": "outside"
             }
            },
            "type": "scatterternary"
           }
          ],
          "surface": [
           {
            "colorbar": {
             "outlinewidth": 1,
             "tickcolor": "rgb(36,36,36)",
             "ticks": "outside"
            },
            "colorscale": [
             [
              0,
              "#440154"
             ],
             [
              0.1111111111111111,
              "#482878"
             ],
             [
              0.2222222222222222,
              "#3e4989"
             ],
             [
              0.3333333333333333,
              "#31688e"
             ],
             [
              0.4444444444444444,
              "#26828e"
             ],
             [
              0.5555555555555556,
              "#1f9e89"
             ],
             [
              0.6666666666666666,
              "#35b779"
             ],
             [
              0.7777777777777778,
              "#6ece58"
             ],
             [
              0.8888888888888888,
              "#b5de2b"
             ],
             [
              1,
              "#fde725"
             ]
            ],
            "type": "surface"
           }
          ],
          "table": [
           {
            "cells": {
             "fill": {
              "color": "rgb(237,237,237)"
             },
             "line": {
              "color": "white"
             }
            },
            "header": {
             "fill": {
              "color": "rgb(217,217,217)"
             },
             "line": {
              "color": "white"
             }
            },
            "type": "table"
           }
          ]
         },
         "layout": {
          "annotationdefaults": {
           "arrowhead": 0,
           "arrowwidth": 1
          },
          "autotypenumbers": "strict",
          "coloraxis": {
           "colorbar": {
            "outlinewidth": 1,
            "tickcolor": "rgb(36,36,36)",
            "ticks": "outside"
           }
          },
          "colorscale": {
           "diverging": [
            [
             0,
             "rgb(103,0,31)"
            ],
            [
             0.1,
             "rgb(178,24,43)"
            ],
            [
             0.2,
             "rgb(214,96,77)"
            ],
            [
             0.3,
             "rgb(244,165,130)"
            ],
            [
             0.4,
             "rgb(253,219,199)"
            ],
            [
             0.5,
             "rgb(247,247,247)"
            ],
            [
             0.6,
             "rgb(209,229,240)"
            ],
            [
             0.7,
             "rgb(146,197,222)"
            ],
            [
             0.8,
             "rgb(67,147,195)"
            ],
            [
             0.9,
             "rgb(33,102,172)"
            ],
            [
             1,
             "rgb(5,48,97)"
            ]
           ],
           "sequential": [
            [
             0,
             "#440154"
            ],
            [
             0.1111111111111111,
             "#482878"
            ],
            [
             0.2222222222222222,
             "#3e4989"
            ],
            [
             0.3333333333333333,
             "#31688e"
            ],
            [
             0.4444444444444444,
             "#26828e"
            ],
            [
             0.5555555555555556,
             "#1f9e89"
            ],
            [
             0.6666666666666666,
             "#35b779"
            ],
            [
             0.7777777777777778,
             "#6ece58"
            ],
            [
             0.8888888888888888,
             "#b5de2b"
            ],
            [
             1,
             "#fde725"
            ]
           ],
           "sequentialminus": [
            [
             0,
             "#440154"
            ],
            [
             0.1111111111111111,
             "#482878"
            ],
            [
             0.2222222222222222,
             "#3e4989"
            ],
            [
             0.3333333333333333,
             "#31688e"
            ],
            [
             0.4444444444444444,
             "#26828e"
            ],
            [
             0.5555555555555556,
             "#1f9e89"
            ],
            [
             0.6666666666666666,
             "#35b779"
            ],
            [
             0.7777777777777778,
             "#6ece58"
            ],
            [
             0.8888888888888888,
             "#b5de2b"
            ],
            [
             1,
             "#fde725"
            ]
           ]
          },
          "colorway": [
           "#1F77B4",
           "#FF7F0E",
           "#2CA02C",
           "#D62728",
           "#9467BD",
           "#8C564B",
           "#E377C2",
           "#7F7F7F",
           "#BCBD22",
           "#17BECF"
          ],
          "font": {
           "color": "rgb(36,36,36)"
          },
          "geo": {
           "bgcolor": "white",
           "lakecolor": "white",
           "landcolor": "white",
           "showlakes": true,
           "showland": true,
           "subunitcolor": "white"
          },
          "hoverlabel": {
           "align": "left"
          },
          "hovermode": "closest",
          "mapbox": {
           "style": "light"
          },
          "paper_bgcolor": "white",
          "plot_bgcolor": "white",
          "polar": {
           "angularaxis": {
            "gridcolor": "rgb(232,232,232)",
            "linecolor": "rgb(36,36,36)",
            "showgrid": false,
            "showline": true,
            "ticks": "outside"
           },
           "bgcolor": "white",
           "radialaxis": {
            "gridcolor": "rgb(232,232,232)",
            "linecolor": "rgb(36,36,36)",
            "showgrid": false,
            "showline": true,
            "ticks": "outside"
           }
          },
          "scene": {
           "xaxis": {
            "backgroundcolor": "white",
            "gridcolor": "rgb(232,232,232)",
            "gridwidth": 2,
            "linecolor": "rgb(36,36,36)",
            "showbackground": true,
            "showgrid": false,
            "showline": true,
            "ticks": "outside",
            "zeroline": false,
            "zerolinecolor": "rgb(36,36,36)"
           },
           "yaxis": {
            "backgroundcolor": "white",
            "gridcolor": "rgb(232,232,232)",
            "gridwidth": 2,
            "linecolor": "rgb(36,36,36)",
            "showbackground": true,
            "showgrid": false,
            "showline": true,
            "ticks": "outside",
            "zeroline": false,
            "zerolinecolor": "rgb(36,36,36)"
           },
           "zaxis": {
            "backgroundcolor": "white",
            "gridcolor": "rgb(232,232,232)",
            "gridwidth": 2,
            "linecolor": "rgb(36,36,36)",
            "showbackground": true,
            "showgrid": false,
            "showline": true,
            "ticks": "outside",
            "zeroline": false,
            "zerolinecolor": "rgb(36,36,36)"
           }
          },
          "shapedefaults": {
           "fillcolor": "black",
           "line": {
            "width": 0
           },
           "opacity": 0.3
          },
          "ternary": {
           "aaxis": {
            "gridcolor": "rgb(232,232,232)",
            "linecolor": "rgb(36,36,36)",
            "showgrid": false,
            "showline": true,
            "ticks": "outside"
           },
           "baxis": {
            "gridcolor": "rgb(232,232,232)",
            "linecolor": "rgb(36,36,36)",
            "showgrid": false,
            "showline": true,
            "ticks": "outside"
           },
           "bgcolor": "white",
           "caxis": {
            "gridcolor": "rgb(232,232,232)",
            "linecolor": "rgb(36,36,36)",
            "showgrid": false,
            "showline": true,
            "ticks": "outside"
           }
          },
          "title": {
           "x": 0.05
          },
          "xaxis": {
           "automargin": true,
           "gridcolor": "rgb(232,232,232)",
           "linecolor": "rgb(36,36,36)",
           "showgrid": false,
           "showline": true,
           "ticks": "outside",
           "title": {
            "standoff": 15
           },
           "zeroline": false,
           "zerolinecolor": "rgb(36,36,36)"
          },
          "yaxis": {
           "automargin": true,
           "gridcolor": "rgb(232,232,232)",
           "linecolor": "rgb(36,36,36)",
           "showgrid": false,
           "showline": true,
           "ticks": "outside",
           "title": {
            "standoff": 15
           },
           "zeroline": false,
           "zerolinecolor": "rgb(36,36,36)"
          }
         }
        },
        "title": {
         "text": "Average temperature range"
        },
        "xaxis": {
         "tickangle": -45,
         "tickmode": "array",
         "ticktext": [
          "Jan",
          "Feb",
          "Mar",
          "Apr",
          "May",
          "Jun",
          "Jul",
          "Aug",
          "Sep",
          "Oct",
          "Nov",
          "Dec"
         ],
         "tickvals": [
          1,
          2,
          3,
          4,
          5,
          6,
          7,
          8,
          9,
          10,
          11,
          12
         ],
         "title": {
          "text": "Month"
         }
        },
        "yaxis": {
         "range": [
          0,
          36.093414306640625
         ],
         "title": {
          "text": "Temperature (°C)"
         }
        }
       }
      }
     },
     "metadata": {},
     "output_type": "display_data"
    }
   ],
   "source": [
    "# Create a DataFrame from the DataArrays\n",
    "df = pd.DataFrame({\n",
    "    'month': avg_temp.month.values,\n",
    "    'avg_temp': avg_temp.values,\n",
    "    'max_temp': mean_max_temp.values,\n",
    "    'min_temp': mean_min_temp.values\n",
    "})\n",
    "\n",
    "# Create a line chart for average temperature\n",
    "fig = go.Figure()\n",
    "\n",
    "fig.add_trace(go.Scatter(x=df['month'], y=df['avg_temp'], \n",
    "                         mode='lines', \n",
    "                         name='Average temperature', \n",
    "                         line_color='orange')\n",
    "                         )\n",
    "\n",
    "# Add a line chart for max temperature\n",
    "fig.add_trace(go.Scatter(x=df['month'], y=df['max_temp'], \n",
    "                         mode='lines',\n",
    "                         name='Average range per month', \n",
    "                         line_color='red')\n",
    "                         )\n",
    "\n",
    "# Add a line chart for min temperature\n",
    "fig.add_trace(go.Scatter(x=df['month'], y=df['min_temp'], \n",
    "                         mode='lines', \n",
    "                         name='Min temperature', \n",
    "                         line_color='red', \n",
    "                         fill='tonexty', \n",
    "                         fillcolor = 'rgba(255, 0, 0, 0.1)', \n",
    "                         showlegend=False)\n",
    "                         )\n",
    "\n",
    "# Add a line chart for min temperature\n",
    "if min(mean_min_temp.values) <= 0.9:\n",
    "    fig.add_hline(y=0, opacity=1, \n",
    "                  line_width=2, \n",
    "                  line_dash='dash', \n",
    "                  line_color='blue',\n",
    "                  annotation_text='freezing', \n",
    "                  annotation_position='top')\n",
    "\n",
    "# Set the layout\n",
    "fig.update_yaxes(range=[0, max(df['max_temp'] + 5)])\n",
    "\n",
    "fig.update_layout(\n",
    "    title='Average temperature range',\n",
    "    \n",
    "    yaxis=dict(title='Temperature (°C)'),\n",
    "    xaxis=dict(\n",
    "        title='Month',\n",
    "        tickmode='array',\n",
    "        tickvals=df['month'],\n",
    "        ticktext=['Jan', 'Feb', 'Mar', 'Apr', 'May', 'Jun', 'Jul', 'Aug', 'Sep', 'Oct', 'Nov', 'Dec'],\n",
    "        tickangle=-45\n",
    "    ),\n",
    "    template='simple_white'\n",
    ")\n",
    "# Show the figure\n",
    "\n",
    "fig.update_traces(hovertemplate='%{x}: %{y:.0f} °C <extra></extra>')\n",
    "fig.show()"
   ]
  },
  {
   "cell_type": "markdown",
   "metadata": {},
   "source": [
    "This figure shows the average temperature for each month complemented by the average temperature range per month. Meaning: the top line shows the average maximum temperature of each month Same goes for the bottom line. Keep in mind that this is an average, maximum temperature can be outside of the shown range. \n",
    "When the range reaches or below, a blue line highlights the freezing temperature. \n"
   ]
  },
  {
   "cell_type": "code",
   "execution_count": 24,
   "metadata": {},
   "outputs": [
    {
     "data": {
      "application/vnd.plotly.v1+json": {
       "config": {
        "plotlyServerURL": "https://plot.ly"
       },
       "data": [
        {
         "hovertemplate": "%{x}: %{y:.0f} % <extra></extra>",
         "line": {
          "color": "rgb(0, 0, 200)"
         },
         "mode": "lines",
         "name": "Average relative humidity",
         "type": "scatter",
         "x": [
          1,
          2,
          3,
          4,
          5,
          6,
          7,
          8,
          9,
          10,
          11,
          12
         ],
         "y": [
          71.77169799804688,
          67.5423355102539,
          63.25033950805664,
          60.93246841430664,
          56.266807556152344,
          49.584625244140625,
          44.831851959228516,
          47.80421447753906,
          57.22608947753906,
          64.9415512084961,
          70.61328125,
          74.12975311279297
         ]
        },
        {
         "hovertemplate": "%{x}: %{y:.0f} % <extra></extra>",
         "line": {
          "color": "rgb(5, 150, 250)"
         },
         "mode": "lines",
         "name": "Average range per month",
         "type": "scatter",
         "x": [
          1,
          2,
          3,
          4,
          5,
          6,
          7,
          8,
          9,
          10,
          11,
          12
         ],
         "y": [
          81.94853973388672,
          80.5579605102539,
          78.6515121459961,
          77.78839874267578,
          73.36318969726562,
          66.18545532226562,
          59.98101043701172,
          63.599876403808594,
          73.91377258300781,
          79.6467514038086,
          82.07067108154297,
          83.2877426147461
         ]
        },
        {
         "fill": "tonexty",
         "fillcolor": "rgba(5, 150, 250, 0.1)",
         "hovertemplate": "%{x}: %{y:.0f} % <extra></extra>",
         "line": {
          "color": "rgb(5, 150, 250)"
         },
         "mode": "lines",
         "name": "Min realtive humidity",
         "showlegend": false,
         "type": "scatter",
         "x": [
          1,
          2,
          3,
          4,
          5,
          6,
          7,
          8,
          9,
          10,
          11,
          12
         ],
         "y": [
          54.297794342041016,
          49.758235931396484,
          46.21192169189453,
          44.651145935058594,
          40.98271942138672,
          35.71534729003906,
          31.87792205810547,
          33.713897705078125,
          40.87437438964844,
          47.2778205871582,
          53.56965255737305,
          57.327789306640625
         ]
        }
       ],
       "layout": {
        "template": {
         "data": {
          "bar": [
           {
            "error_x": {
             "color": "rgb(36,36,36)"
            },
            "error_y": {
             "color": "rgb(36,36,36)"
            },
            "marker": {
             "line": {
              "color": "white",
              "width": 0.5
             },
             "pattern": {
              "fillmode": "overlay",
              "size": 10,
              "solidity": 0.2
             }
            },
            "type": "bar"
           }
          ],
          "barpolar": [
           {
            "marker": {
             "line": {
              "color": "white",
              "width": 0.5
             },
             "pattern": {
              "fillmode": "overlay",
              "size": 10,
              "solidity": 0.2
             }
            },
            "type": "barpolar"
           }
          ],
          "carpet": [
           {
            "aaxis": {
             "endlinecolor": "rgb(36,36,36)",
             "gridcolor": "white",
             "linecolor": "white",
             "minorgridcolor": "white",
             "startlinecolor": "rgb(36,36,36)"
            },
            "baxis": {
             "endlinecolor": "rgb(36,36,36)",
             "gridcolor": "white",
             "linecolor": "white",
             "minorgridcolor": "white",
             "startlinecolor": "rgb(36,36,36)"
            },
            "type": "carpet"
           }
          ],
          "choropleth": [
           {
            "colorbar": {
             "outlinewidth": 1,
             "tickcolor": "rgb(36,36,36)",
             "ticks": "outside"
            },
            "type": "choropleth"
           }
          ],
          "contour": [
           {
            "colorbar": {
             "outlinewidth": 1,
             "tickcolor": "rgb(36,36,36)",
             "ticks": "outside"
            },
            "colorscale": [
             [
              0,
              "#440154"
             ],
             [
              0.1111111111111111,
              "#482878"
             ],
             [
              0.2222222222222222,
              "#3e4989"
             ],
             [
              0.3333333333333333,
              "#31688e"
             ],
             [
              0.4444444444444444,
              "#26828e"
             ],
             [
              0.5555555555555556,
              "#1f9e89"
             ],
             [
              0.6666666666666666,
              "#35b779"
             ],
             [
              0.7777777777777778,
              "#6ece58"
             ],
             [
              0.8888888888888888,
              "#b5de2b"
             ],
             [
              1,
              "#fde725"
             ]
            ],
            "type": "contour"
           }
          ],
          "contourcarpet": [
           {
            "colorbar": {
             "outlinewidth": 1,
             "tickcolor": "rgb(36,36,36)",
             "ticks": "outside"
            },
            "type": "contourcarpet"
           }
          ],
          "heatmap": [
           {
            "colorbar": {
             "outlinewidth": 1,
             "tickcolor": "rgb(36,36,36)",
             "ticks": "outside"
            },
            "colorscale": [
             [
              0,
              "#440154"
             ],
             [
              0.1111111111111111,
              "#482878"
             ],
             [
              0.2222222222222222,
              "#3e4989"
             ],
             [
              0.3333333333333333,
              "#31688e"
             ],
             [
              0.4444444444444444,
              "#26828e"
             ],
             [
              0.5555555555555556,
              "#1f9e89"
             ],
             [
              0.6666666666666666,
              "#35b779"
             ],
             [
              0.7777777777777778,
              "#6ece58"
             ],
             [
              0.8888888888888888,
              "#b5de2b"
             ],
             [
              1,
              "#fde725"
             ]
            ],
            "type": "heatmap"
           }
          ],
          "heatmapgl": [
           {
            "colorbar": {
             "outlinewidth": 1,
             "tickcolor": "rgb(36,36,36)",
             "ticks": "outside"
            },
            "colorscale": [
             [
              0,
              "#440154"
             ],
             [
              0.1111111111111111,
              "#482878"
             ],
             [
              0.2222222222222222,
              "#3e4989"
             ],
             [
              0.3333333333333333,
              "#31688e"
             ],
             [
              0.4444444444444444,
              "#26828e"
             ],
             [
              0.5555555555555556,
              "#1f9e89"
             ],
             [
              0.6666666666666666,
              "#35b779"
             ],
             [
              0.7777777777777778,
              "#6ece58"
             ],
             [
              0.8888888888888888,
              "#b5de2b"
             ],
             [
              1,
              "#fde725"
             ]
            ],
            "type": "heatmapgl"
           }
          ],
          "histogram": [
           {
            "marker": {
             "line": {
              "color": "white",
              "width": 0.6
             }
            },
            "type": "histogram"
           }
          ],
          "histogram2d": [
           {
            "colorbar": {
             "outlinewidth": 1,
             "tickcolor": "rgb(36,36,36)",
             "ticks": "outside"
            },
            "colorscale": [
             [
              0,
              "#440154"
             ],
             [
              0.1111111111111111,
              "#482878"
             ],
             [
              0.2222222222222222,
              "#3e4989"
             ],
             [
              0.3333333333333333,
              "#31688e"
             ],
             [
              0.4444444444444444,
              "#26828e"
             ],
             [
              0.5555555555555556,
              "#1f9e89"
             ],
             [
              0.6666666666666666,
              "#35b779"
             ],
             [
              0.7777777777777778,
              "#6ece58"
             ],
             [
              0.8888888888888888,
              "#b5de2b"
             ],
             [
              1,
              "#fde725"
             ]
            ],
            "type": "histogram2d"
           }
          ],
          "histogram2dcontour": [
           {
            "colorbar": {
             "outlinewidth": 1,
             "tickcolor": "rgb(36,36,36)",
             "ticks": "outside"
            },
            "colorscale": [
             [
              0,
              "#440154"
             ],
             [
              0.1111111111111111,
              "#482878"
             ],
             [
              0.2222222222222222,
              "#3e4989"
             ],
             [
              0.3333333333333333,
              "#31688e"
             ],
             [
              0.4444444444444444,
              "#26828e"
             ],
             [
              0.5555555555555556,
              "#1f9e89"
             ],
             [
              0.6666666666666666,
              "#35b779"
             ],
             [
              0.7777777777777778,
              "#6ece58"
             ],
             [
              0.8888888888888888,
              "#b5de2b"
             ],
             [
              1,
              "#fde725"
             ]
            ],
            "type": "histogram2dcontour"
           }
          ],
          "mesh3d": [
           {
            "colorbar": {
             "outlinewidth": 1,
             "tickcolor": "rgb(36,36,36)",
             "ticks": "outside"
            },
            "type": "mesh3d"
           }
          ],
          "parcoords": [
           {
            "line": {
             "colorbar": {
              "outlinewidth": 1,
              "tickcolor": "rgb(36,36,36)",
              "ticks": "outside"
             }
            },
            "type": "parcoords"
           }
          ],
          "pie": [
           {
            "automargin": true,
            "type": "pie"
           }
          ],
          "scatter": [
           {
            "fillpattern": {
             "fillmode": "overlay",
             "size": 10,
             "solidity": 0.2
            },
            "type": "scatter"
           }
          ],
          "scatter3d": [
           {
            "line": {
             "colorbar": {
              "outlinewidth": 1,
              "tickcolor": "rgb(36,36,36)",
              "ticks": "outside"
             }
            },
            "marker": {
             "colorbar": {
              "outlinewidth": 1,
              "tickcolor": "rgb(36,36,36)",
              "ticks": "outside"
             }
            },
            "type": "scatter3d"
           }
          ],
          "scattercarpet": [
           {
            "marker": {
             "colorbar": {
              "outlinewidth": 1,
              "tickcolor": "rgb(36,36,36)",
              "ticks": "outside"
             }
            },
            "type": "scattercarpet"
           }
          ],
          "scattergeo": [
           {
            "marker": {
             "colorbar": {
              "outlinewidth": 1,
              "tickcolor": "rgb(36,36,36)",
              "ticks": "outside"
             }
            },
            "type": "scattergeo"
           }
          ],
          "scattergl": [
           {
            "marker": {
             "colorbar": {
              "outlinewidth": 1,
              "tickcolor": "rgb(36,36,36)",
              "ticks": "outside"
             }
            },
            "type": "scattergl"
           }
          ],
          "scattermapbox": [
           {
            "marker": {
             "colorbar": {
              "outlinewidth": 1,
              "tickcolor": "rgb(36,36,36)",
              "ticks": "outside"
             }
            },
            "type": "scattermapbox"
           }
          ],
          "scatterpolar": [
           {
            "marker": {
             "colorbar": {
              "outlinewidth": 1,
              "tickcolor": "rgb(36,36,36)",
              "ticks": "outside"
             }
            },
            "type": "scatterpolar"
           }
          ],
          "scatterpolargl": [
           {
            "marker": {
             "colorbar": {
              "outlinewidth": 1,
              "tickcolor": "rgb(36,36,36)",
              "ticks": "outside"
             }
            },
            "type": "scatterpolargl"
           }
          ],
          "scatterternary": [
           {
            "marker": {
             "colorbar": {
              "outlinewidth": 1,
              "tickcolor": "rgb(36,36,36)",
              "ticks": "outside"
             }
            },
            "type": "scatterternary"
           }
          ],
          "surface": [
           {
            "colorbar": {
             "outlinewidth": 1,
             "tickcolor": "rgb(36,36,36)",
             "ticks": "outside"
            },
            "colorscale": [
             [
              0,
              "#440154"
             ],
             [
              0.1111111111111111,
              "#482878"
             ],
             [
              0.2222222222222222,
              "#3e4989"
             ],
             [
              0.3333333333333333,
              "#31688e"
             ],
             [
              0.4444444444444444,
              "#26828e"
             ],
             [
              0.5555555555555556,
              "#1f9e89"
             ],
             [
              0.6666666666666666,
              "#35b779"
             ],
             [
              0.7777777777777778,
              "#6ece58"
             ],
             [
              0.8888888888888888,
              "#b5de2b"
             ],
             [
              1,
              "#fde725"
             ]
            ],
            "type": "surface"
           }
          ],
          "table": [
           {
            "cells": {
             "fill": {
              "color": "rgb(237,237,237)"
             },
             "line": {
              "color": "white"
             }
            },
            "header": {
             "fill": {
              "color": "rgb(217,217,217)"
             },
             "line": {
              "color": "white"
             }
            },
            "type": "table"
           }
          ]
         },
         "layout": {
          "annotationdefaults": {
           "arrowhead": 0,
           "arrowwidth": 1
          },
          "autotypenumbers": "strict",
          "coloraxis": {
           "colorbar": {
            "outlinewidth": 1,
            "tickcolor": "rgb(36,36,36)",
            "ticks": "outside"
           }
          },
          "colorscale": {
           "diverging": [
            [
             0,
             "rgb(103,0,31)"
            ],
            [
             0.1,
             "rgb(178,24,43)"
            ],
            [
             0.2,
             "rgb(214,96,77)"
            ],
            [
             0.3,
             "rgb(244,165,130)"
            ],
            [
             0.4,
             "rgb(253,219,199)"
            ],
            [
             0.5,
             "rgb(247,247,247)"
            ],
            [
             0.6,
             "rgb(209,229,240)"
            ],
            [
             0.7,
             "rgb(146,197,222)"
            ],
            [
             0.8,
             "rgb(67,147,195)"
            ],
            [
             0.9,
             "rgb(33,102,172)"
            ],
            [
             1,
             "rgb(5,48,97)"
            ]
           ],
           "sequential": [
            [
             0,
             "#440154"
            ],
            [
             0.1111111111111111,
             "#482878"
            ],
            [
             0.2222222222222222,
             "#3e4989"
            ],
            [
             0.3333333333333333,
             "#31688e"
            ],
            [
             0.4444444444444444,
             "#26828e"
            ],
            [
             0.5555555555555556,
             "#1f9e89"
            ],
            [
             0.6666666666666666,
             "#35b779"
            ],
            [
             0.7777777777777778,
             "#6ece58"
            ],
            [
             0.8888888888888888,
             "#b5de2b"
            ],
            [
             1,
             "#fde725"
            ]
           ],
           "sequentialminus": [
            [
             0,
             "#440154"
            ],
            [
             0.1111111111111111,
             "#482878"
            ],
            [
             0.2222222222222222,
             "#3e4989"
            ],
            [
             0.3333333333333333,
             "#31688e"
            ],
            [
             0.4444444444444444,
             "#26828e"
            ],
            [
             0.5555555555555556,
             "#1f9e89"
            ],
            [
             0.6666666666666666,
             "#35b779"
            ],
            [
             0.7777777777777778,
             "#6ece58"
            ],
            [
             0.8888888888888888,
             "#b5de2b"
            ],
            [
             1,
             "#fde725"
            ]
           ]
          },
          "colorway": [
           "#1F77B4",
           "#FF7F0E",
           "#2CA02C",
           "#D62728",
           "#9467BD",
           "#8C564B",
           "#E377C2",
           "#7F7F7F",
           "#BCBD22",
           "#17BECF"
          ],
          "font": {
           "color": "rgb(36,36,36)"
          },
          "geo": {
           "bgcolor": "white",
           "lakecolor": "white",
           "landcolor": "white",
           "showlakes": true,
           "showland": true,
           "subunitcolor": "white"
          },
          "hoverlabel": {
           "align": "left"
          },
          "hovermode": "closest",
          "mapbox": {
           "style": "light"
          },
          "paper_bgcolor": "white",
          "plot_bgcolor": "white",
          "polar": {
           "angularaxis": {
            "gridcolor": "rgb(232,232,232)",
            "linecolor": "rgb(36,36,36)",
            "showgrid": false,
            "showline": true,
            "ticks": "outside"
           },
           "bgcolor": "white",
           "radialaxis": {
            "gridcolor": "rgb(232,232,232)",
            "linecolor": "rgb(36,36,36)",
            "showgrid": false,
            "showline": true,
            "ticks": "outside"
           }
          },
          "scene": {
           "xaxis": {
            "backgroundcolor": "white",
            "gridcolor": "rgb(232,232,232)",
            "gridwidth": 2,
            "linecolor": "rgb(36,36,36)",
            "showbackground": true,
            "showgrid": false,
            "showline": true,
            "ticks": "outside",
            "zeroline": false,
            "zerolinecolor": "rgb(36,36,36)"
           },
           "yaxis": {
            "backgroundcolor": "white",
            "gridcolor": "rgb(232,232,232)",
            "gridwidth": 2,
            "linecolor": "rgb(36,36,36)",
            "showbackground": true,
            "showgrid": false,
            "showline": true,
            "ticks": "outside",
            "zeroline": false,
            "zerolinecolor": "rgb(36,36,36)"
           },
           "zaxis": {
            "backgroundcolor": "white",
            "gridcolor": "rgb(232,232,232)",
            "gridwidth": 2,
            "linecolor": "rgb(36,36,36)",
            "showbackground": true,
            "showgrid": false,
            "showline": true,
            "ticks": "outside",
            "zeroline": false,
            "zerolinecolor": "rgb(36,36,36)"
           }
          },
          "shapedefaults": {
           "fillcolor": "black",
           "line": {
            "width": 0
           },
           "opacity": 0.3
          },
          "ternary": {
           "aaxis": {
            "gridcolor": "rgb(232,232,232)",
            "linecolor": "rgb(36,36,36)",
            "showgrid": false,
            "showline": true,
            "ticks": "outside"
           },
           "baxis": {
            "gridcolor": "rgb(232,232,232)",
            "linecolor": "rgb(36,36,36)",
            "showgrid": false,
            "showline": true,
            "ticks": "outside"
           },
           "bgcolor": "white",
           "caxis": {
            "gridcolor": "rgb(232,232,232)",
            "linecolor": "rgb(36,36,36)",
            "showgrid": false,
            "showline": true,
            "ticks": "outside"
           }
          },
          "title": {
           "x": 0.05
          },
          "xaxis": {
           "automargin": true,
           "gridcolor": "rgb(232,232,232)",
           "linecolor": "rgb(36,36,36)",
           "showgrid": false,
           "showline": true,
           "ticks": "outside",
           "title": {
            "standoff": 15
           },
           "zeroline": false,
           "zerolinecolor": "rgb(36,36,36)"
          },
          "yaxis": {
           "automargin": true,
           "gridcolor": "rgb(232,232,232)",
           "linecolor": "rgb(36,36,36)",
           "showgrid": false,
           "showline": true,
           "ticks": "outside",
           "title": {
            "standoff": 15
           },
           "zeroline": false,
           "zerolinecolor": "rgb(36,36,36)"
          }
         }
        },
        "title": {
         "text": "Average relative humidity range"
        },
        "xaxis": {
         "tickangle": -45,
         "tickmode": "array",
         "ticktext": [
          "Jan",
          "Feb",
          "Mar",
          "Apr",
          "May",
          "Jun",
          "Jul",
          "Aug",
          "Sep",
          "Oct",
          "Nov",
          "Dec"
         ],
         "tickvals": [
          1,
          2,
          3,
          4,
          5,
          6,
          7,
          8,
          9,
          10,
          11,
          12
         ],
         "title": {
          "text": "Month"
         }
        },
        "yaxis": {
         "title": {
          "text": "Relative humidity (%)"
         }
        }
       }
      }
     },
     "metadata": {},
     "output_type": "display_data"
    }
   ],
   "source": [
    "# Create a DataFrame from the DataArrays\n",
    "df = pd.DataFrame({\n",
    "    'month': avg_rh.month.values,\n",
    "    'avg_rh': avg_rh.values,\n",
    "    'max_rh': mean_max_rh.values,\n",
    "    'min_rh': mean_min_rh.values\n",
    "})\n",
    "\n",
    "# Create a line chart for average rel humidity\n",
    "fig = go.Figure()\n",
    "\n",
    "fig.add_trace(go.Scatter(x=df['month'], y=df['avg_rh'], \n",
    "                         mode='lines', \n",
    "                         name='Average relative humidity', \n",
    "                         line_color='rgb(0, 0, 200)')\n",
    "                         )\n",
    "\n",
    "# Add a line chart for max rel humidity\n",
    "fig.add_trace(go.Scatter(x=df['month'], y=df['max_rh'], \n",
    "                         mode='lines',\n",
    "                         name='Average range per month', \n",
    "                         line_color='rgb(5, 150, 250)')\n",
    "                         )\n",
    "\n",
    "# Add a line chart for min rel humidity\n",
    "fig.add_trace(go.Scatter(x=df['month'], y=df['min_rh'], \n",
    "                         mode='lines', \n",
    "                         name='Min realtive humidity', \n",
    "                         line_color='rgb(5, 150, 250)', \n",
    "                         fill='tonexty', \n",
    "                         fillcolor = 'rgba(5, 150, 250, 0.1)', \n",
    "                         showlegend=False)\n",
    "                         )\n",
    "\n",
    "\n",
    "# Set the layout\n",
    "# fig.update_yaxes(range=[0, max(df['max_rh'].values)])\n",
    "\n",
    "fig.update_layout(\n",
    "    title='Average relative humidity range',\n",
    "    \n",
    "    yaxis=dict(title='Relative humidity (%)'),\n",
    "    xaxis=dict(\n",
    "        title='Month',\n",
    "        tickmode='array',\n",
    "        tickvals=df['month'],\n",
    "        ticktext=['Jan', 'Feb', 'Mar', 'Apr', 'May', 'Jun', 'Jul', 'Aug', 'Sep', 'Oct', 'Nov', 'Dec'],\n",
    "        tickangle=-45\n",
    "    ),\n",
    "    template='simple_white'\n",
    ")\n",
    "# Show the figure\n",
    "\n",
    "fig.update_traces(hovertemplate='%{x}: %{y:.0f} % <extra></extra>')\n",
    "fig.show()"
   ]
  },
  {
   "cell_type": "markdown",
   "metadata": {},
   "source": [
    "Shown is the average monthly relative humidity and the average monthly range. The range delimiters show the mean of monhtly maximum and minimum relative humidity. Here as well, keep in mind these are means and not the extreme values."
   ]
  },
  {
   "cell_type": "markdown",
   "metadata": {},
   "source": [
    "### Wind speeds and directions"
   ]
  },
  {
   "cell_type": "code",
   "execution_count": 44,
   "metadata": {},
   "outputs": [
    {
     "name": "stderr",
     "output_type": "stream",
     "text": [
      "/var/folders/65/jjhht_kn6479d_8drvxjcgjh0000gn/T/ipykernel_34385/1095691032.py:19: FutureWarning:\n",
      "\n",
      "The default of observed=False is deprecated and will be changed to True in a future version of pandas. Pass observed=False to retain current behavior or observed=True to adopt the future default and silence this warning.\n",
      "\n"
     ]
    }
   ],
   "source": [
    "# Calculate wind speeds for past data\n",
    "wind_speed = np.sqrt(avg_u**2 + avg_v**2)\n",
    "#convert to km/h\n",
    "wind_speed = wind_speed*3.6\n",
    "\n",
    "# Calculate wind direction (see: https://confluence.ecmwf.int/pages/viewpage.action?pageId=133262398)\n",
    "wind_direction = np.mod(180 + np.arctan2(avg_u, avg_v) * (180 / np.pi), 360)\n",
    "\n",
    "#prepare the data for the wind rose\n",
    "df = pd.DataFrame({'speed': wind_speed, 'direction': wind_direction})\n",
    "\n",
    "bins_dir = np.linspace(0, 360, 9)\n",
    "labels_dir = [\"N\", \"NE\", \"E\", \"SE\", \"S\", \"SW\", \"W\", \"NW\"]\n",
    "bins_speed = np.arange(0, df['speed'].max() + 1.1,  np.round(np.ceil(max(wind_speed.values))/5))\n",
    "df['direction'] = pd.cut(df['direction'], bins=bins_dir, labels = labels_dir)\n",
    "df['speed'] = pd.cut(df['speed'], bins=bins_speed)\n",
    "\n",
    "# Calculate frequencies\n",
    "frequency_df = df.groupby(['direction', 'speed']).size().reset_index(name='frequency')\n",
    "\n",
    "# Calculate total frequency\n",
    "total_frequency = frequency_df['frequency'].sum()\n",
    "\n",
    "# Convert frequency to proportion\n",
    "frequency_df['frequency'] = frequency_df['frequency'] / total_frequency\n",
    "\n",
    "# Get the number of unique 'speed' categories\n",
    "num_categories = len(frequency_df['speed'].unique())\n",
    "\n",
    "# Sort the 'speed' categories\n",
    "sorted_categories = frequency_df['speed'].sort_values().unique()\n"
   ]
  },
  {
   "cell_type": "code",
   "execution_count": null,
   "metadata": {},
   "outputs": [],
   "source": [
    "# Calculate wind speeds with projected data\n",
    "wind_speed = np.sqrt(proj_avg_u**2 + proj_avg_v**2)\n",
    "#convert to km/h\n",
    "wind_speed = wind_speed*3.6\n",
    "\n",
    "# Calculate wind direction (see: https://confluence.ecmwf.int/pages/viewpage.action?pageId=133262398)\n",
    "wind_direction = np.mod(180 + np.arctan2(proj_avg_u, proj_avg_v) * (180 / np.pi), 360)\n",
    "\n",
    "#prepare the data for the wind rose\n",
    "df = pd.DataFrame({'speed': wind_speed, 'direction': wind_direction})\n",
    "\n",
    "bins_dir = np.linspace(0, 360, 9)\n",
    "labels_dir = [\"N\", \"NE\", \"E\", \"SE\", \"S\", \"SW\", \"W\", \"NW\"]\n",
    "bins_speed = np.arange(0, df['speed'].max() + 1.1,  np.round(np.ceil(max(wind_speed.values))/5))\n",
    "df['direction'] = pd.cut(df['direction'], bins=bins_dir, labels = labels_dir)\n",
    "df['speed'] = pd.cut(df['speed'], bins=bins_speed)\n",
    "\n",
    "# Calculate frequencies\n",
    "frequency_df = df.groupby(['direction', 'speed']).size().reset_index(name='frequency')\n",
    "\n",
    "# Calculate total frequency\n",
    "total_frequency = frequency_df['frequency'].sum()\n",
    "\n",
    "# Convert frequency to proportion\n",
    "frequency_df['frequency'] = frequency_df['frequency'] / total_frequency\n",
    "\n",
    "# Get the number of unique 'speed' categories\n",
    "num_categories = len(frequency_df['speed'].unique())\n",
    "\n",
    "# Sort the 'speed' categories\n",
    "sorted_categories = frequency_df['speed'].sort_values().unique()"
   ]
  },
  {
   "cell_type": "code",
   "execution_count": 79,
   "metadata": {},
   "outputs": [
    {
     "ename": "ImportError",
     "evalue": "Please install ipywidgets>=7.0.0 to use the FigureWidget class",
     "output_type": "error",
     "traceback": [
      "\u001b[1;31m---------------------------------------------------------------------------\u001b[0m",
      "\u001b[1;31mImportError\u001b[0m                               Traceback (most recent call last)",
      "Cell \u001b[1;32mIn[79], line 6\u001b[0m\n\u001b[0;32m      3\u001b[0m fig \u001b[38;5;241m=\u001b[39m sp\u001b[38;5;241m.\u001b[39mmake_subplots(rows\u001b[38;5;241m=\u001b[39m\u001b[38;5;241m1\u001b[39m, cols\u001b[38;5;241m=\u001b[39m\u001b[38;5;241m2\u001b[39m, subplot_titles\u001b[38;5;241m=\u001b[39m[\u001b[38;5;124m'\u001b[39m\u001b[38;5;124mGraph 1\u001b[39m\u001b[38;5;124m'\u001b[39m, \u001b[38;5;124m'\u001b[39m\u001b[38;5;124mGraph 2\u001b[39m\u001b[38;5;124m'\u001b[39m])\n\u001b[0;32m      5\u001b[0m \u001b[38;5;66;03m# Duplicate the wind rose chart for the first subplot\u001b[39;00m\n\u001b[1;32m----> 6\u001b[0m fig1 \u001b[38;5;241m=\u001b[39m \u001b[43mgo\u001b[49m\u001b[38;5;241;43m.\u001b[39;49m\u001b[43mFigureWidget\u001b[49m\u001b[43m(\u001b[49m\u001b[43mfig\u001b[49m\u001b[43m)\u001b[49m\n\u001b[0;32m      7\u001b[0m fig1\u001b[38;5;241m.\u001b[39madd_trace(fig[\u001b[38;5;124m'\u001b[39m\u001b[38;5;124mdata\u001b[39m\u001b[38;5;124m'\u001b[39m][\u001b[38;5;241m0\u001b[39m])  \u001b[38;5;66;03m# Assuming there's only one trace in the original figure\u001b[39;00m\n\u001b[0;32m      8\u001b[0m fig1\u001b[38;5;241m.\u001b[39mupdate_layout(width\u001b[38;5;241m=\u001b[39m\u001b[38;5;241m800\u001b[39m, height\u001b[38;5;241m=\u001b[39m\u001b[38;5;241m600\u001b[39m, polar_radialaxis_showgrid\u001b[38;5;241m=\u001b[39m\u001b[38;5;28;01mTrue\u001b[39;00m, polar_angularaxis_showgrid\u001b[38;5;241m=\u001b[39m\u001b[38;5;28;01mTrue\u001b[39;00m)\n",
      "File \u001b[1;32mc:\\Users\\matthias\\miniconda3\\envs\\permaculture\\Lib\\site-packages\\plotly\\missing_ipywidgets.py:13\u001b[0m, in \u001b[0;36mFigureWidget.__init__\u001b[1;34m(self, *args, **kwargs)\u001b[0m\n\u001b[0;32m     12\u001b[0m \u001b[38;5;28;01mdef\u001b[39;00m \u001b[38;5;21m__init__\u001b[39m(\u001b[38;5;28mself\u001b[39m, \u001b[38;5;241m*\u001b[39margs, \u001b[38;5;241m*\u001b[39m\u001b[38;5;241m*\u001b[39mkwargs):\n\u001b[1;32m---> 13\u001b[0m     \u001b[38;5;28;01mraise\u001b[39;00m \u001b[38;5;167;01mImportError\u001b[39;00m(\n\u001b[0;32m     14\u001b[0m         \u001b[38;5;124m\"\u001b[39m\u001b[38;5;124mPlease install ipywidgets>=7.0.0 to use the FigureWidget class\u001b[39m\u001b[38;5;124m\"\u001b[39m\n\u001b[0;32m     15\u001b[0m     )\n",
      "\u001b[1;31mImportError\u001b[0m: Please install ipywidgets>=7.0.0 to use the FigureWidget class"
     ]
    }
   ],
   "source": [
    "import plotly.subplots as sp\n",
    "\n",
    "fig = sp.make_subplots(rows=1, cols=2, subplot_titles=['Graph 1', 'Graph 2'])\n",
    "\n",
    "# Duplicate the wind rose chart for the first subplot\n",
    "fig1 = go.FigureWidget(fig)\n",
    "fig1.add_trace(fig['data'][0])  # Assuming there's only one trace in the original figure\n",
    "fig1.update_layout(width=800, height=600, polar_radialaxis_showgrid=True, polar_angularaxis_showgrid=True)\n",
    "\n",
    "# Duplicate the wind rose chart for the second subplot\n",
    "fig2 = go.FigureWidget(fig)\n",
    "fig2.add_trace(fig['data'][0])  # Assuming there's only one trace in the original figure\n",
    "fig2.update_layout(width=800, height=600, polar_radialaxis_showgrid=True, polar_angularaxis_showgrid=True)\n",
    "\n",
    "# Update the layout of the main figure\n",
    "fig.update_layout(showlegend=True)  # Set showlegend to True for a single legend\n",
    "\n",
    "# Update the subplot titles\n",
    "fig.update_layout(\n",
    "    title_text='Wind Rose Charts',\n",
    "    title_x=0.5,\n",
    ")\n",
    "\n",
    "# Update the layout of each subplot\n",
    "fig1.update_layout(title_text='Graph 1', title_x=0.5)\n",
    "fig2.update_layout(title_text='Graph 2', title_x=0.5)\n",
    "\n",
    "# Update the color scale for each subplot if needed\n",
    "# (e.g., if the color scale is specific to the first graph, you might want to adjust it)\n",
    "# fig2.update_traces(marker=dict(colorscale=custom_color_scale))\n",
    "\n",
    "# Display the subplots\n",
    "fig.add_trace(fig1['data'][0], row=1, col=1)\n",
    "fig.add_trace(fig2['data'][0], row=1, col=2)\n",
    "\n",
    "fig.show()"
   ]
  },
  {
   "cell_type": "markdown",
   "metadata": {},
   "source": [
    "Each wind direction is represented by a bar. The length of the bar indicates how frequently the wind blows from that direction (in %).\n",
    "The colours indicate the averaged wind speed in km/h. Keep in mind that these are averaged values and dont indicate how prone your location can be to events like storms."
   ]
  },
  {
   "cell_type": "markdown",
   "metadata": {},
   "source": [
    "## Average cloud cover and sunrise/sunset times"
   ]
  },
  {
   "cell_type": "code",
   "execution_count": 27,
   "metadata": {},
   "outputs": [
    {
     "name": "stdout",
     "output_type": "stream",
     "text": [
      "['08:24', '08:00', '07:21', '07:34', '06:59', '06:46', '06:59', '07:25', '07:51', '08:18', '07:50', '08:18']\n"
     ]
    }
   ],
   "source": [
    "#find the timezone of the location\n",
    "tf = timezonefinder.TimezoneFinder()\n",
    "timezone_str = tf.certain_timezone_at(lat=location.latitude, lng=location.longitude)\n",
    "\n",
    "#define location infos for the astral package only using coordinates\n",
    "location_info = LocationInfo(None, None, timezone_str, location.latitude, location.longitude)\n",
    "\n",
    "#define two empty lists for sunrise and sunset times\n",
    "sunrise_times, sunset_times = [], []\n",
    "\n",
    "# append sunrise and sunset times for the 15th of every month of 2022. Automatically adjusted for Daylight Saving Time (DST)\n",
    "for month in range(1, 13):\n",
    "    date = datetime(2022, month, 15)\n",
    "    \n",
    "    s = sun(location_info.observer, date=date, tzinfo=timezone_str)\n",
    "    sunrise_times.append(s['sunrise'].strftime('%H:%M'))\n",
    "    sunset_times.append(s['sunset'].strftime('%H:%M'))\n",
    "\n",
    "print(sunrise_times)   "
   ]
  },
  {
   "cell_type": "code",
   "execution_count": 48,
   "metadata": {},
   "outputs": [
    {
     "data": {
      "application/vnd.plotly.v1+json": {
       "config": {
        "plotlyServerURL": "https://plot.ly"
       },
       "data": [
        {
         "colorbar": {
          "title": {
           "text": "Cloud Cover [%]"
          }
         },
         "colorscale": [
          [
           0,
           "rgb(254, 254, 253)"
          ],
          [
           0.09090909090909091,
           "rgb(224, 224, 223)"
          ],
          [
           0.18181818181818182,
           "rgb(197, 197, 195)"
          ],
          [
           0.2727272727272727,
           "rgb(171, 171, 170)"
          ],
          [
           0.36363636363636365,
           "rgb(146, 146, 145)"
          ],
          [
           0.45454545454545453,
           "rgb(124, 123, 122)"
          ],
          [
           0.5454545454545454,
           "rgb(102, 101, 101)"
          ],
          [
           0.6363636363636364,
           "rgb(81, 80, 80)"
          ],
          [
           0.7272727272727273,
           "rgb(59, 59, 59)"
          ],
          [
           0.8181818181818182,
           "rgb(38, 38, 38)"
          ],
          [
           0.9090909090909091,
           "rgb(16, 16, 16)"
          ],
          [
           1,
           "rgb(0, 0, 0)"
          ]
         ],
         "hovertemplate": "Month: %{x}<br>Time:%{y}:00<br>Cloud Cover: %{z:.0f}%<extra></extra>",
         "type": "heatmap",
         "x": [
          0,
          1,
          2,
          3,
          4,
          5,
          6,
          7,
          8,
          9,
          10,
          11
         ],
         "xgap": 5,
         "y": [
          0,
          1,
          2,
          3,
          4,
          5,
          6,
          7,
          8,
          9,
          10,
          11,
          12,
          13,
          14,
          15,
          16,
          17,
          18,
          19,
          20,
          21,
          22,
          23
         ],
         "z": [
          [
           45.97871017456055,
           43.82550048828125,
           44.92333221435547,
           45.73491287231445,
           41.781158447265625,
           25.58266258239746,
           12.094924926757812,
           20.968975067138672,
           35.81513595581055,
           45.213802337646484,
           47.6195068359375,
           50.450645446777344
          ],
          [
           46.843414306640625,
           44.58035659790039,
           44.934322357177734,
           46.05563735961914,
           42.192440032958984,
           25.150463104248047,
           12.24246883392334,
           21.254112243652344,
           36.037818908691406,
           45.35871505737305,
           48.52098846435547,
           51.309043884277344
          ],
          [
           47.62663650512695,
           45.61155319213867,
           45.3848876953125,
           46.29195022583008,
           42.74340057373047,
           25.088272094726562,
           12.249369621276855,
           21.342248916625977,
           36.545440673828125,
           46.19917678833008,
           49.43617248535156,
           52.132450103759766
          ],
          [
           48.46826934814453,
           46.71048355102539,
           45.97685623168945,
           46.32848358154297,
           42.997135162353516,
           25.126070022583008,
           12.32400131225586,
           21.397403717041016,
           37.25632095336914,
           47.22307586669922,
           50.17837905883789,
           52.99313735961914
          ],
          [
           49.62300109863281,
           47.37522506713867,
           46.451087951660156,
           46.38359069824219,
           42.84627914428711,
           25.130924224853516,
           12.33790397644043,
           21.34697914123535,
           38.15335464477539,
           48.107521057128906,
           51.143951416015625,
           54.132808685302734
          ],
          [
           50.70661926269531,
           48.14165496826172,
           46.83732223510742,
           47.06671142578125,
           43.089786529541016,
           25.11505699157715,
           12.320101737976074,
           21.48525047302246,
           39.337547302246094,
           49.0693244934082,
           51.90546417236328,
           55.13126754760742
          ],
          [
           51.37339401245117,
           48.63720703125,
           47.21268844604492,
           47.44853210449219,
           42.82463073730469,
           24.822052001953125,
           12.08355712890625,
           21.612306594848633,
           40.458717346191406,
           50.00189971923828,
           52.301734924316406,
           55.58097457885742
          ],
          [
           51.84584426879883,
           49.01107406616211,
           47.464515686035156,
           46.612892150878906,
           41.39718246459961,
           23.89456558227539,
           11.019208908081055,
           20.13197898864746,
           39.70833206176758,
           50.30229568481445,
           52.84109878540039,
           56.02537536621094
          ],
          [
           52.01666259765625,
           48.315773010253906,
           46.28715896606445,
           45.89140701293945,
           40.47324752807617,
           23.565494537353516,
           10.464696884155273,
           18.65785026550293,
           37.389625549316406,
           47.65875244140625,
           51.84856033325195,
           56.09229278564453
          ],
          [
           50.328182220458984,
           45.95033264160156,
           45.830482482910156,
           46.22139358520508,
           41.154945373535156,
           23.9029541015625,
           10.55236530303955,
           18.207454681396484,
           36.7420768737793,
           45.33933639526367,
           49.760093688964844,
           54.10888671875
          ],
          [
           47.69038772583008,
           44.47646713256836,
           46.53526306152344,
           48.20720672607422,
           43.5731086730957,
           26.0812931060791,
           12.688599586486816,
           20.21877670288086,
           37.73596954345703,
           45.58515167236328,
           48.564292907714844,
           50.8896598815918
          ],
          [
           46.55021286010742,
           44.46388626098633,
           48.18281936645508,
           50.151092529296875,
           45.245941162109375,
           26.94000816345215,
           12.50634479522705,
           20.292577743530273,
           38.58032989501953,
           46.68423843383789,
           48.74457550048828,
           49.24369812011719
          ],
          [
           47.09123229980469,
           45.835079193115234,
           50.52106475830078,
           52.002960205078125,
           47.32563018798828,
           28.536495208740234,
           13.631059646606445,
           21.35544204711914,
           40.47380828857422,
           48.347801208496094,
           49.76292037963867,
           49.32960891723633
          ],
          [
           48.22527313232422,
           47.36661148071289,
           52.20494079589844,
           53.3101806640625,
           48.58208465576172,
           30.459293365478516,
           15.458343505859375,
           23.059173583984375,
           42.32828140258789,
           49.62314987182617,
           51.22079849243164,
           50.135719299316406
          ],
          [
           49.21966552734375,
           48.66569519042969,
           53.139366149902344,
           54.383296966552734,
           49.33591079711914,
           32.17151641845703,
           17.420766830444336,
           25.32888412475586,
           43.49818801879883,
           50.39500045776367,
           52.11588668823242,
           50.79206085205078
          ],
          [
           49.223663330078125,
           48.95589828491211,
           53.23323059082031,
           54.6710205078125,
           49.81062698364258,
           33.85464859008789,
           19.402299880981445,
           27.24764060974121,
           43.97149658203125,
           50.2613410949707,
           51.69786834716797,
           50.516056060791016
          ],
          [
           48.04373550415039,
           47.97502136230469,
           52.47733688354492,
           53.75568389892578,
           49.69593811035156,
           34.99037170410156,
           20.778200149536133,
           28.33005714416504,
           43.798553466796875,
           48.92675018310547,
           50.10634231567383,
           49.3886604309082
          ],
          [
           46.18536376953125,
           45.896202087402344,
           49.90495300292969,
           51.882774353027344,
           48.56561279296875,
           34.58872985839844,
           20.399457931518555,
           27.73567771911621,
           41.743656158447266,
           47.13893508911133,
           48.50188064575195,
           48.5809326171875
          ],
          [
           45.1490592956543,
           44.247314453125,
           46.4134407043457,
           48.804019927978516,
           45.95967483520508,
           32.052345275878906,
           17.85043716430664,
           25.195335388183594,
           39.21688461303711,
           45.759098052978516,
           47.59228515625,
           48.56013107299805
          ],
          [
           44.98637008666992,
           43.58367919921875,
           44.60295867919922,
           46.61970901489258,
           43.346614837646484,
           28.935306549072266,
           14.864842414855957,
           22.52788734436035,
           37.58694076538086,
           45.12571334838867,
           47.26634216308594,
           48.949825286865234
          ],
          [
           45.42621994018555,
           43.40831756591797,
           44.101600646972656,
           45.342403411865234,
           42.26497268676758,
           27.14161491394043,
           13.037660598754883,
           20.92388343811035,
           36.510093688964844,
           45.15945053100586,
           46.92695999145508,
           49.1690788269043
          ],
          [
           45.74028396606445,
           43.50393295288086,
           44.14442825317383,
           44.2657356262207,
           41.60993194580078,
           26.014678955078125,
           12.017614364624023,
           19.99454689025879,
           35.8866081237793,
           45.25995635986328,
           46.568111419677734,
           49.38548278808594
          ],
          [
           45.58050537109375,
           44.0875244140625,
           44.96049118041992,
           45.0969123840332,
           42.21526336669922,
           26.524219512939453,
           13.125356674194336,
           21.95435333251953,
           36.670955657958984,
           45.6349983215332,
           46.852909088134766,
           49.615474700927734
          ],
          [
           45.41730880737305,
           43.92942428588867,
           44.761165618896484,
           45.341644287109375,
           41.64726638793945,
           25.27834129333496,
           12.412182807922363,
           21.37991714477539,
           36.0298957824707,
           45.439109802246094,
           46.98869705200195,
           50.09476089477539
          ]
         ]
        },
        {
         "hovertemplate": "Month: %{x}<br>Sunset at: %{text}<extra></extra>",
         "line": {
          "color": "rgb(150,0,255)",
          "width": 2
         },
         "mode": "lines",
         "name": "Sunset",
         "text": [
          "18:13",
          "18:48",
          "19:16",
          "20:45",
          "21:12",
          "21:33",
          "21:31",
          "21:02",
          "20:17",
          "19:32",
          "17:57",
          "17:51"
         ],
         "type": "scatter",
         "x": [
          0,
          1,
          2,
          3,
          4,
          5,
          6,
          7,
          8,
          9,
          10,
          11
         ],
         "y": [
          18.22,
          18.8,
          19.27,
          20.75,
          21.2,
          21.55,
          21.52,
          21.03,
          20.28,
          19.53,
          17.95,
          17.85
         ]
        },
        {
         "hovertemplate": "Month: %{x}<br>Sunrise at: %{text}<extra></extra>",
         "line": {
          "color": "rgb(255,65,0)",
          "width": 2
         },
         "mode": "lines",
         "name": "Sunrise",
         "text": [
          "08:24",
          "08:00",
          "07:21",
          "07:34",
          "06:59",
          "06:46",
          "06:59",
          "07:25",
          "07:51",
          "08:18",
          "07:50",
          "08:18"
         ],
         "type": "scatter",
         "x": [
          0,
          1,
          2,
          3,
          4,
          5,
          6,
          7,
          8,
          9,
          10,
          11
         ],
         "y": [
          8.4,
          8,
          7.35,
          7.57,
          6.98,
          6.77,
          6.98,
          7.42,
          7.85,
          8.3,
          7.83,
          8.3
         ]
        }
       ],
       "layout": {
        "legend": {
         "x": 1.02,
         "y": 1.15
        },
        "showlegend": true,
        "template": {
         "data": {
          "bar": [
           {
            "error_x": {
             "color": "#2a3f5f"
            },
            "error_y": {
             "color": "#2a3f5f"
            },
            "marker": {
             "line": {
              "color": "#E5ECF6",
              "width": 0.5
             },
             "pattern": {
              "fillmode": "overlay",
              "size": 10,
              "solidity": 0.2
             }
            },
            "type": "bar"
           }
          ],
          "barpolar": [
           {
            "marker": {
             "line": {
              "color": "#E5ECF6",
              "width": 0.5
             },
             "pattern": {
              "fillmode": "overlay",
              "size": 10,
              "solidity": 0.2
             }
            },
            "type": "barpolar"
           }
          ],
          "carpet": [
           {
            "aaxis": {
             "endlinecolor": "#2a3f5f",
             "gridcolor": "white",
             "linecolor": "white",
             "minorgridcolor": "white",
             "startlinecolor": "#2a3f5f"
            },
            "baxis": {
             "endlinecolor": "#2a3f5f",
             "gridcolor": "white",
             "linecolor": "white",
             "minorgridcolor": "white",
             "startlinecolor": "#2a3f5f"
            },
            "type": "carpet"
           }
          ],
          "choropleth": [
           {
            "colorbar": {
             "outlinewidth": 0,
             "ticks": ""
            },
            "type": "choropleth"
           }
          ],
          "contour": [
           {
            "colorbar": {
             "outlinewidth": 0,
             "ticks": ""
            },
            "colorscale": [
             [
              0,
              "#0d0887"
             ],
             [
              0.1111111111111111,
              "#46039f"
             ],
             [
              0.2222222222222222,
              "#7201a8"
             ],
             [
              0.3333333333333333,
              "#9c179e"
             ],
             [
              0.4444444444444444,
              "#bd3786"
             ],
             [
              0.5555555555555556,
              "#d8576b"
             ],
             [
              0.6666666666666666,
              "#ed7953"
             ],
             [
              0.7777777777777778,
              "#fb9f3a"
             ],
             [
              0.8888888888888888,
              "#fdca26"
             ],
             [
              1,
              "#f0f921"
             ]
            ],
            "type": "contour"
           }
          ],
          "contourcarpet": [
           {
            "colorbar": {
             "outlinewidth": 0,
             "ticks": ""
            },
            "type": "contourcarpet"
           }
          ],
          "heatmap": [
           {
            "colorbar": {
             "outlinewidth": 0,
             "ticks": ""
            },
            "colorscale": [
             [
              0,
              "#0d0887"
             ],
             [
              0.1111111111111111,
              "#46039f"
             ],
             [
              0.2222222222222222,
              "#7201a8"
             ],
             [
              0.3333333333333333,
              "#9c179e"
             ],
             [
              0.4444444444444444,
              "#bd3786"
             ],
             [
              0.5555555555555556,
              "#d8576b"
             ],
             [
              0.6666666666666666,
              "#ed7953"
             ],
             [
              0.7777777777777778,
              "#fb9f3a"
             ],
             [
              0.8888888888888888,
              "#fdca26"
             ],
             [
              1,
              "#f0f921"
             ]
            ],
            "type": "heatmap"
           }
          ],
          "heatmapgl": [
           {
            "colorbar": {
             "outlinewidth": 0,
             "ticks": ""
            },
            "colorscale": [
             [
              0,
              "#0d0887"
             ],
             [
              0.1111111111111111,
              "#46039f"
             ],
             [
              0.2222222222222222,
              "#7201a8"
             ],
             [
              0.3333333333333333,
              "#9c179e"
             ],
             [
              0.4444444444444444,
              "#bd3786"
             ],
             [
              0.5555555555555556,
              "#d8576b"
             ],
             [
              0.6666666666666666,
              "#ed7953"
             ],
             [
              0.7777777777777778,
              "#fb9f3a"
             ],
             [
              0.8888888888888888,
              "#fdca26"
             ],
             [
              1,
              "#f0f921"
             ]
            ],
            "type": "heatmapgl"
           }
          ],
          "histogram": [
           {
            "marker": {
             "pattern": {
              "fillmode": "overlay",
              "size": 10,
              "solidity": 0.2
             }
            },
            "type": "histogram"
           }
          ],
          "histogram2d": [
           {
            "colorbar": {
             "outlinewidth": 0,
             "ticks": ""
            },
            "colorscale": [
             [
              0,
              "#0d0887"
             ],
             [
              0.1111111111111111,
              "#46039f"
             ],
             [
              0.2222222222222222,
              "#7201a8"
             ],
             [
              0.3333333333333333,
              "#9c179e"
             ],
             [
              0.4444444444444444,
              "#bd3786"
             ],
             [
              0.5555555555555556,
              "#d8576b"
             ],
             [
              0.6666666666666666,
              "#ed7953"
             ],
             [
              0.7777777777777778,
              "#fb9f3a"
             ],
             [
              0.8888888888888888,
              "#fdca26"
             ],
             [
              1,
              "#f0f921"
             ]
            ],
            "type": "histogram2d"
           }
          ],
          "histogram2dcontour": [
           {
            "colorbar": {
             "outlinewidth": 0,
             "ticks": ""
            },
            "colorscale": [
             [
              0,
              "#0d0887"
             ],
             [
              0.1111111111111111,
              "#46039f"
             ],
             [
              0.2222222222222222,
              "#7201a8"
             ],
             [
              0.3333333333333333,
              "#9c179e"
             ],
             [
              0.4444444444444444,
              "#bd3786"
             ],
             [
              0.5555555555555556,
              "#d8576b"
             ],
             [
              0.6666666666666666,
              "#ed7953"
             ],
             [
              0.7777777777777778,
              "#fb9f3a"
             ],
             [
              0.8888888888888888,
              "#fdca26"
             ],
             [
              1,
              "#f0f921"
             ]
            ],
            "type": "histogram2dcontour"
           }
          ],
          "mesh3d": [
           {
            "colorbar": {
             "outlinewidth": 0,
             "ticks": ""
            },
            "type": "mesh3d"
           }
          ],
          "parcoords": [
           {
            "line": {
             "colorbar": {
              "outlinewidth": 0,
              "ticks": ""
             }
            },
            "type": "parcoords"
           }
          ],
          "pie": [
           {
            "automargin": true,
            "type": "pie"
           }
          ],
          "scatter": [
           {
            "fillpattern": {
             "fillmode": "overlay",
             "size": 10,
             "solidity": 0.2
            },
            "type": "scatter"
           }
          ],
          "scatter3d": [
           {
            "line": {
             "colorbar": {
              "outlinewidth": 0,
              "ticks": ""
             }
            },
            "marker": {
             "colorbar": {
              "outlinewidth": 0,
              "ticks": ""
             }
            },
            "type": "scatter3d"
           }
          ],
          "scattercarpet": [
           {
            "marker": {
             "colorbar": {
              "outlinewidth": 0,
              "ticks": ""
             }
            },
            "type": "scattercarpet"
           }
          ],
          "scattergeo": [
           {
            "marker": {
             "colorbar": {
              "outlinewidth": 0,
              "ticks": ""
             }
            },
            "type": "scattergeo"
           }
          ],
          "scattergl": [
           {
            "marker": {
             "colorbar": {
              "outlinewidth": 0,
              "ticks": ""
             }
            },
            "type": "scattergl"
           }
          ],
          "scattermapbox": [
           {
            "marker": {
             "colorbar": {
              "outlinewidth": 0,
              "ticks": ""
             }
            },
            "type": "scattermapbox"
           }
          ],
          "scatterpolar": [
           {
            "marker": {
             "colorbar": {
              "outlinewidth": 0,
              "ticks": ""
             }
            },
            "type": "scatterpolar"
           }
          ],
          "scatterpolargl": [
           {
            "marker": {
             "colorbar": {
              "outlinewidth": 0,
              "ticks": ""
             }
            },
            "type": "scatterpolargl"
           }
          ],
          "scatterternary": [
           {
            "marker": {
             "colorbar": {
              "outlinewidth": 0,
              "ticks": ""
             }
            },
            "type": "scatterternary"
           }
          ],
          "surface": [
           {
            "colorbar": {
             "outlinewidth": 0,
             "ticks": ""
            },
            "colorscale": [
             [
              0,
              "#0d0887"
             ],
             [
              0.1111111111111111,
              "#46039f"
             ],
             [
              0.2222222222222222,
              "#7201a8"
             ],
             [
              0.3333333333333333,
              "#9c179e"
             ],
             [
              0.4444444444444444,
              "#bd3786"
             ],
             [
              0.5555555555555556,
              "#d8576b"
             ],
             [
              0.6666666666666666,
              "#ed7953"
             ],
             [
              0.7777777777777778,
              "#fb9f3a"
             ],
             [
              0.8888888888888888,
              "#fdca26"
             ],
             [
              1,
              "#f0f921"
             ]
            ],
            "type": "surface"
           }
          ],
          "table": [
           {
            "cells": {
             "fill": {
              "color": "#EBF0F8"
             },
             "line": {
              "color": "white"
             }
            },
            "header": {
             "fill": {
              "color": "#C8D4E3"
             },
             "line": {
              "color": "white"
             }
            },
            "type": "table"
           }
          ]
         },
         "layout": {
          "annotationdefaults": {
           "arrowcolor": "#2a3f5f",
           "arrowhead": 0,
           "arrowwidth": 1
          },
          "autotypenumbers": "strict",
          "coloraxis": {
           "colorbar": {
            "outlinewidth": 0,
            "ticks": ""
           }
          },
          "colorscale": {
           "diverging": [
            [
             0,
             "#8e0152"
            ],
            [
             0.1,
             "#c51b7d"
            ],
            [
             0.2,
             "#de77ae"
            ],
            [
             0.3,
             "#f1b6da"
            ],
            [
             0.4,
             "#fde0ef"
            ],
            [
             0.5,
             "#f7f7f7"
            ],
            [
             0.6,
             "#e6f5d0"
            ],
            [
             0.7,
             "#b8e186"
            ],
            [
             0.8,
             "#7fbc41"
            ],
            [
             0.9,
             "#4d9221"
            ],
            [
             1,
             "#276419"
            ]
           ],
           "sequential": [
            [
             0,
             "#0d0887"
            ],
            [
             0.1111111111111111,
             "#46039f"
            ],
            [
             0.2222222222222222,
             "#7201a8"
            ],
            [
             0.3333333333333333,
             "#9c179e"
            ],
            [
             0.4444444444444444,
             "#bd3786"
            ],
            [
             0.5555555555555556,
             "#d8576b"
            ],
            [
             0.6666666666666666,
             "#ed7953"
            ],
            [
             0.7777777777777778,
             "#fb9f3a"
            ],
            [
             0.8888888888888888,
             "#fdca26"
            ],
            [
             1,
             "#f0f921"
            ]
           ],
           "sequentialminus": [
            [
             0,
             "#0d0887"
            ],
            [
             0.1111111111111111,
             "#46039f"
            ],
            [
             0.2222222222222222,
             "#7201a8"
            ],
            [
             0.3333333333333333,
             "#9c179e"
            ],
            [
             0.4444444444444444,
             "#bd3786"
            ],
            [
             0.5555555555555556,
             "#d8576b"
            ],
            [
             0.6666666666666666,
             "#ed7953"
            ],
            [
             0.7777777777777778,
             "#fb9f3a"
            ],
            [
             0.8888888888888888,
             "#fdca26"
            ],
            [
             1,
             "#f0f921"
            ]
           ]
          },
          "colorway": [
           "#636efa",
           "#EF553B",
           "#00cc96",
           "#ab63fa",
           "#FFA15A",
           "#19d3f3",
           "#FF6692",
           "#B6E880",
           "#FF97FF",
           "#FECB52"
          ],
          "font": {
           "color": "#2a3f5f"
          },
          "geo": {
           "bgcolor": "white",
           "lakecolor": "white",
           "landcolor": "#E5ECF6",
           "showlakes": true,
           "showland": true,
           "subunitcolor": "white"
          },
          "hoverlabel": {
           "align": "left"
          },
          "hovermode": "closest",
          "mapbox": {
           "style": "light"
          },
          "paper_bgcolor": "white",
          "plot_bgcolor": "#E5ECF6",
          "polar": {
           "angularaxis": {
            "gridcolor": "white",
            "linecolor": "white",
            "ticks": ""
           },
           "bgcolor": "#E5ECF6",
           "radialaxis": {
            "gridcolor": "white",
            "linecolor": "white",
            "ticks": ""
           }
          },
          "scene": {
           "xaxis": {
            "backgroundcolor": "#E5ECF6",
            "gridcolor": "white",
            "gridwidth": 2,
            "linecolor": "white",
            "showbackground": true,
            "ticks": "",
            "zerolinecolor": "white"
           },
           "yaxis": {
            "backgroundcolor": "#E5ECF6",
            "gridcolor": "white",
            "gridwidth": 2,
            "linecolor": "white",
            "showbackground": true,
            "ticks": "",
            "zerolinecolor": "white"
           },
           "zaxis": {
            "backgroundcolor": "#E5ECF6",
            "gridcolor": "white",
            "gridwidth": 2,
            "linecolor": "white",
            "showbackground": true,
            "ticks": "",
            "zerolinecolor": "white"
           }
          },
          "shapedefaults": {
           "line": {
            "color": "#2a3f5f"
           }
          },
          "ternary": {
           "aaxis": {
            "gridcolor": "white",
            "linecolor": "white",
            "ticks": ""
           },
           "baxis": {
            "gridcolor": "white",
            "linecolor": "white",
            "ticks": ""
           },
           "bgcolor": "#E5ECF6",
           "caxis": {
            "gridcolor": "white",
            "linecolor": "white",
            "ticks": ""
           }
          },
          "title": {
           "x": 0.05
          },
          "xaxis": {
           "automargin": true,
           "gridcolor": "white",
           "linecolor": "white",
           "ticks": "",
           "title": {
            "standoff": 15
           },
           "zerolinecolor": "white",
           "zerolinewidth": 2
          },
          "yaxis": {
           "automargin": true,
           "gridcolor": "white",
           "linecolor": "white",
           "ticks": "",
           "title": {
            "standoff": 15
           },
           "zerolinecolor": "white",
           "zerolinewidth": 2
          }
         }
        },
        "title": {
         "text": "Monthly hourly mean cloud cover with sunrise and sunset times"
        },
        "xaxis": {
         "tickangle": -45,
         "tickmode": "array",
         "ticktext": [
          "Jan",
          "Feb",
          "Mar",
          "Apr",
          "May",
          "Jun",
          "Jul",
          "Aug",
          "Sep",
          "Oct",
          "Nov",
          "Dec"
         ],
         "tickvals": [
          0,
          1,
          2,
          3,
          4,
          5,
          6,
          7,
          8,
          9,
          10,
          11,
          12,
          13,
          14,
          15,
          16,
          17,
          18,
          19,
          20,
          21,
          22,
          23,
          24,
          25,
          26,
          27,
          28,
          29,
          30,
          31,
          32,
          33,
          34,
          35,
          36,
          37,
          38,
          39,
          40,
          41,
          42,
          43,
          44,
          45,
          46,
          47,
          48,
          49,
          50,
          51,
          52,
          53,
          54,
          55,
          56,
          57,
          58,
          59,
          60,
          61,
          62,
          63,
          64,
          65,
          66,
          67,
          68,
          69,
          70,
          71,
          72,
          73,
          74,
          75,
          76,
          77,
          78,
          79,
          80,
          81,
          82,
          83,
          84,
          85,
          86,
          87,
          88,
          89,
          90,
          91,
          92,
          93,
          94,
          95,
          96,
          97,
          98,
          99,
          100,
          101,
          102,
          103,
          104,
          105,
          106,
          107,
          108,
          109,
          110,
          111,
          112,
          113,
          114,
          115,
          116,
          117,
          118,
          119,
          120,
          121,
          122,
          123,
          124,
          125,
          126,
          127,
          128,
          129,
          130,
          131,
          132,
          133,
          134,
          135,
          136,
          137,
          138,
          139,
          140,
          141,
          142,
          143,
          144,
          145,
          146,
          147,
          148,
          149,
          150,
          151,
          152,
          153,
          154,
          155,
          156,
          157,
          158,
          159,
          160,
          161,
          162,
          163,
          164,
          165,
          166,
          167,
          168,
          169,
          170,
          171,
          172,
          173,
          174,
          175,
          176,
          177,
          178,
          179,
          180,
          181,
          182,
          183,
          184,
          185,
          186,
          187,
          188,
          189,
          190,
          191,
          192,
          193,
          194,
          195,
          196,
          197,
          198,
          199,
          200,
          201,
          202,
          203,
          204,
          205,
          206,
          207,
          208,
          209,
          210,
          211,
          212,
          213,
          214,
          215,
          216,
          217,
          218,
          219,
          220,
          221,
          222,
          223,
          224,
          225,
          226,
          227,
          228,
          229,
          230,
          231,
          232,
          233,
          234,
          235,
          236,
          237,
          238,
          239,
          240,
          241,
          242,
          243,
          244,
          245,
          246,
          247,
          248,
          249,
          250,
          251,
          252,
          253,
          254,
          255,
          256,
          257,
          258,
          259,
          260,
          261,
          262,
          263,
          264,
          265,
          266,
          267,
          268,
          269,
          270,
          271,
          272,
          273,
          274,
          275,
          276,
          277,
          278,
          279,
          280,
          281,
          282,
          283,
          284,
          285,
          286,
          287
         ],
         "title": {
          "text": "Month"
         }
        },
        "yaxis": {
         "dtick": 2,
         "title": {
          "text": "Hour of the day"
         }
        }
       }
      }
     },
     "metadata": {},
     "output_type": "display_data"
    }
   ],
   "source": [
    "# Create a graph with cloud cover values plus sunrise and sunset times\n",
    "\n",
    "# Get rid of the coding of the month/hour combination used for grouping before. \n",
    "month_values = avg_tcc['group'] // 100\n",
    "hour_values = avg_tcc['group'] % 100\n",
    "\n",
    "# Reshape the data to match the format expected by Plotly\n",
    "data_reshaped = avg_tcc.values.reshape((12, 24)).T*100  # Use -1 to automatically infer the size\n",
    "\n",
    "fig = go.Figure()\n",
    "\n",
    "fig.add_trace(go.Heatmap(\n",
    "    z=data_reshaped,\n",
    "    x=list(range(12)),\n",
    "    y=list(range(24)),\n",
    "    xgap = 5,\n",
    "    colorscale='gray_r',\n",
    "    colorbar=dict(title=\"Cloud Cover [%]\"),\n",
    "    hovertemplate='Month: %{x}<br>Time:%{y}:00<br>Cloud Cover: %{z:.0f}%<extra></extra>',  # Custom hover text\n",
    "))\n",
    "\n",
    "# Set x-axis tickvals and ticktext for each month\n",
    "fig.update_xaxes(\n",
    "    tickvals=list(range(len(month_values))),\n",
    "    ticktext=[f\"{month_name}\" for month_name in [\"Jan\", \"Feb\", \"Mar\", \"Apr\", \"May\", \"Jun\", \"Jul\", \"Aug\", \"Sep\", \"Oct\", \"Nov\", \"Dec\"]],\n",
    "    tickmode='array',  # Use 'array' for custom tickvals and ticktext\n",
    "    tickangle=-45,  # Rotate tick labels for better readability\n",
    ")\n",
    "\n",
    "# Set x-axis tickvals and ticktext for each day of the month\n",
    "\n",
    "# Add a line for sunset times\n",
    "fig.add_trace(go.Scatter(\n",
    "    x=list(range(12)),\n",
    "    y=[float('{:.2f}'.format(int(h) + int(m) / 60)) for h, m in [time.split(':') for time in sunset_times]],\n",
    "    mode='lines',\n",
    "    line=dict(color='rgb(150,0,255)', width=2),\n",
    "    name='Sunset',\n",
    "    hovertemplate='Month: %{x}<br>Sunset at: %{text}<extra></extra>',  # Custom hover text\n",
    "    text=sunset_times\n",
    "))\n",
    "\n",
    "# Add a line for sunrise times\n",
    "fig.add_trace(go.Scatter(\n",
    "    x=list(range(12)),\n",
    "    y=[float('{:.2f}'.format(int(h) + int(m) / 60)) for h, m in [time.split(':') for time in sunrise_times]],\n",
    "    mode='lines',\n",
    "    line=dict(color='rgb(255,65,0)', width=2),\n",
    "    name='Sunrise',\n",
    "    hovertemplate='Month: %{x}<br>Sunrise at: %{text}<extra></extra>',  # Custom hover text\n",
    "    text=sunrise_times\n",
    "    ))\n",
    "\n",
    "# Update layout to show custom line in legend and set title and x axis\n",
    "fig.update_layout(\n",
    "    title='Monthly hourly mean cloud cover with sunrise and sunset times',\n",
    "    yaxis_title='Hour of the day',\n",
    "    xaxis_title='Month',\n",
    "    showlegend=True,\n",
    "    legend=dict(x=1.02, y=1.15),\n",
    "    yaxis=dict(\n",
    "        dtick=2,)\n",
    ")\n",
    "fig.show()"
   ]
  },
  {
   "cell_type": "markdown",
   "metadata": {},
   "source": [
    "This plot shows average hourly cloud cover for each month. Hourly changes of a month describe the cloud cover cycle of an average day for the associated month, while changes between months highlight the average seasonal trends.     \\\n",
    "The two lines show sunrise and sunset times, adjusted for the timezone of the location as well as daylight saving times.  "
   ]
  },
  {
   "cell_type": "code",
   "execution_count": 198,
   "metadata": {},
   "outputs": [
    {
     "ename": "ZoneInfoNotFoundError",
     "evalue": "'No time zone found with key London'",
     "output_type": "error",
     "traceback": [
      "\u001b[1;31m---------------------------------------------------------------------------\u001b[0m",
      "\u001b[1;31mFileNotFoundError\u001b[0m                         Traceback (most recent call last)",
      "File \u001b[1;32mc:\\Users\\matthias\\miniconda3\\envs\\permaculture\\Lib\\zoneinfo\\_common.py:12\u001b[0m, in \u001b[0;36mload_tzdata\u001b[1;34m(key)\u001b[0m\n\u001b[0;32m     11\u001b[0m \u001b[38;5;28;01mtry\u001b[39;00m:\n\u001b[1;32m---> 12\u001b[0m     \u001b[38;5;28;01mreturn\u001b[39;00m \u001b[43mresources\u001b[49m\u001b[38;5;241;43m.\u001b[39;49m\u001b[43mfiles\u001b[49m\u001b[43m(\u001b[49m\u001b[43mpackage_name\u001b[49m\u001b[43m)\u001b[49m\u001b[38;5;241;43m.\u001b[39;49m\u001b[43mjoinpath\u001b[49m\u001b[43m(\u001b[49m\u001b[43mresource_name\u001b[49m\u001b[43m)\u001b[49m\u001b[38;5;241;43m.\u001b[39;49m\u001b[43mopen\u001b[49m\u001b[43m(\u001b[49m\u001b[38;5;124;43m\"\u001b[39;49m\u001b[38;5;124;43mrb\u001b[39;49m\u001b[38;5;124;43m\"\u001b[39;49m\u001b[43m)\u001b[49m\n\u001b[0;32m     13\u001b[0m \u001b[38;5;28;01mexcept\u001b[39;00m (\u001b[38;5;167;01mImportError\u001b[39;00m, \u001b[38;5;167;01mFileNotFoundError\u001b[39;00m, \u001b[38;5;167;01mUnicodeEncodeError\u001b[39;00m):\n\u001b[0;32m     14\u001b[0m     \u001b[38;5;66;03m# There are three types of exception that can be raised that all amount\u001b[39;00m\n\u001b[0;32m     15\u001b[0m     \u001b[38;5;66;03m# to \"we cannot find this key\":\u001b[39;00m\n\u001b[1;32m   (...)\u001b[0m\n\u001b[0;32m     22\u001b[0m     \u001b[38;5;66;03m# UnicodeEncodeError: If package_name or resource_name are not UTF-8,\u001b[39;00m\n\u001b[0;32m     23\u001b[0m     \u001b[38;5;66;03m#   such as keys containing a surrogate character.\u001b[39;00m\n",
      "File \u001b[1;32mc:\\Users\\matthias\\miniconda3\\envs\\permaculture\\Lib\\pathlib.py:1014\u001b[0m, in \u001b[0;36mPath.open\u001b[1;34m(self, mode, buffering, encoding, errors, newline)\u001b[0m\n\u001b[0;32m   1013\u001b[0m     encoding \u001b[38;5;241m=\u001b[39m io\u001b[38;5;241m.\u001b[39mtext_encoding(encoding)\n\u001b[1;32m-> 1014\u001b[0m \u001b[38;5;28;01mreturn\u001b[39;00m \u001b[43mio\u001b[49m\u001b[38;5;241;43m.\u001b[39;49m\u001b[43mopen\u001b[49m\u001b[43m(\u001b[49m\u001b[38;5;28;43mself\u001b[39;49m\u001b[43m,\u001b[49m\u001b[43m \u001b[49m\u001b[43mmode\u001b[49m\u001b[43m,\u001b[49m\u001b[43m \u001b[49m\u001b[43mbuffering\u001b[49m\u001b[43m,\u001b[49m\u001b[43m \u001b[49m\u001b[43mencoding\u001b[49m\u001b[43m,\u001b[49m\u001b[43m \u001b[49m\u001b[43merrors\u001b[49m\u001b[43m,\u001b[49m\u001b[43m \u001b[49m\u001b[43mnewline\u001b[49m\u001b[43m)\u001b[49m\n",
      "\u001b[1;31mFileNotFoundError\u001b[0m: [Errno 2] No such file or directory: 'c:\\\\Users\\\\matthias\\\\miniconda3\\\\envs\\\\permaculture\\\\Lib\\\\site-packages\\\\tzdata\\\\zoneinfo\\\\London'",
      "\nDuring handling of the above exception, another exception occurred:\n",
      "\u001b[1;31mZoneInfoNotFoundError\u001b[0m                     Traceback (most recent call last)",
      "Cell \u001b[1;32mIn[198], line 8\u001b[0m\n\u001b[0;32m      6\u001b[0m \u001b[38;5;28;01mfor\u001b[39;00m month \u001b[38;5;129;01min\u001b[39;00m \u001b[38;5;28mrange\u001b[39m(\u001b[38;5;241m1\u001b[39m, \u001b[38;5;241m13\u001b[39m):\n\u001b[0;32m      7\u001b[0m     date \u001b[38;5;241m=\u001b[39m pd\u001b[38;5;241m.\u001b[39mTimestamp(year\u001b[38;5;241m=\u001b[39m\u001b[38;5;241m2023\u001b[39m, month\u001b[38;5;241m=\u001b[39mmonth, day\u001b[38;5;241m=\u001b[39m\u001b[38;5;241m1\u001b[39m)  \u001b[38;5;66;03m# Use the desired year\u001b[39;00m\n\u001b[1;32m----> 8\u001b[0m     sunset_time \u001b[38;5;241m=\u001b[39m \u001b[43msun\u001b[49m\u001b[43m(\u001b[49m\u001b[43mcity\u001b[49m\u001b[38;5;241;43m.\u001b[39;49m\u001b[43mobserver\u001b[49m\u001b[43m,\u001b[49m\u001b[43m \u001b[49m\u001b[43mdate\u001b[49m\u001b[38;5;241;43m=\u001b[39;49m\u001b[43mdate\u001b[49m\u001b[43m,\u001b[49m\u001b[43m \u001b[49m\u001b[43mtzinfo\u001b[49m\u001b[38;5;241;43m=\u001b[39;49m\u001b[43mcity\u001b[49m\u001b[38;5;241;43m.\u001b[39;49m\u001b[43mtimezone\u001b[49m\u001b[43m)\u001b[49m\u001b[38;5;241m.\u001b[39msunset\n\u001b[0;32m      9\u001b[0m     sunset_times\u001b[38;5;241m.\u001b[39mappend(sunset_time)\n\u001b[0;32m     11\u001b[0m \u001b[38;5;66;03m# Create a DataFrame\u001b[39;00m\n",
      "File \u001b[1;32mc:\\Users\\matthias\\miniconda3\\envs\\permaculture\\Lib\\site-packages\\astral\\sun.py:1257\u001b[0m, in \u001b[0;36msun\u001b[1;34m(observer, date, dawn_dusk_depression, tzinfo)\u001b[0m\n\u001b[0;32m   1238\u001b[0m \u001b[38;5;250m\u001b[39m\u001b[38;5;124;03m\"\"\"Calculate all the info for the sun at once.\u001b[39;00m\n\u001b[0;32m   1239\u001b[0m \n\u001b[0;32m   1240\u001b[0m \u001b[38;5;124;03mArgs:\u001b[39;00m\n\u001b[1;32m   (...)\u001b[0m\n\u001b[0;32m   1253\u001b[0m \u001b[38;5;124;03m    ValueError: if passed through from any of the functions\u001b[39;00m\n\u001b[0;32m   1254\u001b[0m \u001b[38;5;124;03m\"\"\"\u001b[39;00m\n\u001b[0;32m   1256\u001b[0m \u001b[38;5;28;01mif\u001b[39;00m \u001b[38;5;28misinstance\u001b[39m(tzinfo, \u001b[38;5;28mstr\u001b[39m):\n\u001b[1;32m-> 1257\u001b[0m     tzinfo \u001b[38;5;241m=\u001b[39m \u001b[43mzoneinfo\u001b[49m\u001b[38;5;241;43m.\u001b[39;49m\u001b[43mZoneInfo\u001b[49m\u001b[43m(\u001b[49m\u001b[43mtzinfo\u001b[49m\u001b[43m)\u001b[49m  \u001b[38;5;66;03m# type: ignore\u001b[39;00m\n\u001b[0;32m   1259\u001b[0m \u001b[38;5;28;01mif\u001b[39;00m date \u001b[38;5;129;01mis\u001b[39;00m \u001b[38;5;28;01mNone\u001b[39;00m:\n\u001b[0;32m   1260\u001b[0m     date \u001b[38;5;241m=\u001b[39m today(tzinfo)  \u001b[38;5;66;03m# type: ignore\u001b[39;00m\n",
      "File \u001b[1;32mc:\\Users\\matthias\\miniconda3\\envs\\permaculture\\Lib\\zoneinfo\\_common.py:24\u001b[0m, in \u001b[0;36mload_tzdata\u001b[1;34m(key)\u001b[0m\n\u001b[0;32m     12\u001b[0m     \u001b[38;5;28;01mreturn\u001b[39;00m resources\u001b[38;5;241m.\u001b[39mfiles(package_name)\u001b[38;5;241m.\u001b[39mjoinpath(resource_name)\u001b[38;5;241m.\u001b[39mopen(\u001b[38;5;124m\"\u001b[39m\u001b[38;5;124mrb\u001b[39m\u001b[38;5;124m\"\u001b[39m)\n\u001b[0;32m     13\u001b[0m \u001b[38;5;28;01mexcept\u001b[39;00m (\u001b[38;5;167;01mImportError\u001b[39;00m, \u001b[38;5;167;01mFileNotFoundError\u001b[39;00m, \u001b[38;5;167;01mUnicodeEncodeError\u001b[39;00m):\n\u001b[0;32m     14\u001b[0m     \u001b[38;5;66;03m# There are three types of exception that can be raised that all amount\u001b[39;00m\n\u001b[0;32m     15\u001b[0m     \u001b[38;5;66;03m# to \"we cannot find this key\":\u001b[39;00m\n\u001b[1;32m   (...)\u001b[0m\n\u001b[0;32m     22\u001b[0m     \u001b[38;5;66;03m# UnicodeEncodeError: If package_name or resource_name are not UTF-8,\u001b[39;00m\n\u001b[0;32m     23\u001b[0m     \u001b[38;5;66;03m#   such as keys containing a surrogate character.\u001b[39;00m\n\u001b[1;32m---> 24\u001b[0m     \u001b[38;5;28;01mraise\u001b[39;00m ZoneInfoNotFoundError(\u001b[38;5;124mf\u001b[39m\u001b[38;5;124m\"\u001b[39m\u001b[38;5;124mNo time zone found with key \u001b[39m\u001b[38;5;132;01m{\u001b[39;00mkey\u001b[38;5;132;01m}\u001b[39;00m\u001b[38;5;124m\"\u001b[39m)\n",
      "\u001b[1;31mZoneInfoNotFoundError\u001b[0m: 'No time zone found with key London'"
     ]
    }
   ],
   "source": [
    "# Define the location (replace with the latitude and longitude of your location)\n",
    "city = LocationInfo(\"Kiel\", \"Germany\", \"London\", 51.5, -0.116)\n",
    "\n",
    "# Calculate the sunset times for each month\n",
    "sunset_times = []\n",
    "for month in range(1, 13):\n",
    "    date = pd.Timestamp(year=2023, month=month, day=1)  # Use the desired year\n",
    "    sunset_time = sun(city.observer, date=date, tzinfo=city.timezone).sunset\n",
    "    sunset_times.append(sunset_time)\n",
    "\n",
    "for month in range(1, 13):\n",
    "    date = datetime(2022, month, 15)\n",
    "    \n",
    "    s = sun(location_info.observer, date=date, tzinfo=timezone_str)\n",
    "    sunrise_times.append(s['sunrise'].strftime('%H:%M'))\n",
    "    sunset_times.append(s['sunset'].strftime('%H:%M'))\n",
    "\n",
    "# Create a DataFrame\n",
    "df = pd.DataFrame({\n",
    "    'Month': pd.date_range(start='2023-01-01', end='2023-12-01', freq='MS').strftime('%B'),  # Use the desired year\n",
    "    'Sunset Time': sunset_times\n",
    "})\n",
    "\n",
    "# Plot with Plotly\n",
    "fig = px.line(df, x='Month', y='Sunset Time', title='Variation of Sunset Times')\n",
    "fig.update_xaxes(title='Month')\n",
    "fig.update_yaxes(title='Sunset Time')\n",
    "fig.show()"
   ]
  }
 ],
 "metadata": {
  "kernelspec": {
   "display_name": "climate_permaculture",
   "language": "python",
   "name": "python3"
  },
  "language_info": {
   "codemirror_mode": {
    "name": "ipython",
    "version": 3
   },
   "file_extension": ".py",
   "mimetype": "text/x-python",
   "name": "python",
   "nbconvert_exporter": "python",
   "pygments_lexer": "ipython3",
   "version": "3.9.7"
  }
 },
 "nbformat": 4,
 "nbformat_minor": 2
}

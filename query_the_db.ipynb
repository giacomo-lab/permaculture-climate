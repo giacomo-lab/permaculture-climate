{
 "cells": [
  {
   "cell_type": "code",
   "execution_count": 2,
   "metadata": {},
   "outputs": [],
   "source": [
    "import sqlite3"
   ]
  },
  {
   "cell_type": "code",
   "execution_count": 5,
   "metadata": {},
   "outputs": [
    {
     "name": "stdout",
     "output_type": "stream",
     "text": [
      "prediction_data\n",
      "2t_climate\n",
      "2d_climate\n",
      "10v_climate\n",
      "10u_climate\n",
      "tp_climate\n",
      "tcc_climate\n",
      "rh_climate\n"
     ]
    }
   ],
   "source": [
    "# Connect to the SQLite database\n",
    "conn = sqlite3.connect('src/data/data.db')\n",
    "cursor = conn.cursor()\n",
    "\n",
    "# Get the list of tables\n",
    "cursor.execute(\"SELECT name FROM sqlite_master WHERE type='table'\")\n",
    "tables = cursor.fetchall()\n",
    "\n",
    "# Print the table names\n",
    "for table in tables:\n",
    "    print(table[0])\n",
    "\n",
    "# Close the connection\n",
    "conn.close()\n"
   ]
  },
  {
   "cell_type": "code",
   "execution_count": 3,
   "metadata": {},
   "outputs": [
    {
     "name": "stdout",
     "output_type": "stream",
     "text": [
      "time\n",
      "lat\n",
      "lon\n",
      "height\n",
      "uas\n",
      "variable\n",
      "vas\n",
      "pr\n",
      "hurs\n",
      "tas\n"
     ]
    }
   ],
   "source": [
    "# Connect to the SQLite database\n",
    "conn = sqlite3.connect('data.db')\n",
    "cursor = conn.cursor()\n",
    "\n",
    "# Get the column names\n",
    "cursor.execute(\"PRAGMA table_info(prediction_data)\")\n",
    "columns = cursor.fetchall()\n",
    "\n",
    "# Print the column names\n",
    "for column in columns:\n",
    "    print(column[1])\n",
    "\n",
    "# Close the connection\n",
    "conn.close()\n",
    "\\"
   ]
  },
  {
   "cell_type": "code",
   "execution_count": 4,
   "metadata": {},
   "outputs": [
    {
     "name": "stdout",
     "output_type": "stream",
     "text": [
      "u_wind_prediction\n",
      "v_wind_prediction\n",
      "precipitation_prediction\n",
      "relative_humidity_prediction\n",
      "temperature_prediction\n"
     ]
    }
   ],
   "source": [
    "# Connect to the SQLite database\n",
    "conn = sqlite3.connect('data.db')\n",
    "cursor = conn.cursor()\n",
    "\n",
    "# Execute the query\n",
    "cursor.execute(\"SELECT DISTINCT variable FROM prediction_data\")\n",
    "\n",
    "# Fetch all the rows\n",
    "rows = cursor.fetchall()\n",
    "\n",
    "# Print the unique values\n",
    "for row in rows:\n",
    "    print(row[0])\n",
    "\n",
    "# Close the connection\n",
    "conn.close()\n"
   ]
  },
  {
   "cell_type": "code",
   "execution_count": 2,
   "metadata": {},
   "outputs": [
    {
     "name": "stdout",
     "output_type": "stream",
     "text": [
      "('2016-01-16 12:00:00', 31.228, -13.359375, 10.0, -1.6247334480285645, 'u_wind_prediction', None, None, None, None)\n",
      "('2016-01-16 12:00:00', 31.228, -12.65625, 10.0, -1.5527491569519043, 'u_wind_prediction', None, None, None, None)\n",
      "('2016-01-16 12:00:00', 31.228, -11.953125, 10.0, -1.6066532135009766, 'u_wind_prediction', None, None, None, None)\n",
      "('2016-01-16 12:00:00', 31.228, -11.25, 10.0, -1.7131534814834595, 'u_wind_prediction', None, None, None, None)\n",
      "('2016-01-16 12:00:00', 31.228, -10.546875, 10.0, -1.6848533153533936, 'u_wind_prediction', None, None, None, None)\n",
      "('2016-01-16 12:00:00', 31.228, -9.84375, 10.0, -1.077538251876831, 'u_wind_prediction', None, None, None, None)\n",
      "('2016-01-16 12:00:00', 31.228, -9.140625, 10.0, -0.9232302904129028, 'u_wind_prediction', None, None, None, None)\n",
      "('2016-01-16 12:00:00', 31.228, -8.4375, 10.0, -0.5155806541442871, 'u_wind_prediction', None, None, None, None)\n",
      "('2016-01-16 12:00:00', 31.228, -7.734375, 10.0, 0.09681114554405212, 'u_wind_prediction', None, None, None, None)\n",
      "('2016-01-16 12:00:00', 31.228, -7.03125, 10.0, 0.6452563405036926, 'u_wind_prediction', None, None, None, None)\n"
     ]
    }
   ],
   "source": [
    "# Connect to the SQLite database\n",
    "conn = sqlite3.connect('data.db')\n",
    "cursor = conn.cursor()\n",
    "\n",
    "# Execute the query\n",
    "cursor.execute(\"SELECT * FROM prediction_data  LIMIT 10\")\n",
    "\n",
    "# Fetch all the rows\n",
    "rows = cursor.fetchall()\n",
    "\n",
    "# Print the rows\n",
    "for row in rows:\n",
    "    print(row)\n",
    "\n",
    "# Close the connection\n",
    "conn.close()\n"
   ]
  },
  {
   "cell_type": "code",
   "execution_count": 22,
   "metadata": {},
   "outputs": [
    {
     "ename": "OperationalError",
     "evalue": "no such table: 2t_climate",
     "output_type": "error",
     "traceback": [
      "\u001b[0;31m---------------------------------------------------------------------------\u001b[0m",
      "\u001b[0;31mOperationalError\u001b[0m                          Traceback (most recent call last)",
      "Cell \u001b[0;32mIn[22], line 9\u001b[0m\n\u001b[1;32m      6\u001b[0m cursor\u001b[38;5;241m.\u001b[39mexecute(\u001b[38;5;124m\"\u001b[39m\u001b[38;5;124mSELECT max(lat), min(lat), max(lon), min(lon) FROM prediction_data\u001b[39m\u001b[38;5;124m\"\u001b[39m)\n\u001b[1;32m      8\u001b[0m \u001b[38;5;66;03m# Execute the query\u001b[39;00m\n\u001b[0;32m----> 9\u001b[0m \u001b[43mcursor\u001b[49m\u001b[38;5;241;43m.\u001b[39;49m\u001b[43mexecute\u001b[49m\u001b[43m(\u001b[49m\u001b[38;5;124;43m\"\u001b[39;49m\u001b[38;5;124;43mSELECT max(latitude), min(latitude), max(longitude), min(longitude) FROM [2t_climate]\u001b[39;49m\u001b[38;5;124;43m\"\u001b[39;49m\u001b[43m)\u001b[49m\n\u001b[1;32m     11\u001b[0m \u001b[38;5;66;03m# Fetch all the rows\u001b[39;00m\n\u001b[1;32m     12\u001b[0m rows \u001b[38;5;241m=\u001b[39m cursor\u001b[38;5;241m.\u001b[39mfetchall()\n",
      "\u001b[0;31mOperationalError\u001b[0m: no such table: 2t_climate"
     ]
    }
   ],
   "source": [
    "# Connect to the SQLite database\n",
    "conn = sqlite3.connect('data.db')\n",
    "cursor = conn.cursor()\n",
    "\n",
    "# Execute the query\n",
    "cursor.execute(\"SELECT max(lat), min(lat), max(lon), min(lon) FROM prediction_data\")\n",
    "\n",
    "# Execute the query\n",
    "cursor.execute(\"SELECT max(latitude), min(latitude), max(longitude), min(longitude) FROM [2t_climate]\")\n",
    "\n",
    "# Fetch all the rows\n",
    "rows = cursor.fetchall()\n",
    "\n",
    "# Print the rows\n",
    "for row in rows:\n",
    "    print(row)\n",
    "\n",
    "# Close the connection\n",
    "conn.close()\n"
   ]
  }
 ],
 "metadata": {
  "kernelspec": {
   "display_name": "climate_permaculture",
   "language": "python",
   "name": "python3"
  },
  "language_info": {
   "codemirror_mode": {
    "name": "ipython",
    "version": 3
   },
   "file_extension": ".py",
   "mimetype": "text/x-python",
   "name": "python",
   "nbconvert_exporter": "python",
   "pygments_lexer": "ipython3",
   "version": "3.9.7"
  }
 },
 "nbformat": 4,
 "nbformat_minor": 2
}

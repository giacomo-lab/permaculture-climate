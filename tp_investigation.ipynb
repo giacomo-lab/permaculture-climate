{
 "cells": [
  {
   "cell_type": "code",
   "execution_count": 1,
   "metadata": {},
   "outputs": [
    {
     "name": "stdout",
     "output_type": "stream",
     "text": [
      "opening GRIB file\n"
     ]
    }
   ],
   "source": [
    "import xarray as xr\n",
    "import sqlite3\n",
    "import pandas as pd\n",
    "import numpy as np\n",
    "import dask\n",
    "import dask.dataframe as dd\n",
    "import logging\n",
    "\n",
    "# Open the GRIB file\n",
    "print('opening GRIB file')\n",
    "filename = \"src/data/past_climate.grib\"\n",
    "variables = ['tp', 'tcc', 'rh', '2t','2d','10v', '10u'] \n",
    "\n",
    "datasets = {}\n",
    "# Set up Dask to use a single thread\n",
    "dask.config.set(scheduler='single-threaded')\n",
    "for var in variables:\n",
    "    try:\n",
    "        # Open the GRIB file with chunks\n",
    "        ds = xr.open_dataset(filename, engine='cfgrib', backend_kwargs={'filter_by_keys': {'shortName': var}}, chunks={'time': 10})\n",
    "        datasets[var] = ds\n",
    "    except Exception as e:\n",
    "        logging.error('Error opening dataset for variable %s: %s', var, e)"
   ]
  },
  {
   "cell_type": "code",
   "execution_count": 49,
   "metadata": {},
   "outputs": [],
   "source": [
    "datasets['tp']['valid_time'] = datasets['tp']['valid_time'].values.flatten()\n"
   ]
  },
  {
   "cell_type": "code",
   "execution_count": 54,
   "metadata": {},
   "outputs": [
    {
     "data": {
      "text/plain": [
       "13392"
      ]
     },
     "execution_count": 54,
     "metadata": {},
     "output_type": "execute_result"
    }
   ],
   "source": [
    "datasets['tp']\n",
    "tp_values = datasets['tp'].sel(valid_time='1991-12-31T19:00:00.000000000', latitude=38.96, longitude=-3.435, method = 'nearest')['tp'].values\n",
    "np.size(tp_values)"
   ]
  },
  {
   "cell_type": "code",
   "execution_count": 41,
   "metadata": {},
   "outputs": [
    {
     "data": {
      "text/plain": [
       "array([          nan,           nan,           nan,           nan,\n",
       "                 nan,           nan, 2.1133339e-05, 4.4025786e-05,\n",
       "       5.4072851e-05, 4.1033709e-05, 4.2383210e-05, 2.2032807e-05],\n",
       "      dtype=float32)"
      ]
     },
     "execution_count": 41,
     "metadata": {},
     "output_type": "execute_result"
    }
   ],
   "source": [
    "datasets['tp']\n",
    "tp_values = datasets['tp'].sel(time='1994-09-30T18:00:00.000000000', latitude=38.96, longitude=-3.435, method = 'nearest')['tp'].values\n",
    "tp_values"
   ]
  },
  {
   "cell_type": "code",
   "execution_count": 40,
   "metadata": {},
   "outputs": [
    {
     "data": {
      "text/plain": [
       "array([           nan,            nan,            nan,            nan,\n",
       "                  nan,            nan, 7.25808422e-05, 1.07834305e-04,\n",
       "       1.20537181e-04, 1.26841565e-04, 9.24911583e-05, 8.04631272e-05],\n",
       "      dtype=float32)"
      ]
     },
     "execution_count": 40,
     "metadata": {},
     "output_type": "execute_result"
    }
   ],
   "source": [
    "datasets['tp']\n",
    "tp_values = datasets['tp'].sel(time='1994-10-31T18:00:00.000000000', latitude=38.96, longitude=-3.435, method = 'nearest')['tp'].values\n",
    "tp_values\n"
   ]
  },
  {
   "cell_type": "code",
   "execution_count": 35,
   "metadata": {},
   "outputs": [
    {
     "data": {
      "text/plain": [
       "array(5.5693952e-05, dtype=float32)"
      ]
     },
     "execution_count": 35,
     "metadata": {},
     "output_type": "execute_result"
    }
   ],
   "source": [
    "\n",
    "avg = datasets['tp'].sel(time='1994-10-01T18:00:00.000000000', latitude=38.96, longitude=-3.435, method = 'nearest')['tp'].mean(skipna=True).values\n",
    "avg"
   ]
  },
  {
   "cell_type": "code",
   "execution_count": 29,
   "metadata": {},
   "outputs": [
    {
     "data": {
      "text/plain": [
       "array(['1994-10-01T06:00:00.000000000', '1994-10-01T18:00:00.000000000',\n",
       "       '1994-10-31T18:00:00.000000000', '1994-11-01T06:00:00.000000000',\n",
       "       '1994-11-01T18:00:00.000000000', '1994-11-30T18:00:00.000000000',\n",
       "       '1994-12-01T06:00:00.000000000', '1994-12-01T18:00:00.000000000',\n",
       "       '1994-12-31T18:00:00.000000000', '1995-01-01T06:00:00.000000000',\n",
       "       '1995-01-01T18:00:00.000000000', '1995-01-31T18:00:00.000000000',\n",
       "       '1995-02-01T06:00:00.000000000', '1995-02-01T18:00:00.000000000',\n",
       "       '1995-02-28T18:00:00.000000000', '1995-03-01T06:00:00.000000000',\n",
       "       '1995-03-01T18:00:00.000000000', '1995-03-31T18:00:00.000000000',\n",
       "       '1995-04-01T06:00:00.000000000', '1995-04-01T18:00:00.000000000',\n",
       "       '1995-04-30T18:00:00.000000000', '1995-05-01T06:00:00.000000000',\n",
       "       '1995-05-01T18:00:00.000000000', '1995-05-31T18:00:00.000000000',\n",
       "       '1995-06-01T06:00:00.000000000', '1995-06-01T18:00:00.000000000',\n",
       "       '1995-06-30T18:00:00.000000000', '1995-07-01T06:00:00.000000000',\n",
       "       '1995-07-01T18:00:00.000000000', '1995-07-31T18:00:00.000000000',\n",
       "       '1995-08-01T06:00:00.000000000', '1995-08-01T18:00:00.000000000',\n",
       "       '1995-08-31T18:00:00.000000000', '1995-09-01T06:00:00.000000000',\n",
       "       '1995-09-01T18:00:00.000000000', '1995-09-30T18:00:00.000000000',\n",
       "       '1995-10-01T06:00:00.000000000', '1995-10-01T18:00:00.000000000',\n",
       "       '1995-10-31T18:00:00.000000000', '1995-11-01T06:00:00.000000000',\n",
       "       '1995-11-01T18:00:00.000000000', '1995-11-30T18:00:00.000000000',\n",
       "       '1995-12-01T06:00:00.000000000', '1995-12-01T18:00:00.000000000',\n",
       "       '1995-12-31T18:00:00.000000000', '1996-01-01T06:00:00.000000000',\n",
       "       '1996-01-01T18:00:00.000000000', '1996-01-31T18:00:00.000000000',\n",
       "       '1996-02-01T06:00:00.000000000', '1996-02-01T18:00:00.000000000'],\n",
       "      dtype='datetime64[ns]')"
      ]
     },
     "execution_count": 29,
     "metadata": {},
     "output_type": "execute_result"
    }
   ],
   "source": [
    "datasets['tp']['time'].values[100:150]"
   ]
  }
 ],
 "metadata": {
  "kernelspec": {
   "display_name": "climate_permaculture",
   "language": "python",
   "name": "python3"
  },
  "language_info": {
   "codemirror_mode": {
    "name": "ipython",
    "version": 3
   },
   "file_extension": ".py",
   "mimetype": "text/x-python",
   "name": "python",
   "nbconvert_exporter": "python",
   "pygments_lexer": "ipython3",
   "version": "3.9.7"
  }
 },
 "nbformat": 4,
 "nbformat_minor": 2
}

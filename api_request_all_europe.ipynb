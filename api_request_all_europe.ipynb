{
 "cells": [
  {
   "cell_type": "code",
   "execution_count": 2,
   "metadata": {},
   "outputs": [],
   "source": [
    "import cdsapi\n",
    "import xarray as xr\n",
    "import pygrib\n",
    "import numpy as np\n",
    "import pandas as pd\n",
    "\n",
    "import requests\n",
    "import os\n",
    "import xarray as xr\n",
    "#What a permaculture project need to know when they start\n",
    "import time\n",
    "from geopy.geocoders import Nominatim\n"
   ]
  },
  {
   "cell_type": "code",
   "execution_count": 6,
   "metadata": {},
   "outputs": [
    {
     "name": "stdout",
     "output_type": "stream",
     "text": [
      "[1992, 1993, 1994, 1995, 1996, 1997, 1998, 1999, 2000, 2001, 2002, 2003, 2004, 2005, 2006, 2007, 2008, 2009, 2010, 2011, 2012, 2013, 2014, 2015, 2016, 2017, 2018, 2019, 2020, 2021, 2022]\n"
     ]
    },
    {
     "name": "stderr",
     "output_type": "stream",
     "text": [
      "2023-12-07 11:07:00,757 INFO Welcome to the CDS\n",
      "2023-12-07 11:07:00,757 INFO Sending request to https://cds.climate.copernicus.eu/api/v2/resources/reanalysis-era5-single-levels-monthly-means\n",
      "2023-12-07 11:07:00,842 INFO Request is queued\n"
     ]
    },
    {
     "ename": "KeyboardInterrupt",
     "evalue": "",
     "output_type": "error",
     "traceback": [
      "\u001b[0;31m---------------------------------------------------------------------------\u001b[0m",
      "\u001b[0;31mKeyboardInterrupt\u001b[0m                         Traceback (most recent call last)",
      "\u001b[1;32m/Users/giacomo/Documents/projects/permaculture-climate/api_request_all_europe.ipynb Cell 2\u001b[0m line \u001b[0;36m1\n\u001b[1;32m     <a href='vscode-notebook-cell:/Users/giacomo/Documents/projects/permaculture-climate/api_request_all_europe.ipynb#W5sZmlsZQ%3D%3D?line=13'>14</a>\u001b[0m c \u001b[39m=\u001b[39m cdsapi\u001b[39m.\u001b[39mClient()\n\u001b[1;32m     <a href='vscode-notebook-cell:/Users/giacomo/Documents/projects/permaculture-climate/api_request_all_europe.ipynb#W5sZmlsZQ%3D%3D?line=14'>15</a>\u001b[0m \u001b[39mtry\u001b[39;00m:\n\u001b[0;32m---> <a href='vscode-notebook-cell:/Users/giacomo/Documents/projects/permaculture-climate/api_request_all_europe.ipynb#W5sZmlsZQ%3D%3D?line=15'>16</a>\u001b[0m     data \u001b[39m=\u001b[39m c\u001b[39m.\u001b[39;49mretrieve(\u001b[39m\"\u001b[39;49m\u001b[39mreanalysis-era5-single-levels-monthly-means\u001b[39;49m\u001b[39m\"\u001b[39;49m,\n\u001b[1;32m     <a href='vscode-notebook-cell:/Users/giacomo/Documents/projects/permaculture-climate/api_request_all_europe.ipynb#W5sZmlsZQ%3D%3D?line=16'>17</a>\u001b[0m     {\u001b[39m\"\u001b[39;49m\u001b[39mformat\u001b[39;49m\u001b[39m\"\u001b[39;49m: \u001b[39m\"\u001b[39;49m\u001b[39mgrib\u001b[39;49m\u001b[39m\"\u001b[39;49m,\n\u001b[1;32m     <a href='vscode-notebook-cell:/Users/giacomo/Documents/projects/permaculture-climate/api_request_all_europe.ipynb#W5sZmlsZQ%3D%3D?line=17'>18</a>\u001b[0m      \u001b[39m\"\u001b[39;49m\u001b[39mproduct_type\u001b[39;49m\u001b[39m\"\u001b[39;49m: \u001b[39m\"\u001b[39;49m\u001b[39mmonthly_averaged_reanalysis_by_hour_of_day\u001b[39;49m\u001b[39m\"\u001b[39;49m,\n\u001b[1;32m     <a href='vscode-notebook-cell:/Users/giacomo/Documents/projects/permaculture-climate/api_request_all_europe.ipynb#W5sZmlsZQ%3D%3D?line=18'>19</a>\u001b[0m      \u001b[39m\"\u001b[39;49m\u001b[39mvariable\u001b[39;49m\u001b[39m\"\u001b[39;49m: [\u001b[39m'\u001b[39;49m\u001b[39m10m_u_component_of_wind\u001b[39;49m\u001b[39m'\u001b[39;49m, \u001b[39m'\u001b[39;49m\u001b[39m10m_v_component_of_wind\u001b[39;49m\u001b[39m'\u001b[39;49m, \n\u001b[1;32m     <a href='vscode-notebook-cell:/Users/giacomo/Documents/projects/permaculture-climate/api_request_all_europe.ipynb#W5sZmlsZQ%3D%3D?line=19'>20</a>\u001b[0m                 \u001b[39m'\u001b[39;49m\u001b[39m2m_temperature\u001b[39;49m\u001b[39m'\u001b[39;49m,\n\u001b[1;32m     <a href='vscode-notebook-cell:/Users/giacomo/Documents/projects/permaculture-climate/api_request_all_europe.ipynb#W5sZmlsZQ%3D%3D?line=20'>21</a>\u001b[0m                 \u001b[39m'\u001b[39;49m\u001b[39msnowfall\u001b[39;49m\u001b[39m'\u001b[39;49m, \n\u001b[1;32m     <a href='vscode-notebook-cell:/Users/giacomo/Documents/projects/permaculture-climate/api_request_all_europe.ipynb#W5sZmlsZQ%3D%3D?line=21'>22</a>\u001b[0m                 \u001b[39m'\u001b[39;49m\u001b[39msoil_temperature_level_1\u001b[39;49m\u001b[39m'\u001b[39;49m, \n\u001b[1;32m     <a href='vscode-notebook-cell:/Users/giacomo/Documents/projects/permaculture-climate/api_request_all_europe.ipynb#W5sZmlsZQ%3D%3D?line=22'>23</a>\u001b[0m                 \u001b[39m'\u001b[39;49m\u001b[39msoil_type\u001b[39;49m\u001b[39m'\u001b[39;49m,\n\u001b[1;32m     <a href='vscode-notebook-cell:/Users/giacomo/Documents/projects/permaculture-climate/api_request_all_europe.ipynb#W5sZmlsZQ%3D%3D?line=23'>24</a>\u001b[0m                 \u001b[39m'\u001b[39;49m\u001b[39mtotal_cloud_cover\u001b[39;49m\u001b[39m'\u001b[39;49m, \n\u001b[1;32m     <a href='vscode-notebook-cell:/Users/giacomo/Documents/projects/permaculture-climate/api_request_all_europe.ipynb#W5sZmlsZQ%3D%3D?line=24'>25</a>\u001b[0m                 \u001b[39m'\u001b[39;49m\u001b[39mtotal_precipitation\u001b[39;49m\u001b[39m'\u001b[39;49m,\n\u001b[1;32m     <a href='vscode-notebook-cell:/Users/giacomo/Documents/projects/permaculture-climate/api_request_all_europe.ipynb#W5sZmlsZQ%3D%3D?line=25'>26</a>\u001b[0m                 ],\n\u001b[1;32m     <a href='vscode-notebook-cell:/Users/giacomo/Documents/projects/permaculture-climate/api_request_all_europe.ipynb#W5sZmlsZQ%3D%3D?line=26'>27</a>\u001b[0m     \u001b[39m\"\u001b[39;49m\u001b[39marea\u001b[39;49m\u001b[39m\"\u001b[39;49m: [\u001b[39m72\u001b[39;49m,\u001b[39m-\u001b[39;49m\u001b[39m11\u001b[39;49m, \u001b[39m33\u001b[39;49m, \u001b[39m40\u001b[39;49m],  \u001b[39m# North, West, South, East. \u001b[39;49;00m\n\u001b[1;32m     <a href='vscode-notebook-cell:/Users/giacomo/Documents/projects/permaculture-climate/api_request_all_europe.ipynb#W5sZmlsZQ%3D%3D?line=27'>28</a>\u001b[0m     \u001b[39m\"\u001b[39;49m\u001b[39myear\u001b[39;49m\u001b[39m\"\u001b[39;49m: year_range,\n\u001b[1;32m     <a href='vscode-notebook-cell:/Users/giacomo/Documents/projects/permaculture-climate/api_request_all_europe.ipynb#W5sZmlsZQ%3D%3D?line=28'>29</a>\u001b[0m     \u001b[39m\"\u001b[39;49m\u001b[39mmonth\u001b[39;49m\u001b[39m\"\u001b[39;49m: [\u001b[39m'\u001b[39;49m\u001b[39m01\u001b[39;49m\u001b[39m'\u001b[39;49m, \u001b[39m'\u001b[39;49m\u001b[39m02\u001b[39;49m\u001b[39m'\u001b[39;49m, \u001b[39m'\u001b[39;49m\u001b[39m03\u001b[39;49m\u001b[39m'\u001b[39;49m,\n\u001b[1;32m     <a href='vscode-notebook-cell:/Users/giacomo/Documents/projects/permaculture-climate/api_request_all_europe.ipynb#W5sZmlsZQ%3D%3D?line=29'>30</a>\u001b[0m            \u001b[39m'\u001b[39;49m\u001b[39m04\u001b[39;49m\u001b[39m'\u001b[39;49m, \u001b[39m'\u001b[39;49m\u001b[39m05\u001b[39;49m\u001b[39m'\u001b[39;49m, \u001b[39m'\u001b[39;49m\u001b[39m06\u001b[39;49m\u001b[39m'\u001b[39;49m,\n\u001b[1;32m     <a href='vscode-notebook-cell:/Users/giacomo/Documents/projects/permaculture-climate/api_request_all_europe.ipynb#W5sZmlsZQ%3D%3D?line=30'>31</a>\u001b[0m            \u001b[39m'\u001b[39;49m\u001b[39m07\u001b[39;49m\u001b[39m'\u001b[39;49m, \u001b[39m'\u001b[39;49m\u001b[39m08\u001b[39;49m\u001b[39m'\u001b[39;49m, \u001b[39m'\u001b[39;49m\u001b[39m09\u001b[39;49m\u001b[39m'\u001b[39;49m,\n\u001b[1;32m     <a href='vscode-notebook-cell:/Users/giacomo/Documents/projects/permaculture-climate/api_request_all_europe.ipynb#W5sZmlsZQ%3D%3D?line=31'>32</a>\u001b[0m            \u001b[39m'\u001b[39;49m\u001b[39m10\u001b[39;49m\u001b[39m'\u001b[39;49m, \u001b[39m'\u001b[39;49m\u001b[39m11\u001b[39;49m\u001b[39m'\u001b[39;49m, \u001b[39m'\u001b[39;49m\u001b[39m12\u001b[39;49m\u001b[39m'\u001b[39;49m],\n\u001b[1;32m     <a href='vscode-notebook-cell:/Users/giacomo/Documents/projects/permaculture-climate/api_request_all_europe.ipynb#W5sZmlsZQ%3D%3D?line=32'>33</a>\u001b[0m     \u001b[39m\"\u001b[39;49m\u001b[39mtime\u001b[39;49m\u001b[39m\"\u001b[39;49m: [\u001b[39m\"\u001b[39;49m\u001b[39m00:00\u001b[39;49m\u001b[39m\"\u001b[39;49m,\u001b[39m\"\u001b[39;49m\u001b[39m01:00\u001b[39;49m\u001b[39m\"\u001b[39;49m,\u001b[39m\"\u001b[39;49m\u001b[39m02:00\u001b[39;49m\u001b[39m\"\u001b[39;49m,\u001b[39m\"\u001b[39;49m\u001b[39m03:00\u001b[39;49m\u001b[39m\"\u001b[39;49m,\u001b[39m\"\u001b[39;49m\u001b[39m04:00\u001b[39;49m\u001b[39m\"\u001b[39;49m,\u001b[39m\"\u001b[39;49m\u001b[39m05:00\u001b[39;49m\u001b[39m\"\u001b[39;49m,\n\u001b[1;32m     <a href='vscode-notebook-cell:/Users/giacomo/Documents/projects/permaculture-climate/api_request_all_europe.ipynb#W5sZmlsZQ%3D%3D?line=33'>34</a>\u001b[0m              \u001b[39m\"\u001b[39;49m\u001b[39m06:00\u001b[39;49m\u001b[39m\"\u001b[39;49m,\u001b[39m\"\u001b[39;49m\u001b[39m07:00\u001b[39;49m\u001b[39m\"\u001b[39;49m,\u001b[39m\"\u001b[39;49m\u001b[39m08:00\u001b[39;49m\u001b[39m\"\u001b[39;49m,\u001b[39m\"\u001b[39;49m\u001b[39m09:00\u001b[39;49m\u001b[39m\"\u001b[39;49m,\u001b[39m\"\u001b[39;49m\u001b[39m10:00\u001b[39;49m\u001b[39m\"\u001b[39;49m,\u001b[39m\"\u001b[39;49m\u001b[39m11:00\u001b[39;49m\u001b[39m\"\u001b[39;49m,\n\u001b[1;32m     <a href='vscode-notebook-cell:/Users/giacomo/Documents/projects/permaculture-climate/api_request_all_europe.ipynb#W5sZmlsZQ%3D%3D?line=34'>35</a>\u001b[0m              \u001b[39m\"\u001b[39;49m\u001b[39m12:00\u001b[39;49m\u001b[39m\"\u001b[39;49m, \u001b[39m\"\u001b[39;49m\u001b[39m13:00\u001b[39;49m\u001b[39m\"\u001b[39;49m,\u001b[39m\"\u001b[39;49m\u001b[39m14:00\u001b[39;49m\u001b[39m\"\u001b[39;49m,\u001b[39m\"\u001b[39;49m\u001b[39m15:00\u001b[39;49m\u001b[39m\"\u001b[39;49m,\u001b[39m\"\u001b[39;49m\u001b[39m16:00\u001b[39;49m\u001b[39m\"\u001b[39;49m,\u001b[39m\"\u001b[39;49m\u001b[39m17:00\u001b[39;49m\u001b[39m\"\u001b[39;49m,\n\u001b[1;32m     <a href='vscode-notebook-cell:/Users/giacomo/Documents/projects/permaculture-climate/api_request_all_europe.ipynb#W5sZmlsZQ%3D%3D?line=35'>36</a>\u001b[0m              \u001b[39m\"\u001b[39;49m\u001b[39m18:00\u001b[39;49m\u001b[39m\"\u001b[39;49m,\u001b[39m\"\u001b[39;49m\u001b[39m19:00\u001b[39;49m\u001b[39m\"\u001b[39;49m,\u001b[39m\"\u001b[39;49m\u001b[39m20:00\u001b[39;49m\u001b[39m\"\u001b[39;49m,\u001b[39m\"\u001b[39;49m\u001b[39m21:00\u001b[39;49m\u001b[39m\"\u001b[39;49m,\u001b[39m\"\u001b[39;49m\u001b[39m22:00\u001b[39;49m\u001b[39m\"\u001b[39;49m,\u001b[39m\"\u001b[39;49m\u001b[39m23:00\u001b[39;49m\u001b[39m\"\u001b[39;49m]\n\u001b[1;32m     <a href='vscode-notebook-cell:/Users/giacomo/Documents/projects/permaculture-climate/api_request_all_europe.ipynb#W5sZmlsZQ%3D%3D?line=36'>37</a>\u001b[0m     })\n\u001b[1;32m     <a href='vscode-notebook-cell:/Users/giacomo/Documents/projects/permaculture-climate/api_request_all_europe.ipynb#W5sZmlsZQ%3D%3D?line=38'>39</a>\u001b[0m     \u001b[39m# Get the location of the file to download\u001b[39;00m\n\u001b[1;32m     <a href='vscode-notebook-cell:/Users/giacomo/Documents/projects/permaculture-climate/api_request_all_europe.ipynb#W5sZmlsZQ%3D%3D?line=39'>40</a>\u001b[0m     url \u001b[39m=\u001b[39m data\u001b[39m.\u001b[39mlocation\n",
      "File \u001b[0;32m~/.pyenv/versions/3.9.7/envs/climate_permaculture/lib/python3.9/site-packages/cdsapi/api.py:364\u001b[0m, in \u001b[0;36mClient.retrieve\u001b[0;34m(self, name, request, target)\u001b[0m\n\u001b[1;32m    363\u001b[0m \u001b[39mdef\u001b[39;00m \u001b[39mretrieve\u001b[39m(\u001b[39mself\u001b[39m, name, request, target\u001b[39m=\u001b[39m\u001b[39mNone\u001b[39;00m):\n\u001b[0;32m--> 364\u001b[0m     result \u001b[39m=\u001b[39m \u001b[39mself\u001b[39;49m\u001b[39m.\u001b[39;49m_api(\u001b[39m\"\u001b[39;49m\u001b[39m%s\u001b[39;49;00m\u001b[39m/resources/\u001b[39;49m\u001b[39m%s\u001b[39;49;00m\u001b[39m\"\u001b[39;49m \u001b[39m%\u001b[39;49m (\u001b[39mself\u001b[39;49m\u001b[39m.\u001b[39;49murl, name), request, \u001b[39m\"\u001b[39;49m\u001b[39mPOST\u001b[39;49m\u001b[39m\"\u001b[39;49m)\n\u001b[1;32m    365\u001b[0m     \u001b[39mif\u001b[39;00m target \u001b[39mis\u001b[39;00m \u001b[39mnot\u001b[39;00m \u001b[39mNone\u001b[39;00m:\n\u001b[1;32m    366\u001b[0m         result\u001b[39m.\u001b[39mdownload(target)\n",
      "File \u001b[0;32m~/.pyenv/versions/3.9.7/envs/climate_permaculture/lib/python3.9/site-packages/cdsapi/api.py:492\u001b[0m, in \u001b[0;36mClient._api\u001b[0;34m(self, url, request, method)\u001b[0m\n\u001b[1;32m    489\u001b[0m rid \u001b[39m=\u001b[39m reply[\u001b[39m\"\u001b[39m\u001b[39mrequest_id\u001b[39m\u001b[39m\"\u001b[39m]\n\u001b[1;32m    491\u001b[0m \u001b[39mself\u001b[39m\u001b[39m.\u001b[39mdebug(\u001b[39m\"\u001b[39m\u001b[39mRequest ID is \u001b[39m\u001b[39m%s\u001b[39;00m\u001b[39m, sleep \u001b[39m\u001b[39m%s\u001b[39;00m\u001b[39m\"\u001b[39m, rid, sleep)\n\u001b[0;32m--> 492\u001b[0m time\u001b[39m.\u001b[39;49msleep(sleep)\n\u001b[1;32m    493\u001b[0m sleep \u001b[39m*\u001b[39m\u001b[39m=\u001b[39m \u001b[39m1.5\u001b[39m\n\u001b[1;32m    494\u001b[0m \u001b[39mif\u001b[39;00m sleep \u001b[39m>\u001b[39m \u001b[39mself\u001b[39m\u001b[39m.\u001b[39msleep_max:\n",
      "\u001b[0;31mKeyboardInterrupt\u001b[0m: "
     ]
    }
   ],
   "source": [
    "\n",
    "# select the years you want to download:\n",
    "start_year = 1992\n",
    "end_year = 2022\n",
    "year_range = [i for i in range(start_year, end_year + 1)]\n",
    "print(year_range)\n",
    "\n",
    "\n",
    "\n",
    "c = cdsapi.Client()\n",
    "try:\n",
    "    data = c.retrieve(\"reanalysis-era5-single-levels-monthly-means\",\n",
    "    {\"format\": \"grib\",\n",
    "     \"product_type\": \"monthly_averaged_reanalysis_by_hour_of_day\",\n",
    "     \"variable\": ['10m_u_component_of_wind', '10m_v_component_of_wind', \n",
    "                '2m_temperature',\n",
    "                'snowfall', \n",
    "                'soil_temperature_level_1', \n",
    "                'soil_type',\n",
    "                'total_cloud_cover', \n",
    "                'total_precipitation',\n",
    "                ],\n",
    "    \"area\": [72,-11, 33, 40],  # North, West, South, East. \n",
    "    \"year\": year_range,\n",
    "    \"month\": ['01', '02', '03',\n",
    "           '04', '05', '06',\n",
    "           '07', '08', '09',\n",
    "           '10', '11', '12'],\n",
    "    \"time\": [\"00:00\",\"01:00\",\"02:00\",\"03:00\",\"04:00\",\"05:00\",\n",
    "             \"06:00\",\"07:00\",\"08:00\",\"09:00\",\"10:00\",\"11:00\",\n",
    "             \"12:00\", \"13:00\",\"14:00\",\"15:00\",\"16:00\",\"17:00\",\n",
    "             \"18:00\",\"19:00\",\"20:00\",\"21:00\",\"22:00\",\"23:00\"]\n",
    "    })\n",
    "\n",
    "    # Get the location of the file to download\n",
    "    url = data.location\n",
    "\n",
    "    # Download the file\n",
    "    response = requests.get(url)\n",
    "\n",
    "    # Check if the request was successful\n",
    "    response.raise_for_status()\n",
    "\n",
    "except requests.exceptions.HTTPError as errh:\n",
    "    print (\"HTTP Error:\",errh)\n",
    "except requests.exceptions.ConnectionError as errc:\n",
    "    print (\"Error Connecting:\",errc)\n",
    "except requests.exceptions.Timeout as errt:\n",
    "    print (\"Timeout Error:\",errt)\n",
    "except requests.exceptions.RequestException as err:\n",
    "    print (\"Something went wrong with the request:\",err)\n",
    "\n",
    "else:\n",
    "    # If the request was successful, write the file\n",
    "    filename = 'my_app/data/download.grib'\n",
    "    with open(filename, 'wb') as f:\n",
    "        f.write(response.content)\n",
    "\n",
    "    # Print the location where the file is saved\n"
   ]
  },
  {
   "cell_type": "code",
   "execution_count": 3,
   "metadata": {},
   "outputs": [
    {
     "name": "stdout",
     "output_type": "stream",
     "text": [
      "File saved at: /Users/giacomo/Documents/projects/permaculture-climate/download.grib\n"
     ]
    }
   ],
   "source": [
    "print(f\"File saved at: {os.path.abspath(filename)}\")"
   ]
  },
  {
   "cell_type": "code",
   "execution_count": 30,
   "metadata": {},
   "outputs": [
    {
     "name": "stdout",
     "output_type": "stream",
     "text": [
      "<xarray.Dataset>\n",
      "Dimensions:     (time: 8928, latitude: 157, longitude: 205)\n",
      "Coordinates:\n",
      "    number      int64 ...\n",
      "  * time        (time) datetime64[ns] 1992-01-01 ... 2022-12-01T23:00:00\n",
      "    step        timedelta64[ns] ...\n",
      "    surface     float64 ...\n",
      "  * latitude    (latitude) float64 72.0 71.75 71.5 71.25 ... 33.5 33.25 33.0\n",
      "  * longitude   (longitude) float64 -11.0 -10.75 -10.5 ... 39.5 39.75 40.0\n",
      "    valid_time  (time) datetime64[ns] ...\n",
      "Data variables:\n",
      "    t2m         (time, latitude, longitude) float32 ...\n",
      "Attributes:\n",
      "    GRIB_edition:            1\n",
      "    GRIB_centre:             ecmf\n",
      "    GRIB_centreDescription:  European Centre for Medium-Range Weather Forecasts\n",
      "    GRIB_subCentre:          0\n",
      "    Conventions:             CF-1.7\n",
      "    institution:             European Centre for Medium-Range Weather Forecasts\n",
      "    history:                 2023-12-06T14:11 GRIB to CDM+CF via cfgrib-0.9.1...\n",
      "<xarray.Dataset>\n",
      "Dimensions:     (time: 8928, latitude: 157, longitude: 205)\n",
      "Coordinates:\n",
      "    number      int64 ...\n",
      "  * time        (time) datetime64[ns] 1992-01-01 ... 2022-12-01T23:00:00\n",
      "    step        timedelta64[ns] ...\n",
      "    surface     float64 ...\n",
      "  * latitude    (latitude) float64 72.0 71.75 71.5 71.25 ... 33.5 33.25 33.0\n",
      "  * longitude   (longitude) float64 -11.0 -10.75 -10.5 ... 39.5 39.75 40.0\n",
      "    valid_time  (time) datetime64[ns] ...\n",
      "Data variables:\n",
      "    v10         (time, latitude, longitude) float32 ...\n",
      "Attributes:\n",
      "    GRIB_edition:            1\n",
      "    GRIB_centre:             ecmf\n",
      "    GRIB_centreDescription:  European Centre for Medium-Range Weather Forecasts\n",
      "    GRIB_subCentre:          0\n",
      "    Conventions:             CF-1.7\n",
      "    institution:             European Centre for Medium-Range Weather Forecasts\n",
      "    history:                 2023-12-06T14:11 GRIB to CDM+CF via cfgrib-0.9.1...\n",
      "<xarray.Dataset>\n",
      "Dimensions:     (time: 8928, latitude: 157, longitude: 205)\n",
      "Coordinates:\n",
      "    number      int64 ...\n",
      "  * time        (time) datetime64[ns] 1992-01-01 ... 2022-12-01T23:00:00\n",
      "    step        timedelta64[ns] ...\n",
      "    surface     float64 ...\n",
      "  * latitude    (latitude) float64 72.0 71.75 71.5 71.25 ... 33.5 33.25 33.0\n",
      "  * longitude   (longitude) float64 -11.0 -10.75 -10.5 ... 39.5 39.75 40.0\n",
      "    valid_time  (time) datetime64[ns] ...\n",
      "Data variables:\n",
      "    u10         (time, latitude, longitude) float32 ...\n",
      "Attributes:\n",
      "    GRIB_edition:            1\n",
      "    GRIB_centre:             ecmf\n",
      "    GRIB_centreDescription:  European Centre for Medium-Range Weather Forecasts\n",
      "    GRIB_subCentre:          0\n",
      "    Conventions:             CF-1.7\n",
      "    institution:             European Centre for Medium-Range Weather Forecasts\n",
      "    history:                 2023-12-06T14:11 GRIB to CDM+CF via cfgrib-0.9.1...\n",
      "<xarray.Dataset>\n",
      "Dimensions:     (time: 1116, step: 12, latitude: 157, longitude: 205)\n",
      "Coordinates:\n",
      "    number      int64 ...\n",
      "  * time        (time) datetime64[ns] 1991-12-31T18:00:00 ... 2022-12-01T18:0...\n",
      "  * step        (step) timedelta64[ns] 01:00:00 02:00:00 ... 11:00:00 12:00:00\n",
      "    surface     float64 ...\n",
      "  * latitude    (latitude) float64 72.0 71.75 71.5 71.25 ... 33.5 33.25 33.0\n",
      "  * longitude   (longitude) float64 -11.0 -10.75 -10.5 ... 39.5 39.75 40.0\n",
      "    valid_time  (time, step) datetime64[ns] ...\n",
      "Data variables:\n",
      "    tp          (time, step, latitude, longitude) float32 ...\n",
      "Attributes:\n",
      "    GRIB_edition:            1\n",
      "    GRIB_centre:             ecmf\n",
      "    GRIB_centreDescription:  European Centre for Medium-Range Weather Forecasts\n",
      "    GRIB_subCentre:          0\n",
      "    Conventions:             CF-1.7\n",
      "    institution:             European Centre for Medium-Range Weather Forecasts\n",
      "    history:                 2023-12-06T14:11 GRIB to CDM+CF via cfgrib-0.9.1...\n",
      "<xarray.Dataset>\n",
      "Dimensions:     (time: 8928, latitude: 157, longitude: 205)\n",
      "Coordinates:\n",
      "    number      int64 ...\n",
      "  * time        (time) datetime64[ns] 1992-01-01 ... 2022-12-01T23:00:00\n",
      "    step        timedelta64[ns] ...\n",
      "    surface     float64 ...\n",
      "  * latitude    (latitude) float64 72.0 71.75 71.5 71.25 ... 33.5 33.25 33.0\n",
      "  * longitude   (longitude) float64 -11.0 -10.75 -10.5 ... 39.5 39.75 40.0\n",
      "    valid_time  (time) datetime64[ns] ...\n",
      "Data variables:\n",
      "    tcc         (time, latitude, longitude) float32 ...\n",
      "Attributes:\n",
      "    GRIB_edition:            1\n",
      "    GRIB_centre:             ecmf\n",
      "    GRIB_centreDescription:  European Centre for Medium-Range Weather Forecasts\n",
      "    GRIB_subCentre:          0\n",
      "    Conventions:             CF-1.7\n",
      "    institution:             European Centre for Medium-Range Weather Forecasts\n",
      "    history:                 2023-12-06T14:11 GRIB to CDM+CF via cfgrib-0.9.1...\n"
     ]
    }
   ],
   "source": [
    "filename = \"my_app/data/download.grib\"\n",
    "\n",
    "# List of variables to load\n",
    "variables = ['2t','10v','10u','tp','tcc']\n",
    "\n",
    "# Dictionary to hold the datasets\n",
    "datasets = {}\n",
    "lat = 40\n",
    "lon = -2\n",
    "# Open the GRIB file for each variable using the short name parameter\n",
    "for var in variables:\n",
    "    ds = xr.open_dataset(filename, engine='cfgrib', \n",
    "                         backend_kwargs={'filter_by_keys': {'shortName': var}})\n",
    "    print(ds)\n",
    "    ds = ds.sel(latitude=slice(lat + 1, lat - 1), longitude=slice(lon - 1, lon + 1))\n",
    "    datasets[var] = ds\n"
   ]
  },
  {
   "cell_type": "code",
   "execution_count": 7,
   "metadata": {},
   "outputs": [
    {
     "name": "stdout",
     "output_type": "stream",
     "text": [
      "[1992, 1993, 1994, 1995, 1996, 1997, 1998, 1999, 2000, 2001, 2002, 2003, 2004, 2005, 2006, 2007, 2008, 2009, 2010, 2011, 2012, 2013, 2014, 2015, 2016, 2017, 2018, 2019, 2020, 2021, 2022]\n",
      "download_air_temperature.grib\n",
      "download_eastward_near_surface_wind.grib\n",
      "download_northward_near_surface_wind.grib\n",
      "download_precipitation.grib\n"
     ]
    }
   ],
   "source": [
    "start_year = 2015\n",
    "end_year = 2045\n",
    "year_range_forecast = [str(i) for i in range(start_year, end_year + 1)]\n",
    "print(year_range)\n",
    "\n",
    "dataset_variables = ['air_temperature', 'eastward_near_surface_wind', 'northward_near_surface_wind', 'precipitation']\n",
    "for variable in dataset_variables:\n",
    "    print('download_' + variable + '.grib')\n",
    "\n",
    "# Use geopy to get the latitude and longitude of the city\n",
    "geolocator = Nominatim(user_agent=\"permaculture-climate\")\n",
    "location = geolocator.geocode(\"Puebla de don Fadrique, Spain\")\n",
    "# Add a delay between requests\n",
    "time.sleep(1)\n",
    "\n"
   ]
  },
  {
   "cell_type": "code",
   "execution_count": 11,
   "metadata": {},
   "outputs": [
    {
     "name": "stderr",
     "output_type": "stream",
     "text": [
      "2023-12-07 11:13:49,381 INFO Welcome to the CDS\n",
      "2023-12-07 11:13:49,382 INFO Sending request to https://cds.climate.copernicus.eu/api/v2/resources/projections-cmip6\n",
      "2023-12-07 11:13:49,571 INFO Request is completed\n",
      "2023-12-07 11:13:49,572 INFO Downloading https://download-0012-clone.copernicus-climate.eu/cache-compute-0012/cache/data5/adaptor.esgf_wps.retrieve-1701939571.9456537-19457-5-cd28dd71-1fc9-405d-93cc-4971880ce192.zip to air_temperature.zip (210.7K)\n",
      "2023-12-07 11:13:49,829 INFO Download rate 821.6K/s\n",
      "2023-12-07 11:13:50,284 INFO Welcome to the CDS\n",
      "2023-12-07 11:13:50,285 INFO Sending request to https://cds.climate.copernicus.eu/api/v2/resources/projections-cmip6\n",
      "2023-12-07 11:13:50,421 INFO Downloading https://download-0009-clone.copernicus-climate.eu/cache-compute-0009/cache/data7/adaptor.esgf_wps.retrieve-1701939598.9053617-30161-14-700b752d-bc8b-4adb-8b6b-9f47b1473550.zip to eastward_near_surface_wind.zip (281.8K)\n"
     ]
    },
    {
     "name": "stdout",
     "output_type": "stream",
     "text": [
      "File saved at: /Users/giacomo/Documents/projects/permaculture-climate/download_air_temperature.grib\n"
     ]
    },
    {
     "name": "stderr",
     "output_type": "stream",
     "text": [
      "2023-12-07 11:13:50,749 INFO Download rate 860K/s \n",
      "2023-12-07 11:13:51,191 INFO Welcome to the CDS\n",
      "2023-12-07 11:13:51,192 INFO Sending request to https://cds.climate.copernicus.eu/api/v2/resources/projections-cmip6\n",
      "2023-12-07 11:13:51,294 INFO Downloading https://download-0021.copernicus-climate.eu/cache-compute-0021/cache/data6/adaptor.esgf_wps.retrieve-1701939621.186981-31718-7-8dba7b2d-2a83-400b-bad9-f93c8afb25aa.zip to northward_near_surface_wind.zip (259.2K)\n"
     ]
    },
    {
     "name": "stdout",
     "output_type": "stream",
     "text": [
      "File saved at: /Users/giacomo/Documents/projects/permaculture-climate/download_eastward_near_surface_wind.grib\n"
     ]
    },
    {
     "name": "stderr",
     "output_type": "stream",
     "text": [
      "2023-12-07 11:13:51,618 INFO Download rate 800.1K/s\n",
      "2023-12-07 11:13:52,052 INFO Welcome to the CDS\n",
      "2023-12-07 11:13:52,053 INFO Sending request to https://cds.climate.copernicus.eu/api/v2/resources/projections-cmip6\n",
      "2023-12-07 11:13:52,184 INFO Downloading https://download-0011-clone.copernicus-climate.eu/cache-compute-0011/cache/data9/adaptor.esgf_wps.retrieve-1701687663.886994-10646-15-501ccc0a-32ad-43f1-8704-7cc6b52b7507.zip to precipitation.zip (277.4K)\n"
     ]
    },
    {
     "name": "stdout",
     "output_type": "stream",
     "text": [
      "File saved at: /Users/giacomo/Documents/projects/permaculture-climate/download_northward_near_surface_wind.grib\n"
     ]
    },
    {
     "name": "stderr",
     "output_type": "stream",
     "text": [
      "2023-12-07 11:13:52,546 INFO Download rate 769.5K/s\n"
     ]
    },
    {
     "name": "stdout",
     "output_type": "stream",
     "text": [
      "File saved at: /Users/giacomo/Documents/projects/permaculture-climate/download_precipitation.grib\n",
      "Downloads completed\n"
     ]
    }
   ],
   "source": [
    "c = cdsapi.Client()\n",
    "\n",
    "dataset_variables = ['air_temperature', 'eastward_near_surface_wind', 'northward_near_surface_wind', 'precipitation']\n",
    "for variable in dataset_variables:\n",
    "    #create a loop as air temperature also needs 'level' while the others dont\n",
    "    if variable == 'air_temperature':            \n",
    "        data = c.retrieve(\n",
    "            'projections-cmip6',\n",
    "            {\n",
    "                'format': 'zip',\n",
    "                'temporal_resolution': 'monthly',\n",
    "                'variable': variable,\n",
    "                'experiment': 'ssp2_4_5',\n",
    "                'model': 'cmcc_esm2',\n",
    "                'area':[location.latitude + 1, \n",
    "                    location.longitude - 1, \n",
    "                    location.latitude - 1, \n",
    "                    location.longitude + 1],  # North, West, South, East. \n",
    "                'month': [\n",
    "                    '01', '02', '03',\n",
    "                    '04', '05', '06',\n",
    "                    '07', '08', '09',\n",
    "                    '10', '11', '12',\n",
    "                ],\n",
    "                'year': year_range_forecast,\n",
    "                'level': '1000',\n",
    "            },\n",
    "            variable + '.zip')\n",
    "        url = data.location\n",
    "\n",
    "        # Download the file\n",
    "        response = requests.get(url)\n",
    "\n",
    "       # Check if the request was successful\n",
    "        response.raise_for_status()\n",
    "    else:         \n",
    "        data = c.retrieve(\n",
    "            'projections-cmip6',\n",
    "            {\n",
    "                'format': 'zip',\n",
    "                'temporal_resolution': 'monthly',\n",
    "                'variable': variable,\n",
    "                'experiment': 'ssp2_4_5',\n",
    "                'model': 'cmcc_esm2',\n",
    "                'area':[location.latitude + 1, \n",
    "                    location.longitude - 1, \n",
    "                    location.latitude - 1, \n",
    "                    location.longitude + 1],  # North, West, South, East. \n",
    "                'month': [\n",
    "                    '01', '02', '03',\n",
    "                    '04', '05', '06',\n",
    "                    '07', '08', '09',\n",
    "                    '10', '11', '12',\n",
    "                ],\n",
    "                'year': year_range_forecast,\n",
    "                \n",
    "            },\n",
    "            variable + '.zip')    \n",
    "    # Get the location of the file to download\n",
    "        url = data.location\n",
    "\n",
    "        # Download the file\n",
    "        response = requests.get(url)\n",
    "\n",
    "        # Check if the request was successful\n",
    "        response.raise_for_status()\n",
    "\n",
    "    # If the request was successful, write the file\n",
    "    filename = 'download_' + variable + '.grib'\n",
    "    with open(filename, 'wb') as f:\n",
    "        f.write(response.content)\n",
    "\n",
    "        # Print the location where the file is saved\n",
    "        print(f\"File saved at: {os.path.abspath(filename)}\")\n",
    "print('Downloads completed')\n"
   ]
  }
 ],
 "metadata": {
  "kernelspec": {
   "display_name": "climate_permaculture",
   "language": "python",
   "name": "python3"
  },
  "language_info": {
   "codemirror_mode": {
    "name": "ipython",
    "version": 3
   },
   "file_extension": ".py",
   "mimetype": "text/x-python",
   "name": "python",
   "nbconvert_exporter": "python",
   "pygments_lexer": "ipython3",
   "version": "3.9.7"
  }
 },
 "nbformat": 4,
 "nbformat_minor": 2
}

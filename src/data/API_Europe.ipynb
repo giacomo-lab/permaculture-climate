{
 "cells": [
  {
   "cell_type": "code",
   "execution_count": 1,
   "metadata": {},
   "outputs": [],
   "source": [
    "import cdsapi\n",
    "import requests\n",
    "import os"
   ]
  },
  {
   "cell_type": "code",
   "execution_count": 2,
   "metadata": {},
   "outputs": [],
   "source": [
    "start_year = 1992\n",
    "end_year = 2022\n",
    "year_range = [i for i in range(start_year, end_year + 1)]"
   ]
  },
  {
   "cell_type": "code",
   "execution_count": 4,
   "metadata": {},
   "outputs": [
    {
     "name": "stderr",
     "output_type": "stream",
     "text": [
      "2024-01-09 18:27:58,086 INFO Welcome to the CDS\n",
      "2024-01-09 18:27:58,089 INFO Sending request to https://cds.climate.copernicus.eu/api/v2/resources/reanalysis-era5-single-levels-monthly-means\n",
      "2024-01-09 18:27:58,223 INFO Request is queued\n",
      "2024-01-09 19:25:07,254 INFO Request is running\n",
      "2024-01-09 20:21:54,931 INFO Request is failed\n",
      "2024-01-09 20:21:54,933 ERROR Message: the request you have submitted is not valid\n",
      "2024-01-09 20:21:54,938 ERROR Reason:  wmo_read_any_from_file: error -11 (Input output problem) l=67108864, len=2076588 (Illegal seek); Mars server task finished in error; Double buffer error: Assertion failed: length == buffers_[i].length_ in run, line 282 of /home/cds/git/mars-server/eckit/src/eckit/io/DblBuffer.cc(RemoteException from Connector[mvr0019,marsmvr-0019:49701]) [mars]; Error code is -2; wmo_read_any_from_file: error -11 (Input output problem) l=67108864, len=2076588 (Illegal seek); Mars server task finished in error; Double buffer error: Assertion failed: length == buffers_[i].length_ in run, line 282 of /home/cds/git/mars-server/eckit/src/eckit/io/DblBuffer.cc(RemoteException from Connector[mvr0019,marsmvr-0019:49701]) [mars]; Error code is -2; wmo_read_any_from_file: error -11 (Input output problem) l=67108864, len=2076588 (Illegal seek); Mars server task finished in error; Double buffer error: Assertion failed: length == buffers_[i].length_ in run, line 282 of /home/cds/git/mars-server/eckit/src/eckit/io/DblBuffer.cc(RemoteException from Connector[mvr0019,marsmvr-0019:49701]) [mars]; Error code is -2; wmo_read_any_from_file: error -11 (Input output problem) l=67108864, len=2076588 (Illegal seek); Mars server task finished in error; Double buffer error: Assertion failed: length == buffers_[i].length_ in run, line 282 of /home/cds/git/mars-server/eckit/src/eckit/io/DblBuffer.cc(RemoteException from Connector[mvr0019,marsmvr-0019:49701]) [mars]; Error code is -2; wmo_read_any_from_file: error -11 (Input output problem) l=67108864, len=2076588 (Illegal seek); Mars server task finished in error; Double buffer error: Assertion failed: length == buffers_[i].length_ in run, line 282 of /home/cds/git/mars-server/eckit/src/eckit/io/DblBuffer.cc(RemoteException from Connector[mvr0019,marsmvr-0019:49701]) [mars]; Error code is -2; wmo_read_any_from_file: error -11 (Input output problem) l=67108864, len=2076588 (Illegal seek); Mars server task finished in error; Double buffer error: Assertion failed: length == buffers_[i].length_ in run, line 282 of /home/cds/git/mars-server/eckit/src/eckit/io/DblBuffer.cc(RemoteException from Connector[mvr0019,marsmvr-0019:49701]) [mars]; Error code is -2; Request failed; Some errors reported (last error -2)\n",
      "2024-01-09 20:21:54,943 ERROR   Traceback (most recent call last):\n",
      "2024-01-09 20:21:54,947 ERROR     File \"/opt/cdstoolbox/cdscompute/cdscompute/cdshandlers/services/handler.py\", line 59, in handle_request\n",
      "2024-01-09 20:21:54,951 ERROR       result = cached(context.method, proc, context, context.args, context.kwargs)\n",
      "2024-01-09 20:21:54,958 ERROR     File \"/opt/cdstoolbox/cdscompute/cdscompute/caching.py\", line 108, in cached\n",
      "2024-01-09 20:21:54,965 ERROR       result = proc(context, *context.args, **context.kwargs)\n",
      "2024-01-09 20:21:54,970 ERROR     File \"/opt/cdstoolbox/cdscompute/cdscompute/services.py\", line 124, in __call__\n",
      "2024-01-09 20:21:54,978 ERROR       return p(*args, **kwargs)\n",
      "2024-01-09 20:21:54,982 ERROR     File \"/opt/cdstoolbox/cdscompute/cdscompute/services.py\", line 60, in __call__\n",
      "2024-01-09 20:21:54,987 ERROR       return self.proc(context, *args, **kwargs)\n",
      "2024-01-09 20:21:54,994 ERROR     File \"/home/cds/cdsservices/services/mars/mars.py\", line 48, in internal\n",
      "2024-01-09 20:21:55,000 ERROR       return mars(context, request, **kwargs)\n",
      "2024-01-09 20:21:55,003 ERROR     File \"/home/cds/cdsservices/services/mars/mars.py\", line 20, in mars\n",
      "2024-01-09 20:21:55,007 ERROR       execute_mars(context, requests, info)\n",
      "2024-01-09 20:21:55,011 ERROR     File \"/home/cds/cdsservices/services/mars/execute_mars.py\", line 20, in execute_mars\n",
      "2024-01-09 20:21:55,014 ERROR       exception=MarsException)\n",
      "2024-01-09 20:21:55,020 ERROR     File \"/opt/cdstoolbox/cdscompute/cdscompute/context.py\", line 209, in run_command\n",
      "2024-01-09 20:21:55,026 ERROR       raise exception(call, proc.returncode, output)\n",
      "2024-01-09 20:21:55,030 ERROR   home.cds.cdsservices.services.mars.__init__.py.exceptions.MarsException: wmo_read_any_from_file: error -11 (Input output problem) l=67108864, len=2076588 (Illegal seek); Mars server task finished in error; Double buffer error: Assertion failed: length == buffers_[i].length_ in run, line 282 of /home/cds/git/mars-server/eckit/src/eckit/io/DblBuffer.cc(RemoteException from Connector[mvr0019,marsmvr-0019:49701]) [mars]; Error code is -2; wmo_read_any_from_file: error -11 (Input output problem) l=67108864, len=2076588 (Illegal seek); Mars server task finished in error; Double buffer error: Assertion failed: length == buffers_[i].length_ in run, line 282 of /home/cds/git/mars-server/eckit/src/eckit/io/DblBuffer.cc(RemoteException from Connector[mvr0019,marsmvr-0019:49701]) [mars]; Error code is -2; wmo_read_any_from_file: error -11 (Input output problem) l=67108864, len=2076588 (Illegal seek); Mars server task finished in error; Double buffer error: Assertion failed: length == buffers_[i].length_ in run, line 282 of /home/cds/git/mars-server/eckit/src/eckit/io/DblBuffer.cc(RemoteException from Connector[mvr0019,marsmvr-0019:49701]) [mars]; Error code is -2; wmo_read_any_from_file: error -11 (Input output problem) l=67108864, len=2076588 (Illegal seek); Mars server task finished in error; Double buffer error: Assertion failed: length == buffers_[i].length_ in run, line 282 of /home/cds/git/mars-server/eckit/src/eckit/io/DblBuffer.cc(RemoteException from Connector[mvr0019,marsmvr-0019:49701]) [mars]; Error code is -2; wmo_read_any_from_file: error -11 (Input output problem) l=67108864, len=2076588 (Illegal seek); Mars server task finished in error; Double buffer error: Assertion failed: length == buffers_[i].length_ in run, line 282 of /home/cds/git/mars-server/eckit/src/eckit/io/DblBuffer.cc(RemoteException from Connector[mvr0019,marsmvr-0019:49701]) [mars]; Error code is -2; wmo_read_any_from_file: error -11 (Input output problem) l=67108864, len=2076588 (Illegal seek); Mars server task finished in error; Double buffer error: Assertion failed: length == buffers_[i].length_ in run, line 282 of /home/cds/git/mars-server/eckit/src/eckit/io/DblBuffer.cc(RemoteException from Connector[mvr0019,marsmvr-0019:49701]) [mars]; Error code is -2; Request failed; Some errors reported (last error -2)\n"
     ]
    },
    {
     "ename": "Exception",
     "evalue": "the request you have submitted is not valid. wmo_read_any_from_file: error -11 (Input output problem) l=67108864, len=2076588 (Illegal seek); Mars server task finished in error; Double buffer error: Assertion failed: length == buffers_[i].length_ in run, line 282 of /home/cds/git/mars-server/eckit/src/eckit/io/DblBuffer.cc(RemoteException from Connector[mvr0019,marsmvr-0019:49701]) [mars]; Error code is -2; wmo_read_any_from_file: error -11 (Input output problem) l=67108864, len=2076588 (Illegal seek); Mars server task finished in error; Double buffer error: Assertion failed: length == buffers_[i].length_ in run, line 282 of /home/cds/git/mars-server/eckit/src/eckit/io/DblBuffer.cc(RemoteException from Connector[mvr0019,marsmvr-0019:49701]) [mars]; Error code is -2; wmo_read_any_from_file: error -11 (Input output problem) l=67108864, len=2076588 (Illegal seek); Mars server task finished in error; Double buffer error: Assertion failed: length == buffers_[i].length_ in run, line 282 of /home/cds/git/mars-server/eckit/src/eckit/io/DblBuffer.cc(RemoteException from Connector[mvr0019,marsmvr-0019:49701]) [mars]; Error code is -2; wmo_read_any_from_file: error -11 (Input output problem) l=67108864, len=2076588 (Illegal seek); Mars server task finished in error; Double buffer error: Assertion failed: length == buffers_[i].length_ in run, line 282 of /home/cds/git/mars-server/eckit/src/eckit/io/DblBuffer.cc(RemoteException from Connector[mvr0019,marsmvr-0019:49701]) [mars]; Error code is -2; wmo_read_any_from_file: error -11 (Input output problem) l=67108864, len=2076588 (Illegal seek); Mars server task finished in error; Double buffer error: Assertion failed: length == buffers_[i].length_ in run, line 282 of /home/cds/git/mars-server/eckit/src/eckit/io/DblBuffer.cc(RemoteException from Connector[mvr0019,marsmvr-0019:49701]) [mars]; Error code is -2; wmo_read_any_from_file: error -11 (Input output problem) l=67108864, len=2076588 (Illegal seek); Mars server task finished in error; Double buffer error: Assertion failed: length == buffers_[i].length_ in run, line 282 of /home/cds/git/mars-server/eckit/src/eckit/io/DblBuffer.cc(RemoteException from Connector[mvr0019,marsmvr-0019:49701]) [mars]; Error code is -2; Request failed; Some errors reported (last error -2).",
     "output_type": "error",
     "traceback": [
      "\u001b[1;31m---------------------------------------------------------------------------\u001b[0m",
      "\u001b[1;31mException\u001b[0m                                 Traceback (most recent call last)",
      "Cell \u001b[1;32mIn[4], line 4\u001b[0m\n\u001b[0;32m      2\u001b[0m c \u001b[38;5;241m=\u001b[39m cdsapi\u001b[38;5;241m.\u001b[39mClient()\n\u001b[0;32m      3\u001b[0m \u001b[38;5;28;01mtry\u001b[39;00m:\n\u001b[1;32m----> 4\u001b[0m     data \u001b[38;5;241m=\u001b[39m \u001b[43mc\u001b[49m\u001b[38;5;241;43m.\u001b[39;49m\u001b[43mretrieve\u001b[49m\u001b[43m(\u001b[49m\n\u001b[0;32m      5\u001b[0m \u001b[43m    \u001b[49m\u001b[38;5;124;43m'\u001b[39;49m\u001b[38;5;124;43mreanalysis-era5-single-levels-monthly-means\u001b[39;49m\u001b[38;5;124;43m'\u001b[39;49m\u001b[43m,\u001b[49m\n\u001b[0;32m      6\u001b[0m \u001b[43m    \u001b[49m\u001b[43m{\u001b[49m\n\u001b[0;32m      7\u001b[0m \u001b[43m        \u001b[49m\u001b[38;5;124;43m'\u001b[39;49m\u001b[38;5;124;43mformat\u001b[39;49m\u001b[38;5;124;43m'\u001b[39;49m\u001b[43m:\u001b[49m\u001b[43m \u001b[49m\u001b[38;5;124;43m'\u001b[39;49m\u001b[38;5;124;43mgrib\u001b[39;49m\u001b[38;5;124;43m'\u001b[39;49m\u001b[43m,\u001b[49m\n\u001b[0;32m      8\u001b[0m \u001b[43m        \u001b[49m\u001b[38;5;124;43m'\u001b[39;49m\u001b[38;5;124;43mproduct_type\u001b[39;49m\u001b[38;5;124;43m'\u001b[39;49m\u001b[43m:\u001b[49m\u001b[43m \u001b[49m\u001b[38;5;124;43m'\u001b[39;49m\u001b[38;5;124;43mmonthly_averaged_reanalysis_by_hour_of_day\u001b[39;49m\u001b[38;5;124;43m'\u001b[39;49m\u001b[43m,\u001b[49m\n\u001b[0;32m      9\u001b[0m \u001b[43m        \u001b[49m\u001b[38;5;124;43m'\u001b[39;49m\u001b[38;5;124;43mvariable\u001b[39;49m\u001b[38;5;124;43m'\u001b[39;49m\u001b[43m:\u001b[49m\u001b[43m \u001b[49m\u001b[43m[\u001b[49m\n\u001b[0;32m     10\u001b[0m \u001b[43m            \u001b[49m\u001b[38;5;124;43m'\u001b[39;49m\u001b[38;5;124;43m10m_u_component_of_wind\u001b[39;49m\u001b[38;5;124;43m'\u001b[39;49m\u001b[43m,\u001b[49m\u001b[43m \u001b[49m\u001b[38;5;124;43m'\u001b[39;49m\u001b[38;5;124;43m10m_v_component_of_wind\u001b[39;49m\u001b[38;5;124;43m'\u001b[39;49m\u001b[43m,\u001b[49m\u001b[43m \u001b[49m\u001b[38;5;124;43m'\u001b[39;49m\u001b[38;5;124;43m2m_dewpoint_temperature\u001b[39;49m\u001b[38;5;124;43m'\u001b[39;49m\u001b[43m,\u001b[49m\n\u001b[0;32m     11\u001b[0m \u001b[43m            \u001b[49m\u001b[38;5;124;43m'\u001b[39;49m\u001b[38;5;124;43m2m_temperature\u001b[39;49m\u001b[38;5;124;43m'\u001b[39;49m\u001b[43m,\u001b[49m\u001b[43m \u001b[49m\u001b[38;5;124;43m'\u001b[39;49m\u001b[38;5;124;43mtotal_cloud_cover\u001b[39;49m\u001b[38;5;124;43m'\u001b[39;49m\u001b[43m,\u001b[49m\u001b[43m \u001b[49m\u001b[38;5;124;43m'\u001b[39;49m\u001b[38;5;124;43mtotal_precipitation\u001b[39;49m\u001b[38;5;124;43m'\u001b[39;49m\u001b[43m,\u001b[49m\n\u001b[0;32m     12\u001b[0m \u001b[43m        \u001b[49m\u001b[43m]\u001b[49m\u001b[43m,\u001b[49m\n\u001b[0;32m     13\u001b[0m \u001b[43m    \u001b[49m\u001b[38;5;124;43m\"\u001b[39;49m\u001b[38;5;124;43myear\u001b[39;49m\u001b[38;5;124;43m\"\u001b[39;49m\u001b[43m:\u001b[49m\u001b[43m \u001b[49m\u001b[43myear_range\u001b[49m\u001b[43m,\u001b[49m\n\u001b[0;32m     14\u001b[0m \u001b[43m        \u001b[49m\u001b[38;5;124;43m'\u001b[39;49m\u001b[38;5;124;43mmonth\u001b[39;49m\u001b[38;5;124;43m'\u001b[39;49m\u001b[43m:\u001b[49m\u001b[43m \u001b[49m\u001b[43m[\u001b[49m\n\u001b[0;32m     15\u001b[0m \u001b[43m            \u001b[49m\u001b[38;5;124;43m'\u001b[39;49m\u001b[38;5;124;43m01\u001b[39;49m\u001b[38;5;124;43m'\u001b[39;49m\u001b[43m,\u001b[49m\u001b[43m \u001b[49m\u001b[38;5;124;43m'\u001b[39;49m\u001b[38;5;124;43m02\u001b[39;49m\u001b[38;5;124;43m'\u001b[39;49m\u001b[43m,\u001b[49m\u001b[43m \u001b[49m\u001b[38;5;124;43m'\u001b[39;49m\u001b[38;5;124;43m03\u001b[39;49m\u001b[38;5;124;43m'\u001b[39;49m\u001b[43m,\u001b[49m\n\u001b[0;32m     16\u001b[0m \u001b[43m            \u001b[49m\u001b[38;5;124;43m'\u001b[39;49m\u001b[38;5;124;43m04\u001b[39;49m\u001b[38;5;124;43m'\u001b[39;49m\u001b[43m,\u001b[49m\u001b[43m \u001b[49m\u001b[38;5;124;43m'\u001b[39;49m\u001b[38;5;124;43m05\u001b[39;49m\u001b[38;5;124;43m'\u001b[39;49m\u001b[43m,\u001b[49m\u001b[43m \u001b[49m\u001b[38;5;124;43m'\u001b[39;49m\u001b[38;5;124;43m06\u001b[39;49m\u001b[38;5;124;43m'\u001b[39;49m\u001b[43m,\u001b[49m\n\u001b[0;32m     17\u001b[0m \u001b[43m            \u001b[49m\u001b[38;5;124;43m'\u001b[39;49m\u001b[38;5;124;43m07\u001b[39;49m\u001b[38;5;124;43m'\u001b[39;49m\u001b[43m,\u001b[49m\u001b[43m \u001b[49m\u001b[38;5;124;43m'\u001b[39;49m\u001b[38;5;124;43m08\u001b[39;49m\u001b[38;5;124;43m'\u001b[39;49m\u001b[43m,\u001b[49m\u001b[43m \u001b[49m\u001b[38;5;124;43m'\u001b[39;49m\u001b[38;5;124;43m09\u001b[39;49m\u001b[38;5;124;43m'\u001b[39;49m\u001b[43m,\u001b[49m\n\u001b[0;32m     18\u001b[0m \u001b[43m            \u001b[49m\u001b[38;5;124;43m'\u001b[39;49m\u001b[38;5;124;43m10\u001b[39;49m\u001b[38;5;124;43m'\u001b[39;49m\u001b[43m,\u001b[49m\u001b[43m \u001b[49m\u001b[38;5;124;43m'\u001b[39;49m\u001b[38;5;124;43m11\u001b[39;49m\u001b[38;5;124;43m'\u001b[39;49m\u001b[43m,\u001b[49m\u001b[43m \u001b[49m\u001b[38;5;124;43m'\u001b[39;49m\u001b[38;5;124;43m12\u001b[39;49m\u001b[38;5;124;43m'\u001b[39;49m\u001b[43m,\u001b[49m\n\u001b[0;32m     19\u001b[0m \u001b[43m        \u001b[49m\u001b[43m]\u001b[49m\u001b[43m,\u001b[49m\n\u001b[0;32m     20\u001b[0m \u001b[43m        \u001b[49m\u001b[38;5;124;43m'\u001b[39;49m\u001b[38;5;124;43marea\u001b[39;49m\u001b[38;5;124;43m'\u001b[39;49m\u001b[43m:\u001b[49m\u001b[43m \u001b[49m\u001b[43m[\u001b[49m\n\u001b[0;32m     21\u001b[0m \u001b[43m            \u001b[49m\u001b[38;5;241;43m71\u001b[39;49m\u001b[43m,\u001b[49m\u001b[43m \u001b[49m\n\u001b[0;32m     22\u001b[0m \u001b[43m            \u001b[49m\u001b[38;5;241;43m-\u001b[39;49m\u001b[38;5;241;43m14\u001b[39;49m\u001b[43m,\u001b[49m\u001b[43m \u001b[49m\n\u001b[0;32m     23\u001b[0m \u001b[43m            \u001b[49m\u001b[38;5;241;43m31\u001b[39;49m\u001b[43m,\u001b[49m\n\u001b[0;32m     24\u001b[0m \u001b[43m            \u001b[49m\u001b[38;5;241;43m46\u001b[39;49m\u001b[43m,\u001b[49m\n\u001b[0;32m     25\u001b[0m \u001b[43m        \u001b[49m\u001b[43m]\u001b[49m\u001b[43m,\u001b[49m\u001b[43m  \u001b[49m\u001b[38;5;66;43;03m# North, West, South, East. \u001b[39;49;00m\n\u001b[0;32m     26\u001b[0m \u001b[43m        \u001b[49m\u001b[38;5;124;43m'\u001b[39;49m\u001b[38;5;124;43mtime\u001b[39;49m\u001b[38;5;124;43m'\u001b[39;49m\u001b[43m:\u001b[49m\u001b[43m \u001b[49m\u001b[43m[\u001b[49m\n\u001b[0;32m     27\u001b[0m \u001b[43m            \u001b[49m\u001b[38;5;124;43m'\u001b[39;49m\u001b[38;5;124;43m00:00\u001b[39;49m\u001b[38;5;124;43m'\u001b[39;49m\u001b[43m,\u001b[49m\u001b[43m \u001b[49m\u001b[38;5;124;43m'\u001b[39;49m\u001b[38;5;124;43m01:00\u001b[39;49m\u001b[38;5;124;43m'\u001b[39;49m\u001b[43m,\u001b[49m\u001b[43m \u001b[49m\u001b[38;5;124;43m'\u001b[39;49m\u001b[38;5;124;43m02:00\u001b[39;49m\u001b[38;5;124;43m'\u001b[39;49m\u001b[43m,\u001b[49m\n\u001b[0;32m     28\u001b[0m \u001b[43m            \u001b[49m\u001b[38;5;124;43m'\u001b[39;49m\u001b[38;5;124;43m03:00\u001b[39;49m\u001b[38;5;124;43m'\u001b[39;49m\u001b[43m,\u001b[49m\u001b[43m \u001b[49m\u001b[38;5;124;43m'\u001b[39;49m\u001b[38;5;124;43m04:00\u001b[39;49m\u001b[38;5;124;43m'\u001b[39;49m\u001b[43m,\u001b[49m\u001b[43m \u001b[49m\u001b[38;5;124;43m'\u001b[39;49m\u001b[38;5;124;43m05:00\u001b[39;49m\u001b[38;5;124;43m'\u001b[39;49m\u001b[43m,\u001b[49m\n\u001b[0;32m     29\u001b[0m \u001b[43m            \u001b[49m\u001b[38;5;124;43m'\u001b[39;49m\u001b[38;5;124;43m06:00\u001b[39;49m\u001b[38;5;124;43m'\u001b[39;49m\u001b[43m,\u001b[49m\u001b[43m \u001b[49m\u001b[38;5;124;43m'\u001b[39;49m\u001b[38;5;124;43m07:00\u001b[39;49m\u001b[38;5;124;43m'\u001b[39;49m\u001b[43m,\u001b[49m\u001b[43m \u001b[49m\u001b[38;5;124;43m'\u001b[39;49m\u001b[38;5;124;43m08:00\u001b[39;49m\u001b[38;5;124;43m'\u001b[39;49m\u001b[43m,\u001b[49m\n\u001b[0;32m     30\u001b[0m \u001b[43m            \u001b[49m\u001b[38;5;124;43m'\u001b[39;49m\u001b[38;5;124;43m09:00\u001b[39;49m\u001b[38;5;124;43m'\u001b[39;49m\u001b[43m,\u001b[49m\u001b[43m \u001b[49m\u001b[38;5;124;43m'\u001b[39;49m\u001b[38;5;124;43m10:00\u001b[39;49m\u001b[38;5;124;43m'\u001b[39;49m\u001b[43m,\u001b[49m\u001b[43m \u001b[49m\u001b[38;5;124;43m'\u001b[39;49m\u001b[38;5;124;43m11:00\u001b[39;49m\u001b[38;5;124;43m'\u001b[39;49m\u001b[43m,\u001b[49m\n\u001b[0;32m     31\u001b[0m \u001b[43m            \u001b[49m\u001b[38;5;124;43m'\u001b[39;49m\u001b[38;5;124;43m12:00\u001b[39;49m\u001b[38;5;124;43m'\u001b[39;49m\u001b[43m,\u001b[49m\u001b[43m \u001b[49m\u001b[38;5;124;43m'\u001b[39;49m\u001b[38;5;124;43m13:00\u001b[39;49m\u001b[38;5;124;43m'\u001b[39;49m\u001b[43m,\u001b[49m\u001b[43m \u001b[49m\u001b[38;5;124;43m'\u001b[39;49m\u001b[38;5;124;43m14:00\u001b[39;49m\u001b[38;5;124;43m'\u001b[39;49m\u001b[43m,\u001b[49m\n\u001b[0;32m     32\u001b[0m \u001b[43m            \u001b[49m\u001b[38;5;124;43m'\u001b[39;49m\u001b[38;5;124;43m15:00\u001b[39;49m\u001b[38;5;124;43m'\u001b[39;49m\u001b[43m,\u001b[49m\u001b[43m \u001b[49m\u001b[38;5;124;43m'\u001b[39;49m\u001b[38;5;124;43m16:00\u001b[39;49m\u001b[38;5;124;43m'\u001b[39;49m\u001b[43m,\u001b[49m\u001b[43m \u001b[49m\u001b[38;5;124;43m'\u001b[39;49m\u001b[38;5;124;43m17:00\u001b[39;49m\u001b[38;5;124;43m'\u001b[39;49m\u001b[43m,\u001b[49m\n\u001b[0;32m     33\u001b[0m \u001b[43m            \u001b[49m\u001b[38;5;124;43m'\u001b[39;49m\u001b[38;5;124;43m18:00\u001b[39;49m\u001b[38;5;124;43m'\u001b[39;49m\u001b[43m,\u001b[49m\u001b[43m \u001b[49m\u001b[38;5;124;43m'\u001b[39;49m\u001b[38;5;124;43m19:00\u001b[39;49m\u001b[38;5;124;43m'\u001b[39;49m\u001b[43m,\u001b[49m\u001b[43m \u001b[49m\u001b[38;5;124;43m'\u001b[39;49m\u001b[38;5;124;43m20:00\u001b[39;49m\u001b[38;5;124;43m'\u001b[39;49m\u001b[43m,\u001b[49m\n\u001b[0;32m     34\u001b[0m \u001b[43m            \u001b[49m\u001b[38;5;124;43m'\u001b[39;49m\u001b[38;5;124;43m21:00\u001b[39;49m\u001b[38;5;124;43m'\u001b[39;49m\u001b[43m,\u001b[49m\u001b[43m \u001b[49m\u001b[38;5;124;43m'\u001b[39;49m\u001b[38;5;124;43m22:00\u001b[39;49m\u001b[38;5;124;43m'\u001b[39;49m\u001b[43m,\u001b[49m\u001b[43m \u001b[49m\u001b[38;5;124;43m'\u001b[39;49m\u001b[38;5;124;43m23:00\u001b[39;49m\u001b[38;5;124;43m'\u001b[39;49m\u001b[43m,\u001b[49m\n\u001b[0;32m     35\u001b[0m \u001b[43m        \u001b[49m\u001b[43m]\u001b[49m\u001b[43m,\u001b[49m\n\u001b[0;32m     36\u001b[0m \u001b[43m    \u001b[49m\u001b[43m}\u001b[49m\u001b[43m,\u001b[49m\u001b[43m)\u001b[49m\n\u001b[0;32m     38\u001b[0m     \u001b[38;5;66;03m# Get the location of the file to download\u001b[39;00m\n\u001b[0;32m     39\u001b[0m     url \u001b[38;5;241m=\u001b[39m data\u001b[38;5;241m.\u001b[39mlocation\n",
      "File \u001b[1;32mc:\\Users\\matthias\\miniconda3\\envs\\permaculture\\Lib\\site-packages\\cdsapi\\api.py:364\u001b[0m, in \u001b[0;36mClient.retrieve\u001b[1;34m(self, name, request, target)\u001b[0m\n\u001b[0;32m    363\u001b[0m \u001b[38;5;28;01mdef\u001b[39;00m \u001b[38;5;21mretrieve\u001b[39m(\u001b[38;5;28mself\u001b[39m, name, request, target\u001b[38;5;241m=\u001b[39m\u001b[38;5;28;01mNone\u001b[39;00m):\n\u001b[1;32m--> 364\u001b[0m     result \u001b[38;5;241m=\u001b[39m \u001b[38;5;28;43mself\u001b[39;49m\u001b[38;5;241;43m.\u001b[39;49m\u001b[43m_api\u001b[49m\u001b[43m(\u001b[49m\u001b[38;5;124;43m\"\u001b[39;49m\u001b[38;5;132;43;01m%s\u001b[39;49;00m\u001b[38;5;124;43m/resources/\u001b[39;49m\u001b[38;5;132;43;01m%s\u001b[39;49;00m\u001b[38;5;124;43m\"\u001b[39;49m\u001b[43m \u001b[49m\u001b[38;5;241;43m%\u001b[39;49m\u001b[43m \u001b[49m\u001b[43m(\u001b[49m\u001b[38;5;28;43mself\u001b[39;49m\u001b[38;5;241;43m.\u001b[39;49m\u001b[43murl\u001b[49m\u001b[43m,\u001b[49m\u001b[43m \u001b[49m\u001b[43mname\u001b[49m\u001b[43m)\u001b[49m\u001b[43m,\u001b[49m\u001b[43m \u001b[49m\u001b[43mrequest\u001b[49m\u001b[43m,\u001b[49m\u001b[43m \u001b[49m\u001b[38;5;124;43m\"\u001b[39;49m\u001b[38;5;124;43mPOST\u001b[39;49m\u001b[38;5;124;43m\"\u001b[39;49m\u001b[43m)\u001b[49m\n\u001b[0;32m    365\u001b[0m     \u001b[38;5;28;01mif\u001b[39;00m target \u001b[38;5;129;01mis\u001b[39;00m \u001b[38;5;129;01mnot\u001b[39;00m \u001b[38;5;28;01mNone\u001b[39;00m:\n\u001b[0;32m    366\u001b[0m         result\u001b[38;5;241m.\u001b[39mdownload(target)\n",
      "File \u001b[1;32mc:\\Users\\matthias\\miniconda3\\envs\\permaculture\\Lib\\site-packages\\cdsapi\\api.py:519\u001b[0m, in \u001b[0;36mClient._api\u001b[1;34m(self, url, request, method)\u001b[0m\n\u001b[0;32m    517\u001b[0m             \u001b[38;5;28;01mbreak\u001b[39;00m\n\u001b[0;32m    518\u001b[0m         \u001b[38;5;28mself\u001b[39m\u001b[38;5;241m.\u001b[39merror(\u001b[38;5;124m\"\u001b[39m\u001b[38;5;124m  \u001b[39m\u001b[38;5;132;01m%s\u001b[39;00m\u001b[38;5;124m\"\u001b[39m, n)\n\u001b[1;32m--> 519\u001b[0m     \u001b[38;5;28;01mraise\u001b[39;00m \u001b[38;5;167;01mException\u001b[39;00m(\n\u001b[0;32m    520\u001b[0m         \u001b[38;5;124m\"\u001b[39m\u001b[38;5;132;01m%s\u001b[39;00m\u001b[38;5;124m. \u001b[39m\u001b[38;5;132;01m%s\u001b[39;00m\u001b[38;5;124m.\u001b[39m\u001b[38;5;124m\"\u001b[39m\n\u001b[0;32m    521\u001b[0m         \u001b[38;5;241m%\u001b[39m (reply[\u001b[38;5;124m\"\u001b[39m\u001b[38;5;124merror\u001b[39m\u001b[38;5;124m\"\u001b[39m]\u001b[38;5;241m.\u001b[39mget(\u001b[38;5;124m\"\u001b[39m\u001b[38;5;124mmessage\u001b[39m\u001b[38;5;124m\"\u001b[39m), reply[\u001b[38;5;124m\"\u001b[39m\u001b[38;5;124merror\u001b[39m\u001b[38;5;124m\"\u001b[39m]\u001b[38;5;241m.\u001b[39mget(\u001b[38;5;124m\"\u001b[39m\u001b[38;5;124mreason\u001b[39m\u001b[38;5;124m\"\u001b[39m))\n\u001b[0;32m    522\u001b[0m     )\n\u001b[0;32m    524\u001b[0m \u001b[38;5;28;01mraise\u001b[39;00m \u001b[38;5;167;01mException\u001b[39;00m(\u001b[38;5;124m\"\u001b[39m\u001b[38;5;124mUnknown API state [\u001b[39m\u001b[38;5;132;01m%s\u001b[39;00m\u001b[38;5;124m]\u001b[39m\u001b[38;5;124m\"\u001b[39m \u001b[38;5;241m%\u001b[39m (reply[\u001b[38;5;124m\"\u001b[39m\u001b[38;5;124mstate\u001b[39m\u001b[38;5;124m\"\u001b[39m],))\n",
      "\u001b[1;31mException\u001b[0m: the request you have submitted is not valid. wmo_read_any_from_file: error -11 (Input output problem) l=67108864, len=2076588 (Illegal seek); Mars server task finished in error; Double buffer error: Assertion failed: length == buffers_[i].length_ in run, line 282 of /home/cds/git/mars-server/eckit/src/eckit/io/DblBuffer.cc(RemoteException from Connector[mvr0019,marsmvr-0019:49701]) [mars]; Error code is -2; wmo_read_any_from_file: error -11 (Input output problem) l=67108864, len=2076588 (Illegal seek); Mars server task finished in error; Double buffer error: Assertion failed: length == buffers_[i].length_ in run, line 282 of /home/cds/git/mars-server/eckit/src/eckit/io/DblBuffer.cc(RemoteException from Connector[mvr0019,marsmvr-0019:49701]) [mars]; Error code is -2; wmo_read_any_from_file: error -11 (Input output problem) l=67108864, len=2076588 (Illegal seek); Mars server task finished in error; Double buffer error: Assertion failed: length == buffers_[i].length_ in run, line 282 of /home/cds/git/mars-server/eckit/src/eckit/io/DblBuffer.cc(RemoteException from Connector[mvr0019,marsmvr-0019:49701]) [mars]; Error code is -2; wmo_read_any_from_file: error -11 (Input output problem) l=67108864, len=2076588 (Illegal seek); Mars server task finished in error; Double buffer error: Assertion failed: length == buffers_[i].length_ in run, line 282 of /home/cds/git/mars-server/eckit/src/eckit/io/DblBuffer.cc(RemoteException from Connector[mvr0019,marsmvr-0019:49701]) [mars]; Error code is -2; wmo_read_any_from_file: error -11 (Input output problem) l=67108864, len=2076588 (Illegal seek); Mars server task finished in error; Double buffer error: Assertion failed: length == buffers_[i].length_ in run, line 282 of /home/cds/git/mars-server/eckit/src/eckit/io/DblBuffer.cc(RemoteException from Connector[mvr0019,marsmvr-0019:49701]) [mars]; Error code is -2; wmo_read_any_from_file: error -11 (Input output problem) l=67108864, len=2076588 (Illegal seek); Mars server task finished in error; Double buffer error: Assertion failed: length == buffers_[i].length_ in run, line 282 of /home/cds/git/mars-server/eckit/src/eckit/io/DblBuffer.cc(RemoteException from Connector[mvr0019,marsmvr-0019:49701]) [mars]; Error code is -2; Request failed; Some errors reported (last error -2)."
     ]
    }
   ],
   "source": [
    "#API Call to download past climate data\n",
    "c = cdsapi.Client()\n",
    "try:\n",
    "    data = c.retrieve(\n",
    "    'reanalysis-era5-single-levels-monthly-means',\n",
    "    {\n",
    "        'format': 'grib',\n",
    "        'product_type': 'monthly_averaged_reanalysis_by_hour_of_day',\n",
    "        'variable': [\n",
    "            '10m_u_component_of_wind', '10m_v_component_of_wind', '2m_dewpoint_temperature',\n",
    "            '2m_temperature', 'total_cloud_cover', 'total_precipitation',\n",
    "        ],\n",
    "    \"year\": year_range,\n",
    "        'month': [\n",
    "            '01', '02', '03',\n",
    "            '04', '05', '06',\n",
    "            '07', '08', '09',\n",
    "            '10', '11', '12',\n",
    "        ],\n",
    "        'area': [\n",
    "            71, \n",
    "            -14, \n",
    "            31,\n",
    "            46,\n",
    "        ],  # North, West, South, East. \n",
    "        'time': [\n",
    "            '00:00', '01:00', '02:00',\n",
    "            '03:00', '04:00', '05:00',\n",
    "            '06:00', '07:00', '08:00',\n",
    "            '09:00', '10:00', '11:00',\n",
    "            '12:00', '13:00', '14:00',\n",
    "            '15:00', '16:00', '17:00',\n",
    "            '18:00', '19:00', '20:00',\n",
    "            '21:00', '22:00', '23:00',\n",
    "        ],\n",
    "    },)\n",
    "\n",
    "    # Get the location of the file to download\n",
    "    url = data.location\n",
    "\n",
    "    # Download the file\n",
    "    response = requests.get(url)\n",
    "\n",
    "    # Check if the request was successful\n",
    "    response.raise_for_status()\n",
    "\n",
    "except requests.exceptions.HTTPError as errh:\n",
    "    print (\"HTTP Error:\",errh)\n",
    "except requests.exceptions.ConnectionError as errc:\n",
    "    print (\"Error Connecting:\",errc)\n",
    "except requests.exceptions.Timeout as errt:\n",
    "    print (\"Timeout Error:\",errt)\n",
    "except requests.exceptions.RequestException as err:\n",
    "    print (\"Something went wrong with the request:\",err)\n",
    "\n",
    "else:\n",
    "    # If the request was successful, write the file \n",
    "    filename = 'past_climate_EU.grib'\n",
    "    with open(filename, 'wb') as f:\n",
    "        f.write(response.content)\n",
    "\n",
    "    # Print the location where the file is saved\n",
    "    print(f\"File saved at: {os.path.abspath(filename)}\")"
   ]
  },
  {
   "cell_type": "code",
   "execution_count": 3,
   "metadata": {},
   "outputs": [],
   "source": [
    "# select the future years range\n",
    "start_year_forecast = 2016\n",
    "end_year_forecast = 2046\n",
    "year_range_forecast = [str(i) for i in range(start_year_forecast, end_year_forecast + 1)]\n",
    "#select the scenario you want to use for the projections.\n",
    "#We reccomend ssp2_4_5, which is in our opinion a balanced options. \n",
    "# ssp1_1_9 ssp1_2_6 ssp4_3_4, ssp5_3_4os ssp2_4_5 ssp3_7_0 ssp5_8_5\n",
    "#Note that if you choose the ssp4_6_0 parameter you also have to select another model in the API request as EC Earth3 doesnt provide that model. \n",
    "\n",
    "experiment = 'ssp2_4_5'\n",
    "#variables that will be downloaded\n",
    "pred_dataset_variables = ['near_surface_relative_humidity', 'near_surface_air_temperature', 'eastward_near_surface_wind', \n",
    "                     'northward_near_surface_wind', 'precipitation']\n"
   ]
  },
  {
   "cell_type": "code",
   "execution_count": 4,
   "metadata": {},
   "outputs": [
    {
     "name": "stdout",
     "output_type": "stream",
     "text": [
      "starting to download near_surface_relative_humidity\n"
     ]
    },
    {
     "name": "stderr",
     "output_type": "stream",
     "text": [
      "2024-01-08 13:47:56,721 INFO Welcome to the CDS\n",
      "2024-01-08 13:47:56,723 INFO Sending request to https://cds.climate.copernicus.eu/api/v2/resources/projections-cmip6\n",
      "2024-01-08 13:47:56,847 INFO Request is queued\n",
      "2024-01-08 13:47:57,905 INFO Request is running\n",
      "2024-01-08 13:48:17,982 INFO Request is completed\n",
      "2024-01-08 13:48:17,987 INFO Downloading https://download-0017.copernicus-climate.eu/cache-compute-0017/cache/data4/adaptor.esgf_wps.retrieve-1704718091.9406297-28390-17-85f76153-134e-4f97-b06d-1c9b5c0d4a71.zip to near_surface_relative_humidity.zip (6.5M)\n",
      "2024-01-08 13:48:22,535 INFO Download rate 1.4M/s   \n",
      "2024-01-08 13:48:26,449 INFO Welcome to the CDS\n",
      "2024-01-08 13:48:26,453 INFO Sending request to https://cds.climate.copernicus.eu/api/v2/resources/projections-cmip6\n"
     ]
    },
    {
     "name": "stdout",
     "output_type": "stream",
     "text": [
      "File saved at: c:\\Users\\matthias\\Documents\\Projects\\permaculture-climate\\src\\data\\near_surface_relative_humidity.zip\n",
      "starting to download near_surface_air_temperature\n"
     ]
    },
    {
     "name": "stderr",
     "output_type": "stream",
     "text": [
      "2024-01-08 13:48:26,591 INFO Request is queued\n",
      "2024-01-08 13:48:27,652 INFO Request is running\n",
      "2024-01-08 13:48:47,833 INFO Request is completed\n",
      "2024-01-08 13:48:47,835 INFO Downloading https://download-0017.copernicus-climate.eu/cache-compute-0017/cache/data4/adaptor.esgf_wps.retrieve-1704718121.8213434-3852-16-69ec0a09-0e28-4d54-8586-8b941d43b008.zip to near_surface_air_temperature.zip (5.9M)\n",
      "2024-01-08 13:48:49,545 INFO Download rate 3.5M/s   \n",
      "2024-01-08 13:48:56,273 INFO Welcome to the CDS\n",
      "2024-01-08 13:48:56,276 INFO Sending request to https://cds.climate.copernicus.eu/api/v2/resources/projections-cmip6\n",
      "2024-01-08 13:48:56,350 INFO Request is queued\n"
     ]
    },
    {
     "name": "stdout",
     "output_type": "stream",
     "text": [
      "File saved at: c:\\Users\\matthias\\Documents\\Projects\\permaculture-climate\\src\\data\\near_surface_air_temperature.zip\n",
      "starting to download eastward_near_surface_wind\n"
     ]
    },
    {
     "name": "stderr",
     "output_type": "stream",
     "text": [
      "2024-01-08 13:48:57,410 INFO Request is running\n",
      "2024-01-08 13:49:17,479 INFO Request is completed\n",
      "2024-01-08 13:49:17,482 INFO Downloading https://download-0010-clone.copernicus-climate.eu/cache-compute-0010/cache/data9/adaptor.esgf_wps.retrieve-1704718151.5039372-29298-10-c91a221d-58bd-4146-b971-20f9268c3203.zip to eastward_near_surface_wind.zip (7M)\n",
      "2024-01-08 13:49:22,786 INFO Download rate 1.3M/s   \n",
      "2024-01-08 13:49:27,733 INFO Welcome to the CDS\n",
      "2024-01-08 13:49:27,739 INFO Sending request to https://cds.climate.copernicus.eu/api/v2/resources/projections-cmip6\n"
     ]
    },
    {
     "name": "stdout",
     "output_type": "stream",
     "text": [
      "File saved at: c:\\Users\\matthias\\Documents\\Projects\\permaculture-climate\\src\\data\\eastward_near_surface_wind.zip\n",
      "starting to download northward_near_surface_wind\n"
     ]
    },
    {
     "name": "stderr",
     "output_type": "stream",
     "text": [
      "2024-01-08 13:49:27,881 INFO Request is queued\n",
      "2024-01-08 13:49:28,962 INFO Request is running\n",
      "2024-01-08 13:57:53,811 INFO Request is queued\n",
      "2024-01-08 13:59:56,158 INFO Request is running\n",
      "2024-01-08 14:16:15,749 INFO Request is completed\n",
      "2024-01-08 14:16:15,752 INFO Downloading https://download-0007-clone.copernicus-climate.eu/cache-compute-0007/cache/data4/adaptor.esgf_wps.retrieve-1704719731.6539087-30929-4-3f8ba805-0d9d-4e38-bade-44e97c6bc250.zip to northward_near_surface_wind.zip (7.1M)\n",
      "2024-01-08 14:16:20,223 INFO Download rate 1.6M/s   \n",
      "2024-01-08 14:16:24,682 INFO Welcome to the CDS\n",
      "2024-01-08 14:16:24,685 INFO Sending request to https://cds.climate.copernicus.eu/api/v2/resources/projections-cmip6\n",
      "2024-01-08 14:16:24,802 INFO Request is queued\n"
     ]
    },
    {
     "name": "stdout",
     "output_type": "stream",
     "text": [
      "File saved at: c:\\Users\\matthias\\Documents\\Projects\\permaculture-climate\\src\\data\\northward_near_surface_wind.zip\n",
      "starting to download precipitation\n"
     ]
    },
    {
     "name": "stderr",
     "output_type": "stream",
     "text": [
      "2024-01-08 14:16:25,860 INFO Request is running\n",
      "2024-01-08 14:51:17,449 INFO Request is completed\n",
      "2024-01-08 14:51:17,452 INFO Downloading https://download-0007-clone.copernicus-climate.eu/cache-compute-0007/cache/data4/adaptor.esgf_wps.retrieve-1704721762.1241958-31366-4-1d53562d-06a7-421a-8032-62f684e5e463.zip to precipitation.zip (6.9M)\n",
      "2024-01-08 14:51:21,791 INFO Download rate 1.6M/s   \n"
     ]
    },
    {
     "name": "stdout",
     "output_type": "stream",
     "text": [
      "File saved at: c:\\Users\\matthias\\Documents\\Projects\\permaculture-climate\\src\\data\\precipitation.zip\n",
      "Downloads completed\n"
     ]
    }
   ],
   "source": [
    "# Send API requests for the prediction data specified in dataset_variables. Each request returns a folder.zip\n",
    "c = cdsapi.Client()\n",
    "\n",
    "for variable in pred_dataset_variables:\n",
    "        #create an if statement, as certain variables also include level, while others dont\n",
    "    print(f'starting to download {variable}')\n",
    "    data = c.retrieve(\n",
    "        'projections-cmip6',\n",
    "        {\n",
    "            'format': 'zip',\n",
    "            'temporal_resolution': 'monthly',\n",
    "            'experiment': experiment,\n",
    "            'variable': variable,\n",
    "            'model': 'ec_earth3_cc',\n",
    "            'area':[71, \n",
    "                    -14, \n",
    "                    31, \n",
    "                    46],  # North, West, South, East. \n",
    "            'month': [\n",
    "                '01', '02', '03',\n",
    "                '04', '05', '06',\n",
    "                '07', '08', '09',\n",
    "                '10', '11', '12',\n",
    "            ],\n",
    "            'year': year_range_forecast,\n",
    "\n",
    "        },\n",
    "        variable + '.zip')    \n",
    "    #selectt the location of the file to download\n",
    "    url = data.location\n",
    "    # Download the file\n",
    "    response = requests.get(url)\n",
    "    # Check if the request was successful\n",
    "    response.raise_for_status()\n",
    "\n",
    "    # If the request was successful, write the file\n",
    "    filename = variable + '.zip'\n",
    "    with open(filename, 'wb') as f:\n",
    "        f.write(response.content)\n",
    "\n",
    "        # Print the location where the file is saved\n",
    "        print(f\"File saved at: {os.path.abspath(filename)}\")\n",
    "print('Downloads completed')"
   ]
  }
 ],
 "metadata": {
  "kernelspec": {
   "display_name": "permaculture",
   "language": "python",
   "name": "python3"
  },
  "language_info": {
   "codemirror_mode": {
    "name": "ipython",
    "version": 3
   },
   "file_extension": ".py",
   "mimetype": "text/x-python",
   "name": "python",
   "nbconvert_exporter": "python",
   "pygments_lexer": "ipython3",
   "version": "3.12.0"
  }
 },
 "nbformat": 4,
 "nbformat_minor": 2
}

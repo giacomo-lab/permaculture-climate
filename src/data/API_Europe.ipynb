{
 "cells": [
  {
   "cell_type": "code",
   "execution_count": 1,
   "metadata": {},
   "outputs": [],
   "source": [
    "import cdsapi\n",
    "import requests\n",
    "import os\n",
    "import zipfile"
   ]
  },
  {
   "cell_type": "code",
   "execution_count": 2,
   "metadata": {},
   "outputs": [],
   "source": [
    "start_year = 1992\n",
    "end_year = 2022\n",
    "year_range = [i for i in range(start_year, end_year + 1)]"
   ]
  },
  {
   "cell_type": "code",
   "execution_count": 3,
   "metadata": {},
   "outputs": [
    {
     "name": "stderr",
     "output_type": "stream",
     "text": [
      "2024-01-15 20:34:59,221 INFO Welcome to the CDS\n",
      "2024-01-15 20:34:59,224 INFO Sending request to https://cds.climate.copernicus.eu/api/v2/resources/reanalysis-era5-single-levels-monthly-means\n",
      "2024-01-15 20:34:59,441 INFO Request is completed\n"
     ]
    },
    {
     "name": "stdout",
     "output_type": "stream",
     "text": [
      "File saved at: c:\\Users\\matthias\\Documents\\Projects\\permaculture-climate\\src\\data\\past_climate_EU.grib\n"
     ]
    }
   ],
   "source": [
    "#API Call to download past climate data\n",
    "c = cdsapi.Client()\n",
    "try:\n",
    "    data = c.retrieve(\n",
    "    'reanalysis-era5-single-levels-monthly-means',\n",
    "    {\n",
    "        'format': 'grib',\n",
    "        'product_type': 'monthly_averaged_reanalysis_by_hour_of_day',\n",
    "\n",
    "        \"variable\": ['10m_u_component_of_wind', '10m_v_component_of_wind', \n",
    "                '2m_temperature',\n",
    "                'total_cloud_cover', \n",
    "                'total_precipitation',\n",
    "                '2m_dewpoint_temperature',\n",
    "                ],\n",
    "    \"year\": year_range,\n",
    "        'month': [\n",
    "            '01', '02', '03',\n",
    "            '04', '05', '06',\n",
    "            '07', '08', '09',\n",
    "            '10', '11', '12',\n",
    "        ],\n",
    "        'area': [\n",
    "            71, \n",
    "            -14, \n",
    "            31,\n",
    "            46,\n",
    "        ],  # North, West, South, East. \n",
    "        'time': [\n",
    "            '00:00', '01:00', '02:00',\n",
    "            '03:00', '04:00', '05:00',\n",
    "            '06:00', '07:00', '08:00',\n",
    "            '09:00', '10:00', '11:00',\n",
    "            '12:00', '13:00', '14:00',\n",
    "            '15:00', '16:00', '17:00',\n",
    "            '18:00', '19:00', '20:00',\n",
    "            '21:00', '22:00', '23:00',\n",
    "        ],\n",
    "    },)\n",
    "\n",
    "    # Get the location of the file to download\n",
    "    url = data.location\n",
    "\n",
    "    # Download the file\n",
    "    response = requests.get(url)\n",
    "\n",
    "    # Check if the request was successful\n",
    "    response.raise_for_status()\n",
    "\n",
    "except requests.exceptions.HTTPError as errh:\n",
    "    print (\"HTTP Error:\",errh)\n",
    "except requests.exceptions.ConnectionError as errc:\n",
    "    print (\"Error Connecting:\",errc)\n",
    "except requests.exceptions.Timeout as errt:\n",
    "    print (\"Timeout Error:\",errt)\n",
    "except requests.exceptions.RequestException as err:\n",
    "    print (\"Something went wrong with the request:\",err)\n",
    "\n",
    "else:\n",
    "    # If the request was successful, write the file \n",
    "    filename = 'past_climate_EU.grib'\n",
    "    with open(filename, 'wb') as f:\n",
    "        f.write(response.content)\n",
    "\n",
    "    # Print the location where the file is saved\n",
    "    print(f\"File saved at: {os.path.abspath(filename)}\")"
   ]
  },
  {
   "cell_type": "code",
   "execution_count": 5,
   "metadata": {},
   "outputs": [],
   "source": [
    "# select the future years range\n",
    "start_year_forecast = 2016\n",
    "end_year_forecast = 2046\n",
    "year_range_forecast = [str(i) for i in range(start_year_forecast, end_year_forecast + 1)]\n",
    "#select the scenario you want to use for the projections.\n",
    "#We reccomend ssp2_4_5, which is in our opinion a balanced options. \n",
    "# ssp1_1_9 ssp1_2_6 ssp4_3_4, ssp5_3_4os ssp2_4_5 ssp3_7_0 ssp5_8_5\n",
    "#Note that if you choose the ssp4_6_0 parameter you also have to select another model in the API request as EC Earth3 doesnt provide that model. \n",
    "\n",
    "experiment = 'ssp2_4_5'\n",
    "#variables that will be downloaded\n",
    "pred_dataset_variables = ['near_surface_relative_humidity', 'near_surface_air_temperature', 'eastward_near_surface_wind', \n",
    "                     'northward_near_surface_wind', 'precipitation']\n"
   ]
  },
  {
   "cell_type": "code",
   "execution_count": 4,
   "metadata": {},
   "outputs": [
    {
     "name": "stdout",
     "output_type": "stream",
     "text": [
      "starting to download near_surface_relative_humidity\n"
     ]
    },
    {
     "name": "stderr",
     "output_type": "stream",
     "text": [
      "2024-01-08 13:47:56,721 INFO Welcome to the CDS\n",
      "2024-01-08 13:47:56,723 INFO Sending request to https://cds.climate.copernicus.eu/api/v2/resources/projections-cmip6\n",
      "2024-01-08 13:47:56,847 INFO Request is queued\n",
      "2024-01-08 13:47:57,905 INFO Request is running\n",
      "2024-01-08 13:48:17,982 INFO Request is completed\n",
      "2024-01-08 13:48:17,987 INFO Downloading https://download-0017.copernicus-climate.eu/cache-compute-0017/cache/data4/adaptor.esgf_wps.retrieve-1704718091.9406297-28390-17-85f76153-134e-4f97-b06d-1c9b5c0d4a71.zip to near_surface_relative_humidity.zip (6.5M)\n",
      "2024-01-08 13:48:22,535 INFO Download rate 1.4M/s   \n",
      "2024-01-08 13:48:26,449 INFO Welcome to the CDS\n",
      "2024-01-08 13:48:26,453 INFO Sending request to https://cds.climate.copernicus.eu/api/v2/resources/projections-cmip6\n"
     ]
    },
    {
     "name": "stdout",
     "output_type": "stream",
     "text": [
      "File saved at: c:\\Users\\matthias\\Documents\\Projects\\permaculture-climate\\src\\data\\near_surface_relative_humidity.zip\n",
      "starting to download near_surface_air_temperature\n"
     ]
    },
    {
     "name": "stderr",
     "output_type": "stream",
     "text": [
      "2024-01-08 13:48:26,591 INFO Request is queued\n",
      "2024-01-08 13:48:27,652 INFO Request is running\n",
      "2024-01-08 13:48:47,833 INFO Request is completed\n",
      "2024-01-08 13:48:47,835 INFO Downloading https://download-0017.copernicus-climate.eu/cache-compute-0017/cache/data4/adaptor.esgf_wps.retrieve-1704718121.8213434-3852-16-69ec0a09-0e28-4d54-8586-8b941d43b008.zip to near_surface_air_temperature.zip (5.9M)\n",
      "2024-01-08 13:48:49,545 INFO Download rate 3.5M/s   \n",
      "2024-01-08 13:48:56,273 INFO Welcome to the CDS\n",
      "2024-01-08 13:48:56,276 INFO Sending request to https://cds.climate.copernicus.eu/api/v2/resources/projections-cmip6\n",
      "2024-01-08 13:48:56,350 INFO Request is queued\n"
     ]
    },
    {
     "name": "stdout",
     "output_type": "stream",
     "text": [
      "File saved at: c:\\Users\\matthias\\Documents\\Projects\\permaculture-climate\\src\\data\\near_surface_air_temperature.zip\n",
      "starting to download eastward_near_surface_wind\n"
     ]
    },
    {
     "name": "stderr",
     "output_type": "stream",
     "text": [
      "2024-01-08 13:48:57,410 INFO Request is running\n",
      "2024-01-08 13:49:17,479 INFO Request is completed\n",
      "2024-01-08 13:49:17,482 INFO Downloading https://download-0010-clone.copernicus-climate.eu/cache-compute-0010/cache/data9/adaptor.esgf_wps.retrieve-1704718151.5039372-29298-10-c91a221d-58bd-4146-b971-20f9268c3203.zip to eastward_near_surface_wind.zip (7M)\n",
      "2024-01-08 13:49:22,786 INFO Download rate 1.3M/s   \n",
      "2024-01-08 13:49:27,733 INFO Welcome to the CDS\n",
      "2024-01-08 13:49:27,739 INFO Sending request to https://cds.climate.copernicus.eu/api/v2/resources/projections-cmip6\n"
     ]
    },
    {
     "name": "stdout",
     "output_type": "stream",
     "text": [
      "File saved at: c:\\Users\\matthias\\Documents\\Projects\\permaculture-climate\\src\\data\\eastward_near_surface_wind.zip\n",
      "starting to download northward_near_surface_wind\n"
     ]
    },
    {
     "name": "stderr",
     "output_type": "stream",
     "text": [
      "2024-01-08 13:49:27,881 INFO Request is queued\n",
      "2024-01-08 13:49:28,962 INFO Request is running\n",
      "2024-01-08 13:57:53,811 INFO Request is queued\n",
      "2024-01-08 13:59:56,158 INFO Request is running\n",
      "2024-01-08 14:16:15,749 INFO Request is completed\n",
      "2024-01-08 14:16:15,752 INFO Downloading https://download-0007-clone.copernicus-climate.eu/cache-compute-0007/cache/data4/adaptor.esgf_wps.retrieve-1704719731.6539087-30929-4-3f8ba805-0d9d-4e38-bade-44e97c6bc250.zip to northward_near_surface_wind.zip (7.1M)\n",
      "2024-01-08 14:16:20,223 INFO Download rate 1.6M/s   \n",
      "2024-01-08 14:16:24,682 INFO Welcome to the CDS\n",
      "2024-01-08 14:16:24,685 INFO Sending request to https://cds.climate.copernicus.eu/api/v2/resources/projections-cmip6\n",
      "2024-01-08 14:16:24,802 INFO Request is queued\n"
     ]
    },
    {
     "name": "stdout",
     "output_type": "stream",
     "text": [
      "File saved at: c:\\Users\\matthias\\Documents\\Projects\\permaculture-climate\\src\\data\\northward_near_surface_wind.zip\n",
      "starting to download precipitation\n"
     ]
    },
    {
     "name": "stderr",
     "output_type": "stream",
     "text": [
      "2024-01-08 14:16:25,860 INFO Request is running\n",
      "2024-01-08 14:51:17,449 INFO Request is completed\n",
      "2024-01-08 14:51:17,452 INFO Downloading https://download-0007-clone.copernicus-climate.eu/cache-compute-0007/cache/data4/adaptor.esgf_wps.retrieve-1704721762.1241958-31366-4-1d53562d-06a7-421a-8032-62f684e5e463.zip to precipitation.zip (6.9M)\n",
      "2024-01-08 14:51:21,791 INFO Download rate 1.6M/s   \n"
     ]
    },
    {
     "name": "stdout",
     "output_type": "stream",
     "text": [
      "File saved at: c:\\Users\\matthias\\Documents\\Projects\\permaculture-climate\\src\\data\\precipitation.zip\n",
      "Downloads completed\n"
     ]
    }
   ],
   "source": [
    "# Send API requests for the prediction data specified in dataset_variables. Each request returns a folder.zip\n",
    "c = cdsapi.Client()\n",
    "\n",
    "for variable in pred_dataset_variables:\n",
    "        #create an if statement, as certain variables also include level, while others dont\n",
    "    print(f'starting to download {variable}')\n",
    "    data = c.retrieve(\n",
    "        'projections-cmip6',\n",
    "        {\n",
    "            'format': 'zip',\n",
    "            'temporal_resolution': 'monthly',\n",
    "            'experiment': experiment,\n",
    "            'variable': variable,\n",
    "            'model': 'ec_earth3_cc',\n",
    "            'area':[71, \n",
    "                    -14, \n",
    "                    31, \n",
    "                    46],  # North, West, South, East. \n",
    "            'month': [\n",
    "                '01', '02', '03',\n",
    "                '04', '05', '06',\n",
    "                '07', '08', '09',\n",
    "                '10', '11', '12',\n",
    "            ],\n",
    "            'year': year_range_forecast,\n",
    "\n",
    "        },\n",
    "        variable + '.zip')    \n",
    "    #selectt the location of the file to download\n",
    "    url = data.location\n",
    "    # Download the file\n",
    "    response = requests.get(url)\n",
    "    # Check if the request was successful\n",
    "    response.raise_for_status()\n",
    "\n",
    "    # If the request was successful, write the file\n",
    "    filename = variable + '.zip'\n",
    "    with open(filename, 'wb') as f:\n",
    "        f.write(response.content)\n",
    "\n",
    "        # Print the location where the file is saved\n",
    "        print(f\"File saved at: {os.path.abspath(filename)}\")\n",
    "print('Downloads completed')"
   ]
  },
  {
   "cell_type": "code",
   "execution_count": 6,
   "metadata": {},
   "outputs": [],
   "source": [
    "extract_dir='prediction_data/'\n",
    "\n",
    "# check if the folder already exist, if yes, delete files inside the folder\n",
    "if os.path.exists(extract_dir):\n",
    "    for file_name in os.listdir(extract_dir):\n",
    "        file_path = os.path.join(extract_dir, file_name)\n",
    "        if os.path.isfile(file_path):\n",
    "            os.unlink(file_path)\n",
    "# If not, create the folder\n",
    "else:\n",
    "    os.makedirs(extract_dir)\n",
    "\n",
    "#extract and rename nc files from the zip folders into the new folder\n",
    "for zip_file in os.listdir():\n",
    "    #get zip folder paths\n",
    "    if zip_file.endswith('.zip'):\n",
    "        folder_name = os.path.splitext(zip_file)[0]       \n",
    "        zip_file_path = os.path.join(os.getcwd(), zip_file)\n",
    "\n",
    "        # Extract only the .nc file\n",
    "        with zipfile.ZipFile(zip_file_path, 'r') as zip_ref:\n",
    "            \n",
    "            for file_info in zip_ref.infolist():\n",
    "                # Extract only .nc files\n",
    "                if file_info.filename.endswith('.nc'):\n",
    "                    zip_ref.extract(file_info, extract_dir)               \n",
    "                    \n",
    "                    old_path = os.path.join(extract_dir, file_info.filename)\n",
    "                    new_path = os.path.join(extract_dir, f'{folder_name}-{experiment}_{start_year_forecast}_{end_year_forecast}.nc')\n",
    "                    os.rename(old_path, new_path)"
   ]
  }
 ],
 "metadata": {
  "kernelspec": {
   "display_name": "permaculture",
   "language": "python",
   "name": "python3"
  },
  "language_info": {
   "codemirror_mode": {
    "name": "ipython",
    "version": 3
   },
   "file_extension": ".py",
   "mimetype": "text/x-python",
   "name": "python",
   "nbconvert_exporter": "python",
   "pygments_lexer": "ipython3",
   "version": "3.12.0"
  }
 },
 "nbformat": 4,
 "nbformat_minor": 2
}
